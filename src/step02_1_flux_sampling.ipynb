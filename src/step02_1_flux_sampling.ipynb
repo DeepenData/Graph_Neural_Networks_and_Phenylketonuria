{
 "cells": [
  {
   "cell_type": "code",
   "execution_count": 1,
   "metadata": {},
   "outputs": [
    {
     "name": "stderr",
     "output_type": "stream",
     "text": [
      "No defined compartments in model model. Compartments will be deduced heuristically using regular expressions.\n",
      "Using regular expression found the following compartments:c, e, g, i, l, m, n, r, x\n"
     ]
    }
   ],
   "source": [
    "import cobra\n",
    "from cobra.io.mat import *\n",
    "import warnings\n",
    "warnings.simplefilter('ignore')\n",
    "#from cobra.sampling import sample\n",
    "from cobra.sampling import OptGPSampler, ACHRSampler\n",
    "import os\n",
    "cpus = os.cpu_count()\n",
    "from cobra.io.json import load_json_model\n",
    "#model = load_matlab_model(\"./COBRA_models/GEM_Recon2_thermocurated_redHUMAN.mat\")\n",
    "model = load_matlab_model(\"./COBRA_models/GEM_Recon3_thermocurated_redHUMAN_AA.mat\")\n"
   ]
  },
  {
   "cell_type": "code",
   "execution_count": 2,
   "metadata": {},
   "outputs": [
    {
     "name": "stdout",
     "output_type": "stream",
     "text": [
      "Number of reactions: 10602\n",
      "Number of metabolites: 5835\n",
      "Number of compartments: 9\n"
     ]
    }
   ],
   "source": [
    "print(f'Number of reactions: {model.reactions.__len__()}')\n",
    "print(f'Number of metabolites: {model.metabolites.__len__()}')\n",
    "print(f'Number of compartments: {model.compartments.__len__()}')"
   ]
  },
  {
   "cell_type": "code",
   "execution_count": 3,
   "metadata": {},
   "outputs": [
    {
     "data": {
      "text/latex": [
       "$\\displaystyle 1.0 \\cdot biomass - 1.0 \\cdot biomass_{reverse 01e59}$"
      ],
      "text/plain": [
       "1.0*biomass - 1.0*biomass_reverse_01e59"
      ]
     },
     "execution_count": 3,
     "metadata": {},
     "output_type": "execute_result"
    }
   ],
   "source": [
    "model.objective.expression"
   ]
  },
  {
   "cell_type": "code",
   "execution_count": 4,
   "metadata": {},
   "outputs": [],
   "source": [
    "\n",
    "#recon301 =load_matlab_model(\"./COBRA_models/Recon3DModel_301.mat\")\n",
    "model.reactions.get_by_id('biomass_maintenance').bounds = 0, 0\n",
    "model.reactions.get_by_id('biomass').bounds             = .5*model.optimize().objective_value, 100\n",
    "model.objective = 'r0399'\n",
    "model.reactions.get_by_id(\"r0399\").bounds = (0, 1e5)\n",
    "model.reactions.get_by_id(\"PHETHPTOX2\").bounds = (0, 0.0)"
   ]
  },
  {
   "cell_type": "code",
   "execution_count": 5,
   "metadata": {},
   "outputs": [
    {
     "data": {
      "text/plain": [
       "[(0, 0), (0, 0)]"
      ]
     },
     "execution_count": 5,
     "metadata": {},
     "output_type": "execute_result"
    }
   ],
   "source": [
    "def turn_off_rxn(rxn_id):\n",
    "    model.reactions.get_by_id(rxn_id).bounds       = (0, 0)\n",
    "   \n",
    "    return model.reactions.get_by_id(rxn_id).bounds \n",
    "    \n",
    "\n",
    "\n",
    "list(map(turn_off_rxn, [r.id for r in model.metabolites.get_by_id(\"tyr_L_e\").reactions]))\n",
    "list(map(turn_off_rxn, [r.id for r in model.metabolites.get_by_id(\"dhbpt_e\").reactions]))\n",
    "list(map(turn_off_rxn, [r.id for r in model.metabolites.get_by_id(\"thbpt_e\").reactions]))"
   ]
  },
  {
   "cell_type": "code",
   "execution_count": 6,
   "metadata": {},
   "outputs": [
    {
     "data": {
      "text/plain": [
       "['5mthf_c + dhbpt_c --> mlthf_c + thbpt_c',\n",
       " 'thbpt4acam_c --> dhbpt_c + h2o_c',\n",
       " 'o2_c + thbpt_c + trp_L_c --> 5htrp_c + dhbpt_c + h2o_c',\n",
       " 'dhbpt_c + 2.0 h_c + nadh_c --> nad_c + thbpt_c',\n",
       " 'dhbpt_c + 2.0 h_c + nadph_c --> nadp_c + thbpt_c',\n",
       " 'o2_c + thbpt_c + tyr_L_c --> 34dhphe_c + dhbpt_c + h2o_c']"
      ]
     },
     "execution_count": 6,
     "metadata": {},
     "output_type": "execute_result"
    }
   ],
   "source": [
    "import itertools\n",
    "\n",
    "\n",
    "regulatory_reactions = model.optimize().reduced_costs.loc[lambda x: abs(x)>1e-12].index.tolist()\n",
    "regulatory_reactions = list(\n",
    "itertools.compress(regulatory_reactions, \n",
    "                   np.invert(abs(np.array([list(model.reactions.get_by_id(rr).bounds) for rr in regulatory_reactions]\n",
    ")).sum(axis=1) == 0)))\n",
    "      \n",
    "[model.reactions.get_by_id(rr).reaction for rr in regulatory_reactions]"
   ]
  },
  {
   "cell_type": "code",
   "execution_count": 7,
   "metadata": {},
   "outputs": [
    {
     "data": {
      "text/plain": [
       "100.5"
      ]
     },
     "execution_count": 7,
     "metadata": {},
     "output_type": "execute_result"
    }
   ],
   "source": [
    "def set_rxn_bounds(rxn_id):\n",
    "    model.reactions.get_by_id(rxn_id).bounds       = (0, 33.5)\n",
    "    \n",
    "    return model.reactions.get_by_id(rxn_id).bounds \n",
    "\n",
    "\n",
    "list(map(set_rxn_bounds, regulatory_reactions))\n",
    "\n",
    "model.optimize().objective_value"
   ]
  },
  {
   "cell_type": "code",
   "execution_count": 8,
   "metadata": {},
   "outputs": [],
   "source": [
    "from cobra.sampling import OptGPSampler\n",
    "\n",
    "\n",
    "##HEALTHY\n",
    "model.reactions.get_by_id(\"r0399\").bounds       = (99, model.optimize().objective_value)\n",
    "model.reactions.get_by_id(\"PHETHPTOX2\").bounds  = (0, 0)\n",
    "\n",
    "\n",
    "\n",
    "optgp = OptGPSampler(model, processes=os.cpu_count(), thinning=500)\n",
    "samples = optgp.sample(20_000)\n",
    "samples.to_parquet(\"./results/fluxes/flux_samples_CONTROL_20_000.parquet.gzip\", compression='gzip')  "
   ]
  },
  {
   "cell_type": "code",
   "execution_count": 9,
   "metadata": {},
   "outputs": [],
   "source": [
    "##PKU\n",
    "model.reactions.get_by_id(\"r0399\").bounds       = (0, 5)\n",
    "model.reactions.get_by_id(\"PHETHPTOX2\").bounds  = (0, 0)\n",
    "\n",
    "\n",
    "\n",
    "optgp = OptGPSampler(model, processes=os.cpu_count(), thinning=500)\n",
    "samples_pku = optgp.sample(20_000)\n",
    "samples_pku.to_parquet(\"./results/fluxes/flux_samples_PKU_20_000.parquet.gzip\", compression='gzip')  "
   ]
  }
 ],
 "metadata": {
  "kernelspec": {
   "display_name": "cobra",
   "language": "python",
   "name": "python3"
  },
  "language_info": {
   "codemirror_mode": {
    "name": "ipython",
    "version": 3
   },
   "file_extension": ".py",
   "mimetype": "text/x-python",
   "name": "python",
   "nbconvert_exporter": "python",
   "pygments_lexer": "ipython3",
   "version": "3.10.8"
  },
  "orig_nbformat": 4,
  "vscode": {
   "interpreter": {
    "hash": "74a7f5fe8881d7cdb7d4a8f643edfee5e3f8fc44e55f6e1f234c3b5a75e98022"
   }
  }
 },
 "nbformat": 4,
 "nbformat_minor": 2
}
