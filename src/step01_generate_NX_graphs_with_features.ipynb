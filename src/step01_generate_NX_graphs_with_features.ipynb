{
 "cells": [
  {
   "cell_type": "code",
   "execution_count": 1,
   "metadata": {},
   "outputs": [
    {
     "name": "stdout",
     "output_type": "stream",
     "text": [
      "Scaling...\n",
      " A: min|aij| =  1.000e+00  max|aij| =  1.000e+00  ratio =  1.000e+00\n",
      "Problem data seem to be well scaled\n"
     ]
    }
   ],
   "source": [
    "from custom_clss_and_fncs import *\n",
    "from cobra.io import load_json_model\n",
    "\n",
    "model                                 = load_json_model(\"./COBRA_models/GEM_Recon2_thermocurated_redHUMAN.json\")\n",
    "feature_data = pd.read_parquet(\"./results/data/oversampled_augmented_metabolite_data.parquet.gzip\")#\n",
    "feature_names                         = pd.read_csv(\"./results/data/metabolite_names.csv\")"
   ]
  },
  {
   "cell_type": "markdown",
   "metadata": {},
   "source": [
    "### add concentratios as features"
   ]
  },
  {
   "cell_type": "code",
   "execution_count": 14,
   "metadata": {},
   "outputs": [],
   "source": [
    "grafo_nx                              = cobra_a_networkx(model)\n",
    "\n",
    "node_list = list(grafo_nx.nodes)\n",
    "feature_data.rename(\n",
    "    columns=feature_names.set_index(\"Simbolo_traductor\")[\"Recon3_ID\"].to_dict(), \n",
    "    inplace=True\n",
    ")\n",
    "\n",
    "number_to_fill_in = int(1)\n",
    "\n",
    "feature_data[\n",
    "    [item for item in node_list if item not in feature_data.columns.tolist()]\n",
    "] = number_to_fill_in\n",
    "\n",
    "# Re-empaca todo este vector como un diccionario de atributos\n",
    "feature_dict = feature_data.to_dict(orient=\"list\")  # desde Pandas\n",
    "feature_dict = {key: {\"x\": feature_dict[key]} for key in feature_dict}\n",
    "\n",
    "nx.set_node_attributes(grafo_nx, feature_dict)\n",
    "\n",
    "assert feature_data['phe_L_c'].tolist() == grafo_nx.nodes['phe_L_c']['x']\n",
    "assert np.unique(grafo_nx.nodes(data=True)['r0399']['x']) == number_to_fill_in\n",
    "assert len(grafo_nx.nodes(data=True)['r0399']['x']) == len(grafo_nx.nodes(data=True)['phe_L_c']['x'])"
   ]
  },
  {
   "cell_type": "code",
   "execution_count": 15,
   "metadata": {},
   "outputs": [],
   "source": [
    "nx.write_gpickle(grafo_nx, f\"./results/graphs_from_PYG_and_NX/NX_only_concentrations.gpickle\")"
   ]
  },
  {
   "cell_type": "code",
   "execution_count": 16,
   "metadata": {},
   "outputs": [],
   "source": [
    "grafo_nx_v2 = copy.deepcopy(grafo_nx)"
   ]
  },
  {
   "cell_type": "markdown",
   "metadata": {},
   "source": [
    "### add fluxes as features"
   ]
  },
  {
   "cell_type": "code",
   "execution_count": 18,
   "metadata": {},
   "outputs": [],
   "source": [
    "flux_samples = pd.read_parquet( \"./results/data/flux_samples.parquet.gzip\")"
   ]
  },
  {
   "cell_type": "code",
   "execution_count": 29,
   "metadata": {},
   "outputs": [],
   "source": [
    "feature_length = len(grafo_nx.nodes(data=True)['r0399']['x']) \n",
    "\n",
    "\n",
    "flux_dict = flux_samples.sample(feature_length, replace=True).to_dict(orient = 'list')"
   ]
  },
  {
   "cell_type": "code",
   "execution_count": 39,
   "metadata": {},
   "outputs": [],
   "source": [
    "x_attribute     = nx.get_node_attributes(grafo_nx_v2, \"x\")\n",
    "\n",
    "x_attribute.update(flux_dict)\n",
    "\n",
    "nx.set_node_attributes(grafo_nx_v2, x_attribute, 'x')\n",
    "\n",
    "\n",
    "assert grafo_nx_v2.nodes(data=True)['r0399']['x'] == flux_dict['r0399']\n",
    "assert len(grafo_nx_v2.nodes(data=True)['r0399']['x']) == len(grafo_nx_v2.nodes(data=True)['phe_L_c']['x'])\n",
    "assert grafo_nx_v2.nodes(data=True)['phe_L_c']['x']  == feature_data['phe_L_c'].tolist() "
   ]
  },
  {
   "cell_type": "code",
   "execution_count": 40,
   "metadata": {},
   "outputs": [],
   "source": [
    "nx.write_gpickle(grafo_nx_v2, f\"./results/graphs_from_PYG_and_NX/NX_fluxes_and_concentrations.gpickle\")"
   ]
  }
 ],
 "metadata": {
  "kernelspec": {
   "display_name": "Python 3.9.13 ('geo')",
   "language": "python",
   "name": "python3"
  },
  "language_info": {
   "codemirror_mode": {
    "name": "ipython",
    "version": 3
   },
   "file_extension": ".py",
   "mimetype": "text/x-python",
   "name": "python",
   "nbconvert_exporter": "python",
   "pygments_lexer": "ipython3",
   "version": "3.9.13"
  },
  "orig_nbformat": 4,
  "vscode": {
   "interpreter": {
    "hash": "9ccb92c3caf64d15d8cccade25008a463e602c087926676408820d80b4769698"
   }
  }
 },
 "nbformat": 4,
 "nbformat_minor": 2
}
