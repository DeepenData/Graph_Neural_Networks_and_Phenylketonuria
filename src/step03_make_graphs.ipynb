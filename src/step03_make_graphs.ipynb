{
 "cells": [
  {
   "cell_type": "code",
   "execution_count": 1,
   "metadata": {},
   "outputs": [
    {
     "name": "stderr",
     "output_type": "stream",
     "text": [
      "/DeepenData/.miniconda/envs/geo/lib/python3.9/site-packages/tqdm/auto.py:22: TqdmWarning: IProgress not found. Please update jupyter and ipywidgets. See https://ipywidgets.readthedocs.io/en/stable/user_install.html\n",
      "  from .autonotebook import tqdm as notebook_tqdm\n",
      "No defined compartments in model model. Compartments will be deduced heuristically using regular expressions.\n",
      "Using regular expression found the following compartments:c, e, g, i, l, m, n, r, x\n"
     ]
    }
   ],
   "source": [
    "from    acevedo_clss_and_fcns import * \n",
    "from    cobra.io.mat import *\n",
    "\n",
    "model               = load_matlab_model(\"./COBRA_models/GEM_Recon3_thermocurated_redHUMAN_AA.mat\")\n",
    "concentration_data        = pd.read_parquet(\"./results/dataframes/concentrations/augmented_metabolite_data_v2.parquet.gzip\")#\n",
    "feature_names       = pd.read_csv(\"./metabolites_data/metabolite_names.csv\")\n",
    "grafo_nx            = cobra_to_networkx(model)"
   ]
  },
  {
   "cell_type": "code",
   "execution_count": 2,
   "metadata": {},
   "outputs": [],
   "source": [
    "concentration_data['Leu'] = concentration_data['Leu.Ile']\n",
    "concentration_data['Ile'] = concentration_data['Leu.Ile']\n",
    "concentration_data.drop('Leu.Ile', axis=1, inplace=True)\n",
    "\n",
    "concentration_data['C3DC'] = concentration_data['C4OH.C3DC']\n",
    "concentration_data['C4OH'] = concentration_data['C4OH.C3DC']\n",
    "concentration_data.drop('C4OH.C3DC', axis=1, inplace=True)\n",
    "\n",
    "concentration_data['C4DC'] = concentration_data['C5.OH.C4DC']\n",
    "concentration_data['C5OH'] = concentration_data['C5.OH.C4DC']\n",
    "concentration_data.drop('C5.OH.C4DC', axis=1, inplace=True)\n",
    "assert len(set(feature_names.Simbolo_traductor) - set(concentration_data.columns)) == 0\n",
    "\n",
    "node_list = list(grafo_nx.nodes)\n",
    "concentration_data.rename(\n",
    "        columns=feature_names.set_index(\"Simbolo_traductor\")[\"Recon3_ID\"].to_dict(), \n",
    "        inplace=True\n",
    "    )\n",
    "\n",
    "assert set(set(concentration_data.columns)-set([\"label\"])).issubset(set(list(grafo_nx.nodes)))\n",
    "\n",
    "w  = dict(zip(grafo_nx.edges() , itertools.repeat(1)))\n",
    "\n",
    "nx.set_edge_attributes(grafo_nx, w, \"weight\")\n",
    "\n",
    "assert 1 == np.unique(list(nx.get_edge_attributes(grafo_nx, \"weight\").values())).__len__()"
   ]
  },
  {
   "cell_type": "code",
   "execution_count": 3,
   "metadata": {},
   "outputs": [],
   "source": [
    "flux_samples_CONTROL_7_000  = pd.read_parquet(\"./results/dataframes/fluxes/flux_samples_CONTROL_7_000.parquet.gzip\")\n",
    "flux_samples_PKU_7_000      = pd.read_parquet(\"./results/dataframes/fluxes/flux_samples_PKU_7_000.parquet.gzip\")"
   ]
  },
  {
   "cell_type": "code",
   "execution_count": 4,
   "metadata": {},
   "outputs": [],
   "source": [
    "def get_sample_subset(full_samples, concentration_data, label): \n",
    "\n",
    "\n",
    "    s = concentration_data.label.value_counts()\n",
    "    sample_subset = full_samples.sample(s.loc[label], replace=True).reset_index(drop=True)\n",
    "    sample_subset[\"label\"] = label\n",
    "    \n",
    "    return sample_subset\n",
    "\n",
    "\n",
    "flux_samples_CONTROL = get_sample_subset(flux_samples_CONTROL_7_000, concentration_data, 0)\n",
    "flux_samples_PKU     = get_sample_subset(flux_samples_PKU_7_000,     concentration_data, 1)\n",
    "assert flux_samples_CONTROL.r0399.max() > 30 \n",
    "assert flux_samples_PKU.r0399.max() < 1\n",
    "assert all(flux_samples_CONTROL.columns == flux_samples_PKU.columns)\n",
    "\n",
    "flux_samples_CONTROL = flux_samples_CONTROL.reindex(columns=flux_samples_PKU.columns)\n",
    "flux_samples         = pd.concat([flux_samples_CONTROL, flux_samples_PKU], axis=0)\n",
    "flux_samples         = flux_samples.reset_index(drop=True, inplace=False)\n",
    "\n",
    "assert len(flux_samples.columns) == len(flux_samples_CONTROL.columns)\n",
    "assert len(concentration_data) == len(flux_samples)\n",
    "assert flux_samples.r0399.loc[flux_samples.label == 0].mean() > 30\n",
    "assert flux_samples.r0399.loc[flux_samples.label == 1].mean() < 1\n"
   ]
  },
  {
   "cell_type": "code",
   "execution_count": 5,
   "metadata": {},
   "outputs": [],
   "source": [
    "def get_largest_cc(G):\n",
    "    \n",
    "  largest_wcc = max(nx.connected_components(nx.Graph(G)), key=len)\n",
    "\n",
    "\n",
    "  # Create a subgraph SG based on G\n",
    "  SG = G.__class__()\n",
    "  SG.add_nodes_from((n, G.nodes[n]) for n in largest_wcc)\n",
    "\n",
    "\n",
    "  SG.add_edges_from((n, nbr, d)\n",
    "      for n, nbrs in G.adj.items() if n in largest_wcc\n",
    "      for nbr, d in nbrs.items() if nbr in largest_wcc)\n",
    "\n",
    "  SG.graph.update(G.graph)\n",
    "\n",
    "  assert G.nodes.__len__() >= SG.nodes.__len__()\n",
    "  assert G.edges.__len__() >= SG.edges.__len__()\n",
    "  assert SG.nodes.__len__() == len(largest_wcc)\n",
    "  assert not SG.is_directed() \n",
    "  assert nx.is_connected(nx.Graph(SG))\n",
    "\n",
    "  return copy.deepcopy(SG)\n",
    "\n",
    "\n",
    "mets = ['nad_', 'nadh_', \"nadp_\", \"nadph_\", \"adp_\", \"atp_\", \"gdt_\", \"gtp_\",\n",
    "        \"pi_\", \"ppi_\", \"pppi_\", \"co2_\", \"hco3_\", \"h2o_\", \"h2o2_\", \"h_\", \"o2_\", \"oh1_\",\n",
    "        \"o2s_\", \"fad_\",  \"fadh2_\", \"nh4_\", \"so3_\", \"so4_\", \"cl_\", \"k_\", \"na1_\",\n",
    "        \"i_\", \"fe2_\", \"fe3_\", \"mg2_\", \"ca2\", \"zn2_\", \"M02382_\"]\n",
    "\n",
    "to_remove = []\n",
    "for m in mets:\n",
    "\n",
    "    to_remove.extend([\"\".join(l) for l in list(zip(itertools.repeat(m), list(model.compartments.keys())))])\n",
    "    \n",
    "grafo_nx.remove_nodes_from(to_remove)\n",
    "\n",
    "grafo_nx = get_largest_cc(grafo_nx)\n",
    "    \n",
    "nx.write_gpickle(grafo_nx, \"./results/graphs/NX_recon_graph.gpickle\")\n"
   ]
  },
  {
   "cell_type": "code",
   "execution_count": 6,
   "metadata": {},
   "outputs": [],
   "source": [
    "concentration_data = concentration_data.sort_values(by=['label'])\n",
    "concentration_data.reset_index(drop=True, inplace=True)\n",
    "flux_samples = flux_samples.sort_values(by=['label'])\n",
    "flux_samples.reset_index(drop=True, inplace=True)\n",
    "assert all(concentration_data.label == flux_samples.label)\n",
    "\n",
    "Labels = flux_samples.label\n",
    "\n",
    "\n",
    "\n",
    "flux_samples.drop(\"label\", axis=1, inplace=True)\n",
    "concentration_data.drop(\"label\", axis=1, inplace=True)"
   ]
  },
  {
   "cell_type": "code",
   "execution_count": 20,
   "metadata": {},
   "outputs": [],
   "source": [
    "blank_features = pd.DataFrame(\n",
    "                    np.full((len(concentration_data), list(grafo_nx.nodes).__len__()), 1e-10),  columns=list(grafo_nx.nodes)\n",
    "                    )\n",
    "blank_features.reset_index(drop=True, inplace=True)\n",
    "assert len(blank_features) == len(concentration_data) == len(flux_samples)\n",
    "assert set(concentration_data.columns).issubset(set(list(grafo_nx.nodes)))\n",
    "\n",
    "\n",
    "\n"
   ]
  },
  {
   "cell_type": "code",
   "execution_count": 10,
   "metadata": {},
   "outputs": [],
   "source": [
    "blank_features_dict = blank_features.to_dict(orient=\"list\")  \n",
    "flux_samples_dict   = flux_samples.to_dict(orient=\"list\")  \n",
    "concentrations_dict = concentration_data.to_dict(orient=\"list\")  "
   ]
  },
  {
   "cell_type": "code",
   "execution_count": 60,
   "metadata": {},
   "outputs": [],
   "source": [
    "import copy\n",
    "\n",
    "def update_df_features(base: dict, new:dict):\n",
    "    \n",
    "    common_vars       = list(set(base.keys()).intersection(set(new)))\n",
    "    base_updated      = copy.deepcopy(base)\n",
    "    base_updated.update({key: new[key] for key in common_vars})\n",
    "    \n",
    "    return base_updated\n",
    "\n",
    "\n",
    "features_only_concentrations_dict = update_df_features(blank_features_dict, concentrations_dict)\n",
    "features_only_fluxes_dict         = update_df_features(blank_features_dict, flux_samples_dict)\n",
    "\n"
   ]
  },
  {
   "cell_type": "code",
   "execution_count": 75,
   "metadata": {},
   "outputs": [],
   "source": [
    "def new_nx_from_dict(nx_G_in, feature_dict):\n",
    "    \n",
    "    nx_G        = copy.deepcopy(nx_G_in)    \n",
    "    x_attribute = feature_dict #nx.get_node_attributes(nx_G, \"x\")\n",
    "     \n",
    "    nx.set_node_attributes(nx_G, x_attribute, 'x')\n",
    "    \n",
    "    len(nx_G.nodes(data=True)['r0399']['x']) == len(nx_G.nodes(data=True)['phe_L_c']['x'])\n",
    "    assert nx_G.nodes(data=True)['phe_L_c']['x']  == feature_dict['phe_L_c']#.tolist() \n",
    "    assert nx_G.nodes(data=True)['r0399']['x']  == feature_dict['r0399']#.tolist() \n",
    "\n",
    "    \n",
    "    \n",
    "    return nx_G\n",
    "\n",
    "\n",
    "nx_features_only_concentrations = new_nx_from_dict(grafo_nx, features_only_concentrations_dict)  \n",
    "\n",
    "conc_df = pd.DataFrame(\n",
    "nx.get_node_attributes(nx_features_only_concentrations, 'x'))\n",
    "\n",
    "assert set(conc_df.sum().loc[lambda x: abs(x)>=2e-6].index.tolist()) ==  set([k for k in concentrations_dict])\n"
   ]
  },
  {
   "cell_type": "code",
   "execution_count": 65,
   "metadata": {},
   "outputs": [],
   "source": [
    "\n",
    "nx_features_only_fluxes         = new_nx_from_dict(grafo_nx, features_only_fluxes_dict)  \n",
    "\n",
    "flux_df = pd.DataFrame(\n",
    "nx.get_node_attributes(nx_features_only_fluxes, 'x'))"
   ]
  },
  {
   "cell_type": "code",
   "execution_count": 78,
   "metadata": {},
   "outputs": [],
   "source": [
    "rxn_list_recon: list[str] = [model.reactions[i].id       for i in range(model.reactions.__len__())]\n",
    "met_list_recon: list[str] = [model.metabolites[i].id     for i in range(model.metabolites.__len__())]\n",
    "first_partition , second_partition = bipartite.sets(grafo_nx)\n",
    "\n",
    "if first_partition.__len__() > second_partition.__len__():\n",
    "    rxn_partition = first_partition\n",
    "    met_partition = second_partition\n",
    "else:\n",
    "    rxn_partition = second_partition \n",
    "    met_partition = first_partition\n",
    "    \n",
    "assert set(rxn_partition).issubset(set(rxn_list_recon)) and set(met_partition).issubset(set(met_list_recon))\n",
    "assert len(set(rxn_partition) - set(rxn_list_recon)) == 0\n",
    "assert len(set(met_partition) - set(met_list_recon)) == 0\n",
    "\n",
    "partition_list =  np.array(list(nx.get_node_attributes(grafo_nx, \"bipartite\").values()))\n",
    "mask_rxns      =  partition_list.astype(bool)\n",
    "mask_mets      =  np.invert(partition_list.astype(bool))"
   ]
  },
  {
   "cell_type": "code",
   "execution_count": 73,
   "metadata": {},
   "outputs": [
    {
     "data": {
      "text/plain": [
       "EX_pchol_hs_e       0.000000e+00\n",
       "ATPH1e              0.000000e+00\n",
       "LCAT2e              0.000000e+00\n",
       "LCAT30e             0.000000e+00\n",
       "CAMPt               0.000000e+00\n",
       "                        ...     \n",
       "EX_g3pc_e           0.000000e+00\n",
       "EX_gmp_e            0.000000e+00\n",
       "EX_gpi_sig_e        3.767842e-09\n",
       "PCHOLEIC_HSt1e      0.000000e+00\n",
       "PCHOLN183_HSPLA2    0.000000e+00\n",
       "Length: 914, dtype: float64"
      ]
     },
     "execution_count": 73,
     "metadata": {},
     "output_type": "execute_result"
    }
   ],
   "source": [
    "flux_df.sum().loc[lambda x: abs(x)<2e-7]#.index.tolist()"
   ]
  }
 ],
 "metadata": {
  "kernelspec": {
   "display_name": "geo",
   "language": "python",
   "name": "python3"
  },
  "language_info": {
   "codemirror_mode": {
    "name": "ipython",
    "version": 3
   },
   "file_extension": ".py",
   "mimetype": "text/x-python",
   "name": "python",
   "nbconvert_exporter": "python",
   "pygments_lexer": "ipython3",
   "version": "3.9.15"
  },
  "orig_nbformat": 4,
  "vscode": {
   "interpreter": {
    "hash": "9ccb92c3caf64d15d8cccade25008a463e602c087926676408820d80b4769698"
   }
  }
 },
 "nbformat": 4,
 "nbformat_minor": 2
}
