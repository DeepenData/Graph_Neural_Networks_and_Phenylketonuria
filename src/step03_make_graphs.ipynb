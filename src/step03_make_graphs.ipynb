{
 "cells": [
  {
   "cell_type": "code",
   "execution_count": 1,
   "metadata": {},
   "outputs": [
    {
     "name": "stderr",
     "output_type": "stream",
     "text": [
      "/DeepenData/.miniconda/envs/geo/lib/python3.9/site-packages/tqdm/auto.py:22: TqdmWarning: IProgress not found. Please update jupyter and ipywidgets. See https://ipywidgets.readthedocs.io/en/stable/user_install.html\n",
      "  from .autonotebook import tqdm as notebook_tqdm\n",
      "No defined compartments in model model. Compartments will be deduced heuristically using regular expressions.\n",
      "Using regular expression found the following compartments:c, e, g, i, l, m, n, r, x\n"
     ]
    }
   ],
   "source": [
    "from    acevedo_clss_and_fcns import * \n",
    "from    cobra.io.mat import *\n",
    "\n",
    "model               = load_matlab_model(\"./COBRA_models/GEM_Recon3_thermocurated_redHUMAN_AA.mat\")\n",
    "feature_data        = pd.read_parquet(\"./results/dataframes/concentrations/augmented_metabolite_data_v2.parquet.gzip\")#\n",
    "feature_names       = pd.read_csv(\"./metabolites_data/metabolite_names.csv\")\n",
    "grafo_nx            = cobra_to_networkx(model)"
   ]
  },
  {
   "cell_type": "code",
   "execution_count": 2,
   "metadata": {},
   "outputs": [],
   "source": [
    "feature_data['Leu'] = feature_data['Leu.Ile']\n",
    "feature_data['Ile'] = feature_data['Leu.Ile']\n",
    "feature_data.drop('Leu.Ile', axis=1, inplace=True)\n",
    "\n",
    "feature_data['C3DC'] = feature_data['C4OH.C3DC']\n",
    "feature_data['C4OH'] = feature_data['C4OH.C3DC']\n",
    "feature_data.drop('C4OH.C3DC', axis=1, inplace=True)\n",
    "\n",
    "feature_data['C4DC'] = feature_data['C5.OH.C4DC']\n",
    "feature_data['C5OH'] = feature_data['C5.OH.C4DC']\n",
    "feature_data.drop('C5.OH.C4DC', axis=1, inplace=True)\n",
    "assert len(set(feature_names.Simbolo_traductor) - set(feature_data.columns)) == 0\n",
    "\n",
    "node_list = list(grafo_nx.nodes)\n",
    "feature_data.rename(\n",
    "        columns=feature_names.set_index(\"Simbolo_traductor\")[\"Recon3_ID\"].to_dict(), \n",
    "        inplace=True\n",
    "    )\n",
    "\n",
    "assert set(set(feature_data.columns)-set([\"label\"])).issubset(set(list(grafo_nx.nodes)))\n",
    "\n",
    "w  = dict(zip(grafo_nx.edges() , itertools.repeat(1)))\n",
    "\n",
    "nx.set_edge_attributes(grafo_nx, w, \"weight\")\n",
    "\n",
    "assert 1 == np.unique(list(nx.get_edge_attributes(grafo_nx, \"weight\").values())).__len__()"
   ]
  },
  {
   "cell_type": "code",
   "execution_count": null,
   "metadata": {},
   "outputs": [],
   "source": [
    "flux_samples_CONTROL_7_000  = pd.read_parquet(\"./results/dataframes/fluxes/flux_samples_CONTROL_7_000.parquet.gzip\")\n",
    "flux_samples_PKU_7_000      = pd.read_parquet(\"./results/dataframes/fluxes/flux_samples_PKU_7_000.parquet.gzip\")"
   ]
  }
 ],
 "metadata": {
  "kernelspec": {
   "display_name": "geo",
   "language": "python",
   "name": "python3"
  },
  "language_info": {
   "codemirror_mode": {
    "name": "ipython",
    "version": 3
   },
   "file_extension": ".py",
   "mimetype": "text/x-python",
   "name": "python",
   "nbconvert_exporter": "python",
   "pygments_lexer": "ipython3",
   "version": "3.9.15"
  },
  "orig_nbformat": 4,
  "vscode": {
   "interpreter": {
    "hash": "9ccb92c3caf64d15d8cccade25008a463e602c087926676408820d80b4769698"
   }
  }
 },
 "nbformat": 4,
 "nbformat_minor": 2
}
