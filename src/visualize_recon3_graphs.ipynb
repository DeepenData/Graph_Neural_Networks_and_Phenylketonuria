{
 "cells": [
  {
   "cell_type": "code",
   "execution_count": 1,
   "metadata": {},
   "outputs": [
    {
     "name": "stderr",
     "output_type": "stream",
     "text": [
      "/DeepenData/.miniconda/envs/geo/lib/python3.9/site-packages/tqdm/auto.py:22: TqdmWarning: IProgress not found. Please update jupyter and ipywidgets. See https://ipywidgets.readthedocs.io/en/stable/user_install.html\n",
      "  from .autonotebook import tqdm as notebook_tqdm\n",
      "No defined compartments in model model. Compartments will be deduced heuristically using regular expressions.\n",
      "Using regular expression found the following compartments:c, e, g, i, l, m, n, r, x\n"
     ]
    }
   ],
   "source": [
    "from acevedo_clss_and_fcns import * \n",
    "from    cobra.io.mat import *\n",
    "#import torch\n",
    "from networkx.algorithms import bipartite\n",
    "model = load_matlab_model(\"./COBRA_models/GEM_Recon3_thermocurated_redHUMAN_AA.mat\")\n",
    "\n",
    "G = nx.read_gpickle(\"./results/graphs/NX_recon_graph.gpickle\")\n",
    "assert nx.is_connected(G)\n",
    "assert 1 == np.unique(list(nx.get_edge_attributes(G, \"weight\").values())).__len__()\n",
    "n_nodes                  = len(list(G.nodes))\n",
    "first_partition , second_partition= bipartite.sets(G)\n",
    "\n",
    "if first_partition.__len__() > second_partition.__len__():\n",
    "    rxn_partition = first_partition\n",
    "    met_partition = second_partition\n",
    "else:\n",
    "    rxn_partition = second_partition \n",
    "    met_partition = first_partition"
   ]
  },
  {
   "cell_type": "code",
   "execution_count": 6,
   "metadata": {},
   "outputs": [],
   "source": [
    "\n",
    "rxn_list: list[str] = [model.reactions[i].id       for i in range(model.reactions.__len__())]\n",
    "met_list: list[str] = [model.metabolites[i].id     for i in range(model.metabolites.__len__())]\n",
    "\n",
    "assert set(rxn_partition).issubset(set(rxn_list)) and set(met_partition).issubset(set(met_list))\n",
    "\n"
   ]
  },
  {
   "cell_type": "code",
   "execution_count": null,
   "metadata": {},
   "outputs": [],
   "source": [
    "\n",
    "\n",
    "loader_path = './results/dataloaders/MASKED_loader_Concen_plus_Fluxes.pt'\n",
    "loader = torch.load(loader_path)\n",
    "a_batch         = next(iter(loader.get_train_loader()))\n",
    "a_graph         = a_batch[0]\n",
    "assert a_graph.x.shape[0] ==len(list(G.nodes))\n"
   ]
  },
  {
   "cell_type": "code",
   "execution_count": null,
   "metadata": {},
   "outputs": [],
   "source": [
    "feature_vector = a_graph.x.reshape(n_nodes).abs().tolist()\n",
    "\n",
    "feature_dict   = dict(zip(G, feature_vector))\n",
    "nx.set_node_attributes(G, feature_dict, \"size\")\n",
    "\n",
    "\n"
   ]
  },
  {
   "cell_type": "code",
   "execution_count": null,
   "metadata": {},
   "outputs": [],
   "source": [
    "nx.write_gexf(G, \"./results/graphs/for_visualizations/recon3_pku.gexf\")"
   ]
  }
 ],
 "metadata": {
  "kernelspec": {
   "display_name": "geo",
   "language": "python",
   "name": "python3"
  },
  "language_info": {
   "codemirror_mode": {
    "name": "ipython",
    "version": 3
   },
   "file_extension": ".py",
   "mimetype": "text/x-python",
   "name": "python",
   "nbconvert_exporter": "python",
   "pygments_lexer": "ipython3",
   "version": "3.9.15"
  },
  "orig_nbformat": 4,
  "vscode": {
   "interpreter": {
    "hash": "9ccb92c3caf64d15d8cccade25008a463e602c087926676408820d80b4769698"
   }
  }
 },
 "nbformat": 4,
 "nbformat_minor": 2
}
