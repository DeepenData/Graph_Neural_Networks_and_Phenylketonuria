{
 "cells": [
  {
   "cell_type": "code",
   "execution_count": 1,
   "metadata": {},
   "outputs": [
    {
     "name": "stderr",
     "output_type": "stream",
     "text": [
      "/DeepenData/.miniconda/envs/geo/lib/python3.9/site-packages/tqdm/auto.py:22: TqdmWarning: IProgress not found. Please update jupyter and ipywidgets. See https://ipywidgets.readthedocs.io/en/stable/user_install.html\n",
      "  from .autonotebook import tqdm as notebook_tqdm\n",
      "No defined compartments in model model. Compartments will be deduced heuristically using regular expressions.\n",
      "Using regular expression found the following compartments:c, e, g, i, l, m, n, r, x\n"
     ]
    }
   ],
   "source": [
    "from acevedo_clss_and_fcns import * \n",
    "from    cobra.io.mat import *\n",
    "from networkx.algorithms import bipartite\n",
    "def check_Concen_plus_Fluxes(a_graph, mask_mets, mask_rxns):\n",
    "    \n",
    "\n",
    "    assert np.unique(\n",
    "        a_graph.x.reshape(len(mask_mets))[mask_mets][\n",
    "        a_graph.x.reshape(len(mask_mets))[mask_mets] > 1e-10]).__len__() > 3\n",
    "\n",
    "    assert np.unique(\n",
    "        a_graph.x.reshape(len(mask_mets))[mask_mets][\n",
    "            np.invert(\n",
    "        a_graph.x.reshape(len(mask_mets))[mask_mets] > 1e-10)]\n",
    "        ).__len__() <=2\n",
    "\n",
    "    assert np.unique(\n",
    "        a_graph.x.reshape(len(mask_mets))[mask_mets][\n",
    "            np.invert(\n",
    "        a_graph.x.reshape(len(mask_mets))[mask_mets] > 1e-10)]\n",
    "        ).sum() < 1e-9\n",
    "\n",
    "    assert np.unique(\n",
    "        a_graph.x.reshape(len(mask_mets))[mask_rxns][\n",
    "        a_graph.x.reshape(len(mask_mets))[mask_rxns] > 1e-10]).__len__() > 3\n",
    "\n",
    "\n",
    "model = load_matlab_model(\"./COBRA_models/GEM_Recon3_thermocurated_redHUMAN_AA.mat\")\n",
    "rxn_list_recon: list[str] = [model.reactions[i].id       for i in range(model.reactions.__len__())]\n",
    "met_list_recon: list[str] = [model.metabolites[i].id     for i in range(model.metabolites.__len__())]\n",
    "\n",
    "G = nx.read_gpickle(\"./results/graphs/NX_recon_graph.gpickle\")\n",
    "\n",
    "\n",
    "partition_list =  np.array(list(nx.get_node_attributes(G, \"bipartite\").values()))\n",
    "mask_rxns      =  partition_list.astype(bool)\n",
    "mask_mets      =  np.invert(partition_list.astype(bool))\n",
    "\n",
    "def get_a_graph_from_loader(loader):\n",
    "    \n",
    "    #loader   = loader_only_Concen #torch.load(loader_path)\n",
    "    a_batch  = next(iter(loader.get_train_loader()))\n",
    "    return a_batch[0]\n",
    "\n",
    "Concen_plus_Fluxes = get_a_graph_from_loader(torch.load('./results/dataloaders/MASKED_loader_Concen_plus_Fluxes.pt'))\n",
    "\n",
    "check_Concen_plus_Fluxes(Concen_plus_Fluxes, mask_mets, mask_rxns)"
   ]
  },
  {
   "cell_type": "code",
   "execution_count": 2,
   "metadata": {},
   "outputs": [],
   "source": [
    "#a_graph = get_a_graph_from_loader(torch.load('./results/dataloaders/MASKED_loader_only_Concen.pt'))\n",
    "\n",
    "#loader   = torch.load('./results/dataloaders/MASKED_loader_only_Concen.pt').get_train_loader()\n",
    "#a_batch  = next(iter(torch.load('./results/dataloaders/MASKED_loader_Concen_plus_Fluxes.pt').get_train_loader()))\n",
    "\n",
    "def get_averages(loader):    \n",
    "\n",
    "    control_list = []\n",
    "    pku_list     = []\n",
    "\n",
    "    for graph in loader.dataset[0:1000]:\n",
    "        \n",
    "        if graph.y.item() == 0:   \n",
    "            control_list.append(graph.x) \n",
    "            \n",
    "        elif graph.y.item() == 1:\n",
    "            pku_list.append(graph.x) \n",
    "    \n",
    "    return torch.cat(control_list, dim=1).mean(axis = 1),  torch.cat(pku_list, dim=1).mean(axis = 1)\n",
    "\n",
    "\n",
    "CONTROL_only_Concen, PKU_only_Concen = get_averages( torch.load('./results/dataloaders/MASKED_loader_only_Concen.pt').get_train_loader())\n",
    "CONTROL_only_Fluxes, PKU_only_Fluxes = get_averages( torch.load('./results/dataloaders/MASKED_loader_only_Fluxes.pt').get_train_loader())\n",
    "CONTROL_Concen_plus_Fluxes, PKU_Concen_plus_Fluxes = get_averages( torch.load('./results/dataloaders/MASKED_loader_Concen_plus_Fluxes.pt').get_train_loader())"
   ]
  },
  {
   "cell_type": "code",
   "execution_count": 3,
   "metadata": {},
   "outputs": [],
   "source": [
    "nx_Conc    = copy.deepcopy(nx.read_gpickle(\"./results/graphs/NX_recon_graph.gpickle\"))\n",
    "nx_Flux    = copy.deepcopy(nx.read_gpickle(\"./results/graphs/NX_recon_graph.gpickle\"))\n",
    "nx_ConFlux = copy.deepcopy(nx.read_gpickle(\"./results/graphs/NX_recon_graph.gpickle\"))"
   ]
  },
  {
   "cell_type": "code",
   "execution_count": 4,
   "metadata": {},
   "outputs": [],
   "source": [
    "\n",
    "\n",
    "def set_control_pku_features(G, control_tensor, pku_tensor):\n",
    "    \n",
    "\n",
    "    control_dict   = dict(zip(G,  control_tensor.tolist()))\n",
    "    pku_dict       = dict(zip(G,  pku_tensor.tolist()))\n",
    "\n",
    "\n",
    "    nx.set_node_attributes(G, control_dict, \"control\")\n",
    "    nx.set_node_attributes(G, pku_dict, \"pku\")\n",
    "\n",
    "\n",
    "set_control_pku_features(nx_Conc, CONTROL_only_Concen, PKU_only_Concen)\n",
    "set_control_pku_features(nx_Flux, CONTROL_only_Fluxes, PKU_only_Fluxes)\n",
    "set_control_pku_features(nx_ConFlux, CONTROL_Concen_plus_Fluxes, PKU_Concen_plus_Fluxes)"
   ]
  },
  {
   "cell_type": "code",
   "execution_count": 5,
   "metadata": {},
   "outputs": [],
   "source": [
    "metabolites = pd.read_csv(\"./metabolites_data/metabolite_names.csv\").Recon3_ID\n",
    "metabolites = metabolites[[m in list(G.nodes) for m in metabolites]].tolist()\n",
    "assert set(metabolites).issubset(set(list(G.nodes)))\n",
    "\n",
    "mets_bool = [bool(re.search(\"crn_c|\\\\d+dc_c\", s)) for s in metabolites]\n",
    "\n",
    "\n",
    "AAs       = list(itertools.compress(metabolites, np.invert(mets_bool)))\n",
    "ACs       = list(itertools.compress(metabolites, mets_bool))\n",
    "\n",
    "base_dict =  dict(zip(G,   itertools.repeat(0)))\n",
    "AAs_dict  =  dict(zip(AAs, itertools.repeat(1)))\n",
    "ACs_dict  =  dict(zip(ACs, itertools.repeat(2)))\n",
    "\n",
    "colors_dict = copy.deepcopy(base_dict)\n",
    "\n",
    "colors_dict.update(AAs_dict)\n",
    "colors_dict.update(ACs_dict)\n",
    "\n",
    "nx.set_node_attributes(nx_Conc, colors_dict, \"color\")"
   ]
  },
  {
   "cell_type": "code",
   "execution_count": 6,
   "metadata": {},
   "outputs": [],
   "source": [
    "nx.write_gexf(nx_Conc, \"./results/graphs/for_visualizations/nx_Conc.gexf\")\n",
    "\n",
    "\n"
   ]
  },
  {
   "cell_type": "code",
   "execution_count": 7,
   "metadata": {},
   "outputs": [
    {
     "name": "stderr",
     "output_type": "stream",
     "text": [
      "No defined compartments in model model. Compartments will be deduced heuristically using regular expressions.\n",
      "Using regular expression found the following compartments:c, e, g, i, l, m, n, r, x\n"
     ]
    }
   ],
   "source": [
    "model = load_matlab_model(\"./COBRA_models/GEM_Recon3_thermocurated_redHUMAN_AA.mat\")"
   ]
  },
  {
   "cell_type": "code",
   "execution_count": 41,
   "metadata": {},
   "outputs": [
    {
     "data": {
      "text/plain": [
       "'Oxidative phosphorylation'"
      ]
     },
     "execution_count": 41,
     "metadata": {},
     "output_type": "execute_result"
    }
   ],
   "source": [
    "import re\n",
    "rxns        = [ r.id for r in model.reactions]\n",
    "subsystems  = [s.subsystem for s in model.reactions]\n",
    "\n",
    "\n",
    "\n",
    "subsystems[-3]"
   ]
  },
  {
   "cell_type": "code",
   "execution_count": 54,
   "metadata": {},
   "outputs": [
    {
     "data": {
      "text/plain": [
       "['DHPR2',\n",
       " 'PACCOAL',\n",
       " 'PEAMNO',\n",
       " 'PHACCOAGLNAC',\n",
       " 'PHETA1m',\n",
       " 'PHETHPTOX2',\n",
       " 'PHYCBOXL',\n",
       " 'PPOR',\n",
       " 'PTHPS',\n",
       " 'SPR',\n",
       " 'THBPT4ACAMDASE',\n",
       " 'r0399',\n",
       " 'r0402',\n",
       " 'r0403',\n",
       " 'r0545',\n",
       " 'r0547',\n",
       " 'r0673',\n",
       " 'RE0830C',\n",
       " 'RE0830N',\n",
       " 'RE1709C',\n",
       " 'RE1709N',\n",
       " 'RE2660C',\n",
       " 'RE2660N',\n",
       " 'PHLAC',\n",
       " '3HPPPNOHc',\n",
       " '3HPPPNOHGLUCc',\n",
       " 'GLYNATm',\n",
       " 'PACCOALm',\n",
       " 'DHPR',\n",
       " 'GTPCI',\n",
       " 'r0398',\n",
       " 'PHETA1',\n",
       " 'HMR_6728',\n",
       " 'HMR_6729',\n",
       " 'HMR_6747',\n",
       " 'HMR_6755',\n",
       " 'HMR_6770',\n",
       " 'HMR_6782',\n",
       " 'HMR_6784',\n",
       " 'HMR_6785',\n",
       " 'HMR_6786',\n",
       " 'HMR_6790',\n",
       " 'HMR_6826',\n",
       " 'HMR_6834',\n",
       " 'HMR_6838',\n",
       " 'HMR_6839',\n",
       " 'HMR_6844',\n",
       " 'HMR_6850',\n",
       " 'HMR_6854',\n",
       " 'HMR_6874',\n",
       " 'HMR_6876',\n",
       " 'HMR_7628',\n",
       " 'HMR_7756',\n",
       " 'HMR_4816']"
      ]
     },
     "execution_count": 54,
     "metadata": {},
     "output_type": "execute_result"
    }
   ],
   "source": [
    "\n",
    "subsys_bool = [bool(re.search(\"Phenyla|phenyla|Tetrahydrobiopterin\", s)) for s in subsystems[0:10600]]\n",
    "\n",
    "subsys_rxns = list(itertools.compress(rxns, subsys_bool))\n",
    "\n",
    "subsys_rxns"
   ]
  },
  {
   "cell_type": "code",
   "execution_count": null,
   "metadata": {},
   "outputs": [],
   "source": [
    "\n",
    "base_dict          =  dict(zip(G,   itertools.repeat(0)))\n",
    "subsys_colors_dict = copy.deepcopy(base_dict)\n",
    "\n",
    "subsys_rxns_dict   =  dict(zip(subsys_rxns, itertools.repeat(1)))\n",
    "\n",
    "subsys_colors_dict.update(subsys_rxns_dict)\n",
    "nx.set_node_attributes(nx_Flux, subsys_colors_dict, \"subsys_color\")\n",
    "nx.write_gexf(nx_Flux, \"./results/graphs/for_visualizations/nx_Flux.gexf\")\n"
   ]
  },
  {
   "attachments": {},
   "cell_type": "markdown",
   "metadata": {},
   "source": [
    "### --------END--------"
   ]
  }
 ],
 "metadata": {
  "kernelspec": {
   "display_name": "geo",
   "language": "python",
   "name": "python3"
  },
  "language_info": {
   "codemirror_mode": {
    "name": "ipython",
    "version": 3
   },
   "file_extension": ".py",
   "mimetype": "text/x-python",
   "name": "python",
   "nbconvert_exporter": "python",
   "pygments_lexer": "ipython3",
   "version": "3.9.15 | packaged by conda-forge | (main, Nov 22 2022, 15:55:03) \n[GCC 10.4.0]"
  },
  "orig_nbformat": 4,
  "vscode": {
   "interpreter": {
    "hash": "9ccb92c3caf64d15d8cccade25008a463e602c087926676408820d80b4769698"
   }
  }
 },
 "nbformat": 4,
 "nbformat_minor": 2
}
