{
 "cells": [
  {
   "cell_type": "code",
   "execution_count": 2,
   "metadata": {},
   "outputs": [],
   "source": [
    "from acevedo_clss_and_fcns import * \n",
    "from    cobra.io.mat import *\n",
    "#import torch\n",
    "from networkx.algorithms import bipartite\n",
    "G = nx.read_gpickle(\"./results/graphs/NX_recon_graph.gpickle\")\n",
    "assert nx.is_connected(G)\n",
    "assert 1 == np.unique(list(nx.get_edge_attributes(G, \"weight\").values())).__len__()\n",
    "n_nodes                  = len(list(G.nodes))\n",
    "partition_1, partition_2 = bipartite.sets(G)"
   ]
  },
  {
   "cell_type": "code",
   "execution_count": null,
   "metadata": {},
   "outputs": [],
   "source": []
  },
  {
   "cell_type": "code",
   "execution_count": null,
   "metadata": {},
   "outputs": [],
   "source": [
    "\n",
    "\n",
    "loader_path = './results/dataloaders/MASKED_loader_Concen_plus_Fluxes.pt'\n",
    "loader = torch.load(loader_path)\n",
    "a_batch         = next(iter(loader.get_train_loader()))\n",
    "a_graph         = a_batch[0]\n",
    "assert a_graph.x.shape[0] ==len(list(G.nodes))\n"
   ]
  },
  {
   "cell_type": "code",
   "execution_count": 13,
   "metadata": {},
   "outputs": [],
   "source": [
    "feature_vector = a_graph.x.reshape(n_nodes).abs().tolist()\n",
    "\n",
    "feature_dict   = dict(zip(G, feature_vector))\n",
    "nx.set_node_attributes(G, feature_dict, \"size\")\n",
    "\n",
    "\n"
   ]
  },
  {
   "cell_type": "code",
   "execution_count": 15,
   "metadata": {},
   "outputs": [],
   "source": [
    "nx.write_gexf(G, \"./results/graphs/for_visualizations/recon3_pku.gexf\")"
   ]
  }
 ],
 "metadata": {
  "kernelspec": {
   "display_name": "geo",
   "language": "python",
   "name": "python3"
  },
  "language_info": {
   "codemirror_mode": {
    "name": "ipython",
    "version": 3
   },
   "file_extension": ".py",
   "mimetype": "text/x-python",
   "name": "python",
   "nbconvert_exporter": "python",
   "pygments_lexer": "ipython3",
   "version": "3.9.15"
  },
  "orig_nbformat": 4,
  "vscode": {
   "interpreter": {
    "hash": "9ccb92c3caf64d15d8cccade25008a463e602c087926676408820d80b4769698"
   }
  }
 },
 "nbformat": 4,
 "nbformat_minor": 2
}
