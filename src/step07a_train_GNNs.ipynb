{
 "cells": [
  {
   "cell_type": "code",
   "execution_count": 1,
   "metadata": {},
   "outputs": [
    {
     "name": "stderr",
     "output_type": "stream",
     "text": [
      "/DeepenData/.miniconda/envs/geo/lib/python3.9/site-packages/tqdm/auto.py:22: TqdmWarning: IProgress not found. Please update jupyter and ipywidgets. See https://ipywidgets.readthedocs.io/en/stable/user_install.html\n",
      "  from .autonotebook import tqdm as notebook_tqdm\n"
     ]
    },
    {
     "name": "stdout",
     "output_type": "stream",
     "text": [
      "device = 'cuda:0'\n"
     ]
    }
   ],
   "source": [
    "from acevedo_clss_and_fcns import * \n",
    "device = 'cpu'\n",
    "if torch.cuda.is_available():\n",
    "    torch.cuda.init()\n",
    "    if torch.cuda.is_initialized():\n",
    "        device = 'cuda:0'\n",
    "print(f\"{device = }\")\n"
   ]
  },
  {
   "cell_type": "code",
   "execution_count": 2,
   "metadata": {},
   "outputs": [
    {
     "name": "stderr",
     "output_type": "stream",
     "text": [
      "  3%|▎         | 1/30 [00:12<05:58, 12.37s/it]"
     ]
    },
    {
     "name": "stdout",
     "output_type": "stream",
     "text": [
      "model_type = 'GCN' flux = False mask = False Epoch: 000, train_accuracy: 0.8072, best_validation_accuracy: 0.9811\n",
      "saved as ./results/trained_models/Non_flux/Non_masked/GCN/Model_GCN_04-12-2022_23h_05min_best_ValAcc_0.9811163565676201_epoch_0.pt\n"
     ]
    },
    {
     "name": "stderr",
     "output_type": "stream",
     "text": [
      "  7%|▋         | 2/30 [00:24<05:37, 12.04s/it]"
     ]
    },
    {
     "name": "stdout",
     "output_type": "stream",
     "text": [
      "model_type = 'GCN' flux = False mask = False Epoch: 001, train_accuracy: 0.9876, best_validation_accuracy: 0.9903\n",
      "saved as ./results/trained_models/Non_flux/Non_masked/GCN/Model_GCN_04-12-2022_23h_06min_best_ValAcc_0.9902804776450986_epoch_1.pt\n"
     ]
    },
    {
     "name": "stderr",
     "output_type": "stream",
     "text": [
      " 10%|█         | 3/30 [00:36<05:23, 11.97s/it]"
     ]
    },
    {
     "name": "stdout",
     "output_type": "stream",
     "text": [
      "model_type = 'GCN' flux = False mask = False Epoch: 002, train_accuracy: 0.9918, best_validation_accuracy: 0.9928\n",
      "saved as ./results/trained_models/Non_flux/Non_masked/GCN/Model_GCN_04-12-2022_23h_06min_best_ValAcc_0.9927797833935018_epoch_2.pt\n"
     ]
    },
    {
     "name": "stderr",
     "output_type": "stream",
     "text": [
      " 23%|██▎       | 7/30 [01:23<04:32, 11.83s/it]"
     ]
    },
    {
     "name": "stdout",
     "output_type": "stream",
     "text": [
      "model_type = 'GCN' flux = False mask = False Epoch: 006, train_accuracy: 0.9948, best_validation_accuracy: 0.9947\n",
      "saved as ./results/trained_models/Non_flux/Non_masked/GCN/Model_GCN_04-12-2022_23h_07min_best_ValAcc_0.9947236878644821_epoch_6.pt\n"
     ]
    },
    {
     "name": "stderr",
     "output_type": "stream",
     "text": [
      " 47%|████▋     | 14/30 [02:45<03:08, 11.80s/it]"
     ]
    },
    {
     "name": "stdout",
     "output_type": "stream",
     "text": [
      "model_type = 'GCN' flux = False mask = False Epoch: 013, train_accuracy: 0.9952, best_validation_accuracy: 0.9950\n",
      "saved as ./results/trained_models/Non_flux/Non_masked/GCN/Model_GCN_04-12-2022_23h_08min_best_ValAcc_0.9950013885031935_epoch_13.pt\n"
     ]
    },
    {
     "name": "stderr",
     "output_type": "stream",
     "text": [
      " 57%|█████▋    | 17/30 [03:21<02:33, 11.79s/it]"
     ]
    },
    {
     "name": "stdout",
     "output_type": "stream",
     "text": [
      "model_type = 'GCN' flux = False mask = False Epoch: 016, train_accuracy: 0.9949, best_validation_accuracy: 0.9953\n",
      "saved as ./results/trained_models/Non_flux/Non_masked/GCN/Model_GCN_04-12-2022_23h_09min_best_ValAcc_0.995279089141905_epoch_16.pt\n"
     ]
    },
    {
     "name": "stderr",
     "output_type": "stream",
     "text": [
      "100%|██████████| 30/30 [05:54<00:00, 11.82s/it]\n",
      "  3%|▎         | 1/30 [00:11<05:43, 11.85s/it]"
     ]
    },
    {
     "name": "stdout",
     "output_type": "stream",
     "text": [
      "model_type = 'GCN' flux = True mask = False Epoch: 000, train_accuracy: 0.7529, best_validation_accuracy: 0.9467\n",
      "saved as ./results/trained_models/Flux/Non_masked/GCN/Model_GCN_04-12-2022_23h_11min_best_ValAcc_0.9466814773673979_epoch_0.pt\n"
     ]
    },
    {
     "name": "stderr",
     "output_type": "stream",
     "text": [
      "  7%|▋         | 2/30 [00:23<05:29, 11.78s/it]"
     ]
    },
    {
     "name": "stdout",
     "output_type": "stream",
     "text": [
      "model_type = 'GCN' flux = True mask = False Epoch: 001, train_accuracy: 0.9794, best_validation_accuracy: 0.9853\n",
      "saved as ./results/trained_models/Flux/Non_masked/GCN/Model_GCN_04-12-2022_23h_12min_best_ValAcc_0.9852818661482922_epoch_1.pt\n"
     ]
    },
    {
     "name": "stderr",
     "output_type": "stream",
     "text": [
      " 10%|█         | 3/30 [00:35<05:17, 11.77s/it]"
     ]
    },
    {
     "name": "stdout",
     "output_type": "stream",
     "text": [
      "model_type = 'GCN' flux = True mask = False Epoch: 002, train_accuracy: 0.9819, best_validation_accuracy: 0.9908\n",
      "saved as ./results/trained_models/Flux/Non_masked/GCN/Model_GCN_04-12-2022_23h_12min_best_ValAcc_0.9908358789225216_epoch_2.pt\n"
     ]
    },
    {
     "name": "stderr",
     "output_type": "stream",
     "text": [
      " 13%|█▎        | 4/30 [00:47<05:05, 11.76s/it]"
     ]
    },
    {
     "name": "stdout",
     "output_type": "stream",
     "text": [
      "model_type = 'GCN' flux = True mask = False Epoch: 003, train_accuracy: 0.9906, best_validation_accuracy: 0.9933\n",
      "saved as ./results/trained_models/Flux/Non_masked/GCN/Model_GCN_04-12-2022_23h_12min_best_ValAcc_0.9933351846709247_epoch_3.pt\n"
     ]
    },
    {
     "name": "stderr",
     "output_type": "stream",
     "text": [
      " 17%|█▋        | 5/30 [00:58<04:53, 11.75s/it]"
     ]
    },
    {
     "name": "stdout",
     "output_type": "stream",
     "text": [
      "model_type = 'GCN' flux = True mask = False Epoch: 004, train_accuracy: 0.9926, best_validation_accuracy: 0.9944\n",
      "saved as ./results/trained_models/Flux/Non_masked/GCN/Model_GCN_04-12-2022_23h_12min_best_ValAcc_0.9944459872257706_epoch_4.pt\n"
     ]
    },
    {
     "name": "stderr",
     "output_type": "stream",
     "text": [
      " 43%|████▎     | 13/30 [02:32<03:19, 11.74s/it]"
     ]
    },
    {
     "name": "stdout",
     "output_type": "stream",
     "text": [
      "model_type = 'GCN' flux = True mask = False Epoch: 012, train_accuracy: 0.9926, best_validation_accuracy: 0.9950\n",
      "saved as ./results/trained_models/Flux/Non_masked/GCN/Model_GCN_04-12-2022_23h_14min_best_ValAcc_0.9950013885031935_epoch_12.pt\n"
     ]
    },
    {
     "name": "stderr",
     "output_type": "stream",
     "text": [
      " 80%|████████  | 24/30 [04:41<01:10, 11.72s/it]"
     ]
    },
    {
     "name": "stdout",
     "output_type": "stream",
     "text": [
      "model_type = 'GCN' flux = True mask = False Epoch: 023, train_accuracy: 0.9943, best_validation_accuracy: 0.9953\n",
      "saved as ./results/trained_models/Flux/Non_masked/GCN/Model_GCN_04-12-2022_23h_16min_best_ValAcc_0.995279089141905_epoch_23.pt\n"
     ]
    },
    {
     "name": "stderr",
     "output_type": "stream",
     "text": [
      "100%|██████████| 30/30 [05:52<00:00, 11.75s/it]\n",
      "  3%|▎         | 1/30 [00:11<05:43, 11.85s/it]"
     ]
    },
    {
     "name": "stdout",
     "output_type": "stream",
     "text": [
      "model_type = 'GCN' flux = False mask = True Epoch: 000, train_accuracy: 0.5975, best_validation_accuracy: 0.8200\n",
      "saved as ./results/trained_models/Non_flux/Masked/GCN/Model_GCN_04-12-2022_23h_17min_best_ValAcc_0.820049986114968_epoch_0.pt\n"
     ]
    },
    {
     "name": "stderr",
     "output_type": "stream",
     "text": [
      " 10%|█         | 3/30 [00:35<05:17, 11.77s/it]"
     ]
    },
    {
     "name": "stdout",
     "output_type": "stream",
     "text": [
      "model_type = 'GCN' flux = False mask = True Epoch: 002, train_accuracy: 0.8419, best_validation_accuracy: 0.8745\n",
      "saved as ./results/trained_models/Non_flux/Masked/GCN/Model_GCN_04-12-2022_23h_18min_best_ValAcc_0.874479311302416_epoch_2.pt\n"
     ]
    },
    {
     "name": "stderr",
     "output_type": "stream",
     "text": [
      " 13%|█▎        | 4/30 [00:47<05:06, 11.78s/it]"
     ]
    },
    {
     "name": "stdout",
     "output_type": "stream",
     "text": [
      "model_type = 'GCN' flux = False mask = True Epoch: 003, train_accuracy: 0.8757, best_validation_accuracy: 0.8925\n",
      "saved as ./results/trained_models/Non_flux/Masked/GCN/Model_GCN_04-12-2022_23h_18min_best_ValAcc_0.8925298528186615_epoch_3.pt\n"
     ]
    },
    {
     "name": "stderr",
     "output_type": "stream",
     "text": [
      " 20%|██        | 6/30 [01:10<04:42, 11.75s/it]"
     ]
    },
    {
     "name": "stdout",
     "output_type": "stream",
     "text": [
      "model_type = 'GCN' flux = False mask = True Epoch: 005, train_accuracy: 0.9108, best_validation_accuracy: 0.8989\n",
      "saved as ./results/trained_models/Non_flux/Masked/GCN/Model_GCN_04-12-2022_23h_18min_best_ValAcc_0.8989169675090253_epoch_5.pt\n"
     ]
    },
    {
     "name": "stderr",
     "output_type": "stream",
     "text": [
      " 23%|██▎       | 7/30 [01:22<04:30, 11.75s/it]"
     ]
    },
    {
     "name": "stdout",
     "output_type": "stream",
     "text": [
      "model_type = 'GCN' flux = False mask = True Epoch: 006, train_accuracy: 0.9016, best_validation_accuracy: 0.9147\n",
      "saved as ./results/trained_models/Non_flux/Masked/GCN/Model_GCN_04-12-2022_23h_18min_best_ValAcc_0.914745903915579_epoch_6.pt\n"
     ]
    },
    {
     "name": "stderr",
     "output_type": "stream",
     "text": [
      " 27%|██▋       | 8/30 [01:34<04:18, 11.74s/it]"
     ]
    },
    {
     "name": "stdout",
     "output_type": "stream",
     "text": [
      "model_type = 'GCN' flux = False mask = True Epoch: 007, train_accuracy: 0.9242, best_validation_accuracy: 0.9256\n",
      "saved as ./results/trained_models/Non_flux/Masked/GCN/Model_GCN_04-12-2022_23h_19min_best_ValAcc_0.9255762288253263_epoch_7.pt\n"
     ]
    },
    {
     "name": "stderr",
     "output_type": "stream",
     "text": [
      " 40%|████      | 12/30 [02:21<03:31, 11.74s/it]"
     ]
    },
    {
     "name": "stdout",
     "output_type": "stream",
     "text": [
      "model_type = 'GCN' flux = False mask = True Epoch: 011, train_accuracy: 0.9306, best_validation_accuracy: 0.9275\n",
      "saved as ./results/trained_models/Non_flux/Masked/GCN/Model_GCN_04-12-2022_23h_19min_best_ValAcc_0.9275201332963066_epoch_11.pt\n"
     ]
    },
    {
     "name": "stderr",
     "output_type": "stream",
     "text": [
      " 47%|████▋     | 14/30 [02:44<03:07, 11.74s/it]"
     ]
    },
    {
     "name": "stdout",
     "output_type": "stream",
     "text": [
      "model_type = 'GCN' flux = False mask = True Epoch: 013, train_accuracy: 0.9376, best_validation_accuracy: 0.9386\n",
      "saved as ./results/trained_models/Non_flux/Masked/GCN/Model_GCN_04-12-2022_23h_20min_best_ValAcc_0.9386281588447654_epoch_13.pt\n"
     ]
    },
    {
     "name": "stderr",
     "output_type": "stream",
     "text": [
      " 50%|█████     | 15/30 [02:56<02:56, 11.75s/it]"
     ]
    },
    {
     "name": "stdout",
     "output_type": "stream",
     "text": [
      "model_type = 'GCN' flux = False mask = True Epoch: 014, train_accuracy: 0.9422, best_validation_accuracy: 0.9456\n",
      "saved as ./results/trained_models/Non_flux/Masked/GCN/Model_GCN_04-12-2022_23h_20min_best_ValAcc_0.9455706748125521_epoch_14.pt\n"
     ]
    },
    {
     "name": "stderr",
     "output_type": "stream",
     "text": [
      " 53%|█████▎    | 16/30 [03:08<02:44, 11.75s/it]"
     ]
    },
    {
     "name": "stdout",
     "output_type": "stream",
     "text": [
      "model_type = 'GCN' flux = False mask = True Epoch: 015, train_accuracy: 0.9473, best_validation_accuracy: 0.9461\n",
      "saved as ./results/trained_models/Non_flux/Masked/GCN/Model_GCN_04-12-2022_23h_20min_best_ValAcc_0.946126076089975_epoch_15.pt\n"
     ]
    },
    {
     "name": "stderr",
     "output_type": "stream",
     "text": [
      " 63%|██████▎   | 19/30 [03:43<02:09, 11.75s/it]"
     ]
    },
    {
     "name": "stdout",
     "output_type": "stream",
     "text": [
      "model_type = 'GCN' flux = False mask = True Epoch: 018, train_accuracy: 0.9482, best_validation_accuracy: 0.9514\n",
      "saved as ./results/trained_models/Non_flux/Masked/GCN/Model_GCN_04-12-2022_23h_21min_best_ValAcc_0.951402388225493_epoch_18.pt\n"
     ]
    },
    {
     "name": "stderr",
     "output_type": "stream",
     "text": [
      " 67%|██████▋   | 20/30 [03:55<01:57, 11.80s/it]"
     ]
    },
    {
     "name": "stdout",
     "output_type": "stream",
     "text": [
      "model_type = 'GCN' flux = False mask = True Epoch: 019, train_accuracy: 0.9517, best_validation_accuracy: 0.9520\n",
      "saved as ./results/trained_models/Non_flux/Masked/GCN/Model_GCN_04-12-2022_23h_21min_best_ValAcc_0.9519577895029159_epoch_19.pt\n"
     ]
    },
    {
     "name": "stderr",
     "output_type": "stream",
     "text": [
      " 73%|███████▎  | 22/30 [04:17<01:31, 11.47s/it]"
     ]
    },
    {
     "name": "stdout",
     "output_type": "stream",
     "text": [
      "model_type = 'GCN' flux = False mask = True Epoch: 021, train_accuracy: 0.9526, best_validation_accuracy: 0.9536\n",
      "saved as ./results/trained_models/Non_flux/Masked/GCN/Model_GCN_04-12-2022_23h_21min_best_ValAcc_0.9536239933351847_epoch_21.pt\n"
     ]
    },
    {
     "name": "stderr",
     "output_type": "stream",
     "text": [
      " 80%|████████  | 24/30 [04:39<01:07, 11.29s/it]"
     ]
    },
    {
     "name": "stdout",
     "output_type": "stream",
     "text": [
      "model_type = 'GCN' flux = False mask = True Epoch: 023, train_accuracy: 0.9547, best_validation_accuracy: 0.9545\n",
      "saved as ./results/trained_models/Non_flux/Masked/GCN/Model_GCN_04-12-2022_23h_22min_best_ValAcc_0.954457095251319_epoch_23.pt\n"
     ]
    },
    {
     "name": "stderr",
     "output_type": "stream",
     "text": [
      " 90%|█████████ | 27/30 [05:13<00:33, 11.18s/it]"
     ]
    },
    {
     "name": "stdout",
     "output_type": "stream",
     "text": [
      "model_type = 'GCN' flux = False mask = True Epoch: 026, train_accuracy: 0.9575, best_validation_accuracy: 0.9572\n",
      "saved as ./results/trained_models/Non_flux/Masked/GCN/Model_GCN_04-12-2022_23h_22min_best_ValAcc_0.9572341016384338_epoch_26.pt\n"
     ]
    },
    {
     "name": "stderr",
     "output_type": "stream",
     "text": [
      " 93%|█████████▎| 28/30 [05:24<00:22, 11.16s/it]"
     ]
    },
    {
     "name": "stdout",
     "output_type": "stream",
     "text": [
      "model_type = 'GCN' flux = False mask = True Epoch: 027, train_accuracy: 0.9573, best_validation_accuracy: 0.9586\n",
      "saved as ./results/trained_models/Non_flux/Masked/GCN/Model_GCN_04-12-2022_23h_22min_best_ValAcc_0.9586226048319911_epoch_27.pt\n"
     ]
    },
    {
     "name": "stderr",
     "output_type": "stream",
     "text": [
      "100%|██████████| 30/30 [05:46<00:00, 11.55s/it]"
     ]
    },
    {
     "name": "stdout",
     "output_type": "stream",
     "text": [
      "model_type = 'GCN' flux = False mask = True Epoch: 029, train_accuracy: 0.9596, best_validation_accuracy: 0.9608\n",
      "saved as ./results/trained_models/Non_flux/Masked/GCN/Model_GCN_04-12-2022_23h_23min_best_ValAcc_0.9608442099416828_epoch_29.pt\n"
     ]
    },
    {
     "name": "stderr",
     "output_type": "stream",
     "text": [
      "\n",
      "  3%|▎         | 1/30 [00:11<05:24, 11.19s/it]"
     ]
    },
    {
     "name": "stdout",
     "output_type": "stream",
     "text": [
      "model_type = 'GCN' flux = True mask = True Epoch: 000, train_accuracy: 0.5050, best_validation_accuracy: 0.4957\n",
      "saved as ./results/trained_models/Flux/Masked/GCN/Model_GCN_04-12-2022_23h_23min_best_ValAcc_0.49569564009997225_epoch_0.pt\n"
     ]
    },
    {
     "name": "stderr",
     "output_type": "stream",
     "text": [
      "  7%|▋         | 2/30 [00:22<05:11, 11.12s/it]"
     ]
    },
    {
     "name": "stdout",
     "output_type": "stream",
     "text": [
      "model_type = 'GCN' flux = True mask = True Epoch: 001, train_accuracy: 0.5470, best_validation_accuracy: 0.6981\n",
      "saved as ./results/trained_models/Flux/Masked/GCN/Model_GCN_04-12-2022_23h_23min_best_ValAcc_0.6981394057206332_epoch_1.pt\n"
     ]
    },
    {
     "name": "stderr",
     "output_type": "stream",
     "text": [
      " 10%|█         | 3/30 [00:33<04:59, 11.11s/it]"
     ]
    },
    {
     "name": "stdout",
     "output_type": "stream",
     "text": [
      "model_type = 'GCN' flux = True mask = True Epoch: 002, train_accuracy: 0.7153, best_validation_accuracy: 0.8028\n",
      "saved as ./results/trained_models/Flux/Masked/GCN/Model_GCN_04-12-2022_23h_23min_best_ValAcc_0.802832546514857_epoch_2.pt\n"
     ]
    },
    {
     "name": "stderr",
     "output_type": "stream",
     "text": [
      " 13%|█▎        | 4/30 [00:44<04:48, 11.09s/it]"
     ]
    },
    {
     "name": "stdout",
     "output_type": "stream",
     "text": [
      "model_type = 'GCN' flux = True mask = True Epoch: 003, train_accuracy: 0.8128, best_validation_accuracy: 0.8300\n",
      "saved as ./results/trained_models/Flux/Masked/GCN/Model_GCN_04-12-2022_23h_24min_best_ValAcc_0.830047209108581_epoch_3.pt\n"
     ]
    },
    {
     "name": "stderr",
     "output_type": "stream",
     "text": [
      " 17%|█▋        | 5/30 [00:55<04:37, 11.09s/it]"
     ]
    },
    {
     "name": "stdout",
     "output_type": "stream",
     "text": [
      "model_type = 'GCN' flux = True mask = True Epoch: 004, train_accuracy: 0.8350, best_validation_accuracy: 0.8389\n",
      "saved as ./results/trained_models/Flux/Masked/GCN/Model_GCN_04-12-2022_23h_24min_best_ValAcc_0.838933629547348_epoch_4.pt\n"
     ]
    },
    {
     "name": "stderr",
     "output_type": "stream",
     "text": [
      " 23%|██▎       | 7/30 [01:17<04:14, 11.08s/it]"
     ]
    },
    {
     "name": "stdout",
     "output_type": "stream",
     "text": [
      "model_type = 'GCN' flux = True mask = True Epoch: 006, train_accuracy: 0.8626, best_validation_accuracy: 0.8631\n",
      "saved as ./results/trained_models/Flux/Masked/GCN/Model_GCN_04-12-2022_23h_24min_best_ValAcc_0.8630935851152458_epoch_6.pt\n"
     ]
    },
    {
     "name": "stderr",
     "output_type": "stream",
     "text": [
      " 27%|██▋       | 8/30 [01:28<04:03, 11.07s/it]"
     ]
    },
    {
     "name": "stdout",
     "output_type": "stream",
     "text": [
      "model_type = 'GCN' flux = True mask = True Epoch: 007, train_accuracy: 0.8698, best_validation_accuracy: 0.8770\n",
      "saved as ./results/trained_models/Flux/Masked/GCN/Model_GCN_04-12-2022_23h_24min_best_ValAcc_0.8769786170508193_epoch_7.pt\n"
     ]
    },
    {
     "name": "stderr",
     "output_type": "stream",
     "text": [
      " 33%|███▎      | 10/30 [01:50<03:41, 11.07s/it]"
     ]
    },
    {
     "name": "stdout",
     "output_type": "stream",
     "text": [
      "model_type = 'GCN' flux = True mask = True Epoch: 009, train_accuracy: 0.8950, best_validation_accuracy: 0.8828\n",
      "saved as ./results/trained_models/Flux/Masked/GCN/Model_GCN_04-12-2022_23h_25min_best_ValAcc_0.8828103304637601_epoch_9.pt\n"
     ]
    },
    {
     "name": "stderr",
     "output_type": "stream",
     "text": [
      " 40%|████      | 12/30 [02:12<03:19, 11.06s/it]"
     ]
    },
    {
     "name": "stdout",
     "output_type": "stream",
     "text": [
      "model_type = 'GCN' flux = True mask = True Epoch: 011, train_accuracy: 0.8926, best_validation_accuracy: 0.8928\n",
      "saved as ./results/trained_models/Flux/Masked/GCN/Model_GCN_04-12-2022_23h_25min_best_ValAcc_0.892807553457373_epoch_11.pt\n"
     ]
    },
    {
     "name": "stderr",
     "output_type": "stream",
     "text": [
      " 43%|████▎     | 13/30 [02:24<03:07, 11.06s/it]"
     ]
    },
    {
     "name": "stdout",
     "output_type": "stream",
     "text": [
      "model_type = 'GCN' flux = True mask = True Epoch: 012, train_accuracy: 0.9149, best_validation_accuracy: 0.9128\n",
      "saved as ./results/trained_models/Flux/Masked/GCN/Model_GCN_04-12-2022_23h_25min_best_ValAcc_0.9128019994445987_epoch_12.pt\n"
     ]
    },
    {
     "name": "stderr",
     "output_type": "stream",
     "text": [
      " 53%|█████▎    | 16/30 [02:57<02:34, 11.06s/it]"
     ]
    },
    {
     "name": "stdout",
     "output_type": "stream",
     "text": [
      "model_type = 'GCN' flux = True mask = True Epoch: 015, train_accuracy: 0.9279, best_validation_accuracy: 0.9234\n",
      "saved as ./results/trained_models/Flux/Masked/GCN/Model_GCN_04-12-2022_23h_26min_best_ValAcc_0.9233546237156346_epoch_15.pt\n"
     ]
    },
    {
     "name": "stderr",
     "output_type": "stream",
     "text": [
      " 57%|█████▋    | 17/30 [03:08<02:23, 11.07s/it]"
     ]
    },
    {
     "name": "stdout",
     "output_type": "stream",
     "text": [
      "model_type = 'GCN' flux = True mask = True Epoch: 016, train_accuracy: 0.9235, best_validation_accuracy: 0.9250\n",
      "saved as ./results/trained_models/Flux/Masked/GCN/Model_GCN_04-12-2022_23h_26min_best_ValAcc_0.9250208275479034_epoch_16.pt\n"
     ]
    },
    {
     "name": "stderr",
     "output_type": "stream",
     "text": [
      " 67%|██████▋   | 20/30 [03:41<01:50, 11.08s/it]"
     ]
    },
    {
     "name": "stdout",
     "output_type": "stream",
     "text": [
      "model_type = 'GCN' flux = True mask = True Epoch: 019, train_accuracy: 0.9322, best_validation_accuracy: 0.9303\n",
      "saved as ./results/trained_models/Flux/Masked/GCN/Model_GCN_04-12-2022_23h_27min_best_ValAcc_0.9302971396834213_epoch_19.pt\n"
     ]
    },
    {
     "name": "stderr",
     "output_type": "stream",
     "text": [
      " 77%|███████▋  | 23/30 [04:14<01:17, 11.07s/it]"
     ]
    },
    {
     "name": "stdout",
     "output_type": "stream",
     "text": [
      "model_type = 'GCN' flux = True mask = True Epoch: 022, train_accuracy: 0.9403, best_validation_accuracy: 0.9320\n",
      "saved as ./results/trained_models/Flux/Masked/GCN/Model_GCN_04-12-2022_23h_27min_best_ValAcc_0.9319633435156901_epoch_22.pt\n"
     ]
    },
    {
     "name": "stderr",
     "output_type": "stream",
     "text": [
      " 83%|████████▎ | 25/30 [04:36<00:55, 11.08s/it]"
     ]
    },
    {
     "name": "stdout",
     "output_type": "stream",
     "text": [
      "model_type = 'GCN' flux = True mask = True Epoch: 024, train_accuracy: 0.9453, best_validation_accuracy: 0.9334\n",
      "saved as ./results/trained_models/Flux/Masked/GCN/Model_GCN_04-12-2022_23h_27min_best_ValAcc_0.9333518467092474_epoch_24.pt\n"
     ]
    },
    {
     "name": "stderr",
     "output_type": "stream",
     "text": [
      "100%|██████████| 30/30 [05:32<00:00, 11.08s/it]"
     ]
    },
    {
     "name": "stdout",
     "output_type": "stream",
     "text": [
      "model_type = 'GCN' flux = True mask = True Epoch: 029, train_accuracy: 0.9490, best_validation_accuracy: 0.9353\n",
      "saved as ./results/trained_models/Flux/Masked/GCN/Model_GCN_04-12-2022_23h_28min_best_ValAcc_0.9352957511802277_epoch_29.pt\n"
     ]
    },
    {
     "name": "stderr",
     "output_type": "stream",
     "text": [
      "\n",
      "  3%|▎         | 1/30 [00:15<07:29, 15.52s/it]"
     ]
    },
    {
     "name": "stdout",
     "output_type": "stream",
     "text": [
      "model_type = 'GAT' flux = False mask = False Epoch: 000, train_accuracy: 0.4938, best_validation_accuracy: 0.4946\n",
      "saved as ./results/trained_models/Non_flux/Non_masked/GAT/Model_GAT_04-12-2022_23h_29min_best_ValAcc_0.49458483754512633_epoch_0.pt\n"
     ]
    },
    {
     "name": "stderr",
     "output_type": "stream",
     "text": [
      " 10%|█         | 3/30 [00:45<06:49, 15.16s/it]"
     ]
    },
    {
     "name": "stdout",
     "output_type": "stream",
     "text": [
      "model_type = 'GAT' flux = False mask = False Epoch: 002, train_accuracy: 0.5285, best_validation_accuracy: 0.5407\n",
      "saved as ./results/trained_models/Non_flux/Non_masked/GAT/Model_GAT_04-12-2022_23h_29min_best_ValAcc_0.5406831435712303_epoch_2.pt\n"
     ]
    },
    {
     "name": "stderr",
     "output_type": "stream",
     "text": [
      " 13%|█▎        | 4/30 [01:00<06:33, 15.13s/it]"
     ]
    },
    {
     "name": "stdout",
     "output_type": "stream",
     "text": [
      "model_type = 'GAT' flux = False mask = False Epoch: 003, train_accuracy: 0.6121, best_validation_accuracy: 0.6854\n",
      "saved as ./results/trained_models/Non_flux/Non_masked/GAT/Model_GAT_04-12-2022_23h_29min_best_ValAcc_0.6853651763399056_epoch_3.pt\n"
     ]
    },
    {
     "name": "stderr",
     "output_type": "stream",
     "text": [
      " 17%|█▋        | 5/30 [01:15<06:17, 15.11s/it]"
     ]
    },
    {
     "name": "stdout",
     "output_type": "stream",
     "text": [
      "model_type = 'GAT' flux = False mask = False Epoch: 004, train_accuracy: 0.7671, best_validation_accuracy: 0.7912\n",
      "saved as ./results/trained_models/Non_flux/Non_masked/GAT/Model_GAT_04-12-2022_23h_30min_best_ValAcc_0.7911691196889753_epoch_4.pt\n"
     ]
    },
    {
     "name": "stderr",
     "output_type": "stream",
     "text": [
      " 20%|██        | 6/30 [01:30<06:02, 15.09s/it]"
     ]
    },
    {
     "name": "stdout",
     "output_type": "stream",
     "text": [
      "model_type = 'GAT' flux = False mask = False Epoch: 005, train_accuracy: 0.8253, best_validation_accuracy: 0.8481\n",
      "saved as ./results/trained_models/Non_flux/Non_masked/GAT/Model_GAT_04-12-2022_23h_30min_best_ValAcc_0.8480977506248264_epoch_5.pt\n"
     ]
    },
    {
     "name": "stderr",
     "output_type": "stream",
     "text": [
      " 23%|██▎       | 7/30 [01:45<05:47, 15.09s/it]"
     ]
    },
    {
     "name": "stdout",
     "output_type": "stream",
     "text": [
      "model_type = 'GAT' flux = False mask = False Epoch: 006, train_accuracy: 0.8704, best_validation_accuracy: 0.8959\n",
      "saved as ./results/trained_models/Non_flux/Non_masked/GAT/Model_GAT_04-12-2022_23h_30min_best_ValAcc_0.8958622604831991_epoch_6.pt\n"
     ]
    },
    {
     "name": "stderr",
     "output_type": "stream",
     "text": [
      " 27%|██▋       | 8/30 [02:01<05:31, 15.08s/it]"
     ]
    },
    {
     "name": "stdout",
     "output_type": "stream",
     "text": [
      "model_type = 'GAT' flux = False mask = False Epoch: 007, train_accuracy: 0.9194, best_validation_accuracy: 0.9375\n",
      "saved as ./results/trained_models/Non_flux/Non_masked/GAT/Model_GAT_04-12-2022_23h_30min_best_ValAcc_0.9375173562899195_epoch_7.pt\n"
     ]
    },
    {
     "name": "stderr",
     "output_type": "stream",
     "text": [
      " 30%|███       | 9/30 [02:16<05:16, 15.09s/it]"
     ]
    },
    {
     "name": "stdout",
     "output_type": "stream",
     "text": [
      "model_type = 'GAT' flux = False mask = False Epoch: 008, train_accuracy: 0.9383, best_validation_accuracy: 0.9436\n",
      "saved as ./results/trained_models/Non_flux/Non_masked/GAT/Model_GAT_04-12-2022_23h_31min_best_ValAcc_0.9436267703415718_epoch_8.pt\n"
     ]
    },
    {
     "name": "stderr",
     "output_type": "stream",
     "text": [
      " 33%|███▎      | 10/30 [02:31<05:01, 15.08s/it]"
     ]
    },
    {
     "name": "stdout",
     "output_type": "stream",
     "text": [
      "model_type = 'GAT' flux = False mask = False Epoch: 009, train_accuracy: 0.9433, best_validation_accuracy: 0.9450\n",
      "saved as ./results/trained_models/Non_flux/Non_masked/GAT/Model_GAT_04-12-2022_23h_31min_best_ValAcc_0.9450152735351292_epoch_9.pt\n"
     ]
    },
    {
     "name": "stderr",
     "output_type": "stream",
     "text": [
      " 37%|███▋      | 11/30 [02:46<04:46, 15.07s/it]"
     ]
    },
    {
     "name": "stdout",
     "output_type": "stream",
     "text": [
      "model_type = 'GAT' flux = False mask = False Epoch: 010, train_accuracy: 0.9441, best_validation_accuracy: 0.9464\n",
      "saved as ./results/trained_models/Non_flux/Non_masked/GAT/Model_GAT_04-12-2022_23h_31min_best_ValAcc_0.9464037767286865_epoch_10.pt\n"
     ]
    },
    {
     "name": "stderr",
     "output_type": "stream",
     "text": [
      " 43%|████▎     | 13/30 [03:16<04:16, 15.07s/it]"
     ]
    },
    {
     "name": "stdout",
     "output_type": "stream",
     "text": [
      "model_type = 'GAT' flux = False mask = False Epoch: 012, train_accuracy: 0.9467, best_validation_accuracy: 0.9483\n",
      "saved as ./results/trained_models/Non_flux/Non_masked/GAT/Model_GAT_04-12-2022_23h_32min_best_ValAcc_0.9483476811996667_epoch_12.pt\n"
     ]
    },
    {
     "name": "stderr",
     "output_type": "stream",
     "text": [
      " 47%|████▋     | 14/30 [03:31<04:01, 15.07s/it]"
     ]
    },
    {
     "name": "stdout",
     "output_type": "stream",
     "text": [
      "model_type = 'GAT' flux = False mask = False Epoch: 013, train_accuracy: 0.9466, best_validation_accuracy: 0.9492\n",
      "saved as ./results/trained_models/Non_flux/Non_masked/GAT/Model_GAT_04-12-2022_23h_32min_best_ValAcc_0.9491807831158011_epoch_13.pt\n"
     ]
    },
    {
     "name": "stderr",
     "output_type": "stream",
     "text": [
      " 50%|█████     | 15/30 [03:46<03:46, 15.07s/it]"
     ]
    },
    {
     "name": "stdout",
     "output_type": "stream",
     "text": [
      "model_type = 'GAT' flux = False mask = False Epoch: 014, train_accuracy: 0.9493, best_validation_accuracy: 0.9531\n",
      "saved as ./results/trained_models/Non_flux/Non_masked/GAT/Model_GAT_04-12-2022_23h_32min_best_ValAcc_0.9530685920577617_epoch_14.pt\n"
     ]
    },
    {
     "name": "stderr",
     "output_type": "stream",
     "text": [
      " 53%|█████▎    | 16/30 [04:01<03:31, 15.08s/it]"
     ]
    },
    {
     "name": "stdout",
     "output_type": "stream",
     "text": [
      "model_type = 'GAT' flux = False mask = False Epoch: 015, train_accuracy: 0.9526, best_validation_accuracy: 0.9578\n",
      "saved as ./results/trained_models/Non_flux/Non_masked/GAT/Model_GAT_04-12-2022_23h_32min_best_ValAcc_0.9577895029158567_epoch_15.pt\n"
     ]
    },
    {
     "name": "stderr",
     "output_type": "stream",
     "text": [
      " 60%|██████    | 18/30 [04:31<03:00, 15.07s/it]"
     ]
    },
    {
     "name": "stdout",
     "output_type": "stream",
     "text": [
      "model_type = 'GAT' flux = False mask = False Epoch: 017, train_accuracy: 0.9588, best_validation_accuracy: 0.9600\n",
      "saved as ./results/trained_models/Non_flux/Non_masked/GAT/Model_GAT_04-12-2022_23h_33min_best_ValAcc_0.9600111080255485_epoch_17.pt\n"
     ]
    },
    {
     "name": "stderr",
     "output_type": "stream",
     "text": [
      " 63%|██████▎   | 19/30 [04:46<02:45, 15.08s/it]"
     ]
    },
    {
     "name": "stdout",
     "output_type": "stream",
     "text": [
      "model_type = 'GAT' flux = False mask = False Epoch: 018, train_accuracy: 0.9628, best_validation_accuracy: 0.9667\n",
      "saved as ./results/trained_models/Non_flux/Non_masked/GAT/Model_GAT_04-12-2022_23h_33min_best_ValAcc_0.9666759233546237_epoch_18.pt\n"
     ]
    },
    {
     "name": "stderr",
     "output_type": "stream",
     "text": [
      " 67%|██████▋   | 20/30 [05:01<02:30, 15.08s/it]"
     ]
    },
    {
     "name": "stdout",
     "output_type": "stream",
     "text": [
      "model_type = 'GAT' flux = False mask = False Epoch: 019, train_accuracy: 0.9685, best_validation_accuracy: 0.9711\n",
      "saved as ./results/trained_models/Non_flux/Non_masked/GAT/Model_GAT_04-12-2022_23h_33min_best_ValAcc_0.9711191335740073_epoch_19.pt\n"
     ]
    },
    {
     "name": "stderr",
     "output_type": "stream",
     "text": [
      " 70%|███████   | 21/30 [05:16<02:15, 15.08s/it]"
     ]
    },
    {
     "name": "stdout",
     "output_type": "stream",
     "text": [
      "model_type = 'GAT' flux = False mask = False Epoch: 020, train_accuracy: 0.9791, best_validation_accuracy: 0.9761\n",
      "saved as ./results/trained_models/Non_flux/Non_masked/GAT/Model_GAT_04-12-2022_23h_34min_best_ValAcc_0.9761177450708136_epoch_20.pt\n"
     ]
    },
    {
     "name": "stderr",
     "output_type": "stream",
     "text": [
      " 73%|███████▎  | 22/30 [05:32<02:00, 15.09s/it]"
     ]
    },
    {
     "name": "stdout",
     "output_type": "stream",
     "text": [
      "model_type = 'GAT' flux = False mask = False Epoch: 021, train_accuracy: 0.9899, best_validation_accuracy: 0.9947\n",
      "saved as ./results/trained_models/Non_flux/Non_masked/GAT/Model_GAT_04-12-2022_23h_34min_best_ValAcc_0.9947236878644821_epoch_21.pt\n"
     ]
    },
    {
     "name": "stderr",
     "output_type": "stream",
     "text": [
      " 77%|███████▋  | 23/30 [05:47<01:45, 15.11s/it]"
     ]
    },
    {
     "name": "stdout",
     "output_type": "stream",
     "text": [
      "model_type = 'GAT' flux = False mask = False Epoch: 022, train_accuracy: 0.9949, best_validation_accuracy: 0.9950\n",
      "saved as ./results/trained_models/Non_flux/Non_masked/GAT/Model_GAT_04-12-2022_23h_34min_best_ValAcc_0.9950013885031935_epoch_22.pt\n"
     ]
    },
    {
     "name": "stderr",
     "output_type": "stream",
     "text": [
      "100%|██████████| 30/30 [07:33<00:00, 15.10s/it]\n",
      "  3%|▎         | 1/30 [00:15<07:24, 15.34s/it]"
     ]
    },
    {
     "name": "stdout",
     "output_type": "stream",
     "text": [
      "model_type = 'GAT' flux = True mask = False Epoch: 000, train_accuracy: 0.5056, best_validation_accuracy: 0.5049\n",
      "saved as ./results/trained_models/Flux/Non_masked/GAT/Model_GAT_04-12-2022_23h_36min_best_ValAcc_0.5048597611774507_epoch_0.pt\n"
     ]
    },
    {
     "name": "stderr",
     "output_type": "stream",
     "text": [
      "  7%|▋         | 2/30 [00:30<07:05, 15.18s/it]"
     ]
    },
    {
     "name": "stdout",
     "output_type": "stream",
     "text": [
      "model_type = 'GAT' flux = True mask = False Epoch: 001, train_accuracy: 0.6754, best_validation_accuracy: 0.7392\n",
      "saved as ./results/trained_models/Flux/Non_masked/GAT/Model_GAT_04-12-2022_23h_36min_best_ValAcc_0.7392391002499306_epoch_1.pt\n"
     ]
    },
    {
     "name": "stderr",
     "output_type": "stream",
     "text": [
      " 10%|█         | 3/30 [00:45<06:48, 15.14s/it]"
     ]
    },
    {
     "name": "stdout",
     "output_type": "stream",
     "text": [
      "model_type = 'GAT' flux = True mask = False Epoch: 002, train_accuracy: 0.9272, best_validation_accuracy: 0.9522\n",
      "saved as ./results/trained_models/Flux/Non_masked/GAT/Model_GAT_04-12-2022_23h_37min_best_ValAcc_0.9522354901416273_epoch_2.pt\n"
     ]
    },
    {
     "name": "stderr",
     "output_type": "stream",
     "text": [
      " 13%|█▎        | 4/30 [01:00<06:33, 15.12s/it]"
     ]
    },
    {
     "name": "stdout",
     "output_type": "stream",
     "text": [
      "model_type = 'GAT' flux = True mask = False Epoch: 003, train_accuracy: 0.9523, best_validation_accuracy: 0.9645\n",
      "saved as ./results/trained_models/Flux/Non_masked/GAT/Model_GAT_04-12-2022_23h_37min_best_ValAcc_0.964454318244932_epoch_3.pt\n"
     ]
    },
    {
     "name": "stderr",
     "output_type": "stream",
     "text": [
      " 17%|█▋        | 5/30 [01:15<06:17, 15.10s/it]"
     ]
    },
    {
     "name": "stdout",
     "output_type": "stream",
     "text": [
      "model_type = 'GAT' flux = True mask = False Epoch: 004, train_accuracy: 0.9652, best_validation_accuracy: 0.9656\n",
      "saved as ./results/trained_models/Flux/Non_masked/GAT/Model_GAT_04-12-2022_23h_37min_best_ValAcc_0.9655651207997779_epoch_4.pt\n"
     ]
    },
    {
     "name": "stderr",
     "output_type": "stream",
     "text": [
      " 20%|██        | 6/30 [01:30<06:02, 15.10s/it]"
     ]
    },
    {
     "name": "stdout",
     "output_type": "stream",
     "text": [
      "model_type = 'GAT' flux = True mask = False Epoch: 005, train_accuracy: 0.9742, best_validation_accuracy: 0.9797\n",
      "saved as ./results/trained_models/Flux/Non_masked/GAT/Model_GAT_04-12-2022_23h_37min_best_ValAcc_0.9797278533740628_epoch_5.pt\n"
     ]
    },
    {
     "name": "stderr",
     "output_type": "stream",
     "text": [
      " 23%|██▎       | 7/30 [01:45<05:47, 15.09s/it]"
     ]
    },
    {
     "name": "stdout",
     "output_type": "stream",
     "text": [
      "model_type = 'GAT' flux = True mask = False Epoch: 006, train_accuracy: 0.9817, best_validation_accuracy: 0.9800\n",
      "saved as ./results/trained_models/Flux/Non_masked/GAT/Model_GAT_04-12-2022_23h_38min_best_ValAcc_0.9800055540127742_epoch_6.pt\n"
     ]
    },
    {
     "name": "stderr",
     "output_type": "stream",
     "text": [
      " 27%|██▋       | 8/30 [02:00<05:31, 15.09s/it]"
     ]
    },
    {
     "name": "stdout",
     "output_type": "stream",
     "text": [
      "model_type = 'GAT' flux = True mask = False Epoch: 007, train_accuracy: 0.9840, best_validation_accuracy: 0.9869\n",
      "saved as ./results/trained_models/Flux/Non_masked/GAT/Model_GAT_04-12-2022_23h_38min_best_ValAcc_0.986948069980561_epoch_7.pt\n"
     ]
    },
    {
     "name": "stderr",
     "output_type": "stream",
     "text": [
      " 30%|███       | 9/30 [02:16<05:16, 15.09s/it]"
     ]
    },
    {
     "name": "stdout",
     "output_type": "stream",
     "text": [
      "model_type = 'GAT' flux = True mask = False Epoch: 008, train_accuracy: 0.9872, best_validation_accuracy: 0.9886\n",
      "saved as ./results/trained_models/Flux/Non_masked/GAT/Model_GAT_04-12-2022_23h_38min_best_ValAcc_0.9886142738128297_epoch_8.pt\n"
     ]
    },
    {
     "name": "stderr",
     "output_type": "stream",
     "text": [
      " 33%|███▎      | 10/30 [02:31<05:01, 15.10s/it]"
     ]
    },
    {
     "name": "stdout",
     "output_type": "stream",
     "text": [
      "model_type = 'GAT' flux = True mask = False Epoch: 009, train_accuracy: 0.9903, best_validation_accuracy: 0.9906\n",
      "saved as ./results/trained_models/Flux/Non_masked/GAT/Model_GAT_04-12-2022_23h_38min_best_ValAcc_0.9905581782838101_epoch_9.pt\n"
     ]
    },
    {
     "name": "stderr",
     "output_type": "stream",
     "text": [
      " 37%|███▋      | 11/30 [02:46<04:46, 15.09s/it]"
     ]
    },
    {
     "name": "stdout",
     "output_type": "stream",
     "text": [
      "model_type = 'GAT' flux = True mask = False Epoch: 010, train_accuracy: 0.9907, best_validation_accuracy: 0.9917\n",
      "saved as ./results/trained_models/Flux/Non_masked/GAT/Model_GAT_04-12-2022_23h_39min_best_ValAcc_0.991668980838656_epoch_10.pt\n"
     ]
    },
    {
     "name": "stderr",
     "output_type": "stream",
     "text": [
      " 47%|████▋     | 14/30 [03:31<04:01, 15.09s/it]"
     ]
    },
    {
     "name": "stdout",
     "output_type": "stream",
     "text": [
      "model_type = 'GAT' flux = True mask = False Epoch: 013, train_accuracy: 0.9937, best_validation_accuracy: 0.9925\n",
      "saved as ./results/trained_models/Flux/Non_masked/GAT/Model_GAT_04-12-2022_23h_39min_best_ValAcc_0.9925020827547903_epoch_13.pt\n"
     ]
    },
    {
     "name": "stderr",
     "output_type": "stream",
     "text": [
      " 50%|█████     | 15/30 [03:46<03:46, 15.09s/it]"
     ]
    },
    {
     "name": "stdout",
     "output_type": "stream",
     "text": [
      "model_type = 'GAT' flux = True mask = False Epoch: 014, train_accuracy: 0.9942, best_validation_accuracy: 0.9933\n",
      "saved as ./results/trained_models/Flux/Non_masked/GAT/Model_GAT_04-12-2022_23h_40min_best_ValAcc_0.9933351846709247_epoch_14.pt\n"
     ]
    },
    {
     "name": "stderr",
     "output_type": "stream",
     "text": [
      " 63%|██████▎   | 19/30 [04:46<02:45, 15.09s/it]"
     ]
    },
    {
     "name": "stdout",
     "output_type": "stream",
     "text": [
      "model_type = 'GAT' flux = True mask = False Epoch: 018, train_accuracy: 0.9951, best_validation_accuracy: 0.9936\n",
      "saved as ./results/trained_models/Flux/Non_masked/GAT/Model_GAT_04-12-2022_23h_41min_best_ValAcc_0.9936128853096362_epoch_18.pt\n"
     ]
    },
    {
     "name": "stderr",
     "output_type": "stream",
     "text": [
      " 73%|███████▎  | 22/30 [05:32<02:00, 15.09s/it]"
     ]
    },
    {
     "name": "stdout",
     "output_type": "stream",
     "text": [
      "model_type = 'GAT' flux = True mask = False Epoch: 021, train_accuracy: 0.9951, best_validation_accuracy: 0.9939\n",
      "saved as ./results/trained_models/Flux/Non_masked/GAT/Model_GAT_04-12-2022_23h_41min_best_ValAcc_0.9938905859483477_epoch_21.pt\n"
     ]
    },
    {
     "name": "stderr",
     "output_type": "stream",
     "text": [
      " 90%|█████████ | 27/30 [06:47<00:45, 15.09s/it]"
     ]
    },
    {
     "name": "stdout",
     "output_type": "stream",
     "text": [
      "model_type = 'GAT' flux = True mask = False Epoch: 026, train_accuracy: 0.9951, best_validation_accuracy: 0.9944\n",
      "saved as ./results/trained_models/Flux/Non_masked/GAT/Model_GAT_04-12-2022_23h_43min_best_ValAcc_0.9944459872257706_epoch_26.pt\n"
     ]
    },
    {
     "name": "stderr",
     "output_type": "stream",
     "text": [
      " 93%|█████████▎| 28/30 [07:02<00:30, 15.09s/it]"
     ]
    },
    {
     "name": "stdout",
     "output_type": "stream",
     "text": [
      "model_type = 'GAT' flux = True mask = False Epoch: 027, train_accuracy: 0.9952, best_validation_accuracy: 0.9947\n",
      "saved as ./results/trained_models/Flux/Non_masked/GAT/Model_GAT_04-12-2022_23h_43min_best_ValAcc_0.9947236878644821_epoch_27.pt\n"
     ]
    },
    {
     "name": "stderr",
     "output_type": "stream",
     "text": [
      "100%|██████████| 30/30 [07:32<00:00, 15.10s/it]\n",
      "  3%|▎         | 1/30 [00:15<07:24, 15.34s/it]"
     ]
    },
    {
     "name": "stdout",
     "output_type": "stream",
     "text": [
      "model_type = 'GAT' flux = False mask = True Epoch: 000, train_accuracy: 0.6592, best_validation_accuracy: 0.8292\n",
      "saved as ./results/trained_models/Non_flux/Masked/GAT/Model_GAT_04-12-2022_23h_44min_best_ValAcc_0.8292141071924466_epoch_0.pt\n"
     ]
    },
    {
     "name": "stderr",
     "output_type": "stream",
     "text": [
      "  7%|▋         | 2/30 [00:30<07:05, 15.20s/it]"
     ]
    },
    {
     "name": "stdout",
     "output_type": "stream",
     "text": [
      "model_type = 'GAT' flux = False mask = True Epoch: 001, train_accuracy: 0.8555, best_validation_accuracy: 0.8759\n",
      "saved as ./results/trained_models/Non_flux/Masked/GAT/Model_GAT_04-12-2022_23h_44min_best_ValAcc_0.8758678144959734_epoch_1.pt\n"
     ]
    },
    {
     "name": "stderr",
     "output_type": "stream",
     "text": [
      " 13%|█▎        | 4/30 [01:00<06:33, 15.12s/it]"
     ]
    },
    {
     "name": "stdout",
     "output_type": "stream",
     "text": [
      "model_type = 'GAT' flux = False mask = True Epoch: 003, train_accuracy: 0.8970, best_validation_accuracy: 0.9028\n",
      "saved as ./results/trained_models/Non_flux/Masked/GAT/Model_GAT_04-12-2022_23h_45min_best_ValAcc_0.9028047764509859_epoch_3.pt\n"
     ]
    },
    {
     "name": "stderr",
     "output_type": "stream",
     "text": [
      " 17%|█▋        | 5/30 [01:15<06:17, 15.12s/it]"
     ]
    },
    {
     "name": "stdout",
     "output_type": "stream",
     "text": [
      "model_type = 'GAT' flux = False mask = True Epoch: 004, train_accuracy: 0.8968, best_validation_accuracy: 0.9211\n",
      "saved as ./results/trained_models/Non_flux/Masked/GAT/Model_GAT_04-12-2022_23h_45min_best_ValAcc_0.9211330186059428_epoch_4.pt\n"
     ]
    },
    {
     "name": "stderr",
     "output_type": "stream",
     "text": [
      " 30%|███       | 9/30 [02:16<05:17, 15.10s/it]"
     ]
    },
    {
     "name": "stdout",
     "output_type": "stream",
     "text": [
      "model_type = 'GAT' flux = False mask = True Epoch: 008, train_accuracy: 0.9279, best_validation_accuracy: 0.9422\n",
      "saved as ./results/trained_models/Non_flux/Masked/GAT/Model_GAT_04-12-2022_23h_46min_best_ValAcc_0.9422382671480144_epoch_8.pt\n"
     ]
    },
    {
     "name": "stderr",
     "output_type": "stream",
     "text": [
      " 47%|████▋     | 14/30 [03:31<04:01, 15.10s/it]"
     ]
    },
    {
     "name": "stdout",
     "output_type": "stream",
     "text": [
      "model_type = 'GAT' flux = False mask = True Epoch: 013, train_accuracy: 0.9422, best_validation_accuracy: 0.9503\n",
      "saved as ./results/trained_models/Non_flux/Masked/GAT/Model_GAT_04-12-2022_23h_47min_best_ValAcc_0.9502915856706471_epoch_13.pt\n"
     ]
    },
    {
     "name": "stderr",
     "output_type": "stream",
     "text": [
      " 67%|██████▋   | 20/30 [05:02<02:30, 15.10s/it]"
     ]
    },
    {
     "name": "stdout",
     "output_type": "stream",
     "text": [
      "model_type = 'GAT' flux = False mask = True Epoch: 019, train_accuracy: 0.9503, best_validation_accuracy: 0.9536\n",
      "saved as ./results/trained_models/Non_flux/Masked/GAT/Model_GAT_04-12-2022_23h_49min_best_ValAcc_0.9536239933351847_epoch_19.pt\n"
     ]
    },
    {
     "name": "stderr",
     "output_type": "stream",
     "text": [
      " 73%|███████▎  | 22/30 [05:32<02:00, 15.10s/it]"
     ]
    },
    {
     "name": "stdout",
     "output_type": "stream",
     "text": [
      "model_type = 'GAT' flux = False mask = True Epoch: 021, train_accuracy: 0.9489, best_validation_accuracy: 0.9545\n",
      "saved as ./results/trained_models/Non_flux/Masked/GAT/Model_GAT_04-12-2022_23h_49min_best_ValAcc_0.954457095251319_epoch_21.pt\n"
     ]
    },
    {
     "name": "stderr",
     "output_type": "stream",
     "text": [
      " 80%|████████  | 24/30 [06:02<01:30, 15.10s/it]"
     ]
    },
    {
     "name": "stdout",
     "output_type": "stream",
     "text": [
      "model_type = 'GAT' flux = False mask = True Epoch: 023, train_accuracy: 0.9535, best_validation_accuracy: 0.9553\n",
      "saved as ./results/trained_models/Non_flux/Masked/GAT/Model_GAT_04-12-2022_23h_50min_best_ValAcc_0.9552901971674534_epoch_23.pt\n"
     ]
    },
    {
     "name": "stderr",
     "output_type": "stream",
     "text": [
      " 83%|████████▎ | 25/30 [06:17<01:15, 15.10s/it]"
     ]
    },
    {
     "name": "stdout",
     "output_type": "stream",
     "text": [
      "model_type = 'GAT' flux = False mask = True Epoch: 024, train_accuracy: 0.9391, best_validation_accuracy: 0.9561\n",
      "saved as ./results/trained_models/Non_flux/Masked/GAT/Model_GAT_04-12-2022_23h_50min_best_ValAcc_0.9561232990835878_epoch_24.pt\n"
     ]
    },
    {
     "name": "stderr",
     "output_type": "stream",
     "text": [
      "100%|██████████| 30/30 [07:33<00:00, 15.10s/it]\n",
      "  3%|▎         | 1/30 [00:15<07:24, 15.33s/it]"
     ]
    },
    {
     "name": "stdout",
     "output_type": "stream",
     "text": [
      "model_type = 'GAT' flux = True mask = True Epoch: 000, train_accuracy: 0.4919, best_validation_accuracy: 0.4954\n",
      "saved as ./results/trained_models/Flux/Masked/GAT/Model_GAT_04-12-2022_23h_51min_best_ValAcc_0.4954179394612608_epoch_0.pt\n"
     ]
    },
    {
     "name": "stderr",
     "output_type": "stream",
     "text": [
      " 17%|█▋        | 5/30 [01:15<06:17, 15.09s/it]"
     ]
    },
    {
     "name": "stdout",
     "output_type": "stream",
     "text": [
      "model_type = 'GAT' flux = True mask = True Epoch: 004, train_accuracy: 0.4939, best_validation_accuracy: 0.5049\n",
      "saved as ./results/trained_models/Flux/Masked/GAT/Model_GAT_04-12-2022_23h_52min_best_ValAcc_0.5048597611774507_epoch_4.pt\n"
     ]
    },
    {
     "name": "stderr",
     "output_type": "stream",
     "text": [
      " 40%|████      | 12/30 [03:01<04:31, 15.09s/it]"
     ]
    },
    {
     "name": "stdout",
     "output_type": "stream",
     "text": [
      "model_type = 'GAT' flux = True mask = True Epoch: 011, train_accuracy: 0.5030, best_validation_accuracy: 0.5051\n",
      "saved as ./results/trained_models/Flux/Masked/GAT/Model_GAT_04-12-2022_23h_54min_best_ValAcc_0.5051374618161621_epoch_11.pt\n"
     ]
    },
    {
     "name": "stderr",
     "output_type": "stream",
     "text": [
      " 57%|█████▋    | 17/30 [04:16<03:16, 15.10s/it]"
     ]
    },
    {
     "name": "stdout",
     "output_type": "stream",
     "text": [
      "model_type = 'GAT' flux = True mask = True Epoch: 016, train_accuracy: 0.5051, best_validation_accuracy: 0.5112\n",
      "saved as ./results/trained_models/Flux/Masked/GAT/Model_GAT_04-12-2022_23h_55min_best_ValAcc_0.5112468758678145_epoch_16.pt\n"
     ]
    },
    {
     "name": "stderr",
     "output_type": "stream",
     "text": [
      "100%|██████████| 30/30 [07:32<00:00, 15.10s/it]\n",
      "  3%|▎         | 1/30 [00:09<04:24,  9.14s/it]"
     ]
    },
    {
     "name": "stdout",
     "output_type": "stream",
     "text": [
      "model_type = 'GIN' flux = False mask = False Epoch: 000, train_accuracy: 0.8744, best_validation_accuracy: 0.9819\n",
      "saved as ./results/trained_models/Non_flux/Non_masked/GIN/Model_GIN_04-12-2022_23h_59min_best_ValAcc_0.9819494584837545_epoch_0.pt\n"
     ]
    },
    {
     "name": "stderr",
     "output_type": "stream",
     "text": [
      "  7%|▋         | 2/30 [00:18<04:11,  8.98s/it]"
     ]
    },
    {
     "name": "stdout",
     "output_type": "stream",
     "text": [
      "model_type = 'GIN' flux = False mask = False Epoch: 001, train_accuracy: 0.9919, best_validation_accuracy: 0.9936\n",
      "saved as ./results/trained_models/Non_flux/Non_masked/GIN/Model_GIN_04-12-2022_23h_59min_best_ValAcc_0.9936128853096362_epoch_1.pt\n"
     ]
    },
    {
     "name": "stderr",
     "output_type": "stream",
     "text": [
      " 10%|█         | 3/30 [00:26<04:01,  8.93s/it]"
     ]
    },
    {
     "name": "stdout",
     "output_type": "stream",
     "text": [
      "model_type = 'GIN' flux = False mask = False Epoch: 002, train_accuracy: 0.9943, best_validation_accuracy: 0.9947\n",
      "saved as ./results/trained_models/Non_flux/Non_masked/GIN/Model_GIN_04-12-2022_23h_59min_best_ValAcc_0.9947236878644821_epoch_2.pt\n"
     ]
    },
    {
     "name": "stderr",
     "output_type": "stream",
     "text": [
      " 13%|█▎        | 4/30 [00:35<03:51,  8.91s/it]"
     ]
    },
    {
     "name": "stdout",
     "output_type": "stream",
     "text": [
      "model_type = 'GIN' flux = False mask = False Epoch: 003, train_accuracy: 0.9950, best_validation_accuracy: 0.9953\n",
      "saved as ./results/trained_models/Non_flux/Non_masked/GIN/Model_GIN_04-12-2022_23h_59min_best_ValAcc_0.995279089141905_epoch_3.pt\n"
     ]
    },
    {
     "name": "stderr",
     "output_type": "stream",
     "text": [
      "100%|██████████| 30/30 [04:26<00:00,  8.89s/it]\n",
      "  3%|▎         | 1/30 [00:09<04:23,  9.09s/it]"
     ]
    },
    {
     "name": "stdout",
     "output_type": "stream",
     "text": [
      "model_type = 'GIN' flux = True mask = False Epoch: 000, train_accuracy: 0.9307, best_validation_accuracy: 0.9872\n",
      "saved as ./results/trained_models/Flux/Non_masked/GIN/Model_GIN_05-12-2022_00h_03min_best_ValAcc_0.9872257706192724_epoch_0.pt\n"
     ]
    },
    {
     "name": "stderr",
     "output_type": "stream",
     "text": [
      "  7%|▋         | 2/30 [00:17<04:11,  8.97s/it]"
     ]
    },
    {
     "name": "stdout",
     "output_type": "stream",
     "text": [
      "model_type = 'GIN' flux = True mask = False Epoch: 001, train_accuracy: 0.9920, best_validation_accuracy: 0.9944\n",
      "saved as ./results/trained_models/Flux/Non_masked/GIN/Model_GIN_05-12-2022_00h_03min_best_ValAcc_0.9944459872257706_epoch_1.pt\n"
     ]
    },
    {
     "name": "stderr",
     "output_type": "stream",
     "text": [
      " 10%|█         | 3/30 [00:26<04:01,  8.93s/it]"
     ]
    },
    {
     "name": "stdout",
     "output_type": "stream",
     "text": [
      "model_type = 'GIN' flux = True mask = False Epoch: 002, train_accuracy: 0.9943, best_validation_accuracy: 0.9947\n",
      "saved as ./results/trained_models/Flux/Non_masked/GIN/Model_GIN_05-12-2022_00h_04min_best_ValAcc_0.9947236878644821_epoch_2.pt\n"
     ]
    },
    {
     "name": "stderr",
     "output_type": "stream",
     "text": [
      " 13%|█▎        | 4/30 [00:35<03:51,  8.92s/it]"
     ]
    },
    {
     "name": "stdout",
     "output_type": "stream",
     "text": [
      "model_type = 'GIN' flux = True mask = False Epoch: 003, train_accuracy: 0.9950, best_validation_accuracy: 0.9950\n",
      "saved as ./results/trained_models/Flux/Non_masked/GIN/Model_GIN_05-12-2022_00h_04min_best_ValAcc_0.9950013885031935_epoch_3.pt\n"
     ]
    },
    {
     "name": "stderr",
     "output_type": "stream",
     "text": [
      " 17%|█▋        | 5/30 [00:44<03:42,  8.91s/it]"
     ]
    },
    {
     "name": "stdout",
     "output_type": "stream",
     "text": [
      "model_type = 'GIN' flux = True mask = False Epoch: 004, train_accuracy: 0.9944, best_validation_accuracy: 0.9953\n",
      "saved as ./results/trained_models/Flux/Non_masked/GIN/Model_GIN_05-12-2022_00h_04min_best_ValAcc_0.995279089141905_epoch_4.pt\n"
     ]
    },
    {
     "name": "stderr",
     "output_type": "stream",
     "text": [
      "100%|██████████| 30/30 [04:26<00:00,  8.89s/it]\n",
      "  3%|▎         | 1/30 [00:09<04:23,  9.07s/it]"
     ]
    },
    {
     "name": "stdout",
     "output_type": "stream",
     "text": [
      "model_type = 'GIN' flux = False mask = True Epoch: 000, train_accuracy: 0.6950, best_validation_accuracy: 0.8225\n",
      "saved as ./results/trained_models/Non_flux/Masked/GIN/Model_GIN_05-12-2022_00h_08min_best_ValAcc_0.8225492918633713_epoch_0.pt\n"
     ]
    },
    {
     "name": "stderr",
     "output_type": "stream",
     "text": [
      "  7%|▋         | 2/30 [00:17<04:10,  8.95s/it]"
     ]
    },
    {
     "name": "stdout",
     "output_type": "stream",
     "text": [
      "model_type = 'GIN' flux = False mask = True Epoch: 001, train_accuracy: 0.8320, best_validation_accuracy: 0.8453\n",
      "saved as ./results/trained_models/Non_flux/Masked/GIN/Model_GIN_05-12-2022_00h_08min_best_ValAcc_0.8453207442377118_epoch_1.pt\n"
     ]
    },
    {
     "name": "stderr",
     "output_type": "stream",
     "text": [
      " 10%|█         | 3/30 [00:26<04:00,  8.91s/it]"
     ]
    },
    {
     "name": "stdout",
     "output_type": "stream",
     "text": [
      "model_type = 'GIN' flux = False mask = True Epoch: 002, train_accuracy: 0.8485, best_validation_accuracy: 0.8548\n",
      "saved as ./results/trained_models/Non_flux/Masked/GIN/Model_GIN_05-12-2022_00h_08min_best_ValAcc_0.8547625659539017_epoch_2.pt\n"
     ]
    },
    {
     "name": "stderr",
     "output_type": "stream",
     "text": [
      " 17%|█▋        | 5/30 [00:44<03:42,  8.89s/it]"
     ]
    },
    {
     "name": "stdout",
     "output_type": "stream",
     "text": [
      "model_type = 'GIN' flux = False mask = True Epoch: 004, train_accuracy: 0.8641, best_validation_accuracy: 0.8659\n",
      "saved as ./results/trained_models/Non_flux/Masked/GIN/Model_GIN_05-12-2022_00h_08min_best_ValAcc_0.8658705915023605_epoch_4.pt\n"
     ]
    },
    {
     "name": "stderr",
     "output_type": "stream",
     "text": [
      " 20%|██        | 6/30 [00:53<03:33,  8.88s/it]"
     ]
    },
    {
     "name": "stdout",
     "output_type": "stream",
     "text": [
      "model_type = 'GIN' flux = False mask = True Epoch: 005, train_accuracy: 0.8645, best_validation_accuracy: 0.8664\n",
      "saved as ./results/trained_models/Non_flux/Masked/GIN/Model_GIN_05-12-2022_00h_08min_best_ValAcc_0.8664259927797834_epoch_5.pt\n"
     ]
    },
    {
     "name": "stderr",
     "output_type": "stream",
     "text": [
      " 27%|██▋       | 8/30 [01:11<03:15,  8.87s/it]"
     ]
    },
    {
     "name": "stdout",
     "output_type": "stream",
     "text": [
      "model_type = 'GIN' flux = False mask = True Epoch: 007, train_accuracy: 0.8709, best_validation_accuracy: 0.8717\n",
      "saved as ./results/trained_models/Non_flux/Masked/GIN/Model_GIN_05-12-2022_00h_09min_best_ValAcc_0.8717023049153013_epoch_7.pt\n"
     ]
    },
    {
     "name": "stderr",
     "output_type": "stream",
     "text": [
      " 30%|███       | 9/30 [01:20<03:06,  8.88s/it]"
     ]
    },
    {
     "name": "stdout",
     "output_type": "stream",
     "text": [
      "model_type = 'GIN' flux = False mask = True Epoch: 008, train_accuracy: 0.8734, best_validation_accuracy: 0.8723\n",
      "saved as ./results/trained_models/Non_flux/Masked/GIN/Model_GIN_05-12-2022_00h_09min_best_ValAcc_0.8722577061927242_epoch_8.pt\n"
     ]
    },
    {
     "name": "stderr",
     "output_type": "stream",
     "text": [
      " 37%|███▋      | 11/30 [01:37<02:48,  8.89s/it]"
     ]
    },
    {
     "name": "stdout",
     "output_type": "stream",
     "text": [
      "model_type = 'GIN' flux = False mask = True Epoch: 010, train_accuracy: 0.8731, best_validation_accuracy: 0.8784\n",
      "saved as ./results/trained_models/Non_flux/Masked/GIN/Model_GIN_05-12-2022_00h_09min_best_ValAcc_0.8783671202443766_epoch_10.pt\n"
     ]
    },
    {
     "name": "stderr",
     "output_type": "stream",
     "text": [
      " 40%|████      | 12/30 [01:46<02:39,  8.89s/it]"
     ]
    },
    {
     "name": "stdout",
     "output_type": "stream",
     "text": [
      "model_type = 'GIN' flux = False mask = True Epoch: 011, train_accuracy: 0.8780, best_validation_accuracy: 0.8842\n",
      "saved as ./results/trained_models/Non_flux/Masked/GIN/Model_GIN_05-12-2022_00h_09min_best_ValAcc_0.8841988336573174_epoch_11.pt\n"
     ]
    },
    {
     "name": "stderr",
     "output_type": "stream",
     "text": [
      " 50%|█████     | 15/30 [02:13<02:13,  8.87s/it]"
     ]
    },
    {
     "name": "stdout",
     "output_type": "stream",
     "text": [
      "model_type = 'GIN' flux = False mask = True Epoch: 014, train_accuracy: 0.8846, best_validation_accuracy: 0.8911\n",
      "saved as ./results/trained_models/Non_flux/Masked/GIN/Model_GIN_05-12-2022_00h_10min_best_ValAcc_0.8911413496251042_epoch_14.pt\n"
     ]
    },
    {
     "name": "stderr",
     "output_type": "stream",
     "text": [
      " 70%|███████   | 21/30 [03:06<01:19,  8.88s/it]"
     ]
    },
    {
     "name": "stdout",
     "output_type": "stream",
     "text": [
      "model_type = 'GIN' flux = False mask = True Epoch: 020, train_accuracy: 0.8928, best_validation_accuracy: 0.9020\n",
      "saved as ./results/trained_models/Non_flux/Masked/GIN/Model_GIN_05-12-2022_00h_11min_best_ValAcc_0.9019716745348514_epoch_20.pt\n"
     ]
    },
    {
     "name": "stderr",
     "output_type": "stream",
     "text": [
      " 77%|███████▋  | 23/30 [03:24<01:02,  8.88s/it]"
     ]
    },
    {
     "name": "stdout",
     "output_type": "stream",
     "text": [
      "model_type = 'GIN' flux = False mask = True Epoch: 022, train_accuracy: 0.8951, best_validation_accuracy: 0.9061\n",
      "saved as ./results/trained_models/Non_flux/Masked/GIN/Model_GIN_05-12-2022_00h_11min_best_ValAcc_0.9061371841155235_epoch_22.pt\n"
     ]
    },
    {
     "name": "stderr",
     "output_type": "stream",
     "text": [
      " 97%|█████████▋| 29/30 [04:17<00:08,  8.88s/it]"
     ]
    },
    {
     "name": "stdout",
     "output_type": "stream",
     "text": [
      "model_type = 'GIN' flux = False mask = True Epoch: 028, train_accuracy: 0.9051, best_validation_accuracy: 0.9114\n",
      "saved as ./results/trained_models/Non_flux/Masked/GIN/Model_GIN_05-12-2022_00h_12min_best_ValAcc_0.9114134962510414_epoch_28.pt\n"
     ]
    },
    {
     "name": "stderr",
     "output_type": "stream",
     "text": [
      "100%|██████████| 30/30 [04:26<00:00,  8.88s/it]\n",
      "  3%|▎         | 1/30 [00:09<04:22,  9.06s/it]"
     ]
    },
    {
     "name": "stdout",
     "output_type": "stream",
     "text": [
      "model_type = 'GIN' flux = True mask = True Epoch: 000, train_accuracy: 0.5996, best_validation_accuracy: 0.7870\n",
      "saved as ./results/trained_models/Flux/Masked/GIN/Model_GIN_05-12-2022_00h_12min_best_ValAcc_0.7870036101083032_epoch_0.pt\n"
     ]
    },
    {
     "name": "stderr",
     "output_type": "stream",
     "text": [
      "  7%|▋         | 2/30 [00:17<04:10,  8.95s/it]"
     ]
    },
    {
     "name": "stdout",
     "output_type": "stream",
     "text": [
      "model_type = 'GIN' flux = True mask = True Epoch: 001, train_accuracy: 0.8129, best_validation_accuracy: 0.8234\n",
      "saved as ./results/trained_models/Flux/Masked/GIN/Model_GIN_05-12-2022_00h_12min_best_ValAcc_0.8233823937795057_epoch_1.pt\n"
     ]
    },
    {
     "name": "stderr",
     "output_type": "stream",
     "text": [
      " 10%|█         | 3/30 [00:26<04:01,  8.93s/it]"
     ]
    },
    {
     "name": "stdout",
     "output_type": "stream",
     "text": [
      "model_type = 'GIN' flux = True mask = True Epoch: 002, train_accuracy: 0.8465, best_validation_accuracy: 0.8550\n",
      "saved as ./results/trained_models/Flux/Masked/GIN/Model_GIN_05-12-2022_00h_12min_best_ValAcc_0.8550402665926131_epoch_2.pt\n"
     ]
    },
    {
     "name": "stderr",
     "output_type": "stream",
     "text": [
      " 17%|█▋        | 5/30 [00:44<03:42,  8.89s/it]"
     ]
    },
    {
     "name": "stdout",
     "output_type": "stream",
     "text": [
      "model_type = 'GIN' flux = True mask = True Epoch: 004, train_accuracy: 0.8566, best_validation_accuracy: 0.8720\n",
      "saved as ./results/trained_models/Flux/Masked/GIN/Model_GIN_05-12-2022_00h_13min_best_ValAcc_0.8719800055540128_epoch_4.pt\n"
     ]
    },
    {
     "name": "stderr",
     "output_type": "stream",
     "text": [
      " 20%|██        | 6/30 [00:53<03:33,  8.89s/it]"
     ]
    },
    {
     "name": "stdout",
     "output_type": "stream",
     "text": [
      "model_type = 'GIN' flux = True mask = True Epoch: 005, train_accuracy: 0.8553, best_validation_accuracy: 0.8723\n",
      "saved as ./results/trained_models/Flux/Masked/GIN/Model_GIN_05-12-2022_00h_13min_best_ValAcc_0.8722577061927242_epoch_5.pt\n"
     ]
    },
    {
     "name": "stderr",
     "output_type": "stream",
     "text": [
      " 23%|██▎       | 7/30 [01:02<03:24,  8.88s/it]"
     ]
    },
    {
     "name": "stdout",
     "output_type": "stream",
     "text": [
      "model_type = 'GIN' flux = True mask = True Epoch: 006, train_accuracy: 0.8640, best_validation_accuracy: 0.8731\n",
      "saved as ./results/trained_models/Flux/Masked/GIN/Model_GIN_05-12-2022_00h_13min_best_ValAcc_0.8730908081088586_epoch_6.pt\n"
     ]
    },
    {
     "name": "stderr",
     "output_type": "stream",
     "text": [
      " 30%|███       | 9/30 [01:20<03:06,  8.88s/it]"
     ]
    },
    {
     "name": "stdout",
     "output_type": "stream",
     "text": [
      "model_type = 'GIN' flux = True mask = True Epoch: 008, train_accuracy: 0.8636, best_validation_accuracy: 0.8789\n",
      "saved as ./results/trained_models/Flux/Masked/GIN/Model_GIN_05-12-2022_00h_13min_best_ValAcc_0.8789225215217995_epoch_8.pt\n"
     ]
    },
    {
     "name": "stderr",
     "output_type": "stream",
     "text": [
      " 43%|████▎     | 13/30 [01:55<02:30,  8.87s/it]"
     ]
    },
    {
     "name": "stdout",
     "output_type": "stream",
     "text": [
      "model_type = 'GIN' flux = True mask = True Epoch: 012, train_accuracy: 0.8684, best_validation_accuracy: 0.8848\n",
      "saved as ./results/trained_models/Flux/Masked/GIN/Model_GIN_05-12-2022_00h_14min_best_ValAcc_0.8847542349347404_epoch_12.pt\n"
     ]
    },
    {
     "name": "stderr",
     "output_type": "stream",
     "text": [
      " 50%|█████     | 15/30 [02:13<02:13,  8.88s/it]"
     ]
    },
    {
     "name": "stdout",
     "output_type": "stream",
     "text": [
      "model_type = 'GIN' flux = True mask = True Epoch: 014, train_accuracy: 0.8789, best_validation_accuracy: 0.8889\n",
      "saved as ./results/trained_models/Flux/Masked/GIN/Model_GIN_05-12-2022_00h_14min_best_ValAcc_0.8889197445154123_epoch_14.pt\n"
     ]
    },
    {
     "name": "stderr",
     "output_type": "stream",
     "text": [
      " 53%|█████▎    | 16/30 [02:22<02:04,  8.88s/it]"
     ]
    },
    {
     "name": "stdout",
     "output_type": "stream",
     "text": [
      "model_type = 'GIN' flux = True mask = True Epoch: 015, train_accuracy: 0.8769, best_validation_accuracy: 0.8906\n",
      "saved as ./results/trained_models/Flux/Masked/GIN/Model_GIN_05-12-2022_00h_14min_best_ValAcc_0.8905859483476812_epoch_15.pt\n"
     ]
    },
    {
     "name": "stderr",
     "output_type": "stream",
     "text": [
      " 63%|██████▎   | 19/30 [02:48<01:37,  8.88s/it]"
     ]
    },
    {
     "name": "stdout",
     "output_type": "stream",
     "text": [
      "model_type = 'GIN' flux = True mask = True Epoch: 018, train_accuracy: 0.8844, best_validation_accuracy: 0.8978\n",
      "saved as ./results/trained_models/Flux/Masked/GIN/Model_GIN_05-12-2022_00h_15min_best_ValAcc_0.8978061649541794_epoch_18.pt\n"
     ]
    },
    {
     "name": "stderr",
     "output_type": "stream",
     "text": [
      " 83%|████████▎ | 25/30 [03:42<00:44,  8.88s/it]"
     ]
    },
    {
     "name": "stdout",
     "output_type": "stream",
     "text": [
      "model_type = 'GIN' flux = True mask = True Epoch: 024, train_accuracy: 0.8925, best_validation_accuracy: 0.9017\n",
      "saved as ./results/trained_models/Flux/Masked/GIN/Model_GIN_05-12-2022_00h_16min_best_ValAcc_0.9016939738961399_epoch_24.pt\n"
     ]
    },
    {
     "name": "stderr",
     "output_type": "stream",
     "text": [
      " 90%|█████████ | 27/30 [03:59<00:26,  8.88s/it]"
     ]
    },
    {
     "name": "stdout",
     "output_type": "stream",
     "text": [
      "model_type = 'GIN' flux = True mask = True Epoch: 026, train_accuracy: 0.8979, best_validation_accuracy: 0.9034\n",
      "saved as ./results/trained_models/Flux/Masked/GIN/Model_GIN_05-12-2022_00h_16min_best_ValAcc_0.9033601777284088_epoch_26.pt\n"
     ]
    },
    {
     "name": "stderr",
     "output_type": "stream",
     "text": [
      "100%|██████████| 30/30 [04:26<00:00,  8.89s/it]\n"
     ]
    }
   ],
   "source": [
    "\n",
    "epochs = 30\n",
    "\n",
    "\n",
    "GCN_F_F = train_and_validate(gnn_type = \"GCN\", mask = False, flux = False, loader_path = \"./results/dataloaders/loader_only_Concen.pt\" ,\n",
    "                            EPOCHS = epochs, save = True, verbose = True, saving_folder =  \"./results/trained_models/\")\n",
    "\n",
    "GCN_F_T = train_and_validate(gnn_type = \"GCN\", mask = False, flux = True, loader_path = \"./results/dataloaders/loader_Concen_plus_Fluxes.pt\" ,\n",
    "                            EPOCHS = epochs, save = True, verbose = True, saving_folder =  \"./results/trained_models/\")\n",
    "\n",
    "\n",
    "GCN_T_F = train_and_validate(gnn_type = \"GCN\", mask = True, flux = False, loader_path = \"./results/dataloaders/MASKED_loader_only_Concen.pt\" ,\n",
    "                            EPOCHS = epochs, save = True, verbose = True, saving_folder =  \"./results/trained_models/\")\n",
    "\n",
    "\n",
    "GCN_T_T = train_and_validate(gnn_type = \"GCN\", mask = True, flux = True, loader_path = \"./results/dataloaders/MASKED_loader_Concen_plus_Fluxes.pt\" ,\n",
    "                            EPOCHS = epochs, save = True, verbose = True, saving_folder =  \"./results/trained_models/\")\n",
    "\n",
    "GAT_F_F = train_and_validate(gnn_type = \"GAT\", mask = False, flux = False, loader_path = \"./results/dataloaders/loader_only_Concen.pt\" ,\n",
    "                            EPOCHS = epochs, save = True, verbose = True, saving_folder =  \"./results/trained_models/\")\n",
    "\n",
    "\n",
    "GAT_F_T = train_and_validate(gnn_type = \"GAT\", mask = False, flux = True, loader_path = \"./results/dataloaders/loader_Concen_plus_Fluxes.pt\" ,\n",
    "                            EPOCHS = epochs, save = True, verbose = True, saving_folder =  \"./results/trained_models/\")\n",
    "\n",
    "\n",
    "GAT_T_F = train_and_validate(gnn_type = \"GAT\", mask = True, flux = False, loader_path = \"./results/dataloaders/MASKED_loader_only_Concen.pt\" ,\n",
    "                            EPOCHS = epochs, save = True, verbose = True, saving_folder =  \"./results/trained_models/\")\n",
    "\n",
    "\n",
    "GAT_T_T = train_and_validate(gnn_type = \"GAT\", mask = True, flux = True, loader_path = \"./results/dataloaders/MASKED_loader_Concen_plus_Fluxes.pt\" ,\n",
    "                            EPOCHS = epochs, save = True, verbose = True, saving_folder =  \"./results/trained_models/\")\n",
    "\n",
    "\n",
    "########################################\n",
    "\n",
    "\n",
    "GIN_F_F = train_and_validate(gnn_type = \"GIN\", mask = False, flux = False, loader_path = \"./results/dataloaders/loader_only_Concen.pt\" ,\n",
    "                            EPOCHS = epochs, save = True, verbose = True, saving_folder =  \"./results/trained_models/\")\n",
    "\n",
    "\n",
    "\n",
    "GIN_F_T = train_and_validate(gnn_type = \"GIN\", mask = False, flux = True, loader_path = \"./results/dataloaders/loader_Concen_plus_Fluxes.pt\" ,\n",
    "                            EPOCHS = epochs, save = True, verbose = True, saving_folder =  \"./results/trained_models/\")\n",
    "\n",
    "\n",
    "GIN_T_F = train_and_validate(gnn_type = \"GIN\", mask = True, flux = False, loader_path = \"./results/dataloaders/MASKED_loader_only_Concen.pt\" ,\n",
    "                            EPOCHS = epochs, save = True, verbose = True, saving_folder =  \"./results/trained_models/\")\n",
    "\n",
    "\n",
    "GIN_T_T = train_and_validate(gnn_type = \"GIN\", mask = True, flux = True, loader_path = \"./results/dataloaders/MASKED_loader_Concen_plus_Fluxes.pt\" ,\n",
    "                            EPOCHS = epochs, save = True, verbose = True, saving_folder =  \"./results/trained_models/\")"
   ]
  },
  {
   "cell_type": "code",
   "execution_count": 3,
   "metadata": {},
   "outputs": [],
   "source": [
    "test_loader_NonMasked_NonFlux = torch.load(\"./results/dataloaders/loader_only_Concen.pt\").get_test_loader()\n",
    "test_loader_Masked_NonFlux    = torch.load(\"./results/dataloaders/MASKED_loader_only_Concen.pt\").get_test_loader()\n",
    "test_loader_NonMasked_FLUX    = torch.load(\"./results/dataloaders/loader_Concen_plus_Fluxes.pt\").get_test_loader()\n",
    "test_loader_Masked_FLUX       = torch.load(\"./results/dataloaders/MASKED_loader_Concen_plus_Fluxes.pt\").get_test_loader()"
   ]
  },
  {
   "cell_type": "code",
   "execution_count": 4,
   "metadata": {},
   "outputs": [],
   "source": [
    "GCN_base_fpr_FF, GCN_mean_tprs_FF, GCN_tprs_lower_FF, GCN_tprs_upper_FF, GCN_mean_auc_FF, GCN_std_auc_FF = get_ROC_parameters(GCN_F_F[0], test_loader_NonMasked_NonFlux)\n",
    "GCN_base_fpr_TF, GCN_mean_tprs_TF, GCN_tprs_lower_TF, GCN_tprs_upper_TF, GCN_mean_auc_TF, GCN_std_auc_TF = get_ROC_parameters(GCN_T_F[0], test_loader_Masked_NonFlux)\n",
    "GCN_base_fpr_FT, GCN_mean_tprs_FT, GCN_tprs_lower_FT, GCN_tprs_upper_FT, GCN_mean_auc_FT, GCN_std_auc_FT = get_ROC_parameters(GCN_F_T[0], test_loader_NonMasked_FLUX)\n",
    "GCN_base_fpr_TT, GCN_mean_tprs_TT, GCN_tprs_lower_TT, GCN_tprs_upper_TT, GCN_mean_auc_TT, GCN_std_auc_TT = get_ROC_parameters(GCN_T_T[0], test_loader_Masked_FLUX)\n",
    "#\n",
    "#\n",
    "GAT_base_fpr_FF, GAT_mean_tprs_FF, GAT_tprs_lower_FF, GAT_tprs_upper_FF, GAT_mean_auc_FF, GAT_std_auc_FF = get_ROC_parameters(GAT_F_F[0], test_loader_NonMasked_NonFlux)\n",
    "GAT_base_fpr_TF, GAT_mean_tprs_TF, GAT_tprs_lower_TF, GAT_tprs_upper_TF, GAT_mean_auc_TF, GAT_std_auc_TF = get_ROC_parameters(GAT_T_F[0], test_loader_Masked_NonFlux)\n",
    "GAT_base_fpr_FT, GAT_mean_tprs_FT, GAT_tprs_lower_FT, GAT_tprs_upper_FT, GAT_mean_auc_FT, GAT_std_auc_FT = get_ROC_parameters(GAT_F_T[0], test_loader_NonMasked_FLUX)\n",
    "GAT_base_fpr_TT, GAT_mean_tprs_TT, GAT_tprs_lower_TT, GAT_tprs_upper_TT, GAT_mean_auc_TT, GAT_std_auc_TT = get_ROC_parameters(GAT_T_T[0], test_loader_Masked_FLUX)\n",
    "#\n",
    "#\n",
    "GIN_base_fpr_FF, GIN_mean_tprs_FF, GIN_tprs_lower_FF, GIN_tprs_upper_FF, GIN_mean_auc_FF, GIN_std_auc_FF = get_ROC_parameters(GIN_F_F[0], test_loader_NonMasked_NonFlux)\n",
    "GIN_base_fpr_TF, GIN_mean_tprs_TF, GIN_tprs_lower_TF, GIN_tprs_upper_TF, GIN_mean_auc_TF, GIN_std_auc_TF = get_ROC_parameters(GIN_T_F[0], test_loader_Masked_NonFlux)\n",
    "GIN_base_fpr_FT, GIN_mean_tprs_FT, GIN_tprs_lower_FT, GIN_tprs_upper_FT, GIN_mean_auc_FT, GIN_std_auc_FT = get_ROC_parameters(GIN_F_T[0], test_loader_NonMasked_FLUX)\n",
    "GIN_base_fpr_TT, GIN_mean_tprs_TT, GIN_tprs_lower_TT, GIN_tprs_upper_TT, GIN_mean_auc_TT, GIN_std_auc_TT = get_ROC_parameters(GIN_T_T[0], test_loader_Masked_FLUX)"
   ]
  },
  {
   "cell_type": "code",
   "execution_count": 5,
   "metadata": {},
   "outputs": [
    {
     "data": {
      "image/png": "[encoded data removed]",
      "image/svg+xml": "<?xml version=\"1.0\" encoding=\"utf-8\" standalone=\"no\"?>\n<!DOCTYPE svg PUBLIC \"-//W3C//DTD SVG 1.1//EN\"\n  \"http://www.w3.org/Graphics/SVG/1.1/DTD/svg11.dtd\">\n<svg xmlns:xlink=\"http://www.w3.org/1999/xlink\" width=\"745.835286pt\" height=\"880.674375pt\" viewBox=\"0 0 745.835286 880.674375\" xmlns=\"http://www.w3.org/2000/svg\" version=\"1.1\">\n <metadata>\n  <rdf:RDF xmlns:dc=\"http://purl.org/dc/elements/1.1/\" xmlns:cc=\"http://creativecommons.org/ns#\" xmlns:rdf=\"http://www.w3.org/1999/02/22-rdf-syntax-ns#\">\n   <cc:Work>\n    <dc:type rdf:resource=\"http://purl.org/dc/dcmitype/StillImage\"/>\n    <dc:date>2022-12-05T00:17:18.352473</dc:date>\n    <dc:format>image/svg+xml</dc:format>\n    <dc:creator>\n     <cc:Agent>\n      <dc:title>Matplotlib v3.5.3, https://matplotlib.org/</dc:title>\n     </cc:Agent>\n    </dc:creator>\n   </cc:Work>\n  </rdf:RDF>\n </metadata>\n <defs>\n  <style type=\"text/css\">*{stroke-linejoin: round; stroke-linecap: butt}</style>\n </defs>\n <g id=\"figure_1\">\n  <g id=\"patch_1\">\n   <path d=\"M 0 880.674375 \nL 745.835286 880.674375 \nL 745.835286 0 \nL 0 0 \nz\n\" style=\"fill: #ffffff\"/>\n  </g>\n  <g id=\"axes_1\">\n   <g id=\"patch_2\">\n    <path d=\"M 43.78125 189.828329 \nL 235.78125 189.828329 \nL 235.78125 22.318125 \nL 43.78125 22.318125 \nz\n\" style=\"fill: #ffffff\"/>\n   </g>\n   <g id=\"matplotlib.axis_1\">\n    <g id=\"xtick_1\">\n     <g id=\"line2d_1\">\n      <defs>\n       <path id=\"m449907e01c\" d=\"M 0 0 \nL 0 3.5 \n\" style=\"stroke: #000000; stroke-width: 0.8\"/>\n      </defs>\n      <g>\n       <use xlink:href=\"#m449907e01c\" x=\"52.508523\" y=\"189.828329\" style=\"stroke: #000000; stroke-width: 0.8\"/>\n      </g>\n     </g>\n     <g id=\"text_1\">\n      <!-- 0 -->\n      <g transform=\"translate(49.327273 204.426767)scale(0.1 -0.1)\">\n       <defs>\n        <path id=\"DejaVuSans-30\" d=\"M 2034 4250 \nQ 1547 4250 1301 3770 \nQ 1056 3291 1056 2328 \nQ 1056 1369 1301 889 \nQ 1547 409 2034 409 \nQ 2525 409 2770 889 \nQ 3016 1369 3016 2328 \nQ 3016 3291 2770 3770 \nQ 2525 4250 2034 4250 \nz\nM 2034 4750 \nQ 2819 4750 3233 4129 \nQ 3647 3509 3647 2328 \nQ 3647 1150 3233 529 \nQ 2819 -91 2034 -91 \nQ 1250 -91 836 529 \nQ 422 1150 422 2328 \nQ 422 3509 836 4129 \nQ 1250 4750 2034 4750 \nz\n\" transform=\"scale(0.015625)\"/>\n       </defs>\n       <use xlink:href=\"#DejaVuSans-30\"/>\n      </g>\n     </g>\n    </g>\n    <g id=\"xtick_2\">\n     <g id=\"line2d_2\">\n      <g>\n       <use xlink:href=\"#m449907e01c\" x=\"112.696611\" y=\"189.828329\" style=\"stroke: #000000; stroke-width: 0.8\"/>\n      </g>\n     </g>\n     <g id=\"text_2\">\n      <!-- 10 -->\n      <g transform=\"translate(106.334111 204.426767)scale(0.1 -0.1)\">\n       <defs>\n        <path id=\"DejaVuSans-31\" d=\"M 794 531 \nL 1825 531 \nL 1825 4091 \nL 703 3866 \nL 703 4441 \nL 1819 4666 \nL 2450 4666 \nL 2450 531 \nL 3481 531 \nL 3481 0 \nL 794 0 \nL 794 531 \nz\n\" transform=\"scale(0.015625)\"/>\n       </defs>\n       <use xlink:href=\"#DejaVuSans-31\"/>\n       <use xlink:href=\"#DejaVuSans-30\" x=\"63.623047\"/>\n      </g>\n     </g>\n    </g>\n    <g id=\"xtick_3\">\n     <g id=\"line2d_3\">\n      <g>\n       <use xlink:href=\"#m449907e01c\" x=\"172.884698\" y=\"189.828329\" style=\"stroke: #000000; stroke-width: 0.8\"/>\n      </g>\n     </g>\n     <g id=\"text_3\">\n      <!-- 20 -->\n      <g transform=\"translate(166.522198 204.426767)scale(0.1 -0.1)\">\n       <defs>\n        <path id=\"DejaVuSans-32\" d=\"M 1228 531 \nL 3431 531 \nL 3431 0 \nL 469 0 \nL 469 531 \nQ 828 903 1448 1529 \nQ 2069 2156 2228 2338 \nQ 2531 2678 2651 2914 \nQ 2772 3150 2772 3378 \nQ 2772 3750 2511 3984 \nQ 2250 4219 1831 4219 \nQ 1534 4219 1204 4116 \nQ 875 4013 500 3803 \nL 500 4441 \nQ 881 4594 1212 4672 \nQ 1544 4750 1819 4750 \nQ 2544 4750 2975 4387 \nQ 3406 4025 3406 3419 \nQ 3406 3131 3298 2873 \nQ 3191 2616 2906 2266 \nQ 2828 2175 2409 1742 \nQ 1991 1309 1228 531 \nz\n\" transform=\"scale(0.015625)\"/>\n       </defs>\n       <use xlink:href=\"#DejaVuSans-32\"/>\n       <use xlink:href=\"#DejaVuSans-30\" x=\"63.623047\"/>\n      </g>\n     </g>\n    </g>\n    <g id=\"xtick_4\">\n     <g id=\"line2d_4\">\n      <g>\n       <use xlink:href=\"#m449907e01c\" x=\"233.072786\" y=\"189.828329\" style=\"stroke: #000000; stroke-width: 0.8\"/>\n      </g>\n     </g>\n     <g id=\"text_4\">\n      <!-- 30 -->\n      <g transform=\"translate(226.710286 204.426767)scale(0.1 -0.1)\">\n       <defs>\n        <path id=\"DejaVuSans-33\" d=\"M 2597 2516 \nQ 3050 2419 3304 2112 \nQ 3559 1806 3559 1356 \nQ 3559 666 3084 287 \nQ 2609 -91 1734 -91 \nQ 1441 -91 1130 -33 \nQ 819 25 488 141 \nL 488 750 \nQ 750 597 1062 519 \nQ 1375 441 1716 441 \nQ 2309 441 2620 675 \nQ 2931 909 2931 1356 \nQ 2931 1769 2642 2001 \nQ 2353 2234 1838 2234 \nL 1294 2234 \nL 1294 2753 \nL 1863 2753 \nQ 2328 2753 2575 2939 \nQ 2822 3125 2822 3475 \nQ 2822 3834 2567 4026 \nQ 2313 4219 1838 4219 \nQ 1578 4219 1281 4162 \nQ 984 4106 628 3988 \nL 628 4550 \nQ 988 4650 1302 4700 \nQ 1616 4750 1894 4750 \nQ 2613 4750 3031 4423 \nQ 3450 4097 3450 3541 \nQ 3450 3153 3228 2886 \nQ 3006 2619 2597 2516 \nz\n\" transform=\"scale(0.015625)\"/>\n       </defs>\n       <use xlink:href=\"#DejaVuSans-33\"/>\n       <use xlink:href=\"#DejaVuSans-30\" x=\"63.623047\"/>\n      </g>\n     </g>\n    </g>\n    <g id=\"text_5\">\n     <!-- Epochs -->\n     <g transform=\"translate(121.865625 218.104892)scale(0.1 -0.1)\">\n      <defs>\n       <path id=\"DejaVuSans-45\" d=\"M 628 4666 \nL 3578 4666 \nL 3578 4134 \nL 1259 4134 \nL 1259 2753 \nL 3481 2753 \nL 3481 2222 \nL 1259 2222 \nL 1259 531 \nL 3634 531 \nL 3634 0 \nL 628 0 \nL 628 4666 \nz\n\" transform=\"scale(0.015625)\"/>\n       <path id=\"DejaVuSans-70\" d=\"M 1159 525 \nL 1159 -1331 \nL 581 -1331 \nL 581 3500 \nL 1159 3500 \nL 1159 2969 \nQ 1341 3281 1617 3432 \nQ 1894 3584 2278 3584 \nQ 2916 3584 3314 3078 \nQ 3713 2572 3713 1747 \nQ 3713 922 3314 415 \nQ 2916 -91 2278 -91 \nQ 1894 -91 1617 61 \nQ 1341 213 1159 525 \nz\nM 3116 1747 \nQ 3116 2381 2855 2742 \nQ 2594 3103 2138 3103 \nQ 1681 3103 1420 2742 \nQ 1159 2381 1159 1747 \nQ 1159 1113 1420 752 \nQ 1681 391 2138 391 \nQ 2594 391 2855 752 \nQ 3116 1113 3116 1747 \nz\n\" transform=\"scale(0.015625)\"/>\n       <path id=\"DejaVuSans-6f\" d=\"M 1959 3097 \nQ 1497 3097 1228 2736 \nQ 959 2375 959 1747 \nQ 959 1119 1226 758 \nQ 1494 397 1959 397 \nQ 2419 397 2687 759 \nQ 2956 1122 2956 1747 \nQ 2956 2369 2687 2733 \nQ 2419 3097 1959 3097 \nz\nM 1959 3584 \nQ 2709 3584 3137 3096 \nQ 3566 2609 3566 1747 \nQ 3566 888 3137 398 \nQ 2709 -91 1959 -91 \nQ 1206 -91 779 398 \nQ 353 888 353 1747 \nQ 353 2609 779 3096 \nQ 1206 3584 1959 3584 \nz\n\" transform=\"scale(0.015625)\"/>\n       <path id=\"DejaVuSans-63\" d=\"M 3122 3366 \nL 3122 2828 \nQ 2878 2963 2633 3030 \nQ 2388 3097 2138 3097 \nQ 1578 3097 1268 2742 \nQ 959 2388 959 1747 \nQ 959 1106 1268 751 \nQ 1578 397 2138 397 \nQ 2388 397 2633 464 \nQ 2878 531 3122 666 \nL 3122 134 \nQ 2881 22 2623 -34 \nQ 2366 -91 2075 -91 \nQ 1284 -91 818 406 \nQ 353 903 353 1747 \nQ 353 2603 823 3093 \nQ 1294 3584 2113 3584 \nQ 2378 3584 2631 3529 \nQ 2884 3475 3122 3366 \nz\n\" transform=\"scale(0.015625)\"/>\n       <path id=\"DejaVuSans-68\" d=\"M 3513 2113 \nL 3513 0 \nL 2938 0 \nL 2938 2094 \nQ 2938 2591 2744 2837 \nQ 2550 3084 2163 3084 \nQ 1697 3084 1428 2787 \nQ 1159 2491 1159 1978 \nL 1159 0 \nL 581 0 \nL 581 4863 \nL 1159 4863 \nL 1159 2956 \nQ 1366 3272 1645 3428 \nQ 1925 3584 2291 3584 \nQ 2894 3584 3203 3211 \nQ 3513 2838 3513 2113 \nz\n\" transform=\"scale(0.015625)\"/>\n       <path id=\"DejaVuSans-73\" d=\"M 2834 3397 \nL 2834 2853 \nQ 2591 2978 2328 3040 \nQ 2066 3103 1784 3103 \nQ 1356 3103 1142 2972 \nQ 928 2841 928 2578 \nQ 928 2378 1081 2264 \nQ 1234 2150 1697 2047 \nL 1894 2003 \nQ 2506 1872 2764 1633 \nQ 3022 1394 3022 966 \nQ 3022 478 2636 193 \nQ 2250 -91 1575 -91 \nQ 1294 -91 989 -36 \nQ 684 19 347 128 \nL 347 722 \nQ 666 556 975 473 \nQ 1284 391 1588 391 \nQ 1994 391 2212 530 \nQ 2431 669 2431 922 \nQ 2431 1156 2273 1281 \nQ 2116 1406 1581 1522 \nL 1381 1569 \nQ 847 1681 609 1914 \nQ 372 2147 372 2553 \nQ 372 3047 722 3315 \nQ 1072 3584 1716 3584 \nQ 2034 3584 2315 3537 \nQ 2597 3491 2834 3397 \nz\n\" transform=\"scale(0.015625)\"/>\n      </defs>\n      <use xlink:href=\"#DejaVuSans-45\"/>\n      <use xlink:href=\"#DejaVuSans-70\" x=\"63.183594\"/>\n      <use xlink:href=\"#DejaVuSans-6f\" x=\"126.660156\"/>\n      <use xlink:href=\"#DejaVuSans-63\" x=\"187.841797\"/>\n      <use xlink:href=\"#DejaVuSans-68\" x=\"242.822266\"/>\n      <use xlink:href=\"#DejaVuSans-73\" x=\"306.201172\"/>\n     </g>\n    </g>\n   </g>\n   <g id=\"matplotlib.axis_2\">\n    <g id=\"ytick_1\">\n     <g id=\"line2d_5\">\n      <defs>\n       <path id=\"mf950be4dbd\" d=\"M 0 0 \nL -3.5 0 \n\" style=\"stroke: #000000; stroke-width: 0.8\"/>\n      </defs>\n      <g>\n       <use xlink:href=\"#mf950be4dbd\" x=\"43.78125\" y=\"189.828329\" style=\"stroke: #000000; stroke-width: 0.8\"/>\n      </g>\n     </g>\n     <g id=\"text_6\">\n      <!-- 0.4 -->\n      <g transform=\"translate(20.878125 193.627548)scale(0.1 -0.1)\">\n       <defs>\n        <path id=\"DejaVuSans-2e\" d=\"M 684 794 \nL 1344 794 \nL 1344 0 \nL 684 0 \nL 684 794 \nz\n\" transform=\"scale(0.015625)\"/>\n        <path id=\"DejaVuSans-34\" d=\"M 2419 4116 \nL 825 1625 \nL 2419 1625 \nL 2419 4116 \nz\nM 2253 4666 \nL 3047 4666 \nL 3047 1625 \nL 3713 1625 \nL 3713 1100 \nL 3047 1100 \nL 3047 0 \nL 2419 0 \nL 2419 1100 \nL 313 1100 \nL 313 1709 \nL 2253 4666 \nz\n\" transform=\"scale(0.015625)\"/>\n       </defs>\n       <use xlink:href=\"#DejaVuSans-30\"/>\n       <use xlink:href=\"#DejaVuSans-2e\" x=\"63.623047\"/>\n       <use xlink:href=\"#DejaVuSans-34\" x=\"95.410156\"/>\n      </g>\n     </g>\n    </g>\n    <g id=\"ytick_2\">\n     <g id=\"line2d_6\">\n      <g>\n       <use xlink:href=\"#mf950be4dbd\" x=\"43.78125\" y=\"165.8983\" style=\"stroke: #000000; stroke-width: 0.8\"/>\n      </g>\n     </g>\n     <g id=\"text_7\">\n      <!-- 0.5 -->\n      <g transform=\"translate(20.878125 169.697519)scale(0.1 -0.1)\">\n       <defs>\n        <path id=\"DejaVuSans-35\" d=\"M 691 4666 \nL 3169 4666 \nL 3169 4134 \nL 1269 4134 \nL 1269 2991 \nQ 1406 3038 1543 3061 \nQ 1681 3084 1819 3084 \nQ 2600 3084 3056 2656 \nQ 3513 2228 3513 1497 \nQ 3513 744 3044 326 \nQ 2575 -91 1722 -91 \nQ 1428 -91 1123 -41 \nQ 819 9 494 109 \nL 494 744 \nQ 775 591 1075 516 \nQ 1375 441 1709 441 \nQ 2250 441 2565 725 \nQ 2881 1009 2881 1497 \nQ 2881 1984 2565 2268 \nQ 2250 2553 1709 2553 \nQ 1456 2553 1204 2497 \nQ 953 2441 691 2322 \nL 691 4666 \nz\n\" transform=\"scale(0.015625)\"/>\n       </defs>\n       <use xlink:href=\"#DejaVuSans-30\"/>\n       <use xlink:href=\"#DejaVuSans-2e\" x=\"63.623047\"/>\n       <use xlink:href=\"#DejaVuSans-35\" x=\"95.410156\"/>\n      </g>\n     </g>\n    </g>\n    <g id=\"ytick_3\">\n     <g id=\"line2d_7\">\n      <g>\n       <use xlink:href=\"#mf950be4dbd\" x=\"43.78125\" y=\"141.968271\" style=\"stroke: #000000; stroke-width: 0.8\"/>\n      </g>\n     </g>\n     <g id=\"text_8\">\n      <!-- 0.6 -->\n      <g transform=\"translate(20.878125 145.76749)scale(0.1 -0.1)\">\n       <defs>\n        <path id=\"DejaVuSans-36\" d=\"M 2113 2584 \nQ 1688 2584 1439 2293 \nQ 1191 2003 1191 1497 \nQ 1191 994 1439 701 \nQ 1688 409 2113 409 \nQ 2538 409 2786 701 \nQ 3034 994 3034 1497 \nQ 3034 2003 2786 2293 \nQ 2538 2584 2113 2584 \nz\nM 3366 4563 \nL 3366 3988 \nQ 3128 4100 2886 4159 \nQ 2644 4219 2406 4219 \nQ 1781 4219 1451 3797 \nQ 1122 3375 1075 2522 \nQ 1259 2794 1537 2939 \nQ 1816 3084 2150 3084 \nQ 2853 3084 3261 2657 \nQ 3669 2231 3669 1497 \nQ 3669 778 3244 343 \nQ 2819 -91 2113 -91 \nQ 1303 -91 875 529 \nQ 447 1150 447 2328 \nQ 447 3434 972 4092 \nQ 1497 4750 2381 4750 \nQ 2619 4750 2861 4703 \nQ 3103 4656 3366 4563 \nz\n\" transform=\"scale(0.015625)\"/>\n       </defs>\n       <use xlink:href=\"#DejaVuSans-30\"/>\n       <use xlink:href=\"#DejaVuSans-2e\" x=\"63.623047\"/>\n       <use xlink:href=\"#DejaVuSans-36\" x=\"95.410156\"/>\n      </g>\n     </g>\n    </g>\n    <g id=\"ytick_4\">\n     <g id=\"line2d_8\">\n      <g>\n       <use xlink:href=\"#mf950be4dbd\" x=\"43.78125\" y=\"118.038242\" style=\"stroke: #000000; stroke-width: 0.8\"/>\n      </g>\n     </g>\n     <g id=\"text_9\">\n      <!-- 0.7 -->\n      <g transform=\"translate(20.878125 121.83746)scale(0.1 -0.1)\">\n       <defs>\n        <path id=\"DejaVuSans-37\" d=\"M 525 4666 \nL 3525 4666 \nL 3525 4397 \nL 1831 0 \nL 1172 0 \nL 2766 4134 \nL 525 4134 \nL 525 4666 \nz\n\" transform=\"scale(0.015625)\"/>\n       </defs>\n       <use xlink:href=\"#DejaVuSans-30\"/>\n       <use xlink:href=\"#DejaVuSans-2e\" x=\"63.623047\"/>\n       <use xlink:href=\"#DejaVuSans-37\" x=\"95.410156\"/>\n      </g>\n     </g>\n    </g>\n    <g id=\"ytick_5\">\n     <g id=\"line2d_9\">\n      <g>\n       <use xlink:href=\"#mf950be4dbd\" x=\"43.78125\" y=\"94.108212\" style=\"stroke: #000000; stroke-width: 0.8\"/>\n      </g>\n     </g>\n     <g id=\"text_10\">\n      <!-- 0.8 -->\n      <g transform=\"translate(20.878125 97.907431)scale(0.1 -0.1)\">\n       <defs>\n        <path id=\"DejaVuSans-38\" d=\"M 2034 2216 \nQ 1584 2216 1326 1975 \nQ 1069 1734 1069 1313 \nQ 1069 891 1326 650 \nQ 1584 409 2034 409 \nQ 2484 409 2743 651 \nQ 3003 894 3003 1313 \nQ 3003 1734 2745 1975 \nQ 2488 2216 2034 2216 \nz\nM 1403 2484 \nQ 997 2584 770 2862 \nQ 544 3141 544 3541 \nQ 544 4100 942 4425 \nQ 1341 4750 2034 4750 \nQ 2731 4750 3128 4425 \nQ 3525 4100 3525 3541 \nQ 3525 3141 3298 2862 \nQ 3072 2584 2669 2484 \nQ 3125 2378 3379 2068 \nQ 3634 1759 3634 1313 \nQ 3634 634 3220 271 \nQ 2806 -91 2034 -91 \nQ 1263 -91 848 271 \nQ 434 634 434 1313 \nQ 434 1759 690 2068 \nQ 947 2378 1403 2484 \nz\nM 1172 3481 \nQ 1172 3119 1398 2916 \nQ 1625 2713 2034 2713 \nQ 2441 2713 2670 2916 \nQ 2900 3119 2900 3481 \nQ 2900 3844 2670 4047 \nQ 2441 4250 2034 4250 \nQ 1625 4250 1398 4047 \nQ 1172 3844 1172 3481 \nz\n\" transform=\"scale(0.015625)\"/>\n       </defs>\n       <use xlink:href=\"#DejaVuSans-30\"/>\n       <use xlink:href=\"#DejaVuSans-2e\" x=\"63.623047\"/>\n       <use xlink:href=\"#DejaVuSans-38\" x=\"95.410156\"/>\n      </g>\n     </g>\n    </g>\n    <g id=\"ytick_6\">\n     <g id=\"line2d_10\">\n      <g>\n       <use xlink:href=\"#mf950be4dbd\" x=\"43.78125\" y=\"70.178183\" style=\"stroke: #000000; stroke-width: 0.8\"/>\n      </g>\n     </g>\n     <g id=\"text_11\">\n      <!-- 0.9 -->\n      <g transform=\"translate(20.878125 73.977402)scale(0.1 -0.1)\">\n       <defs>\n        <path id=\"DejaVuSans-39\" d=\"M 703 97 \nL 703 672 \nQ 941 559 1184 500 \nQ 1428 441 1663 441 \nQ 2288 441 2617 861 \nQ 2947 1281 2994 2138 \nQ 2813 1869 2534 1725 \nQ 2256 1581 1919 1581 \nQ 1219 1581 811 2004 \nQ 403 2428 403 3163 \nQ 403 3881 828 4315 \nQ 1253 4750 1959 4750 \nQ 2769 4750 3195 4129 \nQ 3622 3509 3622 2328 \nQ 3622 1225 3098 567 \nQ 2575 -91 1691 -91 \nQ 1453 -91 1209 -44 \nQ 966 3 703 97 \nz\nM 1959 2075 \nQ 2384 2075 2632 2365 \nQ 2881 2656 2881 3163 \nQ 2881 3666 2632 3958 \nQ 2384 4250 1959 4250 \nQ 1534 4250 1286 3958 \nQ 1038 3666 1038 3163 \nQ 1038 2656 1286 2365 \nQ 1534 2075 1959 2075 \nz\n\" transform=\"scale(0.015625)\"/>\n       </defs>\n       <use xlink:href=\"#DejaVuSans-30\"/>\n       <use xlink:href=\"#DejaVuSans-2e\" x=\"63.623047\"/>\n       <use xlink:href=\"#DejaVuSans-39\" x=\"95.410156\"/>\n      </g>\n     </g>\n    </g>\n    <g id=\"ytick_7\">\n     <g id=\"line2d_11\">\n      <g>\n       <use xlink:href=\"#mf950be4dbd\" x=\"43.78125\" y=\"46.248154\" style=\"stroke: #000000; stroke-width: 0.8\"/>\n      </g>\n     </g>\n     <g id=\"text_12\">\n      <!-- 1.0 -->\n      <g transform=\"translate(20.878125 50.047373)scale(0.1 -0.1)\">\n       <use xlink:href=\"#DejaVuSans-31\"/>\n       <use xlink:href=\"#DejaVuSans-2e\" x=\"63.623047\"/>\n       <use xlink:href=\"#DejaVuSans-30\" x=\"95.410156\"/>\n      </g>\n     </g>\n    </g>\n    <g id=\"ytick_8\">\n     <g id=\"line2d_12\">\n      <g>\n       <use xlink:href=\"#mf950be4dbd\" x=\"43.78125\" y=\"22.318125\" style=\"stroke: #000000; stroke-width: 0.8\"/>\n      </g>\n     </g>\n     <g id=\"text_13\">\n      <!-- 1.1 -->\n      <g transform=\"translate(20.878125 26.117344)scale(0.1 -0.1)\">\n       <use xlink:href=\"#DejaVuSans-31\"/>\n       <use xlink:href=\"#DejaVuSans-2e\" x=\"63.623047\"/>\n       <use xlink:href=\"#DejaVuSans-31\" x=\"95.410156\"/>\n      </g>\n     </g>\n    </g>\n    <g id=\"text_14\">\n     <!-- Accuracy (%) -->\n     <g transform=\"translate(14.798438 139.142758)rotate(-90)scale(0.1 -0.1)\">\n      <defs>\n       <path id=\"DejaVuSans-41\" d=\"M 2188 4044 \nL 1331 1722 \nL 3047 1722 \nL 2188 4044 \nz\nM 1831 4666 \nL 2547 4666 \nL 4325 0 \nL 3669 0 \nL 3244 1197 \nL 1141 1197 \nL 716 0 \nL 50 0 \nL 1831 4666 \nz\n\" transform=\"scale(0.015625)\"/>\n       <path id=\"DejaVuSans-75\" d=\"M 544 1381 \nL 544 3500 \nL 1119 3500 \nL 1119 1403 \nQ 1119 906 1312 657 \nQ 1506 409 1894 409 \nQ 2359 409 2629 706 \nQ 2900 1003 2900 1516 \nL 2900 3500 \nL 3475 3500 \nL 3475 0 \nL 2900 0 \nL 2900 538 \nQ 2691 219 2414 64 \nQ 2138 -91 1772 -91 \nQ 1169 -91 856 284 \nQ 544 659 544 1381 \nz\nM 1991 3584 \nL 1991 3584 \nz\n\" transform=\"scale(0.015625)\"/>\n       <path id=\"DejaVuSans-72\" d=\"M 2631 2963 \nQ 2534 3019 2420 3045 \nQ 2306 3072 2169 3072 \nQ 1681 3072 1420 2755 \nQ 1159 2438 1159 1844 \nL 1159 0 \nL 581 0 \nL 581 3500 \nL 1159 3500 \nL 1159 2956 \nQ 1341 3275 1631 3429 \nQ 1922 3584 2338 3584 \nQ 2397 3584 2469 3576 \nQ 2541 3569 2628 3553 \nL 2631 2963 \nz\n\" transform=\"scale(0.015625)\"/>\n       <path id=\"DejaVuSans-61\" d=\"M 2194 1759 \nQ 1497 1759 1228 1600 \nQ 959 1441 959 1056 \nQ 959 750 1161 570 \nQ 1363 391 1709 391 \nQ 2188 391 2477 730 \nQ 2766 1069 2766 1631 \nL 2766 1759 \nL 2194 1759 \nz\nM 3341 1997 \nL 3341 0 \nL 2766 0 \nL 2766 531 \nQ 2569 213 2275 61 \nQ 1981 -91 1556 -91 \nQ 1019 -91 701 211 \nQ 384 513 384 1019 \nQ 384 1609 779 1909 \nQ 1175 2209 1959 2209 \nL 2766 2209 \nL 2766 2266 \nQ 2766 2663 2505 2880 \nQ 2244 3097 1772 3097 \nQ 1472 3097 1187 3025 \nQ 903 2953 641 2809 \nL 641 3341 \nQ 956 3463 1253 3523 \nQ 1550 3584 1831 3584 \nQ 2591 3584 2966 3190 \nQ 3341 2797 3341 1997 \nz\n\" transform=\"scale(0.015625)\"/>\n       <path id=\"DejaVuSans-79\" d=\"M 2059 -325 \nQ 1816 -950 1584 -1140 \nQ 1353 -1331 966 -1331 \nL 506 -1331 \nL 506 -850 \nL 844 -850 \nQ 1081 -850 1212 -737 \nQ 1344 -625 1503 -206 \nL 1606 56 \nL 191 3500 \nL 800 3500 \nL 1894 763 \nL 2988 3500 \nL 3597 3500 \nL 2059 -325 \nz\n\" transform=\"scale(0.015625)\"/>\n       <path id=\"DejaVuSans-20\" transform=\"scale(0.015625)\"/>\n       <path id=\"DejaVuSans-28\" d=\"M 1984 4856 \nQ 1566 4138 1362 3434 \nQ 1159 2731 1159 2009 \nQ 1159 1288 1364 580 \nQ 1569 -128 1984 -844 \nL 1484 -844 \nQ 1016 -109 783 600 \nQ 550 1309 550 2009 \nQ 550 2706 781 3412 \nQ 1013 4119 1484 4856 \nL 1984 4856 \nz\n\" transform=\"scale(0.015625)\"/>\n       <path id=\"DejaVuSans-25\" d=\"M 4653 2053 \nQ 4381 2053 4226 1822 \nQ 4072 1591 4072 1178 \nQ 4072 772 4226 539 \nQ 4381 306 4653 306 \nQ 4919 306 5073 539 \nQ 5228 772 5228 1178 \nQ 5228 1588 5073 1820 \nQ 4919 2053 4653 2053 \nz\nM 4653 2450 \nQ 5147 2450 5437 2106 \nQ 5728 1763 5728 1178 \nQ 5728 594 5436 251 \nQ 5144 -91 4653 -91 \nQ 4153 -91 3862 251 \nQ 3572 594 3572 1178 \nQ 3572 1766 3864 2108 \nQ 4156 2450 4653 2450 \nz\nM 1428 4353 \nQ 1159 4353 1004 4120 \nQ 850 3888 850 3481 \nQ 850 3069 1003 2837 \nQ 1156 2606 1428 2606 \nQ 1700 2606 1854 2837 \nQ 2009 3069 2009 3481 \nQ 2009 3884 1853 4118 \nQ 1697 4353 1428 4353 \nz\nM 4250 4750 \nL 4750 4750 \nL 1831 -91 \nL 1331 -91 \nL 4250 4750 \nz\nM 1428 4750 \nQ 1922 4750 2215 4408 \nQ 2509 4066 2509 3481 \nQ 2509 2891 2217 2550 \nQ 1925 2209 1428 2209 \nQ 931 2209 642 2551 \nQ 353 2894 353 3481 \nQ 353 4063 643 4406 \nQ 934 4750 1428 4750 \nz\n\" transform=\"scale(0.015625)\"/>\n       <path id=\"DejaVuSans-29\" d=\"M 513 4856 \nL 1013 4856 \nQ 1481 4119 1714 3412 \nQ 1947 2706 1947 2009 \nQ 1947 1309 1714 600 \nQ 1481 -109 1013 -844 \nL 513 -844 \nQ 928 -128 1133 580 \nQ 1338 1288 1338 2009 \nQ 1338 2731 1133 3434 \nQ 928 4138 513 4856 \nz\n\" transform=\"scale(0.015625)\"/>\n      </defs>\n      <use xlink:href=\"#DejaVuSans-41\"/>\n      <use xlink:href=\"#DejaVuSans-63\" x=\"66.658203\"/>\n      <use xlink:href=\"#DejaVuSans-63\" x=\"121.638672\"/>\n      <use xlink:href=\"#DejaVuSans-75\" x=\"176.619141\"/>\n      <use xlink:href=\"#DejaVuSans-72\" x=\"239.998047\"/>\n      <use xlink:href=\"#DejaVuSans-61\" x=\"281.111328\"/>\n      <use xlink:href=\"#DejaVuSans-63\" x=\"342.390625\"/>\n      <use xlink:href=\"#DejaVuSans-79\" x=\"397.371094\"/>\n      <use xlink:href=\"#DejaVuSans-20\" x=\"456.550781\"/>\n      <use xlink:href=\"#DejaVuSans-28\" x=\"488.337891\"/>\n      <use xlink:href=\"#DejaVuSans-25\" x=\"527.351562\"/>\n      <use xlink:href=\"#DejaVuSans-29\" x=\"622.371094\"/>\n     </g>\n    </g>\n   </g>\n   <g id=\"line2d_13\">\n    <path d=\"M 52.508523 142.558414 \nL 58.527332 94.54949 \nL 64.54614 84.075783 \nL 70.564949 75.994547 \nL 76.583758 72.990666 \nL 82.602567 67.594314 \nL 88.621375 69.800705 \nL 94.640184 64.37777 \nL 100.658993 66.344913 \nL 106.677802 62.490376 \nL 112.696611 62.862538 \nL 118.715419 62.862538 \nL 124.734228 61.320723 \nL 130.753037 61.187808 \nL 136.771846 60.071321 \nL 142.790654 58.848503 \nL 148.809463 58.875086 \nL 154.828272 58.662422 \nL 160.847081 58.635839 \nL 166.865889 57.811765 \nL 172.884698 57.67885 \nL 178.903507 57.599101 \nL 184.922316 57.120607 \nL 190.941125 57.094024 \nL 196.959933 56.668696 \nL 202.978742 56.748445 \nL 208.997551 56.429448 \nL 215.01636 56.456032 \nL 221.035168 55.791456 \nL 227.053977 55.924371 \n\" clip-path=\"url(#p34e88dbc2b)\" style=\"fill: none; stroke-dasharray: 5.55,2.4; stroke-dashoffset: 0; stroke: #1f77b4; stroke-width: 1.5\"/>\n   </g>\n   <g id=\"line2d_14\">\n    <path d=\"M 52.508523 89.310245 \nL 58.527332 110.442567 \nL 64.54614 76.285292 \nL 70.564949 71.965792 \nL 76.583758 76.351745 \nL 82.602567 70.437353 \nL 88.621375 66.649484 \nL 94.640184 64.057784 \nL 100.658993 65.785584 \nL 106.677802 64.722323 \nL 112.696611 67.314023 \nL 118.715419 63.592607 \nL 124.734228 67.513384 \nL 130.753037 60.934454 \nL 136.771846 59.273108 \nL 142.790654 59.1402 \nL 148.809463 59.738284 \nL 154.828272 59.605377 \nL 160.847081 57.877577 \nL 166.865889 57.744669 \nL 172.884698 59.937646 \nL 178.903507 57.345946 \nL 184.922316 57.545308 \nL 190.941125 57.146585 \nL 196.959933 57.213038 \nL 202.978742 57.744669 \nL 208.997551 56.482046 \nL 215.01636 56.149777 \nL 221.035168 57.345946 \nL 227.053977 55.618146 \n\" clip-path=\"url(#p34e88dbc2b)\" style=\"fill: none; stroke: #ff7f0e; stroke-width: 1.5; stroke-linecap: square\"/>\n   </g>\n   <g id=\"patch_3\">\n    <path d=\"M 43.78125 189.828329 \nL 43.78125 22.318125 \n\" style=\"fill: none; stroke: #000000; stroke-width: 0.8; stroke-linejoin: miter; stroke-linecap: square\"/>\n   </g>\n   <g id=\"patch_4\">\n    <path d=\"M 235.78125 189.828329 \nL 235.78125 22.318125 \n\" style=\"fill: none; stroke: #000000; stroke-width: 0.8; stroke-linejoin: miter; stroke-linecap: square\"/>\n   </g>\n   <g id=\"patch_5\">\n    <path d=\"M 43.78125 189.828329 \nL 235.78125 189.828329 \n\" style=\"fill: none; stroke: #000000; stroke-width: 0.8; stroke-linejoin: miter; stroke-linecap: square\"/>\n   </g>\n   <g id=\"patch_6\">\n    <path d=\"M 43.78125 22.318125 \nL 235.78125 22.318125 \n\" style=\"fill: none; stroke: #000000; stroke-width: 0.8; stroke-linejoin: miter; stroke-linecap: square\"/>\n   </g>\n   <g id=\"text_15\">\n    <!-- GCN flux- -->\n    <g transform=\"translate(43.78125 16.318125)scale(0.12 -0.12)\">\n     <defs>\n      <path id=\"DejaVuSans-Bold-47\" d=\"M 4781 347 \nQ 4331 128 3847 18 \nQ 3363 -91 2847 -91 \nQ 1681 -91 1000 561 \nQ 319 1213 319 2328 \nQ 319 3456 1012 4103 \nQ 1706 4750 2913 4750 \nQ 3378 4750 3804 4662 \nQ 4231 4575 4609 4403 \nL 4609 3438 \nQ 4219 3659 3833 3768 \nQ 3447 3878 3059 3878 \nQ 2341 3878 1952 3476 \nQ 1563 3075 1563 2328 \nQ 1563 1588 1938 1184 \nQ 2313 781 3003 781 \nQ 3191 781 3352 804 \nQ 3513 828 3641 878 \nL 3641 1784 \nL 2906 1784 \nL 2906 2591 \nL 4781 2591 \nL 4781 347 \nz\n\" transform=\"scale(0.015625)\"/>\n      <path id=\"DejaVuSans-Bold-43\" d=\"M 4288 256 \nQ 3956 84 3597 -3 \nQ 3238 -91 2847 -91 \nQ 1681 -91 1000 561 \nQ 319 1213 319 2328 \nQ 319 3447 1000 4098 \nQ 1681 4750 2847 4750 \nQ 3238 4750 3597 4662 \nQ 3956 4575 4288 4403 \nL 4288 3438 \nQ 3953 3666 3628 3772 \nQ 3303 3878 2944 3878 \nQ 2300 3878 1931 3465 \nQ 1563 3053 1563 2328 \nQ 1563 1606 1931 1193 \nQ 2300 781 2944 781 \nQ 3303 781 3628 887 \nQ 3953 994 4288 1222 \nL 4288 256 \nz\n\" transform=\"scale(0.015625)\"/>\n      <path id=\"DejaVuSans-Bold-4e\" d=\"M 588 4666 \nL 1931 4666 \nL 3628 1466 \nL 3628 4666 \nL 4769 4666 \nL 4769 0 \nL 3425 0 \nL 1728 3200 \nL 1728 0 \nL 588 0 \nL 588 4666 \nz\n\" transform=\"scale(0.015625)\"/>\n      <path id=\"DejaVuSans-Bold-20\" transform=\"scale(0.015625)\"/>\n      <path id=\"DejaVuSans-Bold-66\" d=\"M 2841 4863 \nL 2841 4128 \nL 2222 4128 \nQ 1984 4128 1890 4042 \nQ 1797 3956 1797 3744 \nL 1797 3500 \nL 2753 3500 \nL 2753 2700 \nL 1797 2700 \nL 1797 0 \nL 678 0 \nL 678 2700 \nL 122 2700 \nL 122 3500 \nL 678 3500 \nL 678 3744 \nQ 678 4316 997 4589 \nQ 1316 4863 1984 4863 \nL 2841 4863 \nz\n\" transform=\"scale(0.015625)\"/>\n      <path id=\"DejaVuSans-Bold-6c\" d=\"M 538 4863 \nL 1656 4863 \nL 1656 0 \nL 538 0 \nL 538 4863 \nz\n\" transform=\"scale(0.015625)\"/>\n      <path id=\"DejaVuSans-Bold-75\" d=\"M 500 1363 \nL 500 3500 \nL 1625 3500 \nL 1625 3150 \nQ 1625 2866 1622 2436 \nQ 1619 2006 1619 1863 \nQ 1619 1441 1641 1255 \nQ 1663 1069 1716 984 \nQ 1784 875 1895 815 \nQ 2006 756 2150 756 \nQ 2500 756 2700 1025 \nQ 2900 1294 2900 1772 \nL 2900 3500 \nL 4019 3500 \nL 4019 0 \nL 2900 0 \nL 2900 506 \nQ 2647 200 2364 54 \nQ 2081 -91 1741 -91 \nQ 1134 -91 817 281 \nQ 500 653 500 1363 \nz\n\" transform=\"scale(0.015625)\"/>\n      <path id=\"DejaVuSans-Bold-78\" d=\"M 1422 1791 \nL 159 3500 \nL 1344 3500 \nL 2059 2463 \nL 2784 3500 \nL 3969 3500 \nL 2706 1797 \nL 4031 0 \nL 2847 0 \nL 2059 1106 \nL 1281 0 \nL 97 0 \nL 1422 1791 \nz\n\" transform=\"scale(0.015625)\"/>\n      <path id=\"DejaVuSans-Bold-2d\" d=\"M 347 2297 \nL 2309 2297 \nL 2309 1388 \nL 347 1388 \nL 347 2297 \nz\n\" transform=\"scale(0.015625)\"/>\n     </defs>\n     <use xlink:href=\"#DejaVuSans-Bold-47\"/>\n     <use xlink:href=\"#DejaVuSans-Bold-43\" x=\"82.080078\"/>\n     <use xlink:href=\"#DejaVuSans-Bold-4e\" x=\"155.46875\"/>\n     <use xlink:href=\"#DejaVuSans-Bold-20\" x=\"239.160156\"/>\n     <use xlink:href=\"#DejaVuSans-Bold-66\" x=\"273.974609\"/>\n     <use xlink:href=\"#DejaVuSans-Bold-6c\" x=\"317.480469\"/>\n     <use xlink:href=\"#DejaVuSans-Bold-75\" x=\"351.757812\"/>\n     <use xlink:href=\"#DejaVuSans-Bold-78\" x=\"422.949219\"/>\n     <use xlink:href=\"#DejaVuSans-Bold-2d\" x=\"487.451172\"/>\n    </g>\n   </g>\n   <g id=\"legend_1\">\n    <g id=\"patch_7\">\n     <path d=\"M 118.254844 184.328329 \nL 228.08125 184.328329 \nQ 230.28125 184.328329 230.28125 182.128329 \nL 230.28125 150.936454 \nQ 230.28125 148.736454 228.08125 148.736454 \nL 118.254844 148.736454 \nQ 116.054844 148.736454 116.054844 150.936454 \nL 116.054844 182.128329 \nQ 116.054844 184.328329 118.254844 184.328329 \nz\n\" style=\"fill: #ffffff; opacity: 0.8; stroke: #cccccc; stroke-linejoin: miter\"/>\n    </g>\n    <g id=\"line2d_15\">\n     <path d=\"M 120.454844 157.644735 \nL 131.454844 157.644735 \nL 142.454844 157.644735 \n\" style=\"fill: none; stroke-dasharray: 5.55,2.4; stroke-dashoffset: 0; stroke: #1f77b4; stroke-width: 1.5\"/>\n    </g>\n    <g id=\"text_16\">\n     <!-- Train set -->\n     <g transform=\"translate(151.254844 161.494735)scale(0.11 -0.11)\">\n      <defs>\n       <path id=\"DejaVuSans-54\" d=\"M -19 4666 \nL 3928 4666 \nL 3928 4134 \nL 2272 4134 \nL 2272 0 \nL 1638 0 \nL 1638 4134 \nL -19 4134 \nL -19 4666 \nz\n\" transform=\"scale(0.015625)\"/>\n       <path id=\"DejaVuSans-69\" d=\"M 603 3500 \nL 1178 3500 \nL 1178 0 \nL 603 0 \nL 603 3500 \nz\nM 603 4863 \nL 1178 4863 \nL 1178 4134 \nL 603 4134 \nL 603 4863 \nz\n\" transform=\"scale(0.015625)\"/>\n       <path id=\"DejaVuSans-6e\" d=\"M 3513 2113 \nL 3513 0 \nL 2938 0 \nL 2938 2094 \nQ 2938 2591 2744 2837 \nQ 2550 3084 2163 3084 \nQ 1697 3084 1428 2787 \nQ 1159 2491 1159 1978 \nL 1159 0 \nL 581 0 \nL 581 3500 \nL 1159 3500 \nL 1159 2956 \nQ 1366 3272 1645 3428 \nQ 1925 3584 2291 3584 \nQ 2894 3584 3203 3211 \nQ 3513 2838 3513 2113 \nz\n\" transform=\"scale(0.015625)\"/>\n       <path id=\"DejaVuSans-65\" d=\"M 3597 1894 \nL 3597 1613 \nL 953 1613 \nQ 991 1019 1311 708 \nQ 1631 397 2203 397 \nQ 2534 397 2845 478 \nQ 3156 559 3463 722 \nL 3463 178 \nQ 3153 47 2828 -22 \nQ 2503 -91 2169 -91 \nQ 1331 -91 842 396 \nQ 353 884 353 1716 \nQ 353 2575 817 3079 \nQ 1281 3584 2069 3584 \nQ 2775 3584 3186 3129 \nQ 3597 2675 3597 1894 \nz\nM 3022 2063 \nQ 3016 2534 2758 2815 \nQ 2500 3097 2075 3097 \nQ 1594 3097 1305 2825 \nQ 1016 2553 972 2059 \nL 3022 2063 \nz\n\" transform=\"scale(0.015625)\"/>\n       <path id=\"DejaVuSans-74\" d=\"M 1172 4494 \nL 1172 3500 \nL 2356 3500 \nL 2356 3053 \nL 1172 3053 \nL 1172 1153 \nQ 1172 725 1289 603 \nQ 1406 481 1766 481 \nL 2356 481 \nL 2356 0 \nL 1766 0 \nQ 1100 0 847 248 \nQ 594 497 594 1153 \nL 594 3053 \nL 172 3053 \nL 172 3500 \nL 594 3500 \nL 594 4494 \nL 1172 4494 \nz\n\" transform=\"scale(0.015625)\"/>\n      </defs>\n      <use xlink:href=\"#DejaVuSans-54\"/>\n      <use xlink:href=\"#DejaVuSans-72\" x=\"46.333984\"/>\n      <use xlink:href=\"#DejaVuSans-61\" x=\"87.447266\"/>\n      <use xlink:href=\"#DejaVuSans-69\" x=\"148.726562\"/>\n      <use xlink:href=\"#DejaVuSans-6e\" x=\"176.509766\"/>\n      <use xlink:href=\"#DejaVuSans-20\" x=\"239.888672\"/>\n      <use xlink:href=\"#DejaVuSans-73\" x=\"271.675781\"/>\n      <use xlink:href=\"#DejaVuSans-65\" x=\"323.775391\"/>\n      <use xlink:href=\"#DejaVuSans-74\" x=\"385.298828\"/>\n     </g>\n    </g>\n    <g id=\"line2d_16\">\n     <path d=\"M 120.454844 173.790673 \nL 131.454844 173.790673 \nL 142.454844 173.790673 \n\" style=\"fill: none; stroke: #ff7f0e; stroke-width: 1.5; stroke-linecap: square\"/>\n    </g>\n    <g id=\"text_17\">\n     <!-- Validation set -->\n     <g transform=\"translate(151.254844 177.640673)scale(0.11 -0.11)\">\n      <defs>\n       <path id=\"DejaVuSans-56\" d=\"M 1831 0 \nL 50 4666 \nL 709 4666 \nL 2188 738 \nL 3669 4666 \nL 4325 4666 \nL 2547 0 \nL 1831 0 \nz\n\" transform=\"scale(0.015625)\"/>\n       <path id=\"DejaVuSans-6c\" d=\"M 603 4863 \nL 1178 4863 \nL 1178 0 \nL 603 0 \nL 603 4863 \nz\n\" transform=\"scale(0.015625)\"/>\n       <path id=\"DejaVuSans-64\" d=\"M 2906 2969 \nL 2906 4863 \nL 3481 4863 \nL 3481 0 \nL 2906 0 \nL 2906 525 \nQ 2725 213 2448 61 \nQ 2172 -91 1784 -91 \nQ 1150 -91 751 415 \nQ 353 922 353 1747 \nQ 353 2572 751 3078 \nQ 1150 3584 1784 3584 \nQ 2172 3584 2448 3432 \nQ 2725 3281 2906 2969 \nz\nM 947 1747 \nQ 947 1113 1208 752 \nQ 1469 391 1925 391 \nQ 2381 391 2643 752 \nQ 2906 1113 2906 1747 \nQ 2906 2381 2643 2742 \nQ 2381 3103 1925 3103 \nQ 1469 3103 1208 2742 \nQ 947 2381 947 1747 \nz\n\" transform=\"scale(0.015625)\"/>\n      </defs>\n      <use xlink:href=\"#DejaVuSans-56\"/>\n      <use xlink:href=\"#DejaVuSans-61\" x=\"60.658203\"/>\n      <use xlink:href=\"#DejaVuSans-6c\" x=\"121.9375\"/>\n      <use xlink:href=\"#DejaVuSans-69\" x=\"149.720703\"/>\n      <use xlink:href=\"#DejaVuSans-64\" x=\"177.503906\"/>\n      <use xlink:href=\"#DejaVuSans-61\" x=\"240.980469\"/>\n      <use xlink:href=\"#DejaVuSans-74\" x=\"302.259766\"/>\n      <use xlink:href=\"#DejaVuSans-69\" x=\"341.46875\"/>\n      <use xlink:href=\"#DejaVuSans-6f\" x=\"369.251953\"/>\n      <use xlink:href=\"#DejaVuSans-6e\" x=\"430.433594\"/>\n      <use xlink:href=\"#DejaVuSans-20\" x=\"493.8125\"/>\n      <use xlink:href=\"#DejaVuSans-73\" x=\"525.599609\"/>\n      <use xlink:href=\"#DejaVuSans-65\" x=\"577.699219\"/>\n      <use xlink:href=\"#DejaVuSans-74\" x=\"639.222656\"/>\n     </g>\n    </g>\n   </g>\n  </g>\n  <g id=\"axes_2\">\n   <g id=\"patch_8\">\n    <path d=\"M 43.78125 407.591594 \nL 235.78125 407.591594 \nL 235.78125 240.08139 \nL 43.78125 240.08139 \nz\n\" style=\"fill: #ffffff\"/>\n   </g>\n   <g id=\"matplotlib.axis_3\">\n    <g id=\"xtick_5\">\n     <g id=\"line2d_17\">\n      <g>\n       <use xlink:href=\"#m449907e01c\" x=\"52.508523\" y=\"407.591594\" style=\"stroke: #000000; stroke-width: 0.8\"/>\n      </g>\n     </g>\n     <g id=\"text_18\">\n      <!-- 0 -->\n      <g transform=\"translate(49.327273 422.190032)scale(0.1 -0.1)\">\n       <use xlink:href=\"#DejaVuSans-30\"/>\n      </g>\n     </g>\n    </g>\n    <g id=\"xtick_6\">\n     <g id=\"line2d_18\">\n      <g>\n       <use xlink:href=\"#m449907e01c\" x=\"112.696611\" y=\"407.591594\" style=\"stroke: #000000; stroke-width: 0.8\"/>\n      </g>\n     </g>\n     <g id=\"text_19\">\n      <!-- 10 -->\n      <g transform=\"translate(106.334111 422.190032)scale(0.1 -0.1)\">\n       <use xlink:href=\"#DejaVuSans-31\"/>\n       <use xlink:href=\"#DejaVuSans-30\" x=\"63.623047\"/>\n      </g>\n     </g>\n    </g>\n    <g id=\"xtick_7\">\n     <g id=\"line2d_19\">\n      <g>\n       <use xlink:href=\"#m449907e01c\" x=\"172.884698\" y=\"407.591594\" style=\"stroke: #000000; stroke-width: 0.8\"/>\n      </g>\n     </g>\n     <g id=\"text_20\">\n      <!-- 20 -->\n      <g transform=\"translate(166.522198 422.190032)scale(0.1 -0.1)\">\n       <use xlink:href=\"#DejaVuSans-32\"/>\n       <use xlink:href=\"#DejaVuSans-30\" x=\"63.623047\"/>\n      </g>\n     </g>\n    </g>\n    <g id=\"xtick_8\">\n     <g id=\"line2d_20\">\n      <g>\n       <use xlink:href=\"#m449907e01c\" x=\"233.072786\" y=\"407.591594\" style=\"stroke: #000000; stroke-width: 0.8\"/>\n      </g>\n     </g>\n     <g id=\"text_21\">\n      <!-- 30 -->\n      <g transform=\"translate(226.710286 422.190032)scale(0.1 -0.1)\">\n       <use xlink:href=\"#DejaVuSans-33\"/>\n       <use xlink:href=\"#DejaVuSans-30\" x=\"63.623047\"/>\n      </g>\n     </g>\n    </g>\n    <g id=\"text_22\">\n     <!-- Epochs -->\n     <g transform=\"translate(121.865625 435.868157)scale(0.1 -0.1)\">\n      <use xlink:href=\"#DejaVuSans-45\"/>\n      <use xlink:href=\"#DejaVuSans-70\" x=\"63.183594\"/>\n      <use xlink:href=\"#DejaVuSans-6f\" x=\"126.660156\"/>\n      <use xlink:href=\"#DejaVuSans-63\" x=\"187.841797\"/>\n      <use xlink:href=\"#DejaVuSans-68\" x=\"242.822266\"/>\n      <use xlink:href=\"#DejaVuSans-73\" x=\"306.201172\"/>\n     </g>\n    </g>\n   </g>\n   <g id=\"matplotlib.axis_4\">\n    <g id=\"ytick_9\">\n     <g id=\"line2d_21\">\n      <g>\n       <use xlink:href=\"#mf950be4dbd\" x=\"43.78125\" y=\"407.591594\" style=\"stroke: #000000; stroke-width: 0.8\"/>\n      </g>\n     </g>\n     <g id=\"text_23\">\n      <!-- 0.4 -->\n      <g transform=\"translate(20.878125 411.390813)scale(0.1 -0.1)\">\n       <use xlink:href=\"#DejaVuSans-30\"/>\n       <use xlink:href=\"#DejaVuSans-2e\" x=\"63.623047\"/>\n       <use xlink:href=\"#DejaVuSans-34\" x=\"95.410156\"/>\n      </g>\n     </g>\n    </g>\n    <g id=\"ytick_10\">\n     <g id=\"line2d_22\">\n      <g>\n       <use xlink:href=\"#mf950be4dbd\" x=\"43.78125\" y=\"383.661565\" style=\"stroke: #000000; stroke-width: 0.8\"/>\n      </g>\n     </g>\n     <g id=\"text_24\">\n      <!-- 0.5 -->\n      <g transform=\"translate(20.878125 387.460784)scale(0.1 -0.1)\">\n       <use xlink:href=\"#DejaVuSans-30\"/>\n       <use xlink:href=\"#DejaVuSans-2e\" x=\"63.623047\"/>\n       <use xlink:href=\"#DejaVuSans-35\" x=\"95.410156\"/>\n      </g>\n     </g>\n    </g>\n    <g id=\"ytick_11\">\n     <g id=\"line2d_23\">\n      <g>\n       <use xlink:href=\"#mf950be4dbd\" x=\"43.78125\" y=\"359.731536\" style=\"stroke: #000000; stroke-width: 0.8\"/>\n      </g>\n     </g>\n     <g id=\"text_25\">\n      <!-- 0.6 -->\n      <g transform=\"translate(20.878125 363.530755)scale(0.1 -0.1)\">\n       <use xlink:href=\"#DejaVuSans-30\"/>\n       <use xlink:href=\"#DejaVuSans-2e\" x=\"63.623047\"/>\n       <use xlink:href=\"#DejaVuSans-36\" x=\"95.410156\"/>\n      </g>\n     </g>\n    </g>\n    <g id=\"ytick_12\">\n     <g id=\"line2d_24\">\n      <g>\n       <use xlink:href=\"#mf950be4dbd\" x=\"43.78125\" y=\"335.801507\" style=\"stroke: #000000; stroke-width: 0.8\"/>\n      </g>\n     </g>\n     <g id=\"text_26\">\n      <!-- 0.7 -->\n      <g transform=\"translate(20.878125 339.600726)scale(0.1 -0.1)\">\n       <use xlink:href=\"#DejaVuSans-30\"/>\n       <use xlink:href=\"#DejaVuSans-2e\" x=\"63.623047\"/>\n       <use xlink:href=\"#DejaVuSans-37\" x=\"95.410156\"/>\n      </g>\n     </g>\n    </g>\n    <g id=\"ytick_13\">\n     <g id=\"line2d_25\">\n      <g>\n       <use xlink:href=\"#mf950be4dbd\" x=\"43.78125\" y=\"311.871478\" style=\"stroke: #000000; stroke-width: 0.8\"/>\n      </g>\n     </g>\n     <g id=\"text_27\">\n      <!-- 0.8 -->\n      <g transform=\"translate(20.878125 315.670697)scale(0.1 -0.1)\">\n       <use xlink:href=\"#DejaVuSans-30\"/>\n       <use xlink:href=\"#DejaVuSans-2e\" x=\"63.623047\"/>\n       <use xlink:href=\"#DejaVuSans-38\" x=\"95.410156\"/>\n      </g>\n     </g>\n    </g>\n    <g id=\"ytick_14\">\n     <g id=\"line2d_26\">\n      <g>\n       <use xlink:href=\"#mf950be4dbd\" x=\"43.78125\" y=\"287.941449\" style=\"stroke: #000000; stroke-width: 0.8\"/>\n      </g>\n     </g>\n     <g id=\"text_28\">\n      <!-- 0.9 -->\n      <g transform=\"translate(20.878125 291.740667)scale(0.1 -0.1)\">\n       <use xlink:href=\"#DejaVuSans-30\"/>\n       <use xlink:href=\"#DejaVuSans-2e\" x=\"63.623047\"/>\n       <use xlink:href=\"#DejaVuSans-39\" x=\"95.410156\"/>\n      </g>\n     </g>\n    </g>\n    <g id=\"ytick_15\">\n     <g id=\"line2d_27\">\n      <g>\n       <use xlink:href=\"#mf950be4dbd\" x=\"43.78125\" y=\"264.011419\" style=\"stroke: #000000; stroke-width: 0.8\"/>\n      </g>\n     </g>\n     <g id=\"text_29\">\n      <!-- 1.0 -->\n      <g transform=\"translate(20.878125 267.810638)scale(0.1 -0.1)\">\n       <use xlink:href=\"#DejaVuSans-31\"/>\n       <use xlink:href=\"#DejaVuSans-2e\" x=\"63.623047\"/>\n       <use xlink:href=\"#DejaVuSans-30\" x=\"95.410156\"/>\n      </g>\n     </g>\n    </g>\n    <g id=\"ytick_16\">\n     <g id=\"line2d_28\">\n      <g>\n       <use xlink:href=\"#mf950be4dbd\" x=\"43.78125\" y=\"240.08139\" style=\"stroke: #000000; stroke-width: 0.8\"/>\n      </g>\n     </g>\n     <g id=\"text_30\">\n      <!-- 1.1 -->\n      <g transform=\"translate(20.878125 243.880609)scale(0.1 -0.1)\">\n       <use xlink:href=\"#DejaVuSans-31\"/>\n       <use xlink:href=\"#DejaVuSans-2e\" x=\"63.623047\"/>\n       <use xlink:href=\"#DejaVuSans-31\" x=\"95.410156\"/>\n      </g>\n     </g>\n    </g>\n    <g id=\"text_31\">\n     <!-- Accuracy (%) -->\n     <g transform=\"translate(14.798438 356.906024)rotate(-90)scale(0.1 -0.1)\">\n      <use xlink:href=\"#DejaVuSans-41\"/>\n      <use xlink:href=\"#DejaVuSans-63\" x=\"66.658203\"/>\n      <use xlink:href=\"#DejaVuSans-63\" x=\"121.638672\"/>\n      <use xlink:href=\"#DejaVuSans-75\" x=\"176.619141\"/>\n      <use xlink:href=\"#DejaVuSans-72\" x=\"239.998047\"/>\n      <use xlink:href=\"#DejaVuSans-61\" x=\"281.111328\"/>\n      <use xlink:href=\"#DejaVuSans-63\" x=\"342.390625\"/>\n      <use xlink:href=\"#DejaVuSans-79\" x=\"397.371094\"/>\n      <use xlink:href=\"#DejaVuSans-20\" x=\"456.550781\"/>\n      <use xlink:href=\"#DejaVuSans-28\" x=\"488.337891\"/>\n      <use xlink:href=\"#DejaVuSans-25\" x=\"527.351562\"/>\n      <use xlink:href=\"#DejaVuSans-29\" x=\"622.371094\"/>\n     </g>\n    </g>\n   </g>\n   <g id=\"line2d_29\">\n    <path d=\"M 52.508523 382.46533 \nL 58.527332 372.41695 \nL 64.54614 332.143684 \nL 70.564949 308.803798 \nL 76.583758 303.487195 \nL 82.602567 299.898488 \nL 88.621375 296.894608 \nL 94.640184 295.166712 \nL 100.658993 292.348912 \nL 106.677802 289.132368 \nL 112.696611 287.590553 \nL 118.715419 289.717194 \nL 124.734228 284.374008 \nL 130.753037 283.337271 \nL 136.771846 284.187927 \nL 142.790654 281.263796 \nL 148.809463 282.327116 \nL 154.828272 279.615649 \nL 160.847081 281.290379 \nL 166.865889 280.227058 \nL 172.884698 279.456151 \nL 178.903507 279.721981 \nL 184.922316 278.286498 \nL 190.941125 279.695398 \nL 196.959933 277.090262 \nL 202.978742 278.552328 \nL 208.997551 277.940919 \nL 215.01636 277.462425 \nL 221.035168 277.701672 \nL 227.053977 276.213023 \n\" clip-path=\"url(#pc936b4532f)\" style=\"fill: none; stroke-dasharray: 5.55,2.4; stroke-dashoffset: 0; stroke: #1f77b4; stroke-width: 1.5\"/>\n   </g>\n   <g id=\"line2d_30\">\n    <path d=\"M 52.508523 384.6916 \nL 58.527332 336.246748 \nL 64.54614 311.193649 \nL 70.564949 304.681172 \nL 76.583758 302.554649 \nL 82.602567 307.07351 \nL 88.621375 296.773164 \nL 94.640184 293.450472 \nL 100.658993 293.516926 \nL 106.677802 292.054942 \nL 112.696611 297.570611 \nL 118.715419 289.662603 \nL 124.734228 284.877926 \nL 130.753037 296.440895 \nL 136.771846 286.67218 \nL 142.790654 282.35268 \nL 148.809463 281.953957 \nL 154.828272 284.213388 \nL 160.847081 281.953957 \nL 166.865889 280.691334 \nL 172.884698 282.35268 \nL 178.903507 283.814665 \nL 184.922316 280.292611 \nL 190.941125 285.675373 \nL 196.959933 279.960342 \nL 202.978742 279.960342 \nL 208.997551 283.482396 \nL 215.01636 286.805088 \nL 221.035168 282.817857 \nL 227.053977 279.495165 \n\" clip-path=\"url(#pc936b4532f)\" style=\"fill: none; stroke: #ff7f0e; stroke-width: 1.5; stroke-linecap: square\"/>\n   </g>\n   <g id=\"patch_9\">\n    <path d=\"M 43.78125 407.591594 \nL 43.78125 240.08139 \n\" style=\"fill: none; stroke: #000000; stroke-width: 0.8; stroke-linejoin: miter; stroke-linecap: square\"/>\n   </g>\n   <g id=\"patch_10\">\n    <path d=\"M 235.78125 407.591594 \nL 235.78125 240.08139 \n\" style=\"fill: none; stroke: #000000; stroke-width: 0.8; stroke-linejoin: miter; stroke-linecap: square\"/>\n   </g>\n   <g id=\"patch_11\">\n    <path d=\"M 43.78125 407.591594 \nL 235.78125 407.591594 \n\" style=\"fill: none; stroke: #000000; stroke-width: 0.8; stroke-linejoin: miter; stroke-linecap: square\"/>\n   </g>\n   <g id=\"patch_12\">\n    <path d=\"M 43.78125 240.08139 \nL 235.78125 240.08139 \n\" style=\"fill: none; stroke: #000000; stroke-width: 0.8; stroke-linejoin: miter; stroke-linecap: square\"/>\n   </g>\n   <g id=\"text_32\">\n    <!-- GCN flux+ -->\n    <g transform=\"translate(43.78125 234.08139)scale(0.12 -0.12)\">\n     <defs>\n      <path id=\"DejaVuSans-Bold-2b\" d=\"M 3053 4013 \nL 3053 2375 \nL 4684 2375 \nL 4684 1638 \nL 3053 1638 \nL 3053 0 \nL 2309 0 \nL 2309 1638 \nL 678 1638 \nL 678 2375 \nL 2309 2375 \nL 2309 4013 \nL 3053 4013 \nz\n\" transform=\"scale(0.015625)\"/>\n     </defs>\n     <use xlink:href=\"#DejaVuSans-Bold-47\"/>\n     <use xlink:href=\"#DejaVuSans-Bold-43\" x=\"82.080078\"/>\n     <use xlink:href=\"#DejaVuSans-Bold-4e\" x=\"155.46875\"/>\n     <use xlink:href=\"#DejaVuSans-Bold-20\" x=\"239.160156\"/>\n     <use xlink:href=\"#DejaVuSans-Bold-66\" x=\"273.974609\"/>\n     <use xlink:href=\"#DejaVuSans-Bold-6c\" x=\"317.480469\"/>\n     <use xlink:href=\"#DejaVuSans-Bold-75\" x=\"351.757812\"/>\n     <use xlink:href=\"#DejaVuSans-Bold-78\" x=\"422.949219\"/>\n     <use xlink:href=\"#DejaVuSans-Bold-2b\" x=\"487.451172\"/>\n    </g>\n   </g>\n   <g id=\"legend_2\">\n    <g id=\"patch_13\">\n     <path d=\"M 118.254844 402.091594 \nL 228.08125 402.091594 \nQ 230.28125 402.091594 230.28125 399.891594 \nL 230.28125 368.699719 \nQ 230.28125 366.499719 228.08125 366.499719 \nL 118.254844 366.499719 \nQ 116.054844 366.499719 116.054844 368.699719 \nL 116.054844 399.891594 \nQ 116.054844 402.091594 118.254844 402.091594 \nz\n\" style=\"fill: #ffffff; opacity: 0.8; stroke: #cccccc; stroke-linejoin: miter\"/>\n    </g>\n    <g id=\"line2d_31\">\n     <path d=\"M 120.454844 375.408001 \nL 131.454844 375.408001 \nL 142.454844 375.408001 \n\" style=\"fill: none; stroke-dasharray: 5.55,2.4; stroke-dashoffset: 0; stroke: #1f77b4; stroke-width: 1.5\"/>\n    </g>\n    <g id=\"text_33\">\n     <!-- Train set -->\n     <g transform=\"translate(151.254844 379.258001)scale(0.11 -0.11)\">\n      <use xlink:href=\"#DejaVuSans-54\"/>\n      <use xlink:href=\"#DejaVuSans-72\" x=\"46.333984\"/>\n      <use xlink:href=\"#DejaVuSans-61\" x=\"87.447266\"/>\n      <use xlink:href=\"#DejaVuSans-69\" x=\"148.726562\"/>\n      <use xlink:href=\"#DejaVuSans-6e\" x=\"176.509766\"/>\n      <use xlink:href=\"#DejaVuSans-20\" x=\"239.888672\"/>\n      <use xlink:href=\"#DejaVuSans-73\" x=\"271.675781\"/>\n      <use xlink:href=\"#DejaVuSans-65\" x=\"323.775391\"/>\n      <use xlink:href=\"#DejaVuSans-74\" x=\"385.298828\"/>\n     </g>\n    </g>\n    <g id=\"line2d_32\">\n     <path d=\"M 120.454844 391.553938 \nL 131.454844 391.553938 \nL 142.454844 391.553938 \n\" style=\"fill: none; stroke: #ff7f0e; stroke-width: 1.5; stroke-linecap: square\"/>\n    </g>\n    <g id=\"text_34\">\n     <!-- Validation set -->\n     <g transform=\"translate(151.254844 395.403938)scale(0.11 -0.11)\">\n      <use xlink:href=\"#DejaVuSans-56\"/>\n      <use xlink:href=\"#DejaVuSans-61\" x=\"60.658203\"/>\n      <use xlink:href=\"#DejaVuSans-6c\" x=\"121.9375\"/>\n      <use xlink:href=\"#DejaVuSans-69\" x=\"149.720703\"/>\n      <use xlink:href=\"#DejaVuSans-64\" x=\"177.503906\"/>\n      <use xlink:href=\"#DejaVuSans-61\" x=\"240.980469\"/>\n      <use xlink:href=\"#DejaVuSans-74\" x=\"302.259766\"/>\n      <use xlink:href=\"#DejaVuSans-69\" x=\"341.46875\"/>\n      <use xlink:href=\"#DejaVuSans-6f\" x=\"369.251953\"/>\n      <use xlink:href=\"#DejaVuSans-6e\" x=\"430.433594\"/>\n      <use xlink:href=\"#DejaVuSans-20\" x=\"493.8125\"/>\n      <use xlink:href=\"#DejaVuSans-73\" x=\"525.599609\"/>\n      <use xlink:href=\"#DejaVuSans-65\" x=\"577.699219\"/>\n      <use xlink:href=\"#DejaVuSans-74\" x=\"639.222656\"/>\n     </g>\n    </g>\n   </g>\n  </g>\n  <g id=\"axes_3\">\n   <g id=\"patch_14\">\n    <path d=\"M 293.38125 189.828329 \nL 485.38125 189.828329 \nL 485.38125 22.318125 \nL 293.38125 22.318125 \nz\n\" style=\"fill: #ffffff\"/>\n   </g>\n   <g id=\"matplotlib.axis_5\">\n    <g id=\"xtick_9\">\n     <g id=\"line2d_33\">\n      <g>\n       <use xlink:href=\"#m449907e01c\" x=\"302.108523\" y=\"189.828329\" style=\"stroke: #000000; stroke-width: 0.8\"/>\n      </g>\n     </g>\n     <g id=\"text_35\">\n      <!-- 0 -->\n      <g transform=\"translate(298.927273 204.426767)scale(0.1 -0.1)\">\n       <use xlink:href=\"#DejaVuSans-30\"/>\n      </g>\n     </g>\n    </g>\n    <g id=\"xtick_10\">\n     <g id=\"line2d_34\">\n      <g>\n       <use xlink:href=\"#m449907e01c\" x=\"362.296611\" y=\"189.828329\" style=\"stroke: #000000; stroke-width: 0.8\"/>\n      </g>\n     </g>\n     <g id=\"text_36\">\n      <!-- 10 -->\n      <g transform=\"translate(355.934111 204.426767)scale(0.1 -0.1)\">\n       <use xlink:href=\"#DejaVuSans-31\"/>\n       <use xlink:href=\"#DejaVuSans-30\" x=\"63.623047\"/>\n      </g>\n     </g>\n    </g>\n    <g id=\"xtick_11\">\n     <g id=\"line2d_35\">\n      <g>\n       <use xlink:href=\"#m449907e01c\" x=\"422.484698\" y=\"189.828329\" style=\"stroke: #000000; stroke-width: 0.8\"/>\n      </g>\n     </g>\n     <g id=\"text_37\">\n      <!-- 20 -->\n      <g transform=\"translate(416.122198 204.426767)scale(0.1 -0.1)\">\n       <use xlink:href=\"#DejaVuSans-32\"/>\n       <use xlink:href=\"#DejaVuSans-30\" x=\"63.623047\"/>\n      </g>\n     </g>\n    </g>\n    <g id=\"xtick_12\">\n     <g id=\"line2d_36\">\n      <g>\n       <use xlink:href=\"#m449907e01c\" x=\"482.672786\" y=\"189.828329\" style=\"stroke: #000000; stroke-width: 0.8\"/>\n      </g>\n     </g>\n     <g id=\"text_38\">\n      <!-- 30 -->\n      <g transform=\"translate(476.310286 204.426767)scale(0.1 -0.1)\">\n       <use xlink:href=\"#DejaVuSans-33\"/>\n       <use xlink:href=\"#DejaVuSans-30\" x=\"63.623047\"/>\n      </g>\n     </g>\n    </g>\n    <g id=\"text_39\">\n     <!-- Epochs -->\n     <g transform=\"translate(371.465625 218.104892)scale(0.1 -0.1)\">\n      <use xlink:href=\"#DejaVuSans-45\"/>\n      <use xlink:href=\"#DejaVuSans-70\" x=\"63.183594\"/>\n      <use xlink:href=\"#DejaVuSans-6f\" x=\"126.660156\"/>\n      <use xlink:href=\"#DejaVuSans-63\" x=\"187.841797\"/>\n      <use xlink:href=\"#DejaVuSans-68\" x=\"242.822266\"/>\n      <use xlink:href=\"#DejaVuSans-73\" x=\"306.201172\"/>\n     </g>\n    </g>\n   </g>\n   <g id=\"matplotlib.axis_6\">\n    <g id=\"ytick_17\">\n     <g id=\"line2d_37\">\n      <g>\n       <use xlink:href=\"#mf950be4dbd\" x=\"293.38125\" y=\"189.828329\" style=\"stroke: #000000; stroke-width: 0.8\"/>\n      </g>\n     </g>\n     <g id=\"text_40\">\n      <!-- 0.4 -->\n      <g transform=\"translate(270.478125 193.627548)scale(0.1 -0.1)\">\n       <use xlink:href=\"#DejaVuSans-30\"/>\n       <use xlink:href=\"#DejaVuSans-2e\" x=\"63.623047\"/>\n       <use xlink:href=\"#DejaVuSans-34\" x=\"95.410156\"/>\n      </g>\n     </g>\n    </g>\n    <g id=\"ytick_18\">\n     <g id=\"line2d_38\">\n      <g>\n       <use xlink:href=\"#mf950be4dbd\" x=\"293.38125\" y=\"165.8983\" style=\"stroke: #000000; stroke-width: 0.8\"/>\n      </g>\n     </g>\n     <g id=\"text_41\">\n      <!-- 0.5 -->\n      <g transform=\"translate(270.478125 169.697519)scale(0.1 -0.1)\">\n       <use xlink:href=\"#DejaVuSans-30\"/>\n       <use xlink:href=\"#DejaVuSans-2e\" x=\"63.623047\"/>\n       <use xlink:href=\"#DejaVuSans-35\" x=\"95.410156\"/>\n      </g>\n     </g>\n    </g>\n    <g id=\"ytick_19\">\n     <g id=\"line2d_39\">\n      <g>\n       <use xlink:href=\"#mf950be4dbd\" x=\"293.38125\" y=\"141.968271\" style=\"stroke: #000000; stroke-width: 0.8\"/>\n      </g>\n     </g>\n     <g id=\"text_42\">\n      <!-- 0.6 -->\n      <g transform=\"translate(270.478125 145.76749)scale(0.1 -0.1)\">\n       <use xlink:href=\"#DejaVuSans-30\"/>\n       <use xlink:href=\"#DejaVuSans-2e\" x=\"63.623047\"/>\n       <use xlink:href=\"#DejaVuSans-36\" x=\"95.410156\"/>\n      </g>\n     </g>\n    </g>\n    <g id=\"ytick_20\">\n     <g id=\"line2d_40\">\n      <g>\n       <use xlink:href=\"#mf950be4dbd\" x=\"293.38125\" y=\"118.038242\" style=\"stroke: #000000; stroke-width: 0.8\"/>\n      </g>\n     </g>\n     <g id=\"text_43\">\n      <!-- 0.7 -->\n      <g transform=\"translate(270.478125 121.83746)scale(0.1 -0.1)\">\n       <use xlink:href=\"#DejaVuSans-30\"/>\n       <use xlink:href=\"#DejaVuSans-2e\" x=\"63.623047\"/>\n       <use xlink:href=\"#DejaVuSans-37\" x=\"95.410156\"/>\n      </g>\n     </g>\n    </g>\n    <g id=\"ytick_21\">\n     <g id=\"line2d_41\">\n      <g>\n       <use xlink:href=\"#mf950be4dbd\" x=\"293.38125\" y=\"94.108212\" style=\"stroke: #000000; stroke-width: 0.8\"/>\n      </g>\n     </g>\n     <g id=\"text_44\">\n      <!-- 0.8 -->\n      <g transform=\"translate(270.478125 97.907431)scale(0.1 -0.1)\">\n       <use xlink:href=\"#DejaVuSans-30\"/>\n       <use xlink:href=\"#DejaVuSans-2e\" x=\"63.623047\"/>\n       <use xlink:href=\"#DejaVuSans-38\" x=\"95.410156\"/>\n      </g>\n     </g>\n    </g>\n    <g id=\"ytick_22\">\n     <g id=\"line2d_42\">\n      <g>\n       <use xlink:href=\"#mf950be4dbd\" x=\"293.38125\" y=\"70.178183\" style=\"stroke: #000000; stroke-width: 0.8\"/>\n      </g>\n     </g>\n     <g id=\"text_45\">\n      <!-- 0.9 -->\n      <g transform=\"translate(270.478125 73.977402)scale(0.1 -0.1)\">\n       <use xlink:href=\"#DejaVuSans-30\"/>\n       <use xlink:href=\"#DejaVuSans-2e\" x=\"63.623047\"/>\n       <use xlink:href=\"#DejaVuSans-39\" x=\"95.410156\"/>\n      </g>\n     </g>\n    </g>\n    <g id=\"ytick_23\">\n     <g id=\"line2d_43\">\n      <g>\n       <use xlink:href=\"#mf950be4dbd\" x=\"293.38125\" y=\"46.248154\" style=\"stroke: #000000; stroke-width: 0.8\"/>\n      </g>\n     </g>\n     <g id=\"text_46\">\n      <!-- 1.0 -->\n      <g transform=\"translate(270.478125 50.047373)scale(0.1 -0.1)\">\n       <use xlink:href=\"#DejaVuSans-31\"/>\n       <use xlink:href=\"#DejaVuSans-2e\" x=\"63.623047\"/>\n       <use xlink:href=\"#DejaVuSans-30\" x=\"95.410156\"/>\n      </g>\n     </g>\n    </g>\n    <g id=\"ytick_24\">\n     <g id=\"line2d_44\">\n      <g>\n       <use xlink:href=\"#mf950be4dbd\" x=\"293.38125\" y=\"22.318125\" style=\"stroke: #000000; stroke-width: 0.8\"/>\n      </g>\n     </g>\n     <g id=\"text_47\">\n      <!-- 1.1 -->\n      <g transform=\"translate(270.478125 26.117344)scale(0.1 -0.1)\">\n       <use xlink:href=\"#DejaVuSans-31\"/>\n       <use xlink:href=\"#DejaVuSans-2e\" x=\"63.623047\"/>\n       <use xlink:href=\"#DejaVuSans-31\" x=\"95.410156\"/>\n      </g>\n     </g>\n    </g>\n    <g id=\"text_48\">\n     <!-- Accuracy (%) -->\n     <g transform=\"translate(264.398438 139.142758)rotate(-90)scale(0.1 -0.1)\">\n      <use xlink:href=\"#DejaVuSans-41\"/>\n      <use xlink:href=\"#DejaVuSans-63\" x=\"66.658203\"/>\n      <use xlink:href=\"#DejaVuSans-63\" x=\"121.638672\"/>\n      <use xlink:href=\"#DejaVuSans-75\" x=\"176.619141\"/>\n      <use xlink:href=\"#DejaVuSans-72\" x=\"239.998047\"/>\n      <use xlink:href=\"#DejaVuSans-61\" x=\"281.111328\"/>\n      <use xlink:href=\"#DejaVuSans-63\" x=\"342.390625\"/>\n      <use xlink:href=\"#DejaVuSans-79\" x=\"397.371094\"/>\n      <use xlink:href=\"#DejaVuSans-20\" x=\"456.550781\"/>\n      <use xlink:href=\"#DejaVuSans-28\" x=\"488.337891\"/>\n      <use xlink:href=\"#DejaVuSans-25\" x=\"527.351562\"/>\n      <use xlink:href=\"#DejaVuSans-29\" x=\"622.371094\"/>\n     </g>\n    </g>\n   </g>\n   <g id=\"line2d_45\">\n    <path d=\"M 302.108523 127.804841 \nL 308.127332 80.832655 \nL 314.14614 74.87806 \nL 320.164949 70.890608 \nL 326.183758 70.943774 \nL 332.202567 68.79055 \nL 338.221375 67.487982 \nL 344.240184 64.218272 \nL 350.258993 63.50053 \nL 356.277802 61.8258 \nL 362.296611 64.829681 \nL 368.315419 62.43721 \nL 374.334228 60.443484 \nL 380.353037 60.071321 \nL 386.371846 61.932132 \nL 392.390654 60.363735 \nL 398.409463 65.122094 \nL 404.428272 59.911823 \nL 410.447081 60.656148 \nL 416.465889 58.130761 \nL 422.484698 60.49665 \nL 428.503507 58.476341 \nL 434.522316 59.672576 \nL 440.541125 57.386437 \nL 446.559933 60.815646 \nL 452.578742 57.253522 \nL 458.597551 60.576399 \nL 464.61636 57.891514 \nL 470.635168 59.858657 \nL 476.653977 58.768754 \n\" clip-path=\"url(#p18966ca75a)\" style=\"fill: none; stroke-dasharray: 5.55,2.4; stroke-dashoffset: 0; stroke: #1f77b4; stroke-width: 1.5\"/>\n   </g>\n   <g id=\"line2d_46\">\n    <path d=\"M 302.108523 87.117268 \nL 308.127332 75.953022 \nL 314.14614 77.547915 \nL 320.164949 69.506999 \nL 326.183758 65.121046 \nL 332.202567 69.639907 \nL 338.221375 67.314023 \nL 344.240184 75.687207 \nL 350.258993 60.070554 \nL 356.277802 61.000907 \nL 362.296611 79.475076 \nL 368.315419 60.269915 \nL 374.334228 63.060977 \nL 380.353037 58.143392 \nL 386.371846 58.741477 \nL 392.390654 63.326792 \nL 398.409463 61.532538 \nL 404.428272 61.598992 \nL 410.447081 61.333177 \nL 416.465889 57.345946 \nL 422.484698 59.472469 \nL 428.503507 57.146585 \nL 434.522316 63.260338 \nL 440.541125 56.947223 \nL 446.559933 56.747861 \nL 452.578742 62.130623 \nL 458.597551 63.924877 \nL 464.61636 63.526154 \nL 470.635168 58.010485 \nL 476.653977 56.880769 \n\" clip-path=\"url(#p18966ca75a)\" style=\"fill: none; stroke: #ff7f0e; stroke-width: 1.5; stroke-linecap: square\"/>\n   </g>\n   <g id=\"patch_15\">\n    <path d=\"M 293.38125 189.828329 \nL 293.38125 22.318125 \n\" style=\"fill: none; stroke: #000000; stroke-width: 0.8; stroke-linejoin: miter; stroke-linecap: square\"/>\n   </g>\n   <g id=\"patch_16\">\n    <path d=\"M 485.38125 189.828329 \nL 485.38125 22.318125 \n\" style=\"fill: none; stroke: #000000; stroke-width: 0.8; stroke-linejoin: miter; stroke-linecap: square\"/>\n   </g>\n   <g id=\"patch_17\">\n    <path d=\"M 293.38125 189.828329 \nL 485.38125 189.828329 \n\" style=\"fill: none; stroke: #000000; stroke-width: 0.8; stroke-linejoin: miter; stroke-linecap: square\"/>\n   </g>\n   <g id=\"patch_18\">\n    <path d=\"M 293.38125 22.318125 \nL 485.38125 22.318125 \n\" style=\"fill: none; stroke: #000000; stroke-width: 0.8; stroke-linejoin: miter; stroke-linecap: square\"/>\n   </g>\n   <g id=\"text_49\">\n    <!-- GAT flux- -->\n    <g transform=\"translate(293.38125 16.318125)scale(0.12 -0.12)\">\n     <defs>\n      <path id=\"DejaVuSans-Bold-41\" d=\"M 3419 850 \nL 1538 850 \nL 1241 0 \nL 31 0 \nL 1759 4666 \nL 3194 4666 \nL 4922 0 \nL 3713 0 \nL 3419 850 \nz\nM 1838 1716 \nL 3116 1716 \nL 2478 3572 \nL 1838 1716 \nz\n\" transform=\"scale(0.015625)\"/>\n      <path id=\"DejaVuSans-Bold-54\" d=\"M 31 4666 \nL 4331 4666 \nL 4331 3756 \nL 2784 3756 \nL 2784 0 \nL 1581 0 \nL 1581 3756 \nL 31 3756 \nL 31 4666 \nz\n\" transform=\"scale(0.015625)\"/>\n     </defs>\n     <use xlink:href=\"#DejaVuSans-Bold-47\"/>\n     <use xlink:href=\"#DejaVuSans-Bold-41\" x=\"82.080078\"/>\n     <use xlink:href=\"#DejaVuSans-Bold-54\" x=\"151.722656\"/>\n     <use xlink:href=\"#DejaVuSans-Bold-20\" x=\"219.935547\"/>\n     <use xlink:href=\"#DejaVuSans-Bold-66\" x=\"254.75\"/>\n     <use xlink:href=\"#DejaVuSans-Bold-6c\" x=\"298.255859\"/>\n     <use xlink:href=\"#DejaVuSans-Bold-75\" x=\"332.533203\"/>\n     <use xlink:href=\"#DejaVuSans-Bold-78\" x=\"403.724609\"/>\n     <use xlink:href=\"#DejaVuSans-Bold-2d\" x=\"468.226562\"/>\n    </g>\n   </g>\n   <g id=\"legend_3\">\n    <g id=\"patch_19\">\n     <path d=\"M 367.854844 184.328329 \nL 477.68125 184.328329 \nQ 479.88125 184.328329 479.88125 182.128329 \nL 479.88125 150.936454 \nQ 479.88125 148.736454 477.68125 148.736454 \nL 367.854844 148.736454 \nQ 365.654844 148.736454 365.654844 150.936454 \nL 365.654844 182.128329 \nQ 365.654844 184.328329 367.854844 184.328329 \nz\n\" style=\"fill: #ffffff; opacity: 0.8; stroke: #cccccc; stroke-linejoin: miter\"/>\n    </g>\n    <g id=\"line2d_47\">\n     <path d=\"M 370.054844 157.644735 \nL 381.054844 157.644735 \nL 392.054844 157.644735 \n\" style=\"fill: none; stroke-dasharray: 5.55,2.4; stroke-dashoffset: 0; stroke: #1f77b4; stroke-width: 1.5\"/>\n    </g>\n    <g id=\"text_50\">\n     <!-- Train set -->\n     <g transform=\"translate(400.854844 161.494735)scale(0.11 -0.11)\">\n      <use xlink:href=\"#DejaVuSans-54\"/>\n      <use xlink:href=\"#DejaVuSans-72\" x=\"46.333984\"/>\n      <use xlink:href=\"#DejaVuSans-61\" x=\"87.447266\"/>\n      <use xlink:href=\"#DejaVuSans-69\" x=\"148.726562\"/>\n      <use xlink:href=\"#DejaVuSans-6e\" x=\"176.509766\"/>\n      <use xlink:href=\"#DejaVuSans-20\" x=\"239.888672\"/>\n      <use xlink:href=\"#DejaVuSans-73\" x=\"271.675781\"/>\n      <use xlink:href=\"#DejaVuSans-65\" x=\"323.775391\"/>\n      <use xlink:href=\"#DejaVuSans-74\" x=\"385.298828\"/>\n     </g>\n    </g>\n    <g id=\"line2d_48\">\n     <path d=\"M 370.054844 173.790673 \nL 381.054844 173.790673 \nL 392.054844 173.790673 \n\" style=\"fill: none; stroke: #ff7f0e; stroke-width: 1.5; stroke-linecap: square\"/>\n    </g>\n    <g id=\"text_51\">\n     <!-- Validation set -->\n     <g transform=\"translate(400.854844 177.640673)scale(0.11 -0.11)\">\n      <use xlink:href=\"#DejaVuSans-56\"/>\n      <use xlink:href=\"#DejaVuSans-61\" x=\"60.658203\"/>\n      <use xlink:href=\"#DejaVuSans-6c\" x=\"121.9375\"/>\n      <use xlink:href=\"#DejaVuSans-69\" x=\"149.720703\"/>\n      <use xlink:href=\"#DejaVuSans-64\" x=\"177.503906\"/>\n      <use xlink:href=\"#DejaVuSans-61\" x=\"240.980469\"/>\n      <use xlink:href=\"#DejaVuSans-74\" x=\"302.259766\"/>\n      <use xlink:href=\"#DejaVuSans-69\" x=\"341.46875\"/>\n      <use xlink:href=\"#DejaVuSans-6f\" x=\"369.251953\"/>\n      <use xlink:href=\"#DejaVuSans-6e\" x=\"430.433594\"/>\n      <use xlink:href=\"#DejaVuSans-20\" x=\"493.8125\"/>\n      <use xlink:href=\"#DejaVuSans-73\" x=\"525.599609\"/>\n      <use xlink:href=\"#DejaVuSans-65\" x=\"577.699219\"/>\n      <use xlink:href=\"#DejaVuSans-74\" x=\"639.222656\"/>\n     </g>\n    </g>\n   </g>\n  </g>\n  <g id=\"axes_4\">\n   <g id=\"patch_20\">\n    <path d=\"M 293.38125 407.591594 \nL 485.38125 407.591594 \nL 485.38125 240.08139 \nL 293.38125 240.08139 \nz\n\" style=\"fill: #ffffff\"/>\n   </g>\n   <g id=\"matplotlib.axis_7\">\n    <g id=\"xtick_13\">\n     <g id=\"line2d_49\">\n      <g>\n       <use xlink:href=\"#m449907e01c\" x=\"302.108523\" y=\"407.591594\" style=\"stroke: #000000; stroke-width: 0.8\"/>\n      </g>\n     </g>\n     <g id=\"text_52\">\n      <!-- 0 -->\n      <g transform=\"translate(298.927273 422.190032)scale(0.1 -0.1)\">\n       <use xlink:href=\"#DejaVuSans-30\"/>\n      </g>\n     </g>\n    </g>\n    <g id=\"xtick_14\">\n     <g id=\"line2d_50\">\n      <g>\n       <use xlink:href=\"#m449907e01c\" x=\"362.296611\" y=\"407.591594\" style=\"stroke: #000000; stroke-width: 0.8\"/>\n      </g>\n     </g>\n     <g id=\"text_53\">\n      <!-- 10 -->\n      <g transform=\"translate(355.934111 422.190032)scale(0.1 -0.1)\">\n       <use xlink:href=\"#DejaVuSans-31\"/>\n       <use xlink:href=\"#DejaVuSans-30\" x=\"63.623047\"/>\n      </g>\n     </g>\n    </g>\n    <g id=\"xtick_15\">\n     <g id=\"line2d_51\">\n      <g>\n       <use xlink:href=\"#m449907e01c\" x=\"422.484698\" y=\"407.591594\" style=\"stroke: #000000; stroke-width: 0.8\"/>\n      </g>\n     </g>\n     <g id=\"text_54\">\n      <!-- 20 -->\n      <g transform=\"translate(416.122198 422.190032)scale(0.1 -0.1)\">\n       <use xlink:href=\"#DejaVuSans-32\"/>\n       <use xlink:href=\"#DejaVuSans-30\" x=\"63.623047\"/>\n      </g>\n     </g>\n    </g>\n    <g id=\"xtick_16\">\n     <g id=\"line2d_52\">\n      <g>\n       <use xlink:href=\"#m449907e01c\" x=\"482.672786\" y=\"407.591594\" style=\"stroke: #000000; stroke-width: 0.8\"/>\n      </g>\n     </g>\n     <g id=\"text_55\">\n      <!-- 30 -->\n      <g transform=\"translate(476.310286 422.190032)scale(0.1 -0.1)\">\n       <use xlink:href=\"#DejaVuSans-33\"/>\n       <use xlink:href=\"#DejaVuSans-30\" x=\"63.623047\"/>\n      </g>\n     </g>\n    </g>\n    <g id=\"text_56\">\n     <!-- Epochs -->\n     <g transform=\"translate(371.465625 435.868157)scale(0.1 -0.1)\">\n      <use xlink:href=\"#DejaVuSans-45\"/>\n      <use xlink:href=\"#DejaVuSans-70\" x=\"63.183594\"/>\n      <use xlink:href=\"#DejaVuSans-6f\" x=\"126.660156\"/>\n      <use xlink:href=\"#DejaVuSans-63\" x=\"187.841797\"/>\n      <use xlink:href=\"#DejaVuSans-68\" x=\"242.822266\"/>\n      <use xlink:href=\"#DejaVuSans-73\" x=\"306.201172\"/>\n     </g>\n    </g>\n   </g>\n   <g id=\"matplotlib.axis_8\">\n    <g id=\"ytick_25\">\n     <g id=\"line2d_53\">\n      <g>\n       <use xlink:href=\"#mf950be4dbd\" x=\"293.38125\" y=\"407.591594\" style=\"stroke: #000000; stroke-width: 0.8\"/>\n      </g>\n     </g>\n     <g id=\"text_57\">\n      <!-- 0.4 -->\n      <g transform=\"translate(270.478125 411.390813)scale(0.1 -0.1)\">\n       <use xlink:href=\"#DejaVuSans-30\"/>\n       <use xlink:href=\"#DejaVuSans-2e\" x=\"63.623047\"/>\n       <use xlink:href=\"#DejaVuSans-34\" x=\"95.410156\"/>\n      </g>\n     </g>\n    </g>\n    <g id=\"ytick_26\">\n     <g id=\"line2d_54\">\n      <g>\n       <use xlink:href=\"#mf950be4dbd\" x=\"293.38125\" y=\"383.661565\" style=\"stroke: #000000; stroke-width: 0.8\"/>\n      </g>\n     </g>\n     <g id=\"text_58\">\n      <!-- 0.5 -->\n      <g transform=\"translate(270.478125 387.460784)scale(0.1 -0.1)\">\n       <use xlink:href=\"#DejaVuSans-30\"/>\n       <use xlink:href=\"#DejaVuSans-2e\" x=\"63.623047\"/>\n       <use xlink:href=\"#DejaVuSans-35\" x=\"95.410156\"/>\n      </g>\n     </g>\n    </g>\n    <g id=\"ytick_27\">\n     <g id=\"line2d_55\">\n      <g>\n       <use xlink:href=\"#mf950be4dbd\" x=\"293.38125\" y=\"359.731536\" style=\"stroke: #000000; stroke-width: 0.8\"/>\n      </g>\n     </g>\n     <g id=\"text_59\">\n      <!-- 0.6 -->\n      <g transform=\"translate(270.478125 363.530755)scale(0.1 -0.1)\">\n       <use xlink:href=\"#DejaVuSans-30\"/>\n       <use xlink:href=\"#DejaVuSans-2e\" x=\"63.623047\"/>\n       <use xlink:href=\"#DejaVuSans-36\" x=\"95.410156\"/>\n      </g>\n     </g>\n    </g>\n    <g id=\"ytick_28\">\n     <g id=\"line2d_56\">\n      <g>\n       <use xlink:href=\"#mf950be4dbd\" x=\"293.38125\" y=\"335.801507\" style=\"stroke: #000000; stroke-width: 0.8\"/>\n      </g>\n     </g>\n     <g id=\"text_60\">\n      <!-- 0.7 -->\n      <g transform=\"translate(270.478125 339.600726)scale(0.1 -0.1)\">\n       <use xlink:href=\"#DejaVuSans-30\"/>\n       <use xlink:href=\"#DejaVuSans-2e\" x=\"63.623047\"/>\n       <use xlink:href=\"#DejaVuSans-37\" x=\"95.410156\"/>\n      </g>\n     </g>\n    </g>\n    <g id=\"ytick_29\">\n     <g id=\"line2d_57\">\n      <g>\n       <use xlink:href=\"#mf950be4dbd\" x=\"293.38125\" y=\"311.871478\" style=\"stroke: #000000; stroke-width: 0.8\"/>\n      </g>\n     </g>\n     <g id=\"text_61\">\n      <!-- 0.8 -->\n      <g transform=\"translate(270.478125 315.670697)scale(0.1 -0.1)\">\n       <use xlink:href=\"#DejaVuSans-30\"/>\n       <use xlink:href=\"#DejaVuSans-2e\" x=\"63.623047\"/>\n       <use xlink:href=\"#DejaVuSans-38\" x=\"95.410156\"/>\n      </g>\n     </g>\n    </g>\n    <g id=\"ytick_30\">\n     <g id=\"line2d_58\">\n      <g>\n       <use xlink:href=\"#mf950be4dbd\" x=\"293.38125\" y=\"287.941449\" style=\"stroke: #000000; stroke-width: 0.8\"/>\n      </g>\n     </g>\n     <g id=\"text_62\">\n      <!-- 0.9 -->\n      <g transform=\"translate(270.478125 291.740667)scale(0.1 -0.1)\">\n       <use xlink:href=\"#DejaVuSans-30\"/>\n       <use xlink:href=\"#DejaVuSans-2e\" x=\"63.623047\"/>\n       <use xlink:href=\"#DejaVuSans-39\" x=\"95.410156\"/>\n      </g>\n     </g>\n    </g>\n    <g id=\"ytick_31\">\n     <g id=\"line2d_59\">\n      <g>\n       <use xlink:href=\"#mf950be4dbd\" x=\"293.38125\" y=\"264.011419\" style=\"stroke: #000000; stroke-width: 0.8\"/>\n      </g>\n     </g>\n     <g id=\"text_63\">\n      <!-- 1.0 -->\n      <g transform=\"translate(270.478125 267.810638)scale(0.1 -0.1)\">\n       <use xlink:href=\"#DejaVuSans-31\"/>\n       <use xlink:href=\"#DejaVuSans-2e\" x=\"63.623047\"/>\n       <use xlink:href=\"#DejaVuSans-30\" x=\"95.410156\"/>\n      </g>\n     </g>\n    </g>\n    <g id=\"ytick_32\">\n     <g id=\"line2d_60\">\n      <g>\n       <use xlink:href=\"#mf950be4dbd\" x=\"293.38125\" y=\"240.08139\" style=\"stroke: #000000; stroke-width: 0.8\"/>\n      </g>\n     </g>\n     <g id=\"text_64\">\n      <!-- 1.1 -->\n      <g transform=\"translate(270.478125 243.880609)scale(0.1 -0.1)\">\n       <use xlink:href=\"#DejaVuSans-31\"/>\n       <use xlink:href=\"#DejaVuSans-2e\" x=\"63.623047\"/>\n       <use xlink:href=\"#DejaVuSans-31\" x=\"95.410156\"/>\n      </g>\n     </g>\n    </g>\n    <g id=\"text_65\">\n     <!-- Accuracy (%) -->\n     <g transform=\"translate(264.398438 356.906024)rotate(-90)scale(0.1 -0.1)\">\n      <use xlink:href=\"#DejaVuSans-41\"/>\n      <use xlink:href=\"#DejaVuSans-63\" x=\"66.658203\"/>\n      <use xlink:href=\"#DejaVuSans-63\" x=\"121.638672\"/>\n      <use xlink:href=\"#DejaVuSans-75\" x=\"176.619141\"/>\n      <use xlink:href=\"#DejaVuSans-72\" x=\"239.998047\"/>\n      <use xlink:href=\"#DejaVuSans-61\" x=\"281.111328\"/>\n      <use xlink:href=\"#DejaVuSans-63\" x=\"342.390625\"/>\n      <use xlink:href=\"#DejaVuSans-79\" x=\"397.371094\"/>\n      <use xlink:href=\"#DejaVuSans-20\" x=\"456.550781\"/>\n      <use xlink:href=\"#DejaVuSans-28\" x=\"488.337891\"/>\n      <use xlink:href=\"#DejaVuSans-25\" x=\"527.351562\"/>\n      <use xlink:href=\"#DejaVuSans-29\" x=\"622.371094\"/>\n     </g>\n    </g>\n   </g>\n   <g id=\"line2d_61\">\n    <path d=\"M 302.108523 385.602125 \nL 308.127332 384.193226 \nL 314.14614 385.921121 \nL 320.164949 385.283129 \nL 326.183758 385.123631 \nL 332.202567 383.448901 \nL 338.221375 383.608399 \nL 344.240184 382.99699 \nL 350.258993 382.491913 \nL 356.277802 384.193226 \nL 362.296611 383.555233 \nL 368.315419 382.943824 \nL 374.334228 384.007144 \nL 380.353037 382.677994 \nL 386.371846 384.272975 \nL 392.390654 384.007144 \nL 398.409463 382.438747 \nL 404.428272 382.438747 \nL 410.447081 384.193226 \nL 416.465889 382.545079 \nL 422.484698 383.79448 \nL 428.503507 383.79448 \nL 434.522316 381.85392 \nL 440.541125 386.240118 \nL 446.559933 383.634982 \nL 452.578742 382.385581 \nL 458.597551 380.870349 \nL 464.61636 384.618554 \nL 470.635168 381.667839 \nL 476.653977 380.764017 \n\" clip-path=\"url(#peb1d96a492)\" style=\"fill: none; stroke-dasharray: 5.55,2.4; stroke-dashoffset: 0; stroke: #1f77b4; stroke-width: 1.5\"/>\n   </g>\n   <g id=\"line2d_62\">\n    <path d=\"M 302.108523 384.758054 \nL 308.127332 385.023869 \nL 314.14614 385.023869 \nL 320.164949 385.023869 \nL 326.183758 382.498623 \nL 332.202567 385.023869 \nL 338.221375 385.223231 \nL 344.240184 384.890961 \nL 350.258993 383.362523 \nL 356.277802 384.957415 \nL 362.296611 384.558692 \nL 368.315419 382.432169 \nL 374.334228 384.758054 \nL 380.353037 382.897346 \nL 386.371846 385.090323 \nL 392.390654 384.292877 \nL 398.409463 380.970185 \nL 404.428272 384.890961 \nL 410.447081 381.568269 \nL 416.465889 384.957415 \nL 422.484698 384.824507 \nL 428.503507 384.625146 \nL 434.522316 383.495431 \nL 440.541125 385.090323 \nL 446.559933 384.492238 \nL 452.578742 382.897346 \nL 458.597551 384.957415 \nL 464.61636 384.824507 \nL 470.635168 384.625146 \nL 476.653977 384.292877 \n\" clip-path=\"url(#peb1d96a492)\" style=\"fill: none; stroke: #ff7f0e; stroke-width: 1.5; stroke-linecap: square\"/>\n   </g>\n   <g id=\"patch_21\">\n    <path d=\"M 293.38125 407.591594 \nL 293.38125 240.08139 \n\" style=\"fill: none; stroke: #000000; stroke-width: 0.8; stroke-linejoin: miter; stroke-linecap: square\"/>\n   </g>\n   <g id=\"patch_22\">\n    <path d=\"M 485.38125 407.591594 \nL 485.38125 240.08139 \n\" style=\"fill: none; stroke: #000000; stroke-width: 0.8; stroke-linejoin: miter; stroke-linecap: square\"/>\n   </g>\n   <g id=\"patch_23\">\n    <path d=\"M 293.38125 407.591594 \nL 485.38125 407.591594 \n\" style=\"fill: none; stroke: #000000; stroke-width: 0.8; stroke-linejoin: miter; stroke-linecap: square\"/>\n   </g>\n   <g id=\"patch_24\">\n    <path d=\"M 293.38125 240.08139 \nL 485.38125 240.08139 \n\" style=\"fill: none; stroke: #000000; stroke-width: 0.8; stroke-linejoin: miter; stroke-linecap: square\"/>\n   </g>\n   <g id=\"text_66\">\n    <!-- GAT flux+ -->\n    <g transform=\"translate(293.38125 234.08139)scale(0.12 -0.12)\">\n     <use xlink:href=\"#DejaVuSans-Bold-47\"/>\n     <use xlink:href=\"#DejaVuSans-Bold-41\" x=\"82.080078\"/>\n     <use xlink:href=\"#DejaVuSans-Bold-54\" x=\"151.722656\"/>\n     <use xlink:href=\"#DejaVuSans-Bold-20\" x=\"219.935547\"/>\n     <use xlink:href=\"#DejaVuSans-Bold-66\" x=\"254.75\"/>\n     <use xlink:href=\"#DejaVuSans-Bold-6c\" x=\"298.255859\"/>\n     <use xlink:href=\"#DejaVuSans-Bold-75\" x=\"332.533203\"/>\n     <use xlink:href=\"#DejaVuSans-Bold-78\" x=\"403.724609\"/>\n     <use xlink:href=\"#DejaVuSans-Bold-2b\" x=\"468.226562\"/>\n    </g>\n   </g>\n   <g id=\"legend_4\">\n    <g id=\"patch_25\">\n     <path d=\"M 367.854844 402.091594 \nL 477.68125 402.091594 \nQ 479.88125 402.091594 479.88125 399.891594 \nL 479.88125 368.699719 \nQ 479.88125 366.499719 477.68125 366.499719 \nL 367.854844 366.499719 \nQ 365.654844 366.499719 365.654844 368.699719 \nL 365.654844 399.891594 \nQ 365.654844 402.091594 367.854844 402.091594 \nz\n\" style=\"fill: #ffffff; opacity: 0.8; stroke: #cccccc; stroke-linejoin: miter\"/>\n    </g>\n    <g id=\"line2d_63\">\n     <path d=\"M 370.054844 375.408001 \nL 381.054844 375.408001 \nL 392.054844 375.408001 \n\" style=\"fill: none; stroke-dasharray: 5.55,2.4; stroke-dashoffset: 0; stroke: #1f77b4; stroke-width: 1.5\"/>\n    </g>\n    <g id=\"text_67\">\n     <!-- Train set -->\n     <g transform=\"translate(400.854844 379.258001)scale(0.11 -0.11)\">\n      <use xlink:href=\"#DejaVuSans-54\"/>\n      <use xlink:href=\"#DejaVuSans-72\" x=\"46.333984\"/>\n      <use xlink:href=\"#DejaVuSans-61\" x=\"87.447266\"/>\n      <use xlink:href=\"#DejaVuSans-69\" x=\"148.726562\"/>\n      <use xlink:href=\"#DejaVuSans-6e\" x=\"176.509766\"/>\n      <use xlink:href=\"#DejaVuSans-20\" x=\"239.888672\"/>\n      <use xlink:href=\"#DejaVuSans-73\" x=\"271.675781\"/>\n      <use xlink:href=\"#DejaVuSans-65\" x=\"323.775391\"/>\n      <use xlink:href=\"#DejaVuSans-74\" x=\"385.298828\"/>\n     </g>\n    </g>\n    <g id=\"line2d_64\">\n     <path d=\"M 370.054844 391.553938 \nL 381.054844 391.553938 \nL 392.054844 391.553938 \n\" style=\"fill: none; stroke: #ff7f0e; stroke-width: 1.5; stroke-linecap: square\"/>\n    </g>\n    <g id=\"text_68\">\n     <!-- Validation set -->\n     <g transform=\"translate(400.854844 395.403938)scale(0.11 -0.11)\">\n      <use xlink:href=\"#DejaVuSans-56\"/>\n      <use xlink:href=\"#DejaVuSans-61\" x=\"60.658203\"/>\n      <use xlink:href=\"#DejaVuSans-6c\" x=\"121.9375\"/>\n      <use xlink:href=\"#DejaVuSans-69\" x=\"149.720703\"/>\n      <use xlink:href=\"#DejaVuSans-64\" x=\"177.503906\"/>\n      <use xlink:href=\"#DejaVuSans-61\" x=\"240.980469\"/>\n      <use xlink:href=\"#DejaVuSans-74\" x=\"302.259766\"/>\n      <use xlink:href=\"#DejaVuSans-69\" x=\"341.46875\"/>\n      <use xlink:href=\"#DejaVuSans-6f\" x=\"369.251953\"/>\n      <use xlink:href=\"#DejaVuSans-6e\" x=\"430.433594\"/>\n      <use xlink:href=\"#DejaVuSans-20\" x=\"493.8125\"/>\n      <use xlink:href=\"#DejaVuSans-73\" x=\"525.599609\"/>\n      <use xlink:href=\"#DejaVuSans-65\" x=\"577.699219\"/>\n      <use xlink:href=\"#DejaVuSans-74\" x=\"639.222656\"/>\n     </g>\n    </g>\n   </g>\n  </g>\n  <g id=\"axes_5\">\n   <g id=\"patch_26\">\n    <path d=\"M 542.98125 189.828329 \nL 734.98125 189.828329 \nL 734.98125 22.318125 \nL 542.98125 22.318125 \nz\n\" style=\"fill: #ffffff\"/>\n   </g>\n   <g id=\"matplotlib.axis_9\">\n    <g id=\"xtick_17\">\n     <g id=\"line2d_65\">\n      <g>\n       <use xlink:href=\"#m449907e01c\" x=\"551.708523\" y=\"189.828329\" style=\"stroke: #000000; stroke-width: 0.8\"/>\n      </g>\n     </g>\n     <g id=\"text_69\">\n      <!-- 0 -->\n      <g transform=\"translate(548.527273 204.426767)scale(0.1 -0.1)\">\n       <use xlink:href=\"#DejaVuSans-30\"/>\n      </g>\n     </g>\n    </g>\n    <g id=\"xtick_18\">\n     <g id=\"line2d_66\">\n      <g>\n       <use xlink:href=\"#m449907e01c\" x=\"611.896611\" y=\"189.828329\" style=\"stroke: #000000; stroke-width: 0.8\"/>\n      </g>\n     </g>\n     <g id=\"text_70\">\n      <!-- 10 -->\n      <g transform=\"translate(605.534111 204.426767)scale(0.1 -0.1)\">\n       <use xlink:href=\"#DejaVuSans-31\"/>\n       <use xlink:href=\"#DejaVuSans-30\" x=\"63.623047\"/>\n      </g>\n     </g>\n    </g>\n    <g id=\"xtick_19\">\n     <g id=\"line2d_67\">\n      <g>\n       <use xlink:href=\"#m449907e01c\" x=\"672.084698\" y=\"189.828329\" style=\"stroke: #000000; stroke-width: 0.8\"/>\n      </g>\n     </g>\n     <g id=\"text_71\">\n      <!-- 20 -->\n      <g transform=\"translate(665.722198 204.426767)scale(0.1 -0.1)\">\n       <use xlink:href=\"#DejaVuSans-32\"/>\n       <use xlink:href=\"#DejaVuSans-30\" x=\"63.623047\"/>\n      </g>\n     </g>\n    </g>\n    <g id=\"xtick_20\">\n     <g id=\"line2d_68\">\n      <g>\n       <use xlink:href=\"#m449907e01c\" x=\"732.272786\" y=\"189.828329\" style=\"stroke: #000000; stroke-width: 0.8\"/>\n      </g>\n     </g>\n     <g id=\"text_72\">\n      <!-- 30 -->\n      <g transform=\"translate(725.910286 204.426767)scale(0.1 -0.1)\">\n       <use xlink:href=\"#DejaVuSans-33\"/>\n       <use xlink:href=\"#DejaVuSans-30\" x=\"63.623047\"/>\n      </g>\n     </g>\n    </g>\n    <g id=\"text_73\">\n     <!-- Epochs -->\n     <g transform=\"translate(621.065625 218.104892)scale(0.1 -0.1)\">\n      <use xlink:href=\"#DejaVuSans-45\"/>\n      <use xlink:href=\"#DejaVuSans-70\" x=\"63.183594\"/>\n      <use xlink:href=\"#DejaVuSans-6f\" x=\"126.660156\"/>\n      <use xlink:href=\"#DejaVuSans-63\" x=\"187.841797\"/>\n      <use xlink:href=\"#DejaVuSans-68\" x=\"242.822266\"/>\n      <use xlink:href=\"#DejaVuSans-73\" x=\"306.201172\"/>\n     </g>\n    </g>\n   </g>\n   <g id=\"matplotlib.axis_10\">\n    <g id=\"ytick_33\">\n     <g id=\"line2d_69\">\n      <g>\n       <use xlink:href=\"#mf950be4dbd\" x=\"542.98125\" y=\"189.828329\" style=\"stroke: #000000; stroke-width: 0.8\"/>\n      </g>\n     </g>\n     <g id=\"text_74\">\n      <!-- 0.4 -->\n      <g transform=\"translate(520.078125 193.627548)scale(0.1 -0.1)\">\n       <use xlink:href=\"#DejaVuSans-30\"/>\n       <use xlink:href=\"#DejaVuSans-2e\" x=\"63.623047\"/>\n       <use xlink:href=\"#DejaVuSans-34\" x=\"95.410156\"/>\n      </g>\n     </g>\n    </g>\n    <g id=\"ytick_34\">\n     <g id=\"line2d_70\">\n      <g>\n       <use xlink:href=\"#mf950be4dbd\" x=\"542.98125\" y=\"165.8983\" style=\"stroke: #000000; stroke-width: 0.8\"/>\n      </g>\n     </g>\n     <g id=\"text_75\">\n      <!-- 0.5 -->\n      <g transform=\"translate(520.078125 169.697519)scale(0.1 -0.1)\">\n       <use xlink:href=\"#DejaVuSans-30\"/>\n       <use xlink:href=\"#DejaVuSans-2e\" x=\"63.623047\"/>\n       <use xlink:href=\"#DejaVuSans-35\" x=\"95.410156\"/>\n      </g>\n     </g>\n    </g>\n    <g id=\"ytick_35\">\n     <g id=\"line2d_71\">\n      <g>\n       <use xlink:href=\"#mf950be4dbd\" x=\"542.98125\" y=\"141.968271\" style=\"stroke: #000000; stroke-width: 0.8\"/>\n      </g>\n     </g>\n     <g id=\"text_76\">\n      <!-- 0.6 -->\n      <g transform=\"translate(520.078125 145.76749)scale(0.1 -0.1)\">\n       <use xlink:href=\"#DejaVuSans-30\"/>\n       <use xlink:href=\"#DejaVuSans-2e\" x=\"63.623047\"/>\n       <use xlink:href=\"#DejaVuSans-36\" x=\"95.410156\"/>\n      </g>\n     </g>\n    </g>\n    <g id=\"ytick_36\">\n     <g id=\"line2d_72\">\n      <g>\n       <use xlink:href=\"#mf950be4dbd\" x=\"542.98125\" y=\"118.038242\" style=\"stroke: #000000; stroke-width: 0.8\"/>\n      </g>\n     </g>\n     <g id=\"text_77\">\n      <!-- 0.7 -->\n      <g transform=\"translate(520.078125 121.83746)scale(0.1 -0.1)\">\n       <use xlink:href=\"#DejaVuSans-30\"/>\n       <use xlink:href=\"#DejaVuSans-2e\" x=\"63.623047\"/>\n       <use xlink:href=\"#DejaVuSans-37\" x=\"95.410156\"/>\n      </g>\n     </g>\n    </g>\n    <g id=\"ytick_37\">\n     <g id=\"line2d_73\">\n      <g>\n       <use xlink:href=\"#mf950be4dbd\" x=\"542.98125\" y=\"94.108212\" style=\"stroke: #000000; stroke-width: 0.8\"/>\n      </g>\n     </g>\n     <g id=\"text_78\">\n      <!-- 0.8 -->\n      <g transform=\"translate(520.078125 97.907431)scale(0.1 -0.1)\">\n       <use xlink:href=\"#DejaVuSans-30\"/>\n       <use xlink:href=\"#DejaVuSans-2e\" x=\"63.623047\"/>\n       <use xlink:href=\"#DejaVuSans-38\" x=\"95.410156\"/>\n      </g>\n     </g>\n    </g>\n    <g id=\"ytick_38\">\n     <g id=\"line2d_74\">\n      <g>\n       <use xlink:href=\"#mf950be4dbd\" x=\"542.98125\" y=\"70.178183\" style=\"stroke: #000000; stroke-width: 0.8\"/>\n      </g>\n     </g>\n     <g id=\"text_79\">\n      <!-- 0.9 -->\n      <g transform=\"translate(520.078125 73.977402)scale(0.1 -0.1)\">\n       <use xlink:href=\"#DejaVuSans-30\"/>\n       <use xlink:href=\"#DejaVuSans-2e\" x=\"63.623047\"/>\n       <use xlink:href=\"#DejaVuSans-39\" x=\"95.410156\"/>\n      </g>\n     </g>\n    </g>\n    <g id=\"ytick_39\">\n     <g id=\"line2d_75\">\n      <g>\n       <use xlink:href=\"#mf950be4dbd\" x=\"542.98125\" y=\"46.248154\" style=\"stroke: #000000; stroke-width: 0.8\"/>\n      </g>\n     </g>\n     <g id=\"text_80\">\n      <!-- 1.0 -->\n      <g transform=\"translate(520.078125 50.047373)scale(0.1 -0.1)\">\n       <use xlink:href=\"#DejaVuSans-31\"/>\n       <use xlink:href=\"#DejaVuSans-2e\" x=\"63.623047\"/>\n       <use xlink:href=\"#DejaVuSans-30\" x=\"95.410156\"/>\n      </g>\n     </g>\n    </g>\n    <g id=\"ytick_40\">\n     <g id=\"line2d_76\">\n      <g>\n       <use xlink:href=\"#mf950be4dbd\" x=\"542.98125\" y=\"22.318125\" style=\"stroke: #000000; stroke-width: 0.8\"/>\n      </g>\n     </g>\n     <g id=\"text_81\">\n      <!-- 1.1 -->\n      <g transform=\"translate(520.078125 26.117344)scale(0.1 -0.1)\">\n       <use xlink:href=\"#DejaVuSans-31\"/>\n       <use xlink:href=\"#DejaVuSans-2e\" x=\"63.623047\"/>\n       <use xlink:href=\"#DejaVuSans-31\" x=\"95.410156\"/>\n      </g>\n     </g>\n    </g>\n    <g id=\"text_82\">\n     <!-- Accuracy (%) -->\n     <g transform=\"translate(513.998438 139.142758)rotate(-90)scale(0.1 -0.1)\">\n      <use xlink:href=\"#DejaVuSans-41\"/>\n      <use xlink:href=\"#DejaVuSans-63\" x=\"66.658203\"/>\n      <use xlink:href=\"#DejaVuSans-63\" x=\"121.638672\"/>\n      <use xlink:href=\"#DejaVuSans-75\" x=\"176.619141\"/>\n      <use xlink:href=\"#DejaVuSans-72\" x=\"239.998047\"/>\n      <use xlink:href=\"#DejaVuSans-61\" x=\"281.111328\"/>\n      <use xlink:href=\"#DejaVuSans-63\" x=\"342.390625\"/>\n      <use xlink:href=\"#DejaVuSans-79\" x=\"397.371094\"/>\n      <use xlink:href=\"#DejaVuSans-20\" x=\"456.550781\"/>\n      <use xlink:href=\"#DejaVuSans-28\" x=\"488.337891\"/>\n      <use xlink:href=\"#DejaVuSans-25\" x=\"527.351562\"/>\n      <use xlink:href=\"#DejaVuSans-29\" x=\"622.371094\"/>\n     </g>\n    </g>\n   </g>\n   <g id=\"line2d_77\">\n    <path d=\"M 551.708523 119.24511 \nL 557.727332 86.441671 \nL 563.74614 82.507385 \nL 569.764949 81.869393 \nL 575.783758 78.75918 \nL 581.802567 78.679431 \nL 587.821375 79.397173 \nL 593.840184 77.137616 \nL 599.858993 76.55279 \nL 605.877802 76.499624 \nL 611.896611 76.605956 \nL 617.915419 75.436303 \nL 623.934228 74.691979 \nL 629.953037 74.319817 \nL 635.971846 73.867906 \nL 641.990654 74.372983 \nL 648.009463 74.957809 \nL 654.028272 72.645087 \nL 660.047081 73.229913 \nL 666.065889 73.761574 \nL 672.084698 71.900763 \nL 678.103507 71.26277 \nL 684.122316 71.342519 \nL 690.141125 71.688099 \nL 696.159933 70.571612 \nL 702.178742 70.837442 \nL 708.197551 70.146284 \nL 714.21636 70.438697 \nL 720.235168 68.950048 \nL 726.253977 69.880454 \n\" clip-path=\"url(#pedb8a444f1)\" style=\"fill: none; stroke-dasharray: 5.55,2.4; stroke-dashoffset: 0; stroke: #1f77b4; stroke-width: 1.5\"/>\n   </g>\n   <g id=\"line2d_78\">\n    <path d=\"M 551.708523 88.71216 \nL 557.727332 83.262945 \nL 563.74614 81.003514 \nL 569.764949 87.84826 \nL 575.783758 78.345361 \nL 581.802567 78.212453 \nL 587.821375 80.804153 \nL 593.840184 76.94983 \nL 599.858993 76.816922 \nL 605.877802 82.066776 \nL 611.896611 75.354938 \nL 617.915419 73.959407 \nL 623.934228 75.753661 \nL 629.953037 78.212453 \nL 635.971846 72.298061 \nL 641.990654 73.693592 \nL 648.009463 73.294869 \nL 654.028272 72.896146 \nL 660.047081 81.402238 \nL 666.065889 74.756853 \nL 672.084698 69.706361 \nL 678.103507 71.76643 \nL 684.122316 68.709553 \nL 690.141125 69.573453 \nL 696.159933 69.506999 \nL 702.178742 70.703169 \nL 708.197551 69.241184 \nL 714.21636 69.041823 \nL 720.235168 67.44693 \nL 726.253977 71.633522 \n\" clip-path=\"url(#pedb8a444f1)\" style=\"fill: none; stroke: #ff7f0e; stroke-width: 1.5; stroke-linecap: square\"/>\n   </g>\n   <g id=\"patch_27\">\n    <path d=\"M 542.98125 189.828329 \nL 542.98125 22.318125 \n\" style=\"fill: none; stroke: #000000; stroke-width: 0.8; stroke-linejoin: miter; stroke-linecap: square\"/>\n   </g>\n   <g id=\"patch_28\">\n    <path d=\"M 734.98125 189.828329 \nL 734.98125 22.318125 \n\" style=\"fill: none; stroke: #000000; stroke-width: 0.8; stroke-linejoin: miter; stroke-linecap: square\"/>\n   </g>\n   <g id=\"patch_29\">\n    <path d=\"M 542.98125 189.828329 \nL 734.98125 189.828329 \n\" style=\"fill: none; stroke: #000000; stroke-width: 0.8; stroke-linejoin: miter; stroke-linecap: square\"/>\n   </g>\n   <g id=\"patch_30\">\n    <path d=\"M 542.98125 22.318125 \nL 734.98125 22.318125 \n\" style=\"fill: none; stroke: #000000; stroke-width: 0.8; stroke-linejoin: miter; stroke-linecap: square\"/>\n   </g>\n   <g id=\"text_83\">\n    <!-- GIN flux- -->\n    <g transform=\"translate(542.98125 16.318125)scale(0.12 -0.12)\">\n     <defs>\n      <path id=\"DejaVuSans-Bold-49\" d=\"M 588 4666 \nL 1791 4666 \nL 1791 0 \nL 588 0 \nL 588 4666 \nz\n\" transform=\"scale(0.015625)\"/>\n     </defs>\n     <use xlink:href=\"#DejaVuSans-Bold-47\"/>\n     <use xlink:href=\"#DejaVuSans-Bold-49\" x=\"82.080078\"/>\n     <use xlink:href=\"#DejaVuSans-Bold-4e\" x=\"119.287109\"/>\n     <use xlink:href=\"#DejaVuSans-Bold-20\" x=\"202.978516\"/>\n     <use xlink:href=\"#DejaVuSans-Bold-66\" x=\"237.792969\"/>\n     <use xlink:href=\"#DejaVuSans-Bold-6c\" x=\"281.298828\"/>\n     <use xlink:href=\"#DejaVuSans-Bold-75\" x=\"315.576172\"/>\n     <use xlink:href=\"#DejaVuSans-Bold-78\" x=\"386.767578\"/>\n     <use xlink:href=\"#DejaVuSans-Bold-2d\" x=\"451.269531\"/>\n    </g>\n   </g>\n   <g id=\"legend_5\">\n    <g id=\"patch_31\">\n     <path d=\"M 617.454844 184.328329 \nL 727.28125 184.328329 \nQ 729.48125 184.328329 729.48125 182.128329 \nL 729.48125 150.936454 \nQ 729.48125 148.736454 727.28125 148.736454 \nL 617.454844 148.736454 \nQ 615.254844 148.736454 615.254844 150.936454 \nL 615.254844 182.128329 \nQ 615.254844 184.328329 617.454844 184.328329 \nz\n\" style=\"fill: #ffffff; opacity: 0.8; stroke: #cccccc; stroke-linejoin: miter\"/>\n    </g>\n    <g id=\"line2d_79\">\n     <path d=\"M 619.654844 157.644735 \nL 630.654844 157.644735 \nL 641.654844 157.644735 \n\" style=\"fill: none; stroke-dasharray: 5.55,2.4; stroke-dashoffset: 0; stroke: #1f77b4; stroke-width: 1.5\"/>\n    </g>\n    <g id=\"text_84\">\n     <!-- Train set -->\n     <g transform=\"translate(650.454844 161.494735)scale(0.11 -0.11)\">\n      <use xlink:href=\"#DejaVuSans-54\"/>\n      <use xlink:href=\"#DejaVuSans-72\" x=\"46.333984\"/>\n      <use xlink:href=\"#DejaVuSans-61\" x=\"87.447266\"/>\n      <use xlink:href=\"#DejaVuSans-69\" x=\"148.726562\"/>\n      <use xlink:href=\"#DejaVuSans-6e\" x=\"176.509766\"/>\n      <use xlink:href=\"#DejaVuSans-20\" x=\"239.888672\"/>\n      <use xlink:href=\"#DejaVuSans-73\" x=\"271.675781\"/>\n      <use xlink:href=\"#DejaVuSans-65\" x=\"323.775391\"/>\n      <use xlink:href=\"#DejaVuSans-74\" x=\"385.298828\"/>\n     </g>\n    </g>\n    <g id=\"line2d_80\">\n     <path d=\"M 619.654844 173.790673 \nL 630.654844 173.790673 \nL 641.654844 173.790673 \n\" style=\"fill: none; stroke: #ff7f0e; stroke-width: 1.5; stroke-linecap: square\"/>\n    </g>\n    <g id=\"text_85\">\n     <!-- Validation set -->\n     <g transform=\"translate(650.454844 177.640673)scale(0.11 -0.11)\">\n      <use xlink:href=\"#DejaVuSans-56\"/>\n      <use xlink:href=\"#DejaVuSans-61\" x=\"60.658203\"/>\n      <use xlink:href=\"#DejaVuSans-6c\" x=\"121.9375\"/>\n      <use xlink:href=\"#DejaVuSans-69\" x=\"149.720703\"/>\n      <use xlink:href=\"#DejaVuSans-64\" x=\"177.503906\"/>\n      <use xlink:href=\"#DejaVuSans-61\" x=\"240.980469\"/>\n      <use xlink:href=\"#DejaVuSans-74\" x=\"302.259766\"/>\n      <use xlink:href=\"#DejaVuSans-69\" x=\"341.46875\"/>\n      <use xlink:href=\"#DejaVuSans-6f\" x=\"369.251953\"/>\n      <use xlink:href=\"#DejaVuSans-6e\" x=\"430.433594\"/>\n      <use xlink:href=\"#DejaVuSans-20\" x=\"493.8125\"/>\n      <use xlink:href=\"#DejaVuSans-73\" x=\"525.599609\"/>\n      <use xlink:href=\"#DejaVuSans-65\" x=\"577.699219\"/>\n      <use xlink:href=\"#DejaVuSans-74\" x=\"639.222656\"/>\n     </g>\n    </g>\n   </g>\n  </g>\n  <g id=\"axes_6\">\n   <g id=\"patch_32\">\n    <path d=\"M 542.98125 407.591594 \nL 734.98125 407.591594 \nL 734.98125 240.08139 \nL 542.98125 240.08139 \nz\n\" style=\"fill: #ffffff\"/>\n   </g>\n   <g id=\"matplotlib.axis_11\">\n    <g id=\"xtick_21\">\n     <g id=\"line2d_81\">\n      <g>\n       <use xlink:href=\"#m449907e01c\" x=\"551.708523\" y=\"407.591594\" style=\"stroke: #000000; stroke-width: 0.8\"/>\n      </g>\n     </g>\n     <g id=\"text_86\">\n      <!-- 0 -->\n      <g transform=\"translate(548.527273 422.190032)scale(0.1 -0.1)\">\n       <use xlink:href=\"#DejaVuSans-30\"/>\n      </g>\n     </g>\n    </g>\n    <g id=\"xtick_22\">\n     <g id=\"line2d_82\">\n      <g>\n       <use xlink:href=\"#m449907e01c\" x=\"611.896611\" y=\"407.591594\" style=\"stroke: #000000; stroke-width: 0.8\"/>\n      </g>\n     </g>\n     <g id=\"text_87\">\n      <!-- 10 -->\n      <g transform=\"translate(605.534111 422.190032)scale(0.1 -0.1)\">\n       <use xlink:href=\"#DejaVuSans-31\"/>\n       <use xlink:href=\"#DejaVuSans-30\" x=\"63.623047\"/>\n      </g>\n     </g>\n    </g>\n    <g id=\"xtick_23\">\n     <g id=\"line2d_83\">\n      <g>\n       <use xlink:href=\"#m449907e01c\" x=\"672.084698\" y=\"407.591594\" style=\"stroke: #000000; stroke-width: 0.8\"/>\n      </g>\n     </g>\n     <g id=\"text_88\">\n      <!-- 20 -->\n      <g transform=\"translate(665.722198 422.190032)scale(0.1 -0.1)\">\n       <use xlink:href=\"#DejaVuSans-32\"/>\n       <use xlink:href=\"#DejaVuSans-30\" x=\"63.623047\"/>\n      </g>\n     </g>\n    </g>\n    <g id=\"xtick_24\">\n     <g id=\"line2d_84\">\n      <g>\n       <use xlink:href=\"#m449907e01c\" x=\"732.272786\" y=\"407.591594\" style=\"stroke: #000000; stroke-width: 0.8\"/>\n      </g>\n     </g>\n     <g id=\"text_89\">\n      <!-- 30 -->\n      <g transform=\"translate(725.910286 422.190032)scale(0.1 -0.1)\">\n       <use xlink:href=\"#DejaVuSans-33\"/>\n       <use xlink:href=\"#DejaVuSans-30\" x=\"63.623047\"/>\n      </g>\n     </g>\n    </g>\n    <g id=\"text_90\">\n     <!-- Epochs -->\n     <g transform=\"translate(621.065625 435.868157)scale(0.1 -0.1)\">\n      <use xlink:href=\"#DejaVuSans-45\"/>\n      <use xlink:href=\"#DejaVuSans-70\" x=\"63.183594\"/>\n      <use xlink:href=\"#DejaVuSans-6f\" x=\"126.660156\"/>\n      <use xlink:href=\"#DejaVuSans-63\" x=\"187.841797\"/>\n      <use xlink:href=\"#DejaVuSans-68\" x=\"242.822266\"/>\n      <use xlink:href=\"#DejaVuSans-73\" x=\"306.201172\"/>\n     </g>\n    </g>\n   </g>\n   <g id=\"matplotlib.axis_12\">\n    <g id=\"ytick_41\">\n     <g id=\"line2d_85\">\n      <g>\n       <use xlink:href=\"#mf950be4dbd\" x=\"542.98125\" y=\"407.591594\" style=\"stroke: #000000; stroke-width: 0.8\"/>\n      </g>\n     </g>\n     <g id=\"text_91\">\n      <!-- 0.4 -->\n      <g transform=\"translate(520.078125 411.390813)scale(0.1 -0.1)\">\n       <use xlink:href=\"#DejaVuSans-30\"/>\n       <use xlink:href=\"#DejaVuSans-2e\" x=\"63.623047\"/>\n       <use xlink:href=\"#DejaVuSans-34\" x=\"95.410156\"/>\n      </g>\n     </g>\n    </g>\n    <g id=\"ytick_42\">\n     <g id=\"line2d_86\">\n      <g>\n       <use xlink:href=\"#mf950be4dbd\" x=\"542.98125\" y=\"383.661565\" style=\"stroke: #000000; stroke-width: 0.8\"/>\n      </g>\n     </g>\n     <g id=\"text_92\">\n      <!-- 0.5 -->\n      <g transform=\"translate(520.078125 387.460784)scale(0.1 -0.1)\">\n       <use xlink:href=\"#DejaVuSans-30\"/>\n       <use xlink:href=\"#DejaVuSans-2e\" x=\"63.623047\"/>\n       <use xlink:href=\"#DejaVuSans-35\" x=\"95.410156\"/>\n      </g>\n     </g>\n    </g>\n    <g id=\"ytick_43\">\n     <g id=\"line2d_87\">\n      <g>\n       <use xlink:href=\"#mf950be4dbd\" x=\"542.98125\" y=\"359.731536\" style=\"stroke: #000000; stroke-width: 0.8\"/>\n      </g>\n     </g>\n     <g id=\"text_93\">\n      <!-- 0.6 -->\n      <g transform=\"translate(520.078125 363.530755)scale(0.1 -0.1)\">\n       <use xlink:href=\"#DejaVuSans-30\"/>\n       <use xlink:href=\"#DejaVuSans-2e\" x=\"63.623047\"/>\n       <use xlink:href=\"#DejaVuSans-36\" x=\"95.410156\"/>\n      </g>\n     </g>\n    </g>\n    <g id=\"ytick_44\">\n     <g id=\"line2d_88\">\n      <g>\n       <use xlink:href=\"#mf950be4dbd\" x=\"542.98125\" y=\"335.801507\" style=\"stroke: #000000; stroke-width: 0.8\"/>\n      </g>\n     </g>\n     <g id=\"text_94\">\n      <!-- 0.7 -->\n      <g transform=\"translate(520.078125 339.600726)scale(0.1 -0.1)\">\n       <use xlink:href=\"#DejaVuSans-30\"/>\n       <use xlink:href=\"#DejaVuSans-2e\" x=\"63.623047\"/>\n       <use xlink:href=\"#DejaVuSans-37\" x=\"95.410156\"/>\n      </g>\n     </g>\n    </g>\n    <g id=\"ytick_45\">\n     <g id=\"line2d_89\">\n      <g>\n       <use xlink:href=\"#mf950be4dbd\" x=\"542.98125\" y=\"311.871478\" style=\"stroke: #000000; stroke-width: 0.8\"/>\n      </g>\n     </g>\n     <g id=\"text_95\">\n      <!-- 0.8 -->\n      <g transform=\"translate(520.078125 315.670697)scale(0.1 -0.1)\">\n       <use xlink:href=\"#DejaVuSans-30\"/>\n       <use xlink:href=\"#DejaVuSans-2e\" x=\"63.623047\"/>\n       <use xlink:href=\"#DejaVuSans-38\" x=\"95.410156\"/>\n      </g>\n     </g>\n    </g>\n    <g id=\"ytick_46\">\n     <g id=\"line2d_90\">\n      <g>\n       <use xlink:href=\"#mf950be4dbd\" x=\"542.98125\" y=\"287.941449\" style=\"stroke: #000000; stroke-width: 0.8\"/>\n      </g>\n     </g>\n     <g id=\"text_96\">\n      <!-- 0.9 -->\n      <g transform=\"translate(520.078125 291.740667)scale(0.1 -0.1)\">\n       <use xlink:href=\"#DejaVuSans-30\"/>\n       <use xlink:href=\"#DejaVuSans-2e\" x=\"63.623047\"/>\n       <use xlink:href=\"#DejaVuSans-39\" x=\"95.410156\"/>\n      </g>\n     </g>\n    </g>\n    <g id=\"ytick_47\">\n     <g id=\"line2d_91\">\n      <g>\n       <use xlink:href=\"#mf950be4dbd\" x=\"542.98125\" y=\"264.011419\" style=\"stroke: #000000; stroke-width: 0.8\"/>\n      </g>\n     </g>\n     <g id=\"text_97\">\n      <!-- 1.0 -->\n      <g transform=\"translate(520.078125 267.810638)scale(0.1 -0.1)\">\n       <use xlink:href=\"#DejaVuSans-31\"/>\n       <use xlink:href=\"#DejaVuSans-2e\" x=\"63.623047\"/>\n       <use xlink:href=\"#DejaVuSans-30\" x=\"95.410156\"/>\n      </g>\n     </g>\n    </g>\n    <g id=\"ytick_48\">\n     <g id=\"line2d_92\">\n      <g>\n       <use xlink:href=\"#mf950be4dbd\" x=\"542.98125\" y=\"240.08139\" style=\"stroke: #000000; stroke-width: 0.8\"/>\n      </g>\n     </g>\n     <g id=\"text_98\">\n      <!-- 1.1 -->\n      <g transform=\"translate(520.078125 243.880609)scale(0.1 -0.1)\">\n       <use xlink:href=\"#DejaVuSans-31\"/>\n       <use xlink:href=\"#DejaVuSans-2e\" x=\"63.623047\"/>\n       <use xlink:href=\"#DejaVuSans-31\" x=\"95.410156\"/>\n      </g>\n     </g>\n    </g>\n    <g id=\"text_99\">\n     <!-- Accuracy (%) -->\n     <g transform=\"translate(513.998438 356.906024)rotate(-90)scale(0.1 -0.1)\">\n      <use xlink:href=\"#DejaVuSans-41\"/>\n      <use xlink:href=\"#DejaVuSans-63\" x=\"66.658203\"/>\n      <use xlink:href=\"#DejaVuSans-63\" x=\"121.638672\"/>\n      <use xlink:href=\"#DejaVuSans-75\" x=\"176.619141\"/>\n      <use xlink:href=\"#DejaVuSans-72\" x=\"239.998047\"/>\n      <use xlink:href=\"#DejaVuSans-61\" x=\"281.111328\"/>\n      <use xlink:href=\"#DejaVuSans-63\" x=\"342.390625\"/>\n      <use xlink:href=\"#DejaVuSans-79\" x=\"397.371094\"/>\n      <use xlink:href=\"#DejaVuSans-20\" x=\"456.550781\"/>\n      <use xlink:href=\"#DejaVuSans-28\" x=\"488.337891\"/>\n      <use xlink:href=\"#DejaVuSans-25\" x=\"527.351562\"/>\n      <use xlink:href=\"#DejaVuSans-29\" x=\"622.371094\"/>\n     </g>\n    </g>\n   </g>\n   <g id=\"line2d_93\">\n    <path d=\"M 551.708523 359.816602 \nL 557.727332 308.777215 \nL 563.74614 300.749145 \nL 569.764949 299.73899 \nL 575.783758 298.33009 \nL 581.802567 298.649087 \nL 587.821375 296.549029 \nL 593.840184 295.485708 \nL 599.858993 296.655361 \nL 605.877802 297.187021 \nL 611.896611 294.847716 \nL 617.915419 294.395804 \nL 623.934228 295.512291 \nL 629.953037 295.086963 \nL 635.971846 292.986905 \nL 641.990654 293.465399 \nL 648.009463 292.295746 \nL 654.028272 293.970476 \nL 660.047081 291.684337 \nL 666.065889 290.461518 \nL 672.084698 290.700765 \nL 678.103507 290.328603 \nL 684.122316 290.062773 \nL 690.141125 290.807098 \nL 696.159933 289.743777 \nL 702.178742 289.876692 \nL 708.197551 288.441209 \nL 714.21636 289.345032 \nL 720.235168 288.574124 \nL 726.253977 288.414626 \n\" clip-path=\"url(#pa1dfa46f54)\" style=\"fill: none; stroke-dasharray: 5.55,2.4; stroke-dashoffset: 0; stroke: #1f77b4; stroke-width: 1.5\"/>\n   </g>\n   <g id=\"line2d_94\">\n    <path d=\"M 551.708523 314.981518 \nL 557.727332 306.276064 \nL 563.74614 298.700326 \nL 569.764949 301.956564 \nL 575.783758 294.646641 \nL 581.802567 294.580188 \nL 587.821375 294.380826 \nL 593.840184 294.779549 \nL 599.858993 292.985295 \nL 605.877802 294.580188 \nL 611.896611 294.048557 \nL 617.915419 293.384018 \nL 623.934228 291.589765 \nL 629.953037 291.722672 \nL 635.971846 290.592957 \nL 641.990654 290.194234 \nL 648.009463 292.586572 \nL 654.028272 290.393595 \nL 660.047081 288.466434 \nL 666.065889 291.257495 \nL 672.084698 289.994872 \nL 678.103507 292.387211 \nL 684.122316 290.393595 \nL 690.141125 289.330334 \nL 696.159933 287.53608 \nL 702.178742 290.99168 \nL 708.197551 287.137357 \nL 714.21636 287.53608 \nL 720.235168 289.130972 \nL 726.253977 288.001257 \n\" clip-path=\"url(#pa1dfa46f54)\" style=\"fill: none; stroke: #ff7f0e; stroke-width: 1.5; stroke-linecap: square\"/>\n   </g>\n   <g id=\"patch_33\">\n    <path d=\"M 542.98125 407.591594 \nL 542.98125 240.08139 \n\" style=\"fill: none; stroke: #000000; stroke-width: 0.8; stroke-linejoin: miter; stroke-linecap: square\"/>\n   </g>\n   <g id=\"patch_34\">\n    <path d=\"M 734.98125 407.591594 \nL 734.98125 240.08139 \n\" style=\"fill: none; stroke: #000000; stroke-width: 0.8; stroke-linejoin: miter; stroke-linecap: square\"/>\n   </g>\n   <g id=\"patch_35\">\n    <path d=\"M 542.98125 407.591594 \nL 734.98125 407.591594 \n\" style=\"fill: none; stroke: #000000; stroke-width: 0.8; stroke-linejoin: miter; stroke-linecap: square\"/>\n   </g>\n   <g id=\"patch_36\">\n    <path d=\"M 542.98125 240.08139 \nL 734.98125 240.08139 \n\" style=\"fill: none; stroke: #000000; stroke-width: 0.8; stroke-linejoin: miter; stroke-linecap: square\"/>\n   </g>\n   <g id=\"text_100\">\n    <!-- GIN flux+ -->\n    <g transform=\"translate(542.98125 234.08139)scale(0.12 -0.12)\">\n     <use xlink:href=\"#DejaVuSans-Bold-47\"/>\n     <use xlink:href=\"#DejaVuSans-Bold-49\" x=\"82.080078\"/>\n     <use xlink:href=\"#DejaVuSans-Bold-4e\" x=\"119.287109\"/>\n     <use xlink:href=\"#DejaVuSans-Bold-20\" x=\"202.978516\"/>\n     <use xlink:href=\"#DejaVuSans-Bold-66\" x=\"237.792969\"/>\n     <use xlink:href=\"#DejaVuSans-Bold-6c\" x=\"281.298828\"/>\n     <use xlink:href=\"#DejaVuSans-Bold-75\" x=\"315.576172\"/>\n     <use xlink:href=\"#DejaVuSans-Bold-78\" x=\"386.767578\"/>\n     <use xlink:href=\"#DejaVuSans-Bold-2b\" x=\"451.269531\"/>\n    </g>\n   </g>\n   <g id=\"legend_6\">\n    <g id=\"patch_37\">\n     <path d=\"M 617.454844 402.091594 \nL 727.28125 402.091594 \nQ 729.48125 402.091594 729.48125 399.891594 \nL 729.48125 368.699719 \nQ 729.48125 366.499719 727.28125 366.499719 \nL 617.454844 366.499719 \nQ 615.254844 366.499719 615.254844 368.699719 \nL 615.254844 399.891594 \nQ 615.254844 402.091594 617.454844 402.091594 \nz\n\" style=\"fill: #ffffff; opacity: 0.8; stroke: #cccccc; stroke-linejoin: miter\"/>\n    </g>\n    <g id=\"line2d_95\">\n     <path d=\"M 619.654844 375.408001 \nL 630.654844 375.408001 \nL 641.654844 375.408001 \n\" style=\"fill: none; stroke-dasharray: 5.55,2.4; stroke-dashoffset: 0; stroke: #1f77b4; stroke-width: 1.5\"/>\n    </g>\n    <g id=\"text_101\">\n     <!-- Train set -->\n     <g transform=\"translate(650.454844 379.258001)scale(0.11 -0.11)\">\n      <use xlink:href=\"#DejaVuSans-54\"/>\n      <use xlink:href=\"#DejaVuSans-72\" x=\"46.333984\"/>\n      <use xlink:href=\"#DejaVuSans-61\" x=\"87.447266\"/>\n      <use xlink:href=\"#DejaVuSans-69\" x=\"148.726562\"/>\n      <use xlink:href=\"#DejaVuSans-6e\" x=\"176.509766\"/>\n      <use xlink:href=\"#DejaVuSans-20\" x=\"239.888672\"/>\n      <use xlink:href=\"#DejaVuSans-73\" x=\"271.675781\"/>\n      <use xlink:href=\"#DejaVuSans-65\" x=\"323.775391\"/>\n      <use xlink:href=\"#DejaVuSans-74\" x=\"385.298828\"/>\n     </g>\n    </g>\n    <g id=\"line2d_96\">\n     <path d=\"M 619.654844 391.553938 \nL 630.654844 391.553938 \nL 641.654844 391.553938 \n\" style=\"fill: none; stroke: #ff7f0e; stroke-width: 1.5; stroke-linecap: square\"/>\n    </g>\n    <g id=\"text_102\">\n     <!-- Validation set -->\n     <g transform=\"translate(650.454844 395.403938)scale(0.11 -0.11)\">\n      <use xlink:href=\"#DejaVuSans-56\"/>\n      <use xlink:href=\"#DejaVuSans-61\" x=\"60.658203\"/>\n      <use xlink:href=\"#DejaVuSans-6c\" x=\"121.9375\"/>\n      <use xlink:href=\"#DejaVuSans-69\" x=\"149.720703\"/>\n      <use xlink:href=\"#DejaVuSans-64\" x=\"177.503906\"/>\n      <use xlink:href=\"#DejaVuSans-61\" x=\"240.980469\"/>\n      <use xlink:href=\"#DejaVuSans-74\" x=\"302.259766\"/>\n      <use xlink:href=\"#DejaVuSans-69\" x=\"341.46875\"/>\n      <use xlink:href=\"#DejaVuSans-6f\" x=\"369.251953\"/>\n      <use xlink:href=\"#DejaVuSans-6e\" x=\"430.433594\"/>\n      <use xlink:href=\"#DejaVuSans-20\" x=\"493.8125\"/>\n      <use xlink:href=\"#DejaVuSans-73\" x=\"525.599609\"/>\n      <use xlink:href=\"#DejaVuSans-65\" x=\"577.699219\"/>\n      <use xlink:href=\"#DejaVuSans-74\" x=\"639.222656\"/>\n     </g>\n    </g>\n   </g>\n  </g>\n  <g id=\"axes_7\">\n   <g id=\"patch_38\">\n    <path d=\"M 43.78125 625.35486 \nL 235.78125 625.35486 \nL 235.78125 457.844656 \nL 43.78125 457.844656 \nz\n\" style=\"fill: #ffffff\"/>\n   </g>\n   <g id=\"PolyCollection_1\">\n    <defs>\n     <path id=\"m4f83ebdf40\" d=\"M 52.508523 -262.933615 \nL 52.508523 -262.933615 \nL 54.253977 -277.427595 \nL 55.999432 -311.641112 \nL 57.744886 -341.68831 \nL 59.490341 -361.98424 \nL 61.235795 -374.741807 \nL 62.98125 -383.318605 \nL 64.726705 -389.156316 \nL 66.472159 -394.383504 \nL 68.217614 -399.201821 \nL 69.963068 -403.048182 \nL 71.708523 -406.229946 \nL 73.453977 -409.3818 \nL 75.199432 -412.353976 \nL 76.944886 -413.267251 \nL 78.690341 -413.289906 \nL 80.435795 -413.312562 \nL 82.18125 -413.335217 \nL 83.926705 -413.357873 \nL 85.672159 -413.380528 \nL 87.417614 -413.403184 \nL 89.163068 -413.425839 \nL 90.908523 -413.448494 \nL 92.653977 -413.47115 \nL 94.399432 -413.493805 \nL 96.144886 -413.516461 \nL 97.890341 -413.539116 \nL 99.635795 -413.561772 \nL 101.38125 -413.584427 \nL 103.126705 -413.607083 \nL 104.872159 -413.629738 \nL 106.617614 -413.652393 \nL 108.363068 -413.675049 \nL 110.108523 -413.697704 \nL 111.853977 -413.72036 \nL 113.599432 -413.743015 \nL 115.344886 -413.765671 \nL 117.090341 -413.788326 \nL 118.835795 -413.810982 \nL 120.58125 -413.833637 \nL 122.326705 -413.856292 \nL 124.072159 -413.878948 \nL 125.817614 -413.901603 \nL 127.563068 -413.924259 \nL 129.308523 -413.946914 \nL 131.053977 -413.96957 \nL 132.799432 -413.992225 \nL 134.544886 -414.014881 \nL 136.290341 -414.037536 \nL 138.035795 -414.060191 \nL 139.78125 -414.082847 \nL 141.526705 -414.105502 \nL 143.272159 -414.128158 \nL 145.017614 -414.150813 \nL 146.763068 -414.173469 \nL 148.508523 -414.196124 \nL 150.253977 -414.21878 \nL 151.999432 -414.241435 \nL 153.744886 -414.26409 \nL 155.490341 -414.286746 \nL 157.235795 -414.309401 \nL 158.98125 -414.332057 \nL 160.726705 -414.354712 \nL 162.472159 -414.377368 \nL 164.217614 -414.400023 \nL 165.963068 -414.422679 \nL 167.708523 -414.445334 \nL 169.453977 -414.467989 \nL 171.199432 -414.490645 \nL 172.944886 -414.5133 \nL 174.690341 -414.535956 \nL 176.435795 -414.558611 \nL 178.18125 -414.581267 \nL 179.926705 -414.603922 \nL 181.672159 -414.626578 \nL 183.417614 -414.649233 \nL 185.163068 -414.671889 \nL 186.908523 -414.694544 \nL 188.653977 -414.717199 \nL 190.399432 -414.739855 \nL 192.144886 -414.76251 \nL 193.890341 -414.785166 \nL 195.635795 -414.807821 \nL 197.38125 -414.830477 \nL 199.126705 -414.853132 \nL 200.872159 -414.875788 \nL 202.617614 -414.898443 \nL 204.363068 -414.921098 \nL 206.108523 -414.943754 \nL 207.853977 -414.966409 \nL 209.599432 -414.989065 \nL 211.344886 -415.01172 \nL 213.090341 -415.034376 \nL 214.835795 -415.057031 \nL 216.58125 -415.079687 \nL 218.326705 -415.102342 \nL 220.072159 -415.124997 \nL 221.817614 -415.147653 \nL 223.563068 -415.170308 \nL 225.308523 -415.192964 \nL 227.053977 -415.215619 \nL 227.053977 -415.215619 \nL 227.053977 -415.215619 \nL 225.308523 -415.215619 \nL 223.563068 -415.215619 \nL 221.817614 -415.215619 \nL 220.072159 -415.215619 \nL 218.326705 -415.215619 \nL 216.58125 -415.215619 \nL 214.835795 -415.215619 \nL 213.090341 -415.215619 \nL 211.344886 -415.215619 \nL 209.599432 -415.215619 \nL 207.853977 -415.215619 \nL 206.108523 -415.215619 \nL 204.363068 -415.215619 \nL 202.617614 -415.215619 \nL 200.872159 -415.215619 \nL 199.126705 -415.215619 \nL 197.38125 -415.215619 \nL 195.635795 -415.215619 \nL 193.890341 -415.215619 \nL 192.144886 -415.215619 \nL 190.399432 -415.215619 \nL 188.653977 -415.215619 \nL 186.908523 -415.215619 \nL 185.163068 -415.215619 \nL 183.417614 -415.215619 \nL 181.672159 -415.215619 \nL 179.926705 -415.215619 \nL 178.18125 -415.215619 \nL 176.435795 -415.215619 \nL 174.690341 -415.215619 \nL 172.944886 -415.215619 \nL 171.199432 -415.215619 \nL 169.453977 -415.215619 \nL 167.708523 -415.215619 \nL 165.963068 -415.215619 \nL 164.217614 -415.215619 \nL 162.472159 -415.215619 \nL 160.726705 -415.215619 \nL 158.98125 -415.215619 \nL 157.235795 -415.215619 \nL 155.490341 -415.215619 \nL 153.744886 -415.215619 \nL 151.999432 -415.215619 \nL 150.253977 -415.215619 \nL 148.508523 -415.215619 \nL 146.763068 -415.215619 \nL 145.017614 -415.215619 \nL 143.272159 -415.215619 \nL 141.526705 -415.215619 \nL 139.78125 -415.215619 \nL 138.035795 -415.215619 \nL 136.290341 -415.215619 \nL 134.544886 -415.215619 \nL 132.799432 -415.215619 \nL 131.053977 -415.215619 \nL 129.308523 -415.215619 \nL 127.563068 -415.215619 \nL 125.817614 -415.215619 \nL 124.072159 -415.215619 \nL 122.326705 -415.215619 \nL 120.58125 -415.215619 \nL 118.835795 -415.215619 \nL 117.090341 -415.215619 \nL 115.344886 -415.215619 \nL 113.599432 -415.215619 \nL 111.853977 -415.215619 \nL 110.108523 -415.215619 \nL 108.363068 -415.215619 \nL 106.617614 -415.215619 \nL 104.872159 -415.215619 \nL 103.126705 -415.215619 \nL 101.38125 -415.215619 \nL 99.635795 -415.215619 \nL 97.890341 -415.215619 \nL 96.144886 -415.215619 \nL 94.399432 -415.215619 \nL 92.653977 -415.215619 \nL 90.908523 -415.215619 \nL 89.163068 -415.215619 \nL 87.417614 -415.215619 \nL 85.672159 -415.215619 \nL 83.926705 -415.215619 \nL 82.18125 -415.215619 \nL 80.435795 -415.215619 \nL 78.690341 -415.215619 \nL 76.944886 -415.215619 \nL 75.199432 -415.215619 \nL 73.453977 -415.215619 \nL 71.708523 -415.215619 \nL 69.963068 -415.215619 \nL 68.217614 -415.215619 \nL 66.472159 -415.215619 \nL 64.726705 -415.215619 \nL 62.98125 -415.215619 \nL 61.235795 -415.215619 \nL 59.490341 -415.215619 \nL 57.744886 -415.215619 \nL 55.999432 -391.042321 \nL 54.253977 -358.337866 \nL 52.508523 -262.933615 \nz\n\" style=\"stroke: #0000ff; stroke-opacity: 0.2\"/>\n    </defs>\n    <g clip-path=\"url(#p58b6c0c128)\">\n     <use xlink:href=\"#m4f83ebdf40\" x=\"0\" y=\"880.674375\" style=\"fill: #0000ff; fill-opacity: 0.2; stroke: #0000ff; stroke-opacity: 0.2\"/>\n    </g>\n   </g>\n   <g id=\"matplotlib.axis_13\">\n    <g id=\"xtick_25\">\n     <g id=\"line2d_97\">\n      <g>\n       <use xlink:href=\"#m449907e01c\" x=\"52.508523\" y=\"625.35486\" style=\"stroke: #000000; stroke-width: 0.8\"/>\n      </g>\n     </g>\n     <g id=\"text_103\">\n      <!-- 0.0 -->\n      <g transform=\"translate(44.55696 639.953297)scale(0.1 -0.1)\">\n       <use xlink:href=\"#DejaVuSans-30\"/>\n       <use xlink:href=\"#DejaVuSans-2e\" x=\"63.623047\"/>\n       <use xlink:href=\"#DejaVuSans-30\" x=\"95.410156\"/>\n      </g>\n     </g>\n    </g>\n    <g id=\"xtick_26\">\n     <g id=\"line2d_98\">\n      <g>\n       <use xlink:href=\"#m449907e01c\" x=\"87.417614\" y=\"625.35486\" style=\"stroke: #000000; stroke-width: 0.8\"/>\n      </g>\n     </g>\n     <g id=\"text_104\">\n      <!-- 0.2 -->\n      <g transform=\"translate(79.466051 639.953297)scale(0.1 -0.1)\">\n       <use xlink:href=\"#DejaVuSans-30\"/>\n       <use xlink:href=\"#DejaVuSans-2e\" x=\"63.623047\"/>\n       <use xlink:href=\"#DejaVuSans-32\" x=\"95.410156\"/>\n      </g>\n     </g>\n    </g>\n    <g id=\"xtick_27\">\n     <g id=\"line2d_99\">\n      <g>\n       <use xlink:href=\"#m449907e01c\" x=\"122.326705\" y=\"625.35486\" style=\"stroke: #000000; stroke-width: 0.8\"/>\n      </g>\n     </g>\n     <g id=\"text_105\">\n      <!-- 0.4 -->\n      <g transform=\"translate(114.375142 639.953297)scale(0.1 -0.1)\">\n       <use xlink:href=\"#DejaVuSans-30\"/>\n       <use xlink:href=\"#DejaVuSans-2e\" x=\"63.623047\"/>\n       <use xlink:href=\"#DejaVuSans-34\" x=\"95.410156\"/>\n      </g>\n     </g>\n    </g>\n    <g id=\"xtick_28\">\n     <g id=\"line2d_100\">\n      <g>\n       <use xlink:href=\"#m449907e01c\" x=\"157.235795\" y=\"625.35486\" style=\"stroke: #000000; stroke-width: 0.8\"/>\n      </g>\n     </g>\n     <g id=\"text_106\">\n      <!-- 0.6 -->\n      <g transform=\"translate(149.284233 639.953297)scale(0.1 -0.1)\">\n       <use xlink:href=\"#DejaVuSans-30\"/>\n       <use xlink:href=\"#DejaVuSans-2e\" x=\"63.623047\"/>\n       <use xlink:href=\"#DejaVuSans-36\" x=\"95.410156\"/>\n      </g>\n     </g>\n    </g>\n    <g id=\"xtick_29\">\n     <g id=\"line2d_101\">\n      <g>\n       <use xlink:href=\"#m449907e01c\" x=\"192.144886\" y=\"625.35486\" style=\"stroke: #000000; stroke-width: 0.8\"/>\n      </g>\n     </g>\n     <g id=\"text_107\">\n      <!-- 0.8 -->\n      <g transform=\"translate(184.193324 639.953297)scale(0.1 -0.1)\">\n       <use xlink:href=\"#DejaVuSans-30\"/>\n       <use xlink:href=\"#DejaVuSans-2e\" x=\"63.623047\"/>\n       <use xlink:href=\"#DejaVuSans-38\" x=\"95.410156\"/>\n      </g>\n     </g>\n    </g>\n    <g id=\"xtick_30\">\n     <g id=\"line2d_102\">\n      <g>\n       <use xlink:href=\"#m449907e01c\" x=\"227.053977\" y=\"625.35486\" style=\"stroke: #000000; stroke-width: 0.8\"/>\n      </g>\n     </g>\n     <g id=\"text_108\">\n      <!-- 1.0 -->\n      <g transform=\"translate(219.102415 639.953297)scale(0.1 -0.1)\">\n       <use xlink:href=\"#DejaVuSans-31\"/>\n       <use xlink:href=\"#DejaVuSans-2e\" x=\"63.623047\"/>\n       <use xlink:href=\"#DejaVuSans-30\" x=\"95.410156\"/>\n      </g>\n     </g>\n    </g>\n    <g id=\"text_109\">\n     <!-- False Positive Rate -->\n     <g transform=\"translate(93.314844 653.631422)scale(0.1 -0.1)\">\n      <defs>\n       <path id=\"DejaVuSans-46\" d=\"M 628 4666 \nL 3309 4666 \nL 3309 4134 \nL 1259 4134 \nL 1259 2759 \nL 3109 2759 \nL 3109 2228 \nL 1259 2228 \nL 1259 0 \nL 628 0 \nL 628 4666 \nz\n\" transform=\"scale(0.015625)\"/>\n       <path id=\"DejaVuSans-50\" d=\"M 1259 4147 \nL 1259 2394 \nL 2053 2394 \nQ 2494 2394 2734 2622 \nQ 2975 2850 2975 3272 \nQ 2975 3691 2734 3919 \nQ 2494 4147 2053 4147 \nL 1259 4147 \nz\nM 628 4666 \nL 2053 4666 \nQ 2838 4666 3239 4311 \nQ 3641 3956 3641 3272 \nQ 3641 2581 3239 2228 \nQ 2838 1875 2053 1875 \nL 1259 1875 \nL 1259 0 \nL 628 0 \nL 628 4666 \nz\n\" transform=\"scale(0.015625)\"/>\n       <path id=\"DejaVuSans-76\" d=\"M 191 3500 \nL 800 3500 \nL 1894 563 \nL 2988 3500 \nL 3597 3500 \nL 2284 0 \nL 1503 0 \nL 191 3500 \nz\n\" transform=\"scale(0.015625)\"/>\n       <path id=\"DejaVuSans-52\" d=\"M 2841 2188 \nQ 3044 2119 3236 1894 \nQ 3428 1669 3622 1275 \nL 4263 0 \nL 3584 0 \nL 2988 1197 \nQ 2756 1666 2539 1819 \nQ 2322 1972 1947 1972 \nL 1259 1972 \nL 1259 0 \nL 628 0 \nL 628 4666 \nL 2053 4666 \nQ 2853 4666 3247 4331 \nQ 3641 3997 3641 3322 \nQ 3641 2881 3436 2590 \nQ 3231 2300 2841 2188 \nz\nM 1259 4147 \nL 1259 2491 \nL 2053 2491 \nQ 2509 2491 2742 2702 \nQ 2975 2913 2975 3322 \nQ 2975 3731 2742 3939 \nQ 2509 4147 2053 4147 \nL 1259 4147 \nz\n\" transform=\"scale(0.015625)\"/>\n      </defs>\n      <use xlink:href=\"#DejaVuSans-46\"/>\n      <use xlink:href=\"#DejaVuSans-61\" x=\"48.394531\"/>\n      <use xlink:href=\"#DejaVuSans-6c\" x=\"109.673828\"/>\n      <use xlink:href=\"#DejaVuSans-73\" x=\"137.457031\"/>\n      <use xlink:href=\"#DejaVuSans-65\" x=\"189.556641\"/>\n      <use xlink:href=\"#DejaVuSans-20\" x=\"251.080078\"/>\n      <use xlink:href=\"#DejaVuSans-50\" x=\"282.867188\"/>\n      <use xlink:href=\"#DejaVuSans-6f\" x=\"339.544922\"/>\n      <use xlink:href=\"#DejaVuSans-73\" x=\"400.726562\"/>\n      <use xlink:href=\"#DejaVuSans-69\" x=\"452.826172\"/>\n      <use xlink:href=\"#DejaVuSans-74\" x=\"480.609375\"/>\n      <use xlink:href=\"#DejaVuSans-69\" x=\"519.818359\"/>\n      <use xlink:href=\"#DejaVuSans-76\" x=\"547.601562\"/>\n      <use xlink:href=\"#DejaVuSans-65\" x=\"606.78125\"/>\n      <use xlink:href=\"#DejaVuSans-20\" x=\"668.304688\"/>\n      <use xlink:href=\"#DejaVuSans-52\" x=\"700.091797\"/>\n      <use xlink:href=\"#DejaVuSans-61\" x=\"767.324219\"/>\n      <use xlink:href=\"#DejaVuSans-74\" x=\"828.603516\"/>\n      <use xlink:href=\"#DejaVuSans-65\" x=\"867.8125\"/>\n     </g>\n    </g>\n   </g>\n   <g id=\"matplotlib.axis_14\">\n    <g id=\"ytick_49\">\n     <g id=\"line2d_103\">\n      <g>\n       <use xlink:href=\"#mf950be4dbd\" x=\"43.78125\" y=\"617.74076\" style=\"stroke: #000000; stroke-width: 0.8\"/>\n      </g>\n     </g>\n     <g id=\"text_110\">\n      <!-- 0.0 -->\n      <g transform=\"translate(20.878125 621.539978)scale(0.1 -0.1)\">\n       <use xlink:href=\"#DejaVuSans-30\"/>\n       <use xlink:href=\"#DejaVuSans-2e\" x=\"63.623047\"/>\n       <use xlink:href=\"#DejaVuSans-30\" x=\"95.410156\"/>\n      </g>\n     </g>\n    </g>\n    <g id=\"ytick_50\">\n     <g id=\"line2d_104\">\n      <g>\n       <use xlink:href=\"#mf950be4dbd\" x=\"43.78125\" y=\"587.284359\" style=\"stroke: #000000; stroke-width: 0.8\"/>\n      </g>\n     </g>\n     <g id=\"text_111\">\n      <!-- 0.2 -->\n      <g transform=\"translate(20.878125 591.083578)scale(0.1 -0.1)\">\n       <use xlink:href=\"#DejaVuSans-30\"/>\n       <use xlink:href=\"#DejaVuSans-2e\" x=\"63.623047\"/>\n       <use xlink:href=\"#DejaVuSans-32\" x=\"95.410156\"/>\n      </g>\n     </g>\n    </g>\n    <g id=\"ytick_51\">\n     <g id=\"line2d_105\">\n      <g>\n       <use xlink:href=\"#mf950be4dbd\" x=\"43.78125\" y=\"556.827958\" style=\"stroke: #000000; stroke-width: 0.8\"/>\n      </g>\n     </g>\n     <g id=\"text_112\">\n      <!-- 0.4 -->\n      <g transform=\"translate(20.878125 560.627177)scale(0.1 -0.1)\">\n       <use xlink:href=\"#DejaVuSans-30\"/>\n       <use xlink:href=\"#DejaVuSans-2e\" x=\"63.623047\"/>\n       <use xlink:href=\"#DejaVuSans-34\" x=\"95.410156\"/>\n      </g>\n     </g>\n    </g>\n    <g id=\"ytick_52\">\n     <g id=\"line2d_106\">\n      <g>\n       <use xlink:href=\"#mf950be4dbd\" x=\"43.78125\" y=\"526.371557\" style=\"stroke: #000000; stroke-width: 0.8\"/>\n      </g>\n     </g>\n     <g id=\"text_113\">\n      <!-- 0.6 -->\n      <g transform=\"translate(20.878125 530.170776)scale(0.1 -0.1)\">\n       <use xlink:href=\"#DejaVuSans-30\"/>\n       <use xlink:href=\"#DejaVuSans-2e\" x=\"63.623047\"/>\n       <use xlink:href=\"#DejaVuSans-36\" x=\"95.410156\"/>\n      </g>\n     </g>\n    </g>\n    <g id=\"ytick_53\">\n     <g id=\"line2d_107\">\n      <g>\n       <use xlink:href=\"#mf950be4dbd\" x=\"43.78125\" y=\"495.915157\" style=\"stroke: #000000; stroke-width: 0.8\"/>\n      </g>\n     </g>\n     <g id=\"text_114\">\n      <!-- 0.8 -->\n      <g transform=\"translate(20.878125 499.714375)scale(0.1 -0.1)\">\n       <use xlink:href=\"#DejaVuSans-30\"/>\n       <use xlink:href=\"#DejaVuSans-2e\" x=\"63.623047\"/>\n       <use xlink:href=\"#DejaVuSans-38\" x=\"95.410156\"/>\n      </g>\n     </g>\n    </g>\n    <g id=\"ytick_54\">\n     <g id=\"line2d_108\">\n      <g>\n       <use xlink:href=\"#mf950be4dbd\" x=\"43.78125\" y=\"465.458756\" style=\"stroke: #000000; stroke-width: 0.8\"/>\n      </g>\n     </g>\n     <g id=\"text_115\">\n      <!-- 1.0 -->\n      <g transform=\"translate(20.878125 469.257975)scale(0.1 -0.1)\">\n       <use xlink:href=\"#DejaVuSans-31\"/>\n       <use xlink:href=\"#DejaVuSans-2e\" x=\"63.623047\"/>\n       <use xlink:href=\"#DejaVuSans-30\" x=\"95.410156\"/>\n      </g>\n     </g>\n    </g>\n    <g id=\"text_116\">\n     <!-- True Positive Rate -->\n     <g transform=\"translate(14.798438 586.129445)rotate(-90)scale(0.1 -0.1)\">\n      <use xlink:href=\"#DejaVuSans-54\"/>\n      <use xlink:href=\"#DejaVuSans-72\" x=\"46.333984\"/>\n      <use xlink:href=\"#DejaVuSans-75\" x=\"87.447266\"/>\n      <use xlink:href=\"#DejaVuSans-65\" x=\"150.826172\"/>\n      <use xlink:href=\"#DejaVuSans-20\" x=\"212.349609\"/>\n      <use xlink:href=\"#DejaVuSans-50\" x=\"244.136719\"/>\n      <use xlink:href=\"#DejaVuSans-6f\" x=\"300.814453\"/>\n      <use xlink:href=\"#DejaVuSans-73\" x=\"361.996094\"/>\n      <use xlink:href=\"#DejaVuSans-69\" x=\"414.095703\"/>\n      <use xlink:href=\"#DejaVuSans-74\" x=\"441.878906\"/>\n      <use xlink:href=\"#DejaVuSans-69\" x=\"481.087891\"/>\n      <use xlink:href=\"#DejaVuSans-76\" x=\"508.871094\"/>\n      <use xlink:href=\"#DejaVuSans-65\" x=\"568.050781\"/>\n      <use xlink:href=\"#DejaVuSans-20\" x=\"629.574219\"/>\n      <use xlink:href=\"#DejaVuSans-52\" x=\"661.361328\"/>\n      <use xlink:href=\"#DejaVuSans-61\" x=\"728.59375\"/>\n      <use xlink:href=\"#DejaVuSans-74\" x=\"789.873047\"/>\n      <use xlink:href=\"#DejaVuSans-65\" x=\"829.082031\"/>\n     </g>\n    </g>\n   </g>\n   <g id=\"line2d_109\">\n    <path d=\"M 52.508523 617.74076 \nL 54.253977 562.791644 \nL 55.999432 529.332658 \nL 57.744886 501.916609 \nL 59.490341 486.561853 \nL 61.235795 478.940523 \nL 62.98125 474.852099 \nL 64.726705 472.885608 \nL 66.472159 471.376779 \nL 68.217614 469.86795 \nL 69.963068 468.641125 \nL 71.708523 468.006507 \nL 73.453977 467.37189 \nL 75.199432 466.737272 \nL 76.944886 466.377608 \nL 78.690341 466.366924 \nL 80.435795 466.356239 \nL 82.18125 466.345555 \nL 83.926705 466.334871 \nL 85.672159 466.324186 \nL 87.417614 466.313502 \nL 89.163068 466.302818 \nL 90.908523 466.292133 \nL 92.653977 466.281449 \nL 94.399432 466.270765 \nL 96.144886 466.26008 \nL 97.890341 466.249396 \nL 99.635795 466.238712 \nL 101.38125 466.228027 \nL 103.126705 466.217343 \nL 104.872159 466.206659 \nL 106.617614 466.195974 \nL 108.363068 466.18529 \nL 110.108523 466.174606 \nL 111.853977 466.163921 \nL 113.599432 466.153237 \nL 115.344886 466.142553 \nL 117.090341 466.131868 \nL 118.835795 466.121184 \nL 120.58125 466.1105 \nL 122.326705 466.099816 \nL 124.072159 466.089131 \nL 125.817614 466.078447 \nL 127.563068 466.067763 \nL 129.308523 466.057078 \nL 131.053977 466.046394 \nL 132.799432 466.03571 \nL 134.544886 466.025025 \nL 136.290341 466.014341 \nL 138.035795 466.003657 \nL 139.78125 465.992972 \nL 141.526705 465.982288 \nL 143.272159 465.971604 \nL 145.017614 465.960919 \nL 146.763068 465.950235 \nL 148.508523 465.939551 \nL 150.253977 465.928866 \nL 151.999432 465.918182 \nL 153.744886 465.907498 \nL 155.490341 465.896813 \nL 157.235795 465.886129 \nL 158.98125 465.875445 \nL 160.726705 465.86476 \nL 162.472159 465.854076 \nL 164.217614 465.843392 \nL 165.963068 465.832707 \nL 167.708523 465.822023 \nL 169.453977 465.811339 \nL 171.199432 465.800654 \nL 172.944886 465.78997 \nL 174.690341 465.779286 \nL 176.435795 465.768601 \nL 178.18125 465.757917 \nL 179.926705 465.747233 \nL 181.672159 465.736548 \nL 183.417614 465.725864 \nL 185.163068 465.71518 \nL 186.908523 465.704495 \nL 188.653977 465.693811 \nL 190.399432 465.683127 \nL 192.144886 465.672442 \nL 193.890341 465.661758 \nL 195.635795 465.651074 \nL 197.38125 465.640389 \nL 199.126705 465.629705 \nL 200.872159 465.619021 \nL 202.617614 465.608336 \nL 204.363068 465.597652 \nL 206.108523 465.586968 \nL 207.853977 465.576283 \nL 209.599432 465.565599 \nL 211.344886 465.554915 \nL 213.090341 465.54423 \nL 214.835795 465.533546 \nL 216.58125 465.522862 \nL 218.326705 465.512177 \nL 220.072159 465.501493 \nL 221.817614 465.490809 \nL 223.563068 465.480124 \nL 225.308523 465.46944 \nL 227.053977 465.458756 \n\" clip-path=\"url(#p58b6c0c128)\" style=\"fill: none; stroke: #0000ff; stroke-opacity: 0.8; stroke-width: 1.5; stroke-linecap: square\"/>\n   </g>\n   <g id=\"line2d_110\">\n    <path d=\"M 52.508523 617.74076 \nL 227.053977 465.458756 \n\" clip-path=\"url(#p58b6c0c128)\" style=\"fill: none; stroke-dasharray: 7.4,3.2; stroke-dashoffset: 0; stroke: #ff0000; stroke-opacity: 0.8; stroke-width: 2\"/>\n   </g>\n   <g id=\"patch_39\">\n    <path d=\"M 43.78125 625.35486 \nL 43.78125 457.844656 \n\" style=\"fill: none; stroke: #000000; stroke-width: 0.8; stroke-linejoin: miter; stroke-linecap: square\"/>\n   </g>\n   <g id=\"patch_40\">\n    <path d=\"M 235.78125 625.35486 \nL 235.78125 457.844656 \n\" style=\"fill: none; stroke: #000000; stroke-width: 0.8; stroke-linejoin: miter; stroke-linecap: square\"/>\n   </g>\n   <g id=\"patch_41\">\n    <path d=\"M 43.78125 625.35486 \nL 235.78125 625.35486 \n\" style=\"fill: none; stroke: #000000; stroke-width: 0.8; stroke-linejoin: miter; stroke-linecap: square\"/>\n   </g>\n   <g id=\"patch_42\">\n    <path d=\"M 43.78125 457.844656 \nL 235.78125 457.844656 \n\" style=\"fill: none; stroke: #000000; stroke-width: 0.8; stroke-linejoin: miter; stroke-linecap: square\"/>\n   </g>\n   <g id=\"text_117\">\n    <!-- GCN flux- -->\n    <g transform=\"translate(43.78125 451.844656)scale(0.12 -0.12)\">\n     <use xlink:href=\"#DejaVuSans-Bold-47\"/>\n     <use xlink:href=\"#DejaVuSans-Bold-43\" x=\"82.080078\"/>\n     <use xlink:href=\"#DejaVuSans-Bold-4e\" x=\"155.46875\"/>\n     <use xlink:href=\"#DejaVuSans-Bold-20\" x=\"239.160156\"/>\n     <use xlink:href=\"#DejaVuSans-Bold-66\" x=\"273.974609\"/>\n     <use xlink:href=\"#DejaVuSans-Bold-6c\" x=\"317.480469\"/>\n     <use xlink:href=\"#DejaVuSans-Bold-75\" x=\"351.757812\"/>\n     <use xlink:href=\"#DejaVuSans-Bold-78\" x=\"422.949219\"/>\n     <use xlink:href=\"#DejaVuSans-Bold-2d\" x=\"487.451172\"/>\n    </g>\n   </g>\n   <g id=\"legend_7\">\n    <g id=\"patch_43\">\n     <path d=\"M 78.28125 621.60486 \nL 230.53125 621.60486 \nQ 232.03125 621.60486 232.03125 620.10486 \nL 232.03125 598.837672 \nQ 232.03125 597.337672 230.53125 597.337672 \nL 78.28125 597.337672 \nQ 76.78125 597.337672 76.78125 598.837672 \nL 76.78125 620.10486 \nQ 76.78125 621.60486 78.28125 621.60486 \nz\n\" style=\"fill: #ffffff; opacity: 0.8; stroke: #cccccc; stroke-linejoin: miter\"/>\n    </g>\n    <g id=\"line2d_111\">\n     <path d=\"M 79.78125 603.4115 \nL 87.28125 603.4115 \nL 94.78125 603.4115 \n\" style=\"fill: none; stroke: #0000ff; stroke-opacity: 0.8; stroke-width: 1.5; stroke-linecap: square\"/>\n    </g>\n    <g id=\"text_118\">\n     <!-- Test set ROC (AUC = 0.97 $\\pm$ 0.02) -->\n     <g transform=\"translate(100.78125 606.0365)scale(0.075 -0.075)\">\n      <defs>\n       <path id=\"DejaVuSans-4f\" d=\"M 2522 4238 \nQ 1834 4238 1429 3725 \nQ 1025 3213 1025 2328 \nQ 1025 1447 1429 934 \nQ 1834 422 2522 422 \nQ 3209 422 3611 934 \nQ 4013 1447 4013 2328 \nQ 4013 3213 3611 3725 \nQ 3209 4238 2522 4238 \nz\nM 2522 4750 \nQ 3503 4750 4090 4092 \nQ 4678 3434 4678 2328 \nQ 4678 1225 4090 567 \nQ 3503 -91 2522 -91 \nQ 1538 -91 948 565 \nQ 359 1222 359 2328 \nQ 359 3434 948 4092 \nQ 1538 4750 2522 4750 \nz\n\" transform=\"scale(0.015625)\"/>\n       <path id=\"DejaVuSans-43\" d=\"M 4122 4306 \nL 4122 3641 \nQ 3803 3938 3442 4084 \nQ 3081 4231 2675 4231 \nQ 1875 4231 1450 3742 \nQ 1025 3253 1025 2328 \nQ 1025 1406 1450 917 \nQ 1875 428 2675 428 \nQ 3081 428 3442 575 \nQ 3803 722 4122 1019 \nL 4122 359 \nQ 3791 134 3420 21 \nQ 3050 -91 2638 -91 \nQ 1578 -91 968 557 \nQ 359 1206 359 2328 \nQ 359 3453 968 4101 \nQ 1578 4750 2638 4750 \nQ 3056 4750 3426 4639 \nQ 3797 4528 4122 4306 \nz\n\" transform=\"scale(0.015625)\"/>\n       <path id=\"DejaVuSans-55\" d=\"M 556 4666 \nL 1191 4666 \nL 1191 1831 \nQ 1191 1081 1462 751 \nQ 1734 422 2344 422 \nQ 2950 422 3222 751 \nQ 3494 1081 3494 1831 \nL 3494 4666 \nL 4128 4666 \nL 4128 1753 \nQ 4128 841 3676 375 \nQ 3225 -91 2344 -91 \nQ 1459 -91 1007 375 \nQ 556 841 556 1753 \nL 556 4666 \nz\n\" transform=\"scale(0.015625)\"/>\n       <path id=\"DejaVuSans-3d\" d=\"M 678 2906 \nL 4684 2906 \nL 4684 2381 \nL 678 2381 \nL 678 2906 \nz\nM 678 1631 \nL 4684 1631 \nL 4684 1100 \nL 678 1100 \nL 678 1631 \nz\n\" transform=\"scale(0.015625)\"/>\n       <path id=\"DejaVuSans-b1\" d=\"M 2944 4013 \nL 2944 2803 \nL 4684 2803 \nL 4684 2272 \nL 2944 2272 \nL 2944 1063 \nL 2419 1063 \nL 2419 2272 \nL 678 2272 \nL 678 2803 \nL 2419 2803 \nL 2419 4013 \nL 2944 4013 \nz\nM 678 531 \nL 4684 531 \nL 4684 0 \nL 678 0 \nL 678 531 \nz\n\" transform=\"scale(0.015625)\"/>\n      </defs>\n      <use xlink:href=\"#DejaVuSans-54\" transform=\"translate(0 0.125)\"/>\n      <use xlink:href=\"#DejaVuSans-65\" transform=\"translate(61.083984 0.125)\"/>\n      <use xlink:href=\"#DejaVuSans-73\" transform=\"translate(122.607422 0.125)\"/>\n      <use xlink:href=\"#DejaVuSans-74\" transform=\"translate(174.707031 0.125)\"/>\n      <use xlink:href=\"#DejaVuSans-20\" transform=\"translate(213.916016 0.125)\"/>\n      <use xlink:href=\"#DejaVuSans-73\" transform=\"translate(245.703125 0.125)\"/>\n      <use xlink:href=\"#DejaVuSans-65\" transform=\"translate(297.802734 0.125)\"/>\n      <use xlink:href=\"#DejaVuSans-74\" transform=\"translate(359.326172 0.125)\"/>\n      <use xlink:href=\"#DejaVuSans-20\" transform=\"translate(398.535156 0.125)\"/>\n      <use xlink:href=\"#DejaVuSans-52\" transform=\"translate(430.322266 0.125)\"/>\n      <use xlink:href=\"#DejaVuSans-4f\" transform=\"translate(499.804688 0.125)\"/>\n      <use xlink:href=\"#DejaVuSans-43\" transform=\"translate(578.515625 0.125)\"/>\n      <use xlink:href=\"#DejaVuSans-20\" transform=\"translate(648.339844 0.125)\"/>\n      <use xlink:href=\"#DejaVuSans-28\" transform=\"translate(680.126953 0.125)\"/>\n      <use xlink:href=\"#DejaVuSans-41\" transform=\"translate(719.140625 0.125)\"/>\n      <use xlink:href=\"#DejaVuSans-55\" transform=\"translate(787.548828 0.125)\"/>\n      <use xlink:href=\"#DejaVuSans-43\" transform=\"translate(860.742188 0.125)\"/>\n      <use xlink:href=\"#DejaVuSans-20\" transform=\"translate(930.566406 0.125)\"/>\n      <use xlink:href=\"#DejaVuSans-3d\" transform=\"translate(962.353516 0.125)\"/>\n      <use xlink:href=\"#DejaVuSans-20\" transform=\"translate(1046.142578 0.125)\"/>\n      <use xlink:href=\"#DejaVuSans-30\" transform=\"translate(1077.929688 0.125)\"/>\n      <use xlink:href=\"#DejaVuSans-2e\" transform=\"translate(1141.552734 0.125)\"/>\n      <use xlink:href=\"#DejaVuSans-39\" transform=\"translate(1173.339844 0.125)\"/>\n      <use xlink:href=\"#DejaVuSans-37\" transform=\"translate(1236.962891 0.125)\"/>\n      <use xlink:href=\"#DejaVuSans-20\" transform=\"translate(1300.585938 0.125)\"/>\n      <use xlink:href=\"#DejaVuSans-b1\" transform=\"translate(1332.373047 0.125)\"/>\n      <use xlink:href=\"#DejaVuSans-20\" transform=\"translate(1416.162109 0.125)\"/>\n      <use xlink:href=\"#DejaVuSans-30\" transform=\"translate(1447.949219 0.125)\"/>\n      <use xlink:href=\"#DejaVuSans-2e\" transform=\"translate(1511.572266 0.125)\"/>\n      <use xlink:href=\"#DejaVuSans-30\" transform=\"translate(1543.359375 0.125)\"/>\n      <use xlink:href=\"#DejaVuSans-32\" transform=\"translate(1606.982422 0.125)\"/>\n      <use xlink:href=\"#DejaVuSans-29\" transform=\"translate(1670.605469 0.125)\"/>\n     </g>\n    </g>\n    <g id=\"line2d_112\">\n     <path d=\"M 79.78125 614.420094 \nL 87.28125 614.420094 \nL 94.78125 614.420094 \n\" style=\"fill: none; stroke-dasharray: 7.4,3.2; stroke-dashoffset: 0; stroke: #ff0000; stroke-opacity: 0.8; stroke-width: 2\"/>\n    </g>\n    <g id=\"text_119\">\n     <!-- Random -->\n     <g transform=\"translate(100.78125 617.045094)scale(0.075 -0.075)\">\n      <defs>\n       <path id=\"DejaVuSans-6d\" d=\"M 3328 2828 \nQ 3544 3216 3844 3400 \nQ 4144 3584 4550 3584 \nQ 5097 3584 5394 3201 \nQ 5691 2819 5691 2113 \nL 5691 0 \nL 5113 0 \nL 5113 2094 \nQ 5113 2597 4934 2840 \nQ 4756 3084 4391 3084 \nQ 3944 3084 3684 2787 \nQ 3425 2491 3425 1978 \nL 3425 0 \nL 2847 0 \nL 2847 2094 \nQ 2847 2600 2669 2842 \nQ 2491 3084 2119 3084 \nQ 1678 3084 1418 2786 \nQ 1159 2488 1159 1978 \nL 1159 0 \nL 581 0 \nL 581 3500 \nL 1159 3500 \nL 1159 2956 \nQ 1356 3278 1631 3431 \nQ 1906 3584 2284 3584 \nQ 2666 3584 2933 3390 \nQ 3200 3197 3328 2828 \nz\n\" transform=\"scale(0.015625)\"/>\n      </defs>\n      <use xlink:href=\"#DejaVuSans-52\"/>\n      <use xlink:href=\"#DejaVuSans-61\" x=\"67.232422\"/>\n      <use xlink:href=\"#DejaVuSans-6e\" x=\"128.511719\"/>\n      <use xlink:href=\"#DejaVuSans-64\" x=\"191.890625\"/>\n      <use xlink:href=\"#DejaVuSans-6f\" x=\"255.367188\"/>\n      <use xlink:href=\"#DejaVuSans-6d\" x=\"316.548828\"/>\n     </g>\n    </g>\n   </g>\n  </g>\n  <g id=\"axes_8\">\n   <g id=\"patch_44\">\n    <path d=\"M 43.78125 843.118125 \nL 235.78125 843.118125 \nL 235.78125 675.607921 \nL 43.78125 675.607921 \nz\n\" style=\"fill: #ffffff\"/>\n   </g>\n   <g id=\"PolyCollection_2\">\n    <defs>\n     <path id=\"m498185540c\" d=\"M 52.508523 -45.17035 \nL 52.508523 -45.17035 \nL 54.253977 -45.329204 \nL 55.999432 -65.292905 \nL 57.744886 -83.959732 \nL 59.490341 -102.154246 \nL 61.235795 -118.638843 \nL 62.98125 -133.812503 \nL 64.726705 -147.873367 \nL 66.472159 -160.28146 \nL 68.217614 -169.375187 \nL 69.963068 -175.288919 \nL 71.708523 -179.415551 \nL 73.453977 -182.239942 \nL 75.199432 -184.852037 \nL 76.944886 -187.120755 \nL 78.690341 -188.159449 \nL 80.435795 -188.268778 \nL 82.18125 -188.378106 \nL 83.926705 -188.487434 \nL 85.672159 -188.596763 \nL 87.417614 -188.706091 \nL 89.163068 -188.815419 \nL 90.908523 -188.924747 \nL 92.653977 -189.034076 \nL 94.399432 -189.143404 \nL 96.144886 -189.252732 \nL 97.890341 -189.362061 \nL 99.635795 -189.471389 \nL 101.38125 -189.580717 \nL 103.126705 -189.690045 \nL 104.872159 -189.799374 \nL 106.617614 -189.908702 \nL 108.363068 -190.01803 \nL 110.108523 -190.127359 \nL 111.853977 -190.236687 \nL 113.599432 -190.346015 \nL 115.344886 -190.455343 \nL 117.090341 -190.564672 \nL 118.835795 -190.674 \nL 120.58125 -190.783328 \nL 122.326705 -190.892657 \nL 124.072159 -191.001985 \nL 125.817614 -191.111313 \nL 127.563068 -191.220641 \nL 129.308523 -191.32997 \nL 131.053977 -191.439298 \nL 132.799432 -191.548626 \nL 134.544886 -191.657955 \nL 136.290341 -191.767283 \nL 138.035795 -191.876611 \nL 139.78125 -191.985939 \nL 141.526705 -192.095268 \nL 143.272159 -192.204596 \nL 145.017614 -192.313924 \nL 146.763068 -192.423253 \nL 148.508523 -192.532581 \nL 150.253977 -192.641909 \nL 151.999432 -192.751237 \nL 153.744886 -192.860566 \nL 155.490341 -192.969894 \nL 157.235795 -193.079222 \nL 158.98125 -193.188551 \nL 160.726705 -193.297879 \nL 162.472159 -193.407207 \nL 164.217614 -193.516536 \nL 165.963068 -193.625864 \nL 167.708523 -193.735192 \nL 169.453977 -193.84452 \nL 171.199432 -193.953849 \nL 172.944886 -194.063177 \nL 174.690341 -194.172505 \nL 176.435795 -194.281834 \nL 178.18125 -194.391162 \nL 179.926705 -194.50049 \nL 181.672159 -194.609818 \nL 183.417614 -194.719147 \nL 185.163068 -194.828475 \nL 186.908523 -194.937803 \nL 188.653977 -195.047132 \nL 190.399432 -195.15646 \nL 192.144886 -195.265788 \nL 193.890341 -195.375116 \nL 195.635795 -195.484445 \nL 197.38125 -195.593773 \nL 199.126705 -195.703101 \nL 200.872159 -195.81243 \nL 202.617614 -195.921758 \nL 204.363068 -196.031086 \nL 206.108523 -196.140414 \nL 207.853977 -196.249743 \nL 209.599432 -196.359071 \nL 211.344886 -196.468399 \nL 213.090341 -196.577728 \nL 214.835795 -196.687056 \nL 216.58125 -196.796384 \nL 218.326705 -196.905712 \nL 220.072159 -197.015041 \nL 221.817614 -197.124369 \nL 223.563068 -197.233697 \nL 225.308523 -197.343026 \nL 227.053977 -197.452354 \nL 227.053977 -197.452354 \nL 227.053977 -197.452354 \nL 225.308523 -197.404133 \nL 223.563068 -197.355911 \nL 221.817614 -197.30769 \nL 220.072159 -197.259469 \nL 218.326705 -197.211248 \nL 216.58125 -197.163026 \nL 214.835795 -197.114805 \nL 213.090341 -197.066584 \nL 211.344886 -197.018363 \nL 209.599432 -196.970141 \nL 207.853977 -196.92192 \nL 206.108523 -196.873699 \nL 204.363068 -196.825478 \nL 202.617614 -196.777256 \nL 200.872159 -196.729035 \nL 199.126705 -196.680814 \nL 197.38125 -196.632593 \nL 195.635795 -196.584371 \nL 193.890341 -196.53615 \nL 192.144886 -196.487929 \nL 190.399432 -196.439708 \nL 188.653977 -196.391486 \nL 186.908523 -196.343265 \nL 185.163068 -196.295044 \nL 183.417614 -196.246823 \nL 181.672159 -196.198601 \nL 179.926705 -196.15038 \nL 178.18125 -196.102159 \nL 176.435795 -196.053938 \nL 174.690341 -196.005716 \nL 172.944886 -195.957495 \nL 171.199432 -195.909274 \nL 169.453977 -195.861053 \nL 167.708523 -195.812831 \nL 165.963068 -195.76461 \nL 164.217614 -195.716389 \nL 162.472159 -195.668168 \nL 160.726705 -195.619946 \nL 158.98125 -195.571725 \nL 157.235795 -195.523504 \nL 155.490341 -195.475283 \nL 153.744886 -195.427061 \nL 151.999432 -195.37884 \nL 150.253977 -195.330619 \nL 148.508523 -195.282398 \nL 146.763068 -195.234177 \nL 145.017614 -195.185955 \nL 143.272159 -195.137734 \nL 141.526705 -195.089513 \nL 139.78125 -195.041292 \nL 138.035795 -194.99307 \nL 136.290341 -194.944849 \nL 134.544886 -194.896628 \nL 132.799432 -194.848407 \nL 131.053977 -194.800185 \nL 129.308523 -194.751964 \nL 127.563068 -194.703743 \nL 125.817614 -194.655522 \nL 124.072159 -194.6073 \nL 122.326705 -194.559079 \nL 120.58125 -194.510858 \nL 118.835795 -194.462637 \nL 117.090341 -194.414415 \nL 115.344886 -194.366194 \nL 113.599432 -194.317973 \nL 111.853977 -194.269752 \nL 110.108523 -194.22153 \nL 108.363068 -194.173309 \nL 106.617614 -194.125088 \nL 104.872159 -194.076867 \nL 103.126705 -194.028645 \nL 101.38125 -193.980424 \nL 99.635795 -193.932203 \nL 97.890341 -193.883982 \nL 96.144886 -193.83576 \nL 94.399432 -193.787539 \nL 92.653977 -193.739318 \nL 90.908523 -193.691097 \nL 89.163068 -193.642875 \nL 87.417614 -193.594654 \nL 85.672159 -193.546433 \nL 83.926705 -193.498212 \nL 82.18125 -193.44999 \nL 80.435795 -193.401769 \nL 78.690341 -193.353548 \nL 76.944886 -193.470132 \nL 75.199432 -194.498173 \nL 73.453977 -195.869591 \nL 71.708523 -197.025644 \nL 69.963068 -197.25146 \nL 68.217614 -197.452354 \nL 66.472159 -196.264805 \nL 64.726705 -193.586498 \nL 62.98125 -190.609827 \nL 61.235795 -186.893274 \nL 59.490341 -174.442513 \nL 57.744886 -159.801262 \nL 55.999432 -137.810904 \nL 54.253977 -112.970042 \nL 52.508523 -45.17035 \nz\n\" style=\"stroke: #0000ff; stroke-opacity: 0.2\"/>\n    </defs>\n    <g clip-path=\"url(#pd770513eb7)\">\n     <use xlink:href=\"#m498185540c\" x=\"0\" y=\"880.674375\" style=\"fill: #0000ff; fill-opacity: 0.2; stroke: #0000ff; stroke-opacity: 0.2\"/>\n    </g>\n   </g>\n   <g id=\"matplotlib.axis_15\">\n    <g id=\"xtick_31\">\n     <g id=\"line2d_113\">\n      <g>\n       <use xlink:href=\"#m449907e01c\" x=\"52.508523\" y=\"843.118125\" style=\"stroke: #000000; stroke-width: 0.8\"/>\n      </g>\n     </g>\n     <g id=\"text_120\">\n      <!-- 0.0 -->\n      <g transform=\"translate(44.55696 857.716562)scale(0.1 -0.1)\">\n       <use xlink:href=\"#DejaVuSans-30\"/>\n       <use xlink:href=\"#DejaVuSans-2e\" x=\"63.623047\"/>\n       <use xlink:href=\"#DejaVuSans-30\" x=\"95.410156\"/>\n      </g>\n     </g>\n    </g>\n    <g id=\"xtick_32\">\n     <g id=\"line2d_114\">\n      <g>\n       <use xlink:href=\"#m449907e01c\" x=\"87.417614\" y=\"843.118125\" style=\"stroke: #000000; stroke-width: 0.8\"/>\n      </g>\n     </g>\n     <g id=\"text_121\">\n      <!-- 0.2 -->\n      <g transform=\"translate(79.466051 857.716562)scale(0.1 -0.1)\">\n       <use xlink:href=\"#DejaVuSans-30\"/>\n       <use xlink:href=\"#DejaVuSans-2e\" x=\"63.623047\"/>\n       <use xlink:href=\"#DejaVuSans-32\" x=\"95.410156\"/>\n      </g>\n     </g>\n    </g>\n    <g id=\"xtick_33\">\n     <g id=\"line2d_115\">\n      <g>\n       <use xlink:href=\"#m449907e01c\" x=\"122.326705\" y=\"843.118125\" style=\"stroke: #000000; stroke-width: 0.8\"/>\n      </g>\n     </g>\n     <g id=\"text_122\">\n      <!-- 0.4 -->\n      <g transform=\"translate(114.375142 857.716562)scale(0.1 -0.1)\">\n       <use xlink:href=\"#DejaVuSans-30\"/>\n       <use xlink:href=\"#DejaVuSans-2e\" x=\"63.623047\"/>\n       <use xlink:href=\"#DejaVuSans-34\" x=\"95.410156\"/>\n      </g>\n     </g>\n    </g>\n    <g id=\"xtick_34\">\n     <g id=\"line2d_116\">\n      <g>\n       <use xlink:href=\"#m449907e01c\" x=\"157.235795\" y=\"843.118125\" style=\"stroke: #000000; stroke-width: 0.8\"/>\n      </g>\n     </g>\n     <g id=\"text_123\">\n      <!-- 0.6 -->\n      <g transform=\"translate(149.284233 857.716562)scale(0.1 -0.1)\">\n       <use xlink:href=\"#DejaVuSans-30\"/>\n       <use xlink:href=\"#DejaVuSans-2e\" x=\"63.623047\"/>\n       <use xlink:href=\"#DejaVuSans-36\" x=\"95.410156\"/>\n      </g>\n     </g>\n    </g>\n    <g id=\"xtick_35\">\n     <g id=\"line2d_117\">\n      <g>\n       <use xlink:href=\"#m449907e01c\" x=\"192.144886\" y=\"843.118125\" style=\"stroke: #000000; stroke-width: 0.8\"/>\n      </g>\n     </g>\n     <g id=\"text_124\">\n      <!-- 0.8 -->\n      <g transform=\"translate(184.193324 857.716562)scale(0.1 -0.1)\">\n       <use xlink:href=\"#DejaVuSans-30\"/>\n       <use xlink:href=\"#DejaVuSans-2e\" x=\"63.623047\"/>\n       <use xlink:href=\"#DejaVuSans-38\" x=\"95.410156\"/>\n      </g>\n     </g>\n    </g>\n    <g id=\"xtick_36\">\n     <g id=\"line2d_118\">\n      <g>\n       <use xlink:href=\"#m449907e01c\" x=\"227.053977\" y=\"843.118125\" style=\"stroke: #000000; stroke-width: 0.8\"/>\n      </g>\n     </g>\n     <g id=\"text_125\">\n      <!-- 1.0 -->\n      <g transform=\"translate(219.102415 857.716562)scale(0.1 -0.1)\">\n       <use xlink:href=\"#DejaVuSans-31\"/>\n       <use xlink:href=\"#DejaVuSans-2e\" x=\"63.623047\"/>\n       <use xlink:href=\"#DejaVuSans-30\" x=\"95.410156\"/>\n      </g>\n     </g>\n    </g>\n    <g id=\"text_126\">\n     <!-- False Positive Rate -->\n     <g transform=\"translate(93.314844 871.394687)scale(0.1 -0.1)\">\n      <use xlink:href=\"#DejaVuSans-46\"/>\n      <use xlink:href=\"#DejaVuSans-61\" x=\"48.394531\"/>\n      <use xlink:href=\"#DejaVuSans-6c\" x=\"109.673828\"/>\n      <use xlink:href=\"#DejaVuSans-73\" x=\"137.457031\"/>\n      <use xlink:href=\"#DejaVuSans-65\" x=\"189.556641\"/>\n      <use xlink:href=\"#DejaVuSans-20\" x=\"251.080078\"/>\n      <use xlink:href=\"#DejaVuSans-50\" x=\"282.867188\"/>\n      <use xlink:href=\"#DejaVuSans-6f\" x=\"339.544922\"/>\n      <use xlink:href=\"#DejaVuSans-73\" x=\"400.726562\"/>\n      <use xlink:href=\"#DejaVuSans-69\" x=\"452.826172\"/>\n      <use xlink:href=\"#DejaVuSans-74\" x=\"480.609375\"/>\n      <use xlink:href=\"#DejaVuSans-69\" x=\"519.818359\"/>\n      <use xlink:href=\"#DejaVuSans-76\" x=\"547.601562\"/>\n      <use xlink:href=\"#DejaVuSans-65\" x=\"606.78125\"/>\n      <use xlink:href=\"#DejaVuSans-20\" x=\"668.304688\"/>\n      <use xlink:href=\"#DejaVuSans-52\" x=\"700.091797\"/>\n      <use xlink:href=\"#DejaVuSans-61\" x=\"767.324219\"/>\n      <use xlink:href=\"#DejaVuSans-74\" x=\"828.603516\"/>\n      <use xlink:href=\"#DejaVuSans-65\" x=\"867.8125\"/>\n     </g>\n    </g>\n   </g>\n   <g id=\"matplotlib.axis_16\">\n    <g id=\"ytick_55\">\n     <g id=\"line2d_119\">\n      <g>\n       <use xlink:href=\"#mf950be4dbd\" x=\"43.78125\" y=\"835.504025\" style=\"stroke: #000000; stroke-width: 0.8\"/>\n      </g>\n     </g>\n     <g id=\"text_127\">\n      <!-- 0.0 -->\n      <g transform=\"translate(20.878125 839.303244)scale(0.1 -0.1)\">\n       <use xlink:href=\"#DejaVuSans-30\"/>\n       <use xlink:href=\"#DejaVuSans-2e\" x=\"63.623047\"/>\n       <use xlink:href=\"#DejaVuSans-30\" x=\"95.410156\"/>\n      </g>\n     </g>\n    </g>\n    <g id=\"ytick_56\">\n     <g id=\"line2d_120\">\n      <g>\n       <use xlink:href=\"#mf950be4dbd\" x=\"43.78125\" y=\"805.047624\" style=\"stroke: #000000; stroke-width: 0.8\"/>\n      </g>\n     </g>\n     <g id=\"text_128\">\n      <!-- 0.2 -->\n      <g transform=\"translate(20.878125 808.846843)scale(0.1 -0.1)\">\n       <use xlink:href=\"#DejaVuSans-30\"/>\n       <use xlink:href=\"#DejaVuSans-2e\" x=\"63.623047\"/>\n       <use xlink:href=\"#DejaVuSans-32\" x=\"95.410156\"/>\n      </g>\n     </g>\n    </g>\n    <g id=\"ytick_57\">\n     <g id=\"line2d_121\">\n      <g>\n       <use xlink:href=\"#mf950be4dbd\" x=\"43.78125\" y=\"774.591223\" style=\"stroke: #000000; stroke-width: 0.8\"/>\n      </g>\n     </g>\n     <g id=\"text_129\">\n      <!-- 0.4 -->\n      <g transform=\"translate(20.878125 778.390442)scale(0.1 -0.1)\">\n       <use xlink:href=\"#DejaVuSans-30\"/>\n       <use xlink:href=\"#DejaVuSans-2e\" x=\"63.623047\"/>\n       <use xlink:href=\"#DejaVuSans-34\" x=\"95.410156\"/>\n      </g>\n     </g>\n    </g>\n    <g id=\"ytick_58\">\n     <g id=\"line2d_122\">\n      <g>\n       <use xlink:href=\"#mf950be4dbd\" x=\"43.78125\" y=\"744.134823\" style=\"stroke: #000000; stroke-width: 0.8\"/>\n      </g>\n     </g>\n     <g id=\"text_130\">\n      <!-- 0.6 -->\n      <g transform=\"translate(20.878125 747.934041)scale(0.1 -0.1)\">\n       <use xlink:href=\"#DejaVuSans-30\"/>\n       <use xlink:href=\"#DejaVuSans-2e\" x=\"63.623047\"/>\n       <use xlink:href=\"#DejaVuSans-36\" x=\"95.410156\"/>\n      </g>\n     </g>\n    </g>\n    <g id=\"ytick_59\">\n     <g id=\"line2d_123\">\n      <g>\n       <use xlink:href=\"#mf950be4dbd\" x=\"43.78125\" y=\"713.678422\" style=\"stroke: #000000; stroke-width: 0.8\"/>\n      </g>\n     </g>\n     <g id=\"text_131\">\n      <!-- 0.8 -->\n      <g transform=\"translate(20.878125 717.477641)scale(0.1 -0.1)\">\n       <use xlink:href=\"#DejaVuSans-30\"/>\n       <use xlink:href=\"#DejaVuSans-2e\" x=\"63.623047\"/>\n       <use xlink:href=\"#DejaVuSans-38\" x=\"95.410156\"/>\n      </g>\n     </g>\n    </g>\n    <g id=\"ytick_60\">\n     <g id=\"line2d_124\">\n      <g>\n       <use xlink:href=\"#mf950be4dbd\" x=\"43.78125\" y=\"683.222021\" style=\"stroke: #000000; stroke-width: 0.8\"/>\n      </g>\n     </g>\n     <g id=\"text_132\">\n      <!-- 1.0 -->\n      <g transform=\"translate(20.878125 687.02124)scale(0.1 -0.1)\">\n       <use xlink:href=\"#DejaVuSans-31\"/>\n       <use xlink:href=\"#DejaVuSans-2e\" x=\"63.623047\"/>\n       <use xlink:href=\"#DejaVuSans-30\" x=\"95.410156\"/>\n      </g>\n     </g>\n    </g>\n    <g id=\"text_133\">\n     <!-- True Positive Rate -->\n     <g transform=\"translate(14.798438 803.89271)rotate(-90)scale(0.1 -0.1)\">\n      <use xlink:href=\"#DejaVuSans-54\"/>\n      <use xlink:href=\"#DejaVuSans-72\" x=\"46.333984\"/>\n      <use xlink:href=\"#DejaVuSans-75\" x=\"87.447266\"/>\n      <use xlink:href=\"#DejaVuSans-65\" x=\"150.826172\"/>\n      <use xlink:href=\"#DejaVuSans-20\" x=\"212.349609\"/>\n      <use xlink:href=\"#DejaVuSans-50\" x=\"244.136719\"/>\n      <use xlink:href=\"#DejaVuSans-6f\" x=\"300.814453\"/>\n      <use xlink:href=\"#DejaVuSans-73\" x=\"361.996094\"/>\n      <use xlink:href=\"#DejaVuSans-69\" x=\"414.095703\"/>\n      <use xlink:href=\"#DejaVuSans-74\" x=\"441.878906\"/>\n      <use xlink:href=\"#DejaVuSans-69\" x=\"481.087891\"/>\n      <use xlink:href=\"#DejaVuSans-76\" x=\"508.871094\"/>\n      <use xlink:href=\"#DejaVuSans-65\" x=\"568.050781\"/>\n      <use xlink:href=\"#DejaVuSans-20\" x=\"629.574219\"/>\n      <use xlink:href=\"#DejaVuSans-52\" x=\"661.361328\"/>\n      <use xlink:href=\"#DejaVuSans-61\" x=\"728.59375\"/>\n      <use xlink:href=\"#DejaVuSans-74\" x=\"789.873047\"/>\n      <use xlink:href=\"#DejaVuSans-65\" x=\"829.082031\"/>\n     </g>\n    </g>\n   </g>\n   <g id=\"line2d_125\">\n    <path d=\"M 52.508523 835.504025 \nL 54.253977 801.524752 \nL 55.999432 779.122471 \nL 57.744886 758.793878 \nL 59.490341 742.375995 \nL 61.235795 727.908317 \nL 62.98125 718.46321 \nL 64.726705 709.944443 \nL 66.472159 702.401242 \nL 68.217614 697.095062 \nL 69.963068 694.404186 \nL 71.708523 692.453777 \nL 73.453977 691.619609 \nL 75.199432 690.99927 \nL 76.944886 690.378932 \nL 78.690341 689.917876 \nL 80.435795 689.839102 \nL 82.18125 689.760327 \nL 83.926705 689.681552 \nL 85.672159 689.602777 \nL 87.417614 689.524003 \nL 89.163068 689.445228 \nL 90.908523 689.366453 \nL 92.653977 689.287678 \nL 94.399432 689.208903 \nL 96.144886 689.130129 \nL 97.890341 689.051354 \nL 99.635795 688.972579 \nL 101.38125 688.893804 \nL 103.126705 688.81503 \nL 104.872159 688.736255 \nL 106.617614 688.65748 \nL 108.363068 688.578705 \nL 110.108523 688.499931 \nL 111.853977 688.421156 \nL 113.599432 688.342381 \nL 115.344886 688.263606 \nL 117.090341 688.184831 \nL 118.835795 688.106057 \nL 120.58125 688.027282 \nL 122.326705 687.948507 \nL 124.072159 687.869732 \nL 125.817614 687.790958 \nL 127.563068 687.712183 \nL 129.308523 687.633408 \nL 131.053977 687.554633 \nL 132.799432 687.475859 \nL 134.544886 687.397084 \nL 136.290341 687.318309 \nL 138.035795 687.239534 \nL 139.78125 687.16076 \nL 141.526705 687.081985 \nL 143.272159 687.00321 \nL 145.017614 686.924435 \nL 146.763068 686.84566 \nL 148.508523 686.766886 \nL 150.253977 686.688111 \nL 151.999432 686.609336 \nL 153.744886 686.530561 \nL 155.490341 686.451787 \nL 157.235795 686.373012 \nL 158.98125 686.294237 \nL 160.726705 686.215462 \nL 162.472159 686.136688 \nL 164.217614 686.057913 \nL 165.963068 685.979138 \nL 167.708523 685.900363 \nL 169.453977 685.821588 \nL 171.199432 685.742814 \nL 172.944886 685.664039 \nL 174.690341 685.585264 \nL 176.435795 685.506489 \nL 178.18125 685.427715 \nL 179.926705 685.34894 \nL 181.672159 685.270165 \nL 183.417614 685.19139 \nL 185.163068 685.112616 \nL 186.908523 685.033841 \nL 188.653977 684.955066 \nL 190.399432 684.876291 \nL 192.144886 684.797516 \nL 193.890341 684.718742 \nL 195.635795 684.639967 \nL 197.38125 684.561192 \nL 199.126705 684.482417 \nL 200.872159 684.403643 \nL 202.617614 684.324868 \nL 204.363068 684.246093 \nL 206.108523 684.167318 \nL 207.853977 684.088544 \nL 209.599432 684.009769 \nL 211.344886 683.930994 \nL 213.090341 683.852219 \nL 214.835795 683.773444 \nL 216.58125 683.69467 \nL 218.326705 683.615895 \nL 220.072159 683.53712 \nL 221.817614 683.458345 \nL 223.563068 683.379571 \nL 225.308523 683.300796 \nL 227.053977 683.222021 \n\" clip-path=\"url(#pd770513eb7)\" style=\"fill: none; stroke: #0000ff; stroke-opacity: 0.8; stroke-width: 1.5; stroke-linecap: square\"/>\n   </g>\n   <g id=\"line2d_126\">\n    <path d=\"M 52.508523 835.504025 \nL 227.053977 683.222021 \n\" clip-path=\"url(#pd770513eb7)\" style=\"fill: none; stroke-dasharray: 7.4,3.2; stroke-dashoffset: 0; stroke: #ff0000; stroke-opacity: 0.8; stroke-width: 2\"/>\n   </g>\n   <g id=\"patch_45\">\n    <path d=\"M 43.78125 843.118125 \nL 43.78125 675.607921 \n\" style=\"fill: none; stroke: #000000; stroke-width: 0.8; stroke-linejoin: miter; stroke-linecap: square\"/>\n   </g>\n   <g id=\"patch_46\">\n    <path d=\"M 235.78125 843.118125 \nL 235.78125 675.607921 \n\" style=\"fill: none; stroke: #000000; stroke-width: 0.8; stroke-linejoin: miter; stroke-linecap: square\"/>\n   </g>\n   <g id=\"patch_47\">\n    <path d=\"M 43.78125 843.118125 \nL 235.78125 843.118125 \n\" style=\"fill: none; stroke: #000000; stroke-width: 0.8; stroke-linejoin: miter; stroke-linecap: square\"/>\n   </g>\n   <g id=\"patch_48\">\n    <path d=\"M 43.78125 675.607921 \nL 235.78125 675.607921 \n\" style=\"fill: none; stroke: #000000; stroke-width: 0.8; stroke-linejoin: miter; stroke-linecap: square\"/>\n   </g>\n   <g id=\"text_134\">\n    <!-- GCN flux+ -->\n    <g transform=\"translate(43.78125 669.607921)scale(0.12 -0.12)\">\n     <use xlink:href=\"#DejaVuSans-Bold-47\"/>\n     <use xlink:href=\"#DejaVuSans-Bold-43\" x=\"82.080078\"/>\n     <use xlink:href=\"#DejaVuSans-Bold-4e\" x=\"155.46875\"/>\n     <use xlink:href=\"#DejaVuSans-Bold-20\" x=\"239.160156\"/>\n     <use xlink:href=\"#DejaVuSans-Bold-66\" x=\"273.974609\"/>\n     <use xlink:href=\"#DejaVuSans-Bold-6c\" x=\"317.480469\"/>\n     <use xlink:href=\"#DejaVuSans-Bold-75\" x=\"351.757812\"/>\n     <use xlink:href=\"#DejaVuSans-Bold-78\" x=\"422.949219\"/>\n     <use xlink:href=\"#DejaVuSans-Bold-2b\" x=\"487.451172\"/>\n    </g>\n   </g>\n   <g id=\"legend_8\">\n    <g id=\"patch_49\">\n     <path d=\"M 78.28125 839.368125 \nL 230.53125 839.368125 \nQ 232.03125 839.368125 232.03125 837.868125 \nL 232.03125 816.600937 \nQ 232.03125 815.100937 230.53125 815.100937 \nL 78.28125 815.100937 \nQ 76.78125 815.100937 76.78125 816.600937 \nL 76.78125 837.868125 \nQ 76.78125 839.368125 78.28125 839.368125 \nz\n\" style=\"fill: #ffffff; opacity: 0.8; stroke: #cccccc; stroke-linejoin: miter\"/>\n    </g>\n    <g id=\"line2d_127\">\n     <path d=\"M 79.78125 821.174766 \nL 87.28125 821.174766 \nL 94.78125 821.174766 \n\" style=\"fill: none; stroke: #0000ff; stroke-opacity: 0.8; stroke-width: 1.5; stroke-linecap: square\"/>\n    </g>\n    <g id=\"text_135\">\n     <!-- Test set ROC (AUC = 0.94 $\\pm$ 0.02) -->\n     <g transform=\"translate(100.78125 823.799766)scale(0.075 -0.075)\">\n      <use xlink:href=\"#DejaVuSans-54\" transform=\"translate(0 0.125)\"/>\n      <use xlink:href=\"#DejaVuSans-65\" transform=\"translate(61.083984 0.125)\"/>\n      <use xlink:href=\"#DejaVuSans-73\" transform=\"translate(122.607422 0.125)\"/>\n      <use xlink:href=\"#DejaVuSans-74\" transform=\"translate(174.707031 0.125)\"/>\n      <use xlink:href=\"#DejaVuSans-20\" transform=\"translate(213.916016 0.125)\"/>\n      <use xlink:href=\"#DejaVuSans-73\" transform=\"translate(245.703125 0.125)\"/>\n      <use xlink:href=\"#DejaVuSans-65\" transform=\"translate(297.802734 0.125)\"/>\n      <use xlink:href=\"#DejaVuSans-74\" transform=\"translate(359.326172 0.125)\"/>\n      <use xlink:href=\"#DejaVuSans-20\" transform=\"translate(398.535156 0.125)\"/>\n      <use xlink:href=\"#DejaVuSans-52\" transform=\"translate(430.322266 0.125)\"/>\n      <use xlink:href=\"#DejaVuSans-4f\" transform=\"translate(499.804688 0.125)\"/>\n      <use xlink:href=\"#DejaVuSans-43\" transform=\"translate(578.515625 0.125)\"/>\n      <use xlink:href=\"#DejaVuSans-20\" transform=\"translate(648.339844 0.125)\"/>\n      <use xlink:href=\"#DejaVuSans-28\" transform=\"translate(680.126953 0.125)\"/>\n      <use xlink:href=\"#DejaVuSans-41\" transform=\"translate(719.140625 0.125)\"/>\n      <use xlink:href=\"#DejaVuSans-55\" transform=\"translate(787.548828 0.125)\"/>\n      <use xlink:href=\"#DejaVuSans-43\" transform=\"translate(860.742188 0.125)\"/>\n      <use xlink:href=\"#DejaVuSans-20\" transform=\"translate(930.566406 0.125)\"/>\n      <use xlink:href=\"#DejaVuSans-3d\" transform=\"translate(962.353516 0.125)\"/>\n      <use xlink:href=\"#DejaVuSans-20\" transform=\"translate(1046.142578 0.125)\"/>\n      <use xlink:href=\"#DejaVuSans-30\" transform=\"translate(1077.929688 0.125)\"/>\n      <use xlink:href=\"#DejaVuSans-2e\" transform=\"translate(1141.552734 0.125)\"/>\n      <use xlink:href=\"#DejaVuSans-39\" transform=\"translate(1173.339844 0.125)\"/>\n      <use xlink:href=\"#DejaVuSans-34\" transform=\"translate(1236.962891 0.125)\"/>\n      <use xlink:href=\"#DejaVuSans-20\" transform=\"translate(1300.585938 0.125)\"/>\n      <use xlink:href=\"#DejaVuSans-b1\" transform=\"translate(1332.373047 0.125)\"/>\n      <use xlink:href=\"#DejaVuSans-20\" transform=\"translate(1416.162109 0.125)\"/>\n      <use xlink:href=\"#DejaVuSans-30\" transform=\"translate(1447.949219 0.125)\"/>\n      <use xlink:href=\"#DejaVuSans-2e\" transform=\"translate(1511.572266 0.125)\"/>\n      <use xlink:href=\"#DejaVuSans-30\" transform=\"translate(1543.359375 0.125)\"/>\n      <use xlink:href=\"#DejaVuSans-32\" transform=\"translate(1606.982422 0.125)\"/>\n      <use xlink:href=\"#DejaVuSans-29\" transform=\"translate(1670.605469 0.125)\"/>\n     </g>\n    </g>\n    <g id=\"line2d_128\">\n     <path d=\"M 79.78125 832.183359 \nL 87.28125 832.183359 \nL 94.78125 832.183359 \n\" style=\"fill: none; stroke-dasharray: 7.4,3.2; stroke-dashoffset: 0; stroke: #ff0000; stroke-opacity: 0.8; stroke-width: 2\"/>\n    </g>\n    <g id=\"text_136\">\n     <!-- Random -->\n     <g transform=\"translate(100.78125 834.808359)scale(0.075 -0.075)\">\n      <use xlink:href=\"#DejaVuSans-52\"/>\n      <use xlink:href=\"#DejaVuSans-61\" x=\"67.232422\"/>\n      <use xlink:href=\"#DejaVuSans-6e\" x=\"128.511719\"/>\n      <use xlink:href=\"#DejaVuSans-64\" x=\"191.890625\"/>\n      <use xlink:href=\"#DejaVuSans-6f\" x=\"255.367188\"/>\n      <use xlink:href=\"#DejaVuSans-6d\" x=\"316.548828\"/>\n     </g>\n    </g>\n   </g>\n  </g>\n  <g id=\"axes_9\">\n   <g id=\"patch_50\">\n    <path d=\"M 293.38125 625.35486 \nL 485.38125 625.35486 \nL 485.38125 457.844656 \nL 293.38125 457.844656 \nz\n\" style=\"fill: #ffffff\"/>\n   </g>\n   <g id=\"PolyCollection_3\">\n    <defs>\n     <path id=\"mfac7ee6a2d\" d=\"M 302.108523 -262.933615 \nL 302.108523 -262.933615 \nL 303.853977 -298.679808 \nL 305.599432 -339.267918 \nL 307.344886 -372.772345 \nL 309.090341 -392.146164 \nL 310.835795 -400.996251 \nL 312.58125 -406.812754 \nL 314.326705 -408.41513 \nL 316.072159 -408.488253 \nL 317.817614 -408.561377 \nL 319.563068 -408.634501 \nL 321.308523 -408.707624 \nL 323.053977 -408.780748 \nL 324.799432 -408.853871 \nL 326.544886 -408.926995 \nL 328.290341 -409.000118 \nL 330.035795 -409.073242 \nL 331.78125 -409.146365 \nL 333.526705 -409.219489 \nL 335.272159 -409.292612 \nL 337.017614 -409.365736 \nL 338.763068 -409.43886 \nL 340.508523 -409.511983 \nL 342.253977 -409.585107 \nL 343.999432 -409.65823 \nL 345.744886 -409.731354 \nL 347.490341 -409.804477 \nL 349.235795 -409.877601 \nL 350.98125 -409.950724 \nL 352.726705 -410.023848 \nL 354.472159 -410.096971 \nL 356.217614 -410.170095 \nL 357.963068 -410.243218 \nL 359.708523 -410.316342 \nL 361.453977 -410.389466 \nL 363.199432 -410.462589 \nL 364.944886 -410.535713 \nL 366.690341 -410.608836 \nL 368.435795 -410.68196 \nL 370.18125 -410.755083 \nL 371.926705 -410.828207 \nL 373.672159 -410.90133 \nL 375.417614 -410.974454 \nL 377.163068 -411.047577 \nL 378.908523 -411.120701 \nL 380.653977 -411.193824 \nL 382.399432 -411.266948 \nL 384.144886 -411.340072 \nL 385.890341 -411.413195 \nL 387.635795 -411.486319 \nL 389.38125 -411.559442 \nL 391.126705 -411.632566 \nL 392.872159 -411.705689 \nL 394.617614 -411.778813 \nL 396.363068 -411.851936 \nL 398.108523 -411.92506 \nL 399.853977 -411.998183 \nL 401.599432 -412.071307 \nL 403.344886 -412.144431 \nL 405.090341 -412.217554 \nL 406.835795 -412.290678 \nL 408.58125 -412.363801 \nL 410.326705 -412.436925 \nL 412.072159 -412.510048 \nL 413.817614 -412.583172 \nL 415.563068 -412.656295 \nL 417.308523 -412.729419 \nL 419.053977 -412.802542 \nL 420.799432 -412.875666 \nL 422.544886 -412.948789 \nL 424.290341 -413.021913 \nL 426.035795 -413.095037 \nL 427.78125 -413.16816 \nL 429.526705 -413.241284 \nL 431.272159 -413.314407 \nL 433.017614 -413.387531 \nL 434.763068 -413.460654 \nL 436.508523 -413.533778 \nL 438.253977 -413.606901 \nL 439.999432 -413.680025 \nL 441.744886 -413.753148 \nL 443.490341 -413.826272 \nL 445.235795 -413.899395 \nL 446.98125 -413.972519 \nL 448.726705 -414.045643 \nL 450.472159 -414.118766 \nL 452.217614 -414.19189 \nL 453.963068 -414.265013 \nL 455.708523 -414.338137 \nL 457.453977 -414.41126 \nL 459.199432 -414.484384 \nL 460.944886 -414.557507 \nL 462.690341 -414.630631 \nL 464.435795 -414.703754 \nL 466.18125 -414.776878 \nL 467.926705 -414.850002 \nL 469.672159 -414.923125 \nL 471.417614 -414.996249 \nL 473.163068 -415.069372 \nL 474.908523 -415.142496 \nL 476.653977 -415.215619 \nL 476.653977 -415.215619 \nL 476.653977 -415.215619 \nL 474.908523 -415.210486 \nL 473.163068 -415.205353 \nL 471.417614 -415.20022 \nL 469.672159 -415.195087 \nL 467.926705 -415.189954 \nL 466.18125 -415.184821 \nL 464.435795 -415.179688 \nL 462.690341 -415.174555 \nL 460.944886 -415.169422 \nL 459.199432 -415.164289 \nL 457.453977 -415.159156 \nL 455.708523 -415.154023 \nL 453.963068 -415.14889 \nL 452.217614 -415.143757 \nL 450.472159 -415.138624 \nL 448.726705 -415.133492 \nL 446.98125 -415.128359 \nL 445.235795 -415.123226 \nL 443.490341 -415.118093 \nL 441.744886 -415.11296 \nL 439.999432 -415.107827 \nL 438.253977 -415.102694 \nL 436.508523 -415.097561 \nL 434.763068 -415.092428 \nL 433.017614 -415.087295 \nL 431.272159 -415.082162 \nL 429.526705 -415.077029 \nL 427.78125 -415.071896 \nL 426.035795 -415.066763 \nL 424.290341 -415.06163 \nL 422.544886 -415.056497 \nL 420.799432 -415.051364 \nL 419.053977 -415.046231 \nL 417.308523 -415.041098 \nL 415.563068 -415.035965 \nL 413.817614 -415.030832 \nL 412.072159 -415.025699 \nL 410.326705 -415.020566 \nL 408.58125 -415.015433 \nL 406.835795 -415.0103 \nL 405.090341 -415.005167 \nL 403.344886 -415.000034 \nL 401.599432 -414.994901 \nL 399.853977 -414.989768 \nL 398.108523 -414.984635 \nL 396.363068 -414.979502 \nL 394.617614 -414.974369 \nL 392.872159 -414.969236 \nL 391.126705 -414.964103 \nL 389.38125 -414.95897 \nL 387.635795 -414.953837 \nL 385.890341 -414.948704 \nL 384.144886 -414.943571 \nL 382.399432 -414.938438 \nL 380.653977 -414.933305 \nL 378.908523 -414.928172 \nL 377.163068 -414.923039 \nL 375.417614 -414.917906 \nL 373.672159 -414.912773 \nL 371.926705 -414.90764 \nL 370.18125 -414.902507 \nL 368.435795 -414.897374 \nL 366.690341 -414.892241 \nL 364.944886 -414.887108 \nL 363.199432 -414.881975 \nL 361.453977 -414.876842 \nL 359.708523 -414.87171 \nL 357.963068 -414.866577 \nL 356.217614 -414.861444 \nL 354.472159 -414.856311 \nL 352.726705 -414.851178 \nL 350.98125 -414.846045 \nL 349.235795 -414.840912 \nL 347.490341 -414.835779 \nL 345.744886 -414.830646 \nL 343.999432 -414.825513 \nL 342.253977 -414.82038 \nL 340.508523 -414.815247 \nL 338.763068 -414.810114 \nL 337.017614 -414.804981 \nL 335.272159 -414.799848 \nL 333.526705 -414.794715 \nL 331.78125 -414.789582 \nL 330.035795 -414.784449 \nL 328.290341 -414.779316 \nL 326.544886 -414.774183 \nL 324.799432 -414.76905 \nL 323.053977 -414.763917 \nL 321.308523 -414.758784 \nL 319.563068 -414.753651 \nL 317.817614 -414.748518 \nL 316.072159 -414.743385 \nL 314.326705 -414.738252 \nL 312.58125 -415.215619 \nL 310.835795 -415.215619 \nL 309.090341 -415.215619 \nL 307.344886 -415.215619 \nL 305.599432 -413.783246 \nL 303.853977 -362.666682 \nL 302.108523 -262.933615 \nz\n\" style=\"stroke: #0000ff; stroke-opacity: 0.2\"/>\n    </defs>\n    <g clip-path=\"url(#p3b00bd8b2d)\">\n     <use xlink:href=\"#mfac7ee6a2d\" x=\"0\" y=\"880.674375\" style=\"fill: #0000ff; fill-opacity: 0.2; stroke: #0000ff; stroke-opacity: 0.2\"/>\n    </g>\n   </g>\n   <g id=\"matplotlib.axis_17\">\n    <g id=\"xtick_37\">\n     <g id=\"line2d_129\">\n      <g>\n       <use xlink:href=\"#m449907e01c\" x=\"302.108523\" y=\"625.35486\" style=\"stroke: #000000; stroke-width: 0.8\"/>\n      </g>\n     </g>\n     <g id=\"text_137\">\n      <!-- 0.0 -->\n      <g transform=\"translate(294.15696 639.953297)scale(0.1 -0.1)\">\n       <use xlink:href=\"#DejaVuSans-30\"/>\n       <use xlink:href=\"#DejaVuSans-2e\" x=\"63.623047\"/>\n       <use xlink:href=\"#DejaVuSans-30\" x=\"95.410156\"/>\n      </g>\n     </g>\n    </g>\n    <g id=\"xtick_38\">\n     <g id=\"line2d_130\">\n      <g>\n       <use xlink:href=\"#m449907e01c\" x=\"337.017614\" y=\"625.35486\" style=\"stroke: #000000; stroke-width: 0.8\"/>\n      </g>\n     </g>\n     <g id=\"text_138\">\n      <!-- 0.2 -->\n      <g transform=\"translate(329.066051 639.953297)scale(0.1 -0.1)\">\n       <use xlink:href=\"#DejaVuSans-30\"/>\n       <use xlink:href=\"#DejaVuSans-2e\" x=\"63.623047\"/>\n       <use xlink:href=\"#DejaVuSans-32\" x=\"95.410156\"/>\n      </g>\n     </g>\n    </g>\n    <g id=\"xtick_39\">\n     <g id=\"line2d_131\">\n      <g>\n       <use xlink:href=\"#m449907e01c\" x=\"371.926705\" y=\"625.35486\" style=\"stroke: #000000; stroke-width: 0.8\"/>\n      </g>\n     </g>\n     <g id=\"text_139\">\n      <!-- 0.4 -->\n      <g transform=\"translate(363.975142 639.953297)scale(0.1 -0.1)\">\n       <use xlink:href=\"#DejaVuSans-30\"/>\n       <use xlink:href=\"#DejaVuSans-2e\" x=\"63.623047\"/>\n       <use xlink:href=\"#DejaVuSans-34\" x=\"95.410156\"/>\n      </g>\n     </g>\n    </g>\n    <g id=\"xtick_40\">\n     <g id=\"line2d_132\">\n      <g>\n       <use xlink:href=\"#m449907e01c\" x=\"406.835795\" y=\"625.35486\" style=\"stroke: #000000; stroke-width: 0.8\"/>\n      </g>\n     </g>\n     <g id=\"text_140\">\n      <!-- 0.6 -->\n      <g transform=\"translate(398.884233 639.953297)scale(0.1 -0.1)\">\n       <use xlink:href=\"#DejaVuSans-30\"/>\n       <use xlink:href=\"#DejaVuSans-2e\" x=\"63.623047\"/>\n       <use xlink:href=\"#DejaVuSans-36\" x=\"95.410156\"/>\n      </g>\n     </g>\n    </g>\n    <g id=\"xtick_41\">\n     <g id=\"line2d_133\">\n      <g>\n       <use xlink:href=\"#m449907e01c\" x=\"441.744886\" y=\"625.35486\" style=\"stroke: #000000; stroke-width: 0.8\"/>\n      </g>\n     </g>\n     <g id=\"text_141\">\n      <!-- 0.8 -->\n      <g transform=\"translate(433.793324 639.953297)scale(0.1 -0.1)\">\n       <use xlink:href=\"#DejaVuSans-30\"/>\n       <use xlink:href=\"#DejaVuSans-2e\" x=\"63.623047\"/>\n       <use xlink:href=\"#DejaVuSans-38\" x=\"95.410156\"/>\n      </g>\n     </g>\n    </g>\n    <g id=\"xtick_42\">\n     <g id=\"line2d_134\">\n      <g>\n       <use xlink:href=\"#m449907e01c\" x=\"476.653977\" y=\"625.35486\" style=\"stroke: #000000; stroke-width: 0.8\"/>\n      </g>\n     </g>\n     <g id=\"text_142\">\n      <!-- 1.0 -->\n      <g transform=\"translate(468.702415 639.953297)scale(0.1 -0.1)\">\n       <use xlink:href=\"#DejaVuSans-31\"/>\n       <use xlink:href=\"#DejaVuSans-2e\" x=\"63.623047\"/>\n       <use xlink:href=\"#DejaVuSans-30\" x=\"95.410156\"/>\n      </g>\n     </g>\n    </g>\n    <g id=\"text_143\">\n     <!-- False Positive Rate -->\n     <g transform=\"translate(342.914844 653.631422)scale(0.1 -0.1)\">\n      <use xlink:href=\"#DejaVuSans-46\"/>\n      <use xlink:href=\"#DejaVuSans-61\" x=\"48.394531\"/>\n      <use xlink:href=\"#DejaVuSans-6c\" x=\"109.673828\"/>\n      <use xlink:href=\"#DejaVuSans-73\" x=\"137.457031\"/>\n      <use xlink:href=\"#DejaVuSans-65\" x=\"189.556641\"/>\n      <use xlink:href=\"#DejaVuSans-20\" x=\"251.080078\"/>\n      <use xlink:href=\"#DejaVuSans-50\" x=\"282.867188\"/>\n      <use xlink:href=\"#DejaVuSans-6f\" x=\"339.544922\"/>\n      <use xlink:href=\"#DejaVuSans-73\" x=\"400.726562\"/>\n      <use xlink:href=\"#DejaVuSans-69\" x=\"452.826172\"/>\n      <use xlink:href=\"#DejaVuSans-74\" x=\"480.609375\"/>\n      <use xlink:href=\"#DejaVuSans-69\" x=\"519.818359\"/>\n      <use xlink:href=\"#DejaVuSans-76\" x=\"547.601562\"/>\n      <use xlink:href=\"#DejaVuSans-65\" x=\"606.78125\"/>\n      <use xlink:href=\"#DejaVuSans-20\" x=\"668.304688\"/>\n      <use xlink:href=\"#DejaVuSans-52\" x=\"700.091797\"/>\n      <use xlink:href=\"#DejaVuSans-61\" x=\"767.324219\"/>\n      <use xlink:href=\"#DejaVuSans-74\" x=\"828.603516\"/>\n      <use xlink:href=\"#DejaVuSans-65\" x=\"867.8125\"/>\n     </g>\n    </g>\n   </g>\n   <g id=\"matplotlib.axis_18\">\n    <g id=\"ytick_61\">\n     <g id=\"line2d_135\">\n      <g>\n       <use xlink:href=\"#mf950be4dbd\" x=\"293.38125\" y=\"617.74076\" style=\"stroke: #000000; stroke-width: 0.8\"/>\n      </g>\n     </g>\n     <g id=\"text_144\">\n      <!-- 0.0 -->\n      <g transform=\"translate(270.478125 621.539978)scale(0.1 -0.1)\">\n       <use xlink:href=\"#DejaVuSans-30\"/>\n       <use xlink:href=\"#DejaVuSans-2e\" x=\"63.623047\"/>\n       <use xlink:href=\"#DejaVuSans-30\" x=\"95.410156\"/>\n      </g>\n     </g>\n    </g>\n    <g id=\"ytick_62\">\n     <g id=\"line2d_136\">\n      <g>\n       <use xlink:href=\"#mf950be4dbd\" x=\"293.38125\" y=\"587.284359\" style=\"stroke: #000000; stroke-width: 0.8\"/>\n      </g>\n     </g>\n     <g id=\"text_145\">\n      <!-- 0.2 -->\n      <g transform=\"translate(270.478125 591.083578)scale(0.1 -0.1)\">\n       <use xlink:href=\"#DejaVuSans-30\"/>\n       <use xlink:href=\"#DejaVuSans-2e\" x=\"63.623047\"/>\n       <use xlink:href=\"#DejaVuSans-32\" x=\"95.410156\"/>\n      </g>\n     </g>\n    </g>\n    <g id=\"ytick_63\">\n     <g id=\"line2d_137\">\n      <g>\n       <use xlink:href=\"#mf950be4dbd\" x=\"293.38125\" y=\"556.827958\" style=\"stroke: #000000; stroke-width: 0.8\"/>\n      </g>\n     </g>\n     <g id=\"text_146\">\n      <!-- 0.4 -->\n      <g transform=\"translate(270.478125 560.627177)scale(0.1 -0.1)\">\n       <use xlink:href=\"#DejaVuSans-30\"/>\n       <use xlink:href=\"#DejaVuSans-2e\" x=\"63.623047\"/>\n       <use xlink:href=\"#DejaVuSans-34\" x=\"95.410156\"/>\n      </g>\n     </g>\n    </g>\n    <g id=\"ytick_64\">\n     <g id=\"line2d_138\">\n      <g>\n       <use xlink:href=\"#mf950be4dbd\" x=\"293.38125\" y=\"526.371557\" style=\"stroke: #000000; stroke-width: 0.8\"/>\n      </g>\n     </g>\n     <g id=\"text_147\">\n      <!-- 0.6 -->\n      <g transform=\"translate(270.478125 530.170776)scale(0.1 -0.1)\">\n       <use xlink:href=\"#DejaVuSans-30\"/>\n       <use xlink:href=\"#DejaVuSans-2e\" x=\"63.623047\"/>\n       <use xlink:href=\"#DejaVuSans-36\" x=\"95.410156\"/>\n      </g>\n     </g>\n    </g>\n    <g id=\"ytick_65\">\n     <g id=\"line2d_139\">\n      <g>\n       <use xlink:href=\"#mf950be4dbd\" x=\"293.38125\" y=\"495.915157\" style=\"stroke: #000000; stroke-width: 0.8\"/>\n      </g>\n     </g>\n     <g id=\"text_148\">\n      <!-- 0.8 -->\n      <g transform=\"translate(270.478125 499.714375)scale(0.1 -0.1)\">\n       <use xlink:href=\"#DejaVuSans-30\"/>\n       <use xlink:href=\"#DejaVuSans-2e\" x=\"63.623047\"/>\n       <use xlink:href=\"#DejaVuSans-38\" x=\"95.410156\"/>\n      </g>\n     </g>\n    </g>\n    <g id=\"ytick_66\">\n     <g id=\"line2d_140\">\n      <g>\n       <use xlink:href=\"#mf950be4dbd\" x=\"293.38125\" y=\"465.458756\" style=\"stroke: #000000; stroke-width: 0.8\"/>\n      </g>\n     </g>\n     <g id=\"text_149\">\n      <!-- 1.0 -->\n      <g transform=\"translate(270.478125 469.257975)scale(0.1 -0.1)\">\n       <use xlink:href=\"#DejaVuSans-31\"/>\n       <use xlink:href=\"#DejaVuSans-2e\" x=\"63.623047\"/>\n       <use xlink:href=\"#DejaVuSans-30\" x=\"95.410156\"/>\n      </g>\n     </g>\n    </g>\n    <g id=\"text_150\">\n     <!-- True Positive Rate -->\n     <g transform=\"translate(264.398438 586.129445)rotate(-90)scale(0.1 -0.1)\">\n      <use xlink:href=\"#DejaVuSans-54\"/>\n      <use xlink:href=\"#DejaVuSans-72\" x=\"46.333984\"/>\n      <use xlink:href=\"#DejaVuSans-75\" x=\"87.447266\"/>\n      <use xlink:href=\"#DejaVuSans-65\" x=\"150.826172\"/>\n      <use xlink:href=\"#DejaVuSans-20\" x=\"212.349609\"/>\n      <use xlink:href=\"#DejaVuSans-50\" x=\"244.136719\"/>\n      <use xlink:href=\"#DejaVuSans-6f\" x=\"300.814453\"/>\n      <use xlink:href=\"#DejaVuSans-73\" x=\"361.996094\"/>\n      <use xlink:href=\"#DejaVuSans-69\" x=\"414.095703\"/>\n      <use xlink:href=\"#DejaVuSans-74\" x=\"441.878906\"/>\n      <use xlink:href=\"#DejaVuSans-69\" x=\"481.087891\"/>\n      <use xlink:href=\"#DejaVuSans-76\" x=\"508.871094\"/>\n      <use xlink:href=\"#DejaVuSans-65\" x=\"568.050781\"/>\n      <use xlink:href=\"#DejaVuSans-20\" x=\"629.574219\"/>\n      <use xlink:href=\"#DejaVuSans-52\" x=\"661.361328\"/>\n      <use xlink:href=\"#DejaVuSans-61\" x=\"728.59375\"/>\n      <use xlink:href=\"#DejaVuSans-74\" x=\"789.873047\"/>\n      <use xlink:href=\"#DejaVuSans-65\" x=\"829.082031\"/>\n     </g>\n    </g>\n   </g>\n   <g id=\"line2d_141\">\n    <path d=\"M 302.108523 617.74076 \nL 303.853977 550.00113 \nL 305.599432 504.148793 \nL 307.344886 484.647901 \nL 309.090341 474.264077 \nL 310.835795 470.855581 \nL 312.58125 469.571543 \nL 314.326705 469.097684 \nL 316.072159 469.058556 \nL 317.817614 469.019428 \nL 319.563068 468.980299 \nL 321.308523 468.941171 \nL 323.053977 468.902043 \nL 324.799432 468.862914 \nL 326.544886 468.823786 \nL 328.290341 468.784658 \nL 330.035795 468.74553 \nL 331.78125 468.706401 \nL 333.526705 468.667273 \nL 335.272159 468.628145 \nL 337.017614 468.589017 \nL 338.763068 468.549888 \nL 340.508523 468.51076 \nL 342.253977 468.471632 \nL 343.999432 468.432504 \nL 345.744886 468.393375 \nL 347.490341 468.354247 \nL 349.235795 468.315119 \nL 350.98125 468.275991 \nL 352.726705 468.236862 \nL 354.472159 468.197734 \nL 356.217614 468.158606 \nL 357.963068 468.119478 \nL 359.708523 468.080349 \nL 361.453977 468.041221 \nL 363.199432 468.002093 \nL 364.944886 467.962964 \nL 366.690341 467.923836 \nL 368.435795 467.884708 \nL 370.18125 467.84558 \nL 371.926705 467.806451 \nL 373.672159 467.767323 \nL 375.417614 467.728195 \nL 377.163068 467.689067 \nL 378.908523 467.649938 \nL 380.653977 467.61081 \nL 382.399432 467.571682 \nL 384.144886 467.532554 \nL 385.890341 467.493425 \nL 387.635795 467.454297 \nL 389.38125 467.415169 \nL 391.126705 467.376041 \nL 392.872159 467.336912 \nL 394.617614 467.297784 \nL 396.363068 467.258656 \nL 398.108523 467.219528 \nL 399.853977 467.180399 \nL 401.599432 467.141271 \nL 403.344886 467.102143 \nL 405.090341 467.063014 \nL 406.835795 467.023886 \nL 408.58125 466.984758 \nL 410.326705 466.94563 \nL 412.072159 466.906501 \nL 413.817614 466.867373 \nL 415.563068 466.828245 \nL 417.308523 466.789117 \nL 419.053977 466.749988 \nL 420.799432 466.71086 \nL 422.544886 466.671732 \nL 424.290341 466.632604 \nL 426.035795 466.593475 \nL 427.78125 466.554347 \nL 429.526705 466.515219 \nL 431.272159 466.476091 \nL 433.017614 466.436962 \nL 434.763068 466.397834 \nL 436.508523 466.358706 \nL 438.253977 466.319578 \nL 439.999432 466.280449 \nL 441.744886 466.241321 \nL 443.490341 466.202193 \nL 445.235795 466.163064 \nL 446.98125 466.123936 \nL 448.726705 466.084808 \nL 450.472159 466.04568 \nL 452.217614 466.006551 \nL 453.963068 465.967423 \nL 455.708523 465.928295 \nL 457.453977 465.889167 \nL 459.199432 465.850038 \nL 460.944886 465.81091 \nL 462.690341 465.771782 \nL 464.435795 465.732654 \nL 466.18125 465.693525 \nL 467.926705 465.654397 \nL 469.672159 465.615269 \nL 471.417614 465.576141 \nL 473.163068 465.537012 \nL 474.908523 465.497884 \nL 476.653977 465.458756 \n\" clip-path=\"url(#p3b00bd8b2d)\" style=\"fill: none; stroke: #0000ff; stroke-opacity: 0.8; stroke-width: 1.5; stroke-linecap: square\"/>\n   </g>\n   <g id=\"line2d_142\">\n    <path d=\"M 302.108523 617.74076 \nL 476.653977 465.458756 \n\" clip-path=\"url(#p3b00bd8b2d)\" style=\"fill: none; stroke-dasharray: 7.4,3.2; stroke-dashoffset: 0; stroke: #ff0000; stroke-opacity: 0.8; stroke-width: 2\"/>\n   </g>\n   <g id=\"patch_51\">\n    <path d=\"M 293.38125 625.35486 \nL 293.38125 457.844656 \n\" style=\"fill: none; stroke: #000000; stroke-width: 0.8; stroke-linejoin: miter; stroke-linecap: square\"/>\n   </g>\n   <g id=\"patch_52\">\n    <path d=\"M 485.38125 625.35486 \nL 485.38125 457.844656 \n\" style=\"fill: none; stroke: #000000; stroke-width: 0.8; stroke-linejoin: miter; stroke-linecap: square\"/>\n   </g>\n   <g id=\"patch_53\">\n    <path d=\"M 293.38125 625.35486 \nL 485.38125 625.35486 \n\" style=\"fill: none; stroke: #000000; stroke-width: 0.8; stroke-linejoin: miter; stroke-linecap: square\"/>\n   </g>\n   <g id=\"patch_54\">\n    <path d=\"M 293.38125 457.844656 \nL 485.38125 457.844656 \n\" style=\"fill: none; stroke: #000000; stroke-width: 0.8; stroke-linejoin: miter; stroke-linecap: square\"/>\n   </g>\n   <g id=\"text_151\">\n    <!-- GAT flux- -->\n    <g transform=\"translate(293.38125 451.844656)scale(0.12 -0.12)\">\n     <use xlink:href=\"#DejaVuSans-Bold-47\"/>\n     <use xlink:href=\"#DejaVuSans-Bold-41\" x=\"82.080078\"/>\n     <use xlink:href=\"#DejaVuSans-Bold-54\" x=\"151.722656\"/>\n     <use xlink:href=\"#DejaVuSans-Bold-20\" x=\"219.935547\"/>\n     <use xlink:href=\"#DejaVuSans-Bold-66\" x=\"254.75\"/>\n     <use xlink:href=\"#DejaVuSans-Bold-6c\" x=\"298.255859\"/>\n     <use xlink:href=\"#DejaVuSans-Bold-75\" x=\"332.533203\"/>\n     <use xlink:href=\"#DejaVuSans-Bold-78\" x=\"403.724609\"/>\n     <use xlink:href=\"#DejaVuSans-Bold-2d\" x=\"468.226562\"/>\n    </g>\n   </g>\n   <g id=\"legend_9\">\n    <g id=\"patch_55\">\n     <path d=\"M 327.88125 621.60486 \nL 480.13125 621.60486 \nQ 481.63125 621.60486 481.63125 620.10486 \nL 481.63125 598.837672 \nQ 481.63125 597.337672 480.13125 597.337672 \nL 327.88125 597.337672 \nQ 326.38125 597.337672 326.38125 598.837672 \nL 326.38125 620.10486 \nQ 326.38125 621.60486 327.88125 621.60486 \nz\n\" style=\"fill: #ffffff; opacity: 0.8; stroke: #cccccc; stroke-linejoin: miter\"/>\n    </g>\n    <g id=\"line2d_143\">\n     <path d=\"M 329.38125 603.4115 \nL 336.88125 603.4115 \nL 344.38125 603.4115 \n\" style=\"fill: none; stroke: #0000ff; stroke-opacity: 0.8; stroke-width: 1.5; stroke-linecap: square\"/>\n    </g>\n    <g id=\"text_152\">\n     <!-- Test set ROC (AUC = 0.97 $\\pm$ 0.01) -->\n     <g transform=\"translate(350.38125 606.0365)scale(0.075 -0.075)\">\n      <use xlink:href=\"#DejaVuSans-54\" transform=\"translate(0 0.125)\"/>\n      <use xlink:href=\"#DejaVuSans-65\" transform=\"translate(61.083984 0.125)\"/>\n      <use xlink:href=\"#DejaVuSans-73\" transform=\"translate(122.607422 0.125)\"/>\n      <use xlink:href=\"#DejaVuSans-74\" transform=\"translate(174.707031 0.125)\"/>\n      <use xlink:href=\"#DejaVuSans-20\" transform=\"translate(213.916016 0.125)\"/>\n      <use xlink:href=\"#DejaVuSans-73\" transform=\"translate(245.703125 0.125)\"/>\n      <use xlink:href=\"#DejaVuSans-65\" transform=\"translate(297.802734 0.125)\"/>\n      <use xlink:href=\"#DejaVuSans-74\" transform=\"translate(359.326172 0.125)\"/>\n      <use xlink:href=\"#DejaVuSans-20\" transform=\"translate(398.535156 0.125)\"/>\n      <use xlink:href=\"#DejaVuSans-52\" transform=\"translate(430.322266 0.125)\"/>\n      <use xlink:href=\"#DejaVuSans-4f\" transform=\"translate(499.804688 0.125)\"/>\n      <use xlink:href=\"#DejaVuSans-43\" transform=\"translate(578.515625 0.125)\"/>\n      <use xlink:href=\"#DejaVuSans-20\" transform=\"translate(648.339844 0.125)\"/>\n      <use xlink:href=\"#DejaVuSans-28\" transform=\"translate(680.126953 0.125)\"/>\n      <use xlink:href=\"#DejaVuSans-41\" transform=\"translate(719.140625 0.125)\"/>\n      <use xlink:href=\"#DejaVuSans-55\" transform=\"translate(787.548828 0.125)\"/>\n      <use xlink:href=\"#DejaVuSans-43\" transform=\"translate(860.742188 0.125)\"/>\n      <use xlink:href=\"#DejaVuSans-20\" transform=\"translate(930.566406 0.125)\"/>\n      <use xlink:href=\"#DejaVuSans-3d\" transform=\"translate(962.353516 0.125)\"/>\n      <use xlink:href=\"#DejaVuSans-20\" transform=\"translate(1046.142578 0.125)\"/>\n      <use xlink:href=\"#DejaVuSans-30\" transform=\"translate(1077.929688 0.125)\"/>\n      <use xlink:href=\"#DejaVuSans-2e\" transform=\"translate(1141.552734 0.125)\"/>\n      <use xlink:href=\"#DejaVuSans-39\" transform=\"translate(1173.339844 0.125)\"/>\n      <use xlink:href=\"#DejaVuSans-37\" transform=\"translate(1236.962891 0.125)\"/>\n      <use xlink:href=\"#DejaVuSans-20\" transform=\"translate(1300.585938 0.125)\"/>\n      <use xlink:href=\"#DejaVuSans-b1\" transform=\"translate(1332.373047 0.125)\"/>\n      <use xlink:href=\"#DejaVuSans-20\" transform=\"translate(1416.162109 0.125)\"/>\n      <use xlink:href=\"#DejaVuSans-30\" transform=\"translate(1447.949219 0.125)\"/>\n      <use xlink:href=\"#DejaVuSans-2e\" transform=\"translate(1511.572266 0.125)\"/>\n      <use xlink:href=\"#DejaVuSans-30\" transform=\"translate(1543.359375 0.125)\"/>\n      <use xlink:href=\"#DejaVuSans-31\" transform=\"translate(1606.982422 0.125)\"/>\n      <use xlink:href=\"#DejaVuSans-29\" transform=\"translate(1670.605469 0.125)\"/>\n     </g>\n    </g>\n    <g id=\"line2d_144\">\n     <path d=\"M 329.38125 614.420094 \nL 336.88125 614.420094 \nL 344.38125 614.420094 \n\" style=\"fill: none; stroke-dasharray: 7.4,3.2; stroke-dashoffset: 0; stroke: #ff0000; stroke-opacity: 0.8; stroke-width: 2\"/>\n    </g>\n    <g id=\"text_153\">\n     <!-- Random -->\n     <g transform=\"translate(350.38125 617.045094)scale(0.075 -0.075)\">\n      <use xlink:href=\"#DejaVuSans-52\"/>\n      <use xlink:href=\"#DejaVuSans-61\" x=\"67.232422\"/>\n      <use xlink:href=\"#DejaVuSans-6e\" x=\"128.511719\"/>\n      <use xlink:href=\"#DejaVuSans-64\" x=\"191.890625\"/>\n      <use xlink:href=\"#DejaVuSans-6f\" x=\"255.367188\"/>\n      <use xlink:href=\"#DejaVuSans-6d\" x=\"316.548828\"/>\n     </g>\n    </g>\n   </g>\n  </g>\n  <g id=\"axes_10\">\n   <g id=\"patch_56\">\n    <path d=\"M 293.38125 843.118125 \nL 485.38125 843.118125 \nL 485.38125 675.607921 \nL 293.38125 675.607921 \nz\n\" style=\"fill: #ffffff\"/>\n   </g>\n   <g id=\"PolyCollection_4\">\n    <defs>\n     <path id=\"mb742e237c0\" d=\"M 302.108523 -45.17035 \nL 302.108523 -45.17035 \nL 303.853977 -80.916543 \nL 305.599432 -121.504652 \nL 307.344886 -155.00908 \nL 309.090341 -174.382898 \nL 310.835795 -183.232985 \nL 312.58125 -189.049489 \nL 314.326705 -190.651865 \nL 316.072159 -190.724988 \nL 317.817614 -190.798112 \nL 319.563068 -190.871235 \nL 321.308523 -190.944359 \nL 323.053977 -191.017482 \nL 324.799432 -191.090606 \nL 326.544886 -191.163729 \nL 328.290341 -191.236853 \nL 330.035795 -191.309977 \nL 331.78125 -191.3831 \nL 333.526705 -191.456224 \nL 335.272159 -191.529347 \nL 337.017614 -191.602471 \nL 338.763068 -191.675594 \nL 340.508523 -191.748718 \nL 342.253977 -191.821841 \nL 343.999432 -191.894965 \nL 345.744886 -191.968088 \nL 347.490341 -192.041212 \nL 349.235795 -192.114335 \nL 350.98125 -192.187459 \nL 352.726705 -192.260583 \nL 354.472159 -192.333706 \nL 356.217614 -192.40683 \nL 357.963068 -192.479953 \nL 359.708523 -192.553077 \nL 361.453977 -192.6262 \nL 363.199432 -192.699324 \nL 364.944886 -192.772447 \nL 366.690341 -192.845571 \nL 368.435795 -192.918694 \nL 370.18125 -192.991818 \nL 371.926705 -193.064941 \nL 373.672159 -193.138065 \nL 375.417614 -193.211189 \nL 377.163068 -193.284312 \nL 378.908523 -193.357436 \nL 380.653977 -193.430559 \nL 382.399432 -193.503683 \nL 384.144886 -193.576806 \nL 385.890341 -193.64993 \nL 387.635795 -193.723053 \nL 389.38125 -193.796177 \nL 391.126705 -193.8693 \nL 392.872159 -193.942424 \nL 394.617614 -194.015547 \nL 396.363068 -194.088671 \nL 398.108523 -194.161795 \nL 399.853977 -194.234918 \nL 401.599432 -194.308042 \nL 403.344886 -194.381165 \nL 405.090341 -194.454289 \nL 406.835795 -194.527412 \nL 408.58125 -194.600536 \nL 410.326705 -194.673659 \nL 412.072159 -194.746783 \nL 413.817614 -194.819906 \nL 415.563068 -194.89303 \nL 417.308523 -194.966154 \nL 419.053977 -195.039277 \nL 420.799432 -195.112401 \nL 422.544886 -195.185524 \nL 424.290341 -195.258648 \nL 426.035795 -195.331771 \nL 427.78125 -195.404895 \nL 429.526705 -195.478018 \nL 431.272159 -195.551142 \nL 433.017614 -195.624265 \nL 434.763068 -195.697389 \nL 436.508523 -195.770512 \nL 438.253977 -195.843636 \nL 439.999432 -195.91676 \nL 441.744886 -195.989883 \nL 443.490341 -196.063007 \nL 445.235795 -196.13613 \nL 446.98125 -196.209254 \nL 448.726705 -196.282377 \nL 450.472159 -196.355501 \nL 452.217614 -196.428624 \nL 453.963068 -196.501748 \nL 455.708523 -196.574871 \nL 457.453977 -196.647995 \nL 459.199432 -196.721118 \nL 460.944886 -196.794242 \nL 462.690341 -196.867366 \nL 464.435795 -196.940489 \nL 466.18125 -197.013613 \nL 467.926705 -197.086736 \nL 469.672159 -197.15986 \nL 471.417614 -197.232983 \nL 473.163068 -197.306107 \nL 474.908523 -197.37923 \nL 476.653977 -197.452354 \nL 476.653977 -197.452354 \nL 476.653977 -197.452354 \nL 474.908523 -197.447221 \nL 473.163068 -197.442088 \nL 471.417614 -197.436955 \nL 469.672159 -197.431822 \nL 467.926705 -197.426689 \nL 466.18125 -197.421556 \nL 464.435795 -197.416423 \nL 462.690341 -197.41129 \nL 460.944886 -197.406157 \nL 459.199432 -197.401024 \nL 457.453977 -197.395891 \nL 455.708523 -197.390758 \nL 453.963068 -197.385625 \nL 452.217614 -197.380492 \nL 450.472159 -197.375359 \nL 448.726705 -197.370226 \nL 446.98125 -197.365093 \nL 445.235795 -197.35996 \nL 443.490341 -197.354827 \nL 441.744886 -197.349694 \nL 439.999432 -197.344561 \nL 438.253977 -197.339428 \nL 436.508523 -197.334295 \nL 434.763068 -197.329162 \nL 433.017614 -197.324029 \nL 431.272159 -197.318896 \nL 429.526705 -197.313763 \nL 427.78125 -197.30863 \nL 426.035795 -197.303497 \nL 424.290341 -197.298364 \nL 422.544886 -197.293231 \nL 420.799432 -197.288099 \nL 419.053977 -197.282966 \nL 417.308523 -197.277833 \nL 415.563068 -197.2727 \nL 413.817614 -197.267567 \nL 412.072159 -197.262434 \nL 410.326705 -197.257301 \nL 408.58125 -197.252168 \nL 406.835795 -197.247035 \nL 405.090341 -197.241902 \nL 403.344886 -197.236769 \nL 401.599432 -197.231636 \nL 399.853977 -197.226503 \nL 398.108523 -197.22137 \nL 396.363068 -197.216237 \nL 394.617614 -197.211104 \nL 392.872159 -197.205971 \nL 391.126705 -197.200838 \nL 389.38125 -197.195705 \nL 387.635795 -197.190572 \nL 385.890341 -197.185439 \nL 384.144886 -197.180306 \nL 382.399432 -197.175173 \nL 380.653977 -197.17004 \nL 378.908523 -197.164907 \nL 377.163068 -197.159774 \nL 375.417614 -197.154641 \nL 373.672159 -197.149508 \nL 371.926705 -197.144375 \nL 370.18125 -197.139242 \nL 368.435795 -197.134109 \nL 366.690341 -197.128976 \nL 364.944886 -197.123843 \nL 363.199432 -197.11871 \nL 361.453977 -197.113577 \nL 359.708523 -197.108444 \nL 357.963068 -197.103311 \nL 356.217614 -197.098178 \nL 354.472159 -197.093045 \nL 352.726705 -197.087912 \nL 350.98125 -197.082779 \nL 349.235795 -197.077646 \nL 347.490341 -197.072513 \nL 345.744886 -197.06738 \nL 343.999432 -197.062247 \nL 342.253977 -197.057114 \nL 340.508523 -197.051981 \nL 338.763068 -197.046848 \nL 337.017614 -197.041715 \nL 335.272159 -197.036582 \nL 333.526705 -197.031449 \nL 331.78125 -197.026317 \nL 330.035795 -197.021184 \nL 328.290341 -197.016051 \nL 326.544886 -197.010918 \nL 324.799432 -197.005785 \nL 323.053977 -197.000652 \nL 321.308523 -196.995519 \nL 319.563068 -196.990386 \nL 317.817614 -196.985253 \nL 316.072159 -196.98012 \nL 314.326705 -196.974987 \nL 312.58125 -197.452354 \nL 310.835795 -197.452354 \nL 309.090341 -197.452354 \nL 307.344886 -197.452354 \nL 305.599432 -196.019981 \nL 303.853977 -144.903417 \nL 302.108523 -45.17035 \nz\n\" style=\"stroke: #0000ff; stroke-opacity: 0.2\"/>\n    </defs>\n    <g clip-path=\"url(#pc4bbea53a4)\">\n     <use xlink:href=\"#mb742e237c0\" x=\"0\" y=\"880.674375\" style=\"fill: #0000ff; fill-opacity: 0.2; stroke: #0000ff; stroke-opacity: 0.2\"/>\n    </g>\n   </g>\n   <g id=\"matplotlib.axis_19\">\n    <g id=\"xtick_43\">\n     <g id=\"line2d_145\">\n      <g>\n       <use xlink:href=\"#m449907e01c\" x=\"302.108523\" y=\"843.118125\" style=\"stroke: #000000; stroke-width: 0.8\"/>\n      </g>\n     </g>\n     <g id=\"text_154\">\n      <!-- 0.0 -->\n      <g transform=\"translate(294.15696 857.716562)scale(0.1 -0.1)\">\n       <use xlink:href=\"#DejaVuSans-30\"/>\n       <use xlink:href=\"#DejaVuSans-2e\" x=\"63.623047\"/>\n       <use xlink:href=\"#DejaVuSans-30\" x=\"95.410156\"/>\n      </g>\n     </g>\n    </g>\n    <g id=\"xtick_44\">\n     <g id=\"line2d_146\">\n      <g>\n       <use xlink:href=\"#m449907e01c\" x=\"337.017614\" y=\"843.118125\" style=\"stroke: #000000; stroke-width: 0.8\"/>\n      </g>\n     </g>\n     <g id=\"text_155\">\n      <!-- 0.2 -->\n      <g transform=\"translate(329.066051 857.716562)scale(0.1 -0.1)\">\n       <use xlink:href=\"#DejaVuSans-30\"/>\n       <use xlink:href=\"#DejaVuSans-2e\" x=\"63.623047\"/>\n       <use xlink:href=\"#DejaVuSans-32\" x=\"95.410156\"/>\n      </g>\n     </g>\n    </g>\n    <g id=\"xtick_45\">\n     <g id=\"line2d_147\">\n      <g>\n       <use xlink:href=\"#m449907e01c\" x=\"371.926705\" y=\"843.118125\" style=\"stroke: #000000; stroke-width: 0.8\"/>\n      </g>\n     </g>\n     <g id=\"text_156\">\n      <!-- 0.4 -->\n      <g transform=\"translate(363.975142 857.716562)scale(0.1 -0.1)\">\n       <use xlink:href=\"#DejaVuSans-30\"/>\n       <use xlink:href=\"#DejaVuSans-2e\" x=\"63.623047\"/>\n       <use xlink:href=\"#DejaVuSans-34\" x=\"95.410156\"/>\n      </g>\n     </g>\n    </g>\n    <g id=\"xtick_46\">\n     <g id=\"line2d_148\">\n      <g>\n       <use xlink:href=\"#m449907e01c\" x=\"406.835795\" y=\"843.118125\" style=\"stroke: #000000; stroke-width: 0.8\"/>\n      </g>\n     </g>\n     <g id=\"text_157\">\n      <!-- 0.6 -->\n      <g transform=\"translate(398.884233 857.716562)scale(0.1 -0.1)\">\n       <use xlink:href=\"#DejaVuSans-30\"/>\n       <use xlink:href=\"#DejaVuSans-2e\" x=\"63.623047\"/>\n       <use xlink:href=\"#DejaVuSans-36\" x=\"95.410156\"/>\n      </g>\n     </g>\n    </g>\n    <g id=\"xtick_47\">\n     <g id=\"line2d_149\">\n      <g>\n       <use xlink:href=\"#m449907e01c\" x=\"441.744886\" y=\"843.118125\" style=\"stroke: #000000; stroke-width: 0.8\"/>\n      </g>\n     </g>\n     <g id=\"text_158\">\n      <!-- 0.8 -->\n      <g transform=\"translate(433.793324 857.716562)scale(0.1 -0.1)\">\n       <use xlink:href=\"#DejaVuSans-30\"/>\n       <use xlink:href=\"#DejaVuSans-2e\" x=\"63.623047\"/>\n       <use xlink:href=\"#DejaVuSans-38\" x=\"95.410156\"/>\n      </g>\n     </g>\n    </g>\n    <g id=\"xtick_48\">\n     <g id=\"line2d_150\">\n      <g>\n       <use xlink:href=\"#m449907e01c\" x=\"476.653977\" y=\"843.118125\" style=\"stroke: #000000; stroke-width: 0.8\"/>\n      </g>\n     </g>\n     <g id=\"text_159\">\n      <!-- 1.0 -->\n      <g transform=\"translate(468.702415 857.716562)scale(0.1 -0.1)\">\n       <use xlink:href=\"#DejaVuSans-31\"/>\n       <use xlink:href=\"#DejaVuSans-2e\" x=\"63.623047\"/>\n       <use xlink:href=\"#DejaVuSans-30\" x=\"95.410156\"/>\n      </g>\n     </g>\n    </g>\n    <g id=\"text_160\">\n     <!-- False Positive Rate -->\n     <g transform=\"translate(342.914844 871.394687)scale(0.1 -0.1)\">\n      <use xlink:href=\"#DejaVuSans-46\"/>\n      <use xlink:href=\"#DejaVuSans-61\" x=\"48.394531\"/>\n      <use xlink:href=\"#DejaVuSans-6c\" x=\"109.673828\"/>\n      <use xlink:href=\"#DejaVuSans-73\" x=\"137.457031\"/>\n      <use xlink:href=\"#DejaVuSans-65\" x=\"189.556641\"/>\n      <use xlink:href=\"#DejaVuSans-20\" x=\"251.080078\"/>\n      <use xlink:href=\"#DejaVuSans-50\" x=\"282.867188\"/>\n      <use xlink:href=\"#DejaVuSans-6f\" x=\"339.544922\"/>\n      <use xlink:href=\"#DejaVuSans-73\" x=\"400.726562\"/>\n      <use xlink:href=\"#DejaVuSans-69\" x=\"452.826172\"/>\n      <use xlink:href=\"#DejaVuSans-74\" x=\"480.609375\"/>\n      <use xlink:href=\"#DejaVuSans-69\" x=\"519.818359\"/>\n      <use xlink:href=\"#DejaVuSans-76\" x=\"547.601562\"/>\n      <use xlink:href=\"#DejaVuSans-65\" x=\"606.78125\"/>\n      <use xlink:href=\"#DejaVuSans-20\" x=\"668.304688\"/>\n      <use xlink:href=\"#DejaVuSans-52\" x=\"700.091797\"/>\n      <use xlink:href=\"#DejaVuSans-61\" x=\"767.324219\"/>\n      <use xlink:href=\"#DejaVuSans-74\" x=\"828.603516\"/>\n      <use xlink:href=\"#DejaVuSans-65\" x=\"867.8125\"/>\n     </g>\n    </g>\n   </g>\n   <g id=\"matplotlib.axis_20\">\n    <g id=\"ytick_67\">\n     <g id=\"line2d_151\">\n      <g>\n       <use xlink:href=\"#mf950be4dbd\" x=\"293.38125\" y=\"835.504025\" style=\"stroke: #000000; stroke-width: 0.8\"/>\n      </g>\n     </g>\n     <g id=\"text_161\">\n      <!-- 0.0 -->\n      <g transform=\"translate(270.478125 839.303244)scale(0.1 -0.1)\">\n       <use xlink:href=\"#DejaVuSans-30\"/>\n       <use xlink:href=\"#DejaVuSans-2e\" x=\"63.623047\"/>\n       <use xlink:href=\"#DejaVuSans-30\" x=\"95.410156\"/>\n      </g>\n     </g>\n    </g>\n    <g id=\"ytick_68\">\n     <g id=\"line2d_152\">\n      <g>\n       <use xlink:href=\"#mf950be4dbd\" x=\"293.38125\" y=\"805.047624\" style=\"stroke: #000000; stroke-width: 0.8\"/>\n      </g>\n     </g>\n     <g id=\"text_162\">\n      <!-- 0.2 -->\n      <g transform=\"translate(270.478125 808.846843)scale(0.1 -0.1)\">\n       <use xlink:href=\"#DejaVuSans-30\"/>\n       <use xlink:href=\"#DejaVuSans-2e\" x=\"63.623047\"/>\n       <use xlink:href=\"#DejaVuSans-32\" x=\"95.410156\"/>\n      </g>\n     </g>\n    </g>\n    <g id=\"ytick_69\">\n     <g id=\"line2d_153\">\n      <g>\n       <use xlink:href=\"#mf950be4dbd\" x=\"293.38125\" y=\"774.591223\" style=\"stroke: #000000; stroke-width: 0.8\"/>\n      </g>\n     </g>\n     <g id=\"text_163\">\n      <!-- 0.4 -->\n      <g transform=\"translate(270.478125 778.390442)scale(0.1 -0.1)\">\n       <use xlink:href=\"#DejaVuSans-30\"/>\n       <use xlink:href=\"#DejaVuSans-2e\" x=\"63.623047\"/>\n       <use xlink:href=\"#DejaVuSans-34\" x=\"95.410156\"/>\n      </g>\n     </g>\n    </g>\n    <g id=\"ytick_70\">\n     <g id=\"line2d_154\">\n      <g>\n       <use xlink:href=\"#mf950be4dbd\" x=\"293.38125\" y=\"744.134823\" style=\"stroke: #000000; stroke-width: 0.8\"/>\n      </g>\n     </g>\n     <g id=\"text_164\">\n      <!-- 0.6 -->\n      <g transform=\"translate(270.478125 747.934041)scale(0.1 -0.1)\">\n       <use xlink:href=\"#DejaVuSans-30\"/>\n       <use xlink:href=\"#DejaVuSans-2e\" x=\"63.623047\"/>\n       <use xlink:href=\"#DejaVuSans-36\" x=\"95.410156\"/>\n      </g>\n     </g>\n    </g>\n    <g id=\"ytick_71\">\n     <g id=\"line2d_155\">\n      <g>\n       <use xlink:href=\"#mf950be4dbd\" x=\"293.38125\" y=\"713.678422\" style=\"stroke: #000000; stroke-width: 0.8\"/>\n      </g>\n     </g>\n     <g id=\"text_165\">\n      <!-- 0.8 -->\n      <g transform=\"translate(270.478125 717.477641)scale(0.1 -0.1)\">\n       <use xlink:href=\"#DejaVuSans-30\"/>\n       <use xlink:href=\"#DejaVuSans-2e\" x=\"63.623047\"/>\n       <use xlink:href=\"#DejaVuSans-38\" x=\"95.410156\"/>\n      </g>\n     </g>\n    </g>\n    <g id=\"ytick_72\">\n     <g id=\"line2d_156\">\n      <g>\n       <use xlink:href=\"#mf950be4dbd\" x=\"293.38125\" y=\"683.222021\" style=\"stroke: #000000; stroke-width: 0.8\"/>\n      </g>\n     </g>\n     <g id=\"text_166\">\n      <!-- 1.0 -->\n      <g transform=\"translate(270.478125 687.02124)scale(0.1 -0.1)\">\n       <use xlink:href=\"#DejaVuSans-31\"/>\n       <use xlink:href=\"#DejaVuSans-2e\" x=\"63.623047\"/>\n       <use xlink:href=\"#DejaVuSans-30\" x=\"95.410156\"/>\n      </g>\n     </g>\n    </g>\n    <g id=\"text_167\">\n     <!-- True Positive Rate -->\n     <g transform=\"translate(264.398438 803.89271)rotate(-90)scale(0.1 -0.1)\">\n      <use xlink:href=\"#DejaVuSans-54\"/>\n      <use xlink:href=\"#DejaVuSans-72\" x=\"46.333984\"/>\n      <use xlink:href=\"#DejaVuSans-75\" x=\"87.447266\"/>\n      <use xlink:href=\"#DejaVuSans-65\" x=\"150.826172\"/>\n      <use xlink:href=\"#DejaVuSans-20\" x=\"212.349609\"/>\n      <use xlink:href=\"#DejaVuSans-50\" x=\"244.136719\"/>\n      <use xlink:href=\"#DejaVuSans-6f\" x=\"300.814453\"/>\n      <use xlink:href=\"#DejaVuSans-73\" x=\"361.996094\"/>\n      <use xlink:href=\"#DejaVuSans-69\" x=\"414.095703\"/>\n      <use xlink:href=\"#DejaVuSans-74\" x=\"441.878906\"/>\n      <use xlink:href=\"#DejaVuSans-69\" x=\"481.087891\"/>\n      <use xlink:href=\"#DejaVuSans-76\" x=\"508.871094\"/>\n      <use xlink:href=\"#DejaVuSans-65\" x=\"568.050781\"/>\n      <use xlink:href=\"#DejaVuSans-20\" x=\"629.574219\"/>\n      <use xlink:href=\"#DejaVuSans-52\" x=\"661.361328\"/>\n      <use xlink:href=\"#DejaVuSans-61\" x=\"728.59375\"/>\n      <use xlink:href=\"#DejaVuSans-74\" x=\"789.873047\"/>\n      <use xlink:href=\"#DejaVuSans-65\" x=\"829.082031\"/>\n     </g>\n    </g>\n   </g>\n   <g id=\"line2d_157\">\n    <path d=\"M 302.108523 835.504025 \nL 303.853977 767.764395 \nL 305.599432 721.912058 \nL 307.344886 702.411166 \nL 309.090341 692.027342 \nL 310.835795 688.618847 \nL 312.58125 687.334808 \nL 314.326705 686.860949 \nL 316.072159 686.821821 \nL 317.817614 686.782693 \nL 319.563068 686.743565 \nL 321.308523 686.704436 \nL 323.053977 686.665308 \nL 324.799432 686.62618 \nL 326.544886 686.587052 \nL 328.290341 686.547923 \nL 330.035795 686.508795 \nL 331.78125 686.469667 \nL 333.526705 686.430538 \nL 335.272159 686.39141 \nL 337.017614 686.352282 \nL 338.763068 686.313154 \nL 340.508523 686.274025 \nL 342.253977 686.234897 \nL 343.999432 686.195769 \nL 345.744886 686.156641 \nL 347.490341 686.117512 \nL 349.235795 686.078384 \nL 350.98125 686.039256 \nL 352.726705 686.000128 \nL 354.472159 685.960999 \nL 356.217614 685.921871 \nL 357.963068 685.882743 \nL 359.708523 685.843615 \nL 361.453977 685.804486 \nL 363.199432 685.765358 \nL 364.944886 685.72623 \nL 366.690341 685.687102 \nL 368.435795 685.647973 \nL 370.18125 685.608845 \nL 371.926705 685.569717 \nL 373.672159 685.530588 \nL 375.417614 685.49146 \nL 377.163068 685.452332 \nL 378.908523 685.413204 \nL 380.653977 685.374075 \nL 382.399432 685.334947 \nL 384.144886 685.295819 \nL 385.890341 685.256691 \nL 387.635795 685.217562 \nL 389.38125 685.178434 \nL 391.126705 685.139306 \nL 392.872159 685.100178 \nL 394.617614 685.061049 \nL 396.363068 685.021921 \nL 398.108523 684.982793 \nL 399.853977 684.943665 \nL 401.599432 684.904536 \nL 403.344886 684.865408 \nL 405.090341 684.82628 \nL 406.835795 684.787152 \nL 408.58125 684.748023 \nL 410.326705 684.708895 \nL 412.072159 684.669767 \nL 413.817614 684.630638 \nL 415.563068 684.59151 \nL 417.308523 684.552382 \nL 419.053977 684.513254 \nL 420.799432 684.474125 \nL 422.544886 684.434997 \nL 424.290341 684.395869 \nL 426.035795 684.356741 \nL 427.78125 684.317612 \nL 429.526705 684.278484 \nL 431.272159 684.239356 \nL 433.017614 684.200228 \nL 434.763068 684.161099 \nL 436.508523 684.121971 \nL 438.253977 684.082843 \nL 439.999432 684.043715 \nL 441.744886 684.004586 \nL 443.490341 683.965458 \nL 445.235795 683.92633 \nL 446.98125 683.887202 \nL 448.726705 683.848073 \nL 450.472159 683.808945 \nL 452.217614 683.769817 \nL 453.963068 683.730688 \nL 455.708523 683.69156 \nL 457.453977 683.652432 \nL 459.199432 683.613304 \nL 460.944886 683.574175 \nL 462.690341 683.535047 \nL 464.435795 683.495919 \nL 466.18125 683.456791 \nL 467.926705 683.417662 \nL 469.672159 683.378534 \nL 471.417614 683.339406 \nL 473.163068 683.300278 \nL 474.908523 683.261149 \nL 476.653977 683.222021 \n\" clip-path=\"url(#pc4bbea53a4)\" style=\"fill: none; stroke: #0000ff; stroke-opacity: 0.8; stroke-width: 1.5; stroke-linecap: square\"/>\n   </g>\n   <g id=\"line2d_158\">\n    <path d=\"M 302.108523 835.504025 \nL 476.653977 683.222021 \n\" clip-path=\"url(#pc4bbea53a4)\" style=\"fill: none; stroke-dasharray: 7.4,3.2; stroke-dashoffset: 0; stroke: #ff0000; stroke-opacity: 0.8; stroke-width: 2\"/>\n   </g>\n   <g id=\"patch_57\">\n    <path d=\"M 293.38125 843.118125 \nL 293.38125 675.607921 \n\" style=\"fill: none; stroke: #000000; stroke-width: 0.8; stroke-linejoin: miter; stroke-linecap: square\"/>\n   </g>\n   <g id=\"patch_58\">\n    <path d=\"M 485.38125 843.118125 \nL 485.38125 675.607921 \n\" style=\"fill: none; stroke: #000000; stroke-width: 0.8; stroke-linejoin: miter; stroke-linecap: square\"/>\n   </g>\n   <g id=\"patch_59\">\n    <path d=\"M 293.38125 843.118125 \nL 485.38125 843.118125 \n\" style=\"fill: none; stroke: #000000; stroke-width: 0.8; stroke-linejoin: miter; stroke-linecap: square\"/>\n   </g>\n   <g id=\"patch_60\">\n    <path d=\"M 293.38125 675.607921 \nL 485.38125 675.607921 \n\" style=\"fill: none; stroke: #000000; stroke-width: 0.8; stroke-linejoin: miter; stroke-linecap: square\"/>\n   </g>\n   <g id=\"text_168\">\n    <!-- GAT flux+ -->\n    <g transform=\"translate(293.38125 669.607921)scale(0.12 -0.12)\">\n     <use xlink:href=\"#DejaVuSans-Bold-47\"/>\n     <use xlink:href=\"#DejaVuSans-Bold-41\" x=\"82.080078\"/>\n     <use xlink:href=\"#DejaVuSans-Bold-54\" x=\"151.722656\"/>\n     <use xlink:href=\"#DejaVuSans-Bold-20\" x=\"219.935547\"/>\n     <use xlink:href=\"#DejaVuSans-Bold-66\" x=\"254.75\"/>\n     <use xlink:href=\"#DejaVuSans-Bold-6c\" x=\"298.255859\"/>\n     <use xlink:href=\"#DejaVuSans-Bold-75\" x=\"332.533203\"/>\n     <use xlink:href=\"#DejaVuSans-Bold-78\" x=\"403.724609\"/>\n     <use xlink:href=\"#DejaVuSans-Bold-2b\" x=\"468.226562\"/>\n    </g>\n   </g>\n   <g id=\"legend_10\">\n    <g id=\"patch_61\">\n     <path d=\"M 327.88125 839.368125 \nL 480.13125 839.368125 \nQ 481.63125 839.368125 481.63125 837.868125 \nL 481.63125 816.600937 \nQ 481.63125 815.100937 480.13125 815.100937 \nL 327.88125 815.100937 \nQ 326.38125 815.100937 326.38125 816.600937 \nL 326.38125 837.868125 \nQ 326.38125 839.368125 327.88125 839.368125 \nz\n\" style=\"fill: #ffffff; opacity: 0.8; stroke: #cccccc; stroke-linejoin: miter\"/>\n    </g>\n    <g id=\"line2d_159\">\n     <path d=\"M 329.38125 821.174766 \nL 336.88125 821.174766 \nL 344.38125 821.174766 \n\" style=\"fill: none; stroke: #0000ff; stroke-opacity: 0.8; stroke-width: 1.5; stroke-linecap: square\"/>\n    </g>\n    <g id=\"text_169\">\n     <!-- Test set ROC (AUC = 0.97 $\\pm$ 0.01) -->\n     <g transform=\"translate(350.38125 823.799766)scale(0.075 -0.075)\">\n      <use xlink:href=\"#DejaVuSans-54\" transform=\"translate(0 0.125)\"/>\n      <use xlink:href=\"#DejaVuSans-65\" transform=\"translate(61.083984 0.125)\"/>\n      <use xlink:href=\"#DejaVuSans-73\" transform=\"translate(122.607422 0.125)\"/>\n      <use xlink:href=\"#DejaVuSans-74\" transform=\"translate(174.707031 0.125)\"/>\n      <use xlink:href=\"#DejaVuSans-20\" transform=\"translate(213.916016 0.125)\"/>\n      <use xlink:href=\"#DejaVuSans-73\" transform=\"translate(245.703125 0.125)\"/>\n      <use xlink:href=\"#DejaVuSans-65\" transform=\"translate(297.802734 0.125)\"/>\n      <use xlink:href=\"#DejaVuSans-74\" transform=\"translate(359.326172 0.125)\"/>\n      <use xlink:href=\"#DejaVuSans-20\" transform=\"translate(398.535156 0.125)\"/>\n      <use xlink:href=\"#DejaVuSans-52\" transform=\"translate(430.322266 0.125)\"/>\n      <use xlink:href=\"#DejaVuSans-4f\" transform=\"translate(499.804688 0.125)\"/>\n      <use xlink:href=\"#DejaVuSans-43\" transform=\"translate(578.515625 0.125)\"/>\n      <use xlink:href=\"#DejaVuSans-20\" transform=\"translate(648.339844 0.125)\"/>\n      <use xlink:href=\"#DejaVuSans-28\" transform=\"translate(680.126953 0.125)\"/>\n      <use xlink:href=\"#DejaVuSans-41\" transform=\"translate(719.140625 0.125)\"/>\n      <use xlink:href=\"#DejaVuSans-55\" transform=\"translate(787.548828 0.125)\"/>\n      <use xlink:href=\"#DejaVuSans-43\" transform=\"translate(860.742188 0.125)\"/>\n      <use xlink:href=\"#DejaVuSans-20\" transform=\"translate(930.566406 0.125)\"/>\n      <use xlink:href=\"#DejaVuSans-3d\" transform=\"translate(962.353516 0.125)\"/>\n      <use xlink:href=\"#DejaVuSans-20\" transform=\"translate(1046.142578 0.125)\"/>\n      <use xlink:href=\"#DejaVuSans-30\" transform=\"translate(1077.929688 0.125)\"/>\n      <use xlink:href=\"#DejaVuSans-2e\" transform=\"translate(1141.552734 0.125)\"/>\n      <use xlink:href=\"#DejaVuSans-39\" transform=\"translate(1173.339844 0.125)\"/>\n      <use xlink:href=\"#DejaVuSans-37\" transform=\"translate(1236.962891 0.125)\"/>\n      <use xlink:href=\"#DejaVuSans-20\" transform=\"translate(1300.585938 0.125)\"/>\n      <use xlink:href=\"#DejaVuSans-b1\" transform=\"translate(1332.373047 0.125)\"/>\n      <use xlink:href=\"#DejaVuSans-20\" transform=\"translate(1416.162109 0.125)\"/>\n      <use xlink:href=\"#DejaVuSans-30\" transform=\"translate(1447.949219 0.125)\"/>\n      <use xlink:href=\"#DejaVuSans-2e\" transform=\"translate(1511.572266 0.125)\"/>\n      <use xlink:href=\"#DejaVuSans-30\" transform=\"translate(1543.359375 0.125)\"/>\n      <use xlink:href=\"#DejaVuSans-31\" transform=\"translate(1606.982422 0.125)\"/>\n      <use xlink:href=\"#DejaVuSans-29\" transform=\"translate(1670.605469 0.125)\"/>\n     </g>\n    </g>\n    <g id=\"line2d_160\">\n     <path d=\"M 329.38125 832.183359 \nL 336.88125 832.183359 \nL 344.38125 832.183359 \n\" style=\"fill: none; stroke-dasharray: 7.4,3.2; stroke-dashoffset: 0; stroke: #ff0000; stroke-opacity: 0.8; stroke-width: 2\"/>\n    </g>\n    <g id=\"text_170\">\n     <!-- Random -->\n     <g transform=\"translate(350.38125 834.808359)scale(0.075 -0.075)\">\n      <use xlink:href=\"#DejaVuSans-52\"/>\n      <use xlink:href=\"#DejaVuSans-61\" x=\"67.232422\"/>\n      <use xlink:href=\"#DejaVuSans-6e\" x=\"128.511719\"/>\n      <use xlink:href=\"#DejaVuSans-64\" x=\"191.890625\"/>\n      <use xlink:href=\"#DejaVuSans-6f\" x=\"255.367188\"/>\n      <use xlink:href=\"#DejaVuSans-6d\" x=\"316.548828\"/>\n     </g>\n    </g>\n   </g>\n  </g>\n  <g id=\"axes_11\">\n   <g id=\"patch_62\">\n    <path d=\"M 542.98125 625.35486 \nL 734.98125 625.35486 \nL 734.98125 457.844656 \nL 542.98125 457.844656 \nz\n\" style=\"fill: #ffffff\"/>\n   </g>\n   <g id=\"PolyCollection_5\">\n    <defs>\n     <path id=\"m57c2abe26e\" d=\"M 551.708523 -262.933615 \nL 551.708523 -262.933615 \nL 553.453977 -271.801264 \nL 555.199432 -280.668913 \nL 556.944886 -289.536562 \nL 558.690341 -300.739697 \nL 560.435795 -313.236586 \nL 562.18125 -326.600869 \nL 563.926705 -339.668326 \nL 565.672159 -351.978941 \nL 567.417614 -363.752443 \nL 569.163068 -374.228126 \nL 570.908523 -382.972366 \nL 572.653977 -389.439865 \nL 574.399432 -393.111247 \nL 576.144886 -396.007041 \nL 577.890341 -398.099587 \nL 579.635795 -400.12306 \nL 581.38125 -402.092678 \nL 583.126705 -403.954951 \nL 584.872159 -405.575609 \nL 586.617614 -406.640624 \nL 588.363068 -406.747812 \nL 590.108523 -406.854999 \nL 591.853977 -406.962187 \nL 593.599432 -407.069374 \nL 595.344886 -407.176561 \nL 597.090341 -407.283749 \nL 598.835795 -407.390936 \nL 600.58125 -407.498124 \nL 602.326705 -407.605311 \nL 604.072159 -407.712499 \nL 605.817614 -407.819686 \nL 607.563068 -407.926874 \nL 609.308523 -408.034061 \nL 611.053977 -408.141248 \nL 612.799432 -408.248436 \nL 614.544886 -408.355623 \nL 616.290341 -408.462811 \nL 618.035795 -408.569998 \nL 619.78125 -408.677186 \nL 621.526705 -408.784373 \nL 623.272159 -408.89156 \nL 625.017614 -408.998748 \nL 626.763068 -409.105935 \nL 628.508523 -409.213123 \nL 630.253977 -409.32031 \nL 631.999432 -409.427498 \nL 633.744886 -409.534685 \nL 635.490341 -409.641873 \nL 637.235795 -409.74906 \nL 638.98125 -409.856247 \nL 640.726705 -409.963435 \nL 642.472159 -410.070622 \nL 644.217614 -410.17781 \nL 645.963068 -410.284997 \nL 647.708523 -410.392185 \nL 649.453977 -410.499372 \nL 651.199432 -410.606559 \nL 652.944886 -410.713747 \nL 654.690341 -410.820934 \nL 656.435795 -410.928122 \nL 658.18125 -411.035309 \nL 659.926705 -411.142497 \nL 661.672159 -411.249684 \nL 663.417614 -411.356872 \nL 665.163068 -411.464059 \nL 666.908523 -411.571246 \nL 668.653977 -411.678434 \nL 670.399432 -411.785621 \nL 672.144886 -411.892809 \nL 673.890341 -411.999996 \nL 675.635795 -412.107184 \nL 677.38125 -412.214371 \nL 679.126705 -412.321558 \nL 680.872159 -412.428746 \nL 682.617614 -412.535933 \nL 684.363068 -412.643121 \nL 686.108523 -412.750308 \nL 687.853977 -412.857496 \nL 689.599432 -412.964683 \nL 691.344886 -413.07187 \nL 693.090341 -413.179058 \nL 694.835795 -413.286245 \nL 696.58125 -413.393433 \nL 698.326705 -413.50062 \nL 700.072159 -413.607808 \nL 701.817614 -413.714995 \nL 703.563068 -413.822183 \nL 705.308523 -413.92937 \nL 707.053977 -414.036557 \nL 708.799432 -414.143745 \nL 710.544886 -414.250932 \nL 712.290341 -414.35812 \nL 714.035795 -414.465307 \nL 715.78125 -414.572495 \nL 717.526705 -414.679682 \nL 719.272159 -414.786869 \nL 721.017614 -414.894057 \nL 722.763068 -415.001244 \nL 724.508523 -415.108432 \nL 726.253977 -415.215619 \nL 726.253977 -415.215619 \nL 726.253977 -415.215619 \nL 724.508523 -415.178655 \nL 722.763068 -415.141691 \nL 721.017614 -415.104726 \nL 719.272159 -415.067762 \nL 717.526705 -415.030798 \nL 715.78125 -414.993833 \nL 714.035795 -414.956869 \nL 712.290341 -414.919905 \nL 710.544886 -414.88294 \nL 708.799432 -414.845976 \nL 707.053977 -414.809012 \nL 705.308523 -414.772047 \nL 703.563068 -414.735083 \nL 701.817614 -414.698119 \nL 700.072159 -414.661154 \nL 698.326705 -414.62419 \nL 696.58125 -414.587226 \nL 694.835795 -414.550262 \nL 693.090341 -414.513297 \nL 691.344886 -414.476333 \nL 689.599432 -414.439369 \nL 687.853977 -414.402404 \nL 686.108523 -414.36544 \nL 684.363068 -414.328476 \nL 682.617614 -414.291511 \nL 680.872159 -414.254547 \nL 679.126705 -414.217583 \nL 677.38125 -414.180618 \nL 675.635795 -414.143654 \nL 673.890341 -414.10669 \nL 672.144886 -414.069725 \nL 670.399432 -414.032761 \nL 668.653977 -413.995797 \nL 666.908523 -413.958833 \nL 665.163068 -413.921868 \nL 663.417614 -413.884904 \nL 661.672159 -413.84794 \nL 659.926705 -413.810975 \nL 658.18125 -413.774011 \nL 656.435795 -413.737047 \nL 654.690341 -413.700082 \nL 652.944886 -413.663118 \nL 651.199432 -413.626154 \nL 649.453977 -413.589189 \nL 647.708523 -413.552225 \nL 645.963068 -413.515261 \nL 644.217614 -413.478296 \nL 642.472159 -413.441332 \nL 640.726705 -413.404368 \nL 638.98125 -413.367404 \nL 637.235795 -413.330439 \nL 635.490341 -413.293475 \nL 633.744886 -413.256511 \nL 631.999432 -413.219546 \nL 630.253977 -413.182582 \nL 628.508523 -413.145618 \nL 626.763068 -413.108653 \nL 625.017614 -413.071689 \nL 623.272159 -413.034725 \nL 621.526705 -412.99776 \nL 619.78125 -412.960796 \nL 618.035795 -412.923832 \nL 616.290341 -412.886867 \nL 614.544886 -412.849903 \nL 612.799432 -412.812939 \nL 611.053977 -412.775974 \nL 609.308523 -412.73901 \nL 607.563068 -412.702046 \nL 605.817614 -412.665082 \nL 604.072159 -412.628117 \nL 602.326705 -412.591153 \nL 600.58125 -412.554189 \nL 598.835795 -412.517224 \nL 597.090341 -412.48026 \nL 595.344886 -412.443296 \nL 593.599432 -412.406331 \nL 591.853977 -412.369367 \nL 590.108523 -412.332403 \nL 588.363068 -412.295438 \nL 586.617614 -412.258474 \nL 584.872159 -412.379982 \nL 583.126705 -413.057132 \nL 581.38125 -413.975897 \nL 579.635795 -415.002007 \nL 577.890341 -415.215619 \nL 576.144886 -415.215619 \nL 574.399432 -415.215619 \nL 572.653977 -415.215619 \nL 570.908523 -415.215619 \nL 569.163068 -414.469918 \nL 567.417614 -409.1039 \nL 565.672159 -403.13727 \nL 563.926705 -393.70089 \nL 562.18125 -383.350351 \nL 560.435795 -371.333892 \nL 558.690341 -355.610594 \nL 556.944886 -336.043139 \nL 555.199432 -311.673298 \nL 553.453977 -287.303457 \nL 551.708523 -262.933615 \nz\n\" style=\"stroke: #0000ff; stroke-opacity: 0.2\"/>\n    </defs>\n    <g clip-path=\"url(#pcbc29b24ff)\">\n     <use xlink:href=\"#m57c2abe26e\" x=\"0\" y=\"880.674375\" style=\"fill: #0000ff; fill-opacity: 0.2; stroke: #0000ff; stroke-opacity: 0.2\"/>\n    </g>\n   </g>\n   <g id=\"matplotlib.axis_21\">\n    <g id=\"xtick_49\">\n     <g id=\"line2d_161\">\n      <g>\n       <use xlink:href=\"#m449907e01c\" x=\"551.708523\" y=\"625.35486\" style=\"stroke: #000000; stroke-width: 0.8\"/>\n      </g>\n     </g>\n     <g id=\"text_171\">\n      <!-- 0.0 -->\n      <g transform=\"translate(543.75696 639.953297)scale(0.1 -0.1)\">\n       <use xlink:href=\"#DejaVuSans-30\"/>\n       <use xlink:href=\"#DejaVuSans-2e\" x=\"63.623047\"/>\n       <use xlink:href=\"#DejaVuSans-30\" x=\"95.410156\"/>\n      </g>\n     </g>\n    </g>\n    <g id=\"xtick_50\">\n     <g id=\"line2d_162\">\n      <g>\n       <use xlink:href=\"#m449907e01c\" x=\"586.617614\" y=\"625.35486\" style=\"stroke: #000000; stroke-width: 0.8\"/>\n      </g>\n     </g>\n     <g id=\"text_172\">\n      <!-- 0.2 -->\n      <g transform=\"translate(578.666051 639.953297)scale(0.1 -0.1)\">\n       <use xlink:href=\"#DejaVuSans-30\"/>\n       <use xlink:href=\"#DejaVuSans-2e\" x=\"63.623047\"/>\n       <use xlink:href=\"#DejaVuSans-32\" x=\"95.410156\"/>\n      </g>\n     </g>\n    </g>\n    <g id=\"xtick_51\">\n     <g id=\"line2d_163\">\n      <g>\n       <use xlink:href=\"#m449907e01c\" x=\"621.526705\" y=\"625.35486\" style=\"stroke: #000000; stroke-width: 0.8\"/>\n      </g>\n     </g>\n     <g id=\"text_173\">\n      <!-- 0.4 -->\n      <g transform=\"translate(613.575142 639.953297)scale(0.1 -0.1)\">\n       <use xlink:href=\"#DejaVuSans-30\"/>\n       <use xlink:href=\"#DejaVuSans-2e\" x=\"63.623047\"/>\n       <use xlink:href=\"#DejaVuSans-34\" x=\"95.410156\"/>\n      </g>\n     </g>\n    </g>\n    <g id=\"xtick_52\">\n     <g id=\"line2d_164\">\n      <g>\n       <use xlink:href=\"#m449907e01c\" x=\"656.435795\" y=\"625.35486\" style=\"stroke: #000000; stroke-width: 0.8\"/>\n      </g>\n     </g>\n     <g id=\"text_174\">\n      <!-- 0.6 -->\n      <g transform=\"translate(648.484233 639.953297)scale(0.1 -0.1)\">\n       <use xlink:href=\"#DejaVuSans-30\"/>\n       <use xlink:href=\"#DejaVuSans-2e\" x=\"63.623047\"/>\n       <use xlink:href=\"#DejaVuSans-36\" x=\"95.410156\"/>\n      </g>\n     </g>\n    </g>\n    <g id=\"xtick_53\">\n     <g id=\"line2d_165\">\n      <g>\n       <use xlink:href=\"#m449907e01c\" x=\"691.344886\" y=\"625.35486\" style=\"stroke: #000000; stroke-width: 0.8\"/>\n      </g>\n     </g>\n     <g id=\"text_175\">\n      <!-- 0.8 -->\n      <g transform=\"translate(683.393324 639.953297)scale(0.1 -0.1)\">\n       <use xlink:href=\"#DejaVuSans-30\"/>\n       <use xlink:href=\"#DejaVuSans-2e\" x=\"63.623047\"/>\n       <use xlink:href=\"#DejaVuSans-38\" x=\"95.410156\"/>\n      </g>\n     </g>\n    </g>\n    <g id=\"xtick_54\">\n     <g id=\"line2d_166\">\n      <g>\n       <use xlink:href=\"#m449907e01c\" x=\"726.253977\" y=\"625.35486\" style=\"stroke: #000000; stroke-width: 0.8\"/>\n      </g>\n     </g>\n     <g id=\"text_176\">\n      <!-- 1.0 -->\n      <g transform=\"translate(718.302415 639.953297)scale(0.1 -0.1)\">\n       <use xlink:href=\"#DejaVuSans-31\"/>\n       <use xlink:href=\"#DejaVuSans-2e\" x=\"63.623047\"/>\n       <use xlink:href=\"#DejaVuSans-30\" x=\"95.410156\"/>\n      </g>\n     </g>\n    </g>\n    <g id=\"text_177\">\n     <!-- False Positive Rate -->\n     <g transform=\"translate(592.514844 653.631422)scale(0.1 -0.1)\">\n      <use xlink:href=\"#DejaVuSans-46\"/>\n      <use xlink:href=\"#DejaVuSans-61\" x=\"48.394531\"/>\n      <use xlink:href=\"#DejaVuSans-6c\" x=\"109.673828\"/>\n      <use xlink:href=\"#DejaVuSans-73\" x=\"137.457031\"/>\n      <use xlink:href=\"#DejaVuSans-65\" x=\"189.556641\"/>\n      <use xlink:href=\"#DejaVuSans-20\" x=\"251.080078\"/>\n      <use xlink:href=\"#DejaVuSans-50\" x=\"282.867188\"/>\n      <use xlink:href=\"#DejaVuSans-6f\" x=\"339.544922\"/>\n      <use xlink:href=\"#DejaVuSans-73\" x=\"400.726562\"/>\n      <use xlink:href=\"#DejaVuSans-69\" x=\"452.826172\"/>\n      <use xlink:href=\"#DejaVuSans-74\" x=\"480.609375\"/>\n      <use xlink:href=\"#DejaVuSans-69\" x=\"519.818359\"/>\n      <use xlink:href=\"#DejaVuSans-76\" x=\"547.601562\"/>\n      <use xlink:href=\"#DejaVuSans-65\" x=\"606.78125\"/>\n      <use xlink:href=\"#DejaVuSans-20\" x=\"668.304688\"/>\n      <use xlink:href=\"#DejaVuSans-52\" x=\"700.091797\"/>\n      <use xlink:href=\"#DejaVuSans-61\" x=\"767.324219\"/>\n      <use xlink:href=\"#DejaVuSans-74\" x=\"828.603516\"/>\n      <use xlink:href=\"#DejaVuSans-65\" x=\"867.8125\"/>\n     </g>\n    </g>\n   </g>\n   <g id=\"matplotlib.axis_22\">\n    <g id=\"ytick_73\">\n     <g id=\"line2d_167\">\n      <g>\n       <use xlink:href=\"#mf950be4dbd\" x=\"542.98125\" y=\"617.74076\" style=\"stroke: #000000; stroke-width: 0.8\"/>\n      </g>\n     </g>\n     <g id=\"text_178\">\n      <!-- 0.0 -->\n      <g transform=\"translate(520.078125 621.539978)scale(0.1 -0.1)\">\n       <use xlink:href=\"#DejaVuSans-30\"/>\n       <use xlink:href=\"#DejaVuSans-2e\" x=\"63.623047\"/>\n       <use xlink:href=\"#DejaVuSans-30\" x=\"95.410156\"/>\n      </g>\n     </g>\n    </g>\n    <g id=\"ytick_74\">\n     <g id=\"line2d_168\">\n      <g>\n       <use xlink:href=\"#mf950be4dbd\" x=\"542.98125\" y=\"587.284359\" style=\"stroke: #000000; stroke-width: 0.8\"/>\n      </g>\n     </g>\n     <g id=\"text_179\">\n      <!-- 0.2 -->\n      <g transform=\"translate(520.078125 591.083578)scale(0.1 -0.1)\">\n       <use xlink:href=\"#DejaVuSans-30\"/>\n       <use xlink:href=\"#DejaVuSans-2e\" x=\"63.623047\"/>\n       <use xlink:href=\"#DejaVuSans-32\" x=\"95.410156\"/>\n      </g>\n     </g>\n    </g>\n    <g id=\"ytick_75\">\n     <g id=\"line2d_169\">\n      <g>\n       <use xlink:href=\"#mf950be4dbd\" x=\"542.98125\" y=\"556.827958\" style=\"stroke: #000000; stroke-width: 0.8\"/>\n      </g>\n     </g>\n     <g id=\"text_180\">\n      <!-- 0.4 -->\n      <g transform=\"translate(520.078125 560.627177)scale(0.1 -0.1)\">\n       <use xlink:href=\"#DejaVuSans-30\"/>\n       <use xlink:href=\"#DejaVuSans-2e\" x=\"63.623047\"/>\n       <use xlink:href=\"#DejaVuSans-34\" x=\"95.410156\"/>\n      </g>\n     </g>\n    </g>\n    <g id=\"ytick_76\">\n     <g id=\"line2d_170\">\n      <g>\n       <use xlink:href=\"#mf950be4dbd\" x=\"542.98125\" y=\"526.371557\" style=\"stroke: #000000; stroke-width: 0.8\"/>\n      </g>\n     </g>\n     <g id=\"text_181\">\n      <!-- 0.6 -->\n      <g transform=\"translate(520.078125 530.170776)scale(0.1 -0.1)\">\n       <use xlink:href=\"#DejaVuSans-30\"/>\n       <use xlink:href=\"#DejaVuSans-2e\" x=\"63.623047\"/>\n       <use xlink:href=\"#DejaVuSans-36\" x=\"95.410156\"/>\n      </g>\n     </g>\n    </g>\n    <g id=\"ytick_77\">\n     <g id=\"line2d_171\">\n      <g>\n       <use xlink:href=\"#mf950be4dbd\" x=\"542.98125\" y=\"495.915157\" style=\"stroke: #000000; stroke-width: 0.8\"/>\n      </g>\n     </g>\n     <g id=\"text_182\">\n      <!-- 0.8 -->\n      <g transform=\"translate(520.078125 499.714375)scale(0.1 -0.1)\">\n       <use xlink:href=\"#DejaVuSans-30\"/>\n       <use xlink:href=\"#DejaVuSans-2e\" x=\"63.623047\"/>\n       <use xlink:href=\"#DejaVuSans-38\" x=\"95.410156\"/>\n      </g>\n     </g>\n    </g>\n    <g id=\"ytick_78\">\n     <g id=\"line2d_172\">\n      <g>\n       <use xlink:href=\"#mf950be4dbd\" x=\"542.98125\" y=\"465.458756\" style=\"stroke: #000000; stroke-width: 0.8\"/>\n      </g>\n     </g>\n     <g id=\"text_183\">\n      <!-- 1.0 -->\n      <g transform=\"translate(520.078125 469.257975)scale(0.1 -0.1)\">\n       <use xlink:href=\"#DejaVuSans-31\"/>\n       <use xlink:href=\"#DejaVuSans-2e\" x=\"63.623047\"/>\n       <use xlink:href=\"#DejaVuSans-30\" x=\"95.410156\"/>\n      </g>\n     </g>\n    </g>\n    <g id=\"text_184\">\n     <!-- True Positive Rate -->\n     <g transform=\"translate(513.998438 586.129445)rotate(-90)scale(0.1 -0.1)\">\n      <use xlink:href=\"#DejaVuSans-54\"/>\n      <use xlink:href=\"#DejaVuSans-72\" x=\"46.333984\"/>\n      <use xlink:href=\"#DejaVuSans-75\" x=\"87.447266\"/>\n      <use xlink:href=\"#DejaVuSans-65\" x=\"150.826172\"/>\n      <use xlink:href=\"#DejaVuSans-20\" x=\"212.349609\"/>\n      <use xlink:href=\"#DejaVuSans-50\" x=\"244.136719\"/>\n      <use xlink:href=\"#DejaVuSans-6f\" x=\"300.814453\"/>\n      <use xlink:href=\"#DejaVuSans-73\" x=\"361.996094\"/>\n      <use xlink:href=\"#DejaVuSans-69\" x=\"414.095703\"/>\n      <use xlink:href=\"#DejaVuSans-74\" x=\"441.878906\"/>\n      <use xlink:href=\"#DejaVuSans-69\" x=\"481.087891\"/>\n      <use xlink:href=\"#DejaVuSans-76\" x=\"508.871094\"/>\n      <use xlink:href=\"#DejaVuSans-65\" x=\"568.050781\"/>\n      <use xlink:href=\"#DejaVuSans-20\" x=\"629.574219\"/>\n      <use xlink:href=\"#DejaVuSans-52\" x=\"661.361328\"/>\n      <use xlink:href=\"#DejaVuSans-61\" x=\"728.59375\"/>\n      <use xlink:href=\"#DejaVuSans-74\" x=\"789.873047\"/>\n      <use xlink:href=\"#DejaVuSans-65\" x=\"829.082031\"/>\n     </g>\n    </g>\n   </g>\n   <g id=\"line2d_173\">\n    <path d=\"M 551.708523 617.74076 \nL 553.453977 601.122015 \nL 555.199432 584.50327 \nL 556.944886 567.884525 \nL 558.690341 552.49923 \nL 560.435795 538.389136 \nL 562.18125 525.698765 \nL 563.926705 513.989767 \nL 565.672159 503.11627 \nL 567.417614 494.246204 \nL 569.163068 486.325353 \nL 570.908523 480.602241 \nL 572.653977 476.667511 \nL 574.399432 475.119824 \nL 576.144886 474.090215 \nL 577.890341 473.583595 \nL 579.635795 473.111842 \nL 581.38125 472.640088 \nL 583.126705 472.168334 \nL 584.872159 471.69658 \nL 586.617614 471.224826 \nL 588.363068 471.15275 \nL 590.108523 471.080674 \nL 591.853977 471.008598 \nL 593.599432 470.936522 \nL 595.344886 470.864446 \nL 597.090341 470.792371 \nL 598.835795 470.720295 \nL 600.58125 470.648219 \nL 602.326705 470.576143 \nL 604.072159 470.504067 \nL 605.817614 470.431991 \nL 607.563068 470.359915 \nL 609.308523 470.287839 \nL 611.053977 470.215764 \nL 612.799432 470.143688 \nL 614.544886 470.071612 \nL 616.290341 469.999536 \nL 618.035795 469.92746 \nL 619.78125 469.855384 \nL 621.526705 469.783308 \nL 623.272159 469.711232 \nL 625.017614 469.639157 \nL 626.763068 469.567081 \nL 628.508523 469.495005 \nL 630.253977 469.422929 \nL 631.999432 469.350853 \nL 633.744886 469.278777 \nL 635.490341 469.206701 \nL 637.235795 469.134625 \nL 638.98125 469.06255 \nL 640.726705 468.990474 \nL 642.472159 468.918398 \nL 644.217614 468.846322 \nL 645.963068 468.774246 \nL 647.708523 468.70217 \nL 649.453977 468.630094 \nL 651.199432 468.558018 \nL 652.944886 468.485943 \nL 654.690341 468.413867 \nL 656.435795 468.341791 \nL 658.18125 468.269715 \nL 659.926705 468.197639 \nL 661.672159 468.125563 \nL 663.417614 468.053487 \nL 665.163068 467.981411 \nL 666.908523 467.909336 \nL 668.653977 467.83726 \nL 670.399432 467.765184 \nL 672.144886 467.693108 \nL 673.890341 467.621032 \nL 675.635795 467.548956 \nL 677.38125 467.47688 \nL 679.126705 467.404804 \nL 680.872159 467.332729 \nL 682.617614 467.260653 \nL 684.363068 467.188577 \nL 686.108523 467.116501 \nL 687.853977 467.044425 \nL 689.599432 466.972349 \nL 691.344886 466.900273 \nL 693.090341 466.828197 \nL 694.835795 466.756122 \nL 696.58125 466.684046 \nL 698.326705 466.61197 \nL 700.072159 466.539894 \nL 701.817614 466.467818 \nL 703.563068 466.395742 \nL 705.308523 466.323666 \nL 707.053977 466.25159 \nL 708.799432 466.179515 \nL 710.544886 466.107439 \nL 712.290341 466.035363 \nL 714.035795 465.963287 \nL 715.78125 465.891211 \nL 717.526705 465.819135 \nL 719.272159 465.747059 \nL 721.017614 465.674983 \nL 722.763068 465.602908 \nL 724.508523 465.530832 \nL 726.253977 465.458756 \n\" clip-path=\"url(#pcbc29b24ff)\" style=\"fill: none; stroke: #0000ff; stroke-opacity: 0.8; stroke-width: 1.5; stroke-linecap: square\"/>\n   </g>\n   <g id=\"line2d_174\">\n    <path d=\"M 551.708523 617.74076 \nL 726.253977 465.458756 \n\" clip-path=\"url(#pcbc29b24ff)\" style=\"fill: none; stroke-dasharray: 7.4,3.2; stroke-dashoffset: 0; stroke: #ff0000; stroke-opacity: 0.8; stroke-width: 2\"/>\n   </g>\n   <g id=\"patch_63\">\n    <path d=\"M 542.98125 625.35486 \nL 542.98125 457.844656 \n\" style=\"fill: none; stroke: #000000; stroke-width: 0.8; stroke-linejoin: miter; stroke-linecap: square\"/>\n   </g>\n   <g id=\"patch_64\">\n    <path d=\"M 734.98125 625.35486 \nL 734.98125 457.844656 \n\" style=\"fill: none; stroke: #000000; stroke-width: 0.8; stroke-linejoin: miter; stroke-linecap: square\"/>\n   </g>\n   <g id=\"patch_65\">\n    <path d=\"M 542.98125 625.35486 \nL 734.98125 625.35486 \n\" style=\"fill: none; stroke: #000000; stroke-width: 0.8; stroke-linejoin: miter; stroke-linecap: square\"/>\n   </g>\n   <g id=\"patch_66\">\n    <path d=\"M 542.98125 457.844656 \nL 734.98125 457.844656 \n\" style=\"fill: none; stroke: #000000; stroke-width: 0.8; stroke-linejoin: miter; stroke-linecap: square\"/>\n   </g>\n   <g id=\"text_185\">\n    <!-- GIN flux- -->\n    <g transform=\"translate(542.98125 451.844656)scale(0.12 -0.12)\">\n     <use xlink:href=\"#DejaVuSans-Bold-47\"/>\n     <use xlink:href=\"#DejaVuSans-Bold-49\" x=\"82.080078\"/>\n     <use xlink:href=\"#DejaVuSans-Bold-4e\" x=\"119.287109\"/>\n     <use xlink:href=\"#DejaVuSans-Bold-20\" x=\"202.978516\"/>\n     <use xlink:href=\"#DejaVuSans-Bold-66\" x=\"237.792969\"/>\n     <use xlink:href=\"#DejaVuSans-Bold-6c\" x=\"281.298828\"/>\n     <use xlink:href=\"#DejaVuSans-Bold-75\" x=\"315.576172\"/>\n     <use xlink:href=\"#DejaVuSans-Bold-78\" x=\"386.767578\"/>\n     <use xlink:href=\"#DejaVuSans-Bold-2d\" x=\"451.269531\"/>\n    </g>\n   </g>\n   <g id=\"legend_11\">\n    <g id=\"patch_67\">\n     <path d=\"M 577.48125 621.60486 \nL 729.73125 621.60486 \nQ 731.23125 621.60486 731.23125 620.10486 \nL 731.23125 598.837672 \nQ 731.23125 597.337672 729.73125 597.337672 \nL 577.48125 597.337672 \nQ 575.98125 597.337672 575.98125 598.837672 \nL 575.98125 620.10486 \nQ 575.98125 621.60486 577.48125 621.60486 \nz\n\" style=\"fill: #ffffff; opacity: 0.8; stroke: #cccccc; stroke-linejoin: miter\"/>\n    </g>\n    <g id=\"line2d_175\">\n     <path d=\"M 578.98125 603.4115 \nL 586.48125 603.4115 \nL 593.98125 603.4115 \n\" style=\"fill: none; stroke: #0000ff; stroke-opacity: 0.8; stroke-width: 1.5; stroke-linecap: square\"/>\n    </g>\n    <g id=\"text_186\">\n     <!-- Test set ROC (AUC = 0.93 $\\pm$ 0.02) -->\n     <g transform=\"translate(599.98125 606.0365)scale(0.075 -0.075)\">\n      <use xlink:href=\"#DejaVuSans-54\" transform=\"translate(0 0.125)\"/>\n      <use xlink:href=\"#DejaVuSans-65\" transform=\"translate(61.083984 0.125)\"/>\n      <use xlink:href=\"#DejaVuSans-73\" transform=\"translate(122.607422 0.125)\"/>\n      <use xlink:href=\"#DejaVuSans-74\" transform=\"translate(174.707031 0.125)\"/>\n      <use xlink:href=\"#DejaVuSans-20\" transform=\"translate(213.916016 0.125)\"/>\n      <use xlink:href=\"#DejaVuSans-73\" transform=\"translate(245.703125 0.125)\"/>\n      <use xlink:href=\"#DejaVuSans-65\" transform=\"translate(297.802734 0.125)\"/>\n      <use xlink:href=\"#DejaVuSans-74\" transform=\"translate(359.326172 0.125)\"/>\n      <use xlink:href=\"#DejaVuSans-20\" transform=\"translate(398.535156 0.125)\"/>\n      <use xlink:href=\"#DejaVuSans-52\" transform=\"translate(430.322266 0.125)\"/>\n      <use xlink:href=\"#DejaVuSans-4f\" transform=\"translate(499.804688 0.125)\"/>\n      <use xlink:href=\"#DejaVuSans-43\" transform=\"translate(578.515625 0.125)\"/>\n      <use xlink:href=\"#DejaVuSans-20\" transform=\"translate(648.339844 0.125)\"/>\n      <use xlink:href=\"#DejaVuSans-28\" transform=\"translate(680.126953 0.125)\"/>\n      <use xlink:href=\"#DejaVuSans-41\" transform=\"translate(719.140625 0.125)\"/>\n      <use xlink:href=\"#DejaVuSans-55\" transform=\"translate(787.548828 0.125)\"/>\n      <use xlink:href=\"#DejaVuSans-43\" transform=\"translate(860.742188 0.125)\"/>\n      <use xlink:href=\"#DejaVuSans-20\" transform=\"translate(930.566406 0.125)\"/>\n      <use xlink:href=\"#DejaVuSans-3d\" transform=\"translate(962.353516 0.125)\"/>\n      <use xlink:href=\"#DejaVuSans-20\" transform=\"translate(1046.142578 0.125)\"/>\n      <use xlink:href=\"#DejaVuSans-30\" transform=\"translate(1077.929688 0.125)\"/>\n      <use xlink:href=\"#DejaVuSans-2e\" transform=\"translate(1141.552734 0.125)\"/>\n      <use xlink:href=\"#DejaVuSans-39\" transform=\"translate(1173.339844 0.125)\"/>\n      <use xlink:href=\"#DejaVuSans-33\" transform=\"translate(1236.962891 0.125)\"/>\n      <use xlink:href=\"#DejaVuSans-20\" transform=\"translate(1300.585938 0.125)\"/>\n      <use xlink:href=\"#DejaVuSans-b1\" transform=\"translate(1332.373047 0.125)\"/>\n      <use xlink:href=\"#DejaVuSans-20\" transform=\"translate(1416.162109 0.125)\"/>\n      <use xlink:href=\"#DejaVuSans-30\" transform=\"translate(1447.949219 0.125)\"/>\n      <use xlink:href=\"#DejaVuSans-2e\" transform=\"translate(1511.572266 0.125)\"/>\n      <use xlink:href=\"#DejaVuSans-30\" transform=\"translate(1543.359375 0.125)\"/>\n      <use xlink:href=\"#DejaVuSans-32\" transform=\"translate(1606.982422 0.125)\"/>\n      <use xlink:href=\"#DejaVuSans-29\" transform=\"translate(1670.605469 0.125)\"/>\n     </g>\n    </g>\n    <g id=\"line2d_176\">\n     <path d=\"M 578.98125 614.420094 \nL 586.48125 614.420094 \nL 593.98125 614.420094 \n\" style=\"fill: none; stroke-dasharray: 7.4,3.2; stroke-dashoffset: 0; stroke: #ff0000; stroke-opacity: 0.8; stroke-width: 2\"/>\n    </g>\n    <g id=\"text_187\">\n     <!-- Random -->\n     <g transform=\"translate(599.98125 617.045094)scale(0.075 -0.075)\">\n      <use xlink:href=\"#DejaVuSans-52\"/>\n      <use xlink:href=\"#DejaVuSans-61\" x=\"67.232422\"/>\n      <use xlink:href=\"#DejaVuSans-6e\" x=\"128.511719\"/>\n      <use xlink:href=\"#DejaVuSans-64\" x=\"191.890625\"/>\n      <use xlink:href=\"#DejaVuSans-6f\" x=\"255.367188\"/>\n      <use xlink:href=\"#DejaVuSans-6d\" x=\"316.548828\"/>\n     </g>\n    </g>\n   </g>\n  </g>\n  <g id=\"axes_12\">\n   <g id=\"patch_68\">\n    <path d=\"M 542.98125 843.118125 \nL 734.98125 843.118125 \nL 734.98125 675.607921 \nL 542.98125 675.607921 \nz\n\" style=\"fill: #ffffff\"/>\n   </g>\n   <g id=\"PolyCollection_6\">\n    <defs>\n     <path id=\"me1ba072d8c\" d=\"M 551.708523 -45.17035 \nL 551.708523 -45.17035 \nL 553.453977 -52.937373 \nL 555.199432 -60.704395 \nL 556.944886 -68.471418 \nL 558.690341 -76.238441 \nL 560.435795 -84.005463 \nL 562.18125 -91.772486 \nL 563.926705 -102.719875 \nL 565.672159 -113.51986 \nL 567.417614 -124.355507 \nL 569.163068 -134.908509 \nL 570.908523 -145.139132 \nL 572.653977 -154.892938 \nL 574.399432 -164.006532 \nL 576.144886 -172.336508 \nL 577.890341 -179.274246 \nL 579.635795 -184.245171 \nL 581.38125 -187.729591 \nL 583.126705 -189.321121 \nL 584.872159 -189.441392 \nL 586.617614 -189.540292 \nL 588.363068 -189.639193 \nL 590.108523 -189.738094 \nL 591.853977 -189.836995 \nL 593.599432 -189.935896 \nL 595.344886 -190.034796 \nL 597.090341 -190.133697 \nL 598.835795 -190.232598 \nL 600.58125 -190.331499 \nL 602.326705 -190.430399 \nL 604.072159 -190.5293 \nL 605.817614 -190.628201 \nL 607.563068 -190.727102 \nL 609.308523 -190.826002 \nL 611.053977 -190.924903 \nL 612.799432 -191.023804 \nL 614.544886 -191.122705 \nL 616.290341 -191.221606 \nL 618.035795 -191.320506 \nL 619.78125 -191.419407 \nL 621.526705 -191.518308 \nL 623.272159 -191.617209 \nL 625.017614 -191.716109 \nL 626.763068 -191.81501 \nL 628.508523 -191.913911 \nL 630.253977 -192.012812 \nL 631.999432 -192.111712 \nL 633.744886 -192.210613 \nL 635.490341 -192.309514 \nL 637.235795 -192.408415 \nL 638.98125 -192.507316 \nL 640.726705 -192.606216 \nL 642.472159 -192.705117 \nL 644.217614 -192.804018 \nL 645.963068 -192.902919 \nL 647.708523 -193.001819 \nL 649.453977 -193.10072 \nL 651.199432 -193.199621 \nL 652.944886 -193.298522 \nL 654.690341 -193.397422 \nL 656.435795 -193.496323 \nL 658.18125 -193.595224 \nL 659.926705 -193.694125 \nL 661.672159 -193.793025 \nL 663.417614 -193.891926 \nL 665.163068 -193.990827 \nL 666.908523 -194.089728 \nL 668.653977 -194.188629 \nL 670.399432 -194.287529 \nL 672.144886 -194.38643 \nL 673.890341 -194.485331 \nL 675.635795 -194.584232 \nL 677.38125 -194.683132 \nL 679.126705 -194.782033 \nL 680.872159 -194.880934 \nL 682.617614 -194.979835 \nL 684.363068 -195.078735 \nL 686.108523 -195.177636 \nL 687.853977 -195.276537 \nL 689.599432 -195.375438 \nL 691.344886 -195.474339 \nL 693.090341 -195.573239 \nL 694.835795 -195.67214 \nL 696.58125 -195.771041 \nL 698.326705 -195.869942 \nL 700.072159 -195.968842 \nL 701.817614 -196.067743 \nL 703.563068 -196.166644 \nL 705.308523 -196.265545 \nL 707.053977 -196.364445 \nL 708.799432 -196.463346 \nL 710.544886 -196.562247 \nL 712.290341 -196.661148 \nL 714.035795 -196.760049 \nL 715.78125 -196.858949 \nL 717.526705 -196.95785 \nL 719.272159 -197.056751 \nL 721.017614 -197.155652 \nL 722.763068 -197.254552 \nL 724.508523 -197.353453 \nL 726.253977 -197.452354 \nL 726.253977 -197.452354 \nL 726.253977 -197.452354 \nL 724.508523 -197.407092 \nL 722.763068 -197.361829 \nL 721.017614 -197.316567 \nL 719.272159 -197.271305 \nL 717.526705 -197.226043 \nL 715.78125 -197.180781 \nL 714.035795 -197.135518 \nL 712.290341 -197.090256 \nL 710.544886 -197.044994 \nL 708.799432 -196.999732 \nL 707.053977 -196.954469 \nL 705.308523 -196.909207 \nL 703.563068 -196.863945 \nL 701.817614 -196.818683 \nL 700.072159 -196.77342 \nL 698.326705 -196.728158 \nL 696.58125 -196.682896 \nL 694.835795 -196.637634 \nL 693.090341 -196.592372 \nL 691.344886 -196.547109 \nL 689.599432 -196.501847 \nL 687.853977 -196.456585 \nL 686.108523 -196.411323 \nL 684.363068 -196.36606 \nL 682.617614 -196.320798 \nL 680.872159 -196.275536 \nL 679.126705 -196.230274 \nL 677.38125 -196.185011 \nL 675.635795 -196.139749 \nL 673.890341 -196.094487 \nL 672.144886 -196.049225 \nL 670.399432 -196.003962 \nL 668.653977 -195.9587 \nL 666.908523 -195.913438 \nL 665.163068 -195.868176 \nL 663.417614 -195.822914 \nL 661.672159 -195.777651 \nL 659.926705 -195.732389 \nL 658.18125 -195.687127 \nL 656.435795 -195.641865 \nL 654.690341 -195.596602 \nL 652.944886 -195.55134 \nL 651.199432 -195.506078 \nL 649.453977 -195.460816 \nL 647.708523 -195.415553 \nL 645.963068 -195.370291 \nL 644.217614 -195.325029 \nL 642.472159 -195.279767 \nL 640.726705 -195.234505 \nL 638.98125 -195.189242 \nL 637.235795 -195.14398 \nL 635.490341 -195.098718 \nL 633.744886 -195.053456 \nL 631.999432 -195.008193 \nL 630.253977 -194.962931 \nL 628.508523 -194.917669 \nL 626.763068 -194.872407 \nL 625.017614 -194.827144 \nL 623.272159 -194.781882 \nL 621.526705 -194.73662 \nL 619.78125 -194.691358 \nL 618.035795 -194.646096 \nL 616.290341 -194.600833 \nL 614.544886 -194.555571 \nL 612.799432 -194.510309 \nL 611.053977 -194.465047 \nL 609.308523 -194.419784 \nL 607.563068 -194.374522 \nL 605.817614 -194.32926 \nL 604.072159 -194.283998 \nL 602.326705 -194.238735 \nL 600.58125 -194.193473 \nL 598.835795 -194.148211 \nL 597.090341 -194.102949 \nL 595.344886 -194.057687 \nL 593.599432 -194.012424 \nL 591.853977 -193.967162 \nL 590.108523 -193.9219 \nL 588.363068 -193.876638 \nL 586.617614 -193.831375 \nL 584.872159 -193.786113 \nL 583.126705 -193.733137 \nL 581.38125 -193.864008 \nL 579.635795 -194.469814 \nL 577.890341 -194.567133 \nL 576.144886 -193.753673 \nL 574.399432 -191.678373 \nL 572.653977 -188.85234 \nL 570.908523 -184.820959 \nL 569.163068 -180.066551 \nL 567.417614 -174.3632 \nL 565.672159 -167.400569 \nL 563.926705 -158.572514 \nL 562.18125 -149.195723 \nL 560.435795 -131.858161 \nL 558.690341 -114.520599 \nL 556.944886 -97.183037 \nL 555.199432 -79.845474 \nL 553.453977 -62.507912 \nL 551.708523 -45.17035 \nz\n\" style=\"stroke: #0000ff; stroke-opacity: 0.2\"/>\n    </defs>\n    <g clip-path=\"url(#p5891a35156)\">\n     <use xlink:href=\"#me1ba072d8c\" x=\"0\" y=\"880.674375\" style=\"fill: #0000ff; fill-opacity: 0.2; stroke: #0000ff; stroke-opacity: 0.2\"/>\n    </g>\n   </g>\n   <g id=\"matplotlib.axis_23\">\n    <g id=\"xtick_55\">\n     <g id=\"line2d_177\">\n      <g>\n       <use xlink:href=\"#m449907e01c\" x=\"551.708523\" y=\"843.118125\" style=\"stroke: #000000; stroke-width: 0.8\"/>\n      </g>\n     </g>\n     <g id=\"text_188\">\n      <!-- 0.0 -->\n      <g transform=\"translate(543.75696 857.716562)scale(0.1 -0.1)\">\n       <use xlink:href=\"#DejaVuSans-30\"/>\n       <use xlink:href=\"#DejaVuSans-2e\" x=\"63.623047\"/>\n       <use xlink:href=\"#DejaVuSans-30\" x=\"95.410156\"/>\n      </g>\n     </g>\n    </g>\n    <g id=\"xtick_56\">\n     <g id=\"line2d_178\">\n      <g>\n       <use xlink:href=\"#m449907e01c\" x=\"586.617614\" y=\"843.118125\" style=\"stroke: #000000; stroke-width: 0.8\"/>\n      </g>\n     </g>\n     <g id=\"text_189\">\n      <!-- 0.2 -->\n      <g transform=\"translate(578.666051 857.716562)scale(0.1 -0.1)\">\n       <use xlink:href=\"#DejaVuSans-30\"/>\n       <use xlink:href=\"#DejaVuSans-2e\" x=\"63.623047\"/>\n       <use xlink:href=\"#DejaVuSans-32\" x=\"95.410156\"/>\n      </g>\n     </g>\n    </g>\n    <g id=\"xtick_57\">\n     <g id=\"line2d_179\">\n      <g>\n       <use xlink:href=\"#m449907e01c\" x=\"621.526705\" y=\"843.118125\" style=\"stroke: #000000; stroke-width: 0.8\"/>\n      </g>\n     </g>\n     <g id=\"text_190\">\n      <!-- 0.4 -->\n      <g transform=\"translate(613.575142 857.716562)scale(0.1 -0.1)\">\n       <use xlink:href=\"#DejaVuSans-30\"/>\n       <use xlink:href=\"#DejaVuSans-2e\" x=\"63.623047\"/>\n       <use xlink:href=\"#DejaVuSans-34\" x=\"95.410156\"/>\n      </g>\n     </g>\n    </g>\n    <g id=\"xtick_58\">\n     <g id=\"line2d_180\">\n      <g>\n       <use xlink:href=\"#m449907e01c\" x=\"656.435795\" y=\"843.118125\" style=\"stroke: #000000; stroke-width: 0.8\"/>\n      </g>\n     </g>\n     <g id=\"text_191\">\n      <!-- 0.6 -->\n      <g transform=\"translate(648.484233 857.716562)scale(0.1 -0.1)\">\n       <use xlink:href=\"#DejaVuSans-30\"/>\n       <use xlink:href=\"#DejaVuSans-2e\" x=\"63.623047\"/>\n       <use xlink:href=\"#DejaVuSans-36\" x=\"95.410156\"/>\n      </g>\n     </g>\n    </g>\n    <g id=\"xtick_59\">\n     <g id=\"line2d_181\">\n      <g>\n       <use xlink:href=\"#m449907e01c\" x=\"691.344886\" y=\"843.118125\" style=\"stroke: #000000; stroke-width: 0.8\"/>\n      </g>\n     </g>\n     <g id=\"text_192\">\n      <!-- 0.8 -->\n      <g transform=\"translate(683.393324 857.716562)scale(0.1 -0.1)\">\n       <use xlink:href=\"#DejaVuSans-30\"/>\n       <use xlink:href=\"#DejaVuSans-2e\" x=\"63.623047\"/>\n       <use xlink:href=\"#DejaVuSans-38\" x=\"95.410156\"/>\n      </g>\n     </g>\n    </g>\n    <g id=\"xtick_60\">\n     <g id=\"line2d_182\">\n      <g>\n       <use xlink:href=\"#m449907e01c\" x=\"726.253977\" y=\"843.118125\" style=\"stroke: #000000; stroke-width: 0.8\"/>\n      </g>\n     </g>\n     <g id=\"text_193\">\n      <!-- 1.0 -->\n      <g transform=\"translate(718.302415 857.716562)scale(0.1 -0.1)\">\n       <use xlink:href=\"#DejaVuSans-31\"/>\n       <use xlink:href=\"#DejaVuSans-2e\" x=\"63.623047\"/>\n       <use xlink:href=\"#DejaVuSans-30\" x=\"95.410156\"/>\n      </g>\n     </g>\n    </g>\n    <g id=\"text_194\">\n     <!-- False Positive Rate -->\n     <g transform=\"translate(592.514844 871.394687)scale(0.1 -0.1)\">\n      <use xlink:href=\"#DejaVuSans-46\"/>\n      <use xlink:href=\"#DejaVuSans-61\" x=\"48.394531\"/>\n      <use xlink:href=\"#DejaVuSans-6c\" x=\"109.673828\"/>\n      <use xlink:href=\"#DejaVuSans-73\" x=\"137.457031\"/>\n      <use xlink:href=\"#DejaVuSans-65\" x=\"189.556641\"/>\n      <use xlink:href=\"#DejaVuSans-20\" x=\"251.080078\"/>\n      <use xlink:href=\"#DejaVuSans-50\" x=\"282.867188\"/>\n      <use xlink:href=\"#DejaVuSans-6f\" x=\"339.544922\"/>\n      <use xlink:href=\"#DejaVuSans-73\" x=\"400.726562\"/>\n      <use xlink:href=\"#DejaVuSans-69\" x=\"452.826172\"/>\n      <use xlink:href=\"#DejaVuSans-74\" x=\"480.609375\"/>\n      <use xlink:href=\"#DejaVuSans-69\" x=\"519.818359\"/>\n      <use xlink:href=\"#DejaVuSans-76\" x=\"547.601562\"/>\n      <use xlink:href=\"#DejaVuSans-65\" x=\"606.78125\"/>\n      <use xlink:href=\"#DejaVuSans-20\" x=\"668.304688\"/>\n      <use xlink:href=\"#DejaVuSans-52\" x=\"700.091797\"/>\n      <use xlink:href=\"#DejaVuSans-61\" x=\"767.324219\"/>\n      <use xlink:href=\"#DejaVuSans-74\" x=\"828.603516\"/>\n      <use xlink:href=\"#DejaVuSans-65\" x=\"867.8125\"/>\n     </g>\n    </g>\n   </g>\n   <g id=\"matplotlib.axis_24\">\n    <g id=\"ytick_79\">\n     <g id=\"line2d_183\">\n      <g>\n       <use xlink:href=\"#mf950be4dbd\" x=\"542.98125\" y=\"835.504025\" style=\"stroke: #000000; stroke-width: 0.8\"/>\n      </g>\n     </g>\n     <g id=\"text_195\">\n      <!-- 0.0 -->\n      <g transform=\"translate(520.078125 839.303244)scale(0.1 -0.1)\">\n       <use xlink:href=\"#DejaVuSans-30\"/>\n       <use xlink:href=\"#DejaVuSans-2e\" x=\"63.623047\"/>\n       <use xlink:href=\"#DejaVuSans-30\" x=\"95.410156\"/>\n      </g>\n     </g>\n    </g>\n    <g id=\"ytick_80\">\n     <g id=\"line2d_184\">\n      <g>\n       <use xlink:href=\"#mf950be4dbd\" x=\"542.98125\" y=\"805.047624\" style=\"stroke: #000000; stroke-width: 0.8\"/>\n      </g>\n     </g>\n     <g id=\"text_196\">\n      <!-- 0.2 -->\n      <g transform=\"translate(520.078125 808.846843)scale(0.1 -0.1)\">\n       <use xlink:href=\"#DejaVuSans-30\"/>\n       <use xlink:href=\"#DejaVuSans-2e\" x=\"63.623047\"/>\n       <use xlink:href=\"#DejaVuSans-32\" x=\"95.410156\"/>\n      </g>\n     </g>\n    </g>\n    <g id=\"ytick_81\">\n     <g id=\"line2d_185\">\n      <g>\n       <use xlink:href=\"#mf950be4dbd\" x=\"542.98125\" y=\"774.591223\" style=\"stroke: #000000; stroke-width: 0.8\"/>\n      </g>\n     </g>\n     <g id=\"text_197\">\n      <!-- 0.4 -->\n      <g transform=\"translate(520.078125 778.390442)scale(0.1 -0.1)\">\n       <use xlink:href=\"#DejaVuSans-30\"/>\n       <use xlink:href=\"#DejaVuSans-2e\" x=\"63.623047\"/>\n       <use xlink:href=\"#DejaVuSans-34\" x=\"95.410156\"/>\n      </g>\n     </g>\n    </g>\n    <g id=\"ytick_82\">\n     <g id=\"line2d_186\">\n      <g>\n       <use xlink:href=\"#mf950be4dbd\" x=\"542.98125\" y=\"744.134823\" style=\"stroke: #000000; stroke-width: 0.8\"/>\n      </g>\n     </g>\n     <g id=\"text_198\">\n      <!-- 0.6 -->\n      <g transform=\"translate(520.078125 747.934041)scale(0.1 -0.1)\">\n       <use xlink:href=\"#DejaVuSans-30\"/>\n       <use xlink:href=\"#DejaVuSans-2e\" x=\"63.623047\"/>\n       <use xlink:href=\"#DejaVuSans-36\" x=\"95.410156\"/>\n      </g>\n     </g>\n    </g>\n    <g id=\"ytick_83\">\n     <g id=\"line2d_187\">\n      <g>\n       <use xlink:href=\"#mf950be4dbd\" x=\"542.98125\" y=\"713.678422\" style=\"stroke: #000000; stroke-width: 0.8\"/>\n      </g>\n     </g>\n     <g id=\"text_199\">\n      <!-- 0.8 -->\n      <g transform=\"translate(520.078125 717.477641)scale(0.1 -0.1)\">\n       <use xlink:href=\"#DejaVuSans-30\"/>\n       <use xlink:href=\"#DejaVuSans-2e\" x=\"63.623047\"/>\n       <use xlink:href=\"#DejaVuSans-38\" x=\"95.410156\"/>\n      </g>\n     </g>\n    </g>\n    <g id=\"ytick_84\">\n     <g id=\"line2d_188\">\n      <g>\n       <use xlink:href=\"#mf950be4dbd\" x=\"542.98125\" y=\"683.222021\" style=\"stroke: #000000; stroke-width: 0.8\"/>\n      </g>\n     </g>\n     <g id=\"text_200\">\n      <!-- 1.0 -->\n      <g transform=\"translate(520.078125 687.02124)scale(0.1 -0.1)\">\n       <use xlink:href=\"#DejaVuSans-31\"/>\n       <use xlink:href=\"#DejaVuSans-2e\" x=\"63.623047\"/>\n       <use xlink:href=\"#DejaVuSans-30\" x=\"95.410156\"/>\n      </g>\n     </g>\n    </g>\n    <g id=\"text_201\">\n     <!-- True Positive Rate -->\n     <g transform=\"translate(513.998438 803.89271)rotate(-90)scale(0.1 -0.1)\">\n      <use xlink:href=\"#DejaVuSans-54\"/>\n      <use xlink:href=\"#DejaVuSans-72\" x=\"46.333984\"/>\n      <use xlink:href=\"#DejaVuSans-75\" x=\"87.447266\"/>\n      <use xlink:href=\"#DejaVuSans-65\" x=\"150.826172\"/>\n      <use xlink:href=\"#DejaVuSans-20\" x=\"212.349609\"/>\n      <use xlink:href=\"#DejaVuSans-50\" x=\"244.136719\"/>\n      <use xlink:href=\"#DejaVuSans-6f\" x=\"300.814453\"/>\n      <use xlink:href=\"#DejaVuSans-73\" x=\"361.996094\"/>\n      <use xlink:href=\"#DejaVuSans-69\" x=\"414.095703\"/>\n      <use xlink:href=\"#DejaVuSans-74\" x=\"441.878906\"/>\n      <use xlink:href=\"#DejaVuSans-69\" x=\"481.087891\"/>\n      <use xlink:href=\"#DejaVuSans-76\" x=\"508.871094\"/>\n      <use xlink:href=\"#DejaVuSans-65\" x=\"568.050781\"/>\n      <use xlink:href=\"#DejaVuSans-20\" x=\"629.574219\"/>\n      <use xlink:href=\"#DejaVuSans-52\" x=\"661.361328\"/>\n      <use xlink:href=\"#DejaVuSans-61\" x=\"728.59375\"/>\n      <use xlink:href=\"#DejaVuSans-74\" x=\"789.873047\"/>\n      <use xlink:href=\"#DejaVuSans-65\" x=\"829.082031\"/>\n     </g>\n    </g>\n   </g>\n   <g id=\"line2d_189\">\n    <path d=\"M 551.708523 835.504025 \nL 553.453977 822.951732 \nL 555.199432 810.39944 \nL 556.944886 797.847148 \nL 558.690341 785.294855 \nL 560.435795 772.742563 \nL 562.18125 760.190271 \nL 563.926705 750.028181 \nL 565.672159 740.21416 \nL 567.417614 731.315022 \nL 569.163068 723.186845 \nL 570.908523 715.694329 \nL 572.653977 708.801736 \nL 574.399432 702.831923 \nL 576.144886 697.629284 \nL 577.890341 693.753686 \nL 579.635795 691.316883 \nL 581.38125 689.877575 \nL 583.126705 689.147246 \nL 584.872159 689.060623 \nL 586.617614 688.988541 \nL 588.363068 688.91646 \nL 590.108523 688.844378 \nL 591.853977 688.772297 \nL 593.599432 688.700215 \nL 595.344886 688.628134 \nL 597.090341 688.556052 \nL 598.835795 688.483971 \nL 600.58125 688.411889 \nL 602.326705 688.339808 \nL 604.072159 688.267726 \nL 605.817614 688.195645 \nL 607.563068 688.123563 \nL 609.308523 688.051482 \nL 611.053977 687.9794 \nL 612.799432 687.907319 \nL 614.544886 687.835237 \nL 616.290341 687.763156 \nL 618.035795 687.691074 \nL 619.78125 687.618993 \nL 621.526705 687.546911 \nL 623.272159 687.47483 \nL 625.017614 687.402748 \nL 626.763068 687.330667 \nL 628.508523 687.258585 \nL 630.253977 687.186504 \nL 631.999432 687.114422 \nL 633.744886 687.042341 \nL 635.490341 686.970259 \nL 637.235795 686.898178 \nL 638.98125 686.826096 \nL 640.726705 686.754015 \nL 642.472159 686.681933 \nL 644.217614 686.609852 \nL 645.963068 686.53777 \nL 647.708523 686.465689 \nL 649.453977 686.393607 \nL 651.199432 686.321526 \nL 652.944886 686.249444 \nL 654.690341 686.177363 \nL 656.435795 686.105281 \nL 658.18125 686.0332 \nL 659.926705 685.961118 \nL 661.672159 685.889037 \nL 663.417614 685.816955 \nL 665.163068 685.744874 \nL 666.908523 685.672792 \nL 668.653977 685.600711 \nL 670.399432 685.528629 \nL 672.144886 685.456548 \nL 673.890341 685.384466 \nL 675.635795 685.312385 \nL 677.38125 685.240303 \nL 679.126705 685.168222 \nL 680.872159 685.09614 \nL 682.617614 685.024059 \nL 684.363068 684.951977 \nL 686.108523 684.879896 \nL 687.853977 684.807814 \nL 689.599432 684.735733 \nL 691.344886 684.663651 \nL 693.090341 684.59157 \nL 694.835795 684.519488 \nL 696.58125 684.447407 \nL 698.326705 684.375325 \nL 700.072159 684.303244 \nL 701.817614 684.231162 \nL 703.563068 684.159081 \nL 705.308523 684.086999 \nL 707.053977 684.014918 \nL 708.799432 683.942836 \nL 710.544886 683.870755 \nL 712.290341 683.798673 \nL 714.035795 683.726592 \nL 715.78125 683.65451 \nL 717.526705 683.582429 \nL 719.272159 683.510347 \nL 721.017614 683.438266 \nL 722.763068 683.366184 \nL 724.508523 683.294103 \nL 726.253977 683.222021 \n\" clip-path=\"url(#p5891a35156)\" style=\"fill: none; stroke: #0000ff; stroke-opacity: 0.8; stroke-width: 1.5; stroke-linecap: square\"/>\n   </g>\n   <g id=\"line2d_190\">\n    <path d=\"M 551.708523 835.504025 \nL 726.253977 683.222021 \n\" clip-path=\"url(#p5891a35156)\" style=\"fill: none; stroke-dasharray: 7.4,3.2; stroke-dashoffset: 0; stroke: #ff0000; stroke-opacity: 0.8; stroke-width: 2\"/>\n   </g>\n   <g id=\"patch_69\">\n    <path d=\"M 542.98125 843.118125 \nL 542.98125 675.607921 \n\" style=\"fill: none; stroke: #000000; stroke-width: 0.8; stroke-linejoin: miter; stroke-linecap: square\"/>\n   </g>\n   <g id=\"patch_70\">\n    <path d=\"M 734.98125 843.118125 \nL 734.98125 675.607921 \n\" style=\"fill: none; stroke: #000000; stroke-width: 0.8; stroke-linejoin: miter; stroke-linecap: square\"/>\n   </g>\n   <g id=\"patch_71\">\n    <path d=\"M 542.98125 843.118125 \nL 734.98125 843.118125 \n\" style=\"fill: none; stroke: #000000; stroke-width: 0.8; stroke-linejoin: miter; stroke-linecap: square\"/>\n   </g>\n   <g id=\"patch_72\">\n    <path d=\"M 542.98125 675.607921 \nL 734.98125 675.607921 \n\" style=\"fill: none; stroke: #000000; stroke-width: 0.8; stroke-linejoin: miter; stroke-linecap: square\"/>\n   </g>\n   <g id=\"text_202\">\n    <!-- GIN flux+ -->\n    <g transform=\"translate(542.98125 669.607921)scale(0.12 -0.12)\">\n     <use xlink:href=\"#DejaVuSans-Bold-47\"/>\n     <use xlink:href=\"#DejaVuSans-Bold-49\" x=\"82.080078\"/>\n     <use xlink:href=\"#DejaVuSans-Bold-4e\" x=\"119.287109\"/>\n     <use xlink:href=\"#DejaVuSans-Bold-20\" x=\"202.978516\"/>\n     <use xlink:href=\"#DejaVuSans-Bold-66\" x=\"237.792969\"/>\n     <use xlink:href=\"#DejaVuSans-Bold-6c\" x=\"281.298828\"/>\n     <use xlink:href=\"#DejaVuSans-Bold-75\" x=\"315.576172\"/>\n     <use xlink:href=\"#DejaVuSans-Bold-78\" x=\"386.767578\"/>\n     <use xlink:href=\"#DejaVuSans-Bold-2b\" x=\"451.269531\"/>\n    </g>\n   </g>\n   <g id=\"legend_12\">\n    <g id=\"patch_73\">\n     <path d=\"M 577.48125 839.368125 \nL 729.73125 839.368125 \nQ 731.23125 839.368125 731.23125 837.868125 \nL 731.23125 816.600937 \nQ 731.23125 815.100937 729.73125 815.100937 \nL 577.48125 815.100937 \nQ 575.98125 815.100937 575.98125 816.600937 \nL 575.98125 837.868125 \nQ 575.98125 839.368125 577.48125 839.368125 \nz\n\" style=\"fill: #ffffff; opacity: 0.8; stroke: #cccccc; stroke-linejoin: miter\"/>\n    </g>\n    <g id=\"line2d_191\">\n     <path d=\"M 578.98125 821.174766 \nL 586.48125 821.174766 \nL 593.98125 821.174766 \n\" style=\"fill: none; stroke: #0000ff; stroke-opacity: 0.8; stroke-width: 1.5; stroke-linecap: square\"/>\n    </g>\n    <g id=\"text_203\">\n     <!-- Test set ROC (AUC = 0.91 $\\pm$ 0.02) -->\n     <g transform=\"translate(599.98125 823.799766)scale(0.075 -0.075)\">\n      <use xlink:href=\"#DejaVuSans-54\" transform=\"translate(0 0.125)\"/>\n      <use xlink:href=\"#DejaVuSans-65\" transform=\"translate(61.083984 0.125)\"/>\n      <use xlink:href=\"#DejaVuSans-73\" transform=\"translate(122.607422 0.125)\"/>\n      <use xlink:href=\"#DejaVuSans-74\" transform=\"translate(174.707031 0.125)\"/>\n      <use xlink:href=\"#DejaVuSans-20\" transform=\"translate(213.916016 0.125)\"/>\n      <use xlink:href=\"#DejaVuSans-73\" transform=\"translate(245.703125 0.125)\"/>\n      <use xlink:href=\"#DejaVuSans-65\" transform=\"translate(297.802734 0.125)\"/>\n      <use xlink:href=\"#DejaVuSans-74\" transform=\"translate(359.326172 0.125)\"/>\n      <use xlink:href=\"#DejaVuSans-20\" transform=\"translate(398.535156 0.125)\"/>\n      <use xlink:href=\"#DejaVuSans-52\" transform=\"translate(430.322266 0.125)\"/>\n      <use xlink:href=\"#DejaVuSans-4f\" transform=\"translate(499.804688 0.125)\"/>\n      <use xlink:href=\"#DejaVuSans-43\" transform=\"translate(578.515625 0.125)\"/>\n      <use xlink:href=\"#DejaVuSans-20\" transform=\"translate(648.339844 0.125)\"/>\n      <use xlink:href=\"#DejaVuSans-28\" transform=\"translate(680.126953 0.125)\"/>\n      <use xlink:href=\"#DejaVuSans-41\" transform=\"translate(719.140625 0.125)\"/>\n      <use xlink:href=\"#DejaVuSans-55\" transform=\"translate(787.548828 0.125)\"/>\n      <use xlink:href=\"#DejaVuSans-43\" transform=\"translate(860.742188 0.125)\"/>\n      <use xlink:href=\"#DejaVuSans-20\" transform=\"translate(930.566406 0.125)\"/>\n      <use xlink:href=\"#DejaVuSans-3d\" transform=\"translate(962.353516 0.125)\"/>\n      <use xlink:href=\"#DejaVuSans-20\" transform=\"translate(1046.142578 0.125)\"/>\n      <use xlink:href=\"#DejaVuSans-30\" transform=\"translate(1077.929688 0.125)\"/>\n      <use xlink:href=\"#DejaVuSans-2e\" transform=\"translate(1141.552734 0.125)\"/>\n      <use xlink:href=\"#DejaVuSans-39\" transform=\"translate(1173.339844 0.125)\"/>\n      <use xlink:href=\"#DejaVuSans-31\" transform=\"translate(1236.962891 0.125)\"/>\n      <use xlink:href=\"#DejaVuSans-20\" transform=\"translate(1300.585938 0.125)\"/>\n      <use xlink:href=\"#DejaVuSans-b1\" transform=\"translate(1332.373047 0.125)\"/>\n      <use xlink:href=\"#DejaVuSans-20\" transform=\"translate(1416.162109 0.125)\"/>\n      <use xlink:href=\"#DejaVuSans-30\" transform=\"translate(1447.949219 0.125)\"/>\n      <use xlink:href=\"#DejaVuSans-2e\" transform=\"translate(1511.572266 0.125)\"/>\n      <use xlink:href=\"#DejaVuSans-30\" transform=\"translate(1543.359375 0.125)\"/>\n      <use xlink:href=\"#DejaVuSans-32\" transform=\"translate(1606.982422 0.125)\"/>\n      <use xlink:href=\"#DejaVuSans-29\" transform=\"translate(1670.605469 0.125)\"/>\n     </g>\n    </g>\n    <g id=\"line2d_192\">\n     <path d=\"M 578.98125 832.183359 \nL 586.48125 832.183359 \nL 593.98125 832.183359 \n\" style=\"fill: none; stroke-dasharray: 7.4,3.2; stroke-dashoffset: 0; stroke: #ff0000; stroke-opacity: 0.8; stroke-width: 2\"/>\n    </g>\n    <g id=\"text_204\">\n     <!-- Random -->\n     <g transform=\"translate(599.98125 834.808359)scale(0.075 -0.075)\">\n      <use xlink:href=\"#DejaVuSans-52\"/>\n      <use xlink:href=\"#DejaVuSans-61\" x=\"67.232422\"/>\n      <use xlink:href=\"#DejaVuSans-6e\" x=\"128.511719\"/>\n      <use xlink:href=\"#DejaVuSans-64\" x=\"191.890625\"/>\n      <use xlink:href=\"#DejaVuSans-6f\" x=\"255.367188\"/>\n      <use xlink:href=\"#DejaVuSans-6d\" x=\"316.548828\"/>\n     </g>\n    </g>\n   </g>\n  </g>\n </g>\n <defs>\n  <clipPath id=\"p34e88dbc2b\">\n   <rect x=\"43.78125\" y=\"22.318125\" width=\"192\" height=\"167.510204\"/>\n  </clipPath>\n  <clipPath id=\"pc936b4532f\">\n   <rect x=\"43.78125\" y=\"240.08139\" width=\"192\" height=\"167.510204\"/>\n  </clipPath>\n  <clipPath id=\"p18966ca75a\">\n   <rect x=\"293.38125\" y=\"22.318125\" width=\"192\" height=\"167.510204\"/>\n  </clipPath>\n  <clipPath id=\"peb1d96a492\">\n   <rect x=\"293.38125\" y=\"240.08139\" width=\"192\" height=\"167.510204\"/>\n  </clipPath>\n  <clipPath id=\"pedb8a444f1\">\n   <rect x=\"542.98125\" y=\"22.318125\" width=\"192\" height=\"167.510204\"/>\n  </clipPath>\n  <clipPath id=\"pa1dfa46f54\">\n   <rect x=\"542.98125\" y=\"240.08139\" width=\"192\" height=\"167.510204\"/>\n  </clipPath>\n  <clipPath id=\"p58b6c0c128\">\n   <rect x=\"43.78125\" y=\"457.844656\" width=\"192\" height=\"167.510204\"/>\n  </clipPath>\n  <clipPath id=\"pd770513eb7\">\n   <rect x=\"43.78125\" y=\"675.607921\" width=\"192\" height=\"167.510204\"/>\n  </clipPath>\n  <clipPath id=\"p3b00bd8b2d\">\n   <rect x=\"293.38125\" y=\"457.844656\" width=\"192\" height=\"167.510204\"/>\n  </clipPath>\n  <clipPath id=\"pc4bbea53a4\">\n   <rect x=\"293.38125\" y=\"675.607921\" width=\"192\" height=\"167.510204\"/>\n  </clipPath>\n  <clipPath id=\"pcbc29b24ff\">\n   <rect x=\"542.98125\" y=\"457.844656\" width=\"192\" height=\"167.510204\"/>\n  </clipPath>\n  <clipPath id=\"p5891a35156\">\n   <rect x=\"542.98125\" y=\"675.607921\" width=\"192\" height=\"167.510204\"/>\n  </clipPath>\n </defs>\n</svg>\n",
      "text/plain": [
       "<Figure size 1600x1200 with 12 Axes>"
      ]
     },
     "metadata": {},
     "output_type": "display_data"
    }
   ],
   "source": [
    "fig = plt.figure(figsize=(16,12))\n",
    "ax0 = plt.subplot2grid((4, 3), (0, 0), colspan=1)\n",
    "ax1 = plt.subplot2grid((4, 3), (1, 0), colspan=1)\n",
    "ax2 = plt.subplot2grid((4, 3), (0, 1), colspan=1)\n",
    "\n",
    "ax3 = plt.subplot2grid((4, 3), (1, 1), colspan=1)\n",
    "ax4 = plt.subplot2grid((4, 3), (0, 2), colspan=1)\n",
    "ax5 = plt.subplot2grid((4, 3), (1, 2), colspan=1)\n",
    "\n",
    "\n",
    "ax6 = plt.subplot2grid((4, 3), (2, 0), colspan=1)\n",
    "ax7 = plt.subplot2grid((4, 3), (3, 0), colspan=1)\n",
    "ax8 = plt.subplot2grid((4, 3), (2, 1), colspan=1)\n",
    "\n",
    "\n",
    "ax9 = plt.subplot2grid((4, 3), (3, 1), colspan=1)\n",
    "ax10 = plt.subplot2grid((4, 3), (2, 2), colspan=1)\n",
    "ax11 = plt.subplot2grid((4, 3), (3, 2), colspan=1)\n",
    "\n",
    "#ax12 = plt.subplot2grid((4, 3), (2, 2), colspan=1)\n",
    "\n",
    "plt.subplots_adjust(left=0.1, bottom=0.1, right=.7, top=1.05, wspace=0.3, hspace=0.3)    \n",
    "\n",
    "\n",
    "put_Learning_curve(GCN_T_F[1], GCN_T_F[2], ax0, 'GCN flux-')\n",
    "put_Learning_curve(GCN_T_T[1], GCN_T_T[2], ax1, 'GCN flux+')\n",
    "\n",
    "put_Learning_curve(GAT_T_F[1], GAT_T_F[2], ax2, 'GAT flux-')\n",
    "put_Learning_curve(GAT_T_T[1], GAT_T_T[2], ax3, 'GAT flux+')\n",
    "\n",
    "\n",
    "put_Learning_curve(GIN_T_F[1], GIN_T_F[2], ax4, 'GIN flux-')\n",
    "put_Learning_curve(GIN_T_T[1], GIN_T_T[2], ax5, 'GIN flux+')\n",
    "\n",
    "\n",
    "\n",
    "put_ROC_in_subplot(GCN_base_fpr_TF, GCN_mean_tprs_TF, GCN_tprs_lower_TF, GCN_tprs_upper_TF, GCN_mean_auc_TF, GCN_std_auc_TF   ,\n",
    "                   ax6, xlabel = 'False Positive Rate', letter = 'GCN flux-')\n",
    "\n",
    "put_ROC_in_subplot(GCN_base_fpr_TT, GCN_mean_tprs_TT, GCN_tprs_lower_TT, GCN_tprs_upper_TT, GCN_mean_auc_TT, GCN_std_auc_TT,\n",
    "                   ax7, xlabel = 'False Positive Rate', letter = 'GCN flux+')\n",
    "\n",
    "\n",
    "put_ROC_in_subplot(GAT_base_fpr_TF, GAT_mean_tprs_TF, GAT_tprs_lower_TF, GAT_tprs_upper_TF, GAT_mean_auc_TF, GAT_std_auc_TF  ,\n",
    "                   ax8, xlabel = 'False Positive Rate', letter = 'GAT flux-')\n",
    "\n",
    "put_ROC_in_subplot(GAT_base_fpr_TF, GAT_mean_tprs_TF, GAT_tprs_lower_TF, GAT_tprs_upper_TF, GAT_mean_auc_TF, GAT_std_auc_TF  ,\n",
    "                   ax9, xlabel = 'False Positive Rate', letter = 'GAT flux+')\n",
    "\n",
    "put_ROC_in_subplot(GIN_base_fpr_TF, GIN_mean_tprs_TF, GIN_tprs_lower_TF, GIN_tprs_upper_TF, GIN_mean_auc_TF, GIN_std_auc_TF ,\n",
    "                   ax10, xlabel = 'False Positive Rate', letter = 'GIN flux-')\n",
    "\n",
    "put_ROC_in_subplot(GIN_base_fpr_TT, GIN_mean_tprs_TT, GIN_tprs_lower_TT, GIN_tprs_upper_TT, GIN_mean_auc_TT, GIN_std_auc_TT  ,\n",
    "                   ax11, xlabel = 'False Positive Rate', letter = 'GIN flux+')"
   ]
  },
  {
   "cell_type": "code",
   "execution_count": 6,
   "metadata": {},
   "outputs": [
    {
     "data": {
      "text/plain": [
       "{'GCN_F_F': (my_GNN(\n",
       "    (GNN_layers): GCN(1, 8, num_layers=3)\n",
       "    (FC1): Linear(in_features=8, out_features=1, bias=True)\n",
       "    (FC2): Linear(in_features=15635, out_features=tensor([2]), bias=True)\n",
       "    (leakyrelu): LeakyReLU(negative_slope=0.01)\n",
       "  ),\n",
       "  [0.807153965785381,\n",
       "   0.9875583203732504,\n",
       "   0.9917796045323262,\n",
       "   0.9937791601866252,\n",
       "   0.9943345923128194,\n",
       "   0.9943345923128194,\n",
       "   0.9947789380137747,\n",
       "   0.9941124194623417,\n",
       "   0.994556765163297,\n",
       "   0.9950011108642524,\n",
       "   0.9946678515885359,\n",
       "   0.9947789380137747,\n",
       "   0.9950011108642524,\n",
       "   0.99522328371473,\n",
       "   0.9951121972894912,\n",
       "   0.9951121972894912,\n",
       "   0.9948900244390135,\n",
       "   0.99522328371473,\n",
       "   0.9951121972894912,\n",
       "   0.9951121972894912,\n",
       "   0.99522328371473,\n",
       "   0.99522328371473,\n",
       "   0.995334370139969,\n",
       "   0.995334370139969,\n",
       "   0.995334370139969,\n",
       "   0.995334370139969,\n",
       "   0.995334370139969,\n",
       "   0.995334370139969,\n",
       "   0.995334370139969,\n",
       "   0.99522328371473],\n",
       "  [0.9811163565676201,\n",
       "   0.9902804776450986,\n",
       "   0.9927797833935018,\n",
       "   0.9925020827547903,\n",
       "   0.9927797833935018,\n",
       "   0.9927797833935018,\n",
       "   0.9947236878644821,\n",
       "   0.9941682865870591,\n",
       "   0.9947236878644821,\n",
       "   0.9930574840322133,\n",
       "   0.9947236878644821,\n",
       "   0.9944459872257706,\n",
       "   0.9944459872257706,\n",
       "   0.9950013885031935,\n",
       "   0.9950013885031935,\n",
       "   0.9950013885031935,\n",
       "   0.995279089141905,\n",
       "   0.9950013885031935,\n",
       "   0.9950013885031935,\n",
       "   0.995279089141905,\n",
       "   0.9950013885031935,\n",
       "   0.9950013885031935,\n",
       "   0.995279089141905,\n",
       "   0.995279089141905,\n",
       "   0.995279089141905,\n",
       "   0.995279089141905,\n",
       "   0.995279089141905,\n",
       "   0.995279089141905,\n",
       "   0.995279089141905,\n",
       "   0.9950013885031935]),\n",
       " 'GCN_T_F': (my_GNN(\n",
       "    (GNN_layers): GCN(1, 8, num_layers=3)\n",
       "    (FC1): Linear(in_features=8, out_features=1, bias=True)\n",
       "    (FC2): Linear(in_features=15635, out_features=tensor([2]), bias=True)\n",
       "    (leakyrelu): LeakyReLU(negative_slope=0.01)\n",
       "  ),\n",
       "  [0.5975338813596979,\n",
       "   0.7981559653410353,\n",
       "   0.8419240168851366,\n",
       "   0.8756942901577427,\n",
       "   0.8882470562097312,\n",
       "   0.9107976005332148,\n",
       "   0.9015774272383915,\n",
       "   0.9242390579871139,\n",
       "   0.9160186625194401,\n",
       "   0.9321261941790713,\n",
       "   0.9305709842257276,\n",
       "   0.9305709842257276,\n",
       "   0.9370139968895801,\n",
       "   0.9375694290157742,\n",
       "   0.9422350588758054,\n",
       "   0.9473450344367919,\n",
       "   0.947233948011553,\n",
       "   0.9481226394134636,\n",
       "   0.9482337258387025,\n",
       "   0.9516774050211064,\n",
       "   0.9522328371473006,\n",
       "   0.9525660964230172,\n",
       "   0.9545656520773161,\n",
       "   0.954676738502555,\n",
       "   0.9564541213063764,\n",
       "   0.9561208620306598,\n",
       "   0.9574538991335259,\n",
       "   0.957342812708287,\n",
       "   0.9601199733392579,\n",
       "   0.9595645412130638],\n",
       "  [0.820049986114968,\n",
       "   0.7317411830047209,\n",
       "   0.874479311302416,\n",
       "   0.8925298528186615,\n",
       "   0.8742016106637045,\n",
       "   0.8989169675090253,\n",
       "   0.914745903915579,\n",
       "   0.9255762288253263,\n",
       "   0.9183560122188281,\n",
       "   0.9227992224382116,\n",
       "   0.9119688975284643,\n",
       "   0.9275201332963066,\n",
       "   0.9111357956123299,\n",
       "   0.9386281588447654,\n",
       "   0.9455706748125521,\n",
       "   0.946126076089975,\n",
       "   0.9436267703415718,\n",
       "   0.9441821716189948,\n",
       "   0.951402388225493,\n",
       "   0.9519577895029159,\n",
       "   0.9427936684254373,\n",
       "   0.9536239933351847,\n",
       "   0.9527908914190503,\n",
       "   0.954457095251319,\n",
       "   0.9541793946126076,\n",
       "   0.9519577895029159,\n",
       "   0.9572341016384338,\n",
       "   0.9586226048319911,\n",
       "   0.9536239933351847,\n",
       "   0.9608442099416828]),\n",
       " 'GCN_F_T': (my_GNN(\n",
       "    (GNN_layers): GCN(1, 8, num_layers=3)\n",
       "    (FC1): Linear(in_features=8, out_features=1, bias=True)\n",
       "    (FC2): Linear(in_features=15635, out_features=tensor([2]), bias=True)\n",
       "    (leakyrelu): LeakyReLU(negative_slope=0.01)\n",
       "  ),\n",
       "  [0.7529437902688292,\n",
       "   0.9794490113308154,\n",
       "   0.9818929126860697,\n",
       "   0.990557653854699,\n",
       "   0.992557209508998,\n",
       "   0.9946678515885359,\n",
       "   0.991890690957565,\n",
       "   0.9903354810042213,\n",
       "   0.9926682959342369,\n",
       "   0.9941124194623417,\n",
       "   0.9946678515885359,\n",
       "   0.9930015552099534,\n",
       "   0.992557209508998,\n",
       "   0.99522328371473,\n",
       "   0.9950011108642524,\n",
       "   0.99522328371473,\n",
       "   0.99522328371473,\n",
       "   0.9926682959342369,\n",
       "   0.9942235058875806,\n",
       "   0.9923350366585203,\n",
       "   0.9942235058875806,\n",
       "   0.9888913574761165,\n",
       "   0.9950011108642524,\n",
       "   0.9943345923128194,\n",
       "   0.9946678515885359,\n",
       "   0.9951121972894912,\n",
       "   0.995334370139969,\n",
       "   0.995334370139969,\n",
       "   0.995334370139969,\n",
       "   0.995334370139969],\n",
       "  [0.9466814773673979,\n",
       "   0.9852818661482922,\n",
       "   0.9908358789225216,\n",
       "   0.9933351846709247,\n",
       "   0.9944459872257706,\n",
       "   0.9902804776450986,\n",
       "   0.9927797833935018,\n",
       "   0.9772285476256596,\n",
       "   0.9944459872257706,\n",
       "   0.9925020827547903,\n",
       "   0.9922243821160789,\n",
       "   0.9908358789225216,\n",
       "   0.9950013885031935,\n",
       "   0.9941682865870591,\n",
       "   0.9944459872257706,\n",
       "   0.9947236878644821,\n",
       "   0.9944459872257706,\n",
       "   0.9941682865870591,\n",
       "   0.9900027770063872,\n",
       "   0.9933351846709247,\n",
       "   0.9925020827547903,\n",
       "   0.9941682865870591,\n",
       "   0.9947236878644821,\n",
       "   0.995279089141905,\n",
       "   0.9947236878644821,\n",
       "   0.9950013885031935,\n",
       "   0.9950013885031935,\n",
       "   0.995279089141905,\n",
       "   0.9950013885031935,\n",
       "   0.9944459872257706]),\n",
       " 'GCN_T_T': (my_GNN(\n",
       "    (GNN_layers): GCN(1, 8, num_layers=3)\n",
       "    (FC1): Linear(in_features=8, out_features=1, bias=True)\n",
       "    (FC2): Linear(in_features=15635, out_features=tensor([2]), bias=True)\n",
       "    (leakyrelu): LeakyReLU(negative_slope=0.01)\n",
       "  ),\n",
       "  [0.5049988891357476,\n",
       "   0.5469895578760275,\n",
       "   0.7152854921128639,\n",
       "   0.8128193734725616,\n",
       "   0.8350366585203288,\n",
       "   0.8500333259275716,\n",
       "   0.86258609197956,\n",
       "   0.8698067096200844,\n",
       "   0.8815818706954011,\n",
       "   0.8950233281493002,\n",
       "   0.9014663408131526,\n",
       "   0.8925794267940458,\n",
       "   0.9149077982670518,\n",
       "   0.9192401688513664,\n",
       "   0.9156854032437236,\n",
       "   0.9279049100199955,\n",
       "   0.9234614530104421,\n",
       "   0.9347922683848033,\n",
       "   0.9277938235947567,\n",
       "   0.9322372806043101,\n",
       "   0.9354587869362364,\n",
       "   0.934347922683848,\n",
       "   0.9403465896467451,\n",
       "   0.9344590091090869,\n",
       "   0.9453454787824928,\n",
       "   0.9392357253943568,\n",
       "   0.9417907131748501,\n",
       "   0.9437902688291491,\n",
       "   0.9427904910019995,\n",
       "   0.9490113308153744],\n",
       "  [0.49569564009997225,\n",
       "   0.6981394057206332,\n",
       "   0.802832546514857,\n",
       "   0.830047209108581,\n",
       "   0.838933629547348,\n",
       "   0.820049986114968,\n",
       "   0.8630935851152458,\n",
       "   0.8769786170508193,\n",
       "   0.8767009164121078,\n",
       "   0.8828103304637601,\n",
       "   0.8597611774507081,\n",
       "   0.892807553457373,\n",
       "   0.9128019994445987,\n",
       "   0.8644820883088031,\n",
       "   0.9053040821993891,\n",
       "   0.9233546237156346,\n",
       "   0.9250208275479034,\n",
       "   0.9155790058317134,\n",
       "   0.9250208275479034,\n",
       "   0.9302971396834213,\n",
       "   0.9233546237156346,\n",
       "   0.9172452096639823,\n",
       "   0.9319633435156901,\n",
       "   0.9094695917800611,\n",
       "   0.9333518467092474,\n",
       "   0.9333518467092474,\n",
       "   0.9186337128575396,\n",
       "   0.9047486809219661,\n",
       "   0.9214107192446542,\n",
       "   0.9352957511802277]),\n",
       " 'GAT_F_F': (my_GNN(\n",
       "    (GNN_layers): GAT(1, 8, num_layers=3)\n",
       "    (FC1): Linear(in_features=8, out_features=1, bias=True)\n",
       "    (FC2): Linear(in_features=15635, out_features=tensor([2]), bias=True)\n",
       "    (leakyrelu): LeakyReLU(negative_slope=0.01)\n",
       "  ),\n",
       "  [0.4937791601866252,\n",
       "   0.4944456787380582,\n",
       "   0.5285492112863808,\n",
       "   0.6120862030659854,\n",
       "   0.7670517662741613,\n",
       "   0.8252610530993113,\n",
       "   0.8703621417462786,\n",
       "   0.9193512552766052,\n",
       "   0.9383470339924461,\n",
       "   0.9433459231281938,\n",
       "   0.9441235281048656,\n",
       "   0.9441235281048656,\n",
       "   0.9466785158853588,\n",
       "   0.94656742946012,\n",
       "   0.9493445900910908,\n",
       "   0.9525660964230172,\n",
       "   0.9552321706287492,\n",
       "   0.9587869362363919,\n",
       "   0.96278604754499,\n",
       "   0.9684514552321706,\n",
       "   0.9791157520550988,\n",
       "   0.9898911353032659,\n",
       "   0.9948900244390135,\n",
       "   0.995334370139969,\n",
       "   0.9951121972894912,\n",
       "   0.9944456787380582,\n",
       "   0.9950011108642524,\n",
       "   0.995334370139969,\n",
       "   0.995334370139969,\n",
       "   0.995334370139969],\n",
       "  [0.49458483754512633,\n",
       "   0.49458483754512633,\n",
       "   0.5406831435712303,\n",
       "   0.6853651763399056,\n",
       "   0.7911691196889753,\n",
       "   0.8480977506248264,\n",
       "   0.8958622604831991,\n",
       "   0.9375173562899195,\n",
       "   0.9436267703415718,\n",
       "   0.9450152735351292,\n",
       "   0.9464037767286865,\n",
       "   0.9455706748125521,\n",
       "   0.9483476811996667,\n",
       "   0.9491807831158011,\n",
       "   0.9530685920577617,\n",
       "   0.9577895029158567,\n",
       "   0.9575118022771453,\n",
       "   0.9600111080255485,\n",
       "   0.9666759233546237,\n",
       "   0.9711191335740073,\n",
       "   0.9761177450708136,\n",
       "   0.9947236878644821,\n",
       "   0.9950013885031935,\n",
       "   0.9950013885031935,\n",
       "   0.9947236878644821,\n",
       "   0.9944459872257706,\n",
       "   0.9950013885031935,\n",
       "   0.9950013885031935,\n",
       "   0.9950013885031935,\n",
       "   0.9950013885031935]),\n",
       " 'GAT_T_F': (my_GNN(\n",
       "    (GNN_layers): GAT(1, 8, num_layers=3)\n",
       "    (FC1): Linear(in_features=8, out_features=1, bias=True)\n",
       "    (FC2): Linear(in_features=15635, out_features=tensor([2]), bias=True)\n",
       "    (leakyrelu): LeakyReLU(negative_slope=0.01)\n",
       "  ),\n",
       "  [0.6591868473672517,\n",
       "   0.8554765607642746,\n",
       "   0.8803599200177739,\n",
       "   0.8970228838035992,\n",
       "   0.8968007109531215,\n",
       "   0.9057987113974673,\n",
       "   0.9112419462341702,\n",
       "   0.924905576538547,\n",
       "   0.9279049100199955,\n",
       "   0.9349033548100422,\n",
       "   0.9223505887580538,\n",
       "   0.932348367029549,\n",
       "   0.9406798489224617,\n",
       "   0.9422350588758054,\n",
       "   0.9344590091090869,\n",
       "   0.9410131081981782,\n",
       "   0.9211286380804266,\n",
       "   0.9429015774272383,\n",
       "   0.939791157520551,\n",
       "   0.9503443679182404,\n",
       "   0.940457676071984,\n",
       "   0.9489002443901355,\n",
       "   0.9439013552543879,\n",
       "   0.9534547878249278,\n",
       "   0.939124638969118,\n",
       "   0.954010219951122,\n",
       "   0.9401244167962675,\n",
       "   0.95134414574539,\n",
       "   0.9431237502777161,\n",
       "   0.9476782937125083],\n",
       "  [0.8292141071924466,\n",
       "   0.8758678144959734,\n",
       "   0.8692029991668981,\n",
       "   0.9028047764509859,\n",
       "   0.9211330186059428,\n",
       "   0.9022493751735629,\n",
       "   0.9119688975284643,\n",
       "   0.8769786170508193,\n",
       "   0.9422382671480144,\n",
       "   0.9383504582060539,\n",
       "   0.8611496806442654,\n",
       "   0.94140516523188,\n",
       "   0.9297417384059984,\n",
       "   0.9502915856706471,\n",
       "   0.9477922799222438,\n",
       "   0.9286309358511524,\n",
       "   0.9361288530963621,\n",
       "   0.9358511524576506,\n",
       "   0.9369619550124966,\n",
       "   0.9536239933351847,\n",
       "   0.9447375728964177,\n",
       "   0.954457095251319,\n",
       "   0.9289086364898639,\n",
       "   0.9552901971674534,\n",
       "   0.9561232990835878,\n",
       "   0.9336295473479589,\n",
       "   0.9261316301027492,\n",
       "   0.927797833935018,\n",
       "   0.95084698694807,\n",
       "   0.9555678978061649]),\n",
       " 'GAT_F_T': (my_GNN(\n",
       "    (GNN_layers): GAT(1, 8, num_layers=3)\n",
       "    (FC1): Linear(in_features=8, out_features=1, bias=True)\n",
       "    (FC2): Linear(in_features=15635, out_features=tensor([2]), bias=True)\n",
       "    (leakyrelu): LeakyReLU(negative_slope=0.01)\n",
       "  ),\n",
       "  [0.5055543212619418,\n",
       "   0.6754054654521218,\n",
       "   0.9272383914685626,\n",
       "   0.9523439235725394,\n",
       "   0.9652299489002444,\n",
       "   0.9742279493445901,\n",
       "   0.981670739835592,\n",
       "   0.9840035547656076,\n",
       "   0.9872250610975338,\n",
       "   0.9903354810042213,\n",
       "   0.9906687402799378,\n",
       "   0.9924461230837591,\n",
       "   0.9930015552099534,\n",
       "   0.9936680737613863,\n",
       "   0.9942235058875806,\n",
       "   0.9944456787380582,\n",
       "   0.9947789380137747,\n",
       "   0.9950011108642524,\n",
       "   0.9951121972894912,\n",
       "   0.9951121972894912,\n",
       "   0.99522328371473,\n",
       "   0.9951121972894912,\n",
       "   0.99522328371473,\n",
       "   0.9951121972894912,\n",
       "   0.99522328371473,\n",
       "   0.9946678515885359,\n",
       "   0.9951121972894912,\n",
       "   0.99522328371473,\n",
       "   0.995334370139969,\n",
       "   0.99522328371473],\n",
       "  [0.5048597611774507,\n",
       "   0.7392391002499306,\n",
       "   0.9522354901416273,\n",
       "   0.964454318244932,\n",
       "   0.9655651207997779,\n",
       "   0.9797278533740628,\n",
       "   0.9800055540127742,\n",
       "   0.986948069980561,\n",
       "   0.9886142738128297,\n",
       "   0.9905581782838101,\n",
       "   0.991668980838656,\n",
       "   0.991668980838656,\n",
       "   0.991668980838656,\n",
       "   0.9925020827547903,\n",
       "   0.9933351846709247,\n",
       "   0.9933351846709247,\n",
       "   0.9930574840322133,\n",
       "   0.9930574840322133,\n",
       "   0.9936128853096362,\n",
       "   0.9933351846709247,\n",
       "   0.9930574840322133,\n",
       "   0.9938905859483477,\n",
       "   0.9936128853096362,\n",
       "   0.9938905859483477,\n",
       "   0.9938905859483477,\n",
       "   0.9938905859483477,\n",
       "   0.9944459872257706,\n",
       "   0.9947236878644821,\n",
       "   0.9938905859483477,\n",
       "   0.9944459872257706]),\n",
       " 'GAT_T_T': (my_GNN(\n",
       "    (GNN_layers): GAT(1, 8, num_layers=3)\n",
       "    (FC1): Linear(in_features=8, out_features=1, bias=True)\n",
       "    (FC2): Linear(in_features=15635, out_features=tensor([2]), bias=True)\n",
       "    (leakyrelu): LeakyReLU(negative_slope=0.01)\n",
       "  ),\n",
       "  [0.491890690957565,\n",
       "   0.4977782714952233,\n",
       "   0.49055765385469896,\n",
       "   0.493223728060431,\n",
       "   0.49389024661186404,\n",
       "   0.5008886914019107,\n",
       "   0.5002221728504777,\n",
       "   0.5027771606309709,\n",
       "   0.5048878027105088,\n",
       "   0.4977782714952233,\n",
       "   0.5004443457009553,\n",
       "   0.5029993334814485,\n",
       "   0.49855587647189514,\n",
       "   0.5041101977338369,\n",
       "   0.49744501221950677,\n",
       "   0.49855587647189514,\n",
       "   0.5051099755609865,\n",
       "   0.5051099755609865,\n",
       "   0.4977782714952233,\n",
       "   0.504665629860031,\n",
       "   0.4994445678738058,\n",
       "   0.4994445678738058,\n",
       "   0.5075538769162409,\n",
       "   0.48922461675183293,\n",
       "   0.5001110864252388,\n",
       "   0.5053321484114641,\n",
       "   0.5116640746500778,\n",
       "   0.4960008886914019,\n",
       "   0.5083314818929127,\n",
       "   0.5121084203510331],\n",
       "  [0.4954179394612608,\n",
       "   0.49430713690641487,\n",
       "   0.49430713690641487,\n",
       "   0.49430713690641487,\n",
       "   0.5048597611774507,\n",
       "   0.49430713690641487,\n",
       "   0.4934740349902805,\n",
       "   0.4948625381838378,\n",
       "   0.5012496528742016,\n",
       "   0.49458483754512633,\n",
       "   0.4962510413773952,\n",
       "   0.5051374618161621,\n",
       "   0.4954179394612608,\n",
       "   0.5031935573451819,\n",
       "   0.4940294362677034,\n",
       "   0.49736184393224103,\n",
       "   0.5112468758678145,\n",
       "   0.4948625381838378,\n",
       "   0.5087475701194113,\n",
       "   0.49458483754512633,\n",
       "   0.4951402388225493,\n",
       "   0.4959733407386837,\n",
       "   0.5006942515967787,\n",
       "   0.4940294362677034,\n",
       "   0.49652874201610664,\n",
       "   0.5031935573451819,\n",
       "   0.49458483754512633,\n",
       "   0.4951402388225493,\n",
       "   0.4959733407386837,\n",
       "   0.49736184393224103]),\n",
       " 'GIN_F_F': (my_GNN(\n",
       "    (GNN_layers): GIN(1, 8, num_layers=3)\n",
       "    (FC1): Linear(in_features=8, out_features=1, bias=True)\n",
       "    (FC2): Linear(in_features=15635, out_features=tensor([2]), bias=True)\n",
       "    (leakyrelu): LeakyReLU(negative_slope=0.01)\n",
       "  ),\n",
       "  [0.8743612530548767,\n",
       "   0.991890690957565,\n",
       "   0.9943345923128194,\n",
       "   0.9950011108642524,\n",
       "   0.9951121972894912,\n",
       "   0.99522328371473,\n",
       "   0.995334370139969,\n",
       "   0.99522328371473,\n",
       "   0.995334370139969,\n",
       "   0.995334370139969,\n",
       "   0.995334370139969,\n",
       "   0.99522328371473,\n",
       "   0.995334370139969,\n",
       "   0.995334370139969,\n",
       "   0.995334370139969,\n",
       "   0.995334370139969,\n",
       "   0.995334370139969,\n",
       "   0.995334370139969,\n",
       "   0.995334370139969,\n",
       "   0.995334370139969,\n",
       "   0.995334370139969,\n",
       "   0.995334370139969,\n",
       "   0.995334370139969,\n",
       "   0.995334370139969,\n",
       "   0.995334370139969,\n",
       "   0.995334370139969,\n",
       "   0.995334370139969,\n",
       "   0.995334370139969,\n",
       "   0.995334370139969,\n",
       "   0.995334370139969],\n",
       "  [0.9819494584837545,\n",
       "   0.9936128853096362,\n",
       "   0.9947236878644821,\n",
       "   0.995279089141905,\n",
       "   0.9950013885031935,\n",
       "   0.9950013885031935,\n",
       "   0.995279089141905,\n",
       "   0.995279089141905,\n",
       "   0.995279089141905,\n",
       "   0.995279089141905,\n",
       "   0.9947236878644821,\n",
       "   0.9941682865870591,\n",
       "   0.995279089141905,\n",
       "   0.995279089141905,\n",
       "   0.995279089141905,\n",
       "   0.995279089141905,\n",
       "   0.995279089141905,\n",
       "   0.995279089141905,\n",
       "   0.995279089141905,\n",
       "   0.995279089141905,\n",
       "   0.995279089141905,\n",
       "   0.995279089141905,\n",
       "   0.995279089141905,\n",
       "   0.995279089141905,\n",
       "   0.995279089141905,\n",
       "   0.995279089141905,\n",
       "   0.995279089141905,\n",
       "   0.995279089141905,\n",
       "   0.995279089141905,\n",
       "   0.995279089141905]),\n",
       " 'GIN_T_F': (my_GNN(\n",
       "    (GNN_layers): GIN(1, 8, num_layers=3)\n",
       "    (FC1): Linear(in_features=8, out_features=1, bias=True)\n",
       "    (FC2): Linear(in_features=15635, out_features=tensor([2]), bias=True)\n",
       "    (leakyrelu): LeakyReLU(negative_slope=0.01)\n",
       "  ),\n",
       "  [0.6949566762941568,\n",
       "   0.8320373250388803,\n",
       "   0.848478115974228,\n",
       "   0.85114419017996,\n",
       "   0.8641413019329038,\n",
       "   0.8644745612086203,\n",
       "   0.8614752277271718,\n",
       "   0.8709175738724728,\n",
       "   0.8733614752277272,\n",
       "   0.8735836480782049,\n",
       "   0.8731393023772495,\n",
       "   0.8780271050877583,\n",
       "   0.8811375249944456,\n",
       "   0.8826927349477893,\n",
       "   0.8845812041768496,\n",
       "   0.8824705620973117,\n",
       "   0.8800266607420573,\n",
       "   0.8896911797378361,\n",
       "   0.8872472783825817,\n",
       "   0.8850255498778049,\n",
       "   0.8928015996445234,\n",
       "   0.8954676738502555,\n",
       "   0.895134414574539,\n",
       "   0.8936902910464342,\n",
       "   0.8983559209064652,\n",
       "   0.8972450566540768,\n",
       "   0.9001333037102865,\n",
       "   0.8989113530326595,\n",
       "   0.9051321928460342,\n",
       "   0.9012441679626749],\n",
       "  [0.8225492918633713,\n",
       "   0.8453207442377118,\n",
       "   0.8547625659539017,\n",
       "   0.8261594001666204,\n",
       "   0.8658705915023605,\n",
       "   0.8664259927797834,\n",
       "   0.855595667870036,\n",
       "   0.8717023049153013,\n",
       "   0.8722577061927242,\n",
       "   0.8503193557345182,\n",
       "   0.8783671202443766,\n",
       "   0.8841988336573174,\n",
       "   0.8767009164121078,\n",
       "   0.8664259927797834,\n",
       "   0.8911413496251042,\n",
       "   0.8853096362121633,\n",
       "   0.8869758400444321,\n",
       "   0.8886420438767009,\n",
       "   0.8530963621216329,\n",
       "   0.8808664259927798,\n",
       "   0.9019716745348514,\n",
       "   0.8933629547347959,\n",
       "   0.9061371841155235,\n",
       "   0.9025270758122743,\n",
       "   0.9028047764509859,\n",
       "   0.8978061649541794,\n",
       "   0.9039155790058317,\n",
       "   0.9047486809219661,\n",
       "   0.9114134962510414,\n",
       "   0.8939183560122188]),\n",
       " 'GIN_F_T': (my_GNN(\n",
       "    (GNN_layers): GIN(1, 8, num_layers=3)\n",
       "    (FC1): Linear(in_features=8, out_features=1, bias=True)\n",
       "    (FC2): Linear(in_features=15635, out_features=tensor([2]), bias=True)\n",
       "    (leakyrelu): LeakyReLU(negative_slope=0.01)\n",
       "  ),\n",
       "  [0.9306820706509664,\n",
       "   0.9920017773828038,\n",
       "   0.9943345923128194,\n",
       "   0.9950011108642524,\n",
       "   0.9944456787380582,\n",
       "   0.99522328371473,\n",
       "   0.995334370139969,\n",
       "   0.9950011108642524,\n",
       "   0.995334370139969,\n",
       "   0.995334370139969,\n",
       "   0.995334370139969,\n",
       "   0.995334370139969,\n",
       "   0.995334370139969,\n",
       "   0.995334370139969,\n",
       "   0.995334370139969,\n",
       "   0.9950011108642524,\n",
       "   0.995334370139969,\n",
       "   0.995334370139969,\n",
       "   0.995334370139969,\n",
       "   0.995334370139969,\n",
       "   0.995334370139969,\n",
       "   0.995334370139969,\n",
       "   0.995334370139969,\n",
       "   0.995334370139969,\n",
       "   0.995334370139969,\n",
       "   0.995334370139969,\n",
       "   0.995334370139969,\n",
       "   0.995334370139969,\n",
       "   0.995334370139969,\n",
       "   0.995334370139969],\n",
       "  [0.9872257706192724,\n",
       "   0.9944459872257706,\n",
       "   0.9947236878644821,\n",
       "   0.9950013885031935,\n",
       "   0.995279089141905,\n",
       "   0.995279089141905,\n",
       "   0.995279089141905,\n",
       "   0.995279089141905,\n",
       "   0.995279089141905,\n",
       "   0.995279089141905,\n",
       "   0.995279089141905,\n",
       "   0.995279089141905,\n",
       "   0.995279089141905,\n",
       "   0.995279089141905,\n",
       "   0.995279089141905,\n",
       "   0.995279089141905,\n",
       "   0.995279089141905,\n",
       "   0.995279089141905,\n",
       "   0.995279089141905,\n",
       "   0.995279089141905,\n",
       "   0.995279089141905,\n",
       "   0.995279089141905,\n",
       "   0.995279089141905,\n",
       "   0.995279089141905,\n",
       "   0.995279089141905,\n",
       "   0.995279089141905,\n",
       "   0.995279089141905,\n",
       "   0.995279089141905,\n",
       "   0.995279089141905,\n",
       "   0.995279089141905]),\n",
       " 'GIN_T_T': (my_GNN(\n",
       "    (GNN_layers): GIN(1, 8, num_layers=3)\n",
       "    (FC1): Linear(in_features=8, out_features=1, bias=True)\n",
       "    (FC2): Linear(in_features=15635, out_features=tensor([2]), bias=True)\n",
       "    (leakyrelu): LeakyReLU(negative_slope=0.01)\n",
       "  ),\n",
       "  [0.5996445234392357,\n",
       "   0.8129304598978004,\n",
       "   0.8464785603199289,\n",
       "   0.8506998444790047,\n",
       "   0.856587425016663,\n",
       "   0.8552543879137969,\n",
       "   0.864030215507665,\n",
       "   0.8684736725172184,\n",
       "   0.8635858698067096,\n",
       "   0.861364141301933,\n",
       "   0.8711397467229505,\n",
       "   0.8730282159520106,\n",
       "   0.8683625860919796,\n",
       "   0.8701399688958009,\n",
       "   0.878915796489669,\n",
       "   0.8769162408353699,\n",
       "   0.8818040435458787,\n",
       "   0.8748055987558321,\n",
       "   0.884359031326372,\n",
       "   0.8894690068873584,\n",
       "   0.8884692290602089,\n",
       "   0.8900244390135525,\n",
       "   0.8911353032659409,\n",
       "   0.8880248833592534,\n",
       "   0.892468340368807,\n",
       "   0.8919129082426127,\n",
       "   0.8979115752055099,\n",
       "   0.8941346367473895,\n",
       "   0.8973561430793157,\n",
       "   0.8980226616307487],\n",
       "  [0.7870036101083032,\n",
       "   0.8233823937795057,\n",
       "   0.8550402665926131,\n",
       "   0.8414329352957511,\n",
       "   0.8719800055540128,\n",
       "   0.8722577061927242,\n",
       "   0.8730908081088586,\n",
       "   0.8714246042765899,\n",
       "   0.8789225215217995,\n",
       "   0.8722577061927242,\n",
       "   0.874479311302416,\n",
       "   0.8772563176895307,\n",
       "   0.8847542349347404,\n",
       "   0.8841988336573174,\n",
       "   0.8889197445154123,\n",
       "   0.8905859483476812,\n",
       "   0.8805887253540683,\n",
       "   0.8897528464315468,\n",
       "   0.8978061649541794,\n",
       "   0.8861427381282977,\n",
       "   0.8914190502638156,\n",
       "   0.8814218272702027,\n",
       "   0.8897528464315468,\n",
       "   0.8941960566509303,\n",
       "   0.9016939738961399,\n",
       "   0.8872535406831435,\n",
       "   0.9033601777284088,\n",
       "   0.9016939738961399,\n",
       "   0.8950291585670647,\n",
       "   0.8997500694251597])}"
      ]
     },
     "execution_count": 6,
     "metadata": {},
     "output_type": "execute_result"
    }
   ],
   "source": [
    "learning_results = {\n",
    "'GCN_F_F': GCN_F_F,\n",
    "'GCN_T_F' : GCN_T_F,\n",
    "'GCN_F_T': GCN_F_T, \n",
    "'GCN_T_T' : GCN_T_T,\n",
    "#\n",
    "#\n",
    "'GAT_F_F' : GAT_F_F,\n",
    "'GAT_T_F' : GAT_T_F,\n",
    "'GAT_F_T': GAT_F_T, \n",
    "'GAT_T_T' : GAT_T_T,\n",
    "#\n",
    "#\n",
    "'GIN_F_F' : GIN_F_F,\n",
    "'GIN_T_F' : GIN_T_F,\n",
    "'GIN_F_T' : GIN_F_T,\n",
    "'GIN_T_T' : GIN_T_T,\n",
    "}\n",
    "\n",
    "\n",
    "\n",
    "learning_results\n"
   ]
  },
  {
   "cell_type": "code",
   "execution_count": 7,
   "metadata": {},
   "outputs": [],
   "source": [
    "import pickle\n",
    "\n",
    "a = learning_results\n",
    "\n",
    "with open('./results/training_and_validation_data/filename.pickle', 'wb') as handle:\n",
    "    pickle.dump(a, handle, protocol=pickle.HIGHEST_PROTOCOL)\n",
    "\n",
    "#with open('./results/training_and_validation_data/filename.pickle', 'rb') as handle:\n",
    "#    b = pickle.load(handle)\n",
    "\n"
   ]
  },
  {
   "cell_type": "code",
   "execution_count": 14,
   "metadata": {},
   "outputs": [],
   "source": [
    "learning_curves_MASKED =  pd.DataFrame({\"train_accuracy\": all_train_accuracy_MASKED, \"validation_accuracy\": all_validation_accuracy_MASKED})\n",
    "learning_curves_NON_masked = pd.DataFrame({\"train_accuracy\": all_train_accuracy_Unmasked, \"validation_accuracy\": all_validation_accuracy_Unmasked})\n",
    "\n",
    "learning_curves_MASKED.to_csv(\"./results/dataframes/learning_curves_MASKED.csv\")\n",
    "\n",
    "learning_curves_NON_masked.to_csv(\"./results/dataframes/learning_curves_NON_masked.csv\")\n"
   ]
  }
 ],
 "metadata": {
  "kernelspec": {
   "display_name": "Python 3.9.13 ('geo')",
   "language": "python",
   "name": "python3"
  },
  "language_info": {
   "codemirror_mode": {
    "name": "ipython",
    "version": 3
   },
   "file_extension": ".py",
   "mimetype": "text/x-python",
   "name": "python",
   "nbconvert_exporter": "python",
   "pygments_lexer": "ipython3",
   "version": "3.9.13"
  },
  "orig_nbformat": 4,
  "vscode": {
   "interpreter": {
    "hash": "9ccb92c3caf64d15d8cccade25008a463e602c087926676408820d80b4769698"
   }
  }
 },
 "nbformat": 4,
 "nbformat_minor": 2
}
