{
 "cells": [
  {
   "cell_type": "code",
   "execution_count": 1,
   "metadata": {},
   "outputs": [
    {
     "name": "stderr",
     "output_type": "stream",
     "text": [
      "/DeepenData/.miniconda/envs/geo/lib/python3.9/site-packages/tqdm/auto.py:22: TqdmWarning: IProgress not found. Please update jupyter and ipywidgets. See https://ipywidgets.readthedocs.io/en/stable/user_install.html\n",
      "  from .autonotebook import tqdm as notebook_tqdm\n"
     ]
    },
    {
     "name": "stdout",
     "output_type": "stream",
     "text": [
      "device = 'cuda:0'\n"
     ]
    }
   ],
   "source": [
    "from acevedo_clss_and_fcns import * \n",
    "device = 'cpu'\n",
    "if torch.cuda.is_available():\n",
    "    torch.cuda.init()\n",
    "    if torch.cuda.is_initialized():\n",
    "        device = 'cuda:0'\n",
    "print(f\"{device = }\")\n",
    "def train_one_epoch(modelo: GIN_classifier_to_explain_v2,\n",
    "                    optimizer, \n",
    "                    train_loader: torch_geometric.loader.dataloader.DataLoader,\n",
    "                    loss_fun: torch.nn.modules.loss,\n",
    "                    device:str='cpu' ):\n",
    "\n",
    "    correct = 0\n",
    "    for i, data in enumerate(train_loader):\n",
    "        assert not data.is_cuda   \n",
    "        if (device == 'cuda:0') | (device == 'cuda'):                            \n",
    "            data.to(device, non_blocking=True) \n",
    "            assert data.is_cuda       \n",
    "                \n",
    "        optimizer.zero_grad(set_to_none=True) # Zero your gradients for every batch        \n",
    "        if (device == 'cuda:0') | (device == 'cuda'):\n",
    "            #with torch.cuda.amp.autocast():      \n",
    "            predictions = modelo(data.x, data.edge_index,  data.batch)# Make predictions for this batch\n",
    "            loss        = loss_fun(predictions, data.y)\n",
    "            loss.backward()  # Derive gradients.\n",
    "            optimizer.step()  # Update parameters based on gradients.        \n",
    "            pred     = predictions.argmax(dim=1)  # Use the class with highest probability.\n",
    "            correct += int((pred == data.y).sum())  # Check against ground-truth labels.\n",
    "\n",
    "    return correct / len(train_loader.dataset)\n",
    "\n",
    "def validate(modelo: GIN_classifier_to_explain_v2, loader: DataLoader, device: str = 'cpu'):\n",
    "    modelo.eval()\n",
    "    correct = 0\n",
    "    for i, val_data in enumerate(loader):\n",
    "        \n",
    "        assert not val_data.is_cuda\n",
    "        if (device == 'cuda:0') | (device == 'cuda'):\n",
    "            val_data.to(device, non_blocking=True) \n",
    "            assert val_data.is_cuda                          \n",
    "\n",
    "        val_predictions = modelo(val_data.x, val_data.edge_index,  val_data.batch)# Make predictions for this batch\n",
    "        pred            = val_predictions.argmax(dim=1)\n",
    "\n",
    "        correct += int((pred == val_data.y).sum())\n",
    "        \n",
    "\n",
    "    return correct / len(loader.dataset)   "
   ]
  },
  {
   "cell_type": "markdown",
   "metadata": {},
   "source": [
    "### Unmasked"
   ]
  },
  {
   "cell_type": "code",
   "execution_count": 2,
   "metadata": {},
   "outputs": [],
   "source": [
    "loader_path     = \"./results/dataloaders/loader_Concen_plus_Fluxes.pt\"\n",
    "saving_folder     = \"./results/trained_models\"\n",
    "saving_subfolder = \"/Non_masked_Phe\"\n",
    "loader = torch.load(loader_path)\n",
    "a_batch         = next(iter(loader.get_train_loader()))\n",
    "a_graph         = a_batch[0]\n",
    "model           = GIN_classifier_to_explain_v2(\n",
    "                                            n_nodes = a_graph.num_nodes, \n",
    "                                            num_features = a_graph.num_node_features, \n",
    "                                            n_classes = a_graph.num_classes,\n",
    "                                            hidden_dim=8,\n",
    "                                            num_layers=2).to(device, non_blocking=True).to(device)\n",
    "\n",
    "\n",
    "optimizer       = torch.optim.Adam(model.parameters())\n",
    "loss_function   = torch.nn.NLLLoss()\n",
    "best_validation_accuracy = 1e-10\n",
    "EPOCHS = 10\n",
    "verbose = True\n"
   ]
  },
  {
   "cell_type": "code",
   "execution_count": 4,
   "metadata": {},
   "outputs": [
    {
     "name": "stderr",
     "output_type": "stream",
     "text": [
      " 10%|█         | 1/10 [00:03<00:31,  3.46s/it]"
     ]
    },
    {
     "name": "stdout",
     "output_type": "stream",
     "text": [
      "Epoch: 000, train_accuracy: 0.9524, best_validation_accuracy: 0.9611\n",
      "saved as ./results/trained_models/Non_masked_Phe/Model_GIN_classifier_to_explain_v2_06-11-2022_19h_04min_best_ValAcc_0.961146737080347_epoch_0.pt\n"
     ]
    },
    {
     "name": "stderr",
     "output_type": "stream",
     "text": [
      " 20%|██        | 2/10 [00:06<00:27,  3.48s/it]"
     ]
    },
    {
     "name": "stdout",
     "output_type": "stream",
     "text": [
      "Epoch: 001, train_accuracy: 0.9663, best_validation_accuracy: 0.9777\n",
      "saved as ./results/trained_models/Non_masked_Phe/Model_GIN_classifier_to_explain_v2_06-11-2022_19h_05min_best_ValAcc_0.9777442474537911_epoch_1.pt\n"
     ]
    },
    {
     "name": "stderr",
     "output_type": "stream",
     "text": [
      " 30%|███       | 3/10 [00:10<00:24,  3.49s/it]"
     ]
    },
    {
     "name": "stdout",
     "output_type": "stream",
     "text": [
      "Epoch: 002, train_accuracy: 0.9785, best_validation_accuracy: 0.9842\n",
      "saved as ./results/trained_models/Non_masked_Phe/Model_GIN_classifier_to_explain_v2_06-11-2022_19h_05min_best_ValAcc_0.984156921916258_epoch_2.pt\n"
     ]
    },
    {
     "name": "stderr",
     "output_type": "stream",
     "text": [
      " 40%|████      | 4/10 [00:14<00:21,  3.53s/it]"
     ]
    },
    {
     "name": "stdout",
     "output_type": "stream",
     "text": [
      "Epoch: 003, train_accuracy: 0.9839, best_validation_accuracy: 0.9876\n",
      "saved as ./results/trained_models/Non_masked_Phe/Model_GIN_classifier_to_explain_v2_06-11-2022_19h_05min_best_ValAcc_0.9875518672199171_epoch_3.pt\n"
     ]
    },
    {
     "name": "stderr",
     "output_type": "stream",
     "text": [
      " 50%|█████     | 5/10 [00:17<00:17,  3.55s/it]"
     ]
    },
    {
     "name": "stdout",
     "output_type": "stream",
     "text": [
      "Epoch: 004, train_accuracy: 0.9854, best_validation_accuracy: 0.9883\n",
      "saved as ./results/trained_models/Non_masked_Phe/Model_GIN_classifier_to_explain_v2_06-11-2022_19h_05min_best_ValAcc_0.988306299509619_epoch_4.pt\n"
     ]
    },
    {
     "name": "stderr",
     "output_type": "stream",
     "text": [
      " 60%|██████    | 6/10 [00:21<00:14,  3.54s/it]"
     ]
    },
    {
     "name": "stdout",
     "output_type": "stream",
     "text": [
      "Epoch: 005, train_accuracy: 0.9860, best_validation_accuracy: 0.9887\n",
      "saved as ./results/trained_models/Non_masked_Phe/Model_GIN_classifier_to_explain_v2_06-11-2022_19h_05min_best_ValAcc_0.98868351565447_epoch_5.pt\n"
     ]
    },
    {
     "name": "stderr",
     "output_type": "stream",
     "text": [
      " 70%|███████   | 7/10 [00:24<00:10,  3.54s/it]"
     ]
    },
    {
     "name": "stdout",
     "output_type": "stream",
     "text": [
      "Epoch: 006, train_accuracy: 0.9868, best_validation_accuracy: 0.9891\n",
      "saved as ./results/trained_models/Non_masked_Phe/Model_GIN_classifier_to_explain_v2_06-11-2022_19h_05min_best_ValAcc_0.989060731799321_epoch_6.pt\n"
     ]
    },
    {
     "name": "stderr",
     "output_type": "stream",
     "text": [
      "100%|██████████| 10/10 [00:35<00:00,  3.52s/it]"
     ]
    },
    {
     "name": "stdout",
     "output_type": "stream",
     "text": [
      "Epoch: 009, train_accuracy: 0.9882, best_validation_accuracy: 0.9894\n",
      "saved as ./results/trained_models/Non_masked_Phe/Model_GIN_classifier_to_explain_v2_06-11-2022_19h_05min_best_ValAcc_0.9894379479441721_epoch_9.pt\n"
     ]
    },
    {
     "name": "stderr",
     "output_type": "stream",
     "text": [
      "\n"
     ]
    }
   ],
   "source": [
    "gc.collect()\n",
    "torch.cuda.empty_cache() \n",
    "for epoch in tqdm.tqdm(range(EPOCHS)):\n",
    "    \n",
    "    train_accuracy = train_one_epoch(model,\n",
    "                        optimizer=optimizer, \n",
    "                        train_loader=loader.get_train_loader(),\n",
    "                        loss_fun=loss_function,\n",
    "                        device = device)\n",
    "\n",
    "    validation_accuracy = validate(model, loader.get_validation_loader(), device)\n",
    "    if validation_accuracy > best_validation_accuracy:\n",
    "        best_validation_accuracy = validation_accuracy\n",
    "        del validation_accuracy\n",
    "        best_val_state_dict   = copy.deepcopy(model.state_dict())\n",
    "        best_val_model        = copy.deepcopy(model)\n",
    "        \n",
    "        if verbose:\n",
    "            timestamp     = datetime.now().strftime('%d-%m-%Y_%Hh_%Mmin')              \n",
    "            print(f'Epoch: {epoch:03d}, train_accuracy: {train_accuracy:.4f}, best_validation_accuracy: {best_validation_accuracy:.4f}')            \n",
    "            model_path = saving_folder+saving_subfolder+'/Model_{}_{}_best_ValAcc_{}_epoch_{}.pt'.format(model.__class__.__name__,timestamp, best_validation_accuracy, epoch)\n",
    "            torch.save(best_val_model, model_path)\n",
    "            print(f\"saved as {model_path}\")"
   ]
  },
  {
   "cell_type": "markdown",
   "metadata": {},
   "source": [
    "### Unmasked"
   ]
  },
  {
   "cell_type": "code",
   "execution_count": 5,
   "metadata": {},
   "outputs": [
    {
     "name": "stderr",
     "output_type": "stream",
     "text": [
      "  1%|          | 1/100 [00:03<05:52,  3.56s/it]"
     ]
    },
    {
     "name": "stdout",
     "output_type": "stream",
     "text": [
      "Epoch: 000, train_accuracy: 0.5670, best_validation_accuracy: 0.7258\n",
      "saved as ./results/trained_models/Masked_Phe/Model_GIN_classifier_to_explain_v2_06-11-2022_19h_07min_best_ValAcc_0.7257638626933233_epoch_0.pt\n"
     ]
    },
    {
     "name": "stderr",
     "output_type": "stream",
     "text": [
      "  3%|▎         | 3/100 [00:10<05:46,  3.57s/it]"
     ]
    },
    {
     "name": "stdout",
     "output_type": "stream",
     "text": [
      "Epoch: 002, train_accuracy: 0.7507, best_validation_accuracy: 0.7744\n",
      "saved as ./results/trained_models/Masked_Phe/Model_GIN_classifier_to_explain_v2_06-11-2022_19h_07min_best_ValAcc_0.7744247453791022_epoch_2.pt\n"
     ]
    },
    {
     "name": "stderr",
     "output_type": "stream",
     "text": [
      "  4%|▍         | 4/100 [00:14<05:39,  3.54s/it]"
     ]
    },
    {
     "name": "stdout",
     "output_type": "stream",
     "text": [
      "Epoch: 003, train_accuracy: 0.7887, best_validation_accuracy: 0.8182\n",
      "saved as ./results/trained_models/Masked_Phe/Model_GIN_classifier_to_explain_v2_06-11-2022_19h_07min_best_ValAcc_0.8181818181818182_epoch_3.pt\n"
     ]
    },
    {
     "name": "stderr",
     "output_type": "stream",
     "text": [
      "  5%|▌         | 5/100 [00:17<05:34,  3.52s/it]"
     ]
    },
    {
     "name": "stdout",
     "output_type": "stream",
     "text": [
      "Epoch: 004, train_accuracy: 0.8348, best_validation_accuracy: 0.8487\n",
      "saved as ./results/trained_models/Masked_Phe/Model_GIN_classifier_to_explain_v2_06-11-2022_19h_07min_best_ValAcc_0.8487363259147491_epoch_4.pt\n"
     ]
    },
    {
     "name": "stderr",
     "output_type": "stream",
     "text": [
      "  6%|▌         | 6/100 [00:21<05:29,  3.51s/it]"
     ]
    },
    {
     "name": "stdout",
     "output_type": "stream",
     "text": [
      "Epoch: 005, train_accuracy: 0.8447, best_validation_accuracy: 0.8514\n",
      "saved as ./results/trained_models/Masked_Phe/Model_GIN_classifier_to_explain_v2_06-11-2022_19h_07min_best_ValAcc_0.8513768389287062_epoch_5.pt\n"
     ]
    },
    {
     "name": "stderr",
     "output_type": "stream",
     "text": [
      "  7%|▋         | 7/100 [00:24<05:25,  3.50s/it]"
     ]
    },
    {
     "name": "stdout",
     "output_type": "stream",
     "text": [
      "Epoch: 006, train_accuracy: 0.8588, best_validation_accuracy: 0.8525\n",
      "saved as ./results/trained_models/Masked_Phe/Model_GIN_classifier_to_explain_v2_06-11-2022_19h_07min_best_ValAcc_0.8525084873632591_epoch_6.pt\n"
     ]
    },
    {
     "name": "stderr",
     "output_type": "stream",
     "text": [
      "  8%|▊         | 8/100 [00:28<05:21,  3.49s/it]"
     ]
    },
    {
     "name": "stdout",
     "output_type": "stream",
     "text": [
      "Epoch: 007, train_accuracy: 0.8663, best_validation_accuracy: 0.8676\n",
      "saved as ./results/trained_models/Masked_Phe/Model_GIN_classifier_to_explain_v2_06-11-2022_19h_07min_best_ValAcc_0.8675971331572991_epoch_7.pt\n"
     ]
    },
    {
     "name": "stderr",
     "output_type": "stream",
     "text": [
      " 11%|█         | 11/100 [00:38<05:09,  3.48s/it]"
     ]
    },
    {
     "name": "stdout",
     "output_type": "stream",
     "text": [
      "Epoch: 010, train_accuracy: 0.8862, best_validation_accuracy: 0.8789\n",
      "saved as ./results/trained_models/Masked_Phe/Model_GIN_classifier_to_explain_v2_06-11-2022_19h_08min_best_ValAcc_0.8789136175028291_epoch_10.pt\n"
     ]
    },
    {
     "name": "stderr",
     "output_type": "stream",
     "text": [
      " 12%|█▏        | 12/100 [00:42<05:06,  3.48s/it]"
     ]
    },
    {
     "name": "stdout",
     "output_type": "stream",
     "text": [
      "Epoch: 011, train_accuracy: 0.8880, best_validation_accuracy: 0.8849\n",
      "saved as ./results/trained_models/Masked_Phe/Model_GIN_classifier_to_explain_v2_06-11-2022_19h_08min_best_ValAcc_0.8849490758204451_epoch_11.pt\n"
     ]
    },
    {
     "name": "stderr",
     "output_type": "stream",
     "text": [
      " 13%|█▎        | 13/100 [00:45<05:03,  3.49s/it]"
     ]
    },
    {
     "name": "stdout",
     "output_type": "stream",
     "text": [
      "Epoch: 012, train_accuracy: 0.8955, best_validation_accuracy: 0.8853\n",
      "saved as ./results/trained_models/Masked_Phe/Model_GIN_classifier_to_explain_v2_06-11-2022_19h_08min_best_ValAcc_0.8853262919652961_epoch_12.pt\n"
     ]
    },
    {
     "name": "stderr",
     "output_type": "stream",
     "text": [
      " 15%|█▌        | 15/100 [00:52<04:56,  3.48s/it]"
     ]
    },
    {
     "name": "stdout",
     "output_type": "stream",
     "text": [
      "Epoch: 014, train_accuracy: 0.8955, best_validation_accuracy: 0.8944\n",
      "saved as ./results/trained_models/Masked_Phe/Model_GIN_classifier_to_explain_v2_06-11-2022_19h_08min_best_ValAcc_0.8943794794417201_epoch_14.pt\n"
     ]
    },
    {
     "name": "stderr",
     "output_type": "stream",
     "text": [
      " 17%|█▋        | 17/100 [00:59<04:49,  3.49s/it]"
     ]
    },
    {
     "name": "stdout",
     "output_type": "stream",
     "text": [
      "Epoch: 016, train_accuracy: 0.9092, best_validation_accuracy: 0.8974\n",
      "saved as ./results/trained_models/Masked_Phe/Model_GIN_classifier_to_explain_v2_06-11-2022_19h_08min_best_ValAcc_0.8973972086005281_epoch_16.pt\n"
     ]
    },
    {
     "name": "stderr",
     "output_type": "stream",
     "text": [
      " 21%|██        | 21/100 [01:13<04:34,  3.48s/it]"
     ]
    },
    {
     "name": "stdout",
     "output_type": "stream",
     "text": [
      "Epoch: 020, train_accuracy: 0.9053, best_validation_accuracy: 0.9068\n",
      "saved as ./results/trained_models/Masked_Phe/Model_GIN_classifier_to_explain_v2_06-11-2022_19h_08min_best_ValAcc_0.9068276122218031_epoch_20.pt\n"
     ]
    },
    {
     "name": "stderr",
     "output_type": "stream",
     "text": [
      " 26%|██▌       | 26/100 [01:30<04:18,  3.49s/it]"
     ]
    },
    {
     "name": "stdout",
     "output_type": "stream",
     "text": [
      "Epoch: 025, train_accuracy: 0.9212, best_validation_accuracy: 0.9080\n",
      "saved as ./results/trained_models/Masked_Phe/Model_GIN_classifier_to_explain_v2_06-11-2022_19h_08min_best_ValAcc_0.9079592606563561_epoch_25.pt\n"
     ]
    },
    {
     "name": "stderr",
     "output_type": "stream",
     "text": [
      " 28%|██▊       | 28/100 [01:37<04:12,  3.51s/it]"
     ]
    },
    {
     "name": "stdout",
     "output_type": "stream",
     "text": [
      "Epoch: 027, train_accuracy: 0.9228, best_validation_accuracy: 0.9110\n",
      "saved as ./results/trained_models/Masked_Phe/Model_GIN_classifier_to_explain_v2_06-11-2022_19h_09min_best_ValAcc_0.9109769898151641_epoch_27.pt\n"
     ]
    },
    {
     "name": "stderr",
     "output_type": "stream",
     "text": [
      " 29%|██▉       | 29/100 [01:41<04:08,  3.50s/it]"
     ]
    },
    {
     "name": "stdout",
     "output_type": "stream",
     "text": [
      "Epoch: 028, train_accuracy: 0.9220, best_validation_accuracy: 0.9114\n",
      "saved as ./results/trained_models/Masked_Phe/Model_GIN_classifier_to_explain_v2_06-11-2022_19h_09min_best_ValAcc_0.911354205960015_epoch_28.pt\n"
     ]
    },
    {
     "name": "stderr",
     "output_type": "stream",
     "text": [
      " 30%|███       | 30/100 [01:44<04:05,  3.50s/it]"
     ]
    }
   ],
   "source": [
    "saving_folder     = \"./results/trained_models\"\n",
    "saving_subfolder = \"/Masked_Phe\"\n",
    "loader_path     = \"./results/dataloaders/MASKED_loader_Concen_plus_Fluxes.pt\"\n",
    "loader = torch.load(loader_path)\n",
    "model           = GIN_classifier_to_explain_v2(\n",
    "                                            n_nodes = a_graph.num_nodes, \n",
    "                                            num_features = a_graph.num_node_features, \n",
    "                                            n_classes = a_graph.num_classes,\n",
    "                                            hidden_dim=8,\n",
    "                                            num_layers=2).to(device, non_blocking=True).to(device)\n",
    "\n",
    "optimizer       = torch.optim.Adam(model.parameters())\n",
    "loss_function   = torch.nn.NLLLoss()\n",
    "best_validation_accuracy = 1e-10\n",
    "EPOCHS = 100\n",
    "verbose = True\n",
    "gc.collect()\n",
    "torch.cuda.empty_cache() \n",
    "for epoch in tqdm.tqdm(range(EPOCHS)):\n",
    "    \n",
    "    train_accuracy = train_one_epoch(model,\n",
    "                        optimizer=optimizer, \n",
    "                        train_loader=loader.get_train_loader(),\n",
    "                        loss_fun=loss_function,\n",
    "                        device = device)\n",
    "\n",
    "    validation_accuracy = validate(model, loader.get_validation_loader(), device)\n",
    "    if validation_accuracy > best_validation_accuracy:\n",
    "        best_validation_accuracy = validation_accuracy\n",
    "        del validation_accuracy\n",
    "        best_val_state_dict   = copy.deepcopy(model.state_dict())\n",
    "        best_val_model        = copy.deepcopy(model)\n",
    "        if verbose:\n",
    "            timestamp     = datetime.now().strftime('%d-%m-%Y_%Hh_%Mmin')              \n",
    "            print(f'Epoch: {epoch:03d}, train_accuracy: {train_accuracy:.4f}, best_validation_accuracy: {best_validation_accuracy:.4f}')\n",
    "            model_path = saving_folder+saving_subfolder+'/Model_{}_{}_best_ValAcc_{}_epoch_{}.pt'.format(model.__class__.__name__,timestamp, best_validation_accuracy, epoch)\n",
    "            torch.save(best_val_model, model_path)\n",
    "            print(f\"saved as {model_path}\")"
   ]
  }
 ],
 "metadata": {
  "kernelspec": {
   "display_name": "Python 3.9.13 ('geo')",
   "language": "python",
   "name": "python3"
  },
  "language_info": {
   "codemirror_mode": {
    "name": "ipython",
    "version": 3
   },
   "file_extension": ".py",
   "mimetype": "text/x-python",
   "name": "python",
   "nbconvert_exporter": "python",
   "pygments_lexer": "ipython3",
   "version": "3.9.13"
  },
  "orig_nbformat": 4,
  "vscode": {
   "interpreter": {
    "hash": "9ccb92c3caf64d15d8cccade25008a463e602c087926676408820d80b4769698"
   }
  }
 },
 "nbformat": 4,
 "nbformat_minor": 2
}
