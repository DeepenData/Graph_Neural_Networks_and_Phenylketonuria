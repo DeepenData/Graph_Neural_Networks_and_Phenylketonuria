{
 "cells": [
  {
   "cell_type": "code",
   "execution_count": 2,
   "metadata": {},
   "outputs": [
    {
     "name": "stderr",
     "output_type": "stream",
     "text": [
      "/DeepenData/.miniconda/envs/geo/lib/python3.9/site-packages/tqdm/auto.py:22: TqdmWarning: IProgress not found. Please update jupyter and ipywidgets. See https://ipywidgets.readthedocs.io/en/stable/user_install.html\n",
      "  from .autonotebook import tqdm as notebook_tqdm\n"
     ]
    },
    {
     "name": "stdout",
     "output_type": "stream",
     "text": [
      "device = 'cuda:0'\n"
     ]
    }
   ],
   "source": [
    "from acevedo_clss_and_fcns import * \n",
    "device = 'cpu'\n",
    "if torch.cuda.is_available():\n",
    "    torch.cuda.init()\n",
    "    if torch.cuda.is_initialized():\n",
    "        device = 'cuda:0'\n",
    "#device = torch.device(device)\n",
    "print(f\"{device = }\")\n",
    "from torch_geometric.nn import GNNExplainer\n",
    "import numpy as np"
   ]
  },
  {
   "cell_type": "markdown",
   "metadata": {},
   "source": [
    "### Masked flux- / flux+ \n"
   ]
  },
  {
   "cell_type": "code",
   "execution_count": null,
   "metadata": {},
   "outputs": [],
   "source": [
    "def get_explanations(model, loader):\n",
    "    \n",
    "    explainer    = GNNExplainer(model, epochs=1000, num_hops = None, lr=0.01).to(device, non_blocking=True)\n",
    "    model.to(device, non_blocking=True)\n",
    "\n",
    "\n",
    "    model.eval()\n",
    "    gc.collect()\n",
    "    torch.cuda.empty_cache() \n",
    "    edge_num           = loader.dataset[0].edge_index.shape[1]\n",
    "    all_graphs_weights = []#torch.empty(edge_num,1).to(device)\n",
    "\n",
    "    for graph in loader.dataset[0:500]:\n",
    "        _, edge_weights =  explainer.explain_graph(graph.x.to(device, non_blocking=True), graph.edge_index.to(device, non_blocking=True))\n",
    "        \n",
    "        all_graphs_weights.append(edge_weights.reshape(edge_num,1))\n",
    "        \n",
    "        \n",
    "        \n",
    "\n",
    "    return pd.DataFrame(\n",
    "                        torch.stack(all_graphs_weights,1).squeeze().cpu().numpy().astype(float))\n",
    "    \n",
    "                                \n",
    "\n",
    "\n",
    "MASKED_GCN_Fluxes              = torch.load(\"./results/trained_models/Masked/GCN/Fluxes/Model_GCN_09-12-2022_17h_54min_best_ValAcc_0.995279089141905_epoch_0.pt\")\n",
    "MASKED_loader_only_Fluxes      = torch.load(\"./results/dataloaders/MASKED_loader_only_Fluxes.pt\").get_test_loader()\n",
    "Explanations_MASKED_GCN_Fluxes = get_explanations(MASKED_GCN_Fluxes, MASKED_loader_only_Fluxes)\n",
    "\n",
    "MASKED_GCN_Concentration                = torch.load(\"./results/trained_models/Masked/GCN/Concentration/Model_GCN_09-12-2022_18h_00min_best_ValAcc_0.9178006109414052_epoch_18.pt\")\n",
    "MASKED_loader_only_Concen               = torch.load(\"./results/dataloaders/MASKED_loader_only_Concen.pt\").get_test_loader()\n",
    "Explanations_MASKED_GCN_Concentration   = get_explanations(MASKED_GCN_Concentration, MASKED_loader_only_Concen)\n",
    "\n",
    "MASKED_GCN_Concen_plus_Fluxes                = torch.load(\"./results/trained_models/Masked/GCN/Concen_plus_Fluxes/Model_GCN_09-12-2022_18h_00min_best_ValAcc_0.995279089141905_epoch_0.pt\")\n",
    "MASKED_loader_Concen_plus_Fluxes             = torch.load(\"./results/dataloaders/MASKED_loader_Concen_plus_Fluxes.pt\").get_test_loader()\n",
    "Explanations_MASKED_GCN_Concen_plus_Fluxes   = get_explanations(MASKED_GCN_Concen_plus_Fluxes, MASKED_loader_Concen_plus_Fluxes)                               \n"
   ]
  },
  {
   "cell_type": "code",
   "execution_count": 1,
   "metadata": {},
   "outputs": [
    {
     "ename": "NameError",
     "evalue": "name 'Explanations_MASKED_GCN_Fluxes' is not defined",
     "output_type": "error",
     "traceback": [
      "\u001b[0;31m---------------------------------------------------------------------------\u001b[0m",
      "\u001b[0;31mNameError\u001b[0m                                 Traceback (most recent call last)",
      "Cell \u001b[0;32mIn[1], line 6\u001b[0m\n\u001b[1;32m      1\u001b[0m \u001b[39mdef\u001b[39;00m \u001b[39mplot_explanation_sample\u001b[39m(explanations):\n\u001b[1;32m      2\u001b[0m     \u001b[39mreturn\u001b[39;00m explanations\u001b[39m.\u001b[39mloc[:,np\u001b[39m.\u001b[39mrandom\u001b[39m.\u001b[39mrandint(\u001b[39m0\u001b[39m, explanations\u001b[39m.\u001b[39mcolumns\u001b[39m.\u001b[39m\u001b[39m__len__\u001b[39m(), \u001b[39m4\u001b[39m )]\u001b[39m.\u001b[39mselect_dtypes(\u001b[39mfloat\u001b[39m)\u001b[39m.\u001b[39mplot\u001b[39m.\u001b[39mhist(bins\u001b[39m=\u001b[39m\u001b[39m200\u001b[39m, alpha\u001b[39m=\u001b[39m\u001b[39m0.9\u001b[39m, figsize\u001b[39m=\u001b[39m(\u001b[39m8\u001b[39m,\u001b[39m4\u001b[39m), subplots\u001b[39m=\u001b[39m\u001b[39mTrue\u001b[39;00m, sharey\u001b[39m=\u001b[39m\u001b[39mFalse\u001b[39;00m, \n\u001b[1;32m      3\u001b[0m                       sharex\u001b[39m=\u001b[39m\u001b[39mFalse\u001b[39;00m, logy \u001b[39m=\u001b[39m \u001b[39mTrue\u001b[39;00m, grid\u001b[39m=\u001b[39m\u001b[39mFalse\u001b[39;00m)\n\u001b[0;32m----> 6\u001b[0m plot_explanation_sample(Explanations_MASKED_GCN_Fluxes)\n\u001b[1;32m      7\u001b[0m plot_explanation_sample(Explanations_MASKED_GCN_Concentration)\n\u001b[1;32m      8\u001b[0m plot_explanation_sample(Explanations_MASKED_GCN_Concen_plus_Fluxes)\n",
      "\u001b[0;31mNameError\u001b[0m: name 'Explanations_MASKED_GCN_Fluxes' is not defined"
     ]
    }
   ],
   "source": [
    "def plot_explanation_sample(explanations):\n",
    "    return explanations.loc[:,np.random.randint(0, explanations.columns.__len__(), 4 )].select_dtypes(float).plot.hist(bins=200, alpha=0.9, figsize=(8,4), subplots=True, sharey=False, \n",
    "                      sharex=False, logy = True, grid=False)\n",
    "\n",
    "\n",
    "plot_explanation_sample(Explanations_MASKED_GCN_Fluxes)\n",
    "plot_explanation_sample(Explanations_MASKED_GCN_Concentration)\n",
    "plot_explanation_sample(Explanations_MASKED_GCN_Concen_plus_Fluxes)"
   ]
  },
  {
   "cell_type": "code",
   "execution_count": 18,
   "metadata": {},
   "outputs": [
    {
     "name": "stderr",
     "output_type": "stream",
     "text": [
      "100%|██████████| 500/500 [00:00<00:00, 238475.32it/s]\n"
     ]
    },
    {
     "name": "stdout",
     "output_type": "stream",
     "text": [
      "all_graphs_weights_df.shape=(50442, 500)\n"
     ]
    },
    {
     "name": "stderr",
     "output_type": "stream",
     "text": [
      "100%|██████████| 500/500 [00:00<00:00, 428164.97it/s]\n"
     ]
    },
    {
     "name": "stdout",
     "output_type": "stream",
     "text": [
      "all_graphs_weights_df.shape=(50442, 500)\n"
     ]
    },
    {
     "name": "stderr",
     "output_type": "stream",
     "text": [
      "100%|██████████| 500/500 [00:00<00:00, 448684.64it/s]\n"
     ]
    },
    {
     "name": "stdout",
     "output_type": "stream",
     "text": [
      "all_graphs_weights_df.shape=(50442, 500)\n"
     ]
    }
   ],
   "source": [
    "def get_df_labels_and_colnames(all_graphs_weights_df, loader, path_to_save_labels, path_PYG_graph, path_NX_graph):\n",
    "    \n",
    "    train_labels = []\n",
    "    for graph in tqdm.tqdm(loader.dataset[0:500]):\n",
    "        train_labels.append(graph.y.cpu().item())\n",
    "    assert train_labels.__len__() == all_graphs_weights_df.shape[1]\n",
    "    #all_graphs_weights.shape\n",
    "\n",
    "    labels =  [\"PKU\" if l == 0 else \"Control\" for l in train_labels] \n",
    "    \n",
    "    pd.Series(labels).to_csv(path_to_save_labels)\n",
    "\n",
    "    all_graphs_weights_df.columns = [str(col) for col in all_graphs_weights_df.columns]\n",
    "    print(f\"{all_graphs_weights_df.shape=}\")\n",
    "    \n",
    "    \n",
    "    \n",
    "    edge_mask = all_graphs_weights_df.sum(axis=1) > np.percentile(all_graphs_weights_df.sum(axis=1), 99)\n",
    "\n",
    "\n",
    "    filtered_graph_weights_df = all_graphs_weights_df.loc[  edge_mask, :]  \n",
    "    filtered_graph_weights    = filtered_graph_weights_df.transpose() \n",
    "    filtered_graph_weights[\"Label\"] = list(labels)\n",
    "    filtered_graph_weights.reset_index(drop=True, inplace=True)\n",
    "    filtered_graph_weights.columns = [str(col) for col in filtered_graph_weights.columns]\n",
    "       \n",
    "\n",
    "    PYG_graph = torch.load(path_PYG_graph)\n",
    "    NX_graph  = nx.read_gpickle(path_NX_graph)\n",
    "    edge_0_node_idxs =  PYG_graph.edge_index[0,:]\n",
    "    edge_1_node_idxs =  PYG_graph.edge_index[1,:]\n",
    "    edge_0_nodes     = [list(NX_graph.nodes)[i] for i in  edge_0_node_idxs]\n",
    "    edge_1_nodes     = [list(NX_graph.nodes)[i] for i in  edge_1_node_idxs]\n",
    "    edges_df = pd.DataFrame({'node1': edge_0_nodes, 'node2':edge_1_nodes})\n",
    "    edges_node_names_explainer_subgraphs = pd.concat([edges_df, all_graphs_weights_df], axis=1).loc[edge_mask,:]\n",
    "    \n",
    "\n",
    "    return edges_node_names_explainer_subgraphs\n",
    " \n",
    "# plot_explanation_sample(Explanations_MASKED_GCN_Fluxes)\n",
    "# plot_explanation_sample(Explanations_MASKED_GCN_Concentration)\n",
    "# plot_explanation_sample(Explanations_MASKED_GCN_Concen_plus_Fluxes)\n",
    "\n",
    "\n",
    "explanatory_subgraph_MASKED_GCN_Fluxes = get_df_labels_and_colnames(Explanations_MASKED_GCN_Fluxes, MASKED_loader_only_Fluxes, \n",
    "                                                                  path_to_save_labels = \"./results/dataframes/labels_masked_only_Fluxes.csv\",\n",
    "                                                                  path_PYG_graph      = \"./results/graphs/PYG_graph_only_Fluxes.pt\" , \n",
    "                                                                  path_NX_graph       = \"./results/graphs/NX_recon_graph.gpickle\")\n",
    "\n",
    "explanatory_subgraph_MASKED_GCN_Concentration = get_df_labels_and_colnames(Explanations_MASKED_GCN_Concentration, MASKED_loader_only_Concen, \n",
    "                                                                  path_to_save_labels = \"./results/dataframes/labels_masked_only_Concen.csv\",\n",
    "                                                                  path_PYG_graph      = \"./results/graphs/PYG_graph_only_Concen.pt\" , \n",
    "                                                                  path_NX_graph       = \"./results/graphs/NX_recon_graph.gpickle\")\n",
    "\n",
    "explanatory_subgraph_MASKED_GCN_Concen_plus_Fluxes = get_df_labels_and_colnames(Explanations_MASKED_GCN_Concen_plus_Fluxes, MASKED_loader_Concen_plus_Fluxes, \n",
    "                                                                  path_to_save_labels = \"./results/dataframes/labels_masked_Concen_plus_Fluxes.csv\",\n",
    "                                                                  path_PYG_graph      = \"./results/graphs/PYG_graph_Concen_plus_Fluxes.pt\" , \n",
    "                                                                  path_NX_graph       = \"./results/graphs/NX_recon_graph.gpickle\")"
   ]
  },
  {
   "cell_type": "code",
   "execution_count": 22,
   "metadata": {},
   "outputs": [],
   "source": [
    "explanatory_subgraph_MASKED_GCN_Fluxes.to_parquet(\n",
    "    \"./results/dataframes/explanatory_subgraph_MASKED_GCN_Fluxes.parquet.gzip\", compression='gzip')\n",
    "explanatory_subgraph_MASKED_GCN_Concentration.to_parquet(\n",
    "    \"./results/dataframes/explanatory_subgraph_MASKED_GCN_Concentration.parquet.gzip\", compression='gzip')\n",
    "explanatory_subgraph_MASKED_GCN_Concen_plus_Fluxes.to_parquet(\n",
    "    \"./results/dataframes/explanatory_subgraph_MASKED_GCN_Concen_plus_Fluxes.parquet.gzip\", compression='gzip')\n"
   ]
  },
  {
   "cell_type": "markdown",
   "metadata": {},
   "source": [
    "### Process explainer weights"
   ]
  },
  {
   "cell_type": "code",
   "execution_count": 23,
   "metadata": {},
   "outputs": [],
   "source": [
    "#edge_mask = all_graphs_weights_df.sum(axis=1) > np.percentile(all_graphs_weights_df.sum(axis=1), 99)\n",
    "#filtered_graph_weights_df = all_graphs_weights_df.loc[  edge_mask, :]\n",
    "\n",
    "#filtered_graph_weights_df.sum(axis=1).plot.hist(logy = True, bins=300)\n",
    "#filtered_graph_weights_df.shape, edge_mask.shape\n"
   ]
  },
  {
   "cell_type": "code",
   "execution_count": 24,
   "metadata": {},
   "outputs": [],
   "source": [
    "#filtered_graph_weights_df.sum(axis=0).plot.hist(logy = True, bins=500)\n"
   ]
  },
  {
   "cell_type": "markdown",
   "metadata": {},
   "source": [
    "filtered_graph_weights = filtered_graph_weights_df.transpose() \n",
    "filtered_graph_weights[\"Label\"] = list(labels)\n",
    "\n",
    "filtered_graph_weights.reset_index(drop=True, inplace=True)\n",
    "filtered_graph_weights.columns = [str(col) for col in filtered_graph_weights.columns]\n",
    "filtered_graph_weights"
   ]
  },
  {
   "cell_type": "markdown",
   "metadata": {},
   "source": [
    "PYG_graph = torch.load(\"./results/graphs/PYG_graph_Concen_plus_Fluxes.pt\")\n",
    "NX_graph  = nx.read_gpickle(\"./results/graphs/NX_graph_Concen_plus_Fluxes.gpickle\")\n",
    "edge_0_node_idxs =  PYG_graph.edge_index[0,:]\n",
    "edge_1_node_idxs =  PYG_graph.edge_index[1,:]\n",
    "edge_0_nodes     = [list(NX_graph.nodes)[i] for i in  edge_0_node_idxs]\n",
    "edge_1_nodes     = [list(NX_graph.nodes)[i] for i in  edge_1_node_idxs]\n",
    "edges_df = pd.DataFrame({'node1': edge_0_nodes, 'node2':edge_1_nodes})\n",
    "edges_node_names_explainer_subgraphs = pd.concat([edges_df, all_graphs_weights_df], axis=1).loc[edge_mask,:]\n",
    "\n",
    "edges_node_names_explainer_subgraphs"
   ]
  },
  {
   "cell_type": "markdown",
   "metadata": {},
   "source": [
    "\n",
    "edges_node_names_explainer_subgraphs.to_parquet(\n",
    "    \"./results/dataframes/Masked_edges_node_names_explainer_subgraphs.parquet.gzip\", compression='gzip')"
   ]
  }
 ],
 "metadata": {
  "kernelspec": {
   "display_name": "Python 3.9.13 ('geo')",
   "language": "python",
   "name": "python3"
  },
  "language_info": {
   "codemirror_mode": {
    "name": "ipython",
    "version": 3
   },
   "file_extension": ".py",
   "mimetype": "text/x-python",
   "name": "python",
   "nbconvert_exporter": "python",
   "pygments_lexer": "ipython3",
   "version": "3.9.15"
  },
  "orig_nbformat": 4,
  "vscode": {
   "interpreter": {
    "hash": "9ccb92c3caf64d15d8cccade25008a463e602c087926676408820d80b4769698"
   }
  }
 },
 "nbformat": 4,
 "nbformat_minor": 2
}
