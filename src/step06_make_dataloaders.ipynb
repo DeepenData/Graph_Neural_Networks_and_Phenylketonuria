{
 "cells": [
  {
   "cell_type": "code",
   "execution_count": 2,
   "metadata": {},
   "outputs": [
    {
     "name": "stderr",
     "output_type": "stream",
     "text": [
      "/DeepenData/.miniconda/envs/geo/lib/python3.9/site-packages/tqdm/auto.py:22: TqdmWarning: IProgress not found. Please update jupyter and ipywidgets. See https://ipywidgets.readthedocs.io/en/stable/user_install.html\n",
      "  from .autonotebook import tqdm as notebook_tqdm\n"
     ]
    }
   ],
   "source": [
    "from acevedo_clss_and_fcns import *\n",
    "def make_graphs_list(pyg_graph_in,mask_target:bool=False, target_node:int = 0, mask_number = 0):\n",
    "    \n",
    "    pyg_graph = copy.deepcopy(pyg_graph_in)\n",
    "    graphs_list = []\n",
    "    \n",
    "    \n",
    "    for i in range(pyg_graph.x.shape[1]):\n",
    "    \n",
    "        \n",
    "        new_pyg_data  = Data(x =  pyg_graph.x[:,i].reshape(pyg_graph.num_nodes, 1),  y = pyg_graph.y[i], \n",
    "                            edge_index = pyg_graph.edge_index)\n",
    "        new_pyg_data.num_classes = 2\n",
    "        if mask_target:\n",
    "            new_pyg_data.x[target_node,:] = mask_number        \n",
    "        \n",
    "        graphs_list.append(new_pyg_data) \n",
    "    return graphs_list"
   ]
  },
  {
   "cell_type": "markdown",
   "metadata": {},
   "source": [
    "### Unmasked Phe"
   ]
  },
  {
   "cell_type": "code",
   "execution_count": 5,
   "metadata": {},
   "outputs": [],
   "source": [
    "PYG_graph_Concen_plus_Fluxes       = torch.load(\"./results/graphs/PYG_graph_Concen_plus_Fluxes.pt\") \n",
    "PYG_graph_only_Concen              = torch.load(\"./results/graphs/PYG_graph_only_Concen.pt\")\n",
    "graphs_list_PYG_graph_only_Concen  = make_graphs_list(PYG_graph_only_Concen)\n",
    "graphs_list_PYG_Concen_plus_Fluxes = make_graphs_list(PYG_graph_Concen_plus_Fluxes)\n",
    "loader_only_Concen                 = batch_loader(graphs_list_PYG_graph_only_Concen, batch_size= 64, validation_percent = .35)\n",
    "loader_Concen_plus_Fluxes          = batch_loader(graphs_list_PYG_Concen_plus_Fluxes, batch_size= 64, validation_percent = .35)\n",
    "\n",
    "torch.save(loader_only_Concen, \"./results/dataloaders/loader_only_Concen.pt\")\n",
    "torch.save(loader_Concen_plus_Fluxes, \"./results/dataloaders/loader_Concen_plus_Fluxes.pt\")"
   ]
  },
  {
   "cell_type": "markdown",
   "metadata": {},
   "source": [
    "### Masked Phe"
   ]
  },
  {
   "cell_type": "code",
   "execution_count": 8,
   "metadata": {},
   "outputs": [],
   "source": [
    "grafo_nx_Concen_plus_Fluxes = nx.read_gpickle( \"./results/graphs/NX_graph_Concen_plus_Fluxes.gpickle\")\n",
    "MASKED_only_Conc = make_graphs_list(PYG_graph_only_Concen,mask_target = True, \n",
    "                     target_node= list(grafo_nx_Concen_plus_Fluxes.nodes).index('phe_L_c'), \n",
    "                     mask_number = 1)\n",
    "\n",
    "MASKED_Concen_plus_Fluxes = make_graphs_list(PYG_graph_Concen_plus_Fluxes,mask_target = True, \n",
    "                     target_node= list(grafo_nx_Concen_plus_Fluxes.nodes).index('phe_L_c'), \n",
    "                     mask_number = 1)\n",
    "\n",
    "\n",
    "MASKED_loader_only_Concen                = batch_loader(MASKED_only_Conc, batch_size= 64, validation_percent = .35)\n",
    "MASKED_loader_Concen_plus_Fluxes         = batch_loader(MASKED_Concen_plus_Fluxes, batch_size= 64, validation_percent = .35)\n",
    "torch.save(MASKED_loader_only_Concen, \"./results/dataloaders/MASKED_loader_only_Concen.pt\")\n",
    "torch.save(MASKED_loader_Concen_plus_Fluxes, \"./results/dataloaders/MASKED_loader_Concen_plus_Fluxes.pt\")"
   ]
  }
 ],
 "metadata": {
  "kernelspec": {
   "display_name": "Python 3.9.13 ('geo')",
   "language": "python",
   "name": "python3"
  },
  "language_info": {
   "codemirror_mode": {
    "name": "ipython",
    "version": 3
   },
   "file_extension": ".py",
   "mimetype": "text/x-python",
   "name": "python",
   "nbconvert_exporter": "python",
   "pygments_lexer": "ipython3",
   "version": "3.9.13"
  },
  "orig_nbformat": 4,
  "vscode": {
   "interpreter": {
    "hash": "9ccb92c3caf64d15d8cccade25008a463e602c087926676408820d80b4769698"
   }
  }
 },
 "nbformat": 4,
 "nbformat_minor": 2
}
