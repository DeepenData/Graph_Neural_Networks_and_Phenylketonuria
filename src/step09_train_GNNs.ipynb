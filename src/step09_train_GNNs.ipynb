{
 "cells": [
  {
   "cell_type": "code",
   "execution_count": null,
   "metadata": {},
   "outputs": [],
   "source": [
    "from acevedo_clss_and_fcns import * \n",
    "device = 'cpu'\n",
    "if torch.cuda.is_available():\n",
    "    torch.cuda.init()\n",
    "    if torch.cuda.is_initialized():\n",
    "        device = 'cuda:0'\n",
    "print(f\"{device = }\")\n",
    "\n",
    "epochs = 35\n",
    "\n",
    "\n",
    "GCN_masked_flux                          =   train_and_validate(gnn_type = \"GCN\", mask = True, flux = True, concentration = False,\n",
    "                                                  loader_path = \"./results/dataloaders/MASKED_loader_only_Fluxes.pt\" ,\n",
    "                                                    EPOCHS = epochs, save = True, verbose = True, saving_folder =  \"./results/saved_GNNs/\")\n",
    "\n",
    "GCN_masked_concen                        =   train_and_validate(gnn_type = \"GCN\", mask = True, flux = False, concentration = True,\n",
    "                                                  loader_path = \"./results/dataloaders/MASKED_loader_only_Concen.pt\" ,\n",
    "                                                    EPOCHS = epochs, save = True, verbose = True, saving_folder =  \"./results/saved_GNNs/\")\n",
    "\n",
    "GCN_masked_concen_plus_flux              =   train_and_validate(gnn_type = \"GCN\", mask = True, flux = True, concentration = True,\n",
    "                                                  loader_path = \"./results/dataloaders/MASKED_loader_Concen_plus_Fluxes.pt\" ,\n",
    "                                                    EPOCHS = epochs, save = True, verbose = True, saving_folder =  \"./results/saved_GNNs/\")\n",
    "########################################################################################################################################################\n",
    "GAT_masked_flux                          =   train_and_validate(gnn_type = \"GAT\", mask = True, flux = True, concentration = False,\n",
    "                                                  loader_path = \"./results/dataloaders/MASKED_loader_only_Fluxes.pt\" ,\n",
    "                                                    EPOCHS = epochs, save = True, verbose = True, saving_folder =  \"./results/saved_GNNs/\")\n",
    "\n",
    "GAT_masked_concen                        =   train_and_validate(gnn_type = \"GAT\", mask = True, flux = False, concentration = True,\n",
    "                                                  loader_path = \"./results/dataloaders/MASKED_loader_only_Concen.pt\" ,\n",
    "                                                    EPOCHS = epochs, save = True, verbose = True, saving_folder =  \"./results/saved_GNNs/\")\n",
    "\n",
    "GAT_masked_concen_plus_flux              =   train_and_validate(gnn_type = \"GAT\", mask = True, flux = True, concentration = True,\n",
    "                                                  loader_path = \"./results/dataloaders/MASKED_loader_Concen_plus_Fluxes.pt\" ,\n",
    "                                                    EPOCHS = epochs, save = True, verbose = True, saving_folder =  \"./results/saved_GNNs/\")\n",
    "########################################################################################################################################################\n",
    "GIN_masked_flux                          =   train_and_validate(gnn_type = \"GIN\", mask = True, flux = True, concentration = False,\n",
    "                                                  loader_path = \"./results/dataloaders/MASKED_loader_only_Fluxes.pt\" ,\n",
    "                                                    EPOCHS = epochs, save = True, verbose = True, saving_folder =  \"./results/saved_GNNs/\")\n",
    "\n",
    "GIN_masked_concen                        =   train_and_validate(gnn_type = \"GIN\", mask = True, flux = False, concentration = True,\n",
    "                                                  loader_path = \"./results/dataloaders/MASKED_loader_only_Concen.pt\" ,\n",
    "                                                    EPOCHS = epochs, save = True, verbose = True, saving_folder =  \"./results/saved_GNNs/\")\n",
    "\n",
    "GIN_masked_concen_plus_flux              =   train_and_validate(gnn_type = \"GIN\", mask = True, flux = True, concentration = True,\n",
    "                                                  loader_path = \"./results/dataloaders/MASKED_loader_Concen_plus_Fluxes.pt\" ,\n",
    "                                                    EPOCHS = epochs, save = True, verbose = True, saving_folder =  \"./results/saved_GNNs/\")"
   ]
  },
  {
   "cell_type": "code",
   "execution_count": 3,
   "metadata": {},
   "outputs": [],
   "source": [
    "training_results = {\n",
    "    'GCN_masked_flux' : GCN_masked_flux,\n",
    "    'GCN_masked_concen': GCN_masked_concen,\n",
    "    'GCN_masked_concen_plus_flux': GCN_masked_concen_plus_flux,\n",
    "    \n",
    "    'GAT_masked_flux': GAT_masked_flux,\n",
    "    'GAT_masked_concen': GAT_masked_concen,\n",
    "    'GAT_masked_concen_plus_flux': GAT_masked_concen_plus_flux,\n",
    "    \n",
    "    'GIN_masked_flux': GIN_masked_flux,\n",
    "    'GIN_masked_concen': GIN_masked_concen,\n",
    "    'GIN_masked_concen_plus_flux': GIN_masked_concen_plus_flux   }\n",
    "\n",
    "\n",
    "import pickle\n",
    "\n",
    "#a = learning_results\n",
    "\n",
    "with open('./results/training_validation_best_models_paths/training_results.pickle', 'wb') as handle:\n",
    "    pickle.dump(training_results, handle, protocol=pickle.HIGHEST_PROTOCOL)"
   ]
  }
 ],
 "metadata": {
  "kernelspec": {
   "display_name": "geo",
   "language": "python",
   "name": "python3"
  },
  "language_info": {
   "codemirror_mode": {
    "name": "ipython",
    "version": 3
   },
   "file_extension": ".py",
   "mimetype": "text/x-python",
   "name": "python",
   "nbconvert_exporter": "python",
   "pygments_lexer": "ipython3",
   "version": "3.9.15"
  },
  "orig_nbformat": 4
 },
 "nbformat": 4,
 "nbformat_minor": 2
}
