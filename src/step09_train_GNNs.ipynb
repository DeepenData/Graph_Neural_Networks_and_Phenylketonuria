{
 "cells": [
  {
   "cell_type": "code",
   "execution_count": 1,
   "metadata": {},
   "outputs": [
    {
     "name": "stderr",
     "output_type": "stream",
     "text": [
      "/DeepenData/.miniconda/envs/geo/lib/python3.9/site-packages/tqdm/auto.py:22: TqdmWarning: IProgress not found. Please update jupyter and ipywidgets. See https://ipywidgets.readthedocs.io/en/stable/user_install.html\n",
      "  from .autonotebook import tqdm as notebook_tqdm\n"
     ]
    },
    {
     "name": "stdout",
     "output_type": "stream",
     "text": [
      "device = 'cuda:0'\n"
     ]
    },
    {
     "name": "stderr",
     "output_type": "stream",
     "text": [
      "  3%|▎         | 1/35 [00:05<03:12,  5.66s/it]"
     ]
    },
    {
     "name": "stdout",
     "output_type": "stream",
     "text": [
      "model_type = 'GCN' flux = True mask = True Epoch: 000, train_accuracy: 0.7126, best_validation_accuracy: 0.9793\n",
      "saved as ./results/saved_GNNs/Masked/GCN/Fluxes/Model_GCN_04-03-2023_18h_35min_best_ValAcc_0.9793420045906657_epoch_0.pt\n"
     ]
    },
    {
     "name": "stderr",
     "output_type": "stream",
     "text": [
      "100%|██████████| 35/35 [03:05<00:00,  5.29s/it]\n",
      "  3%|▎         | 1/35 [00:05<02:59,  5.27s/it]"
     ]
    },
    {
     "name": "stdout",
     "output_type": "stream",
     "text": [
      "model_type = 'GCN' flux = False mask = True Epoch: 000, train_accuracy: 0.4920, best_validation_accuracy: 0.4958\n",
      "saved as ./results/saved_GNNs/Masked/GCN/Concentration/Model_GCN_04-03-2023_18h_38min_best_ValAcc_0.4957918898240245_epoch_0.pt\n"
     ]
    },
    {
     "name": "stderr",
     "output_type": "stream",
     "text": [
      "  9%|▊         | 3/35 [00:15<02:49,  5.30s/it]"
     ]
    },
    {
     "name": "stdout",
     "output_type": "stream",
     "text": [
      "model_type = 'GCN' flux = False mask = True Epoch: 002, train_accuracy: 0.5239, best_validation_accuracy: 0.6362\n",
      "saved as ./results/saved_GNNs/Masked/GCN/Concentration/Model_GCN_04-03-2023_18h_38min_best_ValAcc_0.6361897475133894_epoch_2.pt\n"
     ]
    },
    {
     "name": "stderr",
     "output_type": "stream",
     "text": [
      " 14%|█▍        | 5/35 [00:26<02:38,  5.29s/it]"
     ]
    },
    {
     "name": "stdout",
     "output_type": "stream",
     "text": [
      "model_type = 'GCN' flux = False mask = True Epoch: 004, train_accuracy: 0.7400, best_validation_accuracy: 0.9078\n",
      "saved as ./results/saved_GNNs/Masked/GCN/Concentration/Model_GCN_04-03-2023_18h_38min_best_ValAcc_0.9078041315990819_epoch_4.pt\n"
     ]
    },
    {
     "name": "stderr",
     "output_type": "stream",
     "text": [
      " 17%|█▋        | 6/35 [00:31<02:33,  5.29s/it]"
     ]
    },
    {
     "name": "stdout",
     "output_type": "stream",
     "text": [
      "model_type = 'GCN' flux = False mask = True Epoch: 005, train_accuracy: 0.9146, best_validation_accuracy: 0.9166\n",
      "saved as ./results/saved_GNNs/Masked/GCN/Concentration/Model_GCN_04-03-2023_18h_39min_best_ValAcc_0.9166029074215761_epoch_5.pt\n"
     ]
    },
    {
     "name": "stderr",
     "output_type": "stream",
     "text": [
      " 20%|██        | 7/35 [00:37<02:28,  5.30s/it]"
     ]
    },
    {
     "name": "stdout",
     "output_type": "stream",
     "text": [
      "model_type = 'GCN' flux = False mask = True Epoch: 006, train_accuracy: 0.9267, best_validation_accuracy: 0.9178\n",
      "saved as ./results/saved_GNNs/Masked/GCN/Concentration/Model_GCN_04-03-2023_18h_39min_best_ValAcc_0.9177505738332058_epoch_6.pt\n"
     ]
    },
    {
     "name": "stderr",
     "output_type": "stream",
     "text": [
      " 23%|██▎       | 8/35 [00:42<02:23,  5.31s/it]"
     ]
    },
    {
     "name": "stdout",
     "output_type": "stream",
     "text": [
      "model_type = 'GCN' flux = False mask = True Epoch: 007, train_accuracy: 0.9272, best_validation_accuracy: 0.9204\n",
      "saved as ./results/saved_GNNs/Masked/GCN/Concentration/Model_GCN_04-03-2023_18h_39min_best_ValAcc_0.9204284621270085_epoch_7.pt\n"
     ]
    },
    {
     "name": "stderr",
     "output_type": "stream",
     "text": [
      " 26%|██▌       | 9/35 [00:47<02:18,  5.31s/it]"
     ]
    },
    {
     "name": "stdout",
     "output_type": "stream",
     "text": [
      "model_type = 'GCN' flux = False mask = True Epoch: 008, train_accuracy: 0.9314, best_validation_accuracy: 0.9227\n",
      "saved as ./results/saved_GNNs/Masked/GCN/Concentration/Model_GCN_04-03-2023_18h_39min_best_ValAcc_0.9227237949502678_epoch_8.pt\n"
     ]
    },
    {
     "name": "stderr",
     "output_type": "stream",
     "text": [
      " 29%|██▊       | 10/35 [00:53<02:12,  5.31s/it]"
     ]
    },
    {
     "name": "stdout",
     "output_type": "stream",
     "text": [
      "model_type = 'GCN' flux = False mask = True Epoch: 009, train_accuracy: 0.9330, best_validation_accuracy: 0.9250\n",
      "saved as ./results/saved_GNNs/Masked/GCN/Concentration/Model_GCN_04-03-2023_18h_39min_best_ValAcc_0.9250191277735271_epoch_9.pt\n"
     ]
    },
    {
     "name": "stderr",
     "output_type": "stream",
     "text": [
      " 31%|███▏      | 11/35 [00:58<02:07,  5.31s/it]"
     ]
    },
    {
     "name": "stdout",
     "output_type": "stream",
     "text": [
      "model_type = 'GCN' flux = False mask = True Epoch: 010, train_accuracy: 0.9365, best_validation_accuracy: 0.9265\n",
      "saved as ./results/saved_GNNs/Masked/GCN/Concentration/Model_GCN_04-03-2023_18h_39min_best_ValAcc_0.9265493496557001_epoch_10.pt\n"
     ]
    },
    {
     "name": "stderr",
     "output_type": "stream",
     "text": [
      " 34%|███▍      | 12/35 [01:03<02:02,  5.32s/it]"
     ]
    },
    {
     "name": "stdout",
     "output_type": "stream",
     "text": [
      "model_type = 'GCN' flux = False mask = True Epoch: 011, train_accuracy: 0.9393, best_validation_accuracy: 0.9277\n",
      "saved as ./results/saved_GNNs/Masked/GCN/Concentration/Model_GCN_04-03-2023_18h_39min_best_ValAcc_0.9276970160673298_epoch_11.pt\n"
     ]
    },
    {
     "name": "stderr",
     "output_type": "stream",
     "text": [
      " 37%|███▋      | 13/35 [01:08<01:56,  5.32s/it]"
     ]
    },
    {
     "name": "stdout",
     "output_type": "stream",
     "text": [
      "model_type = 'GCN' flux = False mask = True Epoch: 012, train_accuracy: 0.9409, best_validation_accuracy: 0.9300\n",
      "saved as ./results/saved_GNNs/Masked/GCN/Concentration/Model_GCN_04-03-2023_18h_39min_best_ValAcc_0.9299923488905891_epoch_12.pt\n"
     ]
    },
    {
     "name": "stderr",
     "output_type": "stream",
     "text": [
      " 40%|████      | 14/35 [01:14<01:51,  5.32s/it]"
     ]
    },
    {
     "name": "stdout",
     "output_type": "stream",
     "text": [
      "model_type = 'GCN' flux = False mask = True Epoch: 013, train_accuracy: 0.9426, best_validation_accuracy: 0.9315\n",
      "saved as ./results/saved_GNNs/Masked/GCN/Concentration/Model_GCN_04-03-2023_18h_39min_best_ValAcc_0.931522570772762_epoch_13.pt\n"
     ]
    },
    {
     "name": "stderr",
     "output_type": "stream",
     "text": [
      " 43%|████▎     | 15/35 [01:19<01:46,  5.32s/it]"
     ]
    },
    {
     "name": "stdout",
     "output_type": "stream",
     "text": [
      "model_type = 'GCN' flux = False mask = True Epoch: 014, train_accuracy: 0.9451, best_validation_accuracy: 0.9346\n",
      "saved as ./results/saved_GNNs/Masked/GCN/Concentration/Model_GCN_04-03-2023_18h_39min_best_ValAcc_0.9345830145371079_epoch_14.pt\n"
     ]
    },
    {
     "name": "stderr",
     "output_type": "stream",
     "text": [
      " 46%|████▌     | 16/35 [01:25<01:41,  5.34s/it]"
     ]
    },
    {
     "name": "stdout",
     "output_type": "stream",
     "text": [
      "model_type = 'GCN' flux = False mask = True Epoch: 015, train_accuracy: 0.9471, best_validation_accuracy: 0.9350\n",
      "saved as ./results/saved_GNNs/Masked/GCN/Concentration/Model_GCN_04-03-2023_18h_39min_best_ValAcc_0.9349655700076511_epoch_15.pt\n"
     ]
    },
    {
     "name": "stderr",
     "output_type": "stream",
     "text": [
      " 49%|████▊     | 17/35 [01:30<01:36,  5.35s/it]"
     ]
    },
    {
     "name": "stdout",
     "output_type": "stream",
     "text": [
      "model_type = 'GCN' flux = False mask = True Epoch: 016, train_accuracy: 0.9492, best_validation_accuracy: 0.9373\n",
      "saved as ./results/saved_GNNs/Masked/GCN/Concentration/Model_GCN_04-03-2023_18h_40min_best_ValAcc_0.9372609028309105_epoch_16.pt\n"
     ]
    },
    {
     "name": "stderr",
     "output_type": "stream",
     "text": [
      " 51%|█████▏    | 18/35 [01:35<01:30,  5.35s/it]"
     ]
    },
    {
     "name": "stdout",
     "output_type": "stream",
     "text": [
      "model_type = 'GCN' flux = False mask = True Epoch: 017, train_accuracy: 0.9513, best_validation_accuracy: 0.9376\n",
      "saved as ./results/saved_GNNs/Masked/GCN/Concentration/Model_GCN_04-03-2023_18h_40min_best_ValAcc_0.9376434583014537_epoch_17.pt\n"
     ]
    },
    {
     "name": "stderr",
     "output_type": "stream",
     "text": [
      " 54%|█████▍    | 19/35 [01:41<01:25,  5.35s/it]"
     ]
    },
    {
     "name": "stdout",
     "output_type": "stream",
     "text": [
      "model_type = 'GCN' flux = False mask = True Epoch: 018, train_accuracy: 0.9527, best_validation_accuracy: 0.9415\n",
      "saved as ./results/saved_GNNs/Masked/GCN/Concentration/Model_GCN_04-03-2023_18h_40min_best_ValAcc_0.941469013006886_epoch_18.pt\n"
     ]
    },
    {
     "name": "stderr",
     "output_type": "stream",
     "text": [
      " 57%|█████▋    | 20/35 [01:46<01:20,  5.35s/it]"
     ]
    },
    {
     "name": "stdout",
     "output_type": "stream",
     "text": [
      "model_type = 'GCN' flux = False mask = True Epoch: 019, train_accuracy: 0.9549, best_validation_accuracy: 0.9453\n",
      "saved as ./results/saved_GNNs/Masked/GCN/Concentration/Model_GCN_04-03-2023_18h_40min_best_ValAcc_0.9452945677123182_epoch_19.pt\n"
     ]
    },
    {
     "name": "stderr",
     "output_type": "stream",
     "text": [
      " 60%|██████    | 21/35 [01:51<01:14,  5.35s/it]"
     ]
    },
    {
     "name": "stdout",
     "output_type": "stream",
     "text": [
      "model_type = 'GCN' flux = False mask = True Epoch: 020, train_accuracy: 0.9576, best_validation_accuracy: 0.9468\n",
      "saved as ./results/saved_GNNs/Masked/GCN/Concentration/Model_GCN_04-03-2023_18h_40min_best_ValAcc_0.9468247895944912_epoch_20.pt\n"
     ]
    },
    {
     "name": "stderr",
     "output_type": "stream",
     "text": [
      " 63%|██████▎   | 22/35 [01:57<01:09,  5.34s/it]"
     ]
    },
    {
     "name": "stdout",
     "output_type": "stream",
     "text": [
      "model_type = 'GCN' flux = False mask = True Epoch: 021, train_accuracy: 0.9605, best_validation_accuracy: 0.9491\n",
      "saved as ./results/saved_GNNs/Masked/GCN/Concentration/Model_GCN_04-03-2023_18h_40min_best_ValAcc_0.9491201224177506_epoch_21.pt\n"
     ]
    },
    {
     "name": "stderr",
     "output_type": "stream",
     "text": [
      " 66%|██████▌   | 23/35 [02:02<01:04,  5.35s/it]"
     ]
    },
    {
     "name": "stdout",
     "output_type": "stream",
     "text": [
      "model_type = 'GCN' flux = False mask = True Epoch: 022, train_accuracy: 0.9631, best_validation_accuracy: 0.9514\n",
      "saved as ./results/saved_GNNs/Masked/GCN/Concentration/Model_GCN_04-03-2023_18h_40min_best_ValAcc_0.9514154552410099_epoch_22.pt\n"
     ]
    },
    {
     "name": "stderr",
     "output_type": "stream",
     "text": [
      " 69%|██████▊   | 24/35 [02:07<00:58,  5.35s/it]"
     ]
    },
    {
     "name": "stdout",
     "output_type": "stream",
     "text": [
      "model_type = 'GCN' flux = False mask = True Epoch: 023, train_accuracy: 0.9645, best_validation_accuracy: 0.9549\n",
      "saved as ./results/saved_GNNs/Masked/GCN/Concentration/Model_GCN_04-03-2023_18h_40min_best_ValAcc_0.954858454475899_epoch_23.pt\n"
     ]
    },
    {
     "name": "stderr",
     "output_type": "stream",
     "text": [
      " 71%|███████▏  | 25/35 [02:13<00:53,  5.35s/it]"
     ]
    },
    {
     "name": "stdout",
     "output_type": "stream",
     "text": [
      "model_type = 'GCN' flux = False mask = True Epoch: 024, train_accuracy: 0.9674, best_validation_accuracy: 0.9556\n",
      "saved as ./results/saved_GNNs/Masked/GCN/Concentration/Model_GCN_04-03-2023_18h_40min_best_ValAcc_0.9556235654169855_epoch_24.pt\n"
     ]
    },
    {
     "name": "stderr",
     "output_type": "stream",
     "text": [
      " 80%|████████  | 28/35 [02:29<00:37,  5.36s/it]"
     ]
    },
    {
     "name": "stdout",
     "output_type": "stream",
     "text": [
      "model_type = 'GCN' flux = False mask = True Epoch: 027, train_accuracy: 0.9712, best_validation_accuracy: 0.9572\n",
      "saved as ./results/saved_GNNs/Masked/GCN/Concentration/Model_GCN_04-03-2023_18h_41min_best_ValAcc_0.9571537872991583_epoch_27.pt\n"
     ]
    },
    {
     "name": "stderr",
     "output_type": "stream",
     "text": [
      " 83%|████████▎ | 29/35 [02:34<00:32,  5.38s/it]"
     ]
    },
    {
     "name": "stdout",
     "output_type": "stream",
     "text": [
      "model_type = 'GCN' flux = False mask = True Epoch: 028, train_accuracy: 0.9717, best_validation_accuracy: 0.9583\n",
      "saved as ./results/saved_GNNs/Masked/GCN/Concentration/Model_GCN_04-03-2023_18h_41min_best_ValAcc_0.958301453710788_epoch_28.pt\n"
     ]
    },
    {
     "name": "stderr",
     "output_type": "stream",
     "text": [
      " 86%|████████▌ | 30/35 [02:40<00:26,  5.39s/it]"
     ]
    },
    {
     "name": "stdout",
     "output_type": "stream",
     "text": [
      "model_type = 'GCN' flux = False mask = True Epoch: 029, train_accuracy: 0.9726, best_validation_accuracy: 0.9587\n",
      "saved as ./results/saved_GNNs/Masked/GCN/Concentration/Model_GCN_04-03-2023_18h_41min_best_ValAcc_0.9586840091813313_epoch_29.pt\n"
     ]
    },
    {
     "name": "stderr",
     "output_type": "stream",
     "text": [
      " 89%|████████▊ | 31/35 [02:45<00:21,  5.39s/it]"
     ]
    },
    {
     "name": "stdout",
     "output_type": "stream",
     "text": [
      "model_type = 'GCN' flux = False mask = True Epoch: 030, train_accuracy: 0.9743, best_validation_accuracy: 0.9591\n",
      "saved as ./results/saved_GNNs/Masked/GCN/Concentration/Model_GCN_04-03-2023_18h_41min_best_ValAcc_0.9590665646518746_epoch_30.pt\n"
     ]
    },
    {
     "name": "stderr",
     "output_type": "stream",
     "text": [
      "100%|██████████| 35/35 [03:06<00:00,  5.34s/it]\n",
      "  3%|▎         | 1/35 [00:05<02:59,  5.29s/it]"
     ]
    },
    {
     "name": "stdout",
     "output_type": "stream",
     "text": [
      "model_type = 'GCN' flux = True mask = True Epoch: 000, train_accuracy: 0.5172, best_validation_accuracy: 0.4828\n",
      "saved as ./results/saved_GNNs/Masked/GCN/Concen_plus_Fluxes/Model_GCN_04-03-2023_18h_41min_best_ValAcc_0.4827850038255547_epoch_0.pt\n"
     ]
    },
    {
     "name": "stderr",
     "output_type": "stream",
     "text": [
      "  6%|▌         | 2/35 [00:10<02:54,  5.29s/it]"
     ]
    },
    {
     "name": "stdout",
     "output_type": "stream",
     "text": [
      "model_type = 'GCN' flux = True mask = True Epoch: 001, train_accuracy: 0.8604, best_validation_accuracy: 0.9793\n",
      "saved as ./results/saved_GNNs/Masked/GCN/Concen_plus_Fluxes/Model_GCN_04-03-2023_18h_41min_best_ValAcc_0.9793420045906657_epoch_1.pt\n"
     ]
    },
    {
     "name": "stderr",
     "output_type": "stream",
     "text": [
      "100%|██████████| 35/35 [03:07<00:00,  5.35s/it]\n",
      "  3%|▎         | 1/35 [00:06<03:54,  6.91s/it]"
     ]
    },
    {
     "name": "stdout",
     "output_type": "stream",
     "text": [
      "model_type = 'GAT' flux = True mask = True Epoch: 000, train_accuracy: 0.6562, best_validation_accuracy: 0.9793\n",
      "saved as ./results/saved_GNNs/Masked/GAT/Fluxes/Model_GAT_04-03-2023_18h_44min_best_ValAcc_0.9793420045906657_epoch_0.pt\n"
     ]
    },
    {
     "name": "stderr",
     "output_type": "stream",
     "text": [
      "100%|██████████| 35/35 [03:47<00:00,  6.51s/it]\n",
      "  3%|▎         | 1/35 [00:06<03:45,  6.63s/it]"
     ]
    },
    {
     "name": "stdout",
     "output_type": "stream",
     "text": [
      "model_type = 'GAT' flux = False mask = True Epoch: 000, train_accuracy: 0.5031, best_validation_accuracy: 0.4847\n",
      "saved as ./results/saved_GNNs/Masked/GAT/Concentration/Model_GAT_04-03-2023_18h_48min_best_ValAcc_0.48469778117827084_epoch_0.pt\n"
     ]
    },
    {
     "name": "stderr",
     "output_type": "stream",
     "text": [
      "  6%|▌         | 2/35 [00:13<03:38,  6.62s/it]"
     ]
    },
    {
     "name": "stdout",
     "output_type": "stream",
     "text": [
      "model_type = 'GAT' flux = False mask = True Epoch: 001, train_accuracy: 0.5373, best_validation_accuracy: 0.8699\n",
      "saved as ./results/saved_GNNs/Masked/GAT/Concentration/Model_GAT_04-03-2023_18h_48min_best_ValAcc_0.8699311400153023_epoch_1.pt\n"
     ]
    },
    {
     "name": "stderr",
     "output_type": "stream",
     "text": [
      " 11%|█▏        | 4/35 [00:26<03:24,  6.59s/it]"
     ]
    },
    {
     "name": "stdout",
     "output_type": "stream",
     "text": [
      "model_type = 'GAT' flux = False mask = True Epoch: 003, train_accuracy: 0.8465, best_validation_accuracy: 0.8795\n",
      "saved as ./results/saved_GNNs/Masked/GAT/Concentration/Model_GAT_04-03-2023_18h_49min_best_ValAcc_0.8794950267788829_epoch_3.pt\n"
     ]
    },
    {
     "name": "stderr",
     "output_type": "stream",
     "text": [
      " 14%|█▍        | 5/35 [00:32<03:17,  6.58s/it]"
     ]
    },
    {
     "name": "stdout",
     "output_type": "stream",
     "text": [
      "model_type = 'GAT' flux = False mask = True Epoch: 004, train_accuracy: 0.8839, best_validation_accuracy: 0.8933\n",
      "saved as ./results/saved_GNNs/Masked/GAT/Concentration/Model_GAT_04-03-2023_18h_49min_best_ValAcc_0.8932670237184391_epoch_4.pt\n"
     ]
    },
    {
     "name": "stderr",
     "output_type": "stream",
     "text": [
      " 17%|█▋        | 6/35 [00:39<03:12,  6.63s/it]"
     ]
    },
    {
     "name": "stdout",
     "output_type": "stream",
     "text": [
      "model_type = 'GAT' flux = False mask = True Epoch: 005, train_accuracy: 0.8982, best_validation_accuracy: 0.9017\n",
      "saved as ./results/saved_GNNs/Masked/GAT/Concentration/Model_GAT_04-03-2023_18h_49min_best_ValAcc_0.9016832440703902_epoch_5.pt\n"
     ]
    },
    {
     "name": "stderr",
     "output_type": "stream",
     "text": [
      " 26%|██▌       | 9/35 [00:59<02:52,  6.63s/it]"
     ]
    },
    {
     "name": "stdout",
     "output_type": "stream",
     "text": [
      "model_type = 'GAT' flux = False mask = True Epoch: 008, train_accuracy: 0.9189, best_validation_accuracy: 0.9120\n",
      "saved as ./results/saved_GNNs/Masked/GAT/Concentration/Model_GAT_04-03-2023_18h_49min_best_ValAcc_0.9120122417750574_epoch_8.pt\n"
     ]
    },
    {
     "name": "stderr",
     "output_type": "stream",
     "text": [
      " 31%|███▏      | 11/35 [01:13<02:41,  6.72s/it]"
     ]
    },
    {
     "name": "stdout",
     "output_type": "stream",
     "text": [
      "model_type = 'GAT' flux = False mask = True Epoch: 010, train_accuracy: 0.9322, best_validation_accuracy: 0.9308\n",
      "saved as ./results/saved_GNNs/Masked/GAT/Concentration/Model_GAT_04-03-2023_18h_49min_best_ValAcc_0.9307574598316756_epoch_10.pt\n"
     ]
    },
    {
     "name": "stderr",
     "output_type": "stream",
     "text": [
      " 34%|███▍      | 12/35 [01:20<02:35,  6.77s/it]"
     ]
    },
    {
     "name": "stdout",
     "output_type": "stream",
     "text": [
      "model_type = 'GAT' flux = False mask = True Epoch: 011, train_accuracy: 0.9382, best_validation_accuracy: 0.9319\n",
      "saved as ./results/saved_GNNs/Masked/GAT/Concentration/Model_GAT_04-03-2023_18h_49min_best_ValAcc_0.9319051262433052_epoch_11.pt\n"
     ]
    },
    {
     "name": "stderr",
     "output_type": "stream",
     "text": [
      " 46%|████▌     | 16/35 [01:47<02:11,  6.90s/it]"
     ]
    },
    {
     "name": "stdout",
     "output_type": "stream",
     "text": [
      "model_type = 'GAT' flux = False mask = True Epoch: 015, train_accuracy: 0.9423, best_validation_accuracy: 0.9353\n",
      "saved as ./results/saved_GNNs/Masked/GAT/Concentration/Model_GAT_04-03-2023_18h_50min_best_ValAcc_0.9353481254781943_epoch_15.pt\n"
     ]
    },
    {
     "name": "stderr",
     "output_type": "stream",
     "text": [
      " 66%|██████▌   | 23/35 [02:36<01:21,  6.81s/it]"
     ]
    },
    {
     "name": "stdout",
     "output_type": "stream",
     "text": [
      "model_type = 'GAT' flux = False mask = True Epoch: 022, train_accuracy: 0.9417, best_validation_accuracy: 0.9373\n",
      "saved as ./results/saved_GNNs/Masked/GAT/Concentration/Model_GAT_04-03-2023_18h_51min_best_ValAcc_0.9372609028309105_epoch_22.pt\n"
     ]
    },
    {
     "name": "stderr",
     "output_type": "stream",
     "text": [
      " 91%|█████████▏| 32/35 [03:36<00:20,  6.68s/it]"
     ]
    },
    {
     "name": "stdout",
     "output_type": "stream",
     "text": [
      "model_type = 'GAT' flux = False mask = True Epoch: 031, train_accuracy: 0.9536, best_validation_accuracy: 0.9376\n",
      "saved as ./results/saved_GNNs/Masked/GAT/Concentration/Model_GAT_04-03-2023_18h_52min_best_ValAcc_0.9376434583014537_epoch_31.pt\n"
     ]
    },
    {
     "name": "stderr",
     "output_type": "stream",
     "text": [
      "100%|██████████| 35/35 [03:56<00:00,  6.77s/it]"
     ]
    },
    {
     "name": "stdout",
     "output_type": "stream",
     "text": [
      "model_type = 'GAT' flux = False mask = True Epoch: 034, train_accuracy: 0.9530, best_validation_accuracy: 0.9396\n",
      "saved as ./results/saved_GNNs/Masked/GAT/Concentration/Model_GAT_04-03-2023_18h_52min_best_ValAcc_0.9395562356541699_epoch_34.pt\n"
     ]
    },
    {
     "name": "stderr",
     "output_type": "stream",
     "text": [
      "\n",
      "  3%|▎         | 1/35 [00:06<03:46,  6.66s/it]"
     ]
    },
    {
     "name": "stdout",
     "output_type": "stream",
     "text": [
      "model_type = 'GAT' flux = True mask = True Epoch: 000, train_accuracy: 0.6096, best_validation_accuracy: 0.6752\n",
      "saved as ./results/saved_GNNs/Masked/GAT/Concen_plus_Fluxes/Model_GAT_04-03-2023_18h_52min_best_ValAcc_0.6752104055087987_epoch_0.pt\n"
     ]
    },
    {
     "name": "stderr",
     "output_type": "stream",
     "text": [
      "  6%|▌         | 2/35 [00:13<03:39,  6.65s/it]"
     ]
    },
    {
     "name": "stdout",
     "output_type": "stream",
     "text": [
      "model_type = 'GAT' flux = True mask = True Epoch: 001, train_accuracy: 0.9051, best_validation_accuracy: 0.9793\n",
      "saved as ./results/saved_GNNs/Masked/GAT/Concen_plus_Fluxes/Model_GAT_04-03-2023_18h_52min_best_ValAcc_0.9793420045906657_epoch_1.pt\n"
     ]
    },
    {
     "name": "stderr",
     "output_type": "stream",
     "text": [
      "100%|██████████| 35/35 [03:53<00:00,  6.67s/it]\n",
      "  3%|▎         | 1/35 [00:04<02:40,  4.72s/it]"
     ]
    },
    {
     "name": "stdout",
     "output_type": "stream",
     "text": [
      "model_type = 'GIN' flux = True mask = True Epoch: 000, train_accuracy: 0.7252, best_validation_accuracy: 0.9793\n",
      "saved as ./results/saved_GNNs/Masked/GIN/Fluxes/Model_GIN_04-03-2023_18h_56min_best_ValAcc_0.9793420045906657_epoch_0.pt\n"
     ]
    },
    {
     "name": "stderr",
     "output_type": "stream",
     "text": [
      "100%|██████████| 35/35 [02:38<00:00,  4.54s/it]\n",
      "  3%|▎         | 1/35 [00:04<02:33,  4.52s/it]"
     ]
    },
    {
     "name": "stdout",
     "output_type": "stream",
     "text": [
      "model_type = 'GIN' flux = False mask = True Epoch: 000, train_accuracy: 0.5669, best_validation_accuracy: 0.7842\n",
      "saved as ./results/saved_GNNs/Masked/GIN/Concentration/Model_GIN_04-03-2023_18h_59min_best_ValAcc_0.7842387146136189_epoch_0.pt\n"
     ]
    },
    {
     "name": "stderr",
     "output_type": "stream",
     "text": [
      "  6%|▌         | 2/35 [00:09<02:28,  4.50s/it]"
     ]
    },
    {
     "name": "stdout",
     "output_type": "stream",
     "text": [
      "model_type = 'GIN' flux = False mask = True Epoch: 001, train_accuracy: 0.7928, best_validation_accuracy: 0.7980\n",
      "saved as ./results/saved_GNNs/Masked/GIN/Concentration/Model_GIN_04-03-2023_18h_59min_best_ValAcc_0.7980107115531752_epoch_1.pt\n"
     ]
    },
    {
     "name": "stderr",
     "output_type": "stream",
     "text": [
      "  9%|▊         | 3/35 [00:13<02:23,  4.50s/it]"
     ]
    },
    {
     "name": "stdout",
     "output_type": "stream",
     "text": [
      "model_type = 'GIN' flux = False mask = True Epoch: 002, train_accuracy: 0.8609, best_validation_accuracy: 0.8906\n",
      "saved as ./results/saved_GNNs/Masked/GIN/Concentration/Model_GIN_04-03-2023_18h_59min_best_ValAcc_0.8905891354246366_epoch_2.pt\n"
     ]
    },
    {
     "name": "stderr",
     "output_type": "stream",
     "text": [
      " 11%|█▏        | 4/35 [00:17<02:18,  4.48s/it]"
     ]
    },
    {
     "name": "stdout",
     "output_type": "stream",
     "text": [
      "model_type = 'GIN' flux = False mask = True Epoch: 003, train_accuracy: 0.9244, best_validation_accuracy: 0.9155\n",
      "saved as ./results/saved_GNNs/Masked/GIN/Concentration/Model_GIN_04-03-2023_18h_59min_best_ValAcc_0.9154552410099465_epoch_3.pt\n"
     ]
    },
    {
     "name": "stderr",
     "output_type": "stream",
     "text": [
      " 14%|█▍        | 5/35 [00:22<02:14,  4.47s/it]"
     ]
    },
    {
     "name": "stdout",
     "output_type": "stream",
     "text": [
      "model_type = 'GIN' flux = False mask = True Epoch: 004, train_accuracy: 0.9354, best_validation_accuracy: 0.9300\n",
      "saved as ./results/saved_GNNs/Masked/GIN/Concentration/Model_GIN_04-03-2023_18h_59min_best_ValAcc_0.9299923488905891_epoch_4.pt\n"
     ]
    },
    {
     "name": "stderr",
     "output_type": "stream",
     "text": [
      " 17%|█▋        | 6/35 [00:26<02:09,  4.47s/it]"
     ]
    },
    {
     "name": "stdout",
     "output_type": "stream",
     "text": [
      "model_type = 'GIN' flux = False mask = True Epoch: 005, train_accuracy: 0.9487, best_validation_accuracy: 0.9334\n",
      "saved as ./results/saved_GNNs/Masked/GIN/Concentration/Model_GIN_04-03-2023_18h_59min_best_ValAcc_0.9334353481254782_epoch_5.pt\n"
     ]
    },
    {
     "name": "stderr",
     "output_type": "stream",
     "text": [
      " 20%|██        | 7/35 [00:31<02:06,  4.51s/it]"
     ]
    },
    {
     "name": "stdout",
     "output_type": "stream",
     "text": [
      "model_type = 'GIN' flux = False mask = True Epoch: 006, train_accuracy: 0.9539, best_validation_accuracy: 0.9353\n",
      "saved as ./results/saved_GNNs/Masked/GIN/Concentration/Model_GIN_04-03-2023_18h_59min_best_ValAcc_0.9353481254781943_epoch_6.pt\n"
     ]
    },
    {
     "name": "stderr",
     "output_type": "stream",
     "text": [
      " 23%|██▎       | 8/35 [00:36<02:02,  4.54s/it]"
     ]
    },
    {
     "name": "stdout",
     "output_type": "stream",
     "text": [
      "model_type = 'GIN' flux = False mask = True Epoch: 007, train_accuracy: 0.9535, best_validation_accuracy: 0.9357\n",
      "saved as ./results/saved_GNNs/Masked/GIN/Concentration/Model_GIN_04-03-2023_18h_59min_best_ValAcc_0.9357306809487376_epoch_7.pt\n"
     ]
    },
    {
     "name": "stderr",
     "output_type": "stream",
     "text": [
      " 26%|██▌       | 9/35 [00:40<01:58,  4.57s/it]"
     ]
    },
    {
     "name": "stdout",
     "output_type": "stream",
     "text": [
      "model_type = 'GIN' flux = False mask = True Epoch: 008, train_accuracy: 0.9538, best_validation_accuracy: 0.9376\n",
      "saved as ./results/saved_GNNs/Masked/GIN/Concentration/Model_GIN_04-03-2023_18h_59min_best_ValAcc_0.9376434583014537_epoch_8.pt\n"
     ]
    },
    {
     "name": "stderr",
     "output_type": "stream",
     "text": [
      " 31%|███▏      | 11/35 [00:49<01:49,  4.58s/it]"
     ]
    },
    {
     "name": "stdout",
     "output_type": "stream",
     "text": [
      "model_type = 'GIN' flux = False mask = True Epoch: 010, train_accuracy: 0.9568, best_validation_accuracy: 0.9407\n",
      "saved as ./results/saved_GNNs/Masked/GIN/Concentration/Model_GIN_04-03-2023_18h_59min_best_ValAcc_0.9407039020657996_epoch_10.pt\n"
     ]
    },
    {
     "name": "stderr",
     "output_type": "stream",
     "text": [
      " 34%|███▍      | 12/35 [00:54<01:45,  4.59s/it]"
     ]
    },
    {
     "name": "stdout",
     "output_type": "stream",
     "text": [
      "model_type = 'GIN' flux = False mask = True Epoch: 011, train_accuracy: 0.9578, best_validation_accuracy: 0.9415\n",
      "saved as ./results/saved_GNNs/Masked/GIN/Concentration/Model_GIN_04-03-2023_19h_00min_best_ValAcc_0.941469013006886_epoch_11.pt\n"
     ]
    },
    {
     "name": "stderr",
     "output_type": "stream",
     "text": [
      " 40%|████      | 14/35 [01:03<01:35,  4.57s/it]"
     ]
    },
    {
     "name": "stdout",
     "output_type": "stream",
     "text": [
      "model_type = 'GIN' flux = False mask = True Epoch: 013, train_accuracy: 0.9594, best_validation_accuracy: 0.9449\n",
      "saved as ./results/saved_GNNs/Masked/GIN/Concentration/Model_GIN_04-03-2023_19h_00min_best_ValAcc_0.944912012241775_epoch_13.pt\n"
     ]
    },
    {
     "name": "stderr",
     "output_type": "stream",
     "text": [
      " 51%|█████▏    | 18/35 [01:21<01:17,  4.54s/it]"
     ]
    },
    {
     "name": "stdout",
     "output_type": "stream",
     "text": [
      "model_type = 'GIN' flux = False mask = True Epoch: 017, train_accuracy: 0.9639, best_validation_accuracy: 0.9468\n",
      "saved as ./results/saved_GNNs/Masked/GIN/Concentration/Model_GIN_04-03-2023_19h_00min_best_ValAcc_0.9468247895944912_epoch_17.pt\n"
     ]
    },
    {
     "name": "stderr",
     "output_type": "stream",
     "text": [
      " 63%|██████▎   | 22/35 [01:40<01:00,  4.66s/it]"
     ]
    },
    {
     "name": "stdout",
     "output_type": "stream",
     "text": [
      "model_type = 'GIN' flux = False mask = True Epoch: 021, train_accuracy: 0.9659, best_validation_accuracy: 0.9480\n",
      "saved as ./results/saved_GNNs/Masked/GIN/Concentration/Model_GIN_04-03-2023_19h_00min_best_ValAcc_0.9479724560061209_epoch_21.pt\n"
     ]
    },
    {
     "name": "stderr",
     "output_type": "stream",
     "text": [
      " 66%|██████▌   | 23/35 [01:45<00:55,  4.66s/it]"
     ]
    },
    {
     "name": "stdout",
     "output_type": "stream",
     "text": [
      "model_type = 'GIN' flux = False mask = True Epoch: 022, train_accuracy: 0.9640, best_validation_accuracy: 0.9491\n",
      "saved as ./results/saved_GNNs/Masked/GIN/Concentration/Model_GIN_04-03-2023_19h_00min_best_ValAcc_0.9491201224177506_epoch_22.pt\n"
     ]
    },
    {
     "name": "stderr",
     "output_type": "stream",
     "text": [
      " 71%|███████▏  | 25/35 [01:54<00:46,  4.65s/it]"
     ]
    },
    {
     "name": "stdout",
     "output_type": "stream",
     "text": [
      "model_type = 'GIN' flux = False mask = True Epoch: 024, train_accuracy: 0.9671, best_validation_accuracy: 0.9522\n",
      "saved as ./results/saved_GNNs/Masked/GIN/Concentration/Model_GIN_04-03-2023_19h_01min_best_ValAcc_0.9521805661820965_epoch_24.pt\n"
     ]
    },
    {
     "name": "stderr",
     "output_type": "stream",
     "text": [
      " 74%|███████▍  | 26/35 [01:59<00:41,  4.63s/it]"
     ]
    },
    {
     "name": "stdout",
     "output_type": "stream",
     "text": [
      "model_type = 'GIN' flux = False mask = True Epoch: 025, train_accuracy: 0.9663, best_validation_accuracy: 0.9541\n",
      "saved as ./results/saved_GNNs/Masked/GIN/Concentration/Model_GIN_04-03-2023_19h_01min_best_ValAcc_0.9540933435348126_epoch_25.pt\n"
     ]
    },
    {
     "name": "stderr",
     "output_type": "stream",
     "text": [
      " 94%|█████████▍| 33/35 [02:31<00:09,  4.56s/it]"
     ]
    },
    {
     "name": "stdout",
     "output_type": "stream",
     "text": [
      "model_type = 'GIN' flux = False mask = True Epoch: 032, train_accuracy: 0.9725, best_validation_accuracy: 0.9552\n",
      "saved as ./results/saved_GNNs/Masked/GIN/Concentration/Model_GIN_04-03-2023_19h_01min_best_ValAcc_0.9552410099464422_epoch_32.pt\n"
     ]
    },
    {
     "name": "stderr",
     "output_type": "stream",
     "text": [
      " 97%|█████████▋| 34/35 [02:35<00:04,  4.57s/it]"
     ]
    },
    {
     "name": "stdout",
     "output_type": "stream",
     "text": [
      "model_type = 'GIN' flux = False mask = True Epoch: 033, train_accuracy: 0.9721, best_validation_accuracy: 0.9564\n",
      "saved as ./results/saved_GNNs/Masked/GIN/Concentration/Model_GIN_04-03-2023_19h_01min_best_ValAcc_0.9563886763580719_epoch_33.pt\n"
     ]
    },
    {
     "name": "stderr",
     "output_type": "stream",
     "text": [
      "100%|██████████| 35/35 [02:40<00:00,  4.58s/it]\n",
      "  3%|▎         | 1/35 [00:04<02:40,  4.72s/it]"
     ]
    },
    {
     "name": "stdout",
     "output_type": "stream",
     "text": [
      "model_type = 'GIN' flux = True mask = True Epoch: 000, train_accuracy: 0.8866, best_validation_accuracy: 0.9793\n",
      "saved as ./results/saved_GNNs/Masked/GIN/Concen_plus_Fluxes/Model_GIN_04-03-2023_19h_01min_best_ValAcc_0.9793420045906657_epoch_0.pt\n"
     ]
    },
    {
     "name": "stderr",
     "output_type": "stream",
     "text": [
      "100%|██████████| 35/35 [02:42<00:00,  4.65s/it]\n"
     ]
    }
   ],
   "source": [
    "from acevedo_clss_and_fcns import * \n",
    "device = 'cpu'\n",
    "if torch.cuda.is_available():\n",
    "    torch.cuda.init()\n",
    "    if torch.cuda.is_initialized():\n",
    "        device = 'cuda:0'\n",
    "print(f\"{device = }\")\n",
    "\n",
    "epochs = 35\n",
    "\n",
    "\n",
    "GCN_masked_flux                          =   train_and_validate(gnn_type = \"GCN\", mask = True, flux = True, concentration = False,\n",
    "                                                  loader_path = \"./results/dataloaders/MASKED_loader_only_Fluxes.pt\" ,\n",
    "                                                    EPOCHS = epochs, save = True, verbose = True, saving_folder =  \"./results/saved_GNNs/\")\n",
    "\n",
    "GCN_masked_concen                        =   train_and_validate(gnn_type = \"GCN\", mask = True, flux = False, concentration = True,\n",
    "                                                  loader_path = \"./results/dataloaders/MASKED_loader_only_Concen.pt\" ,\n",
    "                                                    EPOCHS = epochs, save = True, verbose = True, saving_folder =  \"./results/saved_GNNs/\")\n",
    "\n",
    "GCN_masked_concen_plus_flux              =   train_and_validate(gnn_type = \"GCN\", mask = True, flux = True, concentration = True,\n",
    "                                                  loader_path = \"./results/dataloaders/MASKED_loader_Concen_plus_Fluxes.pt\" ,\n",
    "                                                    EPOCHS = epochs, save = True, verbose = True, saving_folder =  \"./results/saved_GNNs/\")\n",
    "########################################################################################################################################################\n",
    "GAT_masked_flux                          =   train_and_validate(gnn_type = \"GAT\", mask = True, flux = True, concentration = False,\n",
    "                                                  loader_path = \"./results/dataloaders/MASKED_loader_only_Fluxes.pt\" ,\n",
    "                                                    EPOCHS = epochs, save = True, verbose = True, saving_folder =  \"./results/saved_GNNs/\")\n",
    "\n",
    "GAT_masked_concen                        =   train_and_validate(gnn_type = \"GAT\", mask = True, flux = False, concentration = True,\n",
    "                                                  loader_path = \"./results/dataloaders/MASKED_loader_only_Concen.pt\" ,\n",
    "                                                    EPOCHS = epochs, save = True, verbose = True, saving_folder =  \"./results/saved_GNNs/\")\n",
    "\n",
    "GAT_masked_concen_plus_flux              =   train_and_validate(gnn_type = \"GAT\", mask = True, flux = True, concentration = True,\n",
    "                                                  loader_path = \"./results/dataloaders/MASKED_loader_Concen_plus_Fluxes.pt\" ,\n",
    "                                                    EPOCHS = epochs, save = True, verbose = True, saving_folder =  \"./results/saved_GNNs/\")\n",
    "########################################################################################################################################################\n",
    "GIN_masked_flux                          =   train_and_validate(gnn_type = \"GIN\", mask = True, flux = True, concentration = False,\n",
    "                                                  loader_path = \"./results/dataloaders/MASKED_loader_only_Fluxes.pt\" ,\n",
    "                                                    EPOCHS = epochs, save = True, verbose = True, saving_folder =  \"./results/saved_GNNs/\")\n",
    "\n",
    "GIN_masked_concen                        =   train_and_validate(gnn_type = \"GIN\", mask = True, flux = False, concentration = True,\n",
    "                                                  loader_path = \"./results/dataloaders/MASKED_loader_only_Concen.pt\" ,\n",
    "                                                    EPOCHS = epochs, save = True, verbose = True, saving_folder =  \"./results/saved_GNNs/\")\n",
    "\n",
    "GIN_masked_concen_plus_flux              =   train_and_validate(gnn_type = \"GIN\", mask = True, flux = True, concentration = True,\n",
    "                                                  loader_path = \"./results/dataloaders/MASKED_loader_Concen_plus_Fluxes.pt\" ,\n",
    "                                                    EPOCHS = epochs, save = True, verbose = True, saving_folder =  \"./results/saved_GNNs/\")"
   ]
  },
  {
   "cell_type": "code",
   "execution_count": 3,
   "metadata": {},
   "outputs": [],
   "source": [
    "training_results = {\n",
    "    'GCN_masked_flux' : GCN_masked_flux,\n",
    "    'GCN_masked_concen': GCN_masked_concen,\n",
    "    'GCN_masked_concen_plus_flux': GCN_masked_concen_plus_flux,\n",
    "    \n",
    "    'GAT_masked_flux': GAT_masked_flux,\n",
    "    'GAT_masked_concen': GAT_masked_concen,\n",
    "    'GAT_masked_concen_plus_flux': GAT_masked_concen_plus_flux,\n",
    "    \n",
    "    'GIN_masked_flux': GIN_masked_flux,\n",
    "    'GIN_masked_concen': GIN_masked_concen,\n",
    "    'GIN_masked_concen_plus_flux': GIN_masked_concen_plus_flux   }\n",
    "\n",
    "\n",
    "import pickle\n",
    "\n",
    "#a = learning_results\n",
    "\n",
    "with open('./results/training_validation_best_models_paths/training_results.pickle', 'wb') as handle:\n",
    "    pickle.dump(training_results, handle, protocol=pickle.HIGHEST_PROTOCOL)"
   ]
  }
 ],
 "metadata": {
  "kernelspec": {
   "display_name": "geo",
   "language": "python",
   "name": "python3"
  },
  "language_info": {
   "codemirror_mode": {
    "name": "ipython",
    "version": 3
   },
   "file_extension": ".py",
   "mimetype": "text/x-python",
   "name": "python",
   "nbconvert_exporter": "python",
   "pygments_lexer": "ipython3",
   "version": "3.9.15"
  },
  "orig_nbformat": 4
 },
 "nbformat": 4,
 "nbformat_minor": 2
}
