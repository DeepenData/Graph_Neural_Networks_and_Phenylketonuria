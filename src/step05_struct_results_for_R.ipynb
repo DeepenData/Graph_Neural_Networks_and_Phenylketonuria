{
 "cells": [
  {
   "cell_type": "code",
   "execution_count": 1,
   "metadata": {},
   "outputs": [
    {
     "name": "stdout",
     "output_type": "stream",
     "text": [
      "Scaling...\n",
      " A: min|aij| =  1.000e+00  max|aij| =  1.000e+00  ratio =  1.000e+00\n",
      "Problem data seem to be well scaled\n"
     ]
    }
   ],
   "source": [
    "import cobra\n",
    "from cobra.io import load_json_model\n",
    "import numpy as np\n",
    "import pandas as pd\n",
    "cobra_model = load_json_model(\"./COBRA_models/GEM_Recon2_thermocurated_redHUMAN.json\")\n",
    "import itertools\n",
    "def grow_dict(previo, nuevo):  \n",
    "    \"\"\"Esto es un .update(overwritte=False)?\"\"\"\n",
    "\n",
    "    not_new_keys = set(previo.keys()).intersection(set(nuevo.keys()))\n",
    "    new_keys     = set(nuevo.keys()).difference(set(previo.keys()))\n",
    "    for new in new_keys:\n",
    "        previo[new] =np.unique(nuevo[new]).tolist() \n",
    "    for common in not_new_keys:\n",
    "        previo[common].extend(np.unique(nuevo[common]).tolist() )\n",
    "    return previo\n",
    "# Sacamos los genes de Recon hacia un diccionario\n",
    "# TODO: convertir est en una horrible dict_comprehension { curse : cursed for c in curseds }\n",
    "dict_rxn_to_gene = dict()\n",
    "genes            = [g.id for g in cobra_model.genes]\n",
    "\n",
    "#print(genes)\n",
    "\n",
    "\n",
    "for id in genes:\n",
    "    # fmt: off\n",
    "    rxns             = [r.id for r in cobra_model.genes.get_by_id(id)._reaction] # reacciones asociadas al gen de la iter\n",
    "    updated_dict  : dict[str, list[str]] = dict(zip(rxns,itertools.repeat([id]))) # zipping con la { reaccion : [id_gen] }\n",
    "    dict_rxn_to_gene = grow_dict(dict_rxn_to_gene, updated_dict) # merge recursivo"
   ]
  },
  {
   "cell_type": "code",
   "execution_count": 2,
   "metadata": {},
   "outputs": [
    {
     "data": {
      "text/html": [
       "<div>\n",
       "<style scoped>\n",
       "    .dataframe tbody tr th:only-of-type {\n",
       "        vertical-align: middle;\n",
       "    }\n",
       "\n",
       "    .dataframe tbody tr th {\n",
       "        vertical-align: top;\n",
       "    }\n",
       "\n",
       "    .dataframe thead th {\n",
       "        text-align: right;\n",
       "    }\n",
       "</style>\n",
       "<table border=\"1\" class=\"dataframe\">\n",
       "  <thead>\n",
       "    <tr style=\"text-align: right;\">\n",
       "      <th></th>\n",
       "      <th>Unnamed: 0</th>\n",
       "      <th>node1</th>\n",
       "      <th>node2</th>\n",
       "      <th>0</th>\n",
       "    </tr>\n",
       "  </thead>\n",
       "  <tbody>\n",
       "    <tr>\n",
       "      <th>0</th>\n",
       "      <td>0</td>\n",
       "      <td>FPGS8</td>\n",
       "      <td>10fthf5glu_c</td>\n",
       "      <td>0.0</td>\n",
       "    </tr>\n",
       "    <tr>\n",
       "      <th>1</th>\n",
       "      <td>1</td>\n",
       "      <td>FPGS8</td>\n",
       "      <td>10fthf6glu_c</td>\n",
       "      <td>0.0</td>\n",
       "    </tr>\n",
       "    <tr>\n",
       "      <th>2</th>\n",
       "      <td>2</td>\n",
       "      <td>FPGS8</td>\n",
       "      <td>atp_c</td>\n",
       "      <td>0.0</td>\n",
       "    </tr>\n",
       "    <tr>\n",
       "      <th>3</th>\n",
       "      <td>3</td>\n",
       "      <td>FPGS8</td>\n",
       "      <td>adp_c</td>\n",
       "      <td>0.0</td>\n",
       "    </tr>\n",
       "    <tr>\n",
       "      <th>4</th>\n",
       "      <td>4</td>\n",
       "      <td>FPGS8</td>\n",
       "      <td>glu_L_c</td>\n",
       "      <td>0.0</td>\n",
       "    </tr>\n",
       "    <tr>\n",
       "      <th>...</th>\n",
       "      <td>...</td>\n",
       "      <td>...</td>\n",
       "      <td>...</td>\n",
       "      <td>...</td>\n",
       "    </tr>\n",
       "    <tr>\n",
       "      <th>53117</th>\n",
       "      <td>53117</td>\n",
       "      <td>r1947</td>\n",
       "      <td>lys_L_e</td>\n",
       "      <td>0.0</td>\n",
       "    </tr>\n",
       "    <tr>\n",
       "      <th>53118</th>\n",
       "      <td>53118</td>\n",
       "      <td>r1947</td>\n",
       "      <td>tyr_L_e</td>\n",
       "      <td>0.0</td>\n",
       "    </tr>\n",
       "    <tr>\n",
       "      <th>53119</th>\n",
       "      <td>53119</td>\n",
       "      <td>gp1calpha_hs_e</td>\n",
       "      <td>EX_gp1calpha_hs_e</td>\n",
       "      <td>0.0</td>\n",
       "    </tr>\n",
       "    <tr>\n",
       "      <th>53120</th>\n",
       "      <td>53120</td>\n",
       "      <td>gp1calpha_hs_e</td>\n",
       "      <td>GP1CALPHAte</td>\n",
       "      <td>0.0</td>\n",
       "    </tr>\n",
       "    <tr>\n",
       "      <th>53121</th>\n",
       "      <td>53121</td>\n",
       "      <td>HC02111_m</td>\n",
       "      <td>r1320</td>\n",
       "      <td>0.0</td>\n",
       "    </tr>\n",
       "  </tbody>\n",
       "</table>\n",
       "<p>53122 rows × 4 columns</p>\n",
       "</div>"
      ],
      "text/plain": [
       "       Unnamed: 0           node1              node2    0\n",
       "0               0           FPGS8       10fthf5glu_c  0.0\n",
       "1               1           FPGS8       10fthf6glu_c  0.0\n",
       "2               2           FPGS8              atp_c  0.0\n",
       "3               3           FPGS8              adp_c  0.0\n",
       "4               4           FPGS8            glu_L_c  0.0\n",
       "...           ...             ...                ...  ...\n",
       "53117       53117           r1947            lys_L_e  0.0\n",
       "53118       53118           r1947            tyr_L_e  0.0\n",
       "53119       53119  gp1calpha_hs_e  EX_gp1calpha_hs_e  0.0\n",
       "53120       53120  gp1calpha_hs_e        GP1CALPHAte  0.0\n",
       "53121       53121       HC02111_m              r1320  0.0\n",
       "\n",
       "[53122 rows x 4 columns]"
      ]
     },
     "execution_count": 2,
     "metadata": {},
     "output_type": "execute_result"
    }
   ],
   "source": [
    "edges_node_names_explainer_subgraphs = pd.read_csv(\"./results/data/edges_node_names_explainer_subgraphs.csv\")\n",
    "edges_node_names_explainer_subgraphs"
   ]
  },
  {
   "cell_type": "code",
   "execution_count": 11,
   "metadata": {},
   "outputs": [],
   "source": [
    "genes = []\n",
    "\n",
    "\n",
    "for node_1, node_2 in zip(edges_node_names_explainer_subgraphs.node1.tolist(), edges_node_names_explainer_subgraphs.node2.tolist()):   \n",
    "    \n",
    "    \n",
    "    if node_2 in dict_rxn_to_gene.keys():\n",
    "        \n",
    "        genes.append(dict_rxn_to_gene[node_2])\n",
    "        \n",
    "    elif node_1 in dict_rxn_to_gene.keys():\n",
    "        \n",
    "        genes.append(dict_rxn_to_gene[node_1])\n",
    "        \n",
    "    else:\n",
    "        genes.append([''])\n",
    "        \n",
    "\n",
    "\n",
    "results_for_R =  pd.concat([pd.Series(genes, name='genes'), edges_node_names_explainer_subgraphs], axis=1).drop('Unnamed: 0',axis=1).reset_index(drop=True)\n"
   ]
  },
  {
   "cell_type": "code",
   "execution_count": 14,
   "metadata": {},
   "outputs": [],
   "source": [
    "results_for_R[results_for_R['0']> 0].to_csv(\"./results/data/results_for_R_non_zero.csv\")"
   ]
  },
  {
   "cell_type": "code",
   "execution_count": 13,
   "metadata": {},
   "outputs": [],
   "source": [
    "results_for_R.to_csv(\"./results/data/results_for_R.csv\")"
   ]
  }
 ],
 "metadata": {
  "kernelspec": {
   "display_name": "Python 3.9.13 ('geo')",
   "language": "python",
   "name": "python3"
  },
  "language_info": {
   "codemirror_mode": {
    "name": "ipython",
    "version": 3
   },
   "file_extension": ".py",
   "mimetype": "text/x-python",
   "name": "python",
   "nbconvert_exporter": "python",
   "pygments_lexer": "ipython3",
   "version": "3.9.13"
  },
  "orig_nbformat": 4,
  "vscode": {
   "interpreter": {
    "hash": "9ccb92c3caf64d15d8cccade25008a463e602c087926676408820d80b4769698"
   }
  }
 },
 "nbformat": 4,
 "nbformat_minor": 2
}
