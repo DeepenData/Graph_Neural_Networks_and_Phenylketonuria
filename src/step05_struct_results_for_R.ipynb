{
 "cells": [
  {
   "cell_type": "code",
   "execution_count": 10,
   "metadata": {},
   "outputs": [],
   "source": [
    "import cobra\n",
    "from cobra.io import load_json_model\n",
    "import numpy as np\n",
    "import pandas as pd\n",
    "cobra_model = load_json_model(\"./COBRA_models/GEM_Recon2_thermocurated_redHUMAN.json\")\n",
    "import itertools\n",
    "def grow_dict(previo, nuevo):  \n",
    "    \"\"\"Esto es un .update(overwritte=False)?\"\"\"\n",
    "\n",
    "    not_new_keys = set(previo.keys()).intersection(set(nuevo.keys()))\n",
    "    new_keys     = set(nuevo.keys()).difference(set(previo.keys()))\n",
    "    for new in new_keys:\n",
    "        previo[new] =np.unique(nuevo[new]).tolist() \n",
    "    for common in not_new_keys:\n",
    "        previo[common].extend(np.unique(nuevo[common]).tolist() )\n",
    "    return previo\n",
    "# Sacamos los genes de Recon hacia un diccionario\n",
    "# TODO: convertir est en una horrible dict_comprehension { curse : cursed for c in curseds }\n",
    "dict_rxn_to_gene = dict()\n",
    "genes            = [g.id for g in cobra_model.genes]\n",
    "\n",
    "#print(genes)\n",
    "\n",
    "\n",
    "for id in genes:\n",
    "    # fmt: off\n",
    "    rxns             = [r.id for r in cobra_model.genes.get_by_id(id)._reaction] # reacciones asociadas al gen de la iter\n",
    "    updated_dict  : dict[str, list[str]] = dict(zip(rxns,itertools.repeat([id]))) # zipping con la { reaccion : [id_gen] }\n",
    "    dict_rxn_to_gene = grow_dict(dict_rxn_to_gene, updated_dict) # merge recursivo"
   ]
  },
  {
   "cell_type": "code",
   "execution_count": 11,
   "metadata": {},
   "outputs": [],
   "source": [
    "edges_node_names_explainer_subgraphs = pd.read_csv(\"./results/data/edges_node_names_explainer_subgraphs.csv\")\n",
    "genes = []\n",
    "\n",
    "\n",
    "for node_1, node_2 in zip(edges_node_names_explainer_subgraphs.node1.tolist(), edges_node_names_explainer_subgraphs.node2.tolist()):   \n",
    "    \n",
    "    \n",
    "    if node_2 in dict_rxn_to_gene.keys():\n",
    "        \n",
    "        genes.append(dict_rxn_to_gene[node_2])\n",
    "        \n",
    "    elif node_1 in dict_rxn_to_gene.keys():\n",
    "        \n",
    "        genes.append(dict_rxn_to_gene[node_1])\n",
    "        \n",
    "    else:\n",
    "        genes.append([''])\n",
    "        \n",
    "\n",
    "\n",
    "results_for_R =  pd.concat([pd.Series(genes, name='genes'), edges_node_names_explainer_subgraphs], axis=1).drop('Unnamed: 0',axis=1).reset_index(drop=True)\n"
   ]
  },
  {
   "cell_type": "code",
   "execution_count": 14,
   "metadata": {},
   "outputs": [],
   "source": [
    "results_for_R[results_for_R['0']> 0].to_csv(\"./results/data/results_for_R_non_zero.csv\")"
   ]
  },
  {
   "cell_type": "code",
   "execution_count": 13,
   "metadata": {},
   "outputs": [],
   "source": [
    "results_for_R.to_csv(\"./results/data/results_for_R.csv\")"
   ]
  }
 ],
 "metadata": {
  "kernelspec": {
   "display_name": "Python 3.9.13 ('geo')",
   "language": "python",
   "name": "python3"
  },
  "language_info": {
   "codemirror_mode": {
    "name": "ipython",
    "version": 3
   },
   "file_extension": ".py",
   "mimetype": "text/x-python",
   "name": "python",
   "nbconvert_exporter": "python",
   "pygments_lexer": "ipython3",
   "version": "3.9.13"
  },
  "orig_nbformat": 4,
  "vscode": {
   "interpreter": {
    "hash": "9ccb92c3caf64d15d8cccade25008a463e602c087926676408820d80b4769698"
   }
  }
 },
 "nbformat": 4,
 "nbformat_minor": 2
}
