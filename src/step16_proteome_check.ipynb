{
 "cells": [
  {
   "cell_type": "code",
   "execution_count": 3,
   "metadata": {},
   "outputs": [
    {
     "name": "stderr",
     "output_type": "stream",
     "text": [
      "/tmp/ipykernel_536463/3509122139.py:4: DtypeWarning: Columns (45,90,298,306) have mixed types. Specify dtype option on import or set low_memory=False.\n",
      "  df = pd.read_table(\"https://ftp.pride.ebi.ac.uk/pride/data/archive/2022/04/PXD033012/peptides.txt\")\n"
     ]
    }
   ],
   "source": [
    "import pandas as pd\n",
    "\n",
    "\n",
    "df = pd.read_table(\"https://ftp.pride.ebi.ac.uk/pride/data/archive/2022/04/PXD033012/peptides.txt\")"
   ]
  },
  {
   "cell_type": "code",
   "execution_count": 46,
   "metadata": {},
   "outputs": [
    {
     "data": {
      "text/html": [
       "<div>\n",
       "<style scoped>\n",
       "    .dataframe tbody tr th:only-of-type {\n",
       "        vertical-align: middle;\n",
       "    }\n",
       "\n",
       "    .dataframe tbody tr th {\n",
       "        vertical-align: top;\n",
       "    }\n",
       "\n",
       "    .dataframe thead th {\n",
       "        text-align: right;\n",
       "    }\n",
       "</style>\n",
       "<table border=\"1\" class=\"dataframe\">\n",
       "  <thead>\n",
       "    <tr style=\"text-align: right;\">\n",
       "      <th></th>\n",
       "      <th>Proteins</th>\n",
       "      <th>Leading razor protein</th>\n",
       "      <th>Protein names</th>\n",
       "      <th>Unique (Proteins)</th>\n",
       "      <th>Protein group IDs</th>\n",
       "    </tr>\n",
       "  </thead>\n",
       "  <tbody>\n",
       "    <tr>\n",
       "      <th>9145</th>\n",
       "      <td>Q92643;Q92643-2</td>\n",
       "      <td>Q92643</td>\n",
       "      <td>GPI-anchor transamidase</td>\n",
       "      <td>no</td>\n",
       "      <td>2114</td>\n",
       "    </tr>\n",
       "    <tr>\n",
       "      <th>11383</th>\n",
       "      <td>Q92643</td>\n",
       "      <td>Q92643</td>\n",
       "      <td>GPI-anchor transamidase</td>\n",
       "      <td>yes</td>\n",
       "      <td>2114</td>\n",
       "    </tr>\n",
       "  </tbody>\n",
       "</table>\n",
       "</div>"
      ],
      "text/plain": [
       "              Proteins Leading razor protein            Protein names  \\\n",
       "9145   Q92643;Q92643-2                Q92643  GPI-anchor transamidase   \n",
       "11383           Q92643                Q92643  GPI-anchor transamidase   \n",
       "\n",
       "      Unique (Proteins) Protein group IDs  \n",
       "9145                 no              2114  \n",
       "11383               yes              2114  "
      ]
     },
     "execution_count": 46,
     "metadata": {},
     "output_type": "execute_result"
    }
   ],
   "source": [
    "df.filter(regex='.*(P|p)rotein.*')[df[\"Protein names\"].str.contains('GPI', case=False).fillna(False)]"
   ]
  },
  {
   "cell_type": "code",
   "execution_count": null,
   "metadata": {},
   "outputs": [],
   "source": [
    "df2 = pd.read_table(\"https://ftp.pride.ebi.ac.uk/pride/data/archive/2022/04/PXD028911/peptides.txt\")\n"
   ]
  },
  {
   "cell_type": "code",
   "execution_count": 49,
   "metadata": {},
   "outputs": [
    {
     "data": {
      "text/html": [
       "<div>\n",
       "<style scoped>\n",
       "    .dataframe tbody tr th:only-of-type {\n",
       "        vertical-align: middle;\n",
       "    }\n",
       "\n",
       "    .dataframe tbody tr th {\n",
       "        vertical-align: top;\n",
       "    }\n",
       "\n",
       "    .dataframe thead th {\n",
       "        text-align: right;\n",
       "    }\n",
       "</style>\n",
       "<table border=\"1\" class=\"dataframe\">\n",
       "  <thead>\n",
       "    <tr style=\"text-align: right;\">\n",
       "      <th></th>\n",
       "      <th>Proteins</th>\n",
       "      <th>Leading razor protein</th>\n",
       "      <th>Protein names</th>\n",
       "      <th>Unique (Proteins)</th>\n",
       "      <th>Protein group IDs</th>\n",
       "    </tr>\n",
       "  </thead>\n",
       "  <tbody>\n",
       "    <tr>\n",
       "      <th>5756</th>\n",
       "      <td>Q8IY63</td>\n",
       "      <td>Q8IY63</td>\n",
       "      <td>Angiomotin-like protein 1</td>\n",
       "      <td>yes</td>\n",
       "      <td>1928</td>\n",
       "    </tr>\n",
       "    <tr>\n",
       "      <th>5757</th>\n",
       "      <td>A6NP16;E7ERM3;Q4VCS5</td>\n",
       "      <td>A6NP16</td>\n",
       "      <td>Angiomotin</td>\n",
       "      <td>no</td>\n",
       "      <td>309</td>\n",
       "    </tr>\n",
       "    <tr>\n",
       "      <th>11667</th>\n",
       "      <td>I3L0Y9;B4DWA1;I3L4C2;Q9UQB8</td>\n",
       "      <td>I3L0Y9</td>\n",
       "      <td>Brain-specific angiogenesis inhibitor 1-associ...</td>\n",
       "      <td>no</td>\n",
       "      <td>348</td>\n",
       "    </tr>\n",
       "  </tbody>\n",
       "</table>\n",
       "</div>"
      ],
      "text/plain": [
       "                          Proteins Leading razor protein  \\\n",
       "5756                        Q8IY63                Q8IY63   \n",
       "5757          A6NP16;E7ERM3;Q4VCS5                A6NP16   \n",
       "11667  I3L0Y9;B4DWA1;I3L4C2;Q9UQB8                I3L0Y9   \n",
       "\n",
       "                                           Protein names Unique (Proteins)  \\\n",
       "5756                           Angiomotin-like protein 1               yes   \n",
       "5757                                          Angiomotin                no   \n",
       "11667  Brain-specific angiogenesis inhibitor 1-associ...                no   \n",
       "\n",
       "      Protein group IDs  \n",
       "5756               1928  \n",
       "5757                309  \n",
       "11667               348  "
      ]
     },
     "execution_count": 49,
     "metadata": {},
     "output_type": "execute_result"
    }
   ],
   "source": [
    "\n",
    "df2.filter(regex='.*(P|p)rotein.*')[df2[\"Protein names\"].str.contains('angio', case=False).fillna(False)]"
   ]
  }
 ],
 "metadata": {
  "kernelspec": {
   "display_name": "cobra",
   "language": "python",
   "name": "python3"
  },
  "language_info": {
   "codemirror_mode": {
    "name": "ipython",
    "version": 3
   },
   "file_extension": ".py",
   "mimetype": "text/x-python",
   "name": "python",
   "nbconvert_exporter": "python",
   "pygments_lexer": "ipython3",
   "version": "3.10.8"
  },
  "orig_nbformat": 4,
  "vscode": {
   "interpreter": {
    "hash": "74a7f5fe8881d7cdb7d4a8f643edfee5e3f8fc44e55f6e1f234c3b5a75e98022"
   }
  }
 },
 "nbformat": 4,
 "nbformat_minor": 2
}
