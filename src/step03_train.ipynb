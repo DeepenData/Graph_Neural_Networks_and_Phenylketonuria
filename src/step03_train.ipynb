{
 "cells": [
  {
   "cell_type": "code",
   "execution_count": 2,
   "metadata": {},
   "outputs": [
    {
     "name": "stdout",
     "output_type": "stream",
     "text": [
      "device = 'cuda:0'\n"
     ]
    }
   ],
   "source": [
    "from custom_clss_and_fncs import * \n",
    "import torch\n",
    "import torch_geometric\n",
    "from datetime import datetime\n",
    "device = 'cpu'\n",
    "if torch.cuda.is_available():\n",
    "    torch.cuda.init()\n",
    "    if torch.cuda.is_initialized():\n",
    "        device = 'cuda:0'\n",
    "#device = torch.device(device)\n",
    "print(f\"{device = }\")\n",
    "\n",
    "\n"
   ]
  },
  {
   "cell_type": "code",
   "execution_count": null,
   "metadata": {},
   "outputs": [],
   "source": [
    "#model\n",
    "class regresor_GIN_v3(torch.nn.Module):\n",
    "    \n",
    "    def __init__(\n",
    "        self, \n",
    "        target_node_idx: int,\n",
    "        n_nodes : int, \n",
    "        num_features : int, \n",
    "        out_channels: int,\n",
    "        dropout : float = 0.09, \n",
    "        hidden_dim : int = 5, \n",
    "        #heads : int = 5,\n",
    "        LeakyReLU_slope : float = 0.01,\n",
    "\n",
    "        num_layers: int = 3\n",
    "    ):\n",
    "        super(regresor_GIN_v3, self).__init__() # TODO: why SUPER gato? \n",
    "        self.n_nodes = n_nodes\n",
    "        self.dropout = dropout\n",
    "        self.num_features = num_features\n",
    "        self.target_node_idx = target_node_idx\n",
    "        self.out_channels = out_channels\n",
    "        \n",
    "        self.GIN_layers =  GIN(in_channels= num_features, hidden_channels= hidden_dim, num_layers= num_layers, \n",
    "                               out_channels= out_channels, dropout=dropout,  jk=None, act='LeakyReLU', act_first = True)#.to('cuda')        \n",
    "        self.FC1        = Linear(in_features=out_channels, out_features=1, bias=True)#.to('cuda')\n",
    "        #self.FC2        = Linear(in_features=n_nodes, out_features=1, bias=True)#.to('cuda')        #self.leakyrelu = LeakyReLU(LeakyReLU_slope).to('cuda')\n",
    "        self.leakyrelu = LeakyReLU(LeakyReLU_slope)#.to('cuda')\n",
    "    def forward(self, x):\n",
    "        data       = x.x \n",
    "        edge_index = x.edge_index\n",
    "        batch_size = x.y.shape[0]\n",
    "\n",
    "        x     = self.GIN_layers(data, edge_index)\n",
    "        x     = x.reshape(batch_size, self.n_nodes, self.out_channels)\n",
    "        x     = self.FC1(self.leakyrelu(x))\n",
    "        \n",
    "        return  x[:,self.target_node_idx,:].squeeze()\n",
    "\n"
   ]
  },
  {
   "cell_type": "code",
   "execution_count": null,
   "metadata": {},
   "outputs": [],
   "source": [
    "def train_one_epoch(modelo: regresor_GIN_v3,\n",
    "                    optimizer, \n",
    "                    train_loader: torch_geometric.loader.dataloader.DataLoader,\n",
    "                    loss_fun: torch.nn.modules.loss,\n",
    "                    scaler:torch.cuda.amp.grad_scaler.GradScaler,\n",
    "                    swa_start:int,\n",
    "                    swa_model,swa_scheduler,scheduler, \n",
    "                    n_batches_report:int, device:str='cpu' ):\n",
    "    running_loss = 0.\n",
    "    last_loss = 0.\n",
    "    for i, data in enumerate(train_loader):\n",
    "        assert not data.is_cuda   \n",
    "        if (device == 'cuda:0') | (device == 'cuda'):                            \n",
    "            data.to(device, non_blocking=True) \n",
    "            assert data.is_cuda\n",
    "        \n",
    "                \n",
    "        optimizer.zero_grad(set_to_none=True) # Zero your gradients for every batch\n",
    "        \n",
    "        if (device == 'cuda:0') | (device == 'cuda'):\n",
    "            with torch.cuda.amp.autocast():      \n",
    "                predictions = modelo(data)# Make predictions for this batch\n",
    "                loss        = loss_fun(predictions, data.y)\n",
    "            scaler.scale(loss).backward()\n",
    "\n",
    "            if (i+1) % 2 == 0:  \n",
    "                if i > swa_start:\n",
    "                    swa_model.update_parameters(modelo)\n",
    "                    swa_scheduler.step()\n",
    "                else:\n",
    "                    scheduler.step()\n",
    "            \n",
    "            #check_seen_y.extend(data.y.squeeze().tolist())\n",
    "            #loss.backward()  # Derive gradients.\n",
    "                scaler.step(optimizer)\n",
    "                scaler.update()\n",
    "            #optimizer.step()  # Update parameters based on gradients.\n",
    "                running_loss += loss.item()\n",
    "                 \n",
    "            \n",
    "        else:\n",
    "            with torch.cuda.amp.autocast():\n",
    "                predictions = modelo(data)# Make predictions for this batch\n",
    "                loss        = loss_fun(predictions, data.y)\n",
    "            loss.backward()\n",
    "            if (i+1) % 2 == 0:  \n",
    "                if i > swa_start:\n",
    "                    swa_model.update_parameters(modelo)\n",
    "                    swa_scheduler.step()\n",
    "                else:\n",
    "                    scheduler.step()\n",
    "                optimizer.step()\n",
    "                running_loss += loss.item()   \n",
    "            \n",
    "        \n",
    "    \n",
    "\n",
    "            \n",
    "        #It reports on the loss for every 100 batches.\n",
    "        if i % n_batches_report == 99:\n",
    "            last_loss = running_loss / n_batches_report\n",
    "            running_loss = 0.\n",
    "    torch.optim.swa_utils.update_bn(train_loader, swa_model, device=device)\n",
    "    return last_loss\n"
   ]
  }
 ],
 "metadata": {
  "kernelspec": {
   "display_name": "Python 3.9.13 ('geo')",
   "language": "python",
   "name": "python3"
  },
  "language_info": {
   "codemirror_mode": {
    "name": "ipython",
    "version": 3
   },
   "file_extension": ".py",
   "mimetype": "text/x-python",
   "name": "python",
   "nbconvert_exporter": "python",
   "pygments_lexer": "ipython3",
   "version": "3.9.13"
  },
  "orig_nbformat": 4,
  "vscode": {
   "interpreter": {
    "hash": "9ccb92c3caf64d15d8cccade25008a463e602c087926676408820d80b4769698"
   }
  }
 },
 "nbformat": 4,
 "nbformat_minor": 2
}
