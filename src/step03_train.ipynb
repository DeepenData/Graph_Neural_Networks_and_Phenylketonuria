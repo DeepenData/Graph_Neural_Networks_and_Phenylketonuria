{
 "cells": [
  {
   "cell_type": "code",
   "execution_count": 1,
   "metadata": {},
   "outputs": [
    {
     "name": "stderr",
     "output_type": "stream",
     "text": [
      "/DeepenData/.miniconda/envs/geo/lib/python3.9/site-packages/tqdm/auto.py:22: TqdmWarning: IProgress not found. Please update jupyter and ipywidgets. See https://ipywidgets.readthedocs.io/en/stable/user_install.html\n",
      "  from .autonotebook import tqdm as notebook_tqdm\n"
     ]
    },
    {
     "name": "stdout",
     "output_type": "stream",
     "text": [
      "device = 'cuda:0'\n"
     ]
    }
   ],
   "source": [
    "from acevedo_clss_and_fcns import * \n",
    "device = 'cpu'\n",
    "if torch.cuda.is_available():\n",
    "    torch.cuda.init()\n",
    "    if torch.cuda.is_initialized():\n",
    "        device = 'cuda:0'\n",
    "print(f\"{device = }\")\n",
    "\n"
   ]
  },
  {
   "cell_type": "markdown",
   "metadata": {},
   "source": [
    "## Non_masked_Phe"
   ]
  },
  {
   "cell_type": "code",
   "execution_count": 2,
   "metadata": {},
   "outputs": [],
   "source": [
    "def train_one_epoch(modelo: GIN_classifier_to_explain_v2,\n",
    "                    optimizer, \n",
    "                    train_loader: torch_geometric.loader.dataloader.DataLoader,\n",
    "                    loss_fun: torch.nn.modules.loss,\n",
    "                    device:str='cpu' ):\n",
    "\n",
    "    correct = 0\n",
    "    for i, data in enumerate(train_loader):\n",
    "        assert not data.is_cuda   \n",
    "        if (device == 'cuda:0') | (device == 'cuda'):                            \n",
    "            data.to(device, non_blocking=True) \n",
    "            assert data.is_cuda       \n",
    "                \n",
    "        optimizer.zero_grad(set_to_none=True) # Zero your gradients for every batch        \n",
    "        if (device == 'cuda:0') | (device == 'cuda'):\n",
    "            #with torch.cuda.amp.autocast():      \n",
    "            predictions = modelo(data.x, data.edge_index,  data.batch)# Make predictions for this batch\n",
    "            loss        = loss_fun(predictions, data.y)\n",
    "            loss.backward()  # Derive gradients.\n",
    "            optimizer.step()  # Update parameters based on gradients.        \n",
    "            pred     = predictions.argmax(dim=1)  # Use the class with highest probability.\n",
    "            correct += int((pred == data.y).sum())  # Check against ground-truth labels.\n",
    "\n",
    "    return correct / len(train_loader.dataset)\n",
    "\n",
    "def validate(modelo: GIN_classifier_to_explain_v2, loader: DataLoader, device: str = 'cpu'):\n",
    "    modelo.eval()\n",
    "    correct = 0\n",
    "    for i, val_data in enumerate(loader):\n",
    "        \n",
    "        assert not val_data.is_cuda\n",
    "        if (device == 'cuda:0') | (device == 'cuda'):\n",
    "            val_data.to(device, non_blocking=True) \n",
    "            assert val_data.is_cuda                          \n",
    "\n",
    "        val_predictions = modelo(val_data.x, val_data.edge_index,  val_data.batch)# Make predictions for this batch\n",
    "        pred            = val_predictions.argmax(dim=1)\n",
    "\n",
    "        correct += int((pred == val_data.y).sum())\n",
    "        \n",
    "\n",
    "    return correct / len(loader.dataset)   \n",
    "\n",
    "#loader_path = \"./results/dataloaders/MASKED_loader_Concen_plus_Fluxes.pt\"\n",
    "saving_path     = \"./results/trained_pytorch_models\"\n",
    "model_subfolder = \"/Non_masked_Phe\"\n",
    "loader_path     = \"./results/dataloaders/loader_Concen_plus_Fluxes.pt\"\n",
    "loader = torch.load(loader_path)\n",
    "a_batch         = next(iter(loader.get_train_loader()))\n",
    "a_graph         = a_batch[0]\n",
    "model           = GIN_classifier_to_explain_v2(\n",
    "                                            n_nodes = a_graph.num_nodes, \n",
    "                                            num_features = a_graph.num_node_features, \n",
    "                                            n_classes = a_graph.num_classes,\n",
    "                                            hidden_dim=8,\n",
    "                                            num_layers=2).to(device, non_blocking=True).to(device)\n",
    "\n",
    "\n",
    "optimizer       = torch.optim.Adam(model.parameters())\n",
    "loss_function   = torch.nn.NLLLoss()\n",
    "best_validation_accuracy = 1e-10\n",
    "EPOCHS = 10\n",
    "verbose = True\n"
   ]
  },
  {
   "cell_type": "code",
   "execution_count": 3,
   "metadata": {},
   "outputs": [
    {
     "name": "stderr",
     "output_type": "stream",
     "text": [
      " 10%|█         | 1/10 [00:04<00:41,  4.60s/it]"
     ]
    },
    {
     "name": "stdout",
     "output_type": "stream",
     "text": [
      "Epoch: 000, train_accuracy: 0.8051, best_validation_accuracy: 0.9547\n",
      "saved as ./results/trained_pytorch_models/Non_masked_Phe/Model_GIN_classifier_to_explain_v2_05-11-2022_13h_49min_best_ValAcc_0.9547340626178801_epoch_0.pt\n"
     ]
    },
    {
     "name": "stderr",
     "output_type": "stream",
     "text": [
      " 20%|██        | 2/10 [00:08<00:31,  3.94s/it]"
     ]
    },
    {
     "name": "stdout",
     "output_type": "stream",
     "text": [
      "Epoch: 001, train_accuracy: 0.9575, best_validation_accuracy: 0.9649\n",
      "saved as ./results/trained_pytorch_models/Non_masked_Phe/Model_GIN_classifier_to_explain_v2_05-11-2022_13h_49min_best_ValAcc_0.964918898528857_epoch_1.pt\n"
     ]
    },
    {
     "name": "stderr",
     "output_type": "stream",
     "text": [
      " 30%|███       | 3/10 [00:11<00:26,  3.74s/it]"
     ]
    },
    {
     "name": "stdout",
     "output_type": "stream",
     "text": [
      "Epoch: 002, train_accuracy: 0.9722, best_validation_accuracy: 0.9710\n",
      "saved as ./results/trained_pytorch_models/Non_masked_Phe/Model_GIN_classifier_to_explain_v2_05-11-2022_13h_49min_best_ValAcc_0.970954356846473_epoch_2.pt\n"
     ]
    },
    {
     "name": "stderr",
     "output_type": "stream",
     "text": [
      " 40%|████      | 4/10 [00:15<00:21,  3.64s/it]"
     ]
    },
    {
     "name": "stdout",
     "output_type": "stream",
     "text": [
      "Epoch: 003, train_accuracy: 0.9756, best_validation_accuracy: 0.9796\n",
      "saved as ./results/trained_pytorch_models/Non_masked_Phe/Model_GIN_classifier_to_explain_v2_05-11-2022_13h_49min_best_ValAcc_0.9796303281780461_epoch_3.pt\n"
     ]
    },
    {
     "name": "stderr",
     "output_type": "stream",
     "text": [
      " 60%|██████    | 6/10 [00:22<00:14,  3.55s/it]"
     ]
    },
    {
     "name": "stdout",
     "output_type": "stream",
     "text": [
      "Epoch: 005, train_accuracy: 0.9835, best_validation_accuracy: 0.9857\n",
      "saved as ./results/trained_pytorch_models/Non_masked_Phe/Model_GIN_classifier_to_explain_v2_05-11-2022_13h_49min_best_ValAcc_0.985665786495662_epoch_5.pt\n"
     ]
    },
    {
     "name": "stderr",
     "output_type": "stream",
     "text": [
      " 70%|███████   | 7/10 [00:25<00:10,  3.53s/it]"
     ]
    },
    {
     "name": "stdout",
     "output_type": "stream",
     "text": [
      "Epoch: 006, train_accuracy: 0.9850, best_validation_accuracy: 0.9872\n",
      "saved as ./results/trained_pytorch_models/Non_masked_Phe/Model_GIN_classifier_to_explain_v2_05-11-2022_13h_49min_best_ValAcc_0.987174651075066_epoch_6.pt\n"
     ]
    },
    {
     "name": "stderr",
     "output_type": "stream",
     "text": [
      " 80%|████████  | 8/10 [00:29<00:07,  3.52s/it]"
     ]
    },
    {
     "name": "stdout",
     "output_type": "stream",
     "text": [
      "Epoch: 007, train_accuracy: 0.9860, best_validation_accuracy: 0.9876\n",
      "saved as ./results/trained_pytorch_models/Non_masked_Phe/Model_GIN_classifier_to_explain_v2_05-11-2022_13h_50min_best_ValAcc_0.9875518672199171_epoch_7.pt\n"
     ]
    },
    {
     "name": "stderr",
     "output_type": "stream",
     "text": [
      " 90%|█████████ | 9/10 [00:32<00:03,  3.52s/it]"
     ]
    },
    {
     "name": "stdout",
     "output_type": "stream",
     "text": [
      "Epoch: 008, train_accuracy: 0.9860, best_validation_accuracy: 0.9879\n",
      "saved as ./results/trained_pytorch_models/Non_masked_Phe/Model_GIN_classifier_to_explain_v2_05-11-2022_13h_50min_best_ValAcc_0.987929083364768_epoch_8.pt\n"
     ]
    },
    {
     "name": "stderr",
     "output_type": "stream",
     "text": [
      "100%|██████████| 10/10 [00:36<00:00,  3.60s/it]\n"
     ]
    }
   ],
   "source": [
    "gc.collect()\n",
    "torch.cuda.empty_cache() \n",
    "for epoch in tqdm.tqdm(range(EPOCHS)):\n",
    "    \n",
    "    train_accuracy = train_one_epoch(model,\n",
    "                        optimizer=optimizer, \n",
    "                        train_loader=loader.get_train_loader(),\n",
    "                        loss_fun=loss_function,\n",
    "                        device = device)\n",
    "\n",
    "    validation_accuracy = validate(model, loader.get_validation_loader(), device)\n",
    "    if validation_accuracy > best_validation_accuracy:\n",
    "        best_validation_accuracy = validation_accuracy\n",
    "        del validation_accuracy\n",
    "        best_val_state_dict   = copy.deepcopy(model.state_dict())\n",
    "        best_val_model        = copy.deepcopy(model)\n",
    "        if verbose:\n",
    "            timestamp     = datetime.now().strftime('%d-%m-%Y_%Hh_%Mmin')              \n",
    "            print(f'Epoch: {epoch:03d}, train_accuracy: {train_accuracy:.4f}, best_validation_accuracy: {best_validation_accuracy:.4f}')\n",
    "            model_path = saving_path+model_subfolder+'/Model_{}_{}_best_ValAcc_{}_epoch_{}.pt'.format(model.__class__.__name__,timestamp, best_validation_accuracy, epoch)\n",
    "            torch.save(best_val_model, model_path)\n",
    "            print(f\"saved as {model_path}\")\n",
    "\n"
   ]
  },
  {
   "cell_type": "markdown",
   "metadata": {},
   "source": [
    "# Masked"
   ]
  },
  {
   "cell_type": "code",
   "execution_count": 4,
   "metadata": {},
   "outputs": [
    {
     "name": "stderr",
     "output_type": "stream",
     "text": [
      "  1%|          | 1/100 [00:03<05:51,  3.55s/it]"
     ]
    },
    {
     "name": "stdout",
     "output_type": "stream",
     "text": [
      "Epoch: 000, train_accuracy: 0.5397, best_validation_accuracy: 0.4908\n",
      "saved as ./results/trained_pytorch_models/Masked_Phe/Model_GIN_classifier_to_explain_v2_05-11-2022_13h_50min_best_ValAcc_0.4907582044511505_epoch_0.pt\n"
     ]
    },
    {
     "name": "stderr",
     "output_type": "stream",
     "text": [
      "  2%|▏         | 2/100 [00:07<05:45,  3.53s/it]"
     ]
    },
    {
     "name": "stdout",
     "output_type": "stream",
     "text": [
      "Epoch: 001, train_accuracy: 0.6046, best_validation_accuracy: 0.6635\n",
      "saved as ./results/trained_pytorch_models/Masked_Phe/Model_GIN_classifier_to_explain_v2_05-11-2022_13h_50min_best_ValAcc_0.6635231987929083_epoch_1.pt\n"
     ]
    },
    {
     "name": "stderr",
     "output_type": "stream",
     "text": [
      "  3%|▎         | 3/100 [00:10<05:41,  3.52s/it]"
     ]
    },
    {
     "name": "stdout",
     "output_type": "stream",
     "text": [
      "Epoch: 002, train_accuracy: 0.6753, best_validation_accuracy: 0.6850\n",
      "saved as ./results/trained_pytorch_models/Masked_Phe/Model_GIN_classifier_to_explain_v2_05-11-2022_13h_50min_best_ValAcc_0.6850245190494153_epoch_2.pt\n"
     ]
    },
    {
     "name": "stderr",
     "output_type": "stream",
     "text": [
      "  4%|▍         | 4/100 [00:14<05:37,  3.52s/it]"
     ]
    },
    {
     "name": "stdout",
     "output_type": "stream",
     "text": [
      "Epoch: 003, train_accuracy: 0.7023, best_validation_accuracy: 0.7092\n",
      "saved as ./results/trained_pytorch_models/Masked_Phe/Model_GIN_classifier_to_explain_v2_05-11-2022_13h_50min_best_ValAcc_0.7091663523198793_epoch_3.pt\n"
     ]
    },
    {
     "name": "stderr",
     "output_type": "stream",
     "text": [
      "  5%|▌         | 5/100 [00:17<05:33,  3.51s/it]"
     ]
    },
    {
     "name": "stdout",
     "output_type": "stream",
     "text": [
      "Epoch: 004, train_accuracy: 0.7224, best_validation_accuracy: 0.7348\n",
      "saved as ./results/trained_pytorch_models/Masked_Phe/Model_GIN_classifier_to_explain_v2_05-11-2022_13h_50min_best_ValAcc_0.7348170501697473_epoch_4.pt\n"
     ]
    },
    {
     "name": "stderr",
     "output_type": "stream",
     "text": [
      "  6%|▌         | 6/100 [00:21<05:29,  3.51s/it]"
     ]
    },
    {
     "name": "stdout",
     "output_type": "stream",
     "text": [
      "Epoch: 005, train_accuracy: 0.7338, best_validation_accuracy: 0.7597\n",
      "saved as ./results/trained_pytorch_models/Masked_Phe/Model_GIN_classifier_to_explain_v2_05-11-2022_13h_50min_best_ValAcc_0.7597133157299132_epoch_5.pt\n"
     ]
    },
    {
     "name": "stderr",
     "output_type": "stream",
     "text": [
      "  7%|▋         | 7/100 [00:24<05:26,  3.51s/it]"
     ]
    },
    {
     "name": "stdout",
     "output_type": "stream",
     "text": [
      "Epoch: 006, train_accuracy: 0.7496, best_validation_accuracy: 0.7612\n",
      "saved as ./results/trained_pytorch_models/Masked_Phe/Model_GIN_classifier_to_explain_v2_05-11-2022_13h_50min_best_ValAcc_0.7612221803093172_epoch_6.pt\n"
     ]
    },
    {
     "name": "stderr",
     "output_type": "stream",
     "text": [
      "  8%|▊         | 8/100 [00:28<05:22,  3.51s/it]"
     ]
    },
    {
     "name": "stdout",
     "output_type": "stream",
     "text": [
      "Epoch: 007, train_accuracy: 0.7600, best_validation_accuracy: 0.7725\n",
      "saved as ./results/trained_pytorch_models/Masked_Phe/Model_GIN_classifier_to_explain_v2_05-11-2022_13h_50min_best_ValAcc_0.7725386646548472_epoch_7.pt\n"
     ]
    },
    {
     "name": "stderr",
     "output_type": "stream",
     "text": [
      "  9%|▉         | 9/100 [00:31<05:18,  3.50s/it]"
     ]
    },
    {
     "name": "stdout",
     "output_type": "stream",
     "text": [
      "Epoch: 008, train_accuracy: 0.7771, best_validation_accuracy: 0.7850\n",
      "saved as ./results/trained_pytorch_models/Masked_Phe/Model_GIN_classifier_to_explain_v2_05-11-2022_13h_50min_best_ValAcc_0.7849867974349302_epoch_8.pt\n"
     ]
    },
    {
     "name": "stderr",
     "output_type": "stream",
     "text": [
      " 10%|█         | 10/100 [00:35<05:15,  3.51s/it]"
     ]
    },
    {
     "name": "stdout",
     "output_type": "stream",
     "text": [
      "Epoch: 009, train_accuracy: 0.7836, best_validation_accuracy: 0.8001\n",
      "saved as ./results/trained_pytorch_models/Masked_Phe/Model_GIN_classifier_to_explain_v2_05-11-2022_13h_50min_best_ValAcc_0.8000754432289702_epoch_9.pt\n"
     ]
    },
    {
     "name": "stderr",
     "output_type": "stream",
     "text": [
      " 12%|█▏        | 12/100 [00:42<05:08,  3.51s/it]"
     ]
    },
    {
     "name": "stdout",
     "output_type": "stream",
     "text": [
      "Epoch: 011, train_accuracy: 0.7984, best_validation_accuracy: 0.8065\n",
      "saved as ./results/trained_pytorch_models/Masked_Phe/Model_GIN_classifier_to_explain_v2_05-11-2022_13h_51min_best_ValAcc_0.8064881176914372_epoch_11.pt\n"
     ]
    },
    {
     "name": "stderr",
     "output_type": "stream",
     "text": [
      " 13%|█▎        | 13/100 [00:45<05:04,  3.51s/it]"
     ]
    },
    {
     "name": "stdout",
     "output_type": "stream",
     "text": [
      "Epoch: 012, train_accuracy: 0.8021, best_validation_accuracy: 0.8095\n",
      "saved as ./results/trained_pytorch_models/Masked_Phe/Model_GIN_classifier_to_explain_v2_05-11-2022_13h_51min_best_ValAcc_0.8095058468502452_epoch_12.pt\n"
     ]
    },
    {
     "name": "stderr",
     "output_type": "stream",
     "text": [
      " 15%|█▌        | 15/100 [00:52<04:58,  3.51s/it]"
     ]
    },
    {
     "name": "stdout",
     "output_type": "stream",
     "text": [
      "Epoch: 014, train_accuracy: 0.8122, best_validation_accuracy: 0.8152\n",
      "saved as ./results/trained_pytorch_models/Masked_Phe/Model_GIN_classifier_to_explain_v2_05-11-2022_13h_51min_best_ValAcc_0.8151640890230102_epoch_14.pt\n"
     ]
    },
    {
     "name": "stderr",
     "output_type": "stream",
     "text": [
      " 16%|█▌        | 16/100 [00:56<04:54,  3.50s/it]"
     ]
    },
    {
     "name": "stdout",
     "output_type": "stream",
     "text": [
      "Epoch: 015, train_accuracy: 0.8169, best_validation_accuracy: 0.8167\n",
      "saved as ./results/trained_pytorch_models/Masked_Phe/Model_GIN_classifier_to_explain_v2_05-11-2022_13h_51min_best_ValAcc_0.8166729536024142_epoch_15.pt\n"
     ]
    },
    {
     "name": "stderr",
     "output_type": "stream",
     "text": [
      " 17%|█▋        | 17/100 [00:59<04:49,  3.49s/it]"
     ]
    },
    {
     "name": "stdout",
     "output_type": "stream",
     "text": [
      "Epoch: 016, train_accuracy: 0.8236, best_validation_accuracy: 0.8216\n",
      "saved as ./results/trained_pytorch_models/Masked_Phe/Model_GIN_classifier_to_explain_v2_05-11-2022_13h_51min_best_ValAcc_0.8215767634854771_epoch_16.pt\n"
     ]
    },
    {
     "name": "stderr",
     "output_type": "stream",
     "text": [
      " 18%|█▊        | 18/100 [01:03<04:46,  3.50s/it]"
     ]
    },
    {
     "name": "stdout",
     "output_type": "stream",
     "text": [
      "Epoch: 017, train_accuracy: 0.8226, best_validation_accuracy: 0.8238\n",
      "saved as ./results/trained_pytorch_models/Masked_Phe/Model_GIN_classifier_to_explain_v2_05-11-2022_13h_51min_best_ValAcc_0.8238400603545831_epoch_17.pt\n"
     ]
    },
    {
     "name": "stderr",
     "output_type": "stream",
     "text": [
      " 19%|█▉        | 19/100 [01:06<04:43,  3.50s/it]"
     ]
    },
    {
     "name": "stdout",
     "output_type": "stream",
     "text": [
      "Epoch: 018, train_accuracy: 0.8240, best_validation_accuracy: 0.8299\n",
      "saved as ./results/trained_pytorch_models/Masked_Phe/Model_GIN_classifier_to_explain_v2_05-11-2022_13h_51min_best_ValAcc_0.8298755186721992_epoch_18.pt\n"
     ]
    },
    {
     "name": "stderr",
     "output_type": "stream",
     "text": [
      " 21%|██        | 21/100 [01:13<04:35,  3.48s/it]"
     ]
    },
    {
     "name": "stdout",
     "output_type": "stream",
     "text": [
      "Epoch: 020, train_accuracy: 0.8338, best_validation_accuracy: 0.8314\n",
      "saved as ./results/trained_pytorch_models/Masked_Phe/Model_GIN_classifier_to_explain_v2_05-11-2022_13h_51min_best_ValAcc_0.8313843832516031_epoch_20.pt\n"
     ]
    },
    {
     "name": "stderr",
     "output_type": "stream",
     "text": [
      " 23%|██▎       | 23/100 [01:20<04:28,  3.48s/it]"
     ]
    },
    {
     "name": "stdout",
     "output_type": "stream",
     "text": [
      "Epoch: 022, train_accuracy: 0.8378, best_validation_accuracy: 0.8336\n",
      "saved as ./results/trained_pytorch_models/Masked_Phe/Model_GIN_classifier_to_explain_v2_05-11-2022_13h_51min_best_ValAcc_0.8336476801207091_epoch_22.pt\n"
     ]
    },
    {
     "name": "stderr",
     "output_type": "stream",
     "text": [
      " 24%|██▍       | 24/100 [01:24<04:25,  3.49s/it]"
     ]
    },
    {
     "name": "stdout",
     "output_type": "stream",
     "text": [
      "Epoch: 023, train_accuracy: 0.8376, best_validation_accuracy: 0.8370\n",
      "saved as ./results/trained_pytorch_models/Masked_Phe/Model_GIN_classifier_to_explain_v2_05-11-2022_13h_51min_best_ValAcc_0.8370426254243681_epoch_23.pt\n"
     ]
    },
    {
     "name": "stderr",
     "output_type": "stream",
     "text": [
      " 25%|██▌       | 25/100 [01:27<04:22,  3.50s/it]"
     ]
    },
    {
     "name": "stdout",
     "output_type": "stream",
     "text": [
      "Epoch: 024, train_accuracy: 0.8393, best_validation_accuracy: 0.8386\n",
      "saved as ./results/trained_pytorch_models/Masked_Phe/Model_GIN_classifier_to_explain_v2_05-11-2022_13h_51min_best_ValAcc_0.8385514900037722_epoch_24.pt\n"
     ]
    },
    {
     "name": "stderr",
     "output_type": "stream",
     "text": [
      " 26%|██▌       | 26/100 [01:31<04:18,  3.50s/it]"
     ]
    },
    {
     "name": "stdout",
     "output_type": "stream",
     "text": [
      "Epoch: 025, train_accuracy: 0.8411, best_validation_accuracy: 0.8404\n",
      "saved as ./results/trained_pytorch_models/Masked_Phe/Model_GIN_classifier_to_explain_v2_05-11-2022_13h_51min_best_ValAcc_0.8404375707280272_epoch_25.pt\n"
     ]
    },
    {
     "name": "stderr",
     "output_type": "stream",
     "text": [
      " 27%|██▋       | 27/100 [01:34<04:15,  3.50s/it]"
     ]
    },
    {
     "name": "stdout",
     "output_type": "stream",
     "text": [
      "Epoch: 026, train_accuracy: 0.8447, best_validation_accuracy: 0.8427\n",
      "saved as ./results/trained_pytorch_models/Masked_Phe/Model_GIN_classifier_to_explain_v2_05-11-2022_13h_51min_best_ValAcc_0.8427008675971331_epoch_26.pt\n"
     ]
    },
    {
     "name": "stderr",
     "output_type": "stream",
     "text": [
      " 30%|███       | 30/100 [01:45<04:04,  3.50s/it]"
     ]
    },
    {
     "name": "stdout",
     "output_type": "stream",
     "text": [
      "Epoch: 029, train_accuracy: 0.8504, best_validation_accuracy: 0.8453\n",
      "saved as ./results/trained_pytorch_models/Masked_Phe/Model_GIN_classifier_to_explain_v2_05-11-2022_13h_52min_best_ValAcc_0.8453413806110902_epoch_29.pt\n"
     ]
    },
    {
     "name": "stderr",
     "output_type": "stream",
     "text": [
      " 32%|███▏      | 32/100 [01:52<03:57,  3.50s/it]"
     ]
    },
    {
     "name": "stdout",
     "output_type": "stream",
     "text": [
      "Epoch: 031, train_accuracy: 0.8494, best_validation_accuracy: 0.8525\n",
      "saved as ./results/trained_pytorch_models/Masked_Phe/Model_GIN_classifier_to_explain_v2_05-11-2022_13h_52min_best_ValAcc_0.8525084873632591_epoch_31.pt\n"
     ]
    },
    {
     "name": "stderr",
     "output_type": "stream",
     "text": [
      " 33%|███▎      | 33/100 [01:55<03:54,  3.50s/it]"
     ]
    },
    {
     "name": "stdout",
     "output_type": "stream",
     "text": [
      "Epoch: 032, train_accuracy: 0.8506, best_validation_accuracy: 0.8533\n",
      "saved as ./results/trained_pytorch_models/Masked_Phe/Model_GIN_classifier_to_explain_v2_05-11-2022_13h_52min_best_ValAcc_0.8532629196529612_epoch_32.pt\n"
     ]
    },
    {
     "name": "stderr",
     "output_type": "stream",
     "text": [
      " 35%|███▌      | 35/100 [02:02<03:46,  3.49s/it]"
     ]
    },
    {
     "name": "stdout",
     "output_type": "stream",
     "text": [
      "Epoch: 034, train_accuracy: 0.8541, best_validation_accuracy: 0.8555\n",
      "saved as ./results/trained_pytorch_models/Masked_Phe/Model_GIN_classifier_to_explain_v2_05-11-2022_13h_52min_best_ValAcc_0.8555262165220672_epoch_34.pt\n"
     ]
    },
    {
     "name": "stderr",
     "output_type": "stream",
     "text": [
      " 36%|███▌      | 36/100 [02:06<03:43,  3.49s/it]"
     ]
    },
    {
     "name": "stdout",
     "output_type": "stream",
     "text": [
      "Epoch: 035, train_accuracy: 0.8580, best_validation_accuracy: 0.8563\n",
      "saved as ./results/trained_pytorch_models/Masked_Phe/Model_GIN_classifier_to_explain_v2_05-11-2022_13h_52min_best_ValAcc_0.8562806488117691_epoch_35.pt\n"
     ]
    },
    {
     "name": "stderr",
     "output_type": "stream",
     "text": [
      " 38%|███▊      | 38/100 [02:12<03:36,  3.49s/it]"
     ]
    },
    {
     "name": "stdout",
     "output_type": "stream",
     "text": [
      "Epoch: 037, train_accuracy: 0.8596, best_validation_accuracy: 0.8601\n",
      "saved as ./results/trained_pytorch_models/Masked_Phe/Model_GIN_classifier_to_explain_v2_05-11-2022_13h_52min_best_ValAcc_0.8600528102602791_epoch_37.pt\n"
     ]
    },
    {
     "name": "stderr",
     "output_type": "stream",
     "text": [
      " 39%|███▉      | 39/100 [02:16<03:33,  3.49s/it]"
     ]
    },
    {
     "name": "stdout",
     "output_type": "stream",
     "text": [
      "Epoch: 038, train_accuracy: 0.8608, best_validation_accuracy: 0.8604\n",
      "saved as ./results/trained_pytorch_models/Masked_Phe/Model_GIN_classifier_to_explain_v2_05-11-2022_13h_52min_best_ValAcc_0.8604300264051301_epoch_38.pt\n"
     ]
    },
    {
     "name": "stderr",
     "output_type": "stream",
     "text": [
      " 42%|████▏     | 42/100 [02:26<03:22,  3.49s/it]"
     ]
    },
    {
     "name": "stdout",
     "output_type": "stream",
     "text": [
      "Epoch: 041, train_accuracy: 0.8580, best_validation_accuracy: 0.8646\n",
      "saved as ./results/trained_pytorch_models/Masked_Phe/Model_GIN_classifier_to_explain_v2_05-11-2022_13h_52min_best_ValAcc_0.8645794039984911_epoch_41.pt\n"
     ]
    },
    {
     "name": "stderr",
     "output_type": "stream",
     "text": [
      " 44%|████▍     | 44/100 [02:33<03:15,  3.49s/it]"
     ]
    },
    {
     "name": "stdout",
     "output_type": "stream",
     "text": [
      "Epoch: 043, train_accuracy: 0.8685, best_validation_accuracy: 0.8668\n",
      "saved as ./results/trained_pytorch_models/Masked_Phe/Model_GIN_classifier_to_explain_v2_05-11-2022_13h_52min_best_ValAcc_0.8668427008675972_epoch_43.pt\n"
     ]
    },
    {
     "name": "stderr",
     "output_type": "stream",
     "text": [
      " 45%|████▌     | 45/100 [02:37<03:11,  3.49s/it]"
     ]
    },
    {
     "name": "stdout",
     "output_type": "stream",
     "text": [
      "Epoch: 044, train_accuracy: 0.8683, best_validation_accuracy: 0.8676\n",
      "saved as ./results/trained_pytorch_models/Masked_Phe/Model_GIN_classifier_to_explain_v2_05-11-2022_13h_53min_best_ValAcc_0.8675971331572991_epoch_44.pt\n"
     ]
    },
    {
     "name": "stderr",
     "output_type": "stream",
     "text": [
      " 46%|████▌     | 46/100 [02:40<03:08,  3.49s/it]"
     ]
    },
    {
     "name": "stdout",
     "output_type": "stream",
     "text": [
      "Epoch: 045, train_accuracy: 0.8724, best_validation_accuracy: 0.8733\n",
      "saved as ./results/trained_pytorch_models/Masked_Phe/Model_GIN_classifier_to_explain_v2_05-11-2022_13h_53min_best_ValAcc_0.8732553753300641_epoch_45.pt\n"
     ]
    },
    {
     "name": "stderr",
     "output_type": "stream",
     "text": [
      " 49%|████▉     | 49/100 [02:51<02:57,  3.49s/it]"
     ]
    },
    {
     "name": "stdout",
     "output_type": "stream",
     "text": [
      "Epoch: 048, train_accuracy: 0.8807, best_validation_accuracy: 0.8755\n",
      "saved as ./results/trained_pytorch_models/Masked_Phe/Model_GIN_classifier_to_explain_v2_05-11-2022_13h_53min_best_ValAcc_0.8755186721991701_epoch_48.pt\n"
     ]
    },
    {
     "name": "stderr",
     "output_type": "stream",
     "text": [
      " 51%|█████     | 51/100 [02:58<02:50,  3.48s/it]"
     ]
    },
    {
     "name": "stdout",
     "output_type": "stream",
     "text": [
      "Epoch: 050, train_accuracy: 0.8769, best_validation_accuracy: 0.8770\n",
      "saved as ./results/trained_pytorch_models/Masked_Phe/Model_GIN_classifier_to_explain_v2_05-11-2022_13h_53min_best_ValAcc_0.8770275367785741_epoch_50.pt\n"
     ]
    },
    {
     "name": "stderr",
     "output_type": "stream",
     "text": [
      " 52%|█████▏    | 52/100 [03:01<02:47,  3.49s/it]"
     ]
    },
    {
     "name": "stdout",
     "output_type": "stream",
     "text": [
      "Epoch: 051, train_accuracy: 0.8844, best_validation_accuracy: 0.8782\n",
      "saved as ./results/trained_pytorch_models/Masked_Phe/Model_GIN_classifier_to_explain_v2_05-11-2022_13h_53min_best_ValAcc_0.8781591852131271_epoch_51.pt\n"
     ]
    },
    {
     "name": "stderr",
     "output_type": "stream",
     "text": [
      " 55%|█████▌    | 55/100 [03:12<02:37,  3.50s/it]"
     ]
    },
    {
     "name": "stdout",
     "output_type": "stream",
     "text": [
      "Epoch: 054, train_accuracy: 0.8779, best_validation_accuracy: 0.8834\n",
      "saved as ./results/trained_pytorch_models/Masked_Phe/Model_GIN_classifier_to_explain_v2_05-11-2022_13h_53min_best_ValAcc_0.8834402112410411_epoch_54.pt\n"
     ]
    },
    {
     "name": "stderr",
     "output_type": "stream",
     "text": [
      " 56%|█████▌    | 56/100 [03:15<02:33,  3.50s/it]"
     ]
    },
    {
     "name": "stdout",
     "output_type": "stream",
     "text": [
      "Epoch: 055, train_accuracy: 0.8803, best_validation_accuracy: 0.8857\n",
      "saved as ./results/trained_pytorch_models/Masked_Phe/Model_GIN_classifier_to_explain_v2_05-11-2022_13h_53min_best_ValAcc_0.8857035081101471_epoch_55.pt\n"
     ]
    },
    {
     "name": "stderr",
     "output_type": "stream",
     "text": [
      " 58%|█████▊    | 58/100 [03:22<02:26,  3.49s/it]"
     ]
    },
    {
     "name": "stdout",
     "output_type": "stream",
     "text": [
      "Epoch: 057, train_accuracy: 0.8874, best_validation_accuracy: 0.8883\n",
      "saved as ./results/trained_pytorch_models/Masked_Phe/Model_GIN_classifier_to_explain_v2_05-11-2022_13h_53min_best_ValAcc_0.8883440211241042_epoch_57.pt\n"
     ]
    },
    {
     "name": "stderr",
     "output_type": "stream",
     "text": [
      " 59%|█████▉    | 59/100 [03:26<02:22,  3.49s/it]"
     ]
    },
    {
     "name": "stdout",
     "output_type": "stream",
     "text": [
      "Epoch: 058, train_accuracy: 0.8888, best_validation_accuracy: 0.8906\n",
      "saved as ./results/trained_pytorch_models/Masked_Phe/Model_GIN_classifier_to_explain_v2_05-11-2022_13h_53min_best_ValAcc_0.8906073179932101_epoch_58.pt\n"
     ]
    },
    {
     "name": "stderr",
     "output_type": "stream",
     "text": [
      " 60%|██████    | 60/100 [03:29<02:19,  3.48s/it]"
     ]
    },
    {
     "name": "stdout",
     "output_type": "stream",
     "text": [
      "Epoch: 059, train_accuracy: 0.8905, best_validation_accuracy: 0.8925\n",
      "saved as ./results/trained_pytorch_models/Masked_Phe/Model_GIN_classifier_to_explain_v2_05-11-2022_13h_53min_best_ValAcc_0.8924933987174651_epoch_59.pt\n"
     ]
    },
    {
     "name": "stderr",
     "output_type": "stream",
     "text": [
      " 63%|██████▎   | 63/100 [03:40<02:08,  3.48s/it]"
     ]
    },
    {
     "name": "stdout",
     "output_type": "stream",
     "text": [
      "Epoch: 062, train_accuracy: 0.8949, best_validation_accuracy: 0.8951\n",
      "saved as ./results/trained_pytorch_models/Masked_Phe/Model_GIN_classifier_to_explain_v2_05-11-2022_13h_54min_best_ValAcc_0.8951339117314221_epoch_62.pt\n"
     ]
    },
    {
     "name": "stderr",
     "output_type": "stream",
     "text": [
      " 65%|██████▌   | 65/100 [03:47<02:02,  3.49s/it]"
     ]
    },
    {
     "name": "stdout",
     "output_type": "stream",
     "text": [
      "Epoch: 064, train_accuracy: 0.8968, best_validation_accuracy: 0.8997\n",
      "saved as ./results/trained_pytorch_models/Masked_Phe/Model_GIN_classifier_to_explain_v2_05-11-2022_13h_54min_best_ValAcc_0.899660505469634_epoch_64.pt\n"
     ]
    },
    {
     "name": "stderr",
     "output_type": "stream",
     "text": [
      " 66%|██████▌   | 66/100 [03:50<01:58,  3.50s/it]"
     ]
    },
    {
     "name": "stdout",
     "output_type": "stream",
     "text": [
      "Epoch: 065, train_accuracy: 0.8951, best_validation_accuracy: 0.9000\n",
      "saved as ./results/trained_pytorch_models/Masked_Phe/Model_GIN_classifier_to_explain_v2_05-11-2022_13h_54min_best_ValAcc_0.9000377216144851_epoch_65.pt\n"
     ]
    },
    {
     "name": "stderr",
     "output_type": "stream",
     "text": [
      " 67%|██████▋   | 67/100 [03:54<01:55,  3.50s/it]"
     ]
    },
    {
     "name": "stdout",
     "output_type": "stream",
     "text": [
      "Epoch: 066, train_accuracy: 0.8964, best_validation_accuracy: 0.9012\n",
      "saved as ./results/trained_pytorch_models/Masked_Phe/Model_GIN_classifier_to_explain_v2_05-11-2022_13h_54min_best_ValAcc_0.9011693700490381_epoch_66.pt\n"
     ]
    },
    {
     "name": "stderr",
     "output_type": "stream",
     "text": [
      " 71%|███████   | 71/100 [04:08<01:40,  3.48s/it]"
     ]
    },
    {
     "name": "stdout",
     "output_type": "stream",
     "text": [
      "Epoch: 070, train_accuracy: 0.8992, best_validation_accuracy: 0.9027\n",
      "saved as ./results/trained_pytorch_models/Masked_Phe/Model_GIN_classifier_to_explain_v2_05-11-2022_13h_54min_best_ValAcc_0.9026782346284421_epoch_70.pt\n"
     ]
    },
    {
     "name": "stderr",
     "output_type": "stream",
     "text": [
      " 74%|███████▍  | 74/100 [04:18<01:30,  3.47s/it]"
     ]
    },
    {
     "name": "stdout",
     "output_type": "stream",
     "text": [
      "Epoch: 073, train_accuracy: 0.9069, best_validation_accuracy: 0.9049\n",
      "saved as ./results/trained_pytorch_models/Masked_Phe/Model_GIN_classifier_to_explain_v2_05-11-2022_13h_54min_best_ValAcc_0.9049415314975481_epoch_73.pt\n"
     ]
    },
    {
     "name": "stderr",
     "output_type": "stream",
     "text": [
      " 76%|███████▌  | 76/100 [04:25<01:22,  3.46s/it]"
     ]
    },
    {
     "name": "stdout",
     "output_type": "stream",
     "text": [
      "Epoch: 075, train_accuracy: 0.9045, best_validation_accuracy: 0.9057\n",
      "saved as ./results/trained_pytorch_models/Masked_Phe/Model_GIN_classifier_to_explain_v2_05-11-2022_13h_54min_best_ValAcc_0.9056959637872501_epoch_75.pt\n"
     ]
    },
    {
     "name": "stderr",
     "output_type": "stream",
     "text": [
      " 78%|███████▊  | 78/100 [04:32<01:16,  3.46s/it]"
     ]
    },
    {
     "name": "stdout",
     "output_type": "stream",
     "text": [
      "Epoch: 077, train_accuracy: 0.9126, best_validation_accuracy: 0.9083\n",
      "saved as ./results/trained_pytorch_models/Masked_Phe/Model_GIN_classifier_to_explain_v2_05-11-2022_13h_54min_best_ValAcc_0.9083364768012071_epoch_77.pt\n"
     ]
    },
    {
     "name": "stderr",
     "output_type": "stream",
     "text": [
      " 81%|████████  | 81/100 [04:42<01:06,  3.48s/it]"
     ]
    },
    {
     "name": "stdout",
     "output_type": "stream",
     "text": [
      "Epoch: 080, train_accuracy: 0.9118, best_validation_accuracy: 0.9091\n",
      "saved as ./results/trained_pytorch_models/Masked_Phe/Model_GIN_classifier_to_explain_v2_05-11-2022_13h_55min_best_ValAcc_0.9090909090909091_epoch_80.pt\n"
     ]
    },
    {
     "name": "stderr",
     "output_type": "stream",
     "text": [
      " 88%|████████▊ | 88/100 [05:06<00:41,  3.45s/it]"
     ]
    },
    {
     "name": "stdout",
     "output_type": "stream",
     "text": [
      "Epoch: 087, train_accuracy: 0.9157, best_validation_accuracy: 0.9117\n",
      "saved as ./results/trained_pytorch_models/Masked_Phe/Model_GIN_classifier_to_explain_v2_05-11-2022_13h_55min_best_ValAcc_0.9117314221048661_epoch_87.pt\n"
     ]
    },
    {
     "name": "stderr",
     "output_type": "stream",
     "text": [
      " 92%|█████████▏| 92/100 [05:20<00:27,  3.48s/it]"
     ]
    },
    {
     "name": "stdout",
     "output_type": "stream",
     "text": [
      "Epoch: 091, train_accuracy: 0.9232, best_validation_accuracy: 0.9147\n",
      "saved as ./results/trained_pytorch_models/Masked_Phe/Model_GIN_classifier_to_explain_v2_05-11-2022_13h_55min_best_ValAcc_0.9147491512636741_epoch_91.pt\n"
     ]
    },
    {
     "name": "stderr",
     "output_type": "stream",
     "text": [
      "100%|██████████| 100/100 [05:48<00:00,  3.49s/it]\n"
     ]
    }
   ],
   "source": [
    "saving_path     = \"./results/trained_pytorch_models\"\n",
    "model_subfolder = \"/Masked_Phe\"\n",
    "loader_path     = \"./results/dataloaders/MASKED_loader_Concen_plus_Fluxes.pt\"\n",
    "loader = torch.load(loader_path)\n",
    "model           = GIN_classifier_to_explain_v2(\n",
    "                                            n_nodes = a_graph.num_nodes, \n",
    "                                            num_features = a_graph.num_node_features, \n",
    "                                            n_classes = a_graph.num_classes,\n",
    "                                            hidden_dim=8,\n",
    "                                            num_layers=2).to(device, non_blocking=True).to(device)\n",
    "\n",
    "optimizer       = torch.optim.Adam(model.parameters())\n",
    "loss_function   = torch.nn.NLLLoss()\n",
    "best_validation_accuracy = 1e-10\n",
    "EPOCHS = 100\n",
    "verbose = True\n",
    "gc.collect()\n",
    "torch.cuda.empty_cache() \n",
    "for epoch in tqdm.tqdm(range(EPOCHS)):\n",
    "    \n",
    "    train_accuracy = train_one_epoch(model,\n",
    "                        optimizer=optimizer, \n",
    "                        train_loader=loader.get_train_loader(),\n",
    "                        loss_fun=loss_function,\n",
    "                        device = device)\n",
    "\n",
    "    validation_accuracy = validate(model, loader.get_validation_loader(), device)\n",
    "    if validation_accuracy > best_validation_accuracy:\n",
    "        best_validation_accuracy = validation_accuracy\n",
    "        del validation_accuracy\n",
    "        best_val_state_dict   = copy.deepcopy(model.state_dict())\n",
    "        best_val_model        = copy.deepcopy(model)\n",
    "        if verbose:\n",
    "            timestamp     = datetime.now().strftime('%d-%m-%Y_%Hh_%Mmin')              \n",
    "            print(f'Epoch: {epoch:03d}, train_accuracy: {train_accuracy:.4f}, best_validation_accuracy: {best_validation_accuracy:.4f}')\n",
    "            model_path = saving_path+model_subfolder+'/Model_{}_{}_best_ValAcc_{}_epoch_{}.pt'.format(model.__class__.__name__,timestamp, best_validation_accuracy, epoch)\n",
    "            torch.save(best_val_model, model_path)\n",
    "            print(f\"saved as {model_path}\")"
   ]
  },
  {
   "cell_type": "markdown",
   "metadata": {},
   "source": [
    "# -------------end-----------------"
   ]
  }
 ],
 "metadata": {
  "kernelspec": {
   "display_name": "Python 3.9.13 ('geo')",
   "language": "python",
   "name": "python3"
  },
  "language_info": {
   "codemirror_mode": {
    "name": "ipython",
    "version": 3
   },
   "file_extension": ".py",
   "mimetype": "text/x-python",
   "name": "python",
   "nbconvert_exporter": "python",
   "pygments_lexer": "ipython3",
   "version": "3.9.13"
  },
  "orig_nbformat": 4,
  "vscode": {
   "interpreter": {
    "hash": "9ccb92c3caf64d15d8cccade25008a463e602c087926676408820d80b4769698"
   }
  }
 },
 "nbformat": 4,
 "nbformat_minor": 2
}
