{
 "cells": [
  {
   "cell_type": "code",
   "execution_count": 1,
   "metadata": {},
   "outputs": [
    {
     "name": "stderr",
     "output_type": "stream",
     "text": [
      "/DeepenData/.miniconda/envs/geo/lib/python3.9/site-packages/tqdm/auto.py:22: TqdmWarning: IProgress not found. Please update jupyter and ipywidgets. See https://ipywidgets.readthedocs.io/en/stable/user_install.html\n",
      "  from .autonotebook import tqdm as notebook_tqdm\n"
     ]
    },
    {
     "name": "stdout",
     "output_type": "stream",
     "text": [
      "device = 'cuda:0'\n"
     ]
    }
   ],
   "source": [
    "from acevedo_clss_and_fcns import * \n",
    "device = 'cpu'\n",
    "if torch.cuda.is_available():\n",
    "    torch.cuda.init()\n",
    "    if torch.cuda.is_initialized():\n",
    "        device = 'cuda:0'\n",
    "print(f\"{device = }\")\n",
    "\n"
   ]
  },
  {
   "cell_type": "code",
   "execution_count": 9,
   "metadata": {},
   "outputs": [],
   "source": [
    "def train_one_epoch(modelo: GIN_classifier_to_explain,\n",
    "                    optimizer, \n",
    "                    train_loader: torch_geometric.loader.dataloader.DataLoader,\n",
    "                    loss_fun: torch.nn.modules.loss,\n",
    "                    device:str='cpu' ):\n",
    "\n",
    "    correct = 0\n",
    "    for i, data in enumerate(train_loader):\n",
    "        assert not data.is_cuda   \n",
    "        if (device == 'cuda:0') | (device == 'cuda'):                            \n",
    "            data.to(device, non_blocking=True) \n",
    "            assert data.is_cuda       \n",
    "                \n",
    "        optimizer.zero_grad(set_to_none=True) # Zero your gradients for every batch        \n",
    "        if (device == 'cuda:0') | (device == 'cuda'):\n",
    "            #with torch.cuda.amp.autocast():      \n",
    "            predictions = modelo(data.x, data.edge_index,  data.batch)# Make predictions for this batch\n",
    "            loss        = loss_fun(predictions, data.y)\n",
    "            loss.backward()  # Derive gradients.\n",
    "            optimizer.step()  # Update parameters based on gradients.        \n",
    "            pred     = predictions.argmax(dim=1)  # Use the class with highest probability.\n",
    "            correct += int((pred == data.y).sum())  # Check against ground-truth labels.\n",
    "\n",
    "    return correct / len(train_loader.dataset)\n",
    "\n",
    "def validate(modelo: GIN_classifier_to_explain, loader: DataLoader, device: str = 'cpu'):\n",
    "    modelo.eval()\n",
    "    correct = 0\n",
    "    for i, val_data in enumerate(loader):\n",
    "        \n",
    "        assert not val_data.is_cuda\n",
    "        if (device == 'cuda:0') | (device == 'cuda'):\n",
    "            val_data.to(device, non_blocking=True) \n",
    "            assert val_data.is_cuda                          \n",
    "\n",
    "        val_predictions = modelo(val_data.x, val_data.edge_index,  val_data.batch)# Make predictions for this batch\n",
    "        pred            = val_predictions.argmax(dim=1)\n",
    "\n",
    "        correct += int((pred == val_data.y).sum())\n",
    "        \n",
    "\n",
    "    return correct / len(loader.dataset)   \n",
    "\n",
    "#loader_path = \"./results/dataloaders/MASKED_loader_Concen_plus_Fluxes.pt\"\n",
    "saving_path     = \"./results/trained_pytorch_models\"\n",
    "model_subfolder = \"/Non_masked_Phe\"\n",
    "loader_path     = \"./results/dataloaders/loader_Concen_plus_Fluxes.pt\"\n",
    "loader = torch.load(loader_path)\n",
    "a_batch         = next(iter(loader.get_train_loader()))\n",
    "a_graph         = a_batch[0]\n",
    "model           = GIN_classifier_to_explain_v2(\n",
    "                                            n_nodes = a_graph.num_nodes, \n",
    "                                            num_features = a_graph.num_node_features, \n",
    "                                            n_classes = a_graph.num_classes,\n",
    "                                            hidden_dim=8,\n",
    "                                            num_layers=2).to(device, non_blocking=True).to(device)\n",
    "\n",
    "\n",
    "optimizer       = torch.optim.Adam(model.parameters())\n",
    "loss_function   = torch.nn.NLLLoss()\n",
    "best_validation_accuracy = 1e-10\n",
    "EPOCHS = 10\n",
    "verbose = True\n"
   ]
  },
  {
   "cell_type": "code",
   "execution_count": 10,
   "metadata": {},
   "outputs": [
    {
     "name": "stderr",
     "output_type": "stream",
     "text": [
      " 10%|█         | 1/10 [00:03<00:34,  3.82s/it]"
     ]
    },
    {
     "name": "stdout",
     "output_type": "stream",
     "text": [
      "Epoch: 000, train_accuracy: 0.7494, best_validation_accuracy: 0.9619\n",
      "saved as ./results/trained_pytorch_models/Non_masked_Phe/Model_GIN_classifier_to_explain_v2_23-10-2022_15h_00min_best_ValAcc_0.961901169370049_epoch_0.pt\n"
     ]
    },
    {
     "name": "stderr",
     "output_type": "stream",
     "text": [
      " 20%|██        | 2/10 [00:07<00:30,  3.77s/it]"
     ]
    },
    {
     "name": "stdout",
     "output_type": "stream",
     "text": [
      "Epoch: 001, train_accuracy: 0.9774, best_validation_accuracy: 0.9800\n",
      "saved as ./results/trained_pytorch_models/Non_masked_Phe/Model_GIN_classifier_to_explain_v2_23-10-2022_15h_00min_best_ValAcc_0.980007544322897_epoch_1.pt\n"
     ]
    },
    {
     "name": "stderr",
     "output_type": "stream",
     "text": [
      " 40%|████      | 4/10 [00:15<00:22,  3.76s/it]"
     ]
    },
    {
     "name": "stdout",
     "output_type": "stream",
     "text": [
      "Epoch: 003, train_accuracy: 0.9841, best_validation_accuracy: 0.9876\n",
      "saved as ./results/trained_pytorch_models/Non_masked_Phe/Model_GIN_classifier_to_explain_v2_23-10-2022_15h_00min_best_ValAcc_0.9875518672199171_epoch_3.pt\n"
     ]
    },
    {
     "name": "stderr",
     "output_type": "stream",
     "text": [
      " 60%|██████    | 6/10 [00:22<00:15,  3.76s/it]"
     ]
    },
    {
     "name": "stdout",
     "output_type": "stream",
     "text": [
      "Epoch: 005, train_accuracy: 0.9872, best_validation_accuracy: 0.9887\n",
      "saved as ./results/trained_pytorch_models/Non_masked_Phe/Model_GIN_classifier_to_explain_v2_23-10-2022_15h_00min_best_ValAcc_0.98868351565447_epoch_5.pt\n"
     ]
    },
    {
     "name": "stderr",
     "output_type": "stream",
     "text": [
      " 70%|███████   | 7/10 [00:26<00:11,  3.75s/it]"
     ]
    },
    {
     "name": "stdout",
     "output_type": "stream",
     "text": [
      "Epoch: 006, train_accuracy: 0.9862, best_validation_accuracy: 0.9891\n",
      "saved as ./results/trained_pytorch_models/Non_masked_Phe/Model_GIN_classifier_to_explain_v2_23-10-2022_15h_00min_best_ValAcc_0.989060731799321_epoch_6.pt\n"
     ]
    },
    {
     "name": "stderr",
     "output_type": "stream",
     "text": [
      "100%|██████████| 10/10 [00:37<00:00,  3.75s/it]\n"
     ]
    }
   ],
   "source": [
    "gc.collect()\n",
    "torch.cuda.empty_cache() \n",
    "for epoch in tqdm.tqdm(range(EPOCHS)):\n",
    "    \n",
    "    train_accuracy = train_one_epoch(model,\n",
    "                        optimizer=optimizer, \n",
    "                        train_loader=loader.get_train_loader(),\n",
    "                        loss_fun=loss_function,\n",
    "                        device = device)\n",
    "\n",
    "    validation_accuracy = validate(model, loader.get_validation_loader(), device)\n",
    "    if validation_accuracy > best_validation_accuracy:\n",
    "        best_validation_accuracy = validation_accuracy\n",
    "        del validation_accuracy\n",
    "        best_val_state_dict   = copy.deepcopy(model.state_dict())\n",
    "        best_val_model        = copy.deepcopy(model)\n",
    "        if verbose:\n",
    "            timestamp     = datetime.now().strftime('%d-%m-%Y_%Hh_%Mmin')              \n",
    "            print(f'Epoch: {epoch:03d}, train_accuracy: {train_accuracy:.4f}, best_validation_accuracy: {best_validation_accuracy:.4f}')\n",
    "            model_path = saving_path+model_subfolder+'/Model_{}_{}_best_ValAcc_{}_epoch_{}.pt'.format(model.__class__.__name__,timestamp, best_validation_accuracy, epoch)\n",
    "            torch.save(best_val_model, model_path)\n",
    "            print(f\"saved as {model_path}\")\n",
    "\n"
   ]
  },
  {
   "cell_type": "code",
   "execution_count": 15,
   "metadata": {},
   "outputs": [
    {
     "name": "stderr",
     "output_type": "stream",
     "text": [
      "  2%|▏         | 1/50 [00:03<03:04,  3.77s/it]"
     ]
    },
    {
     "name": "stdout",
     "output_type": "stream",
     "text": [
      "Epoch: 000, train_accuracy: 0.5097, best_validation_accuracy: 0.4855\n",
      "saved as ./results/trained_pytorch_models/Masked_Phe/Model_GIN_classifier_to_explain_v2_23-10-2022_15h_06min_best_ValAcc_0.4854771784232365_epoch_0.pt\n"
     ]
    },
    {
     "name": "stderr",
     "output_type": "stream",
     "text": [
      "  4%|▍         | 2/50 [00:07<03:00,  3.76s/it]"
     ]
    },
    {
     "name": "stdout",
     "output_type": "stream",
     "text": [
      "Epoch: 001, train_accuracy: 0.6570, best_validation_accuracy: 0.7292\n",
      "saved as ./results/trained_pytorch_models/Masked_Phe/Model_GIN_classifier_to_explain_v2_23-10-2022_15h_06min_best_ValAcc_0.7291588079969823_epoch_1.pt\n"
     ]
    },
    {
     "name": "stderr",
     "output_type": "stream",
     "text": [
      "  6%|▌         | 3/50 [00:11<02:55,  3.74s/it]"
     ]
    },
    {
     "name": "stdout",
     "output_type": "stream",
     "text": [
      "Epoch: 002, train_accuracy: 0.7123, best_validation_accuracy: 0.7627\n",
      "saved as ./results/trained_pytorch_models/Masked_Phe/Model_GIN_classifier_to_explain_v2_23-10-2022_15h_06min_best_ValAcc_0.7627310448887212_epoch_2.pt\n"
     ]
    },
    {
     "name": "stderr",
     "output_type": "stream",
     "text": [
      "  8%|▊         | 4/50 [00:14<02:52,  3.74s/it]"
     ]
    },
    {
     "name": "stdout",
     "output_type": "stream",
     "text": [
      "Epoch: 003, train_accuracy: 0.7545, best_validation_accuracy: 0.7974\n",
      "saved as ./results/trained_pytorch_models/Masked_Phe/Model_GIN_classifier_to_explain_v2_23-10-2022_15h_06min_best_ValAcc_0.7974349302150132_epoch_3.pt\n"
     ]
    },
    {
     "name": "stderr",
     "output_type": "stream",
     "text": [
      " 12%|█▏        | 6/50 [00:22<02:44,  3.75s/it]"
     ]
    },
    {
     "name": "stdout",
     "output_type": "stream",
     "text": [
      "Epoch: 005, train_accuracy: 0.7897, best_validation_accuracy: 0.8231\n",
      "saved as ./results/trained_pytorch_models/Masked_Phe/Model_GIN_classifier_to_explain_v2_23-10-2022_15h_06min_best_ValAcc_0.8230856280648812_epoch_5.pt\n"
     ]
    },
    {
     "name": "stderr",
     "output_type": "stream",
     "text": [
      " 14%|█▍        | 7/50 [00:26<02:42,  3.78s/it]"
     ]
    },
    {
     "name": "stdout",
     "output_type": "stream",
     "text": [
      "Epoch: 006, train_accuracy: 0.8055, best_validation_accuracy: 0.8336\n",
      "saved as ./results/trained_pytorch_models/Masked_Phe/Model_GIN_classifier_to_explain_v2_23-10-2022_15h_06min_best_ValAcc_0.8336476801207091_epoch_6.pt\n"
     ]
    },
    {
     "name": "stderr",
     "output_type": "stream",
     "text": [
      " 16%|█▌        | 8/50 [00:30<02:38,  3.77s/it]"
     ]
    },
    {
     "name": "stdout",
     "output_type": "stream",
     "text": [
      "Epoch: 007, train_accuracy: 0.8086, best_validation_accuracy: 0.8393\n",
      "saved as ./results/trained_pytorch_models/Masked_Phe/Model_GIN_classifier_to_explain_v2_23-10-2022_15h_06min_best_ValAcc_0.8393059222934741_epoch_7.pt\n"
     ]
    },
    {
     "name": "stderr",
     "output_type": "stream",
     "text": [
      " 22%|██▏       | 11/50 [00:41<02:26,  3.76s/it]"
     ]
    },
    {
     "name": "stdout",
     "output_type": "stream",
     "text": [
      "Epoch: 010, train_accuracy: 0.8362, best_validation_accuracy: 0.8570\n",
      "saved as ./results/trained_pytorch_models/Masked_Phe/Model_GIN_classifier_to_explain_v2_23-10-2022_15h_06min_best_ValAcc_0.8570350811014712_epoch_10.pt\n"
     ]
    },
    {
     "name": "stderr",
     "output_type": "stream",
     "text": [
      " 36%|███▌      | 18/50 [01:07<02:00,  3.76s/it]"
     ]
    },
    {
     "name": "stdout",
     "output_type": "stream",
     "text": [
      "Epoch: 017, train_accuracy: 0.8409, best_validation_accuracy: 0.8650\n",
      "saved as ./results/trained_pytorch_models/Masked_Phe/Model_GIN_classifier_to_explain_v2_23-10-2022_15h_07min_best_ValAcc_0.8649566201433422_epoch_17.pt\n"
     ]
    },
    {
     "name": "stderr",
     "output_type": "stream",
     "text": [
      " 42%|████▏     | 21/50 [01:18<01:48,  3.75s/it]"
     ]
    },
    {
     "name": "stdout",
     "output_type": "stream",
     "text": [
      "Epoch: 020, train_accuracy: 0.8689, best_validation_accuracy: 0.8770\n",
      "saved as ./results/trained_pytorch_models/Masked_Phe/Model_GIN_classifier_to_explain_v2_23-10-2022_15h_07min_best_ValAcc_0.8770275367785741_epoch_20.pt\n"
     ]
    },
    {
     "name": "stderr",
     "output_type": "stream",
     "text": [
      " 46%|████▌     | 23/50 [01:26<01:41,  3.75s/it]"
     ]
    },
    {
     "name": "stdout",
     "output_type": "stream",
     "text": [
      "Epoch: 022, train_accuracy: 0.8588, best_validation_accuracy: 0.8857\n",
      "saved as ./results/trained_pytorch_models/Masked_Phe/Model_GIN_classifier_to_explain_v2_23-10-2022_15h_07min_best_ValAcc_0.8857035081101471_epoch_22.pt\n"
     ]
    },
    {
     "name": "stderr",
     "output_type": "stream",
     "text": [
      " 50%|█████     | 25/50 [01:33<01:33,  3.75s/it]"
     ]
    },
    {
     "name": "stdout",
     "output_type": "stream",
     "text": [
      "Epoch: 024, train_accuracy: 0.8736, best_validation_accuracy: 0.8910\n",
      "saved as ./results/trained_pytorch_models/Masked_Phe/Model_GIN_classifier_to_explain_v2_23-10-2022_15h_07min_best_ValAcc_0.8909845341380611_epoch_24.pt\n"
     ]
    },
    {
     "name": "stderr",
     "output_type": "stream",
     "text": [
      " 62%|██████▏   | 31/50 [01:56<01:11,  3.75s/it]"
     ]
    },
    {
     "name": "stdout",
     "output_type": "stream",
     "text": [
      "Epoch: 030, train_accuracy: 0.8903, best_validation_accuracy: 0.8948\n",
      "saved as ./results/trained_pytorch_models/Masked_Phe/Model_GIN_classifier_to_explain_v2_23-10-2022_15h_08min_best_ValAcc_0.8947566955865711_epoch_30.pt\n"
     ]
    },
    {
     "name": "stderr",
     "output_type": "stream",
     "text": [
      " 66%|██████▌   | 33/50 [02:03<01:03,  3.75s/it]"
     ]
    },
    {
     "name": "stdout",
     "output_type": "stream",
     "text": [
      "Epoch: 032, train_accuracy: 0.8862, best_validation_accuracy: 0.8982\n",
      "saved as ./results/trained_pytorch_models/Masked_Phe/Model_GIN_classifier_to_explain_v2_23-10-2022_15h_08min_best_ValAcc_0.8981516408902301_epoch_32.pt\n"
     ]
    },
    {
     "name": "stderr",
     "output_type": "stream",
     "text": [
      " 72%|███████▏  | 36/50 [02:15<00:52,  3.75s/it]"
     ]
    },
    {
     "name": "stdout",
     "output_type": "stream",
     "text": [
      "Epoch: 035, train_accuracy: 0.8970, best_validation_accuracy: 0.9008\n",
      "saved as ./results/trained_pytorch_models/Masked_Phe/Model_GIN_classifier_to_explain_v2_23-10-2022_15h_08min_best_ValAcc_0.9007921539041871_epoch_35.pt\n"
     ]
    },
    {
     "name": "stderr",
     "output_type": "stream",
     "text": [
      " 80%|████████  | 40/50 [02:30<00:37,  3.76s/it]"
     ]
    },
    {
     "name": "stdout",
     "output_type": "stream",
     "text": [
      "Epoch: 039, train_accuracy: 0.9075, best_validation_accuracy: 0.9095\n",
      "saved as ./results/trained_pytorch_models/Masked_Phe/Model_GIN_classifier_to_explain_v2_23-10-2022_15h_08min_best_ValAcc_0.90946812523576_epoch_39.pt\n"
     ]
    },
    {
     "name": "stderr",
     "output_type": "stream",
     "text": [
      " 94%|█████████▍| 47/50 [02:56<00:11,  3.76s/it]"
     ]
    },
    {
     "name": "stdout",
     "output_type": "stream",
     "text": [
      "Epoch: 046, train_accuracy: 0.9132, best_validation_accuracy: 0.9121\n",
      "saved as ./results/trained_pytorch_models/Masked_Phe/Model_GIN_classifier_to_explain_v2_23-10-2022_15h_09min_best_ValAcc_0.9121086382497171_epoch_46.pt\n"
     ]
    },
    {
     "name": "stderr",
     "output_type": "stream",
     "text": [
      "100%|██████████| 50/50 [03:07<00:00,  3.76s/it]"
     ]
    },
    {
     "name": "stdout",
     "output_type": "stream",
     "text": [
      "Epoch: 049, train_accuracy: 0.9179, best_validation_accuracy: 0.9132\n",
      "saved as ./results/trained_pytorch_models/Masked_Phe/Model_GIN_classifier_to_explain_v2_23-10-2022_15h_09min_best_ValAcc_0.91324028668427_epoch_49.pt\n"
     ]
    },
    {
     "name": "stderr",
     "output_type": "stream",
     "text": [
      "\n"
     ]
    }
   ],
   "source": [
    "saving_path     = \"./results/trained_pytorch_models\"\n",
    "model_subfolder = \"/Masked_Phe\"\n",
    "loader_path     = \"./results/dataloaders/MASKED_loader_Concen_plus_Fluxes.pt\"\n",
    "loader = torch.load(loader_path)\n",
    "model           = GIN_classifier_to_explain_v2(\n",
    "                                            n_nodes = a_graph.num_nodes, \n",
    "                                            num_features = a_graph.num_node_features, \n",
    "                                            n_classes = a_graph.num_classes,\n",
    "                                            hidden_dim=8,\n",
    "                                            num_layers=2).to(device, non_blocking=True).to(device)\n",
    "\n",
    "optimizer       = torch.optim.Adam(model.parameters())\n",
    "loss_function   = torch.nn.NLLLoss()\n",
    "best_validation_accuracy = 1e-10\n",
    "EPOCHS = 50\n",
    "verbose = True\n",
    "gc.collect()\n",
    "torch.cuda.empty_cache() \n",
    "for epoch in tqdm.tqdm(range(EPOCHS)):\n",
    "    \n",
    "    train_accuracy = train_one_epoch(model,\n",
    "                        optimizer=optimizer, \n",
    "                        train_loader=loader.get_train_loader(),\n",
    "                        loss_fun=loss_function,\n",
    "                        device = device)\n",
    "\n",
    "    validation_accuracy = validate(model, loader.get_validation_loader(), device)\n",
    "    if validation_accuracy > best_validation_accuracy:\n",
    "        best_validation_accuracy = validation_accuracy\n",
    "        del validation_accuracy\n",
    "        best_val_state_dict   = copy.deepcopy(model.state_dict())\n",
    "        best_val_model        = copy.deepcopy(model)\n",
    "        if verbose:\n",
    "            timestamp     = datetime.now().strftime('%d-%m-%Y_%Hh_%Mmin')              \n",
    "            print(f'Epoch: {epoch:03d}, train_accuracy: {train_accuracy:.4f}, best_validation_accuracy: {best_validation_accuracy:.4f}')\n",
    "            model_path = saving_path+model_subfolder+'/Model_{}_{}_best_ValAcc_{}_epoch_{}.pt'.format(model.__class__.__name__,timestamp, best_validation_accuracy, epoch)\n",
    "            torch.save(best_val_model, model_path)\n",
    "            print(f\"saved as {model_path}\")"
   ]
  },
  {
   "cell_type": "markdown",
   "metadata": {},
   "source": [
    "# -------------end-----------------"
   ]
  }
 ],
 "metadata": {
  "kernelspec": {
   "display_name": "Python 3.9.13 ('geo')",
   "language": "python",
   "name": "python3"
  },
  "language_info": {
   "codemirror_mode": {
    "name": "ipython",
    "version": 3
   },
   "file_extension": ".py",
   "mimetype": "text/x-python",
   "name": "python",
   "nbconvert_exporter": "python",
   "pygments_lexer": "ipython3",
   "version": "3.9.13"
  },
  "orig_nbformat": 4,
  "vscode": {
   "interpreter": {
    "hash": "9ccb92c3caf64d15d8cccade25008a463e602c087926676408820d80b4769698"
   }
  }
 },
 "nbformat": 4,
 "nbformat_minor": 2
}
