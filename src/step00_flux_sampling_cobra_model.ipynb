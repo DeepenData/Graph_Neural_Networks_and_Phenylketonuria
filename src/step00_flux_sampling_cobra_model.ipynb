{
 "cells": [
  {
   "cell_type": "code",
   "execution_count": 1,
   "metadata": {},
   "outputs": [
    {
     "name": "stdout",
     "output_type": "stream",
     "text": [
      "Scaling...\n",
      " A: min|aij| =  1.000e+00  max|aij| =  1.000e+00  ratio =  1.000e+00\n",
      "Problem data seem to be well scaled\n",
      "init sampler\n"
     ]
    }
   ],
   "source": [
    "import cobra\n",
    "from cobra.io.mat import *\n",
    "import warnings\n",
    "warnings.simplefilter('ignore')\n",
    "#from cobra.sampling import sample\n",
    "from cobra.sampling import OptGPSampler, ACHRSampler\n",
    "import os\n",
    "cpus = os.cpu_count()\n",
    "\n",
    "#model = load_matlab_model(\"./COBRA_models/GEM_Recon2_thermocurated_redHUMAN.mat\")\n",
    "from acevedo_clss_and_fcns import * \n",
    "model                                 = load_json_model(\"./COBRA_models/GEM_Recon2_thermocurated_redHUMAN.json\")\n",
    "co    = model.problem.Constraint(model.reactions.biomass.flux_expression, lb=.01 * model.optimize().objective_value)\n",
    "model.add_cons_vars([co])\n",
    "print(\"init sampler\")\n",
    "optgp = OptGPSampler(model, processes=cpus, thinning=100)"
   ]
  },
  {
   "cell_type": "code",
   "execution_count": 2,
   "metadata": {},
   "outputs": [],
   "source": [
    "samples = optgp.sample(5)\n",
    "samples.to_parquet(\"./results/data/flux_samples/flux_samples_v2_test.parquet.gzip\", compression='gzip')  "
   ]
  },
  {
   "cell_type": "code",
   "execution_count": null,
   "metadata": {},
   "outputs": [],
   "source": [
    "import matplotlib.pyplot as plt\n",
    "\n",
    "rxn_list = ['biomass', 'r0399', 'PHETHPTOX2', 'r0403', 'DHPR', 'DHPR2', 'r0398']\n",
    "\n",
    "\n",
    "formulas =  [model.reactions.get_by_id(r).reaction if r != 'biomass' else 'biomass' for r in rxn_list]\n",
    "\n",
    "\n",
    "#fig, axes = plt.subplots(nrows=4, ncols=4)\n",
    "s[rxn_list].plot.hist(bins=100, alpha=0.9, figsize=(5,10), subplots=True, sharey=False, \n",
    "                      sharex=False, logy = True, title = formulas, ylabel = ['', '', ''], grid=False)\n",
    "plt.xlabel('Flux') \n",
    "#plt.ylabel(None)\n",
    "#plt.ylabel(\"common Y\")\n",
    "#fig.supylabel('common y label')\n",
    "plt.tight_layout()\n",
    "plt.show()"
   ]
  },
  {
   "cell_type": "markdown",
   "metadata": {},
   "source": [
    "# ---------------------END------------------------------------"
   ]
  },
  {
   "cell_type": "code",
   "execution_count": 2,
   "metadata": {},
   "outputs": [
    {
     "ename": "KeyboardInterrupt",
     "evalue": "",
     "output_type": "error",
     "traceback": [
      "\u001b[0;31m---------------------------------------------------------------------------\u001b[0m",
      "\u001b[0;31mKeyboardInterrupt\u001b[0m                         Traceback (most recent call last)",
      "Cell \u001b[0;32mIn [2], line 4\u001b[0m\n\u001b[1;32m      1\u001b[0m \u001b[39mfrom\u001b[39;00m \u001b[39mcobra\u001b[39;00m\u001b[39m.\u001b[39;00m\u001b[39msampling\u001b[39;00m \u001b[39mimport\u001b[39;00m OptGPSampler, ACHRSampler\n\u001b[0;32m----> 4\u001b[0m optgp \u001b[39m=\u001b[39m OptGPSampler(model, processes\u001b[39m=\u001b[39;49mcpus, thinning\u001b[39m=\u001b[39;49m\u001b[39m1\u001b[39;49m)\n\u001b[1;32m      7\u001b[0m \u001b[39mdef\u001b[39;00m \u001b[39msample_fluxes\u001b[39m(model,file_path,n_samples, Sampler, if_pku: \u001b[39mbool\u001b[39m\u001b[39m=\u001b[39m\u001b[39mFalse\u001b[39;00m):\n\u001b[1;32m      8\u001b[0m         \u001b[39mif\u001b[39;00m if_pku:\n",
      "File \u001b[0;32m/DeepenData/.miniconda/envs/geo/lib/python3.9/site-packages/cobra/sampling/optgp.py:117\u001b[0m, in \u001b[0;36mOptGPSampler.__init__\u001b[0;34m(self, model, thinning, processes, nproj, seed, **kwargs)\u001b[0m\n\u001b[1;32m    115\u001b[0m \u001b[39m\"\"\"Initialize a new OptGPSampler.\"\"\"\u001b[39;00m\n\u001b[1;32m    116\u001b[0m \u001b[39msuper\u001b[39m()\u001b[39m.\u001b[39m\u001b[39m__init__\u001b[39m(model, thinning, nproj\u001b[39m=\u001b[39mnproj, seed\u001b[39m=\u001b[39mseed, \u001b[39m*\u001b[39mkwargs)\n\u001b[0;32m--> 117\u001b[0m \u001b[39mself\u001b[39;49m\u001b[39m.\u001b[39;49mgenerate_fva_warmup()\n\u001b[1;32m    119\u001b[0m \u001b[39mif\u001b[39;00m processes \u001b[39mis\u001b[39;00m \u001b[39mNone\u001b[39;00m:\n\u001b[1;32m    120\u001b[0m     \u001b[39mself\u001b[39m\u001b[39m.\u001b[39mprocesses \u001b[39m=\u001b[39m configuration\u001b[39m.\u001b[39mprocesses\n",
      "File \u001b[0;32m/DeepenData/.miniconda/envs/geo/lib/python3.9/site-packages/cobra/sampling/hr_sampler.py:318\u001b[0m, in \u001b[0;36mHRSampler.generate_fva_warmup\u001b[0;34m(self)\u001b[0m\n\u001b[1;32m    312\u001b[0m     \u001b[39mcontinue\u001b[39;00m\n\u001b[1;32m    314\u001b[0m \u001b[39mself\u001b[39m\u001b[39m.\u001b[39mmodel\u001b[39m.\u001b[39mobjective\u001b[39m.\u001b[39mset_linear_coefficients(\n\u001b[1;32m    315\u001b[0m     {variables[\u001b[39m0\u001b[39m]: \u001b[39m1\u001b[39m, variables[\u001b[39m1\u001b[39m]: \u001b[39m-\u001b[39m\u001b[39m1\u001b[39m}\n\u001b[1;32m    316\u001b[0m )\n\u001b[0;32m--> 318\u001b[0m \u001b[39mself\u001b[39;49m\u001b[39m.\u001b[39;49mmodel\u001b[39m.\u001b[39;49mslim_optimize()\n\u001b[1;32m    320\u001b[0m \u001b[39mif\u001b[39;00m \u001b[39mnot\u001b[39;00m \u001b[39mself\u001b[39m\u001b[39m.\u001b[39mmodel\u001b[39m.\u001b[39msolver\u001b[39m.\u001b[39mstatus \u001b[39m==\u001b[39m OPTIMAL:\n\u001b[1;32m    321\u001b[0m     logger\u001b[39m.\u001b[39minfo(\u001b[39mf\u001b[39m\u001b[39m\"\u001b[39m\u001b[39mCannot maximize reaction \u001b[39m\u001b[39m{\u001b[39;00mr\u001b[39m.\u001b[39mid\u001b[39m}\u001b[39;00m\u001b[39m, skipping it.\u001b[39m\u001b[39m\"\u001b[39m)\n",
      "File \u001b[0;32m/DeepenData/.miniconda/envs/geo/lib/python3.9/site-packages/cobra/core/model.py:1057\u001b[0m, in \u001b[0;36mModel.slim_optimize\u001b[0;34m(self, error_value, message)\u001b[0m\n\u001b[1;32m   1028\u001b[0m \u001b[39mdef\u001b[39;00m \u001b[39mslim_optimize\u001b[39m(\u001b[39mself\u001b[39m, error_value\u001b[39m=\u001b[39m\u001b[39mfloat\u001b[39m(\u001b[39m\"\u001b[39m\u001b[39mnan\u001b[39m\u001b[39m\"\u001b[39m), message\u001b[39m=\u001b[39m\u001b[39mNone\u001b[39;00m):\n\u001b[1;32m   1029\u001b[0m     \u001b[39m\"\"\"Optimize model without creating a solution object.\u001b[39;00m\n\u001b[1;32m   1030\u001b[0m \n\u001b[1;32m   1031\u001b[0m \u001b[39m    Creating a full solution object implies fetching shadow prices and\u001b[39;00m\n\u001b[0;32m   (...)\u001b[0m\n\u001b[1;32m   1055\u001b[0m \u001b[39m        The objective value.\u001b[39;00m\n\u001b[1;32m   1056\u001b[0m \u001b[39m    \"\"\"\u001b[39;00m\n\u001b[0;32m-> 1057\u001b[0m     \u001b[39mself\u001b[39;49m\u001b[39m.\u001b[39;49msolver\u001b[39m.\u001b[39;49moptimize()\n\u001b[1;32m   1058\u001b[0m     \u001b[39mif\u001b[39;00m \u001b[39mself\u001b[39m\u001b[39m.\u001b[39msolver\u001b[39m.\u001b[39mstatus \u001b[39m==\u001b[39m optlang\u001b[39m.\u001b[39minterface\u001b[39m.\u001b[39mOPTIMAL:\n\u001b[1;32m   1059\u001b[0m         \u001b[39mreturn\u001b[39;00m \u001b[39mself\u001b[39m\u001b[39m.\u001b[39msolver\u001b[39m.\u001b[39mobjective\u001b[39m.\u001b[39mvalue\n",
      "File \u001b[0;32m/DeepenData/.miniconda/envs/geo/lib/python3.9/site-packages/optlang/interface.py:1516\u001b[0m, in \u001b[0;36mModel.optimize\u001b[0;34m(self)\u001b[0m\n\u001b[1;32m   1501\u001b[0m \u001b[39m\"\"\"\u001b[39;00m\n\u001b[1;32m   1502\u001b[0m \u001b[39mSolve the optimization problem using the relevant solver back-end.\u001b[39;00m\n\u001b[1;32m   1503\u001b[0m \u001b[39mThe status returned by this method tells whether an optimal solution was found,\u001b[39;00m\n\u001b[0;32m   (...)\u001b[0m\n\u001b[1;32m   1513\u001b[0m \u001b[39m    Solution status.\u001b[39;00m\n\u001b[1;32m   1514\u001b[0m \u001b[39m\"\"\"\u001b[39;00m\n\u001b[1;32m   1515\u001b[0m \u001b[39mself\u001b[39m\u001b[39m.\u001b[39mupdate()\n\u001b[0;32m-> 1516\u001b[0m status \u001b[39m=\u001b[39m \u001b[39mself\u001b[39;49m\u001b[39m.\u001b[39;49m_optimize()\n\u001b[1;32m   1517\u001b[0m \u001b[39mif\u001b[39;00m status \u001b[39m!=\u001b[39m OPTIMAL \u001b[39mand\u001b[39;00m \u001b[39mself\u001b[39m\u001b[39m.\u001b[39mconfiguration\u001b[39m.\u001b[39mpresolve \u001b[39m==\u001b[39m \u001b[39m\"\u001b[39m\u001b[39mauto\u001b[39m\u001b[39m\"\u001b[39m:\n\u001b[1;32m   1518\u001b[0m     \u001b[39mself\u001b[39m\u001b[39m.\u001b[39mconfiguration\u001b[39m.\u001b[39mpresolve \u001b[39m=\u001b[39m \u001b[39mTrue\u001b[39;00m\n",
      "File \u001b[0;32m/DeepenData/.miniconda/envs/geo/lib/python3.9/site-packages/optlang/glpk_interface.py:708\u001b[0m, in \u001b[0;36mModel._optimize\u001b[0;34m(self)\u001b[0m\n\u001b[1;32m    707\u001b[0m \u001b[39mdef\u001b[39;00m \u001b[39m_optimize\u001b[39m(\u001b[39mself\u001b[39m):\n\u001b[0;32m--> 708\u001b[0m     status \u001b[39m=\u001b[39m \u001b[39mself\u001b[39;49m\u001b[39m.\u001b[39;49m_run_glp_simplex()\n\u001b[1;32m    710\u001b[0m     \u001b[39m# Sometimes GLPK gets itself stuck with an invalid basis. This will help it get rid of it.\u001b[39;00m\n\u001b[1;32m    711\u001b[0m     \u001b[39mif\u001b[39;00m status \u001b[39m==\u001b[39m interface\u001b[39m.\u001b[39mUNDEFINED \u001b[39mand\u001b[39;00m \u001b[39mself\u001b[39m\u001b[39m.\u001b[39mconfiguration\u001b[39m.\u001b[39mpresolve \u001b[39mis\u001b[39;00m \u001b[39mnot\u001b[39;00m \u001b[39mTrue\u001b[39;00m:\n",
      "File \u001b[0;32m/DeepenData/.miniconda/envs/geo/lib/python3.9/site-packages/optlang/glpk_interface.py:682\u001b[0m, in \u001b[0;36mModel._run_glp_simplex\u001b[0;34m(self)\u001b[0m\n\u001b[1;32m    681\u001b[0m \u001b[39mdef\u001b[39;00m \u001b[39m_run_glp_simplex\u001b[39m(\u001b[39mself\u001b[39m):\n\u001b[0;32m--> 682\u001b[0m     return_value \u001b[39m=\u001b[39m glp_simplex(\u001b[39mself\u001b[39;49m\u001b[39m.\u001b[39;49mproblem, \u001b[39mself\u001b[39;49m\u001b[39m.\u001b[39;49mconfiguration\u001b[39m.\u001b[39;49m_smcp)\n\u001b[1;32m    683\u001b[0m     glpk_status \u001b[39m=\u001b[39m glp_get_status(\u001b[39mself\u001b[39m\u001b[39m.\u001b[39mproblem)\n\u001b[1;32m    684\u001b[0m     \u001b[39mif\u001b[39;00m return_value \u001b[39m==\u001b[39m \u001b[39m0\u001b[39m:\n",
      "File \u001b[0;32m/DeepenData/.miniconda/envs/geo/lib/python3.9/site-packages/swiglpk/swiglpk.py:485\u001b[0m, in \u001b[0;36mglp_simplex\u001b[0;34m(P, parm)\u001b[0m\n\u001b[1;32m    484\u001b[0m \u001b[39mdef\u001b[39;00m \u001b[39mglp_simplex\u001b[39m(P, parm):\n\u001b[0;32m--> 485\u001b[0m     \u001b[39mreturn\u001b[39;00m _swiglpk\u001b[39m.\u001b[39;49mglp_simplex(P, parm)\n",
      "\u001b[0;31mKeyboardInterrupt\u001b[0m: "
     ]
    }
   ],
   "source": [
    "\n",
    "\n",
    "\n",
    "\n",
    "\n",
    "\n",
    "def sample_fluxes(model,file_path,n_samples, Sampler, if_pku: bool=False):\n",
    "        if if_pku:\n",
    "            bounds_blocked   = (0, 0)\n",
    "            model.reactions.get_by_id('r0399').bounds = bounds_blocked\n",
    "        else:\n",
    "            bounds_unblocked = (0, 100)\n",
    "            model.reactions.get_by_id('r0399').bounds = bounds_unblocked\n",
    "\n",
    "        model.reactions.get_by_id('PHETHPTOX2').bounds = (0, 0)\n",
    "        model.reactions.get_by_id('r0403').bounds = (0, 100)\n",
    "        model.reactions.get_by_id('DHPR').bounds  = (0, 100)\n",
    "        model.reactions.get_by_id('DHPR2').bounds  = (0, 100)\n",
    "        model.reactions.get_by_id('r0398').bounds  = (0, 100)\n",
    "\n",
    "        samples = Sampler.sample(n_samples)\n",
    "        samples.to_parquet(file_path, compression='gzip')  \n",
    "    \n",
    "\n",
    "#sample_fluxes(model, \"./results/data/flux_samples/flux_samples_CONTROL.parquet.gzip\",\n",
    "#              False, 10,  Sampler = optgp)\n",
    "sample_fluxes(model, \"./results/data/flux_samples/flux_samples_v2.parquet.gzip\",\n",
    "              n_samples = 10,  Sampler = optgp)"
   ]
  },
  {
   "cell_type": "code",
   "execution_count": null,
   "metadata": {},
   "outputs": [],
   "source": [
    "#flux_samples_CONTROL    = pd.read_parquet( \"./results/data/flux_samples/flux_samples_CONTROL.parquet.gzip\")\n",
    "flux_samples_PKU        = pd.read_parquet( \"./results/data/flux_samples/flux_samples_PKU.parquet.gzip\")\n",
    "\n",
    "\n"
   ]
  },
  {
   "cell_type": "code",
   "execution_count": 3,
   "metadata": {},
   "outputs": [],
   "source": [
    "\n",
    "rxn_list = ['biomass', 'r0399', 'PHETHPTOX2', 'r0403', 'DHPR', 'DHPR2', 'r0398']\n",
    "\n",
    "\n",
    "formulas =  [model.reactions.get_by_id(r).reaction if r != 'biomass' else 'biomass' for r in rxn_list]\n",
    "import matplotlib.pyplot as plt\n",
    "\n",
    "\n",
    "#fig, axes = plt.subplots(nrows=4, ncols=4)\n",
    "s[rxn_list].plot.hist(bins=100, alpha=0.9, figsize=(5,10), subplots=True, sharey=False, \n",
    "                      sharex=False, logy = True, title = formulas, ylabel = ['', '', ''], grid=False)\n",
    "plt.xlabel('Flux') \n",
    "#plt.ylabel(None)\n",
    "#plt.ylabel(\"common Y\")\n",
    "#fig.supylabel('common y label')\n",
    "plt.tight_layout()\n",
    "plt.show()"
   ]
  },
  {
   "cell_type": "code",
   "execution_count": 89,
   "metadata": {},
   "outputs": [],
   "source": [
    "from cobra.io import save_json_model\n",
    "assert model.genes.__len__() > 0\n",
    "s.to_parquet(\"results/data/flux_samples.parquet.gzip\", compression='gzip')\n",
    "save_json_model(model, \"models/GEM_Recon2_thermocurated_redHUMAN.json\")"
   ]
  }
 ],
 "metadata": {
  "kernelspec": {
   "display_name": "Python 3.9.13 ('geo')",
   "language": "python",
   "name": "python3"
  },
  "language_info": {
   "codemirror_mode": {
    "name": "ipython",
    "version": 3
   },
   "file_extension": ".py",
   "mimetype": "text/x-python",
   "name": "python",
   "nbconvert_exporter": "python",
   "pygments_lexer": "ipython3",
   "version": "3.9.13"
  },
  "orig_nbformat": 4,
  "vscode": {
   "interpreter": {
    "hash": "9ccb92c3caf64d15d8cccade25008a463e602c087926676408820d80b4769698"
   }
  }
 },
 "nbformat": 4,
 "nbformat_minor": 2
}
