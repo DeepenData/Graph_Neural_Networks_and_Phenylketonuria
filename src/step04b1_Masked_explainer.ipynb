{
 "cells": [
  {
   "cell_type": "code",
   "execution_count": 1,
   "metadata": {},
   "outputs": [
    {
     "name": "stderr",
     "output_type": "stream",
     "text": [
      "/DeepenData/.miniconda/envs/geo/lib/python3.9/site-packages/tqdm/auto.py:22: TqdmWarning: IProgress not found. Please update jupyter and ipywidgets. See https://ipywidgets.readthedocs.io/en/stable/user_install.html\n",
      "  from .autonotebook import tqdm as notebook_tqdm\n"
     ]
    },
    {
     "name": "stdout",
     "output_type": "stream",
     "text": [
      "device = 'cuda:0'\n"
     ]
    },
    {
     "name": "stderr",
     "output_type": "stream",
     "text": [
      "100%|██████████| 4921/4921 [00:00<00:00, 741811.74it/s]\n"
     ]
    },
    {
     "data": {
      "text/plain": [
       "4921"
      ]
     },
     "execution_count": 1,
     "metadata": {},
     "output_type": "execute_result"
    }
   ],
   "source": [
    "from acevedo_clss_and_fcns import * \n",
    "device = 'cpu'\n",
    "if torch.cuda.is_available():\n",
    "    torch.cuda.init()\n",
    "    if torch.cuda.is_initialized():\n",
    "        device = 'cuda:0'\n",
    "#device = torch.device(device)\n",
    "print(f\"{device = }\")\n",
    "from torch_geometric.nn import GNNExplainer\n",
    "\n",
    "    \n",
    "\n",
    "model = torch.load(\n",
    "\"./results/trained_pytorch_models/Masked_Phe/Model_GIN_classifier_to_explain_v2_23-10-2022_15h_09min_best_ValAcc_0.9121086382497171_epoch_46.pt\")\n",
    "#loader_path = \"./results/dataloaders/MASKED_loader_Concen_plus_Fluxes.pt\"\n",
    "loader_path = \"./results/dataloaders/loader_Concen_plus_Fluxes.pt\"\n",
    "loader = torch.load(loader_path)\n",
    "loader_validation = loader.get_validation_loader()\n",
    "loader_train = loader.get_train_loader()\n",
    "############################\n",
    "##############################\n",
    "explainer  = GNNExplainer(model, epochs=1000, num_hops = None, lr=0.01).to(device, non_blocking=True)\n",
    "model.to(device, non_blocking=True)\n",
    "a_batch = next(iter(loader_validation)).to(device, non_blocking=True)\n",
    "\n",
    "train_labels = []\n",
    "for graph in tqdm.tqdm(loader_train.dataset):\n",
    "    train_labels.append(graph.y.cpu().item())\n",
    "train_labels.__len__()\n"
   ]
  },
  {
   "cell_type": "code",
   "execution_count": null,
   "metadata": {},
   "outputs": [],
   "source": [
    "model.eval()\n",
    "gc.collect()\n",
    "torch.cuda.empty_cache() \n",
    "edge_num           = loader_train.dataset[0].edge_index.shape[1]\n",
    "all_graphs_weights = []#torch.empty(edge_num,1).to(device)\n",
    "\n",
    "for graph in loader_train.dataset:\n",
    "    _, edge_weights =  explainer.explain_graph(graph.x.to(device, non_blocking=True), graph.edge_index.to(device, non_blocking=True))\n",
    "    #all_graphs_weights = torch.cat((all_graphs_weights, edge_weights.reshape(edge_num,1).to(device)), dim=1)\n",
    "    all_graphs_weights.append(edge_weights.reshape(edge_num,1))\n",
    "    "
   ]
  }
 ],
 "metadata": {
  "kernelspec": {
   "display_name": "Python 3.9.13 ('geo')",
   "language": "python",
   "name": "python3"
  },
  "language_info": {
   "codemirror_mode": {
    "name": "ipython",
    "version": 3
   },
   "file_extension": ".py",
   "mimetype": "text/x-python",
   "name": "python",
   "nbconvert_exporter": "python",
   "pygments_lexer": "ipython3",
   "version": "3.9.13"
  },
  "orig_nbformat": 4,
  "vscode": {
   "interpreter": {
    "hash": "9ccb92c3caf64d15d8cccade25008a463e602c087926676408820d80b4769698"
   }
  }
 },
 "nbformat": 4,
 "nbformat_minor": 2
}
