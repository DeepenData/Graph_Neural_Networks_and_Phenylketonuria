{
 "cells": [
  {
   "cell_type": "code",
   "execution_count": 1,
   "metadata": {},
   "outputs": [
    {
     "name": "stderr",
     "output_type": "stream",
     "text": [
      "/DeepenData/.miniconda/envs/geo/lib/python3.9/site-packages/tqdm/auto.py:22: TqdmWarning: IProgress not found. Please update jupyter and ipywidgets. See https://ipywidgets.readthedocs.io/en/stable/user_install.html\n",
      "  from .autonotebook import tqdm as notebook_tqdm\n"
     ]
    },
    {
     "name": "stdout",
     "output_type": "stream",
     "text": [
      "device = 'cuda:0'\n"
     ]
    },
    {
     "data": {
      "text/plain": [
       "GIN_classifier_to_explain_v2(\n",
       "  (GIN_layers): GIN(1, 8, num_layers=2)\n",
       "  (FC1): Linear(in_features=8, out_features=1, bias=True)\n",
       "  (FC2): Linear(in_features=11642, out_features=tensor([2]), bias=True)\n",
       "  (leakyrelu): LeakyReLU(negative_slope=0.01)\n",
       ")"
      ]
     },
     "execution_count": 1,
     "metadata": {},
     "output_type": "execute_result"
    }
   ],
   "source": [
    "from acevedo_clss_and_fcns import * \n",
    "device = 'cpu'\n",
    "if torch.cuda.is_available():\n",
    "    torch.cuda.init()\n",
    "    if torch.cuda.is_initialized():\n",
    "        device = 'cuda:0'\n",
    "#device = torch.device(device)\n",
    "print(f\"{device = }\")\n",
    "from torch_geometric.nn import GNNExplainer\n",
    "\n",
    "    \n",
    "\n",
    "\n",
    "model = torch.load(\n",
    "\"./results/trained_pytorch_models/Masked_Phe/Model_GIN_classifier_to_explain_v2_25-10-2022_14h_09min_best_ValAcc_0.9105997736703131_epoch_38.pt\")\n",
    "#loader_path = \"./results/dataloaders/MASKED_loader_Concen_plus_Fluxes.pt\"\n",
    "loader_path = \"./results/dataloaders/loader_Concen_plus_Fluxes.pt\"\n",
    "loader = torch.load(loader_path)\n",
    "#loader_validation = loader.get_validation_loader()\n",
    "loader_train = loader.get_train_loader()\n",
    "############################\n",
    "##############################\n",
    "explainer  = GNNExplainer(model, epochs=1000, num_hops = None, lr=0.01).to(device, non_blocking=True)\n",
    "model.to(device, non_blocking=True)\n",
    "#a_batch = next(iter(loader_validation)).to(device, non_blocking=True)\n",
    "\n"
   ]
  },
  {
   "cell_type": "code",
   "execution_count": 2,
   "metadata": {},
   "outputs": [
    {
     "name": "stderr",
     "output_type": "stream",
     "text": [
      "Explain graph: 100%|██████████| 1000/1000 [00:01<00:00, 581.28it/s]\n",
      "Explain graph: 100%|██████████| 1000/1000 [00:01<00:00, 631.25it/s]\n",
      "Explain graph: 100%|██████████| 1000/1000 [00:01<00:00, 675.19it/s]\n",
      "Explain graph: 100%|██████████| 1000/1000 [00:01<00:00, 719.92it/s]\n",
      "Explain graph: 100%|██████████| 1000/1000 [00:01<00:00, 715.24it/s]\n",
      "Explain graph: 100%|██████████| 1000/1000 [00:01<00:00, 707.75it/s]\n",
      "Explain graph: 100%|██████████| 1000/1000 [00:01<00:00, 701.72it/s]\n",
      "Explain graph: 100%|██████████| 1000/1000 [00:01<00:00, 671.31it/s]\n",
      "Explain graph: 100%|██████████| 1000/1000 [00:01<00:00, 626.47it/s]\n",
      "Explain graph: 100%|██████████| 1000/1000 [00:01<00:00, 680.91it/s]\n",
      "Explain graph: 100%|██████████| 1000/1000 [00:01<00:00, 696.32it/s]\n",
      "Explain graph: 100%|██████████| 1000/1000 [00:01<00:00, 620.80it/s]\n",
      "Explain graph: 100%|██████████| 1000/1000 [00:01<00:00, 698.04it/s]\n",
      "Explain graph: 100%|██████████| 1000/1000 [00:01<00:00, 595.13it/s]\n",
      "Explain graph: 100%|██████████| 1000/1000 [00:01<00:00, 700.64it/s]\n",
      "Explain graph: 100%|██████████| 1000/1000 [00:01<00:00, 706.37it/s]\n",
      "Explain graph: 100%|██████████| 1000/1000 [00:01<00:00, 591.98it/s]\n",
      "Explain graph: 100%|██████████| 1000/1000 [00:01<00:00, 669.38it/s]\n",
      "Explain graph: 100%|██████████| 1000/1000 [00:01<00:00, 719.27it/s]\n",
      "Explain graph: 100%|██████████| 1000/1000 [00:01<00:00, 694.26it/s]\n",
      "Explain graph: 100%|██████████| 1000/1000 [00:01<00:00, 707.05it/s]\n",
      "Explain graph: 100%|██████████| 1000/1000 [00:01<00:00, 702.89it/s]\n",
      "Explain graph: 100%|██████████| 1000/1000 [00:01<00:00, 582.33it/s]\n",
      "Explain graph: 100%|██████████| 1000/1000 [00:01<00:00, 701.59it/s]\n",
      "Explain graph: 100%|██████████| 1000/1000 [00:01<00:00, 688.85it/s]\n",
      "Explain graph: 100%|██████████| 1000/1000 [00:01<00:00, 645.53it/s]\n",
      "Explain graph: 100%|██████████| 1000/1000 [00:01<00:00, 660.79it/s]\n",
      "Explain graph: 100%|██████████| 1000/1000 [00:01<00:00, 689.45it/s]\n",
      "Explain graph: 100%|██████████| 1000/1000 [00:01<00:00, 725.89it/s]\n",
      "Explain graph: 100%|██████████| 1000/1000 [00:01<00:00, 669.10it/s]\n",
      "Explain graph: 100%|██████████| 1000/1000 [00:01<00:00, 699.40it/s]\n",
      "Explain graph: 100%|██████████| 1000/1000 [00:01<00:00, 687.53it/s]\n",
      "Explain graph: 100%|██████████| 1000/1000 [00:01<00:00, 665.69it/s]\n",
      "Explain graph: 100%|██████████| 1000/1000 [00:01<00:00, 652.79it/s]\n",
      "Explain graph: 100%|██████████| 1000/1000 [00:01<00:00, 701.04it/s]\n",
      "Explain graph: 100%|██████████| 1000/1000 [00:01<00:00, 666.70it/s]\n",
      "Explain graph: 100%|██████████| 1000/1000 [00:01<00:00, 709.82it/s]\n",
      "Explain graph: 100%|██████████| 1000/1000 [00:01<00:00, 701.19it/s]\n",
      "Explain graph: 100%|██████████| 1000/1000 [00:01<00:00, 695.48it/s]\n",
      "Explain graph: 100%|██████████| 1000/1000 [00:01<00:00, 727.41it/s]\n",
      "Explain graph: 100%|██████████| 1000/1000 [00:01<00:00, 700.08it/s]\n",
      "Explain graph: 100%|██████████| 1000/1000 [00:01<00:00, 727.76it/s]\n",
      "Explain graph: 100%|██████████| 1000/1000 [00:01<00:00, 689.50it/s]\n",
      "Explain graph: 100%|██████████| 1000/1000 [00:01<00:00, 742.70it/s]\n",
      "Explain graph: 100%|██████████| 1000/1000 [00:01<00:00, 713.27it/s]\n",
      "Explain graph: 100%|██████████| 1000/1000 [00:01<00:00, 611.13it/s]\n",
      "Explain graph: 100%|██████████| 1000/1000 [00:01<00:00, 710.84it/s]\n",
      "Explain graph: 100%|██████████| 1000/1000 [00:01<00:00, 709.15it/s]\n",
      "Explain graph: 100%|██████████| 1000/1000 [00:01<00:00, 620.15it/s]\n",
      "Explain graph: 100%|██████████| 1000/1000 [00:01<00:00, 683.76it/s]\n",
      "Explain graph: 100%|██████████| 1000/1000 [00:01<00:00, 685.07it/s]\n",
      "Explain graph: 100%|██████████| 1000/1000 [00:01<00:00, 720.30it/s]\n",
      "Explain graph: 100%|██████████| 1000/1000 [00:01<00:00, 689.78it/s]\n",
      "Explain graph: 100%|██████████| 1000/1000 [00:01<00:00, 727.45it/s]\n",
      "Explain graph: 100%|██████████| 1000/1000 [00:01<00:00, 603.84it/s]\n",
      "Explain graph: 100%|██████████| 1000/1000 [00:01<00:00, 745.22it/s]\n",
      "Explain graph: 100%|██████████| 1000/1000 [00:01<00:00, 673.04it/s]\n",
      "Explain graph: 100%|██████████| 1000/1000 [00:01<00:00, 732.01it/s]\n",
      "Explain graph: 100%|██████████| 1000/1000 [00:01<00:00, 624.56it/s]\n",
      "Explain graph: 100%|██████████| 1000/1000 [00:01<00:00, 703.90it/s]\n",
      "Explain graph: 100%|██████████| 1000/1000 [00:01<00:00, 638.22it/s]\n",
      "Explain graph: 100%|██████████| 1000/1000 [00:01<00:00, 724.64it/s]\n",
      "Explain graph: 100%|██████████| 1000/1000 [00:01<00:00, 656.76it/s]\n",
      "Explain graph: 100%|██████████| 1000/1000 [00:01<00:00, 712.54it/s]\n",
      "Explain graph: 100%|██████████| 1000/1000 [00:01<00:00, 710.24it/s]\n",
      "Explain graph: 100%|██████████| 1000/1000 [00:01<00:00, 662.46it/s]\n",
      "Explain graph: 100%|██████████| 1000/1000 [00:01<00:00, 695.99it/s]\n",
      "Explain graph: 100%|██████████| 1000/1000 [00:01<00:00, 695.56it/s]\n",
      "Explain graph: 100%|██████████| 1000/1000 [00:01<00:00, 627.92it/s]\n",
      "Explain graph: 100%|██████████| 1000/1000 [00:01<00:00, 672.21it/s]\n",
      "Explain graph: 100%|██████████| 1000/1000 [00:01<00:00, 607.83it/s]\n",
      "Explain graph: 100%|██████████| 1000/1000 [00:01<00:00, 658.40it/s]\n",
      "Explain graph: 100%|██████████| 1000/1000 [00:01<00:00, 644.66it/s]\n",
      "Explain graph: 100%|██████████| 1000/1000 [00:01<00:00, 655.68it/s]\n",
      "Explain graph: 100%|██████████| 1000/1000 [00:01<00:00, 646.05it/s]\n",
      "Explain graph: 100%|██████████| 1000/1000 [00:01<00:00, 681.32it/s]\n",
      "Explain graph: 100%|██████████| 1000/1000 [00:01<00:00, 694.06it/s]\n",
      "Explain graph: 100%|██████████| 1000/1000 [00:01<00:00, 688.21it/s]\n",
      "Explain graph: 100%|██████████| 1000/1000 [00:01<00:00, 685.52it/s]\n",
      "Explain graph: 100%|██████████| 1000/1000 [00:01<00:00, 687.54it/s]\n",
      "Explain graph: 100%|██████████| 1000/1000 [00:01<00:00, 633.35it/s]\n",
      "Explain graph:  22%|██▎       | 225/1000 [00:00<00:01, 739.20it/s]"
     ]
    }
   ],
   "source": [
    "model.eval()\n",
    "gc.collect()\n",
    "torch.cuda.empty_cache() \n",
    "edge_num           = loader_train.dataset[0].edge_index.shape[1]\n",
    "all_graphs_weights = []#torch.empty(edge_num,1).to(device)\n",
    "\n",
    "for graph in loader_train.dataset:\n",
    "    _, edge_weights =  explainer.explain_graph(graph.x.to(device, non_blocking=True), graph.edge_index.to(device, non_blocking=True))\n",
    "    \n",
    "    #all_graphs_weights = torch.cat((all_graphs_weights, edge_weights.reshape(edge_num,1).to(device)), dim=1)\n",
    "    all_graphs_weights.append(edge_weights.reshape(edge_num,1))\n",
    "    "
   ]
  },
  {
   "cell_type": "code",
   "execution_count": null,
   "metadata": {},
   "outputs": [],
   "source": [
    "import numpy as np\n",
    "all_graphs_weights_df = pd.DataFrame(\n",
    "torch.stack(all_graphs_weights,1).squeeze().cpu().numpy())\n",
    "\n",
    "\n",
    "\n",
    "all_graphs_weights_df.loc[:,np.random.randint(1, 1000, 5)].plot.hist(bins=200, alpha=0.9, figsize=(15,6), subplots=True, sharey=False, \n",
    "                      sharex=False, logy = True, ylabel = ['', '', ''], grid=False)\n"
   ]
  },
  {
   "cell_type": "code",
   "execution_count": 4,
   "metadata": {},
   "outputs": [],
   "source": [
    "train_labels = []\n",
    "for graph in tqdm.tqdm(loader_train.dataset):\n",
    "    train_labels.append(graph.y.cpu().item())\n",
    "assert train_labels.__len__() == all_graphs_weights_df.shape[1]\n",
    "#all_graphs_weights.shape\n",
    "\n",
    "labels =  [\"PKU\" if l == 0 else \"Control\" for l in train_labels] \n",
    "labels\n",
    "pd.Series(labels).to_csv(\"./results/data/data_for_R/.csv\")"
   ]
  }
 ],
 "metadata": {
  "kernelspec": {
   "display_name": "Python 3.9.13 ('geo')",
   "language": "python",
   "name": "python3"
  },
  "language_info": {
   "codemirror_mode": {
    "name": "ipython",
    "version": 3
   },
   "file_extension": ".py",
   "mimetype": "text/x-python",
   "name": "python",
   "nbconvert_exporter": "python",
   "pygments_lexer": "ipython3",
   "version": "3.9.13"
  },
  "orig_nbformat": 4,
  "vscode": {
   "interpreter": {
    "hash": "9ccb92c3caf64d15d8cccade25008a463e602c087926676408820d80b4769698"
   }
  }
 },
 "nbformat": 4,
 "nbformat_minor": 2
}
