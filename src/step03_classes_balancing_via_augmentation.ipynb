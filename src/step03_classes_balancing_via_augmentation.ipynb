{
 "cells": [
  {
   "cell_type": "code",
   "execution_count": 1,
   "metadata": {},
   "outputs": [],
   "source": [
    "import pandas as pd\n",
    "from  sklearn import preprocessing \n",
    "\n",
    "\n",
    "df        = pd.read_parquet(\"./processed_data/metabolites_outliers_removed_and_imputed.parquet.gzip\")\n",
    "col_names = df.select_dtypes(include=['float']).columns.__array__()\n",
    "X         = df.select_dtypes(include=['float']).__array__()\n",
    "le        = preprocessing.LabelEncoder()\n",
    "y         = le.fit_transform(df.Group.__array__())\n",
    "from imblearn.over_sampling import SMOTE\n",
    "X_resampled, y_resampled = SMOTE(k_neighbors =40, n_jobs=-1 ).fit_resample(X, y)\n",
    "\n",
    "aumented_data = pd.concat([ pd.DataFrame(y_resampled.astype(int), columns=['label']), pd.DataFrame(X_resampled, columns=col_names)], axis=1)\n"
   ]
  },
  {
   "cell_type": "code",
   "execution_count": 2,
   "metadata": {},
   "outputs": [],
   "source": [
    "aumented_data.to_parquet('./processed_data/augmented_balanced_metabolite_data.parquet.gzip', compression='gzip')\n"
   ]
  }
 ],
 "metadata": {
  "kernelspec": {
   "display_name": "geo",
   "language": "python",
   "name": "python3"
  },
  "language_info": {
   "codemirror_mode": {
    "name": "ipython",
    "version": 3
   },
   "file_extension": ".py",
   "mimetype": "text/x-python",
   "name": "python",
   "nbconvert_exporter": "python",
   "pygments_lexer": "ipython3",
   "version": "3.9.15"
  },
  "orig_nbformat": 4,
  "vscode": {
   "interpreter": {
    "hash": "9ccb92c3caf64d15d8cccade25008a463e602c087926676408820d80b4769698"
   }
  }
 },
 "nbformat": 4,
 "nbformat_minor": 2
}
