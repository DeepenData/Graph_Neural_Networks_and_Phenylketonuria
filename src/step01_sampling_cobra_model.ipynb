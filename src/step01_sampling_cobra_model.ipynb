{
 "cells": [
  {
   "cell_type": "code",
   "execution_count": 1,
   "metadata": {},
   "outputs": [
    {
     "name": "stderr",
     "output_type": "stream",
     "text": [
      "This model seems to have metCharge instead of metCharges field. Will use metCharge for what metCharges represents.\n",
      "This model seems to have metHMDB instead of metHMDBID field. Will use metHMDB for what metHMDBID represents.\n",
      "No defined compartments in model model. Compartments will be deduced heuristically using regular expressions.\n",
      "Using regular expression found the following compartments:c, e, g, l, m, n, r, x\n"
     ]
    },
    {
     "name": "stdout",
     "output_type": "stream",
     "text": [
      "Scaling...\n",
      " A: min|aij| =  1.000e+00  max|aij| =  1.000e+00  ratio =  1.000e+00\n",
      "Problem data seem to be well scaled\n"
     ]
    }
   ],
   "source": [
    "import cobra\n",
    "from cobra.io.mat import *\n",
    "import warnings\n",
    "warnings.simplefilter('ignore')\n",
    "from cobra.sampling import sample\n",
    "import os\n",
    "cpus = os.cpu_count()\n",
    "\n",
    "model = load_matlab_model(\"models/GEM_Recon2_thermocurated_redHUMAN.mat\")\n",
    "co    = model.problem.Constraint(model.reactions.biomass.flux_expression, lb=.01 * model.optimize().objective_value)\n",
    "model.add_cons_vars([co])"
   ]
  },
  {
   "cell_type": "code",
   "execution_count": 2,
   "metadata": {},
   "outputs": [],
   "source": [
    "model.reactions.get_by_id('r0399').bounds = (0, 100)\n",
    "model.reactions.get_by_id('PHETHPTOX2').bounds = (0, 100)\n",
    "model.reactions.get_by_id('r0403').bounds = (0, 100)\n",
    "model.reactions.get_by_id('DHPR').bounds  = (0, 100)\n",
    "model.reactions.get_by_id('DHPR2').bounds  = (0, 100)\n",
    "model.reactions.get_by_id('r0398').bounds  = (0, 100)\n",
    "#model.reactions.get_by_id('HMR_6728').bounds"
   ]
  },
  {
   "cell_type": "code",
   "execution_count": 3,
   "metadata": {},
   "outputs": [],
   "source": [
    "from cobra.sampling import OptGPSampler, ACHRSampler\n",
    "\n",
    "optgp = OptGPSampler(model, processes=cpus, thinning=6000)\n",
    "s = optgp.sample(3000)\n",
    "rxn_list = ['biomass', 'r0399', 'PHETHPTOX2', 'r0403', 'DHPR', 'DHPR2', 'r0398']\n",
    "\n",
    "\n",
    "formulas =  [model.reactions.get_by_id(r).reaction if r != 'biomass' else 'biomass' for r in rxn_list]\n",
    "import matplotlib.pyplot as plt\n",
    "\n",
    "\n",
    "#fig, axes = plt.subplots(nrows=4, ncols=4)\n",
    "s[rxn_list].plot.hist(bins=100, alpha=0.9, figsize=(5,10), subplots=True, sharey=False, \n",
    "                      sharex=False, logy = True, title = formulas, ylabel = ['', '', ''], grid=False)\n",
    "plt.xlabel('Flux') \n",
    "#plt.ylabel(None)\n",
    "#plt.ylabel(\"common Y\")\n",
    "#fig.supylabel('common y label')\n",
    "plt.tight_layout()\n",
    "plt.show()"
   ]
  },
  {
   "cell_type": "code",
   "execution_count": 89,
   "metadata": {},
   "outputs": [],
   "source": [
    "from cobra.io import save_json_model\n",
    "assert model.genes.__len__() > 0\n",
    "s.to_parquet(\"results/data/flux_samples.parquet.gzip\", compression='gzip')\n",
    "save_json_model(model, \"models/GEM_Recon2_thermocurated_redHUMAN.json\")"
   ]
  }
 ],
 "metadata": {
  "kernelspec": {
   "display_name": "Python 3.9.13 ('geo')",
   "language": "python",
   "name": "python3"
  },
  "language_info": {
   "codemirror_mode": {
    "name": "ipython",
    "version": 3
   },
   "file_extension": ".py",
   "mimetype": "text/x-python",
   "name": "python",
   "nbconvert_exporter": "python",
   "pygments_lexer": "ipython3",
   "version": "3.9.13"
  },
  "orig_nbformat": 4,
  "vscode": {
   "interpreter": {
    "hash": "9ccb92c3caf64d15d8cccade25008a463e602c087926676408820d80b4769698"
   }
  }
 },
 "nbformat": 4,
 "nbformat_minor": 2
}
