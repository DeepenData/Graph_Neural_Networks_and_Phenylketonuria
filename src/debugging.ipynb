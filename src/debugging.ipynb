{
 "cells": [
  {
   "cell_type": "code",
   "execution_count": 32,
   "metadata": {},
   "outputs": [],
   "source": [
    "import pickle\n",
    "from custom_clss_and_fncs import * \n",
    "import os\n",
    "\n",
    "\n",
    "\n",
    "os.chdir('/DeepenData/Repos/geometric_cobra/')\n",
    "\n",
    "# Open the file in binary mode\n",
    "with open('results/data/lista_de_grafos.pkl', 'rb') as file:\n",
    "      \n",
    "    # Call load method to deserialze\n",
    "    list_of_graphs = pickle.load(file)\n",
    "nx_G = nx.read_gpickle(\"results/data/nx_G.gpickle\")\n",
    "\n",
    "\n",
    "target_node = 'phe_L_c'\n",
    "producto_idx = list(nx_G.nodes()).index(target_node)\n",
    "\n",
    "\n",
    "\n",
    "Train_graphs, Test_graphs = train_test_split(\n",
    "            list_of_graphs,test_size=0.4,shuffle=True)\n",
    "batch_size = 3\n",
    "train_loader = make_loader(Train_graphs, batch_size,num_samples=50)\n",
    "test_loader  = make_loader(Test_graphs, batch_size, num_samples = 50)\n",
    "out_channels = 170\n",
    "hidden_dim   = 170\n",
    "num_layers   = 3\n",
    "n_nodes      = list_of_graphs[0].num_nodes\n",
    "loss_fun  = torch.nn.MSELoss()\n",
    "\n"
   ]
  },
  {
   "cell_type": "code",
   "execution_count": 33,
   "metadata": {},
   "outputs": [
    {
     "data": {
      "text/plain": [
       "tensor([[0.0121],\n",
       "        [0.0139],\n",
       "        [0.0130]], grad_fn=<AddmmBackward0>)"
      ]
     },
     "execution_count": 33,
     "metadata": {},
     "output_type": "execute_result"
    }
   ],
   "source": [
    "\n",
    "class regresor_GIN_FC(torch.nn.Module):\n",
    "    \n",
    "    def __init__(\n",
    "        self, \n",
    "        target_node_idx: int,\n",
    "        n_nodes : int, \n",
    "        num_features : int, \n",
    "        out_channels: int,\n",
    "        dropout : float = 0.09, \n",
    "        hidden_dim : int = 5, \n",
    "        #heads : int = 5,\n",
    "        LeakyReLU_slope : float = 0.01,\n",
    "\n",
    "        num_layers: int = 3\n",
    "    ):\n",
    "        super(regresor_GIN_FC, self).__init__() # TODO: why SUPER gato? \n",
    "        self.n_nodes = n_nodes\n",
    "        self.dropout = dropout\n",
    "        self.num_features = num_features\n",
    "        self.target_node_idx = target_node_idx\n",
    "        self.out_channels = out_channels\n",
    "        \n",
    "        self.GIN_layers =  GIN(in_channels= num_features, hidden_channels= hidden_dim, num_layers= num_layers, out_channels= out_channels, dropout=dropout,  jk='lstm', act='LeakyReLU', act_first = True)#.to('cuda')        \n",
    "        self.FC1        = Linear(in_features=out_channels, out_features=1, bias=True)#.to('cuda')\n",
    "        self.FC2        = Linear(in_features=self.n_nodes, out_features=1, bias=True)#.to('cuda')        #self.leakyrelu = LeakyReLU(LeakyReLU_slope).to('cuda')\n",
    "        self.leakyrelu = LeakyReLU(LeakyReLU_slope)#.to('cuda')\n",
    "    def forward(\n",
    "        self, x, \n",
    "        edge_index, # \n",
    "        batch_size\n",
    "    ):\n",
    "\n",
    "     x     = self.GIN_layers(x, edge_index)\n",
    "     x     = x.reshape(batch_size, self.n_nodes, self.out_channels)\n",
    "     x     = self.FC1(self.leakyrelu(x))\n",
    "     x     = x.reshape(batch_size, self.n_nodes, 1)\n",
    "     #x     = self.FC2(x)\n",
    "     return  self.FC2(self.leakyrelu(x.squeeze()))#x#[:,self.target_node_idx,:].squeeze()\n",
    "\n",
    "\n",
    "\n",
    "modelo = regresor_GIN_FC(target_node_idx = producto_idx,n_nodes = n_nodes, num_features = 1, \n",
    "                      out_channels = out_channels, hidden_dim =hidden_dim, \n",
    "                      num_layers=num_layers, dropout=.1).to('cpu') \n",
    "\n",
    "optimizer = torch.optim.Adam(modelo.parameters(),)\n",
    "\n",
    "\n",
    "data = next(iter(train_loader))\n",
    "out = modelo(data.x, data.edge_index, batch_size = batch_size)\n",
    "out"
   ]
  }
 ],
 "metadata": {
  "kernelspec": {
   "display_name": "Python 3.9.13 ('geo')",
   "language": "python",
   "name": "python3"
  },
  "language_info": {
   "codemirror_mode": {
    "name": "ipython",
    "version": 3
   },
   "file_extension": ".py",
   "mimetype": "text/x-python",
   "name": "python",
   "nbconvert_exporter": "python",
   "pygments_lexer": "ipython3",
   "version": "3.9.13"
  },
  "orig_nbformat": 4,
  "vscode": {
   "interpreter": {
    "hash": "9ccb92c3caf64d15d8cccade25008a463e602c087926676408820d80b4769698"
   }
  }
 },
 "nbformat": 4,
 "nbformat_minor": 2
}
