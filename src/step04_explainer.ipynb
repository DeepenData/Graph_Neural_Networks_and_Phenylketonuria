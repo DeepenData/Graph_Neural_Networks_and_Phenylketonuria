{
 "cells": [
  {
   "cell_type": "code",
   "execution_count": 1,
   "metadata": {},
   "outputs": [
    {
     "name": "stderr",
     "output_type": "stream",
     "text": [
      "/DeepenData/.miniconda/envs/geo/lib/python3.9/site-packages/tqdm/auto.py:22: TqdmWarning: IProgress not found. Please update jupyter and ipywidgets. See https://ipywidgets.readthedocs.io/en/stable/user_install.html\n",
      "  from .autonotebook import tqdm as notebook_tqdm\n"
     ]
    },
    {
     "name": "stdout",
     "output_type": "stream",
     "text": [
      "device = 'cuda:0'\n"
     ]
    },
    {
     "data": {
      "text/plain": [
       "GIN_classifier_to_explain(\n",
       "  (GIN_layers): GIN(1, 8, num_layers=4)\n",
       "  (FC1): Linear(in_features=8, out_features=1, bias=True)\n",
       "  (FC2): Linear(in_features=12437, out_features=2, bias=True)\n",
       "  (leakyrelu): LeakyReLU(negative_slope=0.01)\n",
       ")"
      ]
     },
     "execution_count": 1,
     "metadata": {},
     "output_type": "execute_result"
    }
   ],
   "source": [
    "from acevedo_clss_and_fcns import * \n",
    "device = 'cpu'\n",
    "if torch.cuda.is_available():\n",
    "    torch.cuda.init()\n",
    "    if torch.cuda.is_initialized():\n",
    "        device = 'cuda:0'\n",
    "#device = torch.device(device)\n",
    "print(f\"{device = }\")\n",
    "from torch_geometric.nn import GNNExplainer\n",
    "\n",
    "    \n",
    "\n",
    "model = torch.load(\"results/trained_pytorch_models/Model_GIN_classifier_to_explain_17-10-2022_19h_45min_best_ValAcc_0.6688042248208224_epoch_2.pt\")\n",
    "loader_path = \"./results/dataloaders/MASKED_loader_Concen_plus_Fluxes.pt\"\n",
    "loader = torch.load(loader_path).get_validation_loader()\n",
    "explainer  = GNNExplainer(model, epochs=999, num_hops = 5, lr=0.002).to('cuda')\n",
    "model.to('cuda')"
   ]
  },
  {
   "cell_type": "code",
   "execution_count": 2,
   "metadata": {},
   "outputs": [
    {
     "name": "stderr",
     "output_type": "stream",
     "text": [
      "Explain graph:  13%|█▎        | 132/999 [00:11<01:15, 11.52it/s]"
     ]
    }
   ],
   "source": [
    "a_batch = next(iter(loader)).to('cuda')\n",
    "model.eval()\n",
    "gc.collect()\n",
    "torch.cuda.empty_cache() \n",
    "a_batch = next(iter(loader)).to('cuda')\n",
    "explainer.explain_graph(a_batch.x, a_batch.edge_index)\n"
   ]
  },
  {
   "cell_type": "code",
   "execution_count": null,
   "metadata": {},
   "outputs": [],
   "source": [
    "\n",
    "import matplotlib.pyplot as plt\n",
    "import pandas as pd\n",
    "\n",
    "pd.Series(edge_mask.cpu().numpy()).plot.hist(bins=500, logy = True, figsize=(7,2.8), grid=False, color = 'blue', alpha=.8)\n",
    "plt.xlabel('Edge weight')\n",
    "plt.tight_layout()\n",
    "plt.grid(color = 'green', linestyle = '--', linewidth = 0.9, alpha=.5)\n",
    "#plt.xlim([0, 1])\n",
    "plt.legend(['Control'])\n",
    "plt.show()\n"
   ]
  }
 ],
 "metadata": {
  "kernelspec": {
   "display_name": "Python 3.9.13 ('geo')",
   "language": "python",
   "name": "python3"
  },
  "language_info": {
   "codemirror_mode": {
    "name": "ipython",
    "version": 3
   },
   "file_extension": ".py",
   "mimetype": "text/x-python",
   "name": "python",
   "nbconvert_exporter": "python",
   "pygments_lexer": "ipython3",
   "version": "3.9.13"
  },
  "orig_nbformat": 4,
  "vscode": {
   "interpreter": {
    "hash": "9ccb92c3caf64d15d8cccade25008a463e602c087926676408820d80b4769698"
   }
  }
 },
 "nbformat": 4,
 "nbformat_minor": 2
}
