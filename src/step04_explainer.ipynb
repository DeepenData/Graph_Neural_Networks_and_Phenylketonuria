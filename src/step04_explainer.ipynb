{
 "cells": [
  {
   "cell_type": "code",
   "execution_count": 8,
   "metadata": {},
   "outputs": [
    {
     "name": "stdout",
     "output_type": "stream",
     "text": [
      "device = 'cuda:0'\n"
     ]
    },
    {
     "name": "stderr",
     "output_type": "stream",
     "text": []
    }
   ],
   "source": [
    "from acevedo_clss_and_fcns import * \n",
    "device = 'cpu'\n",
    "if torch.cuda.is_available():\n",
    "    torch.cuda.init()\n",
    "    if torch.cuda.is_initialized():\n",
    "        device = 'cuda:0'\n",
    "#device = torch.device(device)\n",
    "print(f\"{device = }\")\n",
    "from torch_geometric.nn import GNNExplainer\n",
    "\n",
    "    \n",
    "\n",
    "model = torch.load(\"results/trained_pytorch_models/Model_GIN_classifier_to_explain_17-10-2022_19h_45min_best_ValAcc_0.6688042248208224_epoch_2.pt\")\n",
    "loader_path = \"./results/dataloaders/MASKED_loader_Concen_plus_Fluxes.pt\"\n",
    "loader = torch.load(loader_path).get_validation_loader()\n",
    "explainer  = GNNExplainer(model, epochs=500, num_hops = None, lr=0.002).to(device, non_blocking=True)\n",
    "model.to(device, non_blocking=True)\n",
    "a_batch = next(iter(loader)).to(device, non_blocking=True)\n",
    "model.eval()\n",
    "gc.collect()\n",
    "torch.cuda.empty_cache() \n",
    "node_feat_mask, edge_mask =  explainer.explain_graph(a_batch.x, a_batch.edge_index)\n",
    "import matplotlib.pyplot as plt\n",
    "import pandas as pd\n",
    "\n",
    "pd.Series(edge_mask.cpu().numpy()).plot.hist(bins=500, logy = True, figsize=(7,2.8), grid=False, color = 'blue', alpha=.8)\n",
    "plt.xlabel('Edge weight')\n",
    "plt.tight_layout()\n",
    "plt.grid(color = 'green', linestyle = '--', linewidth = 0.9, alpha=.5)\n",
    "#plt.xlim([0, 1])\n",
    "plt.legend(['Control'])\n",
    "plt.show()\n"
   ]
  }
 ],
 "metadata": {
  "kernelspec": {
   "display_name": "Python 3.9.13 ('geo')",
   "language": "python",
   "name": "python3"
  },
  "language_info": {
   "codemirror_mode": {
    "name": "ipython",
    "version": 3
   },
   "file_extension": ".py",
   "mimetype": "text/x-python",
   "name": "python",
   "nbconvert_exporter": "python",
   "pygments_lexer": "ipython3",
   "version": "3.9.13"
  },
  "orig_nbformat": 4,
  "vscode": {
   "interpreter": {
    "hash": "9ccb92c3caf64d15d8cccade25008a463e602c087926676408820d80b4769698"
   }
  }
 },
 "nbformat": 4,
 "nbformat_minor": 2
}
