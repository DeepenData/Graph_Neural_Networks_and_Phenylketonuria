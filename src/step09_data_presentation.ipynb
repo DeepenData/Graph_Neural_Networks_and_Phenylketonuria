{
 "cells": [
  {
   "cell_type": "code",
   "execution_count": 1,
   "metadata": {},
   "outputs": [
    {
     "name": "stdout",
     "output_type": "stream",
     "text": [
      "Scaling...\n",
      " A: min|aij| =  1.000e+00  max|aij| =  1.000e+00  ratio =  1.000e+00\n",
      "Problem data seem to be well scaled\n"
     ]
    }
   ],
   "source": [
    "import cobra\n",
    "from cobra.io.mat import *\n",
    "import warnings\n",
    "warnings.simplefilter('ignore')\n",
    "#from cobra.sampling import sample\n",
    "from cobra.sampling import OptGPSampler, ACHRSampler\n",
    "import os\n",
    "cpus = os.cpu_count()\n",
    "from cobra.io.json import load_json_model\n",
    "#model = load_matlab_model(\"./COBRA_models/GEM_Recon2_thermocurated_redHUMAN.mat\")\n",
    "#from acevedo_clss_and_fcns import * \n",
    "model                                 = load_json_model(\"./COBRA_models/GEM_Recon2_thermocurated_redHUMAN.json\")"
   ]
  },
  {
   "cell_type": "code",
   "execution_count": 53,
   "metadata": {},
   "outputs": [
    {
     "data": {
      "text/plain": [
       "['DHPR',\n",
       " 'DHPR2',\n",
       " 'GTPCI',\n",
       " 'GTPCIn',\n",
       " 'PACCOAL',\n",
       " 'PEAMNO',\n",
       " 'PHACCOAGLNAC',\n",
       " 'PHETA1',\n",
       " 'PHETA1m',\n",
       " 'PHETHPTOX2',\n",
       " 'PHYCBOXL',\n",
       " 'PPOR',\n",
       " 'PTHPS',\n",
       " 'PTHPSn',\n",
       " 'SPR',\n",
       " 'SPRn',\n",
       " 'THBPT4ACAMDASE',\n",
       " 'r0120',\n",
       " 'r0121',\n",
       " 'r0398',\n",
       " 'r0399',\n",
       " 'r0402',\n",
       " 'r0403',\n",
       " 'r0545',\n",
       " 'r0547',\n",
       " 'r0673',\n",
       " 'r0708',\n",
       " 'r0709',\n",
       " 'r0776',\n",
       " 'r0777',\n",
       " 'r0778',\n",
       " 'RE0830C',\n",
       " 'RE0830N',\n",
       " 'RE1709C',\n",
       " 'RE1709N',\n",
       " 'RE2660C',\n",
       " 'RE2660N']"
      ]
     },
     "execution_count": 53,
     "metadata": {},
     "output_type": "execute_result"
    }
   ],
   "source": [
    "import re\n",
    "from itertools import compress\n",
    "\n",
    "\n",
    "\n",
    "rxns        = [ r.id for r in model.reactions]\n",
    "subsystems  = [s.subsystem for s in model.reactions]\n",
    "subsys_bool = [bool(re.search(\"Phen|phen|Tetrahydrobiopterin\", s)) for s in subsystems]\n",
    "subsys_rxns = list(compress(rxns, subsys_bool))\n",
    "subsys_rxns"
   ]
  },
  {
   "cell_type": "code",
   "execution_count": 42,
   "metadata": {},
   "outputs": [],
   "source": [
    "import pandas as pd\n",
    "flux_samples  = pd.read_parquet(\"./results/data/flux_samples/flux_samples_v2_10_000.parquet.gzip\")\n"
   ]
  },
  {
   "cell_type": "code",
   "execution_count": 69,
   "metadata": {},
   "outputs": [],
   "source": [
    "\n",
    "subsys_fluxes          = flux_samples[subsys_rxns]\n",
    "subsys_fluxes_non_zero = subsys_fluxes.loc[:,abs(subsys_fluxes.sum(axis=0)) > 1e-5]"
   ]
  },
  {
   "cell_type": "code",
   "execution_count": 71,
   "metadata": {},
   "outputs": [],
   "source": [
    "subsys_fluxes_non_zero.to_parquet(\"results/data/flux_samples/subsys_fluxes_non_zero.parquet.gzip\", compression='gzip')"
   ]
  }
 ],
 "metadata": {
  "kernelspec": {
   "display_name": "Python 3.10.6 ('cobra')",
   "language": "python",
   "name": "python3"
  },
  "language_info": {
   "codemirror_mode": {
    "name": "ipython",
    "version": 3
   },
   "file_extension": ".py",
   "mimetype": "text/x-python",
   "name": "python",
   "nbconvert_exporter": "python",
   "pygments_lexer": "ipython3",
   "version": "3.10.6"
  },
  "orig_nbformat": 4,
  "vscode": {
   "interpreter": {
    "hash": "74a7f5fe8881d7cdb7d4a8f643edfee5e3f8fc44e55f6e1f234c3b5a75e98022"
   }
  }
 },
 "nbformat": 4,
 "nbformat_minor": 2
}
