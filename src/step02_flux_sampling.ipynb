{
 "cells": [
  {
   "cell_type": "code",
   "execution_count": 1,
   "metadata": {},
   "outputs": [
    {
     "name": "stderr",
     "output_type": "stream",
     "text": [
      "This model seems to have metCharge instead of metCharges field. Will use metCharge for what metCharges represents.\n",
      "This model seems to have metHMDB instead of metHMDBID field. Will use metHMDB for what metHMDBID represents.\n",
      "No defined compartments in model model. Compartments will be deduced heuristically using regular expressions.\n",
      "Using regular expression found the following compartments:c, e, g, l, m, n, r, x\n"
     ]
    },
    {
     "name": "stdout",
     "output_type": "stream",
     "text": [
      "<Solution 3.198 at 0x7f477fad7c70> 20\n"
     ]
    }
   ],
   "source": [
    "import cobra\n",
    "from cobra.io.mat import *\n",
    "import warnings\n",
    "warnings.simplefilter('ignore')\n",
    "#from cobra.sampling import sample\n",
    "from cobra.sampling import OptGPSampler, ACHRSampler\n",
    "import os\n",
    "cpus = os.cpu_count()\n",
    "from cobra.io.json import load_json_model\n",
    "model = load_matlab_model(\"./COBRA_models/GEM_Recon2_thermocurated_redHUMAN.mat\")\n",
    "print(\n",
    "model.optimize(),\n",
    "cpus)"
   ]
  },
  {
   "cell_type": "code",
   "execution_count": 2,
   "metadata": {},
   "outputs": [],
   "source": [
    "import re\n",
    "from itertools import compress\n",
    "\n",
    "\n",
    "\n",
    "rxns        = [ r.id for r in model.reactions]\n",
    "subsystems  = [s.subsystem for s in model.reactions]\n",
    "subsys_bool = [bool(re.search(\"Phen|phen|Tetrahydrobiopterin\", s)) for s in subsystems]\n",
    "subsys_rxns = list(compress(rxns, subsys_bool))\n",
    "\n",
    "reversible = [\n",
    "'PHETA1',\n",
    "'PHETA1m',\n",
    "'r0547',\n",
    "'RE0830C',\n",
    "'RE0830N',\n",
    "'RE1709C',\n",
    "'RE1709N',\n",
    "'RE2660C',\n",
    "'RE2660N']\n",
    "\n",
    "forward_rxns =  list(set(subsys_rxns)-set(reversible))\n",
    "\n",
    "for r in forward_rxns:\n",
    "    model.reactions.get_by_id(r).bounds  = (1e-8, 10)\n",
    "    \n",
    "    \n",
    "for r in reversible:\n",
    "    model.reactions.get_by_id(r).bounds  = (-10, 10)\n",
    "\n",
    "co    = model.problem.Constraint(model.reactions.biomass.flux_expression,\n",
    "                                 lb=.01 * model.optimize().objective_value,\n",
    "                                 ub=.99 * model.optimize().objective_value)\n",
    "model.add_cons_vars([co])\n",
    "assert model.optimize().objective_value > 0"
   ]
  },
  {
   "cell_type": "code",
   "execution_count": 7,
   "metadata": {},
   "outputs": [
    {
     "data": {
      "text/plain": [
       "True"
      ]
     },
     "execution_count": 7,
     "metadata": {},
     "output_type": "execute_result"
    }
   ],
   "source": [
    "optgp = OptGPSampler(model, processes=cpus, thinning=1000)\n",
    "samples = optgp.sample(10_000)\n",
    "samples.to_parquet(\"./results/flux/flux_samples.parquet.gzip\", compression='gzip')  "
   ]
  },
  {
   "cell_type": "markdown",
   "metadata": {},
   "source": [
    "### Get non zero samples from phenylalanine and biopterin subsystems"
   ]
  },
  {
   "cell_type": "code",
   "execution_count": 1,
   "metadata": {},
   "outputs": [
    {
     "name": "stderr",
     "output_type": "stream",
     "text": [
      "This model seems to have metCharge instead of metCharges field. Will use metCharge for what metCharges represents.\n",
      "This model seems to have metHMDB instead of metHMDBID field. Will use metHMDB for what metHMDBID represents.\n",
      "No defined compartments in model model. Compartments will be deduced heuristically using regular expressions.\n",
      "Using regular expression found the following compartments:c, e, g, l, m, n, r, x\n"
     ]
    }
   ],
   "source": [
    "import pandas as pd\n",
    "from cobra.io.mat import *\n",
    "from itertools import compress\n",
    "\n",
    "model = load_matlab_model(\"./COBRA_models/GEM_Recon2_thermocurated_redHUMAN.mat\")\n",
    "samples = pd.read_parquet(\"./results/flux/flux_samples.parquet.gzip\")  \n",
    "rxns        = [ r.id for r in model.reactions]\n",
    "subsystems  = [s.subsystem for s in model.reactions]\n",
    "subsys_bool = [bool(re.search(\"Phen|phen|Tetrahydrobiopterin\", s)) for s in subsystems]\n",
    "subsys_rxns = list(compress(rxns, subsys_bool))"
   ]
  },
  {
   "cell_type": "code",
   "execution_count": 24,
   "metadata": {},
   "outputs": [],
   "source": [
    "\n",
    "samples_subsys_rxns = samples[subsys_rxns]\n",
    "samples_subsys_rxns.loc[:,\n",
    "list(samples_subsys_rxns.sum().abs() > 1e-7 )].to_parquet(\"./results/flux/subsys_fluxes_non_zero.parquet.gzip\")\n"
   ]
  }
 ],
 "metadata": {
  "kernelspec": {
   "display_name": "Python 3.10.6 ('cobra')",
   "language": "python",
   "name": "python3"
  },
  "language_info": {
   "codemirror_mode": {
    "name": "ipython",
    "version": 3
   },
   "file_extension": ".py",
   "mimetype": "text/x-python",
   "name": "python",
   "nbconvert_exporter": "python",
   "pygments_lexer": "ipython3",
   "version": "3.10.6"
  },
  "orig_nbformat": 4,
  "vscode": {
   "interpreter": {
    "hash": "74a7f5fe8881d7cdb7d4a8f643edfee5e3f8fc44e55f6e1f234c3b5a75e98022"
   }
  }
 },
 "nbformat": 4,
 "nbformat_minor": 2
}
