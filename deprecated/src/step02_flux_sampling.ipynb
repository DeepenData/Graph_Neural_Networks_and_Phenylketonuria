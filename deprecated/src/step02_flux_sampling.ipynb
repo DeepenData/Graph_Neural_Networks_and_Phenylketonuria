{
 "cells": [
  {
   "cell_type": "code",
   "execution_count": 1,
   "metadata": {},
   "outputs": [
    {
     "name": "stderr",
     "output_type": "stream",
     "text": [
      "No defined compartments in model model. Compartments will be deduced heuristically using regular expressions.\n",
      "Using regular expression found the following compartments:c, e, g, i, l, m, n, r, x\n"
     ]
    }
   ],
   "source": [
    "import cobra\n",
    "from cobra.io.mat import *\n",
    "import warnings\n",
    "warnings.simplefilter('ignore')\n",
    "#from cobra.sampling import sample\n",
    "from cobra.sampling import OptGPSampler, ACHRSampler\n",
    "import os\n",
    "cpus = os.cpu_count()\n",
    "from cobra.io.json import load_json_model\n",
    "#model = load_matlab_model(\"./COBRA_models/GEM_Recon2_thermocurated_redHUMAN.mat\")\n",
    "model = load_matlab_model(\"./COBRA_models/GEM_Recon3_thermocurated_redHUMAN_AA.mat\")\n",
    "\n",
    "#recon301 =load_matlab_model(\"./COBRA_models/Recon3DModel_301.mat\")\n",
    "\n",
    "model.objective = 'r0399'\n",
    "\n",
    "model.reactions.get_by_id('biomass_maintenance').bounds = .1,100\n",
    "model.reactions.get_by_id('biomass').bounds             = .1, 100\n",
    "model.reactions.get_by_id('PHETHPTOX2').bounds          = 0, 0\n",
    "\n",
    "model.reactions.get_by_id(\"EX_phe_L_e\").bounds = (-100, -.1)\n"
   ]
  },
  {
   "cell_type": "code",
   "execution_count": 2,
   "metadata": {},
   "outputs": [
    {
     "data": {
      "text/latex": [
       "$\\displaystyle 1.0 \\cdot r_{0399} - 1.0 \\cdot r_{0399 reverse b9ea2}$"
      ],
      "text/plain": [
       "1.0*r0399 - 1.0*r0399_reverse_b9ea2"
      ]
     },
     "execution_count": 2,
     "metadata": {},
     "output_type": "execute_result"
    }
   ],
   "source": [
    "model.objective.expression"
   ]
  },
  {
   "cell_type": "code",
   "execution_count": 3,
   "metadata": {},
   "outputs": [
    {
     "name": "stdout",
     "output_type": "stream",
     "text": [
      "<Solution 100.000 at 0x7f61b0f4efb0> (0.0, 100.0) (0.0, 100.0)\n"
     ]
    }
   ],
   "source": [
    "model.reactions.get_by_id('PHETHPTOX2').r0399          = 0, 1e10\n",
    "print(\n",
    "model.optimize(), #,recon301.optimize(),\n",
    "model.reactions.get_by_id('PHEyLATthc').bounds,\n",
    "model.reactions.get_by_id('TYRATB0tc').bounds\n",
    ")\n",
    "\n",
    "#len([ r.id for r in model.reactions])- len([ r.id for r in recon301.reactions])"
   ]
  },
  {
   "cell_type": "code",
   "execution_count": 4,
   "metadata": {},
   "outputs": [
    {
     "name": "stdout",
     "output_type": "stream",
     "text": [
      "r0399    2.0\n"
     ]
    }
   ],
   "source": [
    "print(\n",
    "      model.optimize().reduced_costs.loc[lambda x: abs(x)>0].to_string()\n",
    "      \n",
    "      \n",
    "      )"
   ]
  },
  {
   "cell_type": "code",
   "execution_count": 5,
   "metadata": {},
   "outputs": [
    {
     "name": "stdout",
     "output_type": "stream",
     "text": [
      "r0399    2.0\n"
     ]
    }
   ],
   "source": [
    "print(\n",
    "      model.optimize().reduced_costs.loc[[r.id for r in model.metabolites.get_by_id(\"phe_L_c\").reactions]].loc[lambda x: abs(x)>1e-14].to_string()\n",
    "      \n",
    "      \n",
    "      )"
   ]
  },
  {
   "cell_type": "code",
   "execution_count": 6,
   "metadata": {},
   "outputs": [
    {
     "data": {
      "text/html": [
       "\n",
       "        <table>\n",
       "            <tr>\n",
       "                <td><strong>Reaction identifier</strong></td><td>EX_phe_L_e</td>\n",
       "            </tr><tr>\n",
       "                <td><strong>Name</strong></td><td>Exchange of L-Phenylalanine</td>\n",
       "            </tr><tr>\n",
       "                <td><strong>Memory address</strong></td>\n",
       "                <td>0x7f619c0fd4e0</td>\n",
       "            </tr><tr>\n",
       "                <td><strong>Stoichiometry</strong></td>\n",
       "                <td>\n",
       "                    <p style='text-align:right'>phe_L_e <--</p>\n",
       "                    <p style='text-align:right'>L-Phenylalanine <--</p>\n",
       "                </td>\n",
       "            </tr><tr>\n",
       "                <td><strong>GPR</strong></td><td></td>\n",
       "            </tr><tr>\n",
       "                <td><strong>Lower bound</strong></td><td>-100</td>\n",
       "            </tr><tr>\n",
       "                <td><strong>Upper bound</strong></td><td>-0.1</td>\n",
       "            </tr>\n",
       "        </table>\n",
       "        "
      ],
      "text/plain": [
       "<Reaction EX_phe_L_e at 0x7f619c0fd4e0>"
      ]
     },
     "execution_count": 6,
     "metadata": {},
     "output_type": "execute_result"
    }
   ],
   "source": [
    "model.reactions.get_by_id(\"EX_phe_L_e\")"
   ]
  },
  {
   "cell_type": "code",
   "execution_count": 9,
   "metadata": {},
   "outputs": [
    {
     "name": "stdout",
     "output_type": "stream",
     "text": [
      "<Solution 300.000 at 0x7f619dfe30a0> (0.0, 100.0) (0, 0) (-100, -0.1)\n"
     ]
    }
   ],
   "source": [
    "\n",
    "\n",
    "\n",
    "\n",
    "\n",
    "def turn_off_rxn(rxn_id):\n",
    "    model.reactions.get_by_id(rxn_id).bounds       = (0, 0)\n",
    "    model.reactions.get_by_id(\"EX_phe_L_e\").bounds = (-100, -.1)\n",
    "    model.reactions.get_by_id(\"r0399\").bounds = (0, 100000.0)\n",
    "    model.reactions.get_by_id(\"PHETHPTOX2\").bounds = (0, 0.0)\n",
    "    \n",
    "    return model.reactions.get_by_id(rxn_id).bounds \n",
    "    \n",
    "\n",
    "\n",
    "list(map(turn_off_rxn, [r.id for r in model.metabolites.get_by_id(\"tyr_L_e\").reactions]))\n",
    "#list(map(turn_off_rxn, [r.id for r in model.metabolites.get_by_id(\"tyr_L_c\").reactions]))\n",
    "\n",
    "#list(map(turn_off_rxn, [r.id for r in model.metabolites.get_by_id(\"phe_L_e\").reactions]))\n",
    "\n",
    "list(map(turn_off_rxn, [r.id for r in model.metabolites.get_by_id(\"dhbpt_e\").reactions]))\n",
    "list(map(turn_off_rxn, [r.id for r in model.metabolites.get_by_id(\"thbpt_e\").reactions]))\n",
    "#list(map(turn_off_rxn, [r.id for r in model.metabolites.get_by_id(\"thbpt4acam_e\").reactions]))\n",
    "\n",
    "\n",
    "print(\n",
    "model.optimize(), #,recon301.optimize(),\n",
    "model.reactions.get_by_id('PHEyLATthc').bounds,\n",
    "model.reactions.get_by_id('TYRATB0tc').bounds,\n",
    "model.reactions.get_by_id(\"EX_phe_L_e\").bounds \n",
    ")\n",
    "\n",
    "\n",
    "\n"
   ]
  },
  {
   "cell_type": "code",
   "execution_count": 39,
   "metadata": {},
   "outputs": [
    {
     "name": "stdout",
     "output_type": "stream",
     "text": [
      "DHPR2             2.0\n",
      "THBPT4ACAMDASE   -2.0\n",
      "r0403            -2.0\n",
      "EX_dhbpt_e        2.0\n",
      "DHPR              2.0\n",
      "r0398             2.0\n",
      "HMR_6728         -2.0\n"
     ]
    },
    {
     "data": {
      "text/html": [
       "<strong><em>Optimal</em> solution with objective value 30.000</strong><br><div>\n",
       "<style scoped>\n",
       "    .dataframe tbody tr th:only-of-type {\n",
       "        vertical-align: middle;\n",
       "    }\n",
       "\n",
       "    .dataframe tbody tr th {\n",
       "        vertical-align: top;\n",
       "    }\n",
       "\n",
       "    .dataframe thead th {\n",
       "        text-align: right;\n",
       "    }\n",
       "</style>\n",
       "<table border=\"1\" class=\"dataframe\">\n",
       "  <thead>\n",
       "    <tr style=\"text-align: right;\">\n",
       "      <th></th>\n",
       "      <th>fluxes</th>\n",
       "      <th>reduced_costs</th>\n",
       "    </tr>\n",
       "  </thead>\n",
       "  <tbody>\n",
       "    <tr>\n",
       "      <th>10FTHF5GLUtl</th>\n",
       "      <td>0.000000</td>\n",
       "      <td>0.0</td>\n",
       "    </tr>\n",
       "    <tr>\n",
       "      <th>10FTHF5GLUtm</th>\n",
       "      <td>0.000000</td>\n",
       "      <td>0.0</td>\n",
       "    </tr>\n",
       "    <tr>\n",
       "      <th>10FTHF6GLUtl</th>\n",
       "      <td>0.000000</td>\n",
       "      <td>0.0</td>\n",
       "    </tr>\n",
       "    <tr>\n",
       "      <th>10FTHF6GLUtm</th>\n",
       "      <td>0.000000</td>\n",
       "      <td>0.0</td>\n",
       "    </tr>\n",
       "    <tr>\n",
       "      <th>10FTHF7GLUtl</th>\n",
       "      <td>0.000000</td>\n",
       "      <td>0.0</td>\n",
       "    </tr>\n",
       "    <tr>\n",
       "      <th>...</th>\n",
       "      <td>...</td>\n",
       "      <td>...</td>\n",
       "    </tr>\n",
       "    <tr>\n",
       "      <th>NADH2_u10mi</th>\n",
       "      <td>0.000000</td>\n",
       "      <td>0.0</td>\n",
       "    </tr>\n",
       "    <tr>\n",
       "      <th>CYOOm3i</th>\n",
       "      <td>0.000000</td>\n",
       "      <td>0.0</td>\n",
       "    </tr>\n",
       "    <tr>\n",
       "      <th>CYOOm2i</th>\n",
       "      <td>54.335796</td>\n",
       "      <td>0.0</td>\n",
       "    </tr>\n",
       "    <tr>\n",
       "      <th>ARTPLM1</th>\n",
       "      <td>1.000000</td>\n",
       "      <td>0.0</td>\n",
       "    </tr>\n",
       "    <tr>\n",
       "      <th>ARTPLM2</th>\n",
       "      <td>1.000000</td>\n",
       "      <td>0.0</td>\n",
       "    </tr>\n",
       "  </tbody>\n",
       "</table>\n",
       "<p>10602 rows × 2 columns</p>\n",
       "</div>"
      ],
      "text/plain": [
       "<Solution 30.000 at 0x7f6261f79c30>"
      ]
     },
     "execution_count": 39,
     "metadata": {},
     "output_type": "execute_result"
    }
   ],
   "source": [
    "print(\n",
    "      model.optimize().reduced_costs.loc[lambda x: abs(x)>1e-14].to_string()\n",
    "      \n",
    "      \n",
    "      )\n",
    "\n",
    "\n",
    "\n",
    "\n",
    "regulatory_reactions = model.optimize().reduced_costs.loc[lambda x: abs(x)>1e-14].index.tolist()\n",
    "\n",
    "\n",
    "\n",
    "[model.reactions.get_by_id(rr).bounds for rr in regulatory_reactions]\n",
    "\n",
    "            \n",
    "   \n",
    "                 \n",
    "             \n",
    "            \n",
    "         \n",
    "\n",
    "\n",
    "model.reactions.get_by_id(\"DHPR2\").bounds = (0, 10)\n",
    "model.reactions.get_by_id(\"THBPT4ACAMDASE\").bounds = (0, 10)\n",
    "model.reactions.get_by_id(\"r0403\").bounds = (0, 10)\n",
    "model.reactions.get_by_id(\"DHPR\").bounds = (0, 10)\n",
    "model.reactions.get_by_id(\"r0398\").bounds = (0, 10)\n",
    "model.reactions.get_by_id(\"HMR_6728\").bounds = (0, 10)\n",
    "\n",
    "\n",
    "model.optimize()"
   ]
  },
  {
   "cell_type": "code",
   "execution_count": 11,
   "metadata": {},
   "outputs": [
    {
     "name": "stdout",
     "output_type": "stream",
     "text": [
      "(-100, -0.1)\n"
     ]
    }
   ],
   "source": [
    "\n",
    "\n",
    "from cobra.flux_analysis import flux_variability_analysis\n",
    "\n",
    "\n",
    "print( model.reactions.get_by_id(\"EX_phe_L_e\").bounds )\n",
    "FVA =  flux_variability_analysis(model, fraction_of_optimum=.95, processes=os.cpu_count())\n",
    "\n"
   ]
  },
  {
   "cell_type": "code",
   "execution_count": 15,
   "metadata": {},
   "outputs": [
    {
     "name": "stdout",
     "output_type": "stream",
     "text": [
      "                     minimum     maximum\n",
      "TYRLEUARGr            -100.0  100.000000\n",
      "r1829                    0.0    0.000000\n",
      "TYRPHETYRr            -100.0  100.000000\n",
      "r1788                    0.0    0.000000\n",
      "r1588                    0.0    0.000000\n",
      "r1859                    0.0    0.000000\n",
      "r1950                    0.0    0.000000\n",
      "TYRTHRr               -100.0  100.000000\n",
      "r1999                    0.0    0.000000\n",
      "TYRTRPPHEr            -100.0  100.000000\n",
      "r1789                    0.0    0.000000\n",
      "r1889                    0.0    0.000000\n",
      "r1777                    0.0    0.000000\n",
      "TYRTYRr               -100.0  100.000000\n",
      "r1951                    0.0    0.000000\n",
      "TYRTA                 -100.0  100.000000\n",
      "LEUTYRTYRr            -100.0  100.000000\n",
      "r1753                    0.0    0.000000\n",
      "TYRVALMETr            -100.0  100.000000\n",
      "r1627                    0.0    0.000000\n",
      "ASNTYRGLYr            -100.0  100.000000\n",
      "r2063                    0.0    0.000000\n",
      "r1790                    0.0    0.000000\n",
      "r1678                    0.0    0.000000\n",
      "ASNTYRPHEr            -100.0  100.000000\n",
      "TYRDOPO                  0.0  100.000000\n",
      "r1576                    0.0    0.000000\n",
      "r1778                    0.0    0.000000\n",
      "r1563                    0.0    0.000000\n",
      "PROTEIN_BS               0.0    0.000000\n",
      "ASNTYRTHRr            -100.0  100.000000\n",
      "biomass                  0.1   31.004688\n",
      "r1628                    0.0    0.000000\n",
      "TYRB0AT3tc               0.0    0.000000\n",
      "TYR3MO2                  0.0  100.000000\n",
      "GLNTYRLEUr            -100.0  100.000000\n",
      "r1693                    0.0    0.000000\n",
      "r1791                    0.0    0.000000\n",
      "THRARGTYRr            -100.0  100.000000\n",
      "r1779                    0.0    0.000000\n",
      "VALLYSTYRr            -100.0  100.000000\n",
      "TYRCBOX                  0.0  100.000000\n",
      "sink_tyr_L_c             0.0    0.000000\n",
      "THRASNTYRr            -100.0  100.000000\n",
      "HMR_6770                 0.0  100.000000\n",
      "r1549                    0.0    0.000000\n",
      "r1629                    0.0    0.000000\n",
      "r1904                    0.0    0.000000\n",
      "PHETYRr               -100.0  100.000000\n",
      "r1780                    0.0    0.000000\n",
      "r1768                    0.0    0.000000\n",
      "HMR_6729                 0.0  100.000000\n",
      "THRGLNTYRr            -100.0  100.000000\n",
      "r2015                    0.0    0.000000\n",
      "PHETYRGLNr            -100.0  100.000000\n",
      "r1630                    0.0    0.000000\n",
      "r1618                    0.0    0.000000\n",
      "PHETYRLYSr            -100.0  100.000000\n",
      "r1781                    0.0    0.000000\n",
      "TRPSERTYRr            -100.0  100.000000\n",
      "LYSTYRILEr            -100.0  100.000000\n",
      "TYRATB0tc                0.0    0.000000\n",
      "r1631                    0.0    0.000000\n",
      "biomass_maintenance      0.1   31.202987\n",
      "r1782                    0.0    0.000000\n",
      "TRPTHRTYRr            -100.0  100.000000\n",
      "r1632                    0.0    0.000000\n",
      "METASNTYRr            -100.0  100.000000\n",
      "TRPTYRGLNr            -100.0  100.000000\n",
      "r1783                    0.0    0.000000\n",
      "METGLNTYRr            -100.0  100.000000\n",
      "TRPTYRTYRr            -100.0  100.000000\n",
      "THRTYRMETr            -100.0  100.000000\n",
      "r2031                    0.0    0.000000\n",
      "r1633                    0.0    0.000000\n",
      "r1799                    0.0    0.000000\n",
      "r1609                    0.0    0.000000\n",
      "HMR_6874                 0.0  100.000000\n",
      "r1784                    0.0    0.000000\n",
      "TYRALAr               -100.0  100.000000\n",
      "PROHISTYRr            -100.0  100.000000\n",
      "TYRALAPHEr            -100.0  100.000000\n",
      "IDHPOXOXb                0.0  100.000000\n",
      "r1634                    0.0    0.000000\n",
      "r1814                    0.0    0.000000\n",
      "TYRARGGLUr            -100.0  100.000000\n",
      "r1785                    0.0    0.000000\n",
      "TYRt4                    0.0    0.000000\n",
      "ILETRPTYRr            -100.0  100.000000\n",
      "GLYTYRLYSr            -100.0  100.000000\n",
      "r1947                    0.0    0.000000\n",
      "TYRARGSERr            -100.0  100.000000\n",
      "TYRASPARGr            -100.0  100.000000\n",
      "r1078                    0.0  100.000000\n",
      "r1786                    0.0    0.000000\n",
      "r0399                  285.0  300.000000\n",
      "r2047                    0.0    0.000000\n",
      "TYRCYSGLYr            -100.0  100.000000\n",
      "r1708                    0.0    0.000000\n",
      "r1948                    0.0    0.000000\n",
      "r1874                    0.0    0.000000\n",
      "ARGTYRVALr            -100.0  100.000000\n",
      "r1738                    0.0    0.000000\n",
      "TYRCYSTHRr            -100.0  100.000000\n",
      "TRPGLUTYRr            -100.0  100.000000\n",
      "r1723                    0.0    0.000000\n",
      "TYRt                     0.0    0.000000\n",
      "PHETHPTOX2               0.0    0.000000\n",
      "HMR_6728                 0.0   15.000000\n",
      "TYRGLUr               -100.0  100.000000\n",
      "r1787                    0.0    0.000000\n",
      "r1949                    0.0    0.000000\n",
      "r1599                    0.0    0.000000\n",
      "CYSTYRASNr            -100.0  100.000000\n",
      "r1844                    0.0    0.000000\n"
     ]
    }
   ],
   "source": [
    "import pandas as pd\n",
    "\n",
    "\n",
    "fva = FVA.loc[ [r.id for r in model.metabolites.get_by_id(\"tyr_L_c\").reactions]]\n",
    "\n",
    "\n",
    "\n",
    "print(fva.to_string())"
   ]
  },
  {
   "cell_type": "code",
   "execution_count": null,
   "metadata": {},
   "outputs": [],
   "source": [
    "rxns        = [ r.id for r in model.reactions]\n",
    "\n",
    "\n",
    "\n",
    "\n",
    "\n",
    "model.reactions.get_by_id(\"r0399\").bounds       = (0, 1e-3)\n",
    "model.reactions.get_by_id(\"PHETHPTOX2\").bounds  = (0, 1e-3)\n",
    "\n"
   ]
  },
  {
   "cell_type": "code",
   "execution_count": 10,
   "metadata": {},
   "outputs": [
    {
     "data": {
      "text/plain": [
       "(-10, 10)"
      ]
     },
     "execution_count": 10,
     "metadata": {},
     "output_type": "execute_result"
    }
   ],
   "source": [
    "\n",
    "\n",
    "model.reactions.get_by_id(\"r0403\").bounds \n",
    "model.reactions.get_by_id(\"r0402\").bounds \n",
    "model.reactions.get_by_id(\"TRPHYDRO2\").bounds \n",
    "model.reactions.get_by_id(\"THBPT4ACAMDASE\").bounds \n",
    "\n",
    "\n",
    "model.reactions.get_by_id(\"RE1709C\").bounds "
   ]
  },
  {
   "cell_type": "code",
   "execution_count": 16,
   "metadata": {},
   "outputs": [
    {
     "name": "stdout",
     "output_type": "stream",
     "text": [
      "<Solution 31.042 at 0x7f45fe814460> 20\n"
     ]
    },
    {
     "data": {
      "text/plain": [
       "(0.0, 100.0)"
      ]
     },
     "execution_count": 16,
     "metadata": {},
     "output_type": "execute_result"
    }
   ],
   "source": [
    "import re\n",
    "from itertools import compress\n",
    "\n",
    "\n",
    "rxns        = [ r.id for r in model.reactions]\n",
    "\n",
    "\n",
    "subsystems  = [s.subsystem for s in model.reactions]\n",
    "subsys_bool = [bool(re.search(\"Phen|phen|Tetrahydrobiopterin\", s)) for s in subsystems]\n",
    "subsys_rxns = list(compress(rxns, subsys_bool))\n",
    "\n",
    "reversible = [\n",
    "'PHETA1',\n",
    "'PHETA1m',\n",
    "'r0547',\n",
    "'RE0830C',\n",
    "'RE0830N',\n",
    "'RE1709C',\n",
    "'RE1709N',\n",
    "'RE2660C',\n",
    "'RE2660N']\n",
    "\n",
    "forward_rxns =  list(set(subsys_rxns)-set(reversible))\n",
    "\n",
    "for r in forward_rxns:\n",
    "    model.reactions.get_by_id(r).bounds  = (1e-8, 10)\n",
    "    \n",
    "    \n",
    "for r in reversible:\n",
    "    model.reactions.get_by_id(r).bounds  = (-10, 10)\n",
    "\n",
    "co    = model.problem.Constraint(model.reactions.biomass.flux_expression,\n",
    "                                 lb=.90 * model.optimize().objective_value,\n",
    "                                 ub=.999 * model.optimize().objective_value)\n",
    "model.add_cons_vars([co])\n",
    "assert model.optimize().objective_value > 0\n",
    "print(\n",
    "model.optimize(), #,recon301.optimize(),\n",
    "cpus)\n",
    "\n",
    "\n",
    "\n",
    "model.reactions.get_by_id(\"biomass\").bounds  "
   ]
  },
  {
   "cell_type": "code",
   "execution_count": 20,
   "metadata": {},
   "outputs": [
    {
     "data": {
      "text/plain": [
       "(27.937686205219254, 31.041873561354727)"
      ]
     },
     "execution_count": 20,
     "metadata": {},
     "output_type": "execute_result"
    }
   ],
   "source": [
    "model.reactions.get_by_id(\"biomass\").bounds = .90 * model.optimize().objective_value, model.optimize().objective_value\n",
    "model.reactions.get_by_id(\"biomass\").bounds"
   ]
  },
  {
   "cell_type": "code",
   "execution_count": 3,
   "metadata": {},
   "outputs": [
    {
     "data": {
      "text/plain": [
       "(30.793010052375,\n",
       " fluxes           0.0\n",
       " reduced_costs    0.0\n",
       " Name: r0399, dtype: float64,\n",
       " fluxes           0.0\n",
       " reduced_costs    0.0\n",
       " Name: PHETHPTOX2, dtype: float64)"
      ]
     },
     "execution_count": 3,
     "metadata": {},
     "output_type": "execute_result"
    }
   ],
   "source": [
    "model.reactions.get_by_id(\"r0399\").bounds       = (0, 1e-3)\n",
    "model.reactions.get_by_id(\"PHETHPTOX2\").bounds  = (0, 1e-3)\n",
    "\n",
    "\n",
    "assert model.optimize().objective_value > 0\n",
    "model.optimize().objective_value, model.optimize().to_frame().loc[\"r0399\"], model.optimize().to_frame().loc[\"PHETHPTOX2\"]\n",
    "\n",
    "\n"
   ]
  },
  {
   "cell_type": "code",
   "execution_count": 4,
   "metadata": {},
   "outputs": [
    {
     "data": {
      "text/html": [
       "<div>\n",
       "<style scoped>\n",
       "    .dataframe tbody tr th:only-of-type {\n",
       "        vertical-align: middle;\n",
       "    }\n",
       "\n",
       "    .dataframe tbody tr th {\n",
       "        vertical-align: top;\n",
       "    }\n",
       "\n",
       "    .dataframe thead th {\n",
       "        text-align: right;\n",
       "    }\n",
       "</style>\n",
       "<table border=\"1\" class=\"dataframe\">\n",
       "  <thead>\n",
       "    <tr style=\"text-align: right;\">\n",
       "      <th></th>\n",
       "      <th>PHETHPTOX2</th>\n",
       "      <th>r0399</th>\n",
       "    </tr>\n",
       "  </thead>\n",
       "  <tbody>\n",
       "    <tr>\n",
       "      <th>0</th>\n",
       "      <td>0.000011</td>\n",
       "      <td>0.000011</td>\n",
       "    </tr>\n",
       "    <tr>\n",
       "      <th>1</th>\n",
       "      <td>0.000011</td>\n",
       "      <td>0.000011</td>\n",
       "    </tr>\n",
       "    <tr>\n",
       "      <th>2</th>\n",
       "      <td>0.000011</td>\n",
       "      <td>0.000011</td>\n",
       "    </tr>\n",
       "    <tr>\n",
       "      <th>3</th>\n",
       "      <td>0.000011</td>\n",
       "      <td>0.000011</td>\n",
       "    </tr>\n",
       "    <tr>\n",
       "      <th>4</th>\n",
       "      <td>0.000011</td>\n",
       "      <td>0.000011</td>\n",
       "    </tr>\n",
       "    <tr>\n",
       "      <th>...</th>\n",
       "      <td>...</td>\n",
       "      <td>...</td>\n",
       "    </tr>\n",
       "    <tr>\n",
       "      <th>6995</th>\n",
       "      <td>0.000480</td>\n",
       "      <td>0.000022</td>\n",
       "    </tr>\n",
       "    <tr>\n",
       "      <th>6996</th>\n",
       "      <td>0.000404</td>\n",
       "      <td>0.000065</td>\n",
       "    </tr>\n",
       "    <tr>\n",
       "      <th>6997</th>\n",
       "      <td>0.000391</td>\n",
       "      <td>0.000065</td>\n",
       "    </tr>\n",
       "    <tr>\n",
       "      <th>6998</th>\n",
       "      <td>0.000388</td>\n",
       "      <td>0.000062</td>\n",
       "    </tr>\n",
       "    <tr>\n",
       "      <th>6999</th>\n",
       "      <td>0.000385</td>\n",
       "      <td>0.000060</td>\n",
       "    </tr>\n",
       "  </tbody>\n",
       "</table>\n",
       "<p>7000 rows × 2 columns</p>\n",
       "</div>"
      ],
      "text/plain": [
       "      PHETHPTOX2     r0399\n",
       "0       0.000011  0.000011\n",
       "1       0.000011  0.000011\n",
       "2       0.000011  0.000011\n",
       "3       0.000011  0.000011\n",
       "4       0.000011  0.000011\n",
       "...          ...       ...\n",
       "6995    0.000480  0.000022\n",
       "6996    0.000404  0.000065\n",
       "6997    0.000391  0.000065\n",
       "6998    0.000388  0.000062\n",
       "6999    0.000385  0.000060\n",
       "\n",
       "[7000 rows x 2 columns]"
      ]
     },
     "execution_count": 4,
     "metadata": {},
     "output_type": "execute_result"
    }
   ],
   "source": [
    "optgp = OptGPSampler(model, processes=cpus, thinning=100)\n",
    "samples = optgp.sample(7_000)\n",
    "samples.to_parquet(\"./results/fluxes/flux_samples_PKU_7_000.parquet.gzip\", compression='gzip')  \n",
    "\n",
    "import pandas as pd\n",
    "flux_samples_PKU_7_000 = pd.read_parquet(\"./results/fluxes/flux_samples_PKU_7_000.parquet.gzip\")  \n",
    "flux_samples_PKU_7_000[[\"PHETHPTOX2\", \"r0399\"]]"
   ]
  },
  {
   "cell_type": "code",
   "execution_count": 5,
   "metadata": {},
   "outputs": [
    {
     "data": {
      "text/html": [
       "<strong><em>Optimal</em> solution with objective value 30.793</strong><br><div>\n",
       "<style scoped>\n",
       "    .dataframe tbody tr th:only-of-type {\n",
       "        vertical-align: middle;\n",
       "    }\n",
       "\n",
       "    .dataframe tbody tr th {\n",
       "        vertical-align: top;\n",
       "    }\n",
       "\n",
       "    .dataframe thead th {\n",
       "        text-align: right;\n",
       "    }\n",
       "</style>\n",
       "<table border=\"1\" class=\"dataframe\">\n",
       "  <thead>\n",
       "    <tr style=\"text-align: right;\">\n",
       "      <th></th>\n",
       "      <th>fluxes</th>\n",
       "      <th>reduced_costs</th>\n",
       "    </tr>\n",
       "  </thead>\n",
       "  <tbody>\n",
       "    <tr>\n",
       "      <th>10FTHF5GLUtl</th>\n",
       "      <td>0.000000</td>\n",
       "      <td>0.0</td>\n",
       "    </tr>\n",
       "    <tr>\n",
       "      <th>10FTHF5GLUtm</th>\n",
       "      <td>0.000000</td>\n",
       "      <td>0.0</td>\n",
       "    </tr>\n",
       "    <tr>\n",
       "      <th>10FTHF6GLUtl</th>\n",
       "      <td>0.000000</td>\n",
       "      <td>0.0</td>\n",
       "    </tr>\n",
       "    <tr>\n",
       "      <th>10FTHF6GLUtm</th>\n",
       "      <td>0.000000</td>\n",
       "      <td>0.0</td>\n",
       "    </tr>\n",
       "    <tr>\n",
       "      <th>10FTHF7GLUtl</th>\n",
       "      <td>0.000000</td>\n",
       "      <td>0.0</td>\n",
       "    </tr>\n",
       "    <tr>\n",
       "      <th>...</th>\n",
       "      <td>...</td>\n",
       "      <td>...</td>\n",
       "    </tr>\n",
       "    <tr>\n",
       "      <th>NADH2_u10mi</th>\n",
       "      <td>0.000000</td>\n",
       "      <td>0.0</td>\n",
       "    </tr>\n",
       "    <tr>\n",
       "      <th>CYOOm3i</th>\n",
       "      <td>0.000000</td>\n",
       "      <td>0.0</td>\n",
       "    </tr>\n",
       "    <tr>\n",
       "      <th>CYOOm2i</th>\n",
       "      <td>41.666667</td>\n",
       "      <td>0.0</td>\n",
       "    </tr>\n",
       "    <tr>\n",
       "      <th>ARTPLM1</th>\n",
       "      <td>0.000000</td>\n",
       "      <td>0.0</td>\n",
       "    </tr>\n",
       "    <tr>\n",
       "      <th>ARTPLM2</th>\n",
       "      <td>0.000000</td>\n",
       "      <td>0.0</td>\n",
       "    </tr>\n",
       "  </tbody>\n",
       "</table>\n",
       "<p>10602 rows × 2 columns</p>\n",
       "</div>"
      ],
      "text/plain": [
       "<Solution 30.793 at 0x7f268b8275e0>"
      ]
     },
     "execution_count": 5,
     "metadata": {},
     "output_type": "execute_result"
    }
   ],
   "source": [
    "model.reactions.get_by_id(\"r0399\").bounds       = (30, 100)\n",
    "model.reactions.get_by_id(\"PHETHPTOX2\").bounds  = (30, 100)\n",
    "assert model.optimize().objective_value > 0\n",
    "model.optimize().to_frame().loc[\"r0399\"], model.optimize().to_frame().loc[\"PHETHPTOX2\"]\n",
    "model.optimize()"
   ]
  },
  {
   "cell_type": "code",
   "execution_count": 6,
   "metadata": {},
   "outputs": [
    {
     "data": {
      "text/html": [
       "<div>\n",
       "<style scoped>\n",
       "    .dataframe tbody tr th:only-of-type {\n",
       "        vertical-align: middle;\n",
       "    }\n",
       "\n",
       "    .dataframe tbody tr th {\n",
       "        vertical-align: top;\n",
       "    }\n",
       "\n",
       "    .dataframe thead th {\n",
       "        text-align: right;\n",
       "    }\n",
       "</style>\n",
       "<table border=\"1\" class=\"dataframe\">\n",
       "  <thead>\n",
       "    <tr style=\"text-align: right;\">\n",
       "      <th></th>\n",
       "      <th>PHETHPTOX2</th>\n",
       "      <th>r0399</th>\n",
       "    </tr>\n",
       "  </thead>\n",
       "  <tbody>\n",
       "    <tr>\n",
       "      <th>0</th>\n",
       "      <td>30.0</td>\n",
       "      <td>30.038785</td>\n",
       "    </tr>\n",
       "    <tr>\n",
       "      <th>1</th>\n",
       "      <td>30.0</td>\n",
       "      <td>30.039390</td>\n",
       "    </tr>\n",
       "    <tr>\n",
       "      <th>2</th>\n",
       "      <td>30.0</td>\n",
       "      <td>30.037066</td>\n",
       "    </tr>\n",
       "    <tr>\n",
       "      <th>3</th>\n",
       "      <td>30.0</td>\n",
       "      <td>30.039025</td>\n",
       "    </tr>\n",
       "    <tr>\n",
       "      <th>4</th>\n",
       "      <td>30.0</td>\n",
       "      <td>30.037152</td>\n",
       "    </tr>\n",
       "    <tr>\n",
       "      <th>...</th>\n",
       "      <td>...</td>\n",
       "      <td>...</td>\n",
       "    </tr>\n",
       "    <tr>\n",
       "      <th>6995</th>\n",
       "      <td>30.0</td>\n",
       "      <td>40.786187</td>\n",
       "    </tr>\n",
       "    <tr>\n",
       "      <th>6996</th>\n",
       "      <td>30.0</td>\n",
       "      <td>40.774335</td>\n",
       "    </tr>\n",
       "    <tr>\n",
       "      <th>6997</th>\n",
       "      <td>30.0</td>\n",
       "      <td>40.745141</td>\n",
       "    </tr>\n",
       "    <tr>\n",
       "      <th>6998</th>\n",
       "      <td>30.0</td>\n",
       "      <td>40.782505</td>\n",
       "    </tr>\n",
       "    <tr>\n",
       "      <th>6999</th>\n",
       "      <td>30.0</td>\n",
       "      <td>40.797837</td>\n",
       "    </tr>\n",
       "  </tbody>\n",
       "</table>\n",
       "<p>7000 rows × 2 columns</p>\n",
       "</div>"
      ],
      "text/plain": [
       "      PHETHPTOX2      r0399\n",
       "0           30.0  30.038785\n",
       "1           30.0  30.039390\n",
       "2           30.0  30.037066\n",
       "3           30.0  30.039025\n",
       "4           30.0  30.037152\n",
       "...          ...        ...\n",
       "6995        30.0  40.786187\n",
       "6996        30.0  40.774335\n",
       "6997        30.0  40.745141\n",
       "6998        30.0  40.782505\n",
       "6999        30.0  40.797837\n",
       "\n",
       "[7000 rows x 2 columns]"
      ]
     },
     "execution_count": 6,
     "metadata": {},
     "output_type": "execute_result"
    }
   ],
   "source": [
    "\n",
    "optgp = OptGPSampler(model, processes=cpus, thinning=100)\n",
    "samples = optgp.sample(7_000)\n",
    "samples.to_parquet(\"./results/fluxes/flux_samples_CONTROL_7_000.parquet.gzip\", compression='gzip')  \n",
    "import pandas as pd\n",
    "flux_samples_CONTROL_7_000 = pd.read_parquet(\"./results/fluxes/flux_samples_CONTROL_7_000.parquet.gzip\")  \n",
    "flux_samples_CONTROL_7_000[[\"PHETHPTOX2\", \"r0399\"]]"
   ]
  },
  {
   "cell_type": "markdown",
   "metadata": {},
   "source": [
    "optgp = OptGPSampler(model, processes=cpus, thinning=1000)\n",
    "samples = optgp.sample(10_000)\n",
    "samples.to_parquet(\"./results/fluxes/flux_samples.parquet.gzip\", compression='gzip')  "
   ]
  },
  {
   "cell_type": "markdown",
   "metadata": {},
   "source": [
    "### Get non zero samples from phenylalanine and biopterin subsystems"
   ]
  },
  {
   "cell_type": "code",
   "execution_count": 1,
   "metadata": {},
   "outputs": [
    {
     "name": "stderr",
     "output_type": "stream",
     "text": [
      "No defined compartments in model model. Compartments will be deduced heuristically using regular expressions.\n",
      "Using regular expression found the following compartments:c, e, g, i, l, m, n, r, x\n"
     ]
    }
   ],
   "source": [
    "import pandas as pd\n",
    "from cobra.io.mat import *\n",
    "from itertools import compress\n",
    "\n",
    "model                      = load_matlab_model(\"./COBRA_models/GEM_Recon3_thermocurated_redHUMAN_AA.mat\")\n",
    "flux_samples_CONTROL_7_000 = pd.read_parquet(\"./results/fluxes/flux_samples_CONTROL_7_000.parquet.gzip\")  \n",
    "flux_samples_PKU_7_000     = pd.read_parquet(\"./results/fluxes/flux_samples_PKU_7_000.parquet.gzip\")  \n"
   ]
  },
  {
   "cell_type": "code",
   "execution_count": 3,
   "metadata": {},
   "outputs": [
    {
     "data": {
      "text/plain": [
       "array(['Tetrahydrobiopterin metabolism', 'Phenylalanine metabolism'],\n",
       "      dtype=object)"
      ]
     },
     "execution_count": 3,
     "metadata": {},
     "output_type": "execute_result"
    }
   ],
   "source": [
    "\n",
    "\n",
    "rxns        = [ r.id for r in model.reactions]\n",
    "subsystems  = [s.subsystem for s in model.reactions]\n",
    "subsys_bool = [bool(re.search(\"Phen|phen|Tetrahydrobiopterin\", s)) for s in subsystems]\n",
    "pd.Series(subsystems).iloc[subsys_bool].unique()\n"
   ]
  },
  {
   "cell_type": "code",
   "execution_count": 4,
   "metadata": {},
   "outputs": [
    {
     "data": {
      "text/plain": [
       "['DHPR2',\n",
       " 'PACCOAL',\n",
       " 'PEAMNO',\n",
       " 'PHACCOAGLNAC',\n",
       " 'PHETA1m',\n",
       " 'PHETHPTOX2',\n",
       " 'PHYCBOXL',\n",
       " 'PPOR',\n",
       " 'PTHPS',\n",
       " 'SPR',\n",
       " 'THBPT4ACAMDASE',\n",
       " 'r0399',\n",
       " 'r0402',\n",
       " 'r0403',\n",
       " 'r0545',\n",
       " 'r0547',\n",
       " 'r0673',\n",
       " 'RE0830C',\n",
       " 'RE0830N',\n",
       " 'RE1709C',\n",
       " 'RE1709N',\n",
       " 'RE2660C',\n",
       " 'RE2660N',\n",
       " 'PHLAC',\n",
       " '3HPPPNOHc',\n",
       " '3HPPPNOHGLUCc',\n",
       " 'GLYNATm',\n",
       " 'PACCOALm',\n",
       " 'DHPR',\n",
       " 'GTPCI',\n",
       " 'r0398',\n",
       " 'PHETA1',\n",
       " 'HMR_6728',\n",
       " 'HMR_6729',\n",
       " 'HMR_6747',\n",
       " 'HMR_6755',\n",
       " 'HMR_6770',\n",
       " 'HMR_6782',\n",
       " 'HMR_6784',\n",
       " 'HMR_6785',\n",
       " 'HMR_6786',\n",
       " 'HMR_6790',\n",
       " 'HMR_6826',\n",
       " 'HMR_6834',\n",
       " 'HMR_6838',\n",
       " 'HMR_6839',\n",
       " 'HMR_6844',\n",
       " 'HMR_6850',\n",
       " 'HMR_6854',\n",
       " 'HMR_6874',\n",
       " 'HMR_6876',\n",
       " 'HMR_7628',\n",
       " 'HMR_7756',\n",
       " 'HMR_4816']"
      ]
     },
     "execution_count": 4,
     "metadata": {},
     "output_type": "execute_result"
    }
   ],
   "source": [
    "subsys_rxns = list(compress(rxns, subsys_bool))\n",
    "subsys_rxns"
   ]
  },
  {
   "cell_type": "code",
   "execution_count": 13,
   "metadata": {},
   "outputs": [
    {
     "data": {
      "text/plain": [
       "True"
      ]
     },
     "execution_count": 13,
     "metadata": {},
     "output_type": "execute_result"
    }
   ],
   "source": [
    "\n",
    "def samples_subsys_rxns(samples, subsys_rxns):\n",
    "\n",
    "    samples_subsys_rxns = samples[subsys_rxns]\n",
    "\n",
    "    return samples_subsys_rxns.loc[:,\n",
    "            list(samples_subsys_rxns.sum().abs() > 1e-10 )]\n",
    "\n",
    "\n",
    "samples_subsys_CONTROL_7_000 = samples_subsys_rxns(flux_samples_CONTROL_7_000, subsys_rxns)\n",
    "samples_subsys_PKU_7_000 = samples_subsys_rxns(flux_samples_PKU_7_000, subsys_rxns)\n",
    "all(samples_subsys_CONTROL_7_000.columns == samples_subsys_PKU_7_000.columns)\n",
    "\n",
    "#samples_subsys_rxns.loc[:,\n",
    "#list(samples_subsys_rxns.sum().abs() > 1e-7 )].to_parquet(\"./results/fluxes/subsys_fluxes_non_zero.parquet.gzip\")\n"
   ]
  },
  {
   "cell_type": "code",
   "execution_count": 15,
   "metadata": {},
   "outputs": [],
   "source": [
    "samples_subsys_CONTROL_7_000.loc[:,\n",
    "list(samples_subsys_CONTROL_7_000.sum().abs() > 1e-7 )].to_parquet(\"./results/fluxes/samples_subsys_CONTROL_7_000.parquet.gzip\")\n",
    "samples_subsys_PKU_7_000.loc[:,\n",
    "list(samples_subsys_PKU_7_000.sum().abs() > 1e-7 )].to_parquet(\"./results/fluxes/samples_subsys_PKU_7_000.parquet.gzip\")"
   ]
  }
 ],
 "metadata": {
  "kernelspec": {
   "display_name": "cobra",
   "language": "python",
   "name": "python3"
  },
  "language_info": {
   "codemirror_mode": {
    "name": "ipython",
    "version": 3
   },
   "file_extension": ".py",
   "mimetype": "text/x-python",
   "name": "python",
   "nbconvert_exporter": "python",
   "pygments_lexer": "ipython3",
   "version": "3.10.8"
  },
  "orig_nbformat": 4,
  "vscode": {
   "interpreter": {
    "hash": "74a7f5fe8881d7cdb7d4a8f643edfee5e3f8fc44e55f6e1f234c3b5a75e98022"
   }
  }
 },
 "nbformat": 4,
 "nbformat_minor": 2
}
