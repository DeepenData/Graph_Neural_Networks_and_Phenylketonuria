{
 "cells": [
  {
   "cell_type": "code",
   "execution_count": 1,
   "metadata": {},
   "outputs": [
    {
     "name": "stderr",
     "output_type": "stream",
     "text": [
      "No defined compartments in model model. Compartments will be deduced heuristically using regular expressions.\n",
      "Using regular expression found the following compartments:c, e, g, i, l, m, n, r, x\n",
      "No defined compartments in model Recon3DModel. Compartments will be deduced heuristically using regular expressions.\n",
      "Using regular expression found the following compartments:c, e, g, i, l, m, n, r, x\n"
     ]
    }
   ],
   "source": [
    "import cobra\n",
    "from cobra.io.mat import *\n",
    "import warnings\n",
    "warnings.simplefilter('ignore')\n",
    "#from cobra.sampling import sample\n",
    "from cobra.sampling import OptGPSampler, ACHRSampler\n",
    "import os\n",
    "cpus = os.cpu_count()\n",
    "from cobra.io.json import load_json_model\n",
    "#model = load_matlab_model(\"./COBRA_models/GEM_Recon2_thermocurated_redHUMAN.mat\")\n",
    "model = load_matlab_model(\"./COBRA_models/GEM_Recon3_thermocurated_redHUMAN_AA.mat\")\n",
    "\n",
    "recon301 =load_matlab_model(\"./COBRA_models/Recon3DModel_301.mat\")\n"
   ]
  },
  {
   "cell_type": "code",
   "execution_count": 5,
   "metadata": {},
   "outputs": [
    {
     "name": "stdout",
     "output_type": "stream",
     "text": [
      "<Solution 31.104 at 0x7efc35ecb070> <Solution 755.003 at 0x7efc35ecacb0> 20\n"
     ]
    },
    {
     "data": {
      "text/plain": [
       "2"
      ]
     },
     "execution_count": 5,
     "metadata": {},
     "output_type": "execute_result"
    }
   ],
   "source": [
    "\n",
    "print(\n",
    "model.optimize(),recon301.optimize(),\n",
    "cpus)\n",
    "\n",
    "len([ r.id for r in model.reactions])- len([ r.id for r in recon301.reactions])"
   ]
  },
  {
   "cell_type": "code",
   "execution_count": 10,
   "metadata": {},
   "outputs": [
    {
     "data": {
      "text/plain": [
       "(-10, 10)"
      ]
     },
     "execution_count": 10,
     "metadata": {},
     "output_type": "execute_result"
    }
   ],
   "source": [
    "\n",
    "\n",
    "model.reactions.get_by_id(\"r0403\").bounds \n",
    "model.reactions.get_by_id(\"r0402\").bounds \n",
    "model.reactions.get_by_id(\"TRPHYDRO2\").bounds \n",
    "model.reactions.get_by_id(\"THBPT4ACAMDASE\").bounds \n",
    "\n",
    "\n",
    "model.reactions.get_by_id(\"RE1709C\").bounds "
   ]
  },
  {
   "cell_type": "code",
   "execution_count": 9,
   "metadata": {},
   "outputs": [
    {
     "name": "stdout",
     "output_type": "stream",
     "text": [
      "<Solution 31.042 at 0x7efc350580a0> <Solution 755.003 at 0x7efc350583d0> 20\n"
     ]
    },
    {
     "data": {
      "text/plain": [
       "['PACCOALm',\n",
       " '3HPPPNOHGLUCc',\n",
       " 'HMR_7628',\n",
       " 'HMR_6834',\n",
       " 'DHPR',\n",
       " 'HMR_6784',\n",
       " 'HMR_6782',\n",
       " 'r0545',\n",
       " 'HMR_6729',\n",
       " 'PACCOAL',\n",
       " 'r0403',\n",
       " '3HPPPNOHc',\n",
       " 'HMR_4816',\n",
       " 'PHLAC',\n",
       " 'PTHPS',\n",
       " 'PEAMNO',\n",
       " 'HMR_6728',\n",
       " 'HMR_6786',\n",
       " 'HMR_6876',\n",
       " 'PHETHPTOX2',\n",
       " 'PHYCBOXL',\n",
       " 'HMR_6844',\n",
       " 'HMR_6850',\n",
       " 'HMR_6854',\n",
       " 'SPR',\n",
       " 'r0398',\n",
       " 'HMR_6790',\n",
       " 'HMR_6839',\n",
       " 'HMR_6770',\n",
       " 'GLYNATm',\n",
       " 'HMR_7756',\n",
       " 'THBPT4ACAMDASE',\n",
       " 'HMR_6785',\n",
       " 'r0673',\n",
       " 'HMR_6826',\n",
       " 'HMR_6838',\n",
       " 'HMR_6747',\n",
       " 'PPOR',\n",
       " 'HMR_6755',\n",
       " 'r0402',\n",
       " 'PHACCOAGLNAC',\n",
       " 'GTPCI',\n",
       " 'HMR_6874',\n",
       " 'DHPR2',\n",
       " 'r0399']"
      ]
     },
     "execution_count": 9,
     "metadata": {},
     "output_type": "execute_result"
    }
   ],
   "source": [
    "import re\n",
    "from itertools import compress\n",
    "\n",
    "\n",
    "\n",
    "rxns        = [ r.id for r in model.reactions]\n",
    "subsystems  = [s.subsystem for s in model.reactions]\n",
    "subsys_bool = [bool(re.search(\"Phen|phen|Tetrahydrobiopterin\", s)) for s in subsystems]\n",
    "subsys_rxns = list(compress(rxns, subsys_bool))\n",
    "\n",
    "reversible = [\n",
    "'PHETA1',\n",
    "'PHETA1m',\n",
    "'r0547',\n",
    "'RE0830C',\n",
    "'RE0830N',\n",
    "'RE1709C',\n",
    "'RE1709N',\n",
    "'RE2660C',\n",
    "'RE2660N']\n",
    "\n",
    "forward_rxns =  list(set(subsys_rxns)-set(reversible))\n",
    "\n",
    "for r in forward_rxns:\n",
    "    model.reactions.get_by_id(r).bounds  = (1e-8, 10)\n",
    "    \n",
    "    \n",
    "for r in reversible:\n",
    "    model.reactions.get_by_id(r).bounds  = (-10, 10)\n",
    "\n",
    "co    = model.problem.Constraint(model.reactions.biomass.flux_expression,\n",
    "                                 lb=.90 * model.optimize().objective_value,\n",
    "                                 ub=.999 * model.optimize().objective_value)\n",
    "model.add_cons_vars([co])\n",
    "assert model.optimize().objective_value > 0\n",
    "print(\n",
    "model.optimize(),recon301.optimize(),\n",
    "cpus)\n",
    "forward_rxns"
   ]
  },
  {
   "cell_type": "code",
   "execution_count": 3,
   "metadata": {},
   "outputs": [
    {
     "data": {
      "text/plain": [
       "(30.793010052375,\n",
       " fluxes           0.0\n",
       " reduced_costs    0.0\n",
       " Name: r0399, dtype: float64,\n",
       " fluxes           0.0\n",
       " reduced_costs    0.0\n",
       " Name: PHETHPTOX2, dtype: float64)"
      ]
     },
     "execution_count": 3,
     "metadata": {},
     "output_type": "execute_result"
    }
   ],
   "source": [
    "model.reactions.get_by_id(\"r0399\").bounds       = (0, 1e-3)\n",
    "model.reactions.get_by_id(\"PHETHPTOX2\").bounds  = (0, 1e-3)\n",
    "\n",
    "\n",
    "assert model.optimize().objective_value > 0\n",
    "model.optimize().objective_value, model.optimize().to_frame().loc[\"r0399\"], model.optimize().to_frame().loc[\"PHETHPTOX2\"]\n",
    "\n",
    "\n"
   ]
  },
  {
   "cell_type": "code",
   "execution_count": 4,
   "metadata": {},
   "outputs": [
    {
     "data": {
      "text/html": [
       "<div>\n",
       "<style scoped>\n",
       "    .dataframe tbody tr th:only-of-type {\n",
       "        vertical-align: middle;\n",
       "    }\n",
       "\n",
       "    .dataframe tbody tr th {\n",
       "        vertical-align: top;\n",
       "    }\n",
       "\n",
       "    .dataframe thead th {\n",
       "        text-align: right;\n",
       "    }\n",
       "</style>\n",
       "<table border=\"1\" class=\"dataframe\">\n",
       "  <thead>\n",
       "    <tr style=\"text-align: right;\">\n",
       "      <th></th>\n",
       "      <th>PHETHPTOX2</th>\n",
       "      <th>r0399</th>\n",
       "    </tr>\n",
       "  </thead>\n",
       "  <tbody>\n",
       "    <tr>\n",
       "      <th>0</th>\n",
       "      <td>0.000011</td>\n",
       "      <td>0.000011</td>\n",
       "    </tr>\n",
       "    <tr>\n",
       "      <th>1</th>\n",
       "      <td>0.000011</td>\n",
       "      <td>0.000011</td>\n",
       "    </tr>\n",
       "    <tr>\n",
       "      <th>2</th>\n",
       "      <td>0.000011</td>\n",
       "      <td>0.000011</td>\n",
       "    </tr>\n",
       "    <tr>\n",
       "      <th>3</th>\n",
       "      <td>0.000011</td>\n",
       "      <td>0.000011</td>\n",
       "    </tr>\n",
       "    <tr>\n",
       "      <th>4</th>\n",
       "      <td>0.000011</td>\n",
       "      <td>0.000011</td>\n",
       "    </tr>\n",
       "    <tr>\n",
       "      <th>...</th>\n",
       "      <td>...</td>\n",
       "      <td>...</td>\n",
       "    </tr>\n",
       "    <tr>\n",
       "      <th>6995</th>\n",
       "      <td>0.000480</td>\n",
       "      <td>0.000022</td>\n",
       "    </tr>\n",
       "    <tr>\n",
       "      <th>6996</th>\n",
       "      <td>0.000404</td>\n",
       "      <td>0.000065</td>\n",
       "    </tr>\n",
       "    <tr>\n",
       "      <th>6997</th>\n",
       "      <td>0.000391</td>\n",
       "      <td>0.000065</td>\n",
       "    </tr>\n",
       "    <tr>\n",
       "      <th>6998</th>\n",
       "      <td>0.000388</td>\n",
       "      <td>0.000062</td>\n",
       "    </tr>\n",
       "    <tr>\n",
       "      <th>6999</th>\n",
       "      <td>0.000385</td>\n",
       "      <td>0.000060</td>\n",
       "    </tr>\n",
       "  </tbody>\n",
       "</table>\n",
       "<p>7000 rows × 2 columns</p>\n",
       "</div>"
      ],
      "text/plain": [
       "      PHETHPTOX2     r0399\n",
       "0       0.000011  0.000011\n",
       "1       0.000011  0.000011\n",
       "2       0.000011  0.000011\n",
       "3       0.000011  0.000011\n",
       "4       0.000011  0.000011\n",
       "...          ...       ...\n",
       "6995    0.000480  0.000022\n",
       "6996    0.000404  0.000065\n",
       "6997    0.000391  0.000065\n",
       "6998    0.000388  0.000062\n",
       "6999    0.000385  0.000060\n",
       "\n",
       "[7000 rows x 2 columns]"
      ]
     },
     "execution_count": 4,
     "metadata": {},
     "output_type": "execute_result"
    }
   ],
   "source": [
    "optgp = OptGPSampler(model, processes=cpus, thinning=100)\n",
    "samples = optgp.sample(7_000)\n",
    "samples.to_parquet(\"./results/fluxes/flux_samples_PKU_7_000.parquet.gzip\", compression='gzip')  \n",
    "\n",
    "import pandas as pd\n",
    "flux_samples_PKU_7_000 = pd.read_parquet(\"./results/fluxes/flux_samples_PKU_7_000.parquet.gzip\")  \n",
    "flux_samples_PKU_7_000[[\"PHETHPTOX2\", \"r0399\"]]"
   ]
  },
  {
   "cell_type": "code",
   "execution_count": 5,
   "metadata": {},
   "outputs": [
    {
     "data": {
      "text/html": [
       "<strong><em>Optimal</em> solution with objective value 30.793</strong><br><div>\n",
       "<style scoped>\n",
       "    .dataframe tbody tr th:only-of-type {\n",
       "        vertical-align: middle;\n",
       "    }\n",
       "\n",
       "    .dataframe tbody tr th {\n",
       "        vertical-align: top;\n",
       "    }\n",
       "\n",
       "    .dataframe thead th {\n",
       "        text-align: right;\n",
       "    }\n",
       "</style>\n",
       "<table border=\"1\" class=\"dataframe\">\n",
       "  <thead>\n",
       "    <tr style=\"text-align: right;\">\n",
       "      <th></th>\n",
       "      <th>fluxes</th>\n",
       "      <th>reduced_costs</th>\n",
       "    </tr>\n",
       "  </thead>\n",
       "  <tbody>\n",
       "    <tr>\n",
       "      <th>10FTHF5GLUtl</th>\n",
       "      <td>0.000000</td>\n",
       "      <td>0.0</td>\n",
       "    </tr>\n",
       "    <tr>\n",
       "      <th>10FTHF5GLUtm</th>\n",
       "      <td>0.000000</td>\n",
       "      <td>0.0</td>\n",
       "    </tr>\n",
       "    <tr>\n",
       "      <th>10FTHF6GLUtl</th>\n",
       "      <td>0.000000</td>\n",
       "      <td>0.0</td>\n",
       "    </tr>\n",
       "    <tr>\n",
       "      <th>10FTHF6GLUtm</th>\n",
       "      <td>0.000000</td>\n",
       "      <td>0.0</td>\n",
       "    </tr>\n",
       "    <tr>\n",
       "      <th>10FTHF7GLUtl</th>\n",
       "      <td>0.000000</td>\n",
       "      <td>0.0</td>\n",
       "    </tr>\n",
       "    <tr>\n",
       "      <th>...</th>\n",
       "      <td>...</td>\n",
       "      <td>...</td>\n",
       "    </tr>\n",
       "    <tr>\n",
       "      <th>NADH2_u10mi</th>\n",
       "      <td>0.000000</td>\n",
       "      <td>0.0</td>\n",
       "    </tr>\n",
       "    <tr>\n",
       "      <th>CYOOm3i</th>\n",
       "      <td>0.000000</td>\n",
       "      <td>0.0</td>\n",
       "    </tr>\n",
       "    <tr>\n",
       "      <th>CYOOm2i</th>\n",
       "      <td>41.666667</td>\n",
       "      <td>0.0</td>\n",
       "    </tr>\n",
       "    <tr>\n",
       "      <th>ARTPLM1</th>\n",
       "      <td>0.000000</td>\n",
       "      <td>0.0</td>\n",
       "    </tr>\n",
       "    <tr>\n",
       "      <th>ARTPLM2</th>\n",
       "      <td>0.000000</td>\n",
       "      <td>0.0</td>\n",
       "    </tr>\n",
       "  </tbody>\n",
       "</table>\n",
       "<p>10602 rows × 2 columns</p>\n",
       "</div>"
      ],
      "text/plain": [
       "<Solution 30.793 at 0x7f268b8275e0>"
      ]
     },
     "execution_count": 5,
     "metadata": {},
     "output_type": "execute_result"
    }
   ],
   "source": [
    "model.reactions.get_by_id(\"r0399\").bounds       = (30, 100)\n",
    "model.reactions.get_by_id(\"PHETHPTOX2\").bounds  = (30, 100)\n",
    "assert model.optimize().objective_value > 0\n",
    "model.optimize().to_frame().loc[\"r0399\"], model.optimize().to_frame().loc[\"PHETHPTOX2\"]\n",
    "model.optimize()"
   ]
  },
  {
   "cell_type": "code",
   "execution_count": 6,
   "metadata": {},
   "outputs": [
    {
     "data": {
      "text/html": [
       "<div>\n",
       "<style scoped>\n",
       "    .dataframe tbody tr th:only-of-type {\n",
       "        vertical-align: middle;\n",
       "    }\n",
       "\n",
       "    .dataframe tbody tr th {\n",
       "        vertical-align: top;\n",
       "    }\n",
       "\n",
       "    .dataframe thead th {\n",
       "        text-align: right;\n",
       "    }\n",
       "</style>\n",
       "<table border=\"1\" class=\"dataframe\">\n",
       "  <thead>\n",
       "    <tr style=\"text-align: right;\">\n",
       "      <th></th>\n",
       "      <th>PHETHPTOX2</th>\n",
       "      <th>r0399</th>\n",
       "    </tr>\n",
       "  </thead>\n",
       "  <tbody>\n",
       "    <tr>\n",
       "      <th>0</th>\n",
       "      <td>30.0</td>\n",
       "      <td>30.038785</td>\n",
       "    </tr>\n",
       "    <tr>\n",
       "      <th>1</th>\n",
       "      <td>30.0</td>\n",
       "      <td>30.039390</td>\n",
       "    </tr>\n",
       "    <tr>\n",
       "      <th>2</th>\n",
       "      <td>30.0</td>\n",
       "      <td>30.037066</td>\n",
       "    </tr>\n",
       "    <tr>\n",
       "      <th>3</th>\n",
       "      <td>30.0</td>\n",
       "      <td>30.039025</td>\n",
       "    </tr>\n",
       "    <tr>\n",
       "      <th>4</th>\n",
       "      <td>30.0</td>\n",
       "      <td>30.037152</td>\n",
       "    </tr>\n",
       "    <tr>\n",
       "      <th>...</th>\n",
       "      <td>...</td>\n",
       "      <td>...</td>\n",
       "    </tr>\n",
       "    <tr>\n",
       "      <th>6995</th>\n",
       "      <td>30.0</td>\n",
       "      <td>40.786187</td>\n",
       "    </tr>\n",
       "    <tr>\n",
       "      <th>6996</th>\n",
       "      <td>30.0</td>\n",
       "      <td>40.774335</td>\n",
       "    </tr>\n",
       "    <tr>\n",
       "      <th>6997</th>\n",
       "      <td>30.0</td>\n",
       "      <td>40.745141</td>\n",
       "    </tr>\n",
       "    <tr>\n",
       "      <th>6998</th>\n",
       "      <td>30.0</td>\n",
       "      <td>40.782505</td>\n",
       "    </tr>\n",
       "    <tr>\n",
       "      <th>6999</th>\n",
       "      <td>30.0</td>\n",
       "      <td>40.797837</td>\n",
       "    </tr>\n",
       "  </tbody>\n",
       "</table>\n",
       "<p>7000 rows × 2 columns</p>\n",
       "</div>"
      ],
      "text/plain": [
       "      PHETHPTOX2      r0399\n",
       "0           30.0  30.038785\n",
       "1           30.0  30.039390\n",
       "2           30.0  30.037066\n",
       "3           30.0  30.039025\n",
       "4           30.0  30.037152\n",
       "...          ...        ...\n",
       "6995        30.0  40.786187\n",
       "6996        30.0  40.774335\n",
       "6997        30.0  40.745141\n",
       "6998        30.0  40.782505\n",
       "6999        30.0  40.797837\n",
       "\n",
       "[7000 rows x 2 columns]"
      ]
     },
     "execution_count": 6,
     "metadata": {},
     "output_type": "execute_result"
    }
   ],
   "source": [
    "\n",
    "optgp = OptGPSampler(model, processes=cpus, thinning=100)\n",
    "samples = optgp.sample(7_000)\n",
    "samples.to_parquet(\"./results/fluxes/flux_samples_CONTROL_7_000.parquet.gzip\", compression='gzip')  \n",
    "import pandas as pd\n",
    "flux_samples_CONTROL_7_000 = pd.read_parquet(\"./results/fluxes/flux_samples_CONTROL_7_000.parquet.gzip\")  \n",
    "flux_samples_CONTROL_7_000[[\"PHETHPTOX2\", \"r0399\"]]"
   ]
  },
  {
   "cell_type": "markdown",
   "metadata": {},
   "source": [
    "optgp = OptGPSampler(model, processes=cpus, thinning=1000)\n",
    "samples = optgp.sample(10_000)\n",
    "samples.to_parquet(\"./results/fluxes/flux_samples.parquet.gzip\", compression='gzip')  "
   ]
  },
  {
   "cell_type": "markdown",
   "metadata": {},
   "source": [
    "### Get non zero samples from phenylalanine and biopterin subsystems"
   ]
  },
  {
   "cell_type": "code",
   "execution_count": 1,
   "metadata": {},
   "outputs": [
    {
     "name": "stderr",
     "output_type": "stream",
     "text": [
      "No defined compartments in model model. Compartments will be deduced heuristically using regular expressions.\n",
      "Using regular expression found the following compartments:c, e, g, i, l, m, n, r, x\n"
     ]
    }
   ],
   "source": [
    "import pandas as pd\n",
    "from cobra.io.mat import *\n",
    "from itertools import compress\n",
    "\n",
    "model                      = load_matlab_model(\"./COBRA_models/GEM_Recon3_thermocurated_redHUMAN_AA.mat\")\n",
    "flux_samples_CONTROL_7_000 = pd.read_parquet(\"./results/fluxes/flux_samples_CONTROL_7_000.parquet.gzip\")  \n",
    "flux_samples_PKU_7_000     = pd.read_parquet(\"./results/fluxes/flux_samples_PKU_7_000.parquet.gzip\")  \n"
   ]
  },
  {
   "cell_type": "code",
   "execution_count": 3,
   "metadata": {},
   "outputs": [
    {
     "data": {
      "text/plain": [
       "array(['Tetrahydrobiopterin metabolism', 'Phenylalanine metabolism'],\n",
       "      dtype=object)"
      ]
     },
     "execution_count": 3,
     "metadata": {},
     "output_type": "execute_result"
    }
   ],
   "source": [
    "\n",
    "\n",
    "rxns        = [ r.id for r in model.reactions]\n",
    "subsystems  = [s.subsystem for s in model.reactions]\n",
    "subsys_bool = [bool(re.search(\"Phen|phen|Tetrahydrobiopterin\", s)) for s in subsystems]\n",
    "pd.Series(subsystems).iloc[subsys_bool].unique()\n"
   ]
  },
  {
   "cell_type": "code",
   "execution_count": 4,
   "metadata": {},
   "outputs": [
    {
     "data": {
      "text/plain": [
       "['DHPR2',\n",
       " 'PACCOAL',\n",
       " 'PEAMNO',\n",
       " 'PHACCOAGLNAC',\n",
       " 'PHETA1m',\n",
       " 'PHETHPTOX2',\n",
       " 'PHYCBOXL',\n",
       " 'PPOR',\n",
       " 'PTHPS',\n",
       " 'SPR',\n",
       " 'THBPT4ACAMDASE',\n",
       " 'r0399',\n",
       " 'r0402',\n",
       " 'r0403',\n",
       " 'r0545',\n",
       " 'r0547',\n",
       " 'r0673',\n",
       " 'RE0830C',\n",
       " 'RE0830N',\n",
       " 'RE1709C',\n",
       " 'RE1709N',\n",
       " 'RE2660C',\n",
       " 'RE2660N',\n",
       " 'PHLAC',\n",
       " '3HPPPNOHc',\n",
       " '3HPPPNOHGLUCc',\n",
       " 'GLYNATm',\n",
       " 'PACCOALm',\n",
       " 'DHPR',\n",
       " 'GTPCI',\n",
       " 'r0398',\n",
       " 'PHETA1',\n",
       " 'HMR_6728',\n",
       " 'HMR_6729',\n",
       " 'HMR_6747',\n",
       " 'HMR_6755',\n",
       " 'HMR_6770',\n",
       " 'HMR_6782',\n",
       " 'HMR_6784',\n",
       " 'HMR_6785',\n",
       " 'HMR_6786',\n",
       " 'HMR_6790',\n",
       " 'HMR_6826',\n",
       " 'HMR_6834',\n",
       " 'HMR_6838',\n",
       " 'HMR_6839',\n",
       " 'HMR_6844',\n",
       " 'HMR_6850',\n",
       " 'HMR_6854',\n",
       " 'HMR_6874',\n",
       " 'HMR_6876',\n",
       " 'HMR_7628',\n",
       " 'HMR_7756',\n",
       " 'HMR_4816']"
      ]
     },
     "execution_count": 4,
     "metadata": {},
     "output_type": "execute_result"
    }
   ],
   "source": [
    "subsys_rxns = list(compress(rxns, subsys_bool))\n",
    "subsys_rxns"
   ]
  },
  {
   "cell_type": "code",
   "execution_count": 13,
   "metadata": {},
   "outputs": [
    {
     "data": {
      "text/plain": [
       "True"
      ]
     },
     "execution_count": 13,
     "metadata": {},
     "output_type": "execute_result"
    }
   ],
   "source": [
    "\n",
    "def samples_subsys_rxns(samples, subsys_rxns):\n",
    "\n",
    "    samples_subsys_rxns = samples[subsys_rxns]\n",
    "\n",
    "    return samples_subsys_rxns.loc[:,\n",
    "            list(samples_subsys_rxns.sum().abs() > 1e-10 )]\n",
    "\n",
    "\n",
    "samples_subsys_CONTROL_7_000 = samples_subsys_rxns(flux_samples_CONTROL_7_000, subsys_rxns)\n",
    "samples_subsys_PKU_7_000 = samples_subsys_rxns(flux_samples_PKU_7_000, subsys_rxns)\n",
    "all(samples_subsys_CONTROL_7_000.columns == samples_subsys_PKU_7_000.columns)\n",
    "\n",
    "#samples_subsys_rxns.loc[:,\n",
    "#list(samples_subsys_rxns.sum().abs() > 1e-7 )].to_parquet(\"./results/fluxes/subsys_fluxes_non_zero.parquet.gzip\")\n"
   ]
  },
  {
   "cell_type": "code",
   "execution_count": 15,
   "metadata": {},
   "outputs": [],
   "source": [
    "samples_subsys_CONTROL_7_000.loc[:,\n",
    "list(samples_subsys_CONTROL_7_000.sum().abs() > 1e-7 )].to_parquet(\"./results/fluxes/samples_subsys_CONTROL_7_000.parquet.gzip\")\n",
    "samples_subsys_PKU_7_000.loc[:,\n",
    "list(samples_subsys_PKU_7_000.sum().abs() > 1e-7 )].to_parquet(\"./results/fluxes/samples_subsys_PKU_7_000.parquet.gzip\")"
   ]
  }
 ],
 "metadata": {
  "kernelspec": {
   "display_name": "cobra",
   "language": "python",
   "name": "python3"
  },
  "language_info": {
   "codemirror_mode": {
    "name": "ipython",
    "version": 3
   },
   "file_extension": ".py",
   "mimetype": "text/x-python",
   "name": "python",
   "nbconvert_exporter": "python",
   "pygments_lexer": "ipython3",
   "version": "3.10.8"
  },
  "orig_nbformat": 4,
  "vscode": {
   "interpreter": {
    "hash": "74a7f5fe8881d7cdb7d4a8f643edfee5e3f8fc44e55f6e1f234c3b5a75e98022"
   }
  }
 },
 "nbformat": 4,
 "nbformat_minor": 2
}
