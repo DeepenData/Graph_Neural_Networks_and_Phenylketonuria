{
 "cells": [
  {
   "cell_type": "code",
   "execution_count": 1,
   "metadata": {},
   "outputs": [
    {
     "name": "stderr",
     "output_type": "stream",
     "text": [
      "/DeepenData/.miniconda/envs/geo/lib/python3.9/site-packages/tqdm/auto.py:22: TqdmWarning: IProgress not found. Please update jupyter and ipywidgets. See https://ipywidgets.readthedocs.io/en/stable/user_install.html\n",
      "  from .autonotebook import tqdm as notebook_tqdm\n",
      "No defined compartments in model model. Compartments will be deduced heuristically using regular expressions.\n",
      "Using regular expression found the following compartments:c, e, g, i, l, m, n, r, x\n"
     ]
    }
   ],
   "source": [
    "\n",
    "from    acevedo_clss_and_fcns import * \n",
    "#import  modin.pandas as pd\n",
    "from    cobra.io.mat import *\n",
    "\n",
    "model               = load_matlab_model(\"./COBRA_models/GEM_Recon3_thermocurated_redHUMAN_AA.mat\")\n",
    "feature_data        = pd.read_parquet(\"./results/dataframes/augmented_metabolite_data_v2.parquet.gzip\")#\n",
    "feature_names       = pd.read_csv(\"./metabolites_data/metabolite_names.csv\")\n",
    "grafo_nx            = cobra_to_networkx(model)"
   ]
  },
  {
   "cell_type": "code",
   "execution_count": null,
   "metadata": {},
   "outputs": [],
   "source": [
    "from networkx.algorithms import bipartite\n",
    "first_partition , second_partition = bipartite.sets(grafo_nx)\n",
    "second_partition"
   ]
  },
  {
   "cell_type": "code",
   "execution_count": 3,
   "metadata": {},
   "outputs": [],
   "source": [
    "\n",
    "\n",
    "feature_data['Leu'] = feature_data['Leu.Ile']\n",
    "feature_data['Ile'] = feature_data['Leu.Ile']\n",
    "feature_data.drop('Leu.Ile', axis=1, inplace=True)\n",
    "\n",
    "feature_data['C3DC'] = feature_data['C4OH.C3DC']\n",
    "feature_data['C4OH'] = feature_data['C4OH.C3DC']\n",
    "feature_data.drop('C4OH.C3DC', axis=1, inplace=True)\n",
    "\n",
    "feature_data['C4DC'] = feature_data['C5.OH.C4DC']\n",
    "feature_data['C5OH'] = feature_data['C5.OH.C4DC']\n",
    "feature_data.drop('C5.OH.C4DC', axis=1, inplace=True)\n",
    "assert len(set(feature_names.Simbolo_traductor) - set(feature_data.columns)) == 0\n",
    "\n",
    "\n",
    "\n",
    "\n",
    "node_list = list(grafo_nx.nodes)\n",
    "feature_data.rename(\n",
    "        columns=feature_names.set_index(\"Simbolo_traductor\")[\"Recon3_ID\"].to_dict(), \n",
    "        inplace=True\n",
    "    )\n",
    "\n",
    "assert set(set(feature_data.columns)-set([\"label\"])).issubset(set(list(grafo_nx.nodes)))\n"
   ]
  },
  {
   "cell_type": "code",
   "execution_count": 4,
   "metadata": {},
   "outputs": [],
   "source": [
    "w  = dict(zip(grafo_nx.edges() , itertools.repeat(1)))\n",
    "\n",
    "nx.set_edge_attributes(grafo_nx, w, \"weight\")\n",
    "\n",
    "assert 1 == np.unique(list(nx.get_edge_attributes(grafo_nx, \"weight\").values())).__len__()"
   ]
  },
  {
   "cell_type": "code",
   "execution_count": 5,
   "metadata": {},
   "outputs": [],
   "source": [
    "#grafo_nx.nodes.__len__()\n",
    "\n",
    "flux_samples_CONTROL_7_000  = pd.read_parquet(\"./results/fluxes/flux_samples_CONTROL_7_000.parquet.gzip\")\n",
    "flux_samples_PKU_7_000      = pd.read_parquet(\"./results/fluxes/flux_samples_PKU_7_000.parquet.gzip\")\n",
    "\n",
    "\n"
   ]
  },
  {
   "cell_type": "code",
   "execution_count": 6,
   "metadata": {},
   "outputs": [],
   "source": [
    "def get_sample_subset(full_samples, feature_data, label): \n",
    "\n",
    "\n",
    "    s = feature_data.label.value_counts()\n",
    "\n",
    "    sample_subset = full_samples.sample(s.loc[label], replace=True).reset_index(drop=True)\n",
    "\n",
    "    sample_subset[\"label\"] = label\n",
    "    \n",
    "    return sample_subset\n",
    "    \n",
    "    \n",
    "flux_samples_CONTROL = get_sample_subset(flux_samples_CONTROL_7_000, feature_data, 0)\n",
    "flux_samples_PKU     = get_sample_subset(flux_samples_PKU_7_000,     feature_data, 1)\n",
    "\n",
    "\n",
    "\n",
    "assert flux_samples_CONTROL.r0399.max() > 30 \n",
    "assert flux_samples_PKU.r0399.max() < 1\n",
    "\n",
    "\n",
    "\n",
    "#pd.concat([flux_samples_CONTROL, flux_samples_PKU], axis=1)\n",
    "\n",
    "all(flux_samples_CONTROL.columns == flux_samples_PKU.columns)\n",
    "\n",
    "\n",
    "\n",
    "flux_samples_CONTROL = flux_samples_CONTROL.reindex(columns=flux_samples_PKU.columns)\n",
    "\n",
    "\n",
    "\n",
    "flux_samples = pd.concat([flux_samples_CONTROL, flux_samples_PKU], axis=0)\n",
    "flux_samples = flux_samples.reset_index(drop=True, inplace=False)\n",
    "\n",
    "assert len(flux_samples.columns) == len(flux_samples_CONTROL.columns)\n",
    "assert len(feature_data) == len(flux_samples)\n",
    "assert flux_samples.r0399.loc[flux_samples.label == 0].mean() > 30\n",
    "assert flux_samples.r0399.loc[flux_samples.label == 1].mean() < 1\n",
    "\n"
   ]
  },
  {
   "cell_type": "code",
   "execution_count": 7,
   "metadata": {},
   "outputs": [],
   "source": [
    "\n",
    "\n",
    "def get_largest_cc(G):\n",
    "    \n",
    "  largest_wcc = max(nx.connected_components(nx.Graph(G)), key=len)\n",
    "\n",
    "\n",
    "  # Create a subgraph SG based on G\n",
    "  SG = G.__class__()\n",
    "  SG.add_nodes_from((n, G.nodes[n]) for n in largest_wcc)\n",
    "\n",
    "\n",
    "  SG.add_edges_from((n, nbr, d)\n",
    "      for n, nbrs in G.adj.items() if n in largest_wcc\n",
    "      for nbr, d in nbrs.items() if nbr in largest_wcc)\n",
    "\n",
    "  SG.graph.update(G.graph)\n",
    "\n",
    "  assert G.nodes.__len__() >= SG.nodes.__len__()\n",
    "  assert G.edges.__len__() >= SG.edges.__len__()\n",
    "  assert SG.nodes.__len__() == len(largest_wcc)\n",
    "  #assert not SG.is_directed() \n",
    "  assert nx.is_connected(nx.Graph(SG))\n",
    "\n",
    "  return copy.deepcopy(SG)\n",
    "#to_remove = pd.read_csv('./results/dataframes/to_remove.csv').loc[:,\"0\"].tolist()\n",
    "\n",
    "\n",
    "\n",
    "mets = ['nad_', 'nadh_', \"nadp_\", \"nadph_\", \"adp_\", \"atp_\", \"gdt_\", \"gtp_\",\n",
    "        \"pi_\", \"ppi_\", \"pppi_\", \"co2_\", \"hco3_\", \"h2o_\", \"h2o2_\", \"h_\", \"o2_\", \"oh1_\",\n",
    "        \"o2s_\", \"fad_\",  \"fadh2_\", \"nh4_\", \"so3_\", \"so4_\", \"cl_\", \"k_\", \"na1_\",\n",
    "        \"i_\", \"fe2_\", \"fe3_\", \"mg2_\", \"ca2\", \"zn2_\", \"M02382_\"]\n",
    "\n",
    "to_remove = []\n",
    "for m in mets:\n",
    "\n",
    "    to_remove.extend([\"\".join(l) for l in list(zip(itertools.repeat(m), list(model.compartments.keys())))])\n"
   ]
  },
  {
   "cell_type": "code",
   "execution_count": null,
   "metadata": {},
   "outputs": [],
   "source": [
    "\n",
    "grafo_nx.remove_nodes_from(to_remove)\n",
    "\n",
    "grafo_nx = get_largest_cc(grafo_nx)\n",
    "first_partition , second_partition = bipartite.sets(grafo_nx)\n",
    "\n"
   ]
  },
  {
   "cell_type": "code",
   "execution_count": 12,
   "metadata": {},
   "outputs": [],
   "source": [
    "\n",
    "nx.write_gpickle(grafo_nx, \"./results/graphs/NX_recon_graph.gpickle\")\n"
   ]
  },
  {
   "cell_type": "code",
   "execution_count": 7,
   "metadata": {},
   "outputs": [],
   "source": [
    "#import pandas as pd\n",
    "\n",
    "feature_data = feature_data.sort_values(by=['label'])\n",
    "feature_data.reset_index(drop=True, inplace=True)\n",
    "flux_samples = flux_samples.sort_values(by=['label'])\n",
    "flux_samples.reset_index(drop=True, inplace=True)\n",
    "assert all(feature_data.label == flux_samples.label)\n",
    "\n",
    "Labels = flux_samples.label\n",
    "\n",
    "\n",
    "\n",
    "flux_samples.drop(\"label\", axis=1, inplace=True)\n",
    "feature_data.drop(\"label\", axis=1, inplace=True)"
   ]
  },
  {
   "cell_type": "code",
   "execution_count": 8,
   "metadata": {},
   "outputs": [],
   "source": [
    "\n",
    "\n",
    "blank_features = pd.DataFrame(\n",
    "                    np.full((len(feature_data), list(grafo_nx.nodes).__len__()), 1e-5),  columns=list(grafo_nx.nodes)\n",
    "                    )\n",
    "blank_features.reset_index(drop=True, inplace=True)\n",
    "assert len(blank_features) == len(feature_data) == len(flux_samples)\n",
    "assert set(feature_data.columns).issubset(set(list(grafo_nx.nodes)))\n"
   ]
  },
  {
   "cell_type": "code",
   "execution_count": 9,
   "metadata": {},
   "outputs": [],
   "source": [
    "\n",
    "blank_features_dict = blank_features.to_dict(orient=\"list\")  \n",
    "flux_samples_dict   = flux_samples.to_dict(orient=\"list\")  \n",
    "concentrations_dict = feature_data.to_dict(orient=\"list\")  \n",
    "\n"
   ]
  },
  {
   "cell_type": "code",
   "execution_count": 10,
   "metadata": {},
   "outputs": [],
   "source": [
    "import copy\n",
    "#import pandas as pd\n",
    "def update_df_features(base, new):\n",
    "    \n",
    "    common_vars  = list(set(base.keys()).intersection(set(new)))\n",
    "    updated      = copy.deepcopy(base)\n",
    "    updated.update({key: new[key] for key in common_vars})\n",
    "    \n",
    "    return updated\n",
    "\n",
    "    \n",
    "features_only_fluxes_dict         = update_df_features(blank_features_dict, flux_samples_dict)\n",
    "features_only_concentrations_dict = update_df_features(blank_features_dict, concentrations_dict)\n",
    "full_features_dict = copy.deepcopy(concentrations_dict)\n",
    "full_features_dict.update(flux_samples_dict)  # = pd.concat([feature_data, flux_samples], axis= 1 )\n",
    "features_completed_dict = update_df_features(blank_features_dict, full_features_dict)"
   ]
  },
  {
   "cell_type": "code",
   "execution_count": 11,
   "metadata": {},
   "outputs": [],
   "source": [
    "assert flux_samples.r0399[Labels == 0].mean()    > 20\n",
    "assert flux_samples.r0399[Labels == 1].mean()    < 1\n",
    "assert feature_data.phe_L_c[Labels == 0].mean() < 50\n",
    "assert feature_data.phe_L_c[Labels == 1].mean() > 500\n",
    "assert all(features_completed_dict['r0399'] == features_only_fluxes_dict['r0399'] == flux_samples.r0399) \n",
    "assert all(features_completed_dict['phe_L_c'] == features_only_concentrations_dict['phe_L_c'] == feature_data.phe_L_c) "
   ]
  },
  {
   "cell_type": "code",
   "execution_count": 12,
   "metadata": {},
   "outputs": [],
   "source": [
    "\n",
    "def new_nx_from_dict(nx_G_in, feature_dict):\n",
    "    \n",
    "    nx_G        = copy.deepcopy(nx_G_in)    \n",
    "    x_attribute = feature_dict #nx.get_node_attributes(nx_G, \"x\")\n",
    "     \n",
    "    nx.set_node_attributes(nx_G, x_attribute, 'x')\n",
    "    \n",
    "    len(nx_G.nodes(data=True)['r0399']['x']) == len(nx_G.nodes(data=True)['phe_L_c']['x'])\n",
    "    assert nx_G.nodes(data=True)['phe_L_c']['x']  == feature_dict['phe_L_c']#.tolist() \n",
    "    assert nx_G.nodes(data=True)['r0399']['x']  == feature_dict['r0399']#.tolist() \n",
    "\n",
    "    \n",
    "    \n",
    "    return nx_G\n",
    "\n",
    "nx_features_only_concentrations = new_nx_from_dict(grafo_nx, features_only_concentrations_dict)  \n",
    "nx_features_only_fluxes         = new_nx_from_dict(grafo_nx, features_only_fluxes_dict)  \n",
    "nx_features_features_completed  = new_nx_from_dict(grafo_nx, features_completed_dict)  \n",
    "\n",
    "\n",
    "assert nx_features_only_concentrations.nodes(data=True)['r0399']['x']    != nx_features_only_fluxes.nodes(data=True)['r0399']['x'] \n",
    "assert nx_features_only_concentrations.nodes(data=True)['phe_L_c']['x']  != nx_features_only_fluxes.nodes(data=True)['phe_L_c']['x'] \n",
    "assert nx_features_features_completed.nodes(data=True)['phe_L_c']['x']  == nx_features_only_concentrations.nodes(data=True)['phe_L_c']['x'] \n",
    "assert nx_features_features_completed.nodes(data=True)['r0399']['x']    == nx_features_only_fluxes.nodes(data=True)['r0399']['x'] "
   ]
  },
  {
   "cell_type": "code",
   "execution_count": 13,
   "metadata": {},
   "outputs": [],
   "source": [
    "#grafo_nx_onlyConcen  = add_metabolite_concentration_features(grafo_nx, feature_data, feature_names)\n",
    "#print(f\"{set(feature_names.Recon3_ID) - set(list(grafo_nx_onlyConcen.nodes)).intersection(set(feature_names.Recon3_ID))} is not in Recon2\")\n",
    "\n",
    "pyg_graph_onlyConcen         = make_PYG_graph_from_grafo_nx(nx_features_only_concentrations)\n",
    "pyg_graph_onlyFluxes         = make_PYG_graph_from_grafo_nx(nx_features_only_fluxes)\n",
    "pyg_graph_Concen_plus_Fluxes = make_PYG_graph_from_grafo_nx(nx_features_features_completed)\n"
   ]
  },
  {
   "cell_type": "code",
   "execution_count": 15,
   "metadata": {},
   "outputs": [],
   "source": [
    "\n",
    "pyg_graph_onlyConcen.y               = torch.tensor(Labels).reshape(len(Labels),1)\n",
    "pyg_graph_onlyFluxes.y               = torch.tensor(Labels).reshape(len(Labels),1)\n",
    "pyg_graph_Concen_plus_Fluxes.y       = torch.tensor(Labels).reshape(len(Labels),1)\n",
    "\n",
    "torch.save(pyg_graph_onlyConcen, \"./results/graphs/PYG_graph_only_Concen.pt\")\n",
    "torch.save(pyg_graph_onlyFluxes, \"./results/graphs/PYG_graph_only_Fluxes.pt\")\n",
    "torch.save(pyg_graph_Concen_plus_Fluxes, \"./results/graphs/PYG_graph_Concen_plus_Fluxes.pt\")"
   ]
  }
 ],
 "metadata": {
  "kernelspec": {
   "display_name": "Python 3.9.13 ('geo')",
   "language": "python",
   "name": "python3"
  },
  "language_info": {
   "codemirror_mode": {
    "name": "ipython",
    "version": 3
   },
   "file_extension": ".py",
   "mimetype": "text/x-python",
   "name": "python",
   "nbconvert_exporter": "python",
   "pygments_lexer": "ipython3",
   "version": "3.9.15"
  },
  "orig_nbformat": 4,
  "vscode": {
   "interpreter": {
    "hash": "9ccb92c3caf64d15d8cccade25008a463e602c087926676408820d80b4769698"
   }
  }
 },
 "nbformat": 4,
 "nbformat_minor": 2
}
