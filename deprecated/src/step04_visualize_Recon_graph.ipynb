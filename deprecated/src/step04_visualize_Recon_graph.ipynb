{
 "cells": [
  {
   "cell_type": "code",
   "execution_count": 1,
   "metadata": {},
   "outputs": [
    {
     "name": "stderr",
     "output_type": "stream",
     "text": [
      "/DeepenData/.miniconda/envs/geo/lib/python3.9/site-packages/tqdm/auto.py:22: TqdmWarning: IProgress not found. Please update jupyter and ipywidgets. See https://ipywidgets.readthedocs.io/en/stable/user_install.html\n",
      "  from .autonotebook import tqdm as notebook_tqdm\n"
     ]
    }
   ],
   "source": [
    "from acevedo_clss_and_fcns import * \n",
    "\n",
    "\n",
    "G = nx.read_gpickle(\"./results/graphs/NX_recon_graph.gpickle\")\n",
    "assert nx.is_connected(G)\n",
    "assert 1 == np.unique(list(nx.get_edge_attributes(G, \"weight\").values())).__len__()"
   ]
  },
  {
   "cell_type": "code",
   "execution_count": 2,
   "metadata": {},
   "outputs": [],
   "source": [
    "metabolites = pd.read_csv(\"./metabolites_data/metabolite_names.csv\").Recon3_ID\n",
    "metabolites = metabolites[[m in list(G.nodes) for m in metabolites]].tolist()\n",
    "assert set(metabolites).issubset(set(list(G.nodes)))"
   ]
  },
  {
   "cell_type": "code",
   "execution_count": 3,
   "metadata": {},
   "outputs": [],
   "source": [
    "import re\n",
    "from itertools import compress\n",
    "size_feature = dict(zip(G, itertools.repeat(1)))\n",
    "\n",
    "mets_bool = [bool(re.search(\"crn_c|\\\\d+dc_c\", s)) for s in metabolites]\n",
    "\n",
    "\n",
    "AAs = list(compress(metabolites, np.invert(mets_bool)))\n",
    "ACs = list(compress(metabolites, mets_bool))\n",
    "\n",
    "size_feature.update(dict(zip(AAs, itertools.repeat(21))))\n",
    "size_feature.update(dict(zip(ACs, itertools.repeat(20))))\n",
    "\n",
    "assert size_feature[AAs[0]] == 21\n",
    "assert size_feature[ACs[0]] == 20\n",
    "nx.set_node_attributes(G, size_feature, \"size\")\n",
    "assert G.nodes[AAs[0]]['size']== 21\n",
    "assert G.nodes[ACs[0]]['size']== 20\n",
    "\n"
   ]
  },
  {
   "cell_type": "code",
   "execution_count": 4,
   "metadata": {},
   "outputs": [],
   "source": [
    "\n",
    "nx.write_gexf(G, \"./results/graphs/full_recon_2.gexf\")"
   ]
  }
 ],
 "metadata": {
  "kernelspec": {
   "display_name": "Python 3.9.13 ('geo')",
   "language": "python",
   "name": "python3"
  },
  "language_info": {
   "codemirror_mode": {
    "name": "ipython",
    "version": 3
   },
   "file_extension": ".py",
   "mimetype": "text/x-python",
   "name": "python",
   "nbconvert_exporter": "python",
   "pygments_lexer": "ipython3",
   "version": "3.9.13"
  },
  "orig_nbformat": 4,
  "vscode": {
   "interpreter": {
    "hash": "9ccb92c3caf64d15d8cccade25008a463e602c087926676408820d80b4769698"
   }
  }
 },
 "nbformat": 4,
 "nbformat_minor": 2
}
