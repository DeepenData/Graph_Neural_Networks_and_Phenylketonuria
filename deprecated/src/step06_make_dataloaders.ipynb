{
 "cells": [
  {
   "cell_type": "code",
   "execution_count": 1,
   "metadata": {},
   "outputs": [
    {
     "name": "stderr",
     "output_type": "stream",
     "text": [
      "/DeepenData/.miniconda/envs/geo/lib/python3.9/site-packages/tqdm/auto.py:22: TqdmWarning: IProgress not found. Please update jupyter and ipywidgets. See https://ipywidgets.readthedocs.io/en/stable/user_install.html\n",
      "  from .autonotebook import tqdm as notebook_tqdm\n"
     ]
    }
   ],
   "source": [
    "from acevedo_clss_and_fcns import *\n",
    "\n",
    "\n",
    "def make_graphs_list(pyg_graph_in,target_list, mask_target:bool=False, mask_number:float = 1e-5):\n",
    "    \n",
    "    pyg_graph = copy.deepcopy(pyg_graph_in)\n",
    "    graphs_list = []\n",
    "    \n",
    "    \n",
    "    for i in range(pyg_graph.x.shape[1]):\n",
    "    \n",
    "        \n",
    "        new_pyg_data  = Data(x =  pyg_graph.x[:,i].reshape(pyg_graph.num_nodes, 1),  y = pyg_graph.y[i], \n",
    "                            edge_index = pyg_graph.edge_index)\n",
    "        new_pyg_data.num_classes = 2\n",
    "        \n",
    "        \n",
    "        if mask_target:\n",
    "            for n in target_list:\n",
    "                new_pyg_data.x[n,:] = mask_number\n",
    "                #new_pyg_data.x[target_node_1,:] = mask_number\n",
    "                #new_pyg_data.x[target_node_2,:] = mask_number        \n",
    "        \n",
    "        graphs_list.append(new_pyg_data) \n",
    "    return graphs_list\n",
    "\n",
    "\n",
    "\n",
    "grafo_nx   = nx.read_gpickle( \"./results/graphs/NX_recon_graph.gpickle\")\n",
    "phe_L_c    = list(grafo_nx.nodes).index('phe_L_c')\n",
    "tyr_L_c    = list(grafo_nx.nodes).index('tyr_L_c')\n",
    "r0399      = list(grafo_nx.nodes).index('r0399')\n",
    "PHETHPTOX2 = list(grafo_nx.nodes).index('PHETHPTOX2')\n",
    "PYG_graph_only_Concen         = torch.load(\"./results/graphs/PYG_graph_only_Concen.pt\")\n",
    "PYG_graph_only_Fluxes          = torch.load(\"./results/graphs/PYG_graph_only_Fluxes.pt\")\n",
    "PYG_graph_Concen_plus_Fluxes  = torch.load(\"./results/graphs/PYG_graph_Concen_plus_Fluxes.pt\") "
   ]
  },
  {
   "cell_type": "code",
   "execution_count": 2,
   "metadata": {},
   "outputs": [],
   "source": [
    "\n",
    "\n",
    "graphs_list_PYG_graph_only_Concen        = make_graphs_list(PYG_graph_only_Concen, target_list = [phe_L_c, tyr_L_c], mask_target = True)\n",
    "graphs_list_PYG_graph_only_Fluxes        = make_graphs_list(PYG_graph_only_Fluxes, target_list = [r0399, PHETHPTOX2], mask_target = True)\n",
    "graphs_list_PYG_graph_Concen_plus_Fluxes = make_graphs_list(PYG_graph_Concen_plus_Fluxes, \n",
    "                                                            target_list = [phe_L_c, tyr_L_c, r0399, PHETHPTOX2], mask_target = True)\n",
    "\n",
    "\n",
    "loader_only_Concen                 = batch_loader(graphs_list_PYG_graph_only_Concen, batch_size= 4*32, validation_percent = .4)\n",
    "loader_only_Fluxes                 = batch_loader(graphs_list_PYG_graph_only_Fluxes, batch_size= 4*32, validation_percent = .4)\n",
    "loader_Concen_plus_Fluxes          = batch_loader(graphs_list_PYG_graph_Concen_plus_Fluxes, batch_size= 4*32, validation_percent = .4)\n",
    "\n",
    "torch.save(loader_only_Concen, \"./results/dataloaders/MASKED_loader_only_Concen.pt\")\n",
    "torch.save(loader_only_Fluxes, \"./results/dataloaders/MASKED_loader_only_Fluxes.pt\")\n",
    "torch.save(loader_Concen_plus_Fluxes, \"./results/dataloaders/MASKED_loader_Concen_plus_Fluxes.pt\")"
   ]
  }
 ],
 "metadata": {
  "kernelspec": {
   "display_name": "Python 3.9.13 ('geo')",
   "language": "python",
   "name": "python3"
  },
  "language_info": {
   "codemirror_mode": {
    "name": "ipython",
    "version": 3
   },
   "file_extension": ".py",
   "mimetype": "text/x-python",
   "name": "python",
   "nbconvert_exporter": "python",
   "pygments_lexer": "ipython3",
   "version": "3.9.15"
  },
  "orig_nbformat": 4,
  "vscode": {
   "interpreter": {
    "hash": "9ccb92c3caf64d15d8cccade25008a463e602c087926676408820d80b4769698"
   }
  }
 },
 "nbformat": 4,
 "nbformat_minor": 2
}
