{
 "cells": [
  {
   "cell_type": "code",
   "execution_count": 5,
   "metadata": {},
   "outputs": [
    {
     "data": {
      "text/plain": [
       "Index(['label', 'Phe', 'Met', 'Val', 'Leu.Ile', 'Tyr', 'Pro', 'Arg', 'Gly',\n",
       "       'Ala', 'Asp', 'Glu', 'Cit', 'Orn', 'SA', 'C0', 'C2', 'C3', 'C4',\n",
       "       'C4OH.C3DC', 'C5.OH.C4DC', 'C5', 'C5DC', 'C5.1', 'C6', 'C6DC', 'C8',\n",
       "       'C8.1', 'C10', 'C10.1', 'C10.2', 'C12', 'C12.1', 'C14', 'C14.1',\n",
       "       'C14.2', 'C14OH', 'C16', 'C16OH', 'C16.1', 'C16.1OH', 'C18', 'C18OH',\n",
       "       'C18.1', 'C18.1OH', 'C18.2'],\n",
       "      dtype='object')"
      ]
     },
     "execution_count": 5,
     "metadata": {},
     "output_type": "execute_result"
    }
   ],
   "source": [
    "#from acevedo_clss_and_fcns import *\n",
    "\n",
    "\n",
    "import pandas as pd\n",
    "from  sklearn import preprocessing \n",
    "\n",
    "\n",
    "df        = pd.read_parquet(\"./metabolites_data/metabolites_outliers_imputed.parquet.gzip\")\n",
    "col_names = df.select_dtypes(include=['float']).columns.__array__()\n",
    "X         = df.select_dtypes(include=['float']).__array__()\n",
    "le        = preprocessing.LabelEncoder()\n",
    "y         = le.fit_transform(df.Group.__array__())\n",
    "from imblearn.over_sampling import SMOTE\n",
    "X_resampled, y_resampled = SMOTE(k_neighbors =40, n_jobs=-1 ).fit_resample(X, y)\n",
    "\n",
    "aumented_data = pd.concat([ pd.DataFrame(y_resampled.astype(int), columns=['label']), pd.DataFrame(X_resampled, columns=col_names)], axis=1)\n",
    "\n",
    "#aumented_data.rename(columns={\"tir\": \"Tyr\", \"Glt\": \"Glu\"}, errors=\"raise\", inplace=True)\n",
    "\n",
    "aumented_data.columns"
   ]
  },
  {
   "cell_type": "code",
   "execution_count": 6,
   "metadata": {},
   "outputs": [],
   "source": [
    "aumented_data.to_parquet('./results/dataframes/concentrations/augmented_balanced_metabolite_data.parquet.gzip', compression='gzip')\n"
   ]
  }
 ],
 "metadata": {
  "kernelspec": {
   "display_name": "geo",
   "language": "python",
   "name": "python3"
  },
  "language_info": {
   "codemirror_mode": {
    "name": "ipython",
    "version": 3
   },
   "file_extension": ".py",
   "mimetype": "text/x-python",
   "name": "python",
   "nbconvert_exporter": "python",
   "pygments_lexer": "ipython3",
   "version": "3.9.15"
  },
  "orig_nbformat": 4,
  "vscode": {
   "interpreter": {
    "hash": "9ccb92c3caf64d15d8cccade25008a463e602c087926676408820d80b4769698"
   }
  }
 },
 "nbformat": 4,
 "nbformat_minor": 2
}
