{
 "cells": [
  {
   "cell_type": "markdown",
   "metadata": {},
   "source": [
    "# GNNs models"
   ]
  },
  {
   "cell_type": "code",
   "execution_count": 2,
   "metadata": {},
   "outputs": [],
   "source": [
    "from torch_geometric.nn.models import GIN\n",
    "from torch_geometric.nn.models import GAT\n",
    "from torch_geometric.nn.models import GCN"
   ]
  },
  {
   "cell_type": "code",
   "execution_count": 11,
   "metadata": {},
   "outputs": [
    {
     "name": "stdout",
     "output_type": "stream",
     "text": [
      "GAT(16, 4, num_layers=4)\n"
     ]
    }
   ],
   "source": [
    "num_features = 16\n",
    "hidden_dim   = 16\n",
    "num_layers   = 4\n",
    "out_channels = 4\n",
    "dropout      = 0.05\n",
    "\n",
    "\n",
    "GNN = \"GAT\"\n",
    "\n",
    "if GNN == \"GCN\":    \n",
    "    GNN_layers =  GCN(in_channels= num_features, hidden_channels= hidden_dim, num_layers= num_layers, \n",
    "                               out_channels= out_channels, dropout=dropout,  jk=None, act='LeakyReLU', act_first = False) \n",
    "    print(GNN_layers)\n",
    "    \n",
    "elif GNN == \"GAT\":        \n",
    "    GNN_layers =  GAT(in_channels= num_features, hidden_channels= hidden_dim, num_layers= num_layers, \n",
    "                               out_channels= out_channels, dropout=dropout,  jk=None, act='LeakyReLU', act_first = False) \n",
    "    print(GNN_layers)\n",
    "\n",
    "elif GNN == \"GIN\":\n",
    "    GNN_layers =  GIN(in_channels= num_features, hidden_channels= hidden_dim, num_layers= num_layers, \n",
    "                               out_channels= out_channels, dropout=dropout,  jk=None, act='LeakyReLU', act_first = False)\n",
    "    print(GNN_layers)\n",
    "\n",
    "\n",
    "\n",
    "\n",
    "\n",
    "\n"
   ]
  },
  {
   "cell_type": "markdown",
   "metadata": {},
   "source": [
    "## recon3 model"
   ]
  },
  {
   "cell_type": "code",
   "execution_count": 1,
   "metadata": {},
   "outputs": [
    {
     "name": "stderr",
     "output_type": "stream",
     "text": [
      "No defined compartments in model model. Compartments will be deduced heuristically using regular expressions.\n",
      "Using regular expression found the following compartments:c, e, g, i, l, m, n, r, x\n"
     ]
    },
    {
     "ename": "IndexError",
     "evalue": "list index out of range",
     "output_type": "error",
     "traceback": [
      "\u001b[0;31m---------------------------------------------------------------------------\u001b[0m",
      "\u001b[0;31mIndexError\u001b[0m                                Traceback (most recent call last)",
      "Cell \u001b[0;32mIn [1], line 3\u001b[0m\n\u001b[1;32m      1\u001b[0m \u001b[39mfrom\u001b[39;00m \u001b[39mcobra\u001b[39;00m\u001b[39m.\u001b[39;00m\u001b[39mio\u001b[39;00m\u001b[39m.\u001b[39;00m\u001b[39mmat\u001b[39;00m \u001b[39mimport\u001b[39;00m load_matlab_model\n\u001b[0;32m----> 3\u001b[0m load_matlab_model(\u001b[39m\"\u001b[39;49m\u001b[39m./COBRA_models/GEM_Recon3_thermocurated_redHUMAN.mat\u001b[39;49m\u001b[39m\"\u001b[39;49m, variable_name\u001b[39m=\u001b[39;49m \u001b[39m\"\u001b[39;49m\u001b[39mmodel\u001b[39;49m\u001b[39m\"\u001b[39;49m)\n",
      "File \u001b[0;32m/DeepenData/.miniconda/envs/cobra/lib/python3.10/site-packages/cobra/io/mat.py:337\u001b[0m, in \u001b[0;36mload_matlab_model\u001b[0;34m(infile_path, variable_name, inf)\u001b[0m\n\u001b[1;32m    335\u001b[0m         variable_name \u001b[39m=\u001b[39m possible_names[\u001b[39m0\u001b[39m]\n\u001b[1;32m    336\u001b[0m \u001b[39melif\u001b[39;00m variable_name \u001b[39mis\u001b[39;00m \u001b[39mnot\u001b[39;00m \u001b[39mNone\u001b[39;00m:\n\u001b[0;32m--> 337\u001b[0m     \u001b[39mreturn\u001b[39;00m from_mat_struct(data[variable_name], model_id\u001b[39m=\u001b[39;49mvariable_name, inf\u001b[39m=\u001b[39;49minf)\n\u001b[1;32m    339\u001b[0m \u001b[39mfor\u001b[39;00m possible_name \u001b[39min\u001b[39;00m possible_names:\n\u001b[1;32m    340\u001b[0m     \u001b[39mtry\u001b[39;00m:\n",
      "File \u001b[0;32m/DeepenData/.miniconda/envs/cobra/lib/python3.10/site-packages/cobra/io/mat.py:896\u001b[0m, in \u001b[0;36mfrom_mat_struct\u001b[0;34m(mat_struct, model_id, inf)\u001b[0m\n\u001b[1;32m    894\u001b[0m         new_reaction\u001b[39m.\u001b[39mgene_reaction_rule \u001b[39m=\u001b[39m rxn_gene_rules[i]\n\u001b[1;32m    895\u001b[0m     new_reactions\u001b[39m.\u001b[39mappend(new_reaction)\n\u001b[0;32m--> 896\u001b[0m mat_parse_annotations(new_reactions, m, d_replace\u001b[39m=\u001b[39;49mDICT_REACTION)\n\u001b[1;32m    897\u001b[0m \u001b[39m# TODO - When cobrapy.notes are revised not be a dictionary (possibly when\u001b[39;00m\n\u001b[1;32m    898\u001b[0m \u001b[39m#  annotations are fully SBML compliant, revise this function.\u001b[39;00m\n\u001b[1;32m    899\u001b[0m mat_parse_notes(new_reactions, m, d_replace\u001b[39m=\u001b[39mDICT_REACTION_NOTES)\n",
      "File \u001b[0;32m/DeepenData/.miniconda/envs/cobra/lib/python3.10/site-packages/cobra/io/mat.py:441\u001b[0m, in \u001b[0;36mmat_parse_annotations\u001b[0;34m(target_list, mat_struct, d_replace)\u001b[0m\n\u001b[1;32m    434\u001b[0m         annotations[name] \u001b[39m=\u001b[39m [\n\u001b[1;32m    435\u001b[0m             [y\u001b[39m.\u001b[39mstrip() \u001b[39mfor\u001b[39;00m y \u001b[39min\u001b[39;00m each_cell\u001b[39m.\u001b[39msplit(\u001b[39m\"\u001b[39m\u001b[39m, \u001b[39m\u001b[39m\"\u001b[39m)] \u001b[39mif\u001b[39;00m each_cell \u001b[39melse\u001b[39;00m \u001b[39mNone\u001b[39;00m\n\u001b[1;32m    436\u001b[0m             \u001b[39mfor\u001b[39;00m each_cell \u001b[39min\u001b[39;00m _cell_to_str_list(\n\u001b[1;32m    437\u001b[0m                 mat_struct[caseunfold[mat_key]][\u001b[39m0\u001b[39m, \u001b[39m0\u001b[39m]\n\u001b[1;32m    438\u001b[0m             )\n\u001b[1;32m    439\u001b[0m         ]\n\u001b[1;32m    440\u001b[0m \u001b[39mfor\u001b[39;00m i, obj \u001b[39min\u001b[39;00m \u001b[39menumerate\u001b[39m(target_list):\n\u001b[0;32m--> 441\u001b[0m     obj\u001b[39m.\u001b[39mannotation \u001b[39m=\u001b[39m {\n\u001b[1;32m    442\u001b[0m         prov: annotations[prov][i] \u001b[39mfor\u001b[39;00m prov \u001b[39min\u001b[39;00m providers \u001b[39mif\u001b[39;00m annotations[prov][i]\n\u001b[1;32m    443\u001b[0m     }\n",
      "File \u001b[0;32m/DeepenData/.miniconda/envs/cobra/lib/python3.10/site-packages/cobra/io/mat.py:442\u001b[0m, in \u001b[0;36m<dictcomp>\u001b[0;34m(.0)\u001b[0m\n\u001b[1;32m    434\u001b[0m         annotations[name] \u001b[39m=\u001b[39m [\n\u001b[1;32m    435\u001b[0m             [y\u001b[39m.\u001b[39mstrip() \u001b[39mfor\u001b[39;00m y \u001b[39min\u001b[39;00m each_cell\u001b[39m.\u001b[39msplit(\u001b[39m\"\u001b[39m\u001b[39m, \u001b[39m\u001b[39m\"\u001b[39m)] \u001b[39mif\u001b[39;00m each_cell \u001b[39melse\u001b[39;00m \u001b[39mNone\u001b[39;00m\n\u001b[1;32m    436\u001b[0m             \u001b[39mfor\u001b[39;00m each_cell \u001b[39min\u001b[39;00m _cell_to_str_list(\n\u001b[1;32m    437\u001b[0m                 mat_struct[caseunfold[mat_key]][\u001b[39m0\u001b[39m, \u001b[39m0\u001b[39m]\n\u001b[1;32m    438\u001b[0m             )\n\u001b[1;32m    439\u001b[0m         ]\n\u001b[1;32m    440\u001b[0m \u001b[39mfor\u001b[39;00m i, obj \u001b[39min\u001b[39;00m \u001b[39menumerate\u001b[39m(target_list):\n\u001b[1;32m    441\u001b[0m     obj\u001b[39m.\u001b[39mannotation \u001b[39m=\u001b[39m {\n\u001b[0;32m--> 442\u001b[0m         prov: annotations[prov][i] \u001b[39mfor\u001b[39;00m prov \u001b[39min\u001b[39;00m providers \u001b[39mif\u001b[39;00m annotations[prov][i]\n\u001b[1;32m    443\u001b[0m     }\n",
      "\u001b[0;31mIndexError\u001b[0m: list index out of range"
     ]
    }
   ],
   "source": [
    "from cobra.io.mat import load_matlab_model\n",
    "\n",
    "load_matlab_model(\"./COBRA_models/GEM_Recon3_thermocurated_redHUMAN.mat\", variable_name= \"model\")"
   ]
  },
  {
   "cell_type": "code",
   "execution_count": 2,
   "metadata": {},
   "outputs": [
    {
     "data": {
      "text/html": [
       "\n",
       "        <table>\n",
       "            <tr>\n",
       "                <td><strong>Name</strong></td>\n",
       "                <td>model</td>\n",
       "            </tr><tr>\n",
       "                <td><strong>Memory address</strong></td>\n",
       "                <td>7f84f19adc00</td>\n",
       "            </tr><tr>\n",
       "                <td><strong>Number of metabolites</strong></td>\n",
       "                <td>5063</td>\n",
       "            </tr><tr>\n",
       "                <td><strong>Number of reactions</strong></td>\n",
       "                <td>7440</td>\n",
       "            </tr><tr>\n",
       "                <td><strong>Number of genes</strong></td>\n",
       "                <td>2140</td>\n",
       "            </tr><tr>\n",
       "                <td><strong>Number of groups</strong></td>\n",
       "                <td>100</td>\n",
       "            </tr><tr>\n",
       "                <td><strong>Objective expression</strong></td>\n",
       "                <td>1.0*biomass - 1.0*biomass_reverse_01e59</td>\n",
       "            </tr><tr>\n",
       "                <td><strong>Compartments</strong></td>\n",
       "                <td>c, l, m, r, e, x, n, g</td>\n",
       "            </tr>\n",
       "          </table>"
      ],
      "text/plain": [
       "<Model model at 0x7f84f19adc00>"
      ]
     },
     "execution_count": 2,
     "metadata": {},
     "output_type": "execute_result"
    }
   ],
   "source": [
    "model"
   ]
  }
 ],
 "metadata": {
  "kernelspec": {
   "display_name": "Python 3.9.13 ('geo')",
   "language": "python",
   "name": "python3"
  },
  "language_info": {
   "codemirror_mode": {
    "name": "ipython",
    "version": 3
   },
   "file_extension": ".py",
   "mimetype": "text/x-python",
   "name": "python",
   "nbconvert_exporter": "python",
   "pygments_lexer": "ipython3",
   "version": "3.9.13"
  },
  "orig_nbformat": 4,
  "vscode": {
   "interpreter": {
    "hash": "9ccb92c3caf64d15d8cccade25008a463e602c087926676408820d80b4769698"
   }
  }
 },
 "nbformat": 4,
 "nbformat_minor": 2
}
