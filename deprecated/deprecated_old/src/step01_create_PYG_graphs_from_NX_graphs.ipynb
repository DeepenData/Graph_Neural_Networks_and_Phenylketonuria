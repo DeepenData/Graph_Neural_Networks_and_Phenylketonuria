{
 "cells": [
  {
   "cell_type": "code",
   "execution_count": 1,
   "metadata": {},
   "outputs": [
    {
     "name": "stderr",
     "output_type": "stream",
     "text": [
      "/DeepenData/.miniconda/envs/geo/lib/python3.9/site-packages/tqdm/auto.py:22: TqdmWarning: IProgress not found. Please update jupyter and ipywidgets. See https://ipywidgets.readthedocs.io/en/stable/user_install.html\n",
      "  from .autonotebook import tqdm as notebook_tqdm\n"
     ]
    },
    {
     "name": "stdout",
     "output_type": "stream",
     "text": [
      "Scaling...\n",
      " A: min|aij| =  1.000e+00  max|aij| =  1.000e+00  ratio =  1.000e+00\n",
      "Problem data seem to be well scaled\n"
     ]
    }
   ],
   "source": [
    "from acevedo_clss_and_fcns import * \n",
    "model                                 = load_json_model(\"./COBRA_models/GEM_Recon2_thermocurated_redHUMAN.json\")\n",
    "feature_data                          = pd.read_parquet(\"./results/data/oversampled_augmented_metabolite_data.parquet.gzip\")#\n",
    "feature_names                         = pd.read_csv(\"./results/data/metabolite_names.csv\")\n",
    "grafo_nx             = cobra_to_networkx(model)\n"
   ]
  },
  {
   "cell_type": "code",
   "execution_count": 2,
   "metadata": {},
   "outputs": [],
   "source": [
    "to_remove = [\n",
    "'nad_c', 'nad_l', 'nad_m', 'nad_r', 'nad_e', 'nad_x', 'nad_n', 'nad_g',\n",
    "'nadh_c', 'nadh_l', 'nadh_m', 'nadh_r', 'nadh_e', 'nadh_x', 'nadh_n', 'nadh_g',\n",
    "'nadp_c', 'nadp_l', 'nadp_m', 'nadp_r', 'nadp_e', 'nadp_x', 'nadp_n', 'nadp_g',\n",
    "'nadph_c', 'nadph_l', 'nadph_m', 'nadph_r', 'nadph_e', 'nadph_x', 'nadph_n', 'nadph_g',\n",
    "\n",
    "'atp_c', 'atp_l', 'atp_m', 'atp_r', 'atp_e', 'atp_x', 'atp_n', 'atp_g',\n",
    "'adp_c', 'adp_l', 'adp_m', 'adp_r', 'adp_e', 'adp_x', 'adp_n', 'adp_g',\n",
    "\n",
    "'gtp_c', 'gtp_l', 'gtp_m', 'gtp_r', 'gtp_e', 'gtp_x', 'gtp_n', 'gtp_g',\n",
    "'gdp_c', 'gdp_l', 'gdp_m', 'gdp_r', 'gdp_e', 'gdp_x', 'gdp_n', 'gdp_g',\n",
    "\n",
    "'pi_c', 'pi_l', 'pi_m', 'pi_r', 'pi_e', 'pi_x', 'pi_n', 'pi_g',\n",
    "'ppi_c', 'ppi_l', 'ppi_m', 'ppi_r', 'ppi_e', 'ppi_x', 'ppi_n', 'ppi_g',\n",
    "'pppi_c', 'pppi_l', 'pppi_m', 'pppi_r', 'pppi_e', 'pppi_x', 'pppi_n', 'pppi_g',\n",
    "\n",
    "#'coa_c', 'coa_l', 'coa_m', 'coa_r', 'coa_e', 'coa_x', 'coa_n', 'coa_g',\n",
    "'co2_c' , 'co2_l' , 'co2_m' , 'co2_r' , 'co2_e' , 'co2_x' , 'co2_n' , 'co2_g' ,\n",
    "\n",
    "'h2o_c', 'h2o_l', 'h2o_m', 'h2o_r', 'h2o_e', 'h2o_x', 'h2o_n', 'h2o_g',\n",
    "'h_c', 'h_l', 'h_m', 'h_r', 'h_e', 'h_x', 'h_n', 'h_g',\n",
    "\n",
    "'fad_c', 'fad_l', 'fad_m', 'fad_r', 'fad_e', 'fad_x', 'fad_n', 'fad_g',\n",
    "'fadh2_c', 'fadh2_l', 'fadh2_m', 'fadh2_r', 'fadh2_e', 'fadh2_x', 'fadh2_n', 'fadh2_g',\n",
    "\n",
    "'nh4_c', 'nh4_l', 'nh4_m', 'nh4_r', 'nh4_e', 'nh4_x', 'nh4_n', 'nh4_g',\n",
    "'so4_c', 'so4_l', 'so4_m', 'so4_r', 'so4_e', 'so4_x', 'so4_n', 'so4_g',\n",
    "'hco3_c', 'hco3_l', 'hco3_m', 'hco3_r', 'hco3_e', 'hco3_x', 'hco3_n', 'hco3_g',\n",
    "\n",
    "'o2_c'  , 'o2_l' ,  'o2_m' ,  'o2_r' ,  'o2_e' , 'o2_x' , 'o2_n' , 'o2_g' , \n",
    "'h2o2_c', 'h2o2_l', 'h2o2_m', 'h2o2_r', 'h2o2_e', 'h2o2_x', 'h2o2_n', 'h2o2_g',\n",
    "'o2s_c', 'o2s_l', 'o2s_m', 'o2s_r', 'o2s_e', 'o2s_x', 'o2s_n', 'o2s_g',\n",
    "\n",
    "'cl_c', 'cl_l', 'cl_m', 'cl_r', 'cl_e', 'cl_x', 'cl_n', 'cl_g',\n",
    "'k_c', 'k_l', 'k_m', 'k_r', 'k_e', 'k_x', 'k_n', 'k_g',\n",
    "\n",
    "'na1_c', 'na1_l', 'na1_m', 'na1_r', 'na1_e', 'na1_x', 'na1_n', 'na1_g',\n",
    "'i_c', 'i_l', 'i_m', 'i_r', 'i_e', 'i_x', 'i_n', 'i_g',\n",
    "'biomass'\n",
    "]"
   ]
  },
  {
   "cell_type": "markdown",
   "metadata": {},
   "source": [
    "## Add metabolite concentrations"
   ]
  },
  {
   "cell_type": "code",
   "execution_count": 3,
   "metadata": {},
   "outputs": [],
   "source": [
    "\n",
    "grafo_nx_onlyConcen  = add_metabolite_concentration_features(grafo_nx, feature_data, feature_names)\n",
    "\n",
    "\n",
    "def get_largest_cc(G):\n",
    "    \n",
    "  largest_wcc = max(nx.connected_components(nx.Graph(G)), key=len)\n",
    "\n",
    "\n",
    "  # Create a subgraph SG based on G\n",
    "  SG = G.__class__()\n",
    "  SG.add_nodes_from((n, G.nodes[n]) for n in largest_wcc)\n",
    "\n",
    "\n",
    "  SG.add_edges_from((n, nbr, d)\n",
    "      for n, nbrs in G.adj.items() if n in largest_wcc\n",
    "      for nbr, d in nbrs.items() if nbr in largest_wcc)\n",
    "\n",
    "  SG.graph.update(G.graph)\n",
    "\n",
    "  assert G.nodes.__len__() >= SG.nodes.__len__()\n",
    "  assert G.edges.__len__() >= SG.edges.__len__()\n",
    "  assert SG.nodes.__len__() == len(largest_wcc)\n",
    "  #assert not SG.is_directed() \n",
    "  assert nx.is_connected(nx.Graph(SG))\n",
    "\n",
    "  return copy.deepcopy(SG)\n",
    "grafo_nx_onlyConcen.remove_nodes_from(to_remove)\n",
    "\n",
    "grafo_nx_onlyConcen = get_largest_cc(grafo_nx_onlyConcen)\n",
    "\n",
    "\n",
    "pyg_graph_onlyConcen = make_PYG_graph_from_grafo_nx(grafo_nx_onlyConcen)"
   ]
  },
  {
   "cell_type": "code",
   "execution_count": 4,
   "metadata": {},
   "outputs": [],
   "source": [
    "labels                 = torch.tensor(feature_data.label).reshape(len(feature_data.label),1)\n",
    "pyg_graph_onlyConcen.y = labels\n",
    "torch.save(pyg_graph_onlyConcen, \"./results/graphs_from_PYG_and_NX/PYG_graph_only_Concen.pt\")"
   ]
  },
  {
   "cell_type": "markdown",
   "metadata": {},
   "source": [
    "## Add fluxes"
   ]
  },
  {
   "cell_type": "code",
   "execution_count": 5,
   "metadata": {},
   "outputs": [],
   "source": [
    "\n",
    "#flux_samples                = pd.read_parquet( \"./results/data/flux_samples.parquet.gzip\")\n",
    "flux_samples  = pd.read_parquet(\"./results/data/flux_samples/flux_samples_v2_10_000.parquet.gzip\")\n"
   ]
  },
  {
   "cell_type": "code",
   "execution_count": 6,
   "metadata": {},
   "outputs": [],
   "source": [
    "\n",
    "\n",
    "grafo_nx_Concen_plus_Fluxes = add_flux_features(grafo_nx_onlyConcen, flux_samples, feature_data)"
   ]
  },
  {
   "cell_type": "code",
   "execution_count": 7,
   "metadata": {},
   "outputs": [],
   "source": [
    "pyg_graph_Concen_plus_Fluxes = make_PYG_graph_from_grafo_nx(grafo_nx_Concen_plus_Fluxes)"
   ]
  },
  {
   "cell_type": "code",
   "execution_count": 8,
   "metadata": {},
   "outputs": [],
   "source": [
    "pyg_graph_Concen_plus_Fluxes.y = labels\n",
    "torch.save(pyg_graph_Concen_plus_Fluxes, \"./results/graphs_from_PYG_and_NX/PYG_graph_Concen_plus_Fluxes.pt\")"
   ]
  },
  {
   "cell_type": "code",
   "execution_count": 9,
   "metadata": {},
   "outputs": [],
   "source": [
    "list(grafo_nx_Concen_plus_Fluxes.nodes).index('phe_L_c')\n",
    "\n",
    "\n",
    "nx.write_gpickle(grafo_nx_Concen_plus_Fluxes, \"./results/graphs_from_PYG_and_NX/grafo_nx_Concen_plus_Fluxes.gpickle\")"
   ]
  },
  {
   "cell_type": "code",
   "execution_count": null,
   "metadata": {},
   "outputs": [],
   "source": []
  }
 ],
 "metadata": {
  "kernelspec": {
   "display_name": "Python 3.9.13 ('geo')",
   "language": "python",
   "name": "python3"
  },
  "language_info": {
   "codemirror_mode": {
    "name": "ipython",
    "version": 3
   },
   "file_extension": ".py",
   "mimetype": "text/x-python",
   "name": "python",
   "nbconvert_exporter": "python",
   "pygments_lexer": "ipython3",
   "version": "3.9.13"
  },
  "orig_nbformat": 4,
  "vscode": {
   "interpreter": {
    "hash": "9ccb92c3caf64d15d8cccade25008a463e602c087926676408820d80b4769698"
   }
  }
 },
 "nbformat": 4,
 "nbformat_minor": 2
}
